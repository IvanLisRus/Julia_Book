{
 "cells": [
  {
   "cell_type": "markdown",
   "metadata": {},
   "source": [
    "<div style=\"text-align: left;\"><img src=\"https://www.juliabox.org/assets/img/juliacloudlogo.png\" style=\"margin: 0px 0px 0px 0px; padding-right: 20px;width: 80px; float: left;\" title=\"\" alt=\"\" /></div>\n",
    "<img src=\"http://dmkpress.com/images/cms/thumbs/a5b0aeaa3fa7d6e58d75710c18673bd7ec6d5f6d/978-5-97060-370-3_270_369__100.jpg\" style=\"margin: 0px 0px 5px 20px; width: 100px; float: right;\" title=\"\" alt=\"\" />\n",
    "Всестороннее введение в новый язык программирования для научно-технических вычислений [Julia](http://julialang.org/) в книге Малколма Шеррингтона, Packt Publishing, июль 2015.\n",
    "\n",
    "<h1>Осваиваем язык Julia</h1><br />\n",
    "\n",
    "Совершенствование мастерства в области аналитики и программирования при помощи Julia в целях решения задач комплексной обработки данных\n",
    "<div style=\"text-align: left;font-size:8pt;padding-top:10px;\">Программный код Julia (v0.4.5) протестирован в Windows 8.1/10 и Linux/Lubuntu 16.4</div>\n",
    "<div style=\"text-align: left;\"><h1>Глава 8. Базы данных</h1></div>"
   ]
  },
  {
   "cell_type": "markdown",
   "metadata": {},
   "source": [
    "## REST Books"
   ]
  },
  {
   "cell_type": "code",
   "execution_count": 1,
   "metadata": {
    "collapsed": false
   },
   "outputs": [
    {
     "name": "stdout",
     "output_type": "stream",
     "text": [
      "Harry Potter and the Philosopher's Stone, автор: J. K. Rowling\n",
      "Опубликовано: Bloomsbury Publishing (2014-09-01), кво страниц: 224"
     ]
    }
   ],
   "source": [
    "#\n",
    "# rest_books.jl\n",
    "#\n",
    "\n",
    "using Requests\n",
    "#import Requests: get, post, put, delete, options\n",
    "using JSON\n",
    "\n",
    "api = \"https://www.googleapis.com/books/v1/volumes\"\n",
    "url = api * \"?q=isbn:1408855895\";\n",
    "\n",
    "uu = get(url);\n",
    "\n",
    "json = JSON.parse(bytestring(uu.data));\n",
    "\n",
    "volumeInfo = json[\"items\"][1][\"volumeInfo\"];\n",
    "title = volumeInfo[\"title\"];\n",
    "author = volumeInfo[\"authors\"][1];\n",
    "publisher = volumeInfo[\"publisher\"];\n",
    "pubdate = volumeInfo[\"publishedDate\"];\n",
    "ppcount = volumeInfo[\"pageCount\"];\n",
    "\n",
    "@printf \"%s, автор: %s\\nОпубликовано: %s (%s), кво страниц: %d\" title author publisher pubdate ppcount"
   ]
  },
  {
   "cell_type": "code",
   "execution_count": null,
   "metadata": {
    "collapsed": true
   },
   "outputs": [],
   "source": []
  }
 ],
 "metadata": {
  "kernelspec": {
   "display_name": "Julia 0.4.5",
   "language": "julia",
   "name": "julia-0.4"
  },
  "language_info": {
   "file_extension": ".jl",
   "mimetype": "application/julia",
   "name": "julia",
   "version": "0.4.5"
  }
 },
 "nbformat": 4,
 "nbformat_minor": 0
}
