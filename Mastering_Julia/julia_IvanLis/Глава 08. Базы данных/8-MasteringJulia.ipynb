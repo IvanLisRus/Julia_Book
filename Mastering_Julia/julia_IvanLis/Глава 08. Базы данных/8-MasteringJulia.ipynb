{
 "cells": [
  {
   "cell_type": "markdown",
   "metadata": {},
   "source": [
    "<script src=\"https://use.fontawesome.com/2e576da815.js\"></script>"
   ]
  },
  {
   "cell_type": "markdown",
   "metadata": {},
   "source": [
    "<div style=\"text-align: left;\"><img src=\"https://www.juliabox.org/assets/img/juliacloudlogo.png\" style=\"margin: 0px 0px 0px 0px; padding-right: 20px;width: 80px; float: left;\" title=\"\" alt=\"\" /></div>\n",
    "<img src=\"http://dmkpress.com/images/cms/thumbs/a5b0aeaa3fa7d6e58d75710c18673bd7ec6d5f6d/978-5-97060-370-3_270_369__100.jpg\" style=\"margin: 0px 0px 5px 20px; width: 100px; float: right;\" title=\"\" alt=\"\" />\n",
    "Всестороннее введение в новый язык программирования для научно-технических вычислений [Julia](http://julialang.org/) в книге Малколма Шеррингтона, Packt Publishing, июль 2015.\n",
    "\n",
    "<h1>Осваиваем язык Julia</h1><br />\n",
    "\n",
    "Совершенствование мастерства в области аналитики и программирования при помощи Julia в целях решения задач комплексной обработки данных\n",
    "<div style=\"text-align: left;font-size:8pt;padding-top:10px;\">Программный код Julia (v0.4.5) протестирован в Windows 8.1/10 и Linux/Lubuntu 16.4</div>\n",
    "<div style=\"text-align: left;\"><h1>Глава 8. Базы данных</h1></div>"
   ]
  },
  {
   "cell_type": "markdown",
   "metadata": {
    "collapsed": true
   },
   "source": [
    "## Реляционные базы данных\n",
    "### Сборка и загрузка"
   ]
  },
  {
   "cell_type": "raw",
   "metadata": {},
   "source": [
    "# build.sql\n",
    "\n",
    "create table categories (\n",
    "  id integer not null,\n",
    "  catname varchar(40) not null,\n",
    "  primary key(id)\n",
    ");\n",
    "\n",
    "create table quotes (\n",
    "  id integer not null,\n",
    "  cid integer not null,\n",
    "  author varchar(100),\n",
    "  quoname varchar(250) not null,\n",
    "  primary key(id)\n",
    ");"
   ]
  },
  {
   "cell_type": "markdown",
   "metadata": {},
   "source": [
    "<span style=\"font-family:Consolas, monospace; font-weight:bold\">julia<i class=\"fa fa-terminal\" aria-hidden=\"true\"></i></span>"
   ]
  },
  {
   "cell_type": "code",
   "execution_count": null,
   "metadata": {
    "collapsed": true
   },
   "outputs": [],
   "source": [
    "#! /Users/malcolm/bin/julia\n",
    "#\n",
    "# etl.jl\n",
    "#\n",
    "\n",
    "# Проверить число аргументов, вывести описание, если не 1 или 2..\n",
    "\n",
    "nargs = length(ARGS);\n",
    "\n",
    "if nargs == 0 || nargs > 2 \n",
    "    println(\"использование: etl.jl входной_файл [выходной_файл]\");\n",
    "    exit(); \n",
    "end\n",
    "\n",
    "# Первый аргумент - входной файл\n",
    "# Второй (необязательный) - выходной файл, иначе направить в STDOUT\n",
    "\n",
    "infile = ARGS[1];\n",
    "\n",
    "if nargs == 2 \n",
    "   outfile = ARGS[2];\n",
    "   try \n",
    "      outf = open(outfile,\"w\");\n",
    "   catch\n",
    "      error(\"Не могу создать выходной файл: \", outfile);\n",
    "   end\n",
    "else\n",
    "   outf = STDOUT;\n",
    "end\n",
    "\n",
    "# Функция-однострочник для удвоения одинарных кавычек\n",
    "escticks(s) = replace(s,\"'\",\"''\");\n",
    "\n",
    "# Считать весь файл в матрицу, первая размерность – это число строк\n",
    "qq = readdlm(infile,'\\t');\n",
    "n = size(qq)[1];\n",
    "\n",
    "# Будем хранить все категории в словаре\n",
    "j = 0;\n",
    "cats = Dict{AbstractString,Int64}();\n",
    "\n",
    "# Основной цикл загрузки таблицы цитат\n",
    "for i = 1:n\n",
    "  cat = qq[i,1];\n",
    "  if haskey(cats,cat)\n",
    "    jd = cats[cat];\n",
    "  else\n",
    "    j = j + 1; jd = j;\n",
    "    cats[cat] = jd;\n",
    "  end\n",
    "  sql = \"insert into quotes values($i,$jd,\";  \n",
    "  if (length(qq[i,2]) > 0)\n",
    "    sql *= string(\"'\", escticks(qq[i,2]), \"',\");\n",
    "  else\n",
    "    sql *= string(\"null,\");  \n",
    "  end\n",
    "  sql *= string(\"'\", escticks(qq[i,3]), \"');\");\n",
    "  write(outf,\"$sql\\n\");\n",
    "end\n",
    "\n",
    "# Теперь выдадим категории\n",
    "for cat = keys(cats)\n",
    "  jd = cats[cat];\n",
    "  write(outf,\"insert into categories values($jd,'$cat');\\n\");  \n",
    "end\n",
    "\n",
    "close(outf);  # если выходной_файл = STDOUT, то не даст никаких результатов "
   ]
  },
  {
   "cell_type": "code",
   "execution_count": 8,
   "metadata": {
    "collapsed": false
   },
   "outputs": [
    {
     "name": "stdout",
     "output_type": "stream",
     "text": [
      "SQL-закрузчик успешно записан на диск.\n"
     ]
    }
   ],
   "source": [
    "## Перевод данных из файла с разделителями в файл загрузки в базу данных\n",
    "\n",
    "home    = homedir()\n",
    "jp      = \"julia_projects\"\n",
    "\n",
    "infile  = joinpath(home,jp,\"data\",\"quotes.tsv\")\n",
    "outfile = joinpath(home,jp,\"data\",\"loader_ex.sql\")\n",
    "runfile = joinpath(home,jp,\"code\",\"etl.jl\")\n",
    "\n",
    "run(`julia $(runfile) $(infile) $(outfile)`)\n",
    "println(\"SQL-закрузчик успешно записан на диск.\")"
   ]
  },
  {
   "cell_type": "markdown",
   "metadata": {},
   "source": [
    "### Нативные интерфейсы"
   ]
  },
  {
   "cell_type": "code",
   "execution_count": 1,
   "metadata": {
    "collapsed": false
   },
   "outputs": [
    {
     "name": "stdout",
     "output_type": "stream",
     "text": [
      "\n"
     ]
    },
    {
     "data": {
      "text/plain": [
       "Data.Table:\n",
       "1x1 Data.Schema:\n",
       " count(*)\n",
       "    Int64\n",
       "\tColumn Data:\n",
       "\t[36]"
      ]
     },
     "execution_count": 1,
     "metadata": {},
     "output_type": "execute_result"
    },
    {
     "name": "stdout",
     "output_type": "stream",
     "text": [
      "\n"
     ]
    }
   ],
   "source": [
    "cd(joinpath(homedir(),\"julia_projects\",\"data\"))\n",
    "\n",
    "using SQLite\n",
    "\n",
    "db = SQLite.DB(\"quotes.db\")\n",
    "res = query(db,\"select count(*) from quotes\");\n",
    "res"
   ]
  },
  {
   "cell_type": "code",
   "execution_count": 2,
   "metadata": {
    "collapsed": false
   },
   "outputs": [
    {
     "data": {
      "text/plain": [
       "3-element Array{Symbol,1}:\n",
       " :schema\n",
       " :data  \n",
       " :other "
      ]
     },
     "execution_count": 2,
     "metadata": {},
     "output_type": "execute_result"
    }
   ],
   "source": [
    "fieldnames(res)"
   ]
  },
  {
   "cell_type": "code",
   "execution_count": 65,
   "metadata": {
    "collapsed": false
   },
   "outputs": [
    {
     "data": {
      "text/plain": [
       "(1,1)"
      ]
     },
     "execution_count": 65,
     "metadata": {},
     "output_type": "execute_result"
    }
   ],
   "source": [
    "size(res)"
   ]
  },
  {
   "cell_type": "code",
   "execution_count": 66,
   "metadata": {
    "collapsed": false
   },
   "outputs": [
    {
     "data": {
      "text/plain": [
       "36"
      ]
     },
     "execution_count": 66,
     "metadata": {},
     "output_type": "execute_result"
    }
   ],
   "source": [
    "res[1,1].value   "
   ]
  },
  {
   "cell_type": "code",
   "execution_count": 67,
   "metadata": {
    "collapsed": false
   },
   "outputs": [
    {
     "data": {
      "text/plain": [
       "(36,4)"
      ]
     },
     "execution_count": 67,
     "metadata": {},
     "output_type": "execute_result"
    }
   ],
   "source": [
    "res = query(db,\"select * from quotes\");\n",
    "size(res) "
   ]
  },
  {
   "cell_type": "code",
   "execution_count": 80,
   "metadata": {
    "collapsed": false
   },
   "outputs": [
    {
     "name": "stdout",
     "output_type": "stream",
     "text": [
      "1  2  3  2  4  5  1  3  2  1  1  5  5  4  1  1  3  3  2  3  5  1  5  5  5  5  5  5  5  1  2  6  6  6  4  2  "
     ]
    }
   ],
   "source": [
    "nq = size(res)[1]; # Число возвращенных записей\n",
    "for i = 1:nq\n",
    "    @printf \"%d  \" res[i,2].value\n",
    "end;"
   ]
  },
  {
   "cell_type": "code",
   "execution_count": 82,
   "metadata": {
    "collapsed": false
   },
   "outputs": [
    {
     "data": {
      "text/plain": [
       "5"
      ]
     },
     "execution_count": 82,
     "metadata": {},
     "output_type": "execute_result"
    }
   ],
   "source": [
    "res[21,2].value "
   ]
  },
  {
   "cell_type": "code",
   "execution_count": 34,
   "metadata": {
    "collapsed": false
   },
   "outputs": [
    {
     "name": "stdout",
     "output_type": "stream",
     "text": [
      "Words of Wisdom : Hofstadter's Law,   It always takes longer than you expect, even when you take Hofstadter's Law into account.\n",
      "Science : Noelie Altito,  The shortest distance between two points is under construction.\n",
      "Science : Shaw's Principle,  Build a system that even a fool can use, and only a fool will want to use it.\n",
      "Politics : Adolf Hiltler,  The great mass of the people  will more easily fall victims to a big lie than a small one\n",
      "Books & Plays : G. B. Shaw,  There is no satisfaction in hanging a man who does not object to it\n"
     ]
    }
   ],
   "source": [
    "sql = \"select q.quoname, q.author, c.catname from quotes q \";\n",
    "sql *= \"join categories c on q.cid = c.id limit 5\";\n",
    "\n",
    "res = query(db,sql); \n",
    "\n",
    "nq = size(res)[1]; # Число возвращенных записей\n",
    "for i = 1:nq\n",
    "    @printf \"%s : %s,  %s\\n\" res[i,3].value res[i,2].value res[i,1].value\n",
    "end;"
   ]
  },
  {
   "cell_type": "code",
   "execution_count": 20,
   "metadata": {
    "collapsed": false
   },
   "outputs": [
    {
     "name": "stdout",
     "output_type": "stream",
     "text": [
      "The only way to get rid of a temptation is to yield to it.\n",
      "There is only one thing in the world worse than being talked about, and that is not being talked about\n",
      "I am not at all cynical, I have merely got experience, which, however, is very much the same thing\n",
      "To love oneself is the beginning of a lifelong romance\n",
      "We are all in the gutter, but some of us are looking at the stars\n",
      "London society is full of women of the very highest birth who have, of their own free choice, remained thirty-five for years\n"
     ]
    }
   ],
   "source": [
    "sql = \"select q.quoname from quotes q \";\n",
    "sql *= \" where q.author = 'Oscar Wilde'\";\n",
    "\n",
    "res = query(db,sql);\n",
    "\n",
    "nq = size(res)[1]; # Число возвращенных записей\n",
    "for i = 1:nq\n",
    "    println(res[i,1].value);\n",
    "end;"
   ]
  },
  {
   "cell_type": "code",
   "execution_count": null,
   "metadata": {
    "collapsed": true
   },
   "outputs": [],
   "source": [
    "# res = query(db, \"SELECT quoname FROM quotes WHERE author REGEXP 'e(?=Oscar)'\") "
   ]
  },
  {
   "cell_type": "markdown",
   "metadata": {},
   "source": [
    "### Программный интерфейс ODBC"
   ]
  },
  {
   "cell_type": "markdown",
   "metadata": {},
   "source": [
    "<i class=\"fa fa-linux\" aria-hidden=\"true\"></i>\n",
    "<i class=\"fa fa-apple\" aria-hidden=\"true\"></i>"
   ]
  },
  {
   "cell_type": "code",
   "execution_count": null,
   "metadata": {
    "collapsed": true
   },
   "outputs": [],
   "source": [
    "using ODBC\n",
    "\n",
    "conn = ODBC.connect(\"Chinook\",usr=\"malcolm\",pwd=\"mypasswd\")\n",
    "res = ODBC.query(\"select count(*) from Customers\", conn)\n",
    "println(\"Number of customers: $(res[:K][1])\")"
   ]
  },
  {
   "cell_type": "code",
   "execution_count": null,
   "metadata": {
    "collapsed": true
   },
   "outputs": [],
   "source": [
    "sql  = \"select a.LastName, a.FirstName,\";\n",
    "sql *= \" count(b.InvoiceId) as Invs, sum(b.Total) as Amt\";\n",
    "sql *= \" from Customer a\";\n",
    "sql *= \" join Invoice b on a.CustomerId = b.CustomerId\";\n",
    "sql *= \" group by a.LastName having Amt >= 45.00\";\n",
    "sql *= \" order by Amt desc;\";\n",
    "\n",
    "res = ODBC.query(sql);\n",
    "\n",
    "for i in 1:size(res)[1]\n",
    "  LastName = res[:LastName][i]\n",
    "  FirstName = res[:FirstName][i]\n",
    "  Invs = res[:Invs][i]\n",
    "  Amt = res[:Amt][i]\n",
    "  @printf \"%10s %10s %4d %10.2f\\n\" LastName FirstName Invs Amt\n",
    "end"
   ]
  },
  {
   "cell_type": "code",
   "execution_count": null,
   "metadata": {
    "collapsed": true
   },
   "outputs": [],
   "source": [
    "sql  = \"select a.LastName, a.FirstName, d.Name as TrackName\";\n",
    "sql *= \" from Customer a\";\n",
    "sql *= \" join Invoice b on a.CustomerId = b.CustomerId\";\n",
    "sql *= \" join InvoiceLine c on b.InvoiceId = c.InvoiceId\";\n",
    "sql *= \" join Track d on c.TrackId = d.TrackId\";\n",
    "sql *= \" where a.LastName = 'Cunningham' limit 5;\";\n",
    "\n",
    "res = ODBC.query(sql);\n",
    "\n",
    "for i in 1:size(res)[1]\n",
    "  LastName = res[:LastName][i]\n",
    "  FirstName = res[:FirstName][i]\n",
    "  TrackName = res[:TrackName][i]\n",
    "  @printf \"%15s %15s %15s\\n\" LastName FirstName TrackName\n",
    "end"
   ]
  },
  {
   "cell_type": "markdown",
   "metadata": {},
   "source": [
    "### Другие методы взаимодействия\n",
    "#### Драйвер для MySQL"
   ]
  },
  {
   "cell_type": "code",
   "execution_count": null,
   "metadata": {
    "collapsed": true
   },
   "outputs": [],
   "source": [
    "# Пропускаем обработку аргументов\n",
    "# Принимаем, что входной файл quotes.tsv\n",
    "# и используем тестовую базу данных\n",
    "\n",
    "using DBI\n",
    "using MySQL\n",
    "\n",
    "escticks(s) = replace(s,\"'\",\"''\");\n",
    "qq = readdlm(\"quotes.tsv\",'\\t');\n",
    "n = size(qq)[1];\n",
    "conn = connect(MySQL5,\"localhost\",\"malcolm\",\"mypasswd\",\"test\");\n",
    "\n",
    "# Можно создать таблицу категорий и таблицы цитат:\n",
    "sql = \"create table categories \";\n",
    "sql *= \"(id integer primary key, \";\n",
    "sql *= \"catname varchar(40) not null\");\n",
    "execute(prepare(conn,sql);\n",
    "if (errcode(conn) > 0)\n",
    "  error(\"Отсутствует возможность построить таблицу категорий\")\n",
    "end;\n",
    "\n",
    "# Примечание: Похожий код для построения таблицы цитат...\n",
    "j = 0;\n",
    "cats = Dict{String,Int64}();\n",
    "\n",
    "# Главный цикл загрузки таблицы цитат\n",
    "for i = 1:n\n",
    "  cat = qq[i,1];\n",
    "  if haskey(cats,cat)\n",
    "    jd = cats[cat];\n",
    "  else\n",
    "    j = j + 1; jd = j;\n",
    "    cats[cat] = jd;\n",
    "  end\n",
    "  sql = \"insert into quotes values($i,$jd,\";\n",
    "  if (length(qq[i,2]) > 0)\n",
    "    sql *= string(\"'\", escticks(qq[i,2]), \"',\");\n",
    "  else\n",
    "    sql *= string(\"null,\");\n",
    "  end\n",
    "  sql *= string(\"'\", escticks(qq[i,3]), \"');\");\n",
    "  stmt = prepare(conn,sql); execute(stmt);\n",
    "  if errcode(conn) > 0 error(errstring(conn); end;\n",
    "end\n",
    "\n",
    "# Теперь вывести категории\n",
    "for cat = keys(cats)\n",
    "  jd = cats[cat];\n",
    "  sql = \"insert into categories values($jd,'$cat')\";\n",
    "  stmt = prepare(conn,sql); execute(stmt);\n",
    "  if errcode(conn) > 0 error(errstring(conn); end;\n",
    "end;\n",
    "disconnect(conn);"
   ]
  },
  {
   "cell_type": "markdown",
   "metadata": {},
   "source": [
    "#### Драйвер для PostgreSQL"
   ]
  },
  {
   "cell_type": "markdown",
   "metadata": {},
   "source": [
    "createdb Chinook\n",
    "psql –d Chinook -a –f Chinook_PostgresSql.sql"
   ]
  },
  {
   "cell_type": "code",
   "execution_count": null,
   "metadata": {
    "collapsed": true
   },
   "outputs": [],
   "source": [
    "using DBI, PostgreSQL\n",
    "\n",
    "connect(Postgres) do conn\n",
    "  stmt = prepare(conn,\"SELECT * FROM \\\"MediaType\\\"\");\n",
    "  res = execute(stmt);\n",
    "  for row in res\n",
    "    @printf \"ID: %2d, Media: %s\\n\" row[1] row[2]\n",
    "  end\n",
    "  finish(stmt);\n",
    "end"
   ]
  },
  {
   "cell_type": "markdown",
   "metadata": {},
   "source": [
    "### Пакет PyCall"
   ]
  },
  {
   "cell_type": "code",
   "execution_count": null,
   "metadata": {
    "collapsed": true
   },
   "outputs": [],
   "source": [
    "using PyCall\n",
    "\n",
    "@pyimport mysql.connector as mc\n",
    "\n",
    "cnx = mc.connect (user=\"malcolm\", password=\"mypasswd\");\n",
    "csr = cnx[:cursor]()\n",
    "query = \"SELECT * FROM Chinook.Genre\"\n",
    "csr[:execute](query)\n",
    "\n",
    "for vals in csr\n",
    "  id = vals[1]\n",
    "  genre = vals[2]\n",
    "  @printf \"ID: %2d, %s\\n\" id genre\n",
    "end\n",
    "\n",
    "csr[:close]()\n",
    "cnx[:close]()"
   ]
  },
  {
   "cell_type": "markdown",
   "metadata": {},
   "source": [
    "### Стандарт взаимодействия JDBC"
   ]
  },
  {
   "cell_type": "code",
   "execution_count": null,
   "metadata": {
    "collapsed": true
   },
   "outputs": [],
   "source": [
    "using JavaCall\n",
    "\n",
    "jsd = @jimport java.sql.DriverManager;\n",
    "dbURL = \"jdbc:derby:Books1\";\n",
    "conn = nothing;\n",
    "try\n",
    "  db = jcall(jsd,\"getConnection\",JavaObject,(JString,),dbURL);\n",
    "  jsp = @jimport java.sql.PreparedStatement;\n",
    "  jsr = @jimport java.sql.ResultSet;\n",
    "  sql = \"select count(*) as K from quotes\";\n",
    "  stmt = jcall(db,\"prepareStatement\",isp,(JString,),sql);\n",
    "  res = jcall(stmt,\"executeQuery\",jsr,());\n",
    "  k = jcall(res,\"getString\",JString,(JString,),\"K\");\n",
    "catch e\n",
    "  println(e);\n",
    "finally\n",
    "  if conn != nothing\n",
    "    jcall(conn,\"close\",Void,());\n",
    "  end;\n",
    "end;\n",
    "println(\"\\nЧисло цитат в базе данных: $k);"
   ]
  },
  {
   "cell_type": "markdown",
   "metadata": {},
   "source": [
    "## Хранилища данных NoSQL\n",
    "### Системы ключ-значение "
   ]
  },
  {
   "cell_type": "code",
   "execution_count": null,
   "metadata": {
    "collapsed": true
   },
   "outputs": [],
   "source": [
    "using Redis;\n",
    "\n",
    "conn = RedisConnection()\n",
    "set (conn,\"Hello\",\"World\");\n",
    "keys(conn, \"*\")"
   ]
  },
  {
   "cell_type": "code",
   "execution_count": null,
   "metadata": {
    "collapsed": true
   },
   "outputs": [],
   "source": [
    "println(get(conn, \"Hello\"));\n",
    "disconnect(conn);"
   ]
  },
  {
   "cell_type": "code",
   "execution_count": null,
   "metadata": {
    "collapsed": true
   },
   "outputs": [],
   "source": [
    "using Quandl, DataFrames, Redis, Winston\n",
    "\n",
    "qapi_key = \"aaaaaaaaaaaaaaaaaaaa\" # Your Quandl key\n",
    "\n",
    "set_auth_token(qapi_key)\n",
    "\n",
    "qdf1 = quandl(\"WIKI/AAPL\", format=\"DataFrame\", order=\"asc\");\n",
    "aapl = convert(Array, qdf1[:Close]);\n",
    "scf1 = 1.0/aapl[1]; aapl = scf1 .* aapl;\n",
    "\n",
    "qdf2 = quandl(\"WIKI/MSFT\", format=\"DataFrame\", order=\"asc\");\n",
    "msft = convert(Array, qdf2[:Close]);\n",
    "scf2 = 1.0/msft[1]; msft = scf2 .* msft;\n",
    "\n",
    "n = [1:length(aapl)];\n",
    "conn = RedisConnection()\n",
    "\n",
    "for i = 1:n\n",
    "  rpush(conn,'APPL~Close',aapl[i])\n",
    "  rpush(conn,'MSFT~Close',msft[i])\n",
    "end\n",
    "\n",
    "t = [1:n]; # Просто отобразить на графике данные, не даты\n",
    "aapl-data = float32(lrange(conn,\"AAPL~Close\",0,-1);\n",
    "msft-data = float32(lrange(conn,\"MSFT~Close\",0,-1);\n",
    "\n",
    "plot(t, aapl-data,\"b--\", t, msft-data, \"r.\");"
   ]
  },
  {
   "cell_type": "markdown",
   "metadata": {},
   "source": [
    "### Документно-ориентированные хранилища данных "
   ]
  },
  {
   "cell_type": "code",
   "execution_count": null,
   "metadata": {
    "collapsed": true
   },
   "outputs": [],
   "source": [
    "using Mongo, LibBSON\n",
    "\n",
    "client = MongoClient(); # По умолчанию localhost порт 27017\n",
    "\n",
    "mc = MongoCollection(client,\"test\",\"quotes\");\n",
    "bob = BSONObject({\"author\" => \"Albert Einstein\"});\n",
    "\n",
    "println(\"Quotes by Albert Einstein numbers \", count(mc, bob);"
   ]
  },
  {
   "cell_type": "code",
   "execution_count": null,
   "metadata": {
    "collapsed": true
   },
   "outputs": [],
   "source": [
    "cur = find(mc,bob);  # => MongoCursor(Ptr{Void} @0x00007fadb1806000)\n",
    "for obj in cur\n",
    "  println(obj[\"category\"],\": \",obj[\"quote\"])\n",
    "end"
   ]
  },
  {
   "cell_type": "code",
   "execution_count": null,
   "metadata": {
    "collapsed": true
   },
   "outputs": [],
   "source": [
    "bin = BSONObject({\"author\" => \"Albert Einstein\",\"category\" => \"Test\", \"quote\" => \"I don't believe that God plays dice.\"});\n",
    "bup = BSONObject({\"author\" => \"Albert Einstein\",\"category\" => \"Test\", \"quote\" => \"A person who never made a mistake, never\n",
    "made anything.\"});\n",
    "brm = BSONObject({\"author\" => \"Albert Einstein\",\"category\" => \"Test\"}); "
   ]
  },
  {
   "cell_type": "code",
   "execution_count": null,
   "metadata": {
    "collapsed": true
   },
   "outputs": [],
   "source": [
    "insert(mc,bin) # => BSONOID(54e1201c52f2a1f4f8289b61)\n",
    "count(mc,bob)  # => 3\n",
    "update(mc,bin,bup) # => true\n",
    "count(mc,bob)  # => 3\n",
    "delete(mc,brm) # => true\n",
    "count(mc,bob)  # => 2"
   ]
  },
  {
   "cell_type": "markdown",
   "metadata": {},
   "source": [
    "### Взаимодействие с RESTful"
   ]
  },
  {
   "cell_type": "code",
   "execution_count": 11,
   "metadata": {
    "collapsed": false
   },
   "outputs": [],
   "source": [
    "# rts = run(`wget –q –O- http://amisllp.com /now.php`)\n",
    "rts = run(`curl –X GET http://amisllp.com/now.php`)"
   ]
  },
  {
   "cell_type": "markdown",
   "metadata": {},
   "source": [
    "#### Данные в формате JSON"
   ]
  },
  {
   "cell_type": "code",
   "execution_count": 1,
   "metadata": {
    "collapsed": false
   },
   "outputs": [
    {
     "data": {
      "text/plain": [
       "1x5 Array{Symbol,2}:\n",
       " :body  :headers  :http_code  :total_time  :bytes_recd"
      ]
     },
     "execution_count": 1,
     "metadata": {},
     "output_type": "execute_result"
    }
   ],
   "source": [
    "using HTTPClient.HTTPC\n",
    "\n",
    "url = \"http://httpbin.org/ip\"\n",
    "uu = HTTPC.get(url);\n",
    "fieldnames(uu)'"
   ]
  },
  {
   "cell_type": "code",
   "execution_count": 2,
   "metadata": {
    "collapsed": false
   },
   "outputs": [
    {
     "name": "stdout",
     "output_type": "stream",
     "text": [
      "My IP address is 85.15.89.45\n"
     ]
    }
   ],
   "source": [
    "using JSON\n",
    "\n",
    "ubody = bytestring(uu.body.data);\n",
    "ss = JSON.parse(ubody);\n",
    "myip = ss[\"origin\"]\n",
    "\n",
    "@printf \"My IP address is %s\\n\" myip"
   ]
  },
  {
   "cell_type": "code",
   "execution_count": 4,
   "metadata": {
    "collapsed": false
   },
   "outputs": [
    {
     "name": "stdout",
     "output_type": "stream",
     "text": [
      "Harry Potter and the Philosopher's Stone, автор: J. K. Rowling\n",
      "Опубликовано: Bloomsbury Publishing (2014-09-01), кво страниц: 224"
     ]
    }
   ],
   "source": [
    "#\n",
    "# rest_books.jl\n",
    "#\n",
    "\n",
    "using Requests\n",
    "#import Requests: get, post, put, delete, options\n",
    "using JSON\n",
    "\n",
    "api = \"https://www.googleapis.com/books/v1/volumes\"\n",
    "url = api * \"?q=isbn:1408855895\";\n",
    "\n",
    "uu = Requests.get(url);\n",
    "\n",
    "json = JSON.parse(bytestring(uu.data));\n",
    "\n",
    "volumeInfo = json[\"items\"][1][\"volumeInfo\"];\n",
    "title = volumeInfo[\"title\"];\n",
    "author = volumeInfo[\"authors\"][1];\n",
    "publisher = volumeInfo[\"publisher\"];\n",
    "pubdate = volumeInfo[\"publishedDate\"];\n",
    "ppcount = volumeInfo[\"pageCount\"];\n",
    "\n",
    "@printf \"%s, автор: %s\\nОпубликовано: %s (%s), кво страниц: %d\" title author publisher pubdate ppcount"
   ]
  },
  {
   "cell_type": "markdown",
   "metadata": {},
   "source": [
    "### Интернет-СУБД"
   ]
  },
  {
   "cell_type": "code",
   "execution_count": 12,
   "metadata": {
    "collapsed": false
   },
   "outputs": [
    {
     "data": {
      "text/plain": [
       "Dict{AbstractString,Any} with 4 entries:\n",
       "  \"uuid\"    => \"07fb3f7ef7db5835f07828f2c233474b\"\n",
       "  \"couchdb\" => \"Welcome\"\n",
       "  \"version\" => \"1.6.1\"\n",
       "  \"vendor\"  => Dict{AbstractString,Any}(\"name\"=>\"The Apache Software Foundation…"
      ]
     },
     "execution_count": 12,
     "metadata": {},
     "output_type": "execute_result"
    }
   ],
   "source": [
    "using Requests, JSON\n",
    "\n",
    "url = \"http://localhost:5984\"\n",
    "uu = Requests.get(url);\n",
    "json = JSON.parse(bytestring(uu.data))"
   ]
  },
  {
   "cell_type": "code",
   "execution_count": null,
   "metadata": {
    "collapsed": true
   },
   "outputs": [],
   "source": [
    "# Создать новую базу данных\n",
    "\n",
    "# run(`curl -X PUT http://localhost:5984/quotes_ru`)   #/цитаты ?\n",
    "\n",
    "url = \"http://localhost:5984/quotes\"\n",
    "Requests.put(url);"
   ]
  },
  {
   "cell_type": "code",
   "execution_count": 13,
   "metadata": {
    "collapsed": false
   },
   "outputs": [
    {
     "data": {
      "text/plain": [
       "3-element Array{Any,1}:\n",
       " \"_replicator\"\n",
       " \"_users\"     \n",
       " \"quotes\"     "
      ]
     },
     "execution_count": 13,
     "metadata": {},
     "output_type": "execute_result"
    }
   ],
   "source": [
    "#run(`curl http://localhost:5984/_all_dbs`)\n",
    "\n",
    "url = \"http://localhost:5984/_all_dbs\"\n",
    "uu = Requests.get(url);\n",
    "json = JSON.parse(bytestring(uu.data))"
   ]
  },
  {
   "cell_type": "code",
   "execution_count": 19,
   "metadata": {
    "collapsed": false
   },
   "outputs": [
    {
     "data": {
      "text/plain": [
       "Response(201 Created, 11 headers, 95 bytes in body)"
      ]
     },
     "execution_count": 19,
     "metadata": {},
     "output_type": "execute_result"
    }
   ],
   "source": [
    "# curl -H 'Content-Type: application/json' -X POST http://127.0.0.1:5984/quotes -d '{category:\"...\",author:\"...\", \"quote\":\"...\"}'\n",
    "\n",
    "url = \"http://localhost:5984/quotes\"\n",
    "json = Dict(\"category\" => \"Computing\", \n",
    "            \"author\" => \"Scott's Law\", \n",
    "            \"quote\" => \"Adding manpower to a late software project makes it later\") \n",
    "uu = Requests.post(url, json = json)"
   ]
  },
  {
   "cell_type": "code",
   "execution_count": 20,
   "metadata": {
    "collapsed": true
   },
   "outputs": [],
   "source": [
    "cd(joinpath(homedir(),\"julia_projects\",\"data\"))\n",
    "include(\"quotes_arr.jl\")\n",
    " \n",
    "using Requests, JSON\n",
    "\n",
    "cdb = \"http://localhost:5984\";\n",
    "qc = cdb * \"/quotes\";\n",
    "\n",
    "for json in quotes_arr\n",
    "  Requests.post(\"$qc\", json=json)\n",
    "end\n",
    "\n",
    "println(\"Данные успешно внесены.\")"
   ]
  },
  {
   "cell_type": "code",
   "execution_count": 14,
   "metadata": {
    "collapsed": false
   },
   "outputs": [
    {
     "data": {
      "text/plain": [
       "Dict{AbstractString,Any} with 3 entries:\n",
       "  \"rows\"       => Any[Dict{AbstractString,Any}(\"key\"=>\"a1b231f6d4193e03702d181b…\n",
       "  \"offset\"     => 0\n",
       "  \"total_rows\" => 2"
      ]
     },
     "execution_count": 14,
     "metadata": {},
     "output_type": "execute_result"
    }
   ],
   "source": [
    "cdb = \"http://localhost:5984\"\n",
    "qc_all = cdb * \"/quotes/_all_docs\"\n",
    "\n",
    "res = bytestring(Requests.get(qc_all).data);\n",
    "json = JSON.parse(res) "
   ]
  },
  {
   "cell_type": "code",
   "execution_count": 15,
   "metadata": {
    "collapsed": false
   },
   "outputs": [
    {
     "data": {
      "text/plain": [
       "2"
      ]
     },
     "execution_count": 15,
     "metadata": {},
     "output_type": "execute_result"
    }
   ],
   "source": [
    "json[\"total_rows\"]    "
   ]
  },
  {
   "cell_type": "code",
   "execution_count": 16,
   "metadata": {
    "collapsed": false
   },
   "outputs": [
    {
     "data": {
      "text/plain": [
       "Dict{AbstractString,Any} with 3 entries:\n",
       "  \"key\"   => \"a1b231f6d4193e03702d181be90058d9\"\n",
       "  \"id\"    => \"a1b231f6d4193e03702d181be90058d9\"\n",
       "  \"value\" => Dict{AbstractString,Any}(\"rev\"=>\"1-c39a3f858486377c80483304e012ce4…"
      ]
     },
     "execution_count": 16,
     "metadata": {},
     "output_type": "execute_result"
    }
   ],
   "source": [
    "json[\"rows\"][2]      # Выделить конкретную запись"
   ]
  },
  {
   "cell_type": "code",
   "execution_count": 18,
   "metadata": {
    "collapsed": false
   },
   "outputs": [
    {
     "data": {
      "text/plain": [
       "Dict{AbstractString,Any} with 5 entries:\n",
       "  \"quote\"    => \"I can resist everything but temptation\"\n",
       "  \"_rev\"     => \"1-c39a3f858486377c80483304e012ce47\"\n",
       "  \"author\"   => \"Oscar Wilde\"\n",
       "  \"_id\"      => \"a1b231f6d4193e03702d181be90058d9\"\n",
       "  \"category\" => \"Books & Plays\""
      ]
     },
     "execution_count": 18,
     "metadata": {},
     "output_type": "execute_result"
    }
   ],
   "source": [
    "qc = cdb * \"/quotes\";\n",
    "\n",
    "key = json[\"rows\"][2][\"key\"];\n",
    "rev = json[\"rows\"][2][\"value\"][\"rev\"];\n",
    "\n",
    "JSON.parse(bytestring(Requests.get(\"$qc/$key\").data))"
   ]
  },
  {
   "cell_type": "code",
   "execution_count": null,
   "metadata": {
    "collapsed": true
   },
   "outputs": [],
   "source": [
    "Requests.delete(\"$qc/$key?rev=$rev\")"
   ]
  },
  {
   "cell_type": "code",
   "execution_count": null,
   "metadata": {
    "collapsed": true
   },
   "outputs": [],
   "source": [
    "json = Dict(\"category\" => \"Books & Plays\", \"author\" => \"Oscar Wilde\", \"quote\" => \"I can resist everything but temptation\")\n",
    "\n",
    "Requests.delete(\"$qc/$key?rev=$rev\")\n",
    "Requests.post(\"$qc\", json=json)"
   ]
  },
  {
   "cell_type": "markdown",
   "metadata": {},
   "source": [
    "### Графовые системы хранения данных"
   ]
  },
  {
   "cell_type": "code",
   "execution_count": null,
   "metadata": {
    "collapsed": true
   },
   "outputs": [],
   "source": [
    "using HTTPClient.HTTPC, JSON;\n",
    "\n",
    "cypher = \"http://localhost:7474/db/data/cypher\";\n",
    "ropts = RequestOptions(content_type=\"application/json\");\n",
    "match = \"START r=node(*) RETURN count(r)\"\n",
    "rts = HTTPC.post(cypher,\"{\\\"query\\\":\\\"$match\\\"}\",ropts);\n",
    "json = JSON.parse(string(rts));\n",
    "json.body.columns; # => [ \"count(r)\" ];\n",
    "json.body.data; # => [[ 171 ]];\n",
    "\n",
    "# И используя MATCH = \"START r=rel(*) RETUrn count(r)\"\n",
    "json.body.columns; # => [ \"count(r)\" ];\n",
    "json.body.data; # => [[ 253 ]];"
   ]
  },
  {
   "cell_type": "code",
   "execution_count": null,
   "metadata": {
    "collapsed": true
   },
   "outputs": [],
   "source": [
    "match = \"MATCH (people:Person) RETURN people.name LIMIT 3\";\n",
    "json.body.columns; # => [ \"people.name\" ]\n",
    "json.body.data\n",
    "[[\"Keanu-Reeves\"],[\"Carrie-Ann Moss\"],[\"Laurence Fishburne\"]]\n",
    "\n",
    "match = \"MATCH ((tom:Person {name:\"Tom Hanks\"})-\n",
    "  [:ACTED_IN]->(m)<-[:ACTED_IN]-(coActors)\n",
    "  RETURN coActors.name LIMIT 3\";\n",
    "\n",
    "json.body.columns; # => [ \"coActors.name\" ]\n",
    "json.body.data'\n",
    "[[\"Meg Ryan\"],[\"Greg Kinnear\"],[\"Parker Posey\"]] "
   ]
  }
 ],
 "metadata": {
  "kernelspec": {
   "display_name": "Julia 0.4.5",
   "language": "julia",
   "name": "julia-0.4"
  },
  "language_info": {
   "file_extension": ".jl",
   "mimetype": "application/julia",
   "name": "julia",
   "version": "0.4.5"
  }
 },
 "nbformat": 4,
 "nbformat_minor": 0
}
