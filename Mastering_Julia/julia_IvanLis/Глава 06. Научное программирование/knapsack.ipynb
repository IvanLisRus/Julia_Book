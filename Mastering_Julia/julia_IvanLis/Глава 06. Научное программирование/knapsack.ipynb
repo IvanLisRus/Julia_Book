{
 "cells": [
  {
   "cell_type": "markdown",
   "metadata": {},
   "source": [
    "<div style=\"text-align: left;\"><img src=\"https://www.juliabox.org/assets/img/juliacloudlogo.png\" style=\"margin: 0px 0px 0px 0px; padding-right: 20px;width: 80px; float: left;\" title=\"\" alt=\"\" /></div>\n",
    "<img src=\"http://dmkpress.com/images/cms/thumbs/a5b0aeaa3fa7d6e58d75710c18673bd7ec6d5f6d/978-5-97060-370-3_270_369__100.jpg\" style=\"margin: 0px 0px 5px 20px; width: 100px; float: right;\" title=\"\" alt=\"\" />\n",
    "Всестороннее введение в новый язык программирования для научно-технических вычислений [Julia](http://julialang.org/) в книге Малколма Шеррингтона, Packt Publishing, июль 2015.\n",
    "\n",
    "<h1>Осваиваем язык Julia</h1><br />\n",
    "\n",
    "Совершенствование мастерства в области аналитики и программирования при помощи Julia в целях решения задач комплексной обработки данных\n",
    "<div style=\"text-align: left;font-size:8pt;padding-top:10px;\">Программный код Julia (v0.4.5) протестирован в Windows 8.1/10 и Linux/Lubuntu 16.4</div>\n",
    "<div style=\"text-align: left;\"><h1>Глава 6. Примеры</h1></div>"
   ]
  },
  {
   "cell_type": "markdown",
   "metadata": {},
   "source": [
    "### Решение задачи о ранце"
   ]
  },
  {
   "cell_type": "code",
   "execution_count": 2,
   "metadata": {
    "collapsed": false
   },
   "outputs": [
    {
     "name": "stdout",
     "output_type": "stream",
     "text": [
      "Значение целевой функции: 16.0x[1] = 1.0, p[1]/w[1] = 2.5\n",
      "x[2] = 0.0, p[2]/w[2] = 0.375\n",
      "x[3] = 0.0, p[3]/w[3] = 0.5\n",
      "x[4] = 1.0, p[4]/w[4] = 3.5\n",
      "x[5] = 1.0, p[5]/w[5] = 0.8\n",
      "x[6] = 0.0, p[6]/w[6] = 0.6666666666666666\n"
     ]
    }
   ],
   "source": [
    "using JuMP   # требует установки пакета с решателем задач Cbc, MIB...\n",
    "\n",
    "N = 6;\n",
    "m = Model();                    # Использовать решатель по умолчанию\n",
    "\n",
    "@variable(m, x[1:N], Bin);      # Определить переменную массива результатов\n",
    "\n",
    "profit = [ 5, 3, 2, 7, 4, 4 ];  # Массив стоимостей размера N\n",
    "weight = [ 2, 8, 4, 2, 5, 6 ];  # Вектор весов такого же размера\n",
    "capacity = 12;\n",
    "\n",
    "@objective(m, Max, dot(profit, x));\n",
    "@constraint(m, dot(weight, x) <= capacity);\n",
    "\n",
    "status = solve(m);             # Решить задачу с помощью решателя Сbc (или MIB)\n",
    "\n",
    "@printf \"Значение целевой функции: %.1f\" getobjectivevalue(m);\n",
    "\n",
    "for i = 1:N\n",
    "  print(\"x[$i] = \", getValue(x[i]));\n",
    "  println(\", p[$i]/w[$i] = \", profit[i]/weight[i]);\n",
    "end"
   ]
  },
  {
   "cell_type": "code",
   "execution_count": null,
   "metadata": {
    "collapsed": true
   },
   "outputs": [],
   "source": []
  }
 ],
 "metadata": {
  "kernelspec": {
   "display_name": "Julia 0.4.5",
   "language": "julia",
   "name": "julia-0.4"
  },
  "language_info": {
   "file_extension": ".jl",
   "mimetype": "application/julia",
   "name": "julia",
   "version": "0.4.5"
  }
 },
 "nbformat": 4,
 "nbformat_minor": 0
}
