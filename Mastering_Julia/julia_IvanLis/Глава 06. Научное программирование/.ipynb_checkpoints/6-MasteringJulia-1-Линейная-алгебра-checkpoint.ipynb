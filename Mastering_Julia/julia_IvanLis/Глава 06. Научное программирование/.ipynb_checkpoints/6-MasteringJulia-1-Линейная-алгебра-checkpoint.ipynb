{
 "cells": [
  {
   "cell_type": "markdown",
   "metadata": {},
   "source": [
    "<div style=\"text-align: left;\"><img src=\"https://www.juliabox.org/assets/img/juliacloudlogo.png\" style=\"margin: 0px 0px 0px 0px; padding-right: 20px;width: 80px; float: left;\" title=\"\" alt=\"\" /></div>\n",
    "<img src=\"http://dmkpress.com/images/cms/thumbs/a5b0aeaa3fa7d6e58d75710c18673bd7ec6d5f6d/978-5-97060-370-3_270_369__100.jpg\" style=\"margin: 0px 0px 5px 20px; width: 100px; float: right;\" title=\"\" alt=\"\" />\n",
    "Всестороннее введение в новый язык программирования для научно-технических вычислений [Julia](http://julialang.org/) в книге Малколма Шеррингтона, Packt Publishing, июль 2015.\n",
    "\n",
    "<h1>Осваиваем язык Julia</h1><br />\n",
    "\n",
    "Совершенствование мастерства в области аналитики и программирования при помощи Julia в целях решения задач комплексной обработки данных\n",
    "<div style=\"text-align: left;font-size:8pt;padding-top:10px;\">Программный код Julia (v0.4.5) протестирован в Windows 8.1/10 и Linux/Lubuntu 16.4</div>\n",
    "<div style=\"text-align: left;\"><h1>Глава 6. Научное программирование</h1></div>"
   ]
  },
  {
   "cell_type": "markdown",
   "metadata": {
    "collapsed": true
   },
   "source": [
    "# Линейная алгебра\n",
    "## Система уравнений"
   ]
  },
  {
   "cell_type": "markdown",
   "metadata": {},
   "source": [
    "Система уравнений в матричной форме"
   ]
  },
  {
   "cell_type": "markdown",
   "metadata": {},
   "source": [
    "<pre>\n",
    "x - 2y + 2z = 5\n",
    "x - y + 2z = 7\n",
    "-x + y + z = 5\n",
    "</pre>"
   ]
  },
  {
   "cell_type": "code",
   "execution_count": 1,
   "metadata": {
    "collapsed": false
   },
   "outputs": [
    {
     "data": {
      "text/plain": [
       "3x3 Array{Int64,2}:\n",
       "  1  -2  2\n",
       "  1  -1  2\n",
       " -1   1  1"
      ]
     },
     "execution_count": 1,
     "metadata": {},
     "output_type": "execute_result"
    }
   ],
   "source": [
    "A = [1 -2 2; 1 -1 2; -1 1 1]"
   ]
  },
  {
   "cell_type": "code",
   "execution_count": 2,
   "metadata": {
    "collapsed": false
   },
   "outputs": [
    {
     "data": {
      "text/plain": [
       "3-element Array{Int64,1}:\n",
       " 5\n",
       " 7\n",
       " 5"
      ]
     },
     "execution_count": 2,
     "metadata": {},
     "output_type": "execute_result"
    }
   ],
   "source": [
    "b = [5, 7, 5]"
   ]
  },
  {
   "cell_type": "markdown",
   "metadata": {},
   "source": [
    "Ненулевой главный определитель системы "
   ]
  },
  {
   "cell_type": "code",
   "execution_count": 3,
   "metadata": {
    "collapsed": false
   },
   "outputs": [
    {
     "data": {
      "text/plain": [
       "3.0"
      ]
     },
     "execution_count": 3,
     "metadata": {},
     "output_type": "execute_result"
    }
   ],
   "source": [
    "det(A)   # => 3"
   ]
  },
  {
   "cell_type": "markdown",
   "metadata": {},
   "source": [
    "Операция матричного деления дает решение"
   ]
  },
  {
   "cell_type": "code",
   "execution_count": 4,
   "metadata": {
    "collapsed": false
   },
   "outputs": [
    {
     "data": {
      "text/plain": [
       "3-element Array{Float64,1}:\n",
       " 1.0\n",
       " 2.0\n",
       " 4.0"
      ]
     },
     "execution_count": 4,
     "metadata": {},
     "output_type": "execute_result"
    }
   ],
   "source": [
    "v = A\\b   # или inv(A)*b"
   ]
  },
  {
   "cell_type": "markdown",
   "metadata": {},
   "source": [
    "Траспонирование матрицы"
   ]
  },
  {
   "cell_type": "code",
   "execution_count": 5,
   "metadata": {
    "collapsed": false
   },
   "outputs": [
    {
     "data": {
      "text/plain": [
       "1x3 Array{Float64,2}:\n",
       " 1.0  2.0  4.0"
      ]
     },
     "execution_count": 5,
     "metadata": {},
     "output_type": "execute_result"
    }
   ],
   "source": [
    "transpose(v)    # обычно записывается в виде v' (с одинарной кавычкой)"
   ]
  },
  {
   "cell_type": "markdown",
   "metadata": {},
   "source": [
    "Переопределенная система"
   ]
  },
  {
   "cell_type": "code",
   "execution_count": 6,
   "metadata": {
    "collapsed": false
   },
   "outputs": [
    {
     "data": {
      "text/plain": [
       "3x2 Array{Int64,2}:\n",
       " -2  2\n",
       " -1  2\n",
       "  1  1"
      ]
     },
     "execution_count": 6,
     "metadata": {},
     "output_type": "execute_result"
    }
   ],
   "source": [
    "A1 = A[:, 2:3]  "
   ]
  },
  {
   "cell_type": "code",
   "execution_count": 7,
   "metadata": {
    "collapsed": false
   },
   "outputs": [
    {
     "data": {
      "text/plain": [
       "1x2 Array{Float64,2}:\n",
       " 1.27586  3.93103"
      ]
     },
     "execution_count": 7,
     "metadata": {},
     "output_type": "execute_result"
    }
   ],
   "source": [
    "(A1\\b)'         # вывести транспонированную матрицу в краткой записи"
   ]
  },
  {
   "cell_type": "markdown",
   "metadata": {},
   "source": [
    "Недоопределенная система"
   ]
  },
  {
   "cell_type": "code",
   "execution_count": 8,
   "metadata": {
    "collapsed": false
   },
   "outputs": [
    {
     "data": {
      "text/plain": [
       "1x3 Array{Float64,2}:\n",
       " 1.8  2.0  3.6"
      ]
     },
     "execution_count": 8,
     "metadata": {},
     "output_type": "execute_result"
    }
   ],
   "source": [
    "A2 = A[1:2,:]; b2 = b[1:2];\n",
    "(A2\\b2)'"
   ]
  },
  {
   "cell_type": "markdown",
   "metadata": {},
   "source": [
    "## Разложение матрицы"
   ]
  },
  {
   "cell_type": "markdown",
   "metadata": {},
   "source": [
    "Факторизация матрицы A на пару верхних и нижних диагональных матриц (U, L) и перестановочную матрицу P, таких что A = PLU"
   ]
  },
  {
   "cell_type": "code",
   "execution_count": 9,
   "metadata": {
    "collapsed": false
   },
   "outputs": [
    {
     "data": {
      "text/plain": [
       "Base.LinAlg.LU{Float64,Array{Float64,2}}(3x3 Array{Float64,2}:\n",
       "  1.0  -2.0  2.0\n",
       "  1.0   1.0  0.0\n",
       " -1.0  -1.0  3.0,[1,2,3],0)"
      ]
     },
     "execution_count": 9,
     "metadata": {},
     "output_type": "execute_result"
    }
   ],
   "source": [
    "Alu = lufact(A)"
   ]
  },
  {
   "cell_type": "code",
   "execution_count": 10,
   "metadata": {
    "collapsed": false
   },
   "outputs": [
    {
     "data": {
      "text/plain": [
       "3x3 Array{Float64,2}:\n",
       " 1.0  -2.0  2.0\n",
       " 0.0   1.0  0.0\n",
       " 0.0   0.0  3.0"
      ]
     },
     "execution_count": 10,
     "metadata": {},
     "output_type": "execute_result"
    }
   ],
   "source": [
    "Alu[:U]"
   ]
  },
  {
   "cell_type": "code",
   "execution_count": 11,
   "metadata": {
    "collapsed": false
   },
   "outputs": [
    {
     "data": {
      "text/plain": [
       "3-element Array{Float64,1}:\n",
       " 1.0\n",
       " 2.0\n",
       " 4.0"
      ]
     },
     "execution_count": 11,
     "metadata": {},
     "output_type": "execute_result"
    }
   ],
   "source": [
    "Alu[:U]\\(Alu[:L]\\Alu[:P]'*b)"
   ]
  },
  {
   "cell_type": "markdown",
   "metadata": {},
   "source": [
    "QR-разложение в случае переопределенной системы"
   ]
  },
  {
   "cell_type": "code",
   "execution_count": 12,
   "metadata": {
    "collapsed": true
   },
   "outputs": [],
   "source": [
    "A1 = A[:,2:3];"
   ]
  },
  {
   "cell_type": "code",
   "execution_count": 13,
   "metadata": {
    "collapsed": false
   },
   "outputs": [
    {
     "data": {
      "text/plain": [
       "Base.LinAlg.QRCompactWY{Float64,Array{Float64,2}}(3x2 Array{Float64,2}:\n",
       "  2.44949   -2.04124 \n",
       "  0.224745  -2.19848 \n",
       " -0.224745   0.579973,2x2 Array{Float64,2}:\n",
       " 1.8165        -0.256629\n",
       " 1.06135e-314   1.49659 )"
      ]
     },
     "execution_count": 13,
     "metadata": {},
     "output_type": "execute_result"
    }
   ],
   "source": [
    "Aqr = qrfact(A1)"
   ]
  },
  {
   "cell_type": "markdown",
   "metadata": {},
   "source": [
    "Решение по методу наименьших квадратов (МНК)"
   ]
  },
  {
   "cell_type": "code",
   "execution_count": 14,
   "metadata": {
    "collapsed": false
   },
   "outputs": [
    {
     "data": {
      "text/plain": [
       "2-element Array{Float64,1}:\n",
       " 1.27586\n",
       " 3.93103"
      ]
     },
     "execution_count": 14,
     "metadata": {},
     "output_type": "execute_result"
    }
   ],
   "source": [
    "Aqr\\b"
   ]
  },
  {
   "cell_type": "markdown",
   "metadata": {},
   "source": [
    "## Собственные значения и собственные векторы"
   ]
  },
  {
   "cell_type": "markdown",
   "metadata": {},
   "source": [
    "Система из 3 линейных уравнений дает 3 собственных вектора и соответствующие собственные значения "
   ]
  },
  {
   "cell_type": "code",
   "execution_count": 39,
   "metadata": {
    "collapsed": false
   },
   "outputs": [],
   "source": [
    "A = [1 -2 2; 1 -1 2; -1 1 1];"
   ]
  },
  {
   "cell_type": "code",
   "execution_count": 40,
   "metadata": {
    "collapsed": false
   },
   "outputs": [
    {
     "data": {
      "text/plain": [
       "3-element Array{Complex{Float64},1}:\n",
       " -0.287372+1.35im\n",
       " -0.287372-1.35im\n",
       "   1.57474+0.0im "
      ]
     },
     "execution_count": 40,
     "metadata": {},
     "output_type": "execute_result"
    }
   ],
   "source": [
    "λ = eigvals(A)"
   ]
  },
  {
   "cell_type": "code",
   "execution_count": 41,
   "metadata": {
    "collapsed": false
   },
   "outputs": [
    {
     "data": {
      "text/plain": [
       "3x3 Array{Complex{Float64},2}:\n",
       "   0.783249+0.0im         0.783249-0.0im       0.237883+0.0im\n",
       "   0.493483-0.303862im    0.493483+0.303862im  0.651777+0.0im\n",
       " -0.0106833+0.22483im   -0.0106833-0.22483im   0.720138+0.0im"
      ]
     },
     "execution_count": 41,
     "metadata": {},
     "output_type": "execute_result"
    }
   ],
   "source": [
    "V = eigvecs(A)"
   ]
  },
  {
   "cell_type": "code",
   "execution_count": 17,
   "metadata": {
    "collapsed": false
   },
   "outputs": [
    {
     "data": {
      "text/plain": [
       "3-element Array{Complex{Float64},1}:\n",
       " -2.22045e-16+2.22045e-16im \n",
       "           1.11022e-16+0.0im\n",
       "  2.77556e-16-1.38778e-16im "
      ]
     },
     "execution_count": 17,
     "metadata": {},
     "output_type": "execute_result"
    }
   ],
   "source": [
    "A*V[:,1] - λ[1]*V[:,1]"
   ]
  },
  {
   "cell_type": "markdown",
   "metadata": {},
   "source": [
    "## Матрицы специального вида"
   ]
  },
  {
   "cell_type": "markdown",
   "metadata": {},
   "source": [
    "diag(A) - это диагональный вектор A, но Diagonal(diag(A)) - это матрица специального вида"
   ]
  },
  {
   "cell_type": "code",
   "execution_count": 18,
   "metadata": {
    "collapsed": false
   },
   "outputs": [
    {
     "data": {
      "text/plain": [
       "3x3 Diagonal{Int64}:\n",
       " 1   0  0\n",
       " 0  -1  0\n",
       " 0   0  1"
      ]
     },
     "execution_count": 18,
     "metadata": {},
     "output_type": "execute_result"
    }
   ],
   "source": [
    "Diagonal(diag(A))"
   ]
  },
  {
   "cell_type": "markdown",
   "metadata": {},
   "source": [
    "### Симметричная задача на собственные значения"
   ]
  },
  {
   "cell_type": "markdown",
   "metadata": {},
   "source": [
    "<span>Пример показывает, что способность Julia обнаруживать, что матрица симметричная/эрмитова, может оказать большое влияние на скорость решения задачи нахождения собственного значения.</span>"
   ]
  },
  {
   "cell_type": "code",
   "execution_count": 19,
   "metadata": {
    "collapsed": true
   },
   "outputs": [],
   "source": [
    "n = 2000;\n",
    "B = randn(n,n);\n",
    "B1 = B + B';\n",
    "B2 = copy(B1);\n",
    "B2[1,2] += 1eps();\n",
    "B2[2,1] += 2eps();"
   ]
  },
  {
   "cell_type": "code",
   "execution_count": 20,
   "metadata": {
    "collapsed": false
   },
   "outputs": [
    {
     "data": {
      "text/plain": [
       "true"
      ]
     },
     "execution_count": 20,
     "metadata": {},
     "output_type": "execute_result"
    }
   ],
   "source": [
    "issym(B1)' "
   ]
  },
  {
   "cell_type": "code",
   "execution_count": 21,
   "metadata": {
    "collapsed": false
   },
   "outputs": [
    {
     "data": {
      "text/plain": [
       "false"
      ]
     },
     "execution_count": 21,
     "metadata": {},
     "output_type": "execute_result"
    }
   ],
   "source": [
    "issym(B2)'"
   ]
  },
  {
   "cell_type": "code",
   "execution_count": 22,
   "metadata": {
    "collapsed": false
   },
   "outputs": [
    {
     "name": "stdout",
     "output_type": "stream",
     "text": [
      "  1.631903 seconds (3.62 k allocations: 31.429 MB, 2.34% gc time)\n"
     ]
    },
    {
     "data": {
      "text/plain": [
       "2000-element Array{Float64,1}:\n",
       " -125.951\n",
       " -125.113\n",
       " -124.664\n",
       " -123.87 \n",
       " -123.437\n",
       " -123.043\n",
       " -122.628\n",
       " -122.342\n",
       " -121.75 \n",
       " -121.586\n",
       " -121.383\n",
       " -121.124\n",
       " -120.734\n",
       "    ⋮    \n",
       "  121.022\n",
       "  121.39 \n",
       "  121.794\n",
       "  122.008\n",
       "  122.41 \n",
       "  122.576\n",
       "  123.258\n",
       "  123.959\n",
       "  124.396\n",
       "  124.879\n",
       "  125.083\n",
       "  125.937"
      ]
     },
     "execution_count": 22,
     "metadata": {},
     "output_type": "execute_result"
    }
   ],
   "source": [
    "@time eigvals(B1)"
   ]
  },
  {
   "cell_type": "code",
   "execution_count": 23,
   "metadata": {
    "collapsed": false
   },
   "outputs": [
    {
     "name": "stdout",
     "output_type": "stream",
     "text": [
      "  8.656940 seconds (47 allocations: 31.607 MB, 0.63% gc time)\n"
     ]
    },
    {
     "data": {
      "text/plain": [
       "2000-element Array{Float64,1}:\n",
       " -125.951   \n",
       " -125.113   \n",
       " -124.664   \n",
       " -123.87    \n",
       " -123.437   \n",
       " -123.043   \n",
       " -122.628   \n",
       " -122.342   \n",
       " -121.75    \n",
       " -121.586   \n",
       " -121.383   \n",
       " -121.124   \n",
       " -120.734   \n",
       "    ⋮       \n",
       "   -1.27444 \n",
       "   -1.57492 \n",
       "   -1.60337 \n",
       "   -5.56072 \n",
       "   -4.44779 \n",
       "    3.46776 \n",
       "    0.763105\n",
       "    1.7656  \n",
       "   -3.05344 \n",
       "    1.55419 \n",
       "    0.225329\n",
       "   -1.24829 "
      ]
     },
     "execution_count": 23,
     "metadata": {},
     "output_type": "execute_result"
    }
   ],
   "source": [
    "@time eigvals(B2)"
   ]
  },
  {
   "cell_type": "code",
   "execution_count": 24,
   "metadata": {
    "collapsed": false
   },
   "outputs": [
    {
     "name": "stdout",
     "output_type": "stream",
     "text": [
      "  1.501163 seconds (7.42 k allocations: 31.560 MB, 0.52% gc time)\n"
     ]
    },
    {
     "data": {
      "text/plain": [
       "2000-element Array{Float64,1}:\n",
       " -125.951\n",
       " -125.113\n",
       " -124.664\n",
       " -123.87 \n",
       " -123.437\n",
       " -123.043\n",
       " -122.628\n",
       " -122.342\n",
       " -121.75 \n",
       " -121.586\n",
       " -121.383\n",
       " -121.124\n",
       " -120.734\n",
       "    ⋮    \n",
       "  121.022\n",
       "  121.39 \n",
       "  121.794\n",
       "  122.008\n",
       "  122.41 \n",
       "  122.576\n",
       "  123.258\n",
       "  123.959\n",
       "  124.396\n",
       "  124.879\n",
       "  125.083\n",
       "  125.937"
      ]
     },
     "execution_count": 24,
     "metadata": {},
     "output_type": "execute_result"
    }
   ],
   "source": [
    "@time eigvals(Symmetric(B2))"
   ]
  }
 ],
 "metadata": {
  "kernelspec": {
   "display_name": "Julia 0.4.5",
   "language": "julia",
   "name": "julia-0.4"
  },
  "language_info": {
   "file_extension": ".jl",
   "mimetype": "application/julia",
   "name": "julia",
   "version": "0.4.5"
  }
 },
 "nbformat": 4,
 "nbformat_minor": 0
}
