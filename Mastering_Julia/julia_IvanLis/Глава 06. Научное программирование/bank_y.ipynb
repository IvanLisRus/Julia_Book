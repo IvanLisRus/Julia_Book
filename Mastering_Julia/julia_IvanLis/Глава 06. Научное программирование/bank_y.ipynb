{
 "cells": [
  {
   "cell_type": "markdown",
   "metadata": {
    "collapsed": true
   },
   "source": [
    "<div style=\"text-align: left;\"><img src=\"https://www.juliabox.org/assets/img/juliacloudlogo.png\" style=\"margin: 0px 0px 0px 0px; padding-right: 20px;width: 80px; float: left;\" title=\"\" alt=\"\" /></div>\n",
    "<img src=\"http://dmkpress.com/images/cms/thumbs/a5b0aeaa3fa7d6e58d75710c18673bd7ec6d5f6d/978-5-97060-370-3_270_369__100.jpg\" style=\"margin: 0px 0px 5px 20px; width: 100px; float: right;\" title=\"\" alt=\"\" />\n",
    "Всестороннее введение в новый язык программирования для научно-технических вычислений [Julia](http://julialang.org/) в книге Малколма Шеррингтона, Packt Publishing, июль 2015.\n",
    "\n",
    "<h1>Осваиваем язык Julia</h1><br />\n",
    "\n",
    "Совершенствование мастерства в области аналитики и программирования при помощи Julia в целях решения задач комплексной обработки данных\n",
    "<div style=\"text-align: left;font-size:8pt;padding-top:10px;\">Программный код Julia (v0.4.5) протестирован в Windows 8.1/10 и Linux/Lubuntu 16.4</div>\n",
    "<div style=\"text-align: left;\"><h1>Глава 6. Примеры</h1></div>"
   ]
  },
  {
   "cell_type": "markdown",
   "metadata": {},
   "source": [
    "## Стохастическое моделирование\n",
    "### Пакет SimJulia\n",
    "### Пример с клиентским обслуживанием в банке (вар. 2)"
   ]
  },
  {
   "cell_type": "code",
   "execution_count": 9,
   "metadata": {
    "collapsed": false
   },
   "outputs": [
    {
     "name": "stdout",
     "output_type": "stream",
     "text": [
      "Отказы от услуги в банке\n",
      "\n",
      "0.0 Клиент №1: прибыл\n",
      "0.0 Клиент №1: прождал 0.0\n",
      "1.769315966752774 Клиент №2: прибыл\n",
      "2.3713121111379767 Клиент №3: прибыл\n",
      "4.616666178605395 Клиент №3: ОТКАЗАЛСЯ после 2.245354067467418\n",
      "5.653796774345105 Клиент №2: ОТКАЗАЛСЯ после 3.884480807592331\n",
      "13.441481254776257 Клиент №4: прибыл\n",
      "17.9312084894578 Клиент №4: ОТКАЗАЛСЯ после 4.489727234681542\n",
      "18.5800650799264 Клиент №5: прибыл\n",
      "23.5486727338523 Клиент №5: ОТКАЗАЛСЯ после 4.9686076539259005\n",
      "34.72997874523776 Клиент №6: прибыл\n",
      "34.835002671310285 Клиент №7: прибыл\n",
      "39.54268711373291 Клиент №6: ОТКАЗАЛСЯ после 4.8127083684951515\n",
      "39.63722791933332 Клиент №7: ОТКАЗАЛСЯ после 4.802225248023035\n",
      "42.61805033927759 Клиент №1: обслужен\n",
      "46.10565188302617 Клиент №8: прибыл\n",
      "46.10565188302617 Клиент №8: прождал 0.0\n",
      "50.5183890620335 Клиент №9: прибыл\n",
      "53.573246425277574 Клиент №9: ОТКАЗАЛСЯ после 3.054857363244075\n",
      "53.882967198943774 Клиент №8: обслужен\n",
      "65.40476431411466 Клиент №10: прибыл\n",
      "65.40476431411466 Клиент №10: прождал 0.0\n",
      "67.22769986364264 Клиент №11: прибыл\n",
      "67.49744513544685 Клиент №12: прибыл\n",
      "67.74491939812113 Клиент №10: обслужен\n",
      "67.74491939812113 Клиент №11: прождал 0.5172195344784853\n",
      "69.0407373225267 Клиент №11: обслужен\n",
      "69.0407373225267 Клиент №12: прождал 1.5432921870798424\n",
      "71.52097087001584 Клиент №13: прибыл\n",
      "76.27826105055325 Клиент №13: ОТКАЗАЛСЯ после 4.75729018053741\n",
      "76.51449505419926 Клиент №14: прибыл\n",
      "80.1665476027849 Клиент №14: ОТКАЗАЛСЯ после 3.652052548585644\n",
      "80.70591577283444 Клиент №15: прибыл\n",
      "84.47661398063677 Клиент №15: ОТКАЗАЛСЯ после 3.770698207802326\n",
      "93.18171463193491 Клиент №12: обслужен\n",
      "103.58769773919298 Клиент №16: прибыл\n",
      "103.58769773919298 Клиент №16: прождал 0.0\n",
      "110.2663574258079 Клиент №16: обслужен\n",
      "110.92618343579909 Клиент №17: прибыл\n",
      "110.92618343579909 Клиент №17: прождал 0.0\n",
      "113.00336195009871 Клиент №17: обслужен\n",
      "130.3233211274063 Клиент №18: прибыл\n",
      "130.3233211274063 Клиент №18: прождал 0.0\n",
      "132.27363646504722 Клиент №18: обслужен\n",
      "133.31729491886884 Клиент №19: прибыл\n",
      "133.31729491886884 Клиент №19: прождал 0.0\n",
      "143.3882665049391 Клиент №20: прибыл\n",
      "146.45568433322572 Клиент №20: ОТКАЗАЛСЯ после 3.067417828286608\n",
      "147.36203838203178 Клиент №19: обслужен\n",
      "\n",
      "При наличии 1 операциониста(ов):\n",
      "Среднее время ожидания = 2.278\n"
     ]
    },
    {
     "name": "stderr",
     "output_type": "stream",
     "text": [
      "WARNING: redefining constant MAX_PATIENCE\n",
      "WARNING: redefining constant RANDOM_SEED\n"
     ]
    },
    {
     "name": "stdout",
     "output_type": "stream",
     "text": [
      "Количество отказов =    11"
     ]
    }
   ],
   "source": [
    "#\n",
    "# bank_y.jl\n",
    "#\n",
    "\n",
    "using SimJulia\n",
    "using Distributions\n",
    "\n",
    "function customer(env::Environment, name::UTF8String, counter::Resource, time_in_bank::Float64)\n",
    "  arrive = now(env)\n",
    "    \n",
    "  println(\"$arrive $name: прибыл\")\n",
    "    \n",
    "  req = Request(counter)\n",
    "  patience = rand(Uniform(MIN_PATIENCE, MAX_PATIENCE))\n",
    "  result = yield(req | Timeout(env, patience))\n",
    "    \n",
    "  wait = now(env) - arrive\n",
    "  push!(wait_times, wait);\n",
    "    \n",
    "  if in(req, keys(result))\n",
    "    println(\"$(now(env)) $name: прождал $wait\") \n",
    "    yield(Timeout(env, rand(Exponential(time_in_bank))))\n",
    "    println(\"$(now(env)) $name: обслужен\")    \n",
    "    yield(Release(counter))\n",
    "    #push!(in_bank_times, now(env) - arrive);\n",
    "  else\n",
    "    println(\"$(now(env)) $name: ОТКАЗАЛСЯ после $wait\")\n",
    "    push!(renege_qty, 1);       \n",
    "    SimJulia.cancel(req)\n",
    "  end\n",
    "end\n",
    "\n",
    "function source(env::Environment, number::Int, interval::Float64, counter::Resource)\n",
    "  d = Exponential(interval)\n",
    "  for i in 1:number\n",
    "    Process(env, customer, \"Клиент №$i\", counter, 12.0)\n",
    "    yield(Timeout(env, rand(d)))\n",
    "  end\n",
    "end\n",
    "\n",
    "function randomize()  # lcg_rand\n",
    "  seed = ccall( (:GetTickCount, \"kernel32\"), stdcall, Int32, () );\n",
    "  ((seed * 214013 + 2531011) >> 16) & 0x7fff\n",
    "end\n",
    "\n",
    "# Настроить и запустить имитационный прогон\n",
    "println(\"Отказы от услуги в банке\\n\")\n",
    "\n",
    "# Установить исходные данные имитации \n",
    "\n",
    "const MAX_CUSTOMERS     = 20    # Общее число клиентов\n",
    "const MAX_TIME          = 400.0 # Общее время работы банка\n",
    "const MEAN_ARRIVAL_TIME = 10.0   # Генерировать новых клиентов с прим. промежутком x (интервалы)\n",
    "const MIN_PATIENCE      = 2.0   # Минимальное терпение клиента\n",
    "const MAX_PATIENCE      = 12.0   # Максимальное терпение клиента (среднее время обслуживания)\n",
    "const MAX_TELLERS       = 1     # Число операционистов\n",
    "\n",
    "# Использовать ранее определенную функцию randomize() либо \n",
    "# выбрать значение, чтобы сделать прогон воспроизводимым\n",
    "#const RANDOM_SEED = 150  \n",
    "const RANDOM_SEED = randomize()\n",
    "srand(RANDOM_SEED)\n",
    "\n",
    "global wait_times = Float64[];  # Времена ожидания\n",
    "global renege_qty = Int32[];    # Количество отказов\n",
    "\n",
    "env = Environment()\n",
    "\n",
    "# Запустить процессы и выполнить\n",
    "counters = Resource(env, MAX_TELLERS)\n",
    "Process(env, source, MAX_CUSTOMERS, MEAN_ARRIVAL_TIME, counters)\n",
    "run(env, MAX_TIME)\n",
    "\n",
    "@printf \"\\nПри наличии %s операциониста(ов):\\n\" MAX_TELLERS\n",
    "@printf \"Среднее время ожидания = %5.3f\\n\" mean(wait_times)\n",
    "@printf \"Количество отказов = %5d\" sum(renege_qty)"
   ]
  },
  {
   "cell_type": "code",
   "execution_count": null,
   "metadata": {
    "collapsed": true
   },
   "outputs": [],
   "source": []
  }
 ],
 "metadata": {
  "kernelspec": {
   "display_name": "Julia 0.4.5",
   "language": "julia",
   "name": "julia-0.4"
  },
  "language_info": {
   "file_extension": ".jl",
   "mimetype": "application/julia",
   "name": "julia",
   "version": "0.4.5"
  }
 },
 "nbformat": 4,
 "nbformat_minor": 0
}
