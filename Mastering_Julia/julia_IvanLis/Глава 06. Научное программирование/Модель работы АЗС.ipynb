{
 "cells": [
  {
   "cell_type": "markdown",
   "metadata": {},
   "source": [
    "<div style=\"text-align: left;\"><img src=\"https://www.juliabox.org/assets/img/juliacloudlogo.png\" style=\"margin: 0px 0px 0px 0px; padding-right: 20px;width: 80px; float: left;\" title=\"\" alt=\"\" /></div>\n",
    "<img src=\"http://dmkpress.com/images/cms/thumbs/a5b0aeaa3fa7d6e58d75710c18673bd7ec6d5f6d/978-5-97060-370-3_270_369__100.jpg\" style=\"margin: 0px 0px 5px 20px; width: 100px; float: right;\" title=\"\" alt=\"\" />\n",
    "Всестороннее введение в новый язык программирования для научно-технических вычислений [Julia](http://julialang.org/) в книге Малколма Шеррингтона, Packt Publishing, июль 2015.\n",
    "\n",
    "<h1>Осваиваем язык Julia</h1><br />\n",
    "\n",
    "Совершенствование мастерства в области аналитики и программирования при помощи Julia в целях решения задач комплексной обработки данных\n",
    "<div style=\"text-align: left;font-size:8pt;padding-top:10px;\">Программный код Julia (v0.4.5) протестирован в Windows 8.1/10 и Linux/Lubuntu 16.4</div>\n",
    "<div style=\"text-align: left;\"><h1>Глава 6. Примеры</h1></div>"
   ]
  },
  {
   "cell_type": "markdown",
   "metadata": {},
   "source": [
    "### Пример использования пакета SimJulia"
   ]
  },
  {
   "cell_type": "markdown",
   "metadata": {},
   "source": [
    "#### Дозаправка на АЗС ([Gas Station Refueling](http://simjuliajl.readthedocs.io/en/latest/examples/5_gas_refuelling_station.html))"
   ]
  },
  {
   "cell_type": "markdown",
   "metadata": {},
   "source": [
    "Охватывает:\n",
    "\n",
    "Ресурсы: объекты Resource, Container и ожидание других процессов\n",
    "\n",
    "Пример моделирует работу АЗС и автомашин, прибывающих на дозаправку.\n",
    "\n",
    "АЗС располагает ограниченным числом топливораздаточных колонок и одной на все колонки цистерной с горючим. АСЗ моделируется как ресурс (объект Resource), общая цистерна - как контейнер (объект Container).\n",
    "\n",
    "Прибывающие на АЗС транспортные средства сначала просят получить доступ к колонке АЗС. Получив доступ, они стараются забрать из колонки требующийся объем топлива. По завершению они покидают АЗС.\n",
    "\n",
    "Уровень топлива на АЗС регулярно мониторится управлением АЗС. Когда уровень падает ниже установленного порога, вызывается дозаправщик, который сам пополняет дистерну АЗС."
   ]
  },
  {
   "cell_type": "code",
   "execution_count": 8,
   "metadata": {
    "collapsed": false
   },
   "outputs": [
    {
     "name": "stdout",
     "output_type": "stream",
     "text": [
      "Дозаправка на АЗС\n",
      "Автомашина 1 прибывает на АЗС в 212.43 с остатком топлива в баке 8 литров.\n",
      "Автомашина 1 закончила пополнение бака за 21.0 сек.\n",
      "Автомашина 2 прибывает на АЗС в 482.13 с остатком топлива в баке 22 литров.\n",
      "Автомашина 2 закончила пополнение бака за 14.0 сек.\n",
      "Автомашина 3 прибывает на АЗС в 779.36 с остатком топлива в баке 25 литров.\n",
      "Автомашина 3 закончила пополнение бака за 12.5 сек.\n",
      "Автомашина 4 прибывает на АЗС в 964.75 с остатком топлива в баке 17 литров.\n",
      "Автомашина 4 закончила пополнение бака за 16.5 сек.\n",
      "Автомашина 5 прибывает на АЗС в 1011.92 с остатком топлива в баке 9 литров.\n",
      "Автомашина 5 закончила пополнение бака за 20.5 сек.\n",
      "Автомашина 6 прибывает на АЗС в 1121.88 с остатком топлива в баке 20 литров.\n",
      "Вызов дозаправщика в 1130.0.\n",
      "Автомашина 6 закончила пополнение бака за 15.0 сек.\n",
      "Автомашина 7 прибывает на АЗС в 1361.4 с остатком топлива в баке 25 литров.\n",
      "Дозаправщик прибывает во время 1430.0.\n",
      "Дозаправщик пополняет цистерну 199 liters.\n",
      "Автомашина 7 закончила пополнение бака за 81.1 сек.\n",
      "Автомашина 8 прибывает на АЗС в 1605.04 с остатком топлива в баке 19 литров.\n",
      "Автомашина 8 закончила пополнение бака за 15.5 сек.\n",
      "Автомашина 9 прибывает на АЗС в 1890.62 с остатком топлива в баке 14 литров.\n",
      "Автомашина 9 закончила пополнение бака за 18.0 сек.\n"
     ]
    }
   ],
   "source": [
    "using SimJulia\n",
    "using Distributions\n",
    "\n",
    "const RANDOM_SEED = 14021986\n",
    "const GAS_STATION_SIZE = 200                    # размер АЗС, литры\n",
    "const THRESHOLD = 10                            # Порог для вызова дозаправщика (в %)\n",
    "const FUEL_TANK_SIZE = 50                       # размер бака, литры\n",
    "const FUEL_TANK_LEVEL = DiscreteUniform(5, 25)  # Мин/макс уровни бака, литры\n",
    "const REFUELING_SPEED = 2.0                     # скорость заправки бака, литров/сек\n",
    "const TANK_TRUCK_TIME = 300.0                   # Время, требующееся для прибытия дозаправщика, сек.\n",
    "const T_INTER = Uniform(30.0, 300.0)            # Создавать авто в каждые (мин, макс) промежутки времени, сек\n",
    "const SIM_TIME = 2000.0                         # Длительность имитационного моделирования, сек\n",
    "\n",
    "function car(env::Environment, name::UTF8String, gas_station::Resource, fuel_pump::Container{Int})\n",
    "  fuel_tank_level = rand(FUEL_TANK_LEVEL)\n",
    "  println(\"$name прибывает на АЗС в $(round(now(env), 2)) с остатком топлива в баке $fuel_tank_level литров.\")\n",
    "  start = now(env)\n",
    "  yield(Request(gas_station))\n",
    "  liters_required = FUEL_TANK_SIZE - fuel_tank_level\n",
    "  yield(Get(fuel_pump, liters_required))\n",
    "  yield(Timeout(env, liters_required / REFUELING_SPEED))\n",
    "  println(\"$name закончила пополнение бака за $(round((now(env)-start), 2)) сек.\")\n",
    "  yield(Release(gas_station))\n",
    "end\n",
    "\n",
    "function gas_station_control(env::Environment, fuel_pump::Container{Int})\n",
    "  while true\n",
    "    if level(fuel_pump) / capacity(fuel_pump) * 100 < THRESHOLD\n",
    "      println(\"Вызов дозаправщика в $(round(now(env), 2)).\")\n",
    "      yield(Process(env, tank_truck, fuel_pump))\n",
    "    end\n",
    "    yield(Timeout(env, 10.0))  # Check every 10 seconds\n",
    "  end\n",
    "end\n",
    "\n",
    "function tank_truck(env::Environment, fuel_pump::Container)\n",
    "  yield(Timeout(env, TANK_TRUCK_TIME))\n",
    "  println(\"Дозаправщик прибывает во время $(round(now(env), 2)).\")\n",
    "  amount = capacity(fuel_pump) - level(fuel_pump)\n",
    "  println(\"Дозаправщик пополняет цистерну $amount liters.\")\n",
    "  yield(Put(fuel_pump, amount))\n",
    "end\n",
    "\n",
    "\n",
    "function car_generator(env::Environment, gas_station::Resource, fuel_pump::Container{Int})\n",
    "  i = 0\n",
    "  while true\n",
    "    yield(Timeout(env, rand(T_INTER)))\n",
    "    Process(env, car, \"Автомашина $(i+=1)\", gas_station, fuel_pump)\n",
    "  end\n",
    "end\n",
    "\n",
    "# Setup and start the simulation\n",
    "println(\"Дозаправка на АЗС\")\n",
    "srand(RANDOM_SEED)\n",
    "\n",
    "# Create environment and start processes\n",
    "env = Environment()\n",
    "gas_station = Resource(env, 2)\n",
    "fuel_pump = Container{Int}(env, GAS_STATION_SIZE, GAS_STATION_SIZE)\n",
    "Process(env, gas_station_control, fuel_pump)\n",
    "Process(env, car_generator, gas_station, fuel_pump)\n",
    "\n",
    "# Execute!\n",
    "run(env, SIM_TIME)"
   ]
  },
  {
   "cell_type": "code",
   "execution_count": null,
   "metadata": {
    "collapsed": true
   },
   "outputs": [],
   "source": []
  }
 ],
 "metadata": {
  "kernelspec": {
   "display_name": "Julia 0.4.5",
   "language": "julia",
   "name": "julia-0.4"
  },
  "language_info": {
   "file_extension": ".jl",
   "mimetype": "application/julia",
   "name": "julia",
   "version": "0.4.5"
  }
 },
 "nbformat": 4,
 "nbformat_minor": 0
}
