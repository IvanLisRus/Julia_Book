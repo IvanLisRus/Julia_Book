{
 "cells": [
  {
   "cell_type": "markdown",
   "metadata": {},
   "source": [
    "<script src=\"https://use.fontawesome.com/2e576da815.js\"></script>"
   ]
  },
  {
   "cell_type": "markdown",
   "metadata": {},
   "source": [
    "## Использование иконографического шрифта \n",
    "## Font-Awesome \n",
    "### с рабочими книгами Jupyter"
   ]
  },
  {
   "cell_type": "markdown",
   "metadata": {},
   "source": [
    "<div class=\"list-group\">\n",
    "  <a class=\"list-group-item\" href=\"\"><i class=\"fa fa-home fa-fw\" aria-hidden=\"true\"></i>&nbsp; Home</a>\n",
    "  <a class=\"list-group-item\" href=\"#effects\"><i class=\"fa fa-book fa-fw\" aria-hidden=\"true\"></i>&nbsp; Эффекты</a>\n",
    "  <a class=\"list-group-item\" href=\"#icons\"><i class=\"fa fa-pencil fa-fw\" aria-hidden=\"true\"></i>&nbsp; Иконки</a>\n",
    "  <a class=\"list-group-item\" href=\"#interface\"><i class=\"fa fa-cog fa-fw\" aria-hidden=\"true\"></i>&nbsp; Интерфейс</a>\n",
    "</div>"
   ]
  },
  {
   "cell_type": "markdown",
   "metadata": {},
   "source": [
    "<i class=\"fa fa-windows\" aria-hidden=\"true\"></i>\n",
    "<i class=\"fa fa-linux\" aria-hidden=\"true\"></i>\n",
    "<i class=\"fa fa-apple\" aria-hidden=\"true\"></i>"
   ]
  },
  {
   "cell_type": "markdown",
   "metadata": {},
   "source": [
    "<i class=\"fa fa-linux fa-2x fa-pulse\"></i> linux"
   ]
  },
  {
   "cell_type": "markdown",
   "metadata": {},
   "source": [
    "<div id=\"icons\">Иконки</div>"
   ]
  },
  {
   "cell_type": "markdown",
   "metadata": {},
   "source": [
    "<i class=\"fa fa-camera-retro\"></i> fa-camera-retro\n",
    "<i class=\"fa fa-line-chart\" aria-hidden=\"true\"></i>\n",
    "<i class=\"fa fa-area-chart\" aria-hidden=\"true\"></i>\n",
    "<i class=\"fa fa-bar-chart\" aria-hidden=\"true\"></i>\n",
    "<i class=\"fa fa-wikipedia\" aria-hidden=\"true\"></i>"
   ]
  },
  {
   "cell_type": "markdown",
   "metadata": {},
   "source": [
    "<i class=\"fa fa-file-image-o\" aria-hidden=\"true\"></i>\n",
    "<i class=\"fa fa-file-archive-o\" aria-hidden=\"true\"></i>\n",
    "<i class=\"fa fa-file-text\" aria-hidden=\"true\"></i>\n",
    "<i class=\"fa fa-file-text-o\" aria-hidden=\"true\"></i>\n",
    "<i class=\"fa fa-file-audio-o\" aria-hidden=\"true\"></i>\n",
    "<i class=\"fa fa-file-archive-o\" aria-hidden=\"true\"></i>\n",
    "<i class=\"fa fa-file-code-o\" aria-hidden=\"true\"></i>\n",
    "<i class=\"fa fa-file-pdf-o\" aria-hidden=\"true\"></i>\n",
    "<i class=\"fa fa-file-o\" aria-hidden=\"true\"></i>\n",
    "<i class=\"fa fa-file-word-o\" aria-hidden=\"true\"></i>\n",
    "<i class=\"fa fa-database\" aria-hidden=\"true\"></i>\n",
    "<i class=\"fa fa-code\" aria-hidden=\"true\"></i>\n",
    "<i class=\"fa fa-cloud\" aria-hidden=\"true\"></i>\n",
    "<i class=\"fa fa-bug\" aria-hidden=\"true\"></i>"
   ]
  },
  {
   "cell_type": "markdown",
   "metadata": {},
   "source": [
    "<i class=\"fa fa-check-square-o\" aria-hidden=\"true\"></i>\n",
    "<i class=\"fa fa-bookmark-o\" aria-hidden=\"true\"></i>\n",
    "<i class=\"fa fa-bookmark\" aria-hidden=\"true\"></i>\n",
    "<i class=\"fa fa-quote-left\" aria-hidden=\"true\"></i>\n",
    "<i class=\"fa fa-quote-right\" aria-hidden=\"true\"></i>\n",
    "<i class=\"fa fa-sticky-note-o\" aria-hidden=\"true\"></i>\n",
    "<i class=\"fa fa-terminal\" aria-hidden=\"true\"></i>\n",
    "<i class=\"fa fa-wrench\" aria-hidden=\"true\"></i>\n",
    "<i class=\"fa fa-exclamation-triangle\" aria-hidden=\"true\"></i>\n",
    "<i class=\"fa fa-check-square\" aria-hidden=\"true\"></i>\n",
    "<i class=\"fa fa-hand-o-right\" aria-hidden=\"true\"></i>\n",
    "<i class=\"fa fa-file-text\" aria-hidden=\"true\"></i>\n",
    "<i class=\"fa fa-files-o\" aria-hidden=\"true\"></i>\n",
    "<i class=\"fa fa-file-text-o\" aria-hidden=\"true\"></i>\n",
    "<i class=\"fa fa-pencil-square\" aria-hidden=\"true\"></i>\n",
    "<i class=\"fa fa-pencil-square-o\" aria-hidden=\"true\"></i>\n",
    "<i class=\"fa fa-pencil\" aria-hidden=\"true\"></i>"
   ]
  },
  {
   "cell_type": "markdown",
   "metadata": {},
   "source": [
    "<span style=\"font-family:Consolas, monospace; font-weight:bold\">julia<i class=\"fa fa-terminal\" aria-hidden=\"true\"></i></span>"
   ]
  },
  {
   "cell_type": "markdown",
   "metadata": {},
   "source": [
    "![It doesn't matter what you write here](http://localhost:8888/static/base/images/logo.png?v=7c4597ba713d804995e8f8dad448a397 \"Picture of a Giraffe)"
   ]
  },
  {
   "cell_type": "markdown",
   "metadata": {},
   "source": [
    "<i class=\"fa fa-camera-retro fa-lg\"></i> fa-lg\n",
    "<i class=\"fa fa-camera-retro fa-2x\"></i> fa-2x\n",
    "<i class=\"fa fa-camera-retro fa-3x\"></i> fa-3x\n",
    "<i class=\"fa fa-camera-retro fa-4x\"></i> fa-4x\n",
    "<i class=\"fa fa-camera-retro fa-5x\"></i> fa-5x"
   ]
  },
  {
   "cell_type": "markdown",
   "metadata": {},
   "source": [
    "<ul class=\"fa-ul\">\n",
    "  <li><i class=\"fa-li fa fa-check-square\"></i>List icons</li>\n",
    "  <li><i class=\"fa-li fa fa-check-square\"></i>can be used</li>\n",
    "  <li><i class=\"fa-li fa fa-spinner fa-spin\"></i>as bullets</li>\n",
    "  <li><i class=\"fa-li fa fa-square\"></i>in lists</li>\n",
    "</ul>"
   ]
  },
  {
   "cell_type": "markdown",
   "metadata": {},
   "source": [
    "<i class=\"fa fa-quote-left fa-3x fa-pull-left fa-border\" aria-hidden=\"true\"></i>\n",
    "...tomorrow we will run faster, stretch out our arms farther...\n",
    "And then one fine morning— So we beat on, boats against the\n",
    "current, borne back ceaselessly into the past."
   ]
  },
  {
   "cell_type": "markdown",
   "metadata": {},
   "source": [
    "<div id=\"effects\">Эффекты</div>"
   ]
  },
  {
   "cell_type": "markdown",
   "metadata": {},
   "source": [
    "<i class=\"fa fa-spinner fa-spin fa-3x fa-fw\"></i>\n",
    "<span class=\"sr-only\">Loading...</span>\n",
    "\n",
    "<i class=\"fa fa-circle-o-notch fa-spin fa-3x fa-fw\"></i>\n",
    "<span class=\"sr-only\">Loading...</span>\n",
    "\n",
    "<i class=\"fa fa-refresh fa-spin fa-3x fa-fw\"></i>\n",
    "<span class=\"sr-only\">Loading...</span>\n",
    "\n",
    "<i class=\"fa fa-cog fa-spin fa-3x fa-fw\"></i>\n",
    "<span class=\"sr-only\">Loading...</span>\n",
    "\n",
    "<i class=\"fa fa-spinner fa-pulse fa-3x fa-fw\"></i>\n",
    "<span class=\"sr-only\">Loading...</span>"
   ]
  },
  {
   "cell_type": "markdown",
   "metadata": {},
   "source": [
    "<i class=\"fa fa-shield\"></i> normal<br>\n",
    "<i class=\"fa fa-shield fa-rotate-90\"></i> fa-rotate-90<br>\n",
    "<i class=\"fa fa-shield fa-rotate-180\"></i> fa-rotate-180<br>\n",
    "<i class=\"fa fa-shield fa-rotate-270\"></i> fa-rotate-270<br>\n",
    "<i class=\"fa fa-shield fa-flip-horizontal\"></i> fa-flip-horizontal<br>\n",
    "<i class=\"fa fa-shield fa-flip-vertical\"></i> fa-flip-vertical"
   ]
  },
  {
   "cell_type": "markdown",
   "metadata": {},
   "source": [
    "<span class=\"fa-stack fa-lg\">\n",
    "  <i class=\"fa fa-square-o fa-stack-2x\"></i>\n",
    "  <i class=\"fa fa-twitter fa-stack-1x\"></i>\n",
    "</span>\n",
    "fa-twitter on fa-square-o<br>\n",
    "<span class=\"fa-stack fa-lg\">\n",
    "  <i class=\"fa fa-circle fa-stack-2x\"></i>\n",
    "  <i class=\"fa fa-flag fa-stack-1x fa-inverse\"></i>\n",
    "</span>\n",
    "fa-flag on fa-circle<br>\n",
    "<span class=\"fa-stack fa-lg\">\n",
    "  <i class=\"fa fa-square fa-stack-2x\"></i>\n",
    "  <i class=\"fa fa-terminal fa-stack-1x fa-inverse\"></i>\n",
    "</span>\n",
    "fa-terminal on fa-square<br>\n",
    "<span class=\"fa-stack fa-lg\">\n",
    "  <i class=\"fa fa-camera fa-stack-1x\"></i>\n",
    "  <i class=\"fa fa-ban fa-stack-2x text-danger\"></i>\n",
    "</span>"
   ]
  },
  {
   "cell_type": "markdown",
   "metadata": {},
   "source": [
    "<div id=\"interface\">Интерфейс</div>"
   ]
  },
  {
   "cell_type": "markdown",
   "metadata": {},
   "source": [
    "<a class=\"btn btn-danger\" href=\"#\">\n",
    "  <i class=\"fa fa-trash-o fa-lg\"></i> Delete</a>\n",
    "<a class=\"btn btn-default btn-sm\" href=\"#\">\n",
    "  <i class=\"fa fa-cog\"></i> Settings</a>\n",
    "\n",
    "<a class=\"btn btn-lg btn-success\" href=\"#\">\n",
    "  <i class=\"fa fa-flag fa-2x pull-left\"></i> Font Awesome<br>Version 4.6.3</a>\n",
    "\n",
    "<div class=\"btn-group\">\n",
    "  <a class=\"btn btn-default\" href=\"#\">\n",
    "    <i class=\"fa fa-align-left\" title=\"Align Left\"></i>\n",
    "  </a>\n",
    "  <a class=\"btn btn-default\" href=\"#\">\n",
    "    <i class=\"fa fa-align-center\" title=\"Align Center\"></i>\n",
    "  </a>\n",
    "  <a class=\"btn btn-default\" href=\"#\">\n",
    "    <i class=\"fa fa-align-right\" title=\"Align Right\"></i>\n",
    "  </a>\n",
    "  <a class=\"btn btn-default\" href=\"#\">\n",
    "    <i class=\"fa fa-align-justify\" title=\"Align Justify\"></i>\n",
    "  </a>\n",
    "</div>\n",
    "\n",
    "<div class=\"input-group margin-bottom-sm\">\n",
    "  <span class=\"input-group-addon\"><i class=\"fa fa-envelope-o fa-fw\"></i></span>\n",
    "  <input class=\"form-control\" type=\"text\" placeholder=\"Email address\">\n",
    "</div>\n",
    "<div class=\"input-group\">\n",
    "  <span class=\"input-group-addon\"><i class=\"fa fa-key fa-fw\"></i></span>\n",
    "  <input class=\"form-control\" type=\"password\" placeholder=\"Password\">\n",
    "</div>\n",
    "\n",
    "<div class=\"btn-group open\">\n",
    "  <a class=\"btn btn-primary\" href=\"#\"><i class=\"fa fa-user fa-fw\"></i> User</a>\n",
    "  <a class=\"btn btn-primary dropdown-toggle\" data-toggle=\"dropdown\" href=\"#\">\n",
    "    <span class=\"fa fa-caret-down\" title=\"Toggle dropdown menu\"></span>\n",
    "  </a>\n",
    "  <ul class=\"dropdown-menu\">\n",
    "    <li><a href=\"#\"><i class=\"fa fa-pencil fa-fw\"></i> Edit</a></li>\n",
    "    <li><a href=\"#\"><i class=\"fa fa-trash-o fa-fw\"></i> Delete</a></li>\n",
    "    <li><a href=\"#\"><i class=\"fa fa-ban fa-fw\"></i> Ban</a></li>\n",
    "    <li class=\"divider\"></li>\n",
    "    <li><a href=\"#\"><i class=\"fa fa-unlock\"></i> Make admin</a></li>\n",
    "  </ul>\n",
    "</div>"
   ]
  },
  {
   "cell_type": "markdown",
   "metadata": {},
   "source": [
    "<a class=\"btn btn-default\" href=\"path/to/settings\">\n",
    "  <i class=\"fa fa-cog\" title=\"Settings\" aria-hidden=\"true\"></i>\n",
    "  <span class=\"sr-only\">Settings</span>\n",
    "</a>\n",
    "\n",
    "<a class=\"btn btn-danger\" href=\"path/to/settings\">\n",
    "  <i class=\"fa fa-trash-o\" title=\"Delete\" aria-hidden=\"true\"></i>\n",
    "  <span class=\"sr-only\">Delete</span>\n",
    "</a>\n",
    "\n",
    "<a class=\"btn btn-primary\" href=\"#navigation-main\">\n",
    "  <i class=\"fa fa-bars\" aria-hidden=\"true\" title=\"Skip to main navigation\"></i>\n",
    "  <span class=\"sr-only\">Skip to main navigation</span>\n",
    "</a>\n",
    "<i class=\"fa fa-refresh fa-spin fa-3x fa-fw\" aria-hidden=\"true\"></i>\n",
    "<span class=\"sr-only\">Refreshing...</span>\n",
    "\n",
    "<i class=\"fa fa-cog fa-spin fa-3x fa-fw\" aria-hidden=\"true\"></i>\n",
    "<span class=\"sr-only\">Saving. Hang tight!</span>\n",
    "<div class=\"input-group margin-bottom-sm\">\n",
    "  <span class=\"input-group-addon\"><i class=\"fa fa-envelope-o fa-fw\" aria-hidden=\"true\"></i></span>\n",
    "  <input class=\"form-control\" type=\"text\" placeholder=\"Email address\">\n",
    "</div>\n",
    "<div class=\"input-group\">\n",
    "  <span class=\"input-group-addon\"><i class=\"fa fa-key fa-fw\" aria-hidden=\"true\"></i></span>\n",
    "  <input class=\"form-control\" type=\"password\" placeholder=\"Password\">\n",
    "</div>\n",
    "<a href=\"path/to/shopping/cart\" class=\"btn btn-primary\">\n",
    "  <i class=\"fa fa-shopping-cart\" title=\"View 3 items in your shopping cart\" aria-hidden=\"true\"></i>\n",
    "  <span class=\"sr-only\">View 3 items in your shopping cart</span>\n",
    "</a>\n",
    "<i class=\"fa fa-battery-half\" aria-hidden=\"true\"></i>\n",
    "<span class=\"sr-only\">Battery level: 50%</span>"
   ]
  },
  {
   "cell_type": "markdown",
   "metadata": {
    "collapsed": true
   },
   "source": [
    "<style>\n",
    "@font-face {\n",
    "  font-family: 'FontAwesome';\n",
    "  src: url('../fonts/fontawesome-webfont.eot?v=4.6.3');\n",
    "  src: url('../fonts/fontawesome-webfont.eot?#iefix&v=4.6.3') format('embedded-opentype'), url('../fonts/fontawesome-webfont.woff2?v=4.6.3') format('woff2'), url('../fonts/fontawesome-webfont.woff?v=4.6.3') format('woff'), url('../fonts/fontawesome-webfont.ttf?v=4.6.3') format('truetype'), url('../fonts/fontawesome-webfont.svg?v=4.6.3#fontawesomeregular') format('svg');\n",
    "  font-weight: normal;\n",
    "  font-style: normal;\n",
    "}\n",
    "\n",
    ".fa-user:before {\n",
    "  content: \"\\f007\";\n",
    "}\n",
    "</style>\n",
    "\n",
    "<i class=\"fa fa-camera-retro fa-lg\"></i> fa-lg"
   ]
  }
 ],
 "metadata": {
  "kernelspec": {
   "display_name": "Julia 0.4.5",
   "language": "julia",
   "name": "julia-0.4"
  },
  "language_info": {
   "file_extension": ".jl",
   "mimetype": "application/julia",
   "name": "julia",
   "version": "0.4.5"
  }
 },
 "nbformat": 4,
 "nbformat_minor": 0
}
