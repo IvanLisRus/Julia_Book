{
 "cells": [
  {
   "cell_type": "markdown",
   "metadata": {},
   "source": [
    "## Математическая запись"
   ]
  },
  {
   "cell_type": "markdown",
   "metadata": {},
   "source": [
    "%%latex\n",
    "\\begin{equation}\n",
    "\\int_{-\\infty}^\\infty f(x) \\delta(x - x_0) dx = f(x_0)\n",
    "\\end{equation}"
   ]
  },
  {
   "cell_type": "markdown",
   "metadata": {},
   "source": [
    "<script type=\"text/x-mathjax-config\">\n",
    "  MathJax.Hub.Config({tex2jax: {inlineMath: [['$','$'], ['\\\\(','\\\\)']]}});\n",
    "</script>\n",
    "<script type=\"text/javascript\"\n",
    "  src=\"http://cdn.mathjax.org/mathjax/latest/MathJax.js?config=TeX-AMS-MML_HTMLorMML\">\n",
    "</script>\n",
    "\n",
    "<h2>Математическая запись на TeX</h2>\n",
    "\n",
    "When $a \\ne 0$, there are two solutions to \\(ax^2 + bx + c = 0\\) and they are\n",
    "$$x = {-b \\pm \\sqrt{b^2-4ac} \\over 2a}.$$\n",
    "$$ \\begin{array}{rcll}\n",
    "y & = & x^{2}+bx+c\\\\\n",
    "  & = & x^{2}+2\\times\\dfrac{b}{2}x+c\\\\\n",
    "  & = & \\underbrace{x^{2}+2\\times\\dfrac{b}{2}x+\\left(\\frac{b}{2}\\right)^{2}}-\n",
    "      {\\left(\\dfrac{b}{2}\\right)^{2}+c}\\\\\n",
    "  &  & \\qquad\\left(x+{\\dfrac{b}{2}}\\right)^{2}\\\\\n",
    "  & = & \\left(x+\\dfrac{b}{2}\\right)^{2}-\\left(\\dfrac{b}{2}\\right)^{2}+c \n",
    "  & \\left|+\\left({\\dfrac{b}{2}}\\right)^{2}-c\\right.\\\\\n",
    "    y+\\left(\\dfrac{b}{2}\\right)^{2}-c & = & \\left(x+\n",
    "    \\dfrac{b}{2}\\right)^{2} & \\left|\\strut(\\textrm{vertex form})\\right.\\\\\n",
    "y-y_{S} & = & (x-x_{S})^{2}\\\\\n",
    "S(x_{S};y_{S}) & \\,\\textrm{or}\\, \n",
    "    & S\\left(-\\dfrac{b}{2};\\,\\left(\\dfrac{b}{2}\\right)^{2}-c\\right)\n",
    "\\end{array} $$\n",
    "\n",
    "<h2>Math in MathML notation</h2>\n",
    "\n",
    "When <math><mi>a</mi><mo>&#x2260;</mo><mn>0</mn></math>,\n",
    "there are two solutions to <math>\n",
    "  <mi>a</mi><msup><mi>x</mi><mn>2</mn></msup>\n",
    "  <mo>+</mo> <mi>b</mi><mi>x</mi>\n",
    "  <mo>+</mo> <mi>c</mi> <mo>=</mo> <mn>0</mn>\n",
    "</math> and they are\n",
    "<math mode=\"display\">\n",
    "  <mi>x</mi> <mo>=</mo>\n",
    "  <mrow>\n",
    "    <mfrac>\n",
    "      <mrow>\n",
    "        <mo>&#x2212;</mo>\n",
    "        <mi>b</mi>\n",
    "        <mo>&#x00B1;</mo>\n",
    "        <msqrt>\n",
    "          <msup><mi>b</mi><mn>2</mn></msup>\n",
    "          <mo>&#x2212;</mo>\n",
    "          <mn>4</mn><mi>a</mi><mi>c</mi>\n",
    "        </msqrt>\n",
    "      </mrow>\n",
    "      <mrow> <mn>2</mn><mi>a</mi> </mrow>\n",
    "    </mfrac>\n",
    "  </mrow>\n",
    "  <mtext>.</mtext>\n",
    "</math>"
   ]
  },
  {
   "cell_type": "markdown",
   "metadata": {
    "collapsed": true
   },
   "source": [
    "<img src=\"http://latex.codecogs.com/gif.latex?1+sin(x)\" border=\"0\"/>\n",
    "<img src=\"http://latex.codecogs.com/svg.latex?1+sin(x)\" border=\"0\"/>"
   ]
  },
  {
   "cell_type": "markdown",
   "metadata": {
    "collapsed": true
   },
   "source": []
  },
  {
   "cell_type": "code",
   "execution_count": null,
   "metadata": {
    "collapsed": true
   },
   "outputs": [],
   "source": [
    "[a link to a notebook in a subdirectory](subdir/another.ipynb)\n",
    "\n",
    "[a reference-style link][mylink]\n",
    "\n",
    "[mylink]: subdir/another.ipynb"
   ]
  }
 ],
 "metadata": {
  "kernelspec": {
   "display_name": "Julia 0.4.5",
   "language": "julia",
   "name": "julia-0.4"
  },
  "language_info": {
   "file_extension": ".jl",
   "mimetype": "application/julia",
   "name": "julia",
   "version": "0.4.5"
  }
 },
 "nbformat": 4,
 "nbformat_minor": 0
}
