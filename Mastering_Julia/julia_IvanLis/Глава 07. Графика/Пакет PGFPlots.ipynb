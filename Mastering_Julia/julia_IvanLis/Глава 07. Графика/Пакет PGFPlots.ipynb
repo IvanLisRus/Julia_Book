{
 "cells": [
  {
   "cell_type": "markdown",
   "metadata": {},
   "source": [
    "<script src=\"https://use.fontawesome.com/2e576da815.js\"></script>"
   ]
  },
  {
   "cell_type": "markdown",
   "metadata": {},
   "source": [
    "<div style=\"text-align: left;\"><img src=\"https://www.juliabox.org/assets/img/juliacloudlogo.png\" style=\"margin: 0px 0px 0px 0px; padding-right: 20px;width: 80px; float: left;\" title=\"\" alt=\"\" /></div>\n",
    "<img src=\"http://dmkpress.com/images/cms/thumbs/a5b0aeaa3fa7d6e58d75710c18673bd7ec6d5f6d/978-5-97060-370-3_270_369__100.jpg\" style=\"margin: 0px 0px 5px 20px; width: 100px; float: right;\" title=\"\" alt=\"\" />\n",
    "Всестороннее введение в новый язык программирования для научно-технических вычислений [Julia](http://julialang.org/) в книге Малколма Шеррингтона, Packt Publishing, июль 2015.\n",
    "\n",
    "<h1>Осваиваем язык Julia</h1><br />\n",
    "\n",
    "Совершенствование мастерства в области аналитики и программирования при помощи Julia в целях решения задач комплексной обработки данных\n",
    "<div style=\"text-align: left;font-size:8pt;padding-top:10px;\">Программный код Julia (v0.4.5) протестирован в Windows 8.1/10 и Linux/Lubuntu 16.4</div>\n",
    "<div style=\"text-align: left;\"><h1>Глава 7. Графика</h1></div>"
   ]
  },
  {
   "cell_type": "markdown",
   "metadata": {},
   "source": [
    "### Пакет PGFPlots"
   ]
  },
  {
   "cell_type": "markdown",
   "metadata": {},
   "source": [
    "<i class=\"fa fa-linux\" aria-hidden=\"true\"></i>\n",
    "<i class=\"fa fa-apple\" aria-hidden=\"true\"></i>"
   ]
  },
  {
   "cell_type": "code",
   "execution_count": 1,
   "metadata": {
    "collapsed": false
   },
   "outputs": [
    {
     "name": "stdout",
     "output_type": "stream",
     "text": [
      "Error saving as SVG\n"
     ]
    },
    {
     "ename": "LoadError",
     "evalue": "LoadError: could not spawn `lualatex --enable-write18 --output-directory=. figure_7_8_linear_plots`: no such file or directory (ENOENT)\nwhile loading In[1], in expression starting on line 10",
     "output_type": "error",
     "traceback": [
      "LoadError: could not spawn `lualatex --enable-write18 --output-directory=. figure_7_8_linear_plots`: no such file or directory (ENOENT)\nwhile loading In[1], in expression starting on line 10",
      ""
     ]
    }
   ],
   "source": [
    "cd(joinpath(homedir(),\"julia_projects\",\"images\"))\n",
    "\n",
    "using PGFPlots  # требует установки пакета TikzPictures\n",
    "\n",
    "p = Axis( [ Plots.Linear(x->sin(3x)*exp(-0.3x), (0,8),\n",
    "            legendentry = L\"$\\sin(3x)*exp(-0.3x)$\"),\n",
    "            Plots.Linear(x->sqrt(x)/(1+x^2), (0,8),\n",
    "            legendentry = L\"$\\sqrt{2x}/(1+x^2)$\") ]);\n",
    "\n",
    "save(\"figure_7_8_linear_plots.svg\", p);\n",
    "print(\"График успешно записан на диск.\")"
   ]
  },
  {
   "cell_type": "code",
   "execution_count": null,
   "metadata": {
    "collapsed": true
   },
   "outputs": [],
   "source": [
    "cd(joinpath(homedir(),\"julia_projects\",\"images\"))\n",
    "\n",
    "using PGFPlots\n",
    "\n",
    "fp = randn(10000);\n",
    "p = Axis(Plots.Histogram(fp, bins=100), ymin=0)\n",
    "\n",
    "save(\"figure_7_8_histogram_plot.svg\", p);\n",
    "print(\"График успешно записан на диск.\")"
   ]
  },
  {
   "cell_type": "markdown",
   "metadata": {},
   "source": [
    "\\\\begin{axis}[view = {{0}{90}}]\\\\addplot+ coordinates {\\n(1, 2)\\n(2, 4)\\n(3, 1)\\n};\\n\\\\end{axis}\\n\",\"\",\"\\\\usepackage{pgfplots}\\n\\\\pgfplotsset{compat=newest}\\n\\\\pgfplotsset{every axis legend/.append style={%\\ncells={anchor=west}}\\n}\\n\\\\usepgfplotslibrary{polar}\\n\\\\usetikzlibrary{arrows}\\n\\\\tikzset{>=stealth'}\\n"
   ]
  },
  {
   "cell_type": "code",
   "execution_count": null,
   "metadata": {
    "collapsed": true
   },
   "outputs": [],
   "source": []
  }
 ],
 "metadata": {
  "kernelspec": {
   "display_name": "Julia 0.4.5",
   "language": "julia",
   "name": "julia-0.4"
  },
  "language_info": {
   "file_extension": ".jl",
   "mimetype": "application/julia",
   "name": "julia",
   "version": "0.4.5"
  }
 },
 "nbformat": 4,
 "nbformat_minor": 0
}
