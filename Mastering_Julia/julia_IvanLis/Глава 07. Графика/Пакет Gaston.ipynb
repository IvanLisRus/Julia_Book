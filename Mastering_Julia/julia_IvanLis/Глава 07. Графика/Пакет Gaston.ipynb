{
 "cells": [
  {
   "cell_type": "markdown",
   "metadata": {},
   "source": [
    "<script src=\"https://use.fontawesome.com/2e576da815.js\"></script>"
   ]
  },
  {
   "cell_type": "markdown",
   "metadata": {},
   "source": [
    "<div style=\"text-align: left;\"><img src=\"https://www.juliabox.org/assets/img/juliacloudlogo.png\" style=\"margin: 0px 0px 0px 0px; padding-right: 20px;width: 80px; float: left;\" title=\"\" alt=\"\" /></div>\n",
    "<img src=\"http://dmkpress.com/images/cms/thumbs/a5b0aeaa3fa7d6e58d75710c18673bd7ec6d5f6d/978-5-97060-370-3_270_369__100.jpg\" style=\"margin: 0px 0px 5px 20px; width: 100px; float: right;\" title=\"\" alt=\"\" />\n",
    "Всестороннее введение в новый язык программирования для научно-технических вычислений [Julia](http://julialang.org/) в книге Малколма Шеррингтона, Packt Publishing, июль 2015.\n",
    "\n",
    "<h1>Осваиваем язык Julia</h1><br />\n",
    "\n",
    "Совершенствование мастерства в области аналитики и программирования при помощи Julia в целях решения задач комплексной обработки данных\n",
    "<div style=\"text-align: left;font-size:8pt;padding-top:10px;\">Программный код Julia (v0.4.5) протестирован в Windows 8.1/10 и Linux/Lubuntu 16.4</div>\n",
    "<div style=\"text-align: left;\"><h1>Глава 7. Графика</h1></div>"
   ]
  },
  {
   "cell_type": "markdown",
   "metadata": {},
   "source": [
    "### Пакет Gaston"
   ]
  },
  {
   "cell_type": "markdown",
   "metadata": {},
   "source": [
    "<i class=\"fa fa-windows\" aria-hidden=\"true\"></i>\n",
    "<i class=\"fa fa-linux\" aria-hidden=\"true\"></i>\n",
    "<i class=\"fa fa-apple\" aria-hidden=\"true\"></i>"
   ]
  },
  {
   "cell_type": "code",
   "execution_count": 1,
   "metadata": {
    "collapsed": true
   },
   "outputs": [],
   "source": [
    "#\n",
    "# gaston_ex1.jl\n",
    "#\n",
    "# График будет показан в отдельном окне\n",
    "\n",
    "# выделенная часть кода может устареть\n",
    "# когда/если автор пакета выполнит его обновление\n",
    "# с учетом последних версий языка и утилиты gnuplot\n",
    "cd(joinpath(homedir(),\"julia_projects\",\"gaston\",\"src\"))\n",
    "include(\"Gaston.jl\")\n",
    "#\n",
    "\n",
    "using Gaston\n",
    "g = Gaston;\n",
    "\n",
    "c = g.CurveConf();\n",
    "c.legend = \"Произвольно\";\n",
    "c.plotstyle = \"errorbars\";\n",
    "y = exp(-(1:.1:4.9));\n",
    "ylow = y - 0.05*rand(40);\n",
    "yhigh = y + 0.05*rand(40);\n",
    "g.addcoords(1:40,y,c);\n",
    "g.adderror(0.1*rand(40));\n",
    "a = g.AxesConf();\n",
    "a.title = \"Значения ошибки (вертикальные отрезки)\";\n",
    "g.addconf(a);\n",
    "\n",
    "g.llplot();  "
   ]
  },
  {
   "cell_type": "code",
   "execution_count": 2,
   "metadata": {
    "collapsed": false
   },
   "outputs": [
    {
     "name": "stderr",
     "output_type": "stream",
     "text": [
      "WARNING: replacing module Gaston\n"
     ]
    }
   ],
   "source": [
    "#\n",
    "# gaston_ex2.jl\n",
    "#\n",
    "# График будет показан в отдельном окне\n",
    "\n",
    "# выделенная часть кода может устареть\n",
    "# когда/если автор пакета выполнит его обновление\n",
    "# с учетом последних версий языка и утилиты gnuplot\n",
    "cd(joinpath(homedir(),\"julia_projects\",\"gaston\",\"src\"))\n",
    "include(\"Gaston.jl\")\n",
    "#\n",
    "\n",
    "using Gaston\n",
    "g = Gaston;\n",
    "\n",
    "c = g.CurveConf();\n",
    "c.plotstyle = \"pm3d\";\n",
    "x = -15:0.33:15;\n",
    "y = -15:0.33:15;\n",
    "Z = g.meshgrid(x, y, (x,y) -> \n",
    "                    sin(sqrt(x .* x+y .* y)) / sqrt(x .* x+y .* y));\n",
    "\n",
    "g.addcoords(x,y,Z,c);\n",
    "a = g.AxesConf();\n",
    "a.title = \"3D: Сомбреро\";\n",
    "g.addconf(a);\n",
    "g.llplot()"
   ]
  },
  {
   "cell_type": "code",
   "execution_count": 1,
   "metadata": {
    "collapsed": true
   },
   "outputs": [],
   "source": [
    "#\n",
    "# gaston_demo.jl\n",
    "#\n",
    "# График будет показан в отдельном окне\n",
    "\n",
    "# выделенная часть кода может устареть\n",
    "# когда/если автор пакета выполнит его обновление\n",
    "# с учетом последних версий языка и утилиты gnuplot\n",
    "cd(joinpath(homedir(),\"julia_projects\",\"gaston\",\"src\"))\n",
    "include(\"Gaston.jl\")\n",
    "#\n",
    "\n",
    "using Gaston\n",
    "g = Gaston;\n",
    "\n",
    "# придется закрывать 20 окон с графиками вручную :))\n",
    "gaston_demo()"
   ]
  },
  {
   "cell_type": "code",
   "execution_count": null,
   "metadata": {
    "collapsed": true
   },
   "outputs": [],
   "source": []
  }
 ],
 "metadata": {
  "kernelspec": {
   "display_name": "Julia 0.4.5",
   "language": "julia",
   "name": "julia-0.4"
  },
  "language_info": {
   "file_extension": ".jl",
   "mimetype": "application/julia",
   "name": "julia",
   "version": "0.4.5"
  }
 },
 "nbformat": 4,
 "nbformat_minor": 0
}
