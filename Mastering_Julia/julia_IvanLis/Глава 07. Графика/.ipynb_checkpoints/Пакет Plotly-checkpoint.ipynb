{
 "cells": [
  {
   "cell_type": "markdown",
   "metadata": {},
   "source": [
    "<script src=\"https://use.fontawesome.com/2e576da815.js\"></script>"
   ]
  },
  {
   "cell_type": "markdown",
   "metadata": {},
   "source": [
    "<div style=\"text-align: left;\"><img src=\"https://www.juliabox.org/assets/img/juliacloudlogo.png\" style=\"margin: 0px 0px 0px 0px; padding-right: 20px;width: 80px; float: left;\" title=\"\" alt=\"\" /></div>\n",
    "<img src=\"http://dmkpress.com/images/cms/thumbs/a5b0aeaa3fa7d6e58d75710c18673bd7ec6d5f6d/978-5-97060-370-3_270_369__100.jpg\" style=\"margin: 0px 0px 5px 20px; width: 100px; float: right;\" title=\"\" alt=\"\" />\n",
    "Всестороннее введение в новый язык программирования для научно-технических вычислений [Julia](http://julialang.org/) в книге Малколма Шеррингтона, Packt Publishing, июль 2015.\n",
    "\n",
    "<h1>Осваиваем язык Julia</h1><br />\n",
    "\n",
    "Совершенствование мастерства в области аналитики и программирования при помощи Julia в целях решения задач комплексной обработки данных\n",
    "<div style=\"text-align: left;font-size:8pt;padding-top:10px;\">Программный код Julia (v0.4.5) протестирован в Windows 8.1/10 и Linux/Lubuntu 16.4</div>\n",
    "<div style=\"text-align: left;\"><h1>Глава 7. Графика</h1></div>"
   ]
  },
  {
   "cell_type": "markdown",
   "metadata": {},
   "source": [
    "### Пакет Plotly"
   ]
  },
  {
   "cell_type": "markdown",
   "metadata": {},
   "source": [
    "<i class=\"fa fa-cloud\" aria-hidden=\"true\"></i>"
   ]
  },
  {
   "cell_type": "code",
   "execution_count": null,
   "metadata": {
    "collapsed": true
   },
   "outputs": [],
   "source": [
    "using Plotly\n",
    "\n",
    "# Войти в систему под своим именем пользователя и со своим api-ключом\n",
    "Plotly.signin(\"myuserid\", \"abc32def7g\")\n",
    "\n",
    "trace1 = Dict(\n",
    "  \"x\" => [0, 1, 2, 3, 4, 5, 6, 7, 8], \n",
    "  \"y\" => [8, 7, 6, 5, 4, 3, 2, 1, 0], \n",
    "  \"type\" => \"scatter\"\n",
    ");\n",
    "\n",
    "trace2 = Dict(\n",
    "  \"x\" => [0, 1, 2, 3, 4, 5, 6, 7, 8], \n",
    "  \"y\" => [0, 1, 2, 3, 4, 5, 6, 7, 8], \n",
    "  \"type\" => \"scatter\"\n",
    ");\n",
    "\n",
    "data = [trace1, trace2];\n",
    "\n",
    "layout = Dict(\n",
    "  \"xaxis\" => Dict(\"type\" => \"log\", \"autorange\" => true), \n",
    "  \"yaxis\" => Dict(\"type\" => \"log\", \"autorange\" => true)\n",
    ");\n",
    "\n",
    "response = Plotly.plot(data, \n",
    "  Dict(\"layout\"   => layout, \n",
    "       \"filename\" => \"plotly-log-axes\", \n",
    "       \"fileopt\"  => \"overwrite\"));\n",
    "\n",
    "plot_url = response[\"url\"]"
   ]
  },
  {
   "cell_type": "code",
   "execution_count": null,
   "metadata": {
    "collapsed": true
   },
   "outputs": [],
   "source": [
    "using Plotly\n",
    "\n",
    "# Войти в систему под своим именем пользователя и со своим api-ключом\n",
    "Plotly.signin(\"myuserid\", \"abc32def7g\")\n",
    "\n",
    "N = 100;\n",
    "x = linspace(-2*pi, 2*pi, N);\n",
    "y = linspace(-2*pi, 2*pi, N);\n",
    "z = rand(N, N);\n",
    "\n",
    "for i = 1:N, j = 1:N\n",
    "  r2 = (x[i]^2 + y[j]^2);\n",
    "  z[i,j] = sin(x[i]) * cos(y[j]) * sin(r2)/log(r2+1);\n",
    "end\n",
    "\n",
    "data = [ Dict(\"z\" => z,\"x\" => x,\"y\" => y,\"type\" => \"contour\") ];\n",
    "\n",
    "response = Plotly.plot(data,\n",
    "  Dict(\"filename\" => \"simple-contour\",\n",
    "       \"fileopt\"  => \"overwrite\"));\n",
    "\n",
    "plot_url = response[\"url\"];\n",
    "\n",
    "Plotly.openurl(plot_url) # Показать график, выложенный по адресу URL http://plot.ly/~myuserid/идентификатор"
   ]
  },
  {
   "cell_type": "code",
   "execution_count": null,
   "metadata": {
    "collapsed": true
   },
   "outputs": [],
   "source": []
  }
 ],
 "metadata": {
  "kernelspec": {
   "display_name": "Julia 0.4.5",
   "language": "julia",
   "name": "julia-0.4"
  },
  "language_info": {
   "file_extension": ".jl",
   "mimetype": "application/julia",
   "name": "julia",
   "version": "0.4.5"
  }
 },
 "nbformat": 4,
 "nbformat_minor": 0
}
