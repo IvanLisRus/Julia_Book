{
 "cells": [
  {
   "cell_type": "markdown",
   "metadata": {},
   "source": [
    "<div style=\"text-align: left;\"><img src=\"https://www.juliabox.org/assets/img/juliacloudlogo.png\" style=\"margin: 0px 0px 0px 0px; padding-right: 20px;width: 80px; float: left;\" title=\"\" alt=\"\" /></div>\n",
    "<img src=\"http://dmkpress.com/images/cms/thumbs/a5b0aeaa3fa7d6e58d75710c18673bd7ec6d5f6d/978-5-97060-370-3_270_369__100.jpg\" style=\"margin: 0px 0px 5px 20px; width: 100px; float: right;\" title=\"\" alt=\"\" />\n",
    "Всестороннее введение в новый язык программирования для научно-технических вычислений [Julia](http://julialang.org/) в книге Малколма Шеррингтона, Packt Publishing, июль 2015.\n",
    "\n",
    "<h1>Осваиваем язык Julia</h1><br />\n",
    "\n",
    "Совершенствование мастерства в области аналитики и программирования при помощи Julia в целях решения задач комплексной обработки данных\n",
    "<div style=\"text-align: left;font-size:8pt;padding-top:10px;\">Программный код Julia (v0.4.5) протестирован в Windows 8.1/10 и Linux/Lubuntu 16.4</div>\n",
    "<div style=\"text-align: left;\"><h1>Глава 7. Графика</h1></div>"
   ]
  },
  {
   "cell_type": "markdown",
   "metadata": {},
   "source": [
    "### Пакет Compose"
   ]
  },
  {
   "cell_type": "code",
   "execution_count": null,
   "metadata": {
    "collapsed": true
   },
   "outputs": [],
   "source": [
    "cd(joinpath(homedir(),\"julia_projects\",\"images\"))\n",
    "\n",
    "using Compose\n",
    "\n",
    "shapes = compose(context(), fill(\"cornflowerblue\"),\n",
    "          (context( 0.1, 0.1, 0.15, 0.1 ), circle()),\n",
    "          (context( 0.35, 0.06, 0.2, 0.18 ),\n",
    "          rectangle(), fill(\"red\")),\n",
    "          (context( 0.6, 0.05, 0.2, 0.2), fill(\"magenta3\"),\n",
    "          polygon([(1, 1), (0.3, 1), (0.5, 0)]) ));\n",
    "\n",
    "img = SVG(\"figure_7_5_shapes.svg\", 10cm, 8.66cm)\n",
    "\n",
    "Compose.draw(img,shapes)\n",
    "print(\"Изображение записано да диск.\")"
   ]
  },
  {
   "cell_type": "code",
   "execution_count": 2,
   "metadata": {
    "collapsed": false
   },
   "outputs": [
    {
     "name": "stdout",
     "output_type": "stream",
     "text": [
      "Изображения записаны на диск."
     ]
    }
   ],
   "source": [
    "cd(joinpath(homedir(),\"julia_projects\",\"images\"))\n",
    "\n",
    "using Compose\n",
    "\n",
    "function sierpinski(n) \n",
    "  if n == 0 \n",
    "    compose(context(), polygon([(1,1), (0,1), (1/2, 0)]));\n",
    "  else \n",
    "    t = sierpinski(n - 1);\n",
    "    compose( context(), (context( 1/4, 0, 1/2, 1/2), t), \n",
    "        (context( 0, 1/2, 1/2, 1/2), t), \n",
    "        (context( 1/2, 1/2, 1/2, 1/2), t));\n",
    "  end \n",
    "end\n",
    " \n",
    "cx1 = compose(sierpinski(1), linewidth(0.2mm), fill(nothing), stroke(\"black\"));\n",
    "img = SVG(\"figure_7_4_sierp1.svg\", 10cm, 8.66cm); draw(img,cx1)\n",
    "\n",
    "cx3 = compose(sierpinski(3), linewidth(0.2mm), fill(nothing), stroke(\"black\"));\n",
    "img = SVG(\"figure_7_4_sierp3.svg\", 10cm, 8.66cm); draw(img,cx3)\n",
    "\n",
    "cx5 = compose(sierpinski(5), linewidth(0.2mm), fill(nothing), stroke(\"black\"));\n",
    "\n",
    "img = SVG(\"figure_7_4_sierp5.svg\", 10cm, 8.66cm); draw(img,cx5)\n",
    "\n",
    "print(\"Изображения записаны на диск.\")"
   ]
  },
  {
   "cell_type": "code",
   "execution_count": null,
   "metadata": {
    "collapsed": true
   },
   "outputs": [],
   "source": []
  }
 ],
 "metadata": {
  "kernelspec": {
   "display_name": "Julia 0.4.5",
   "language": "julia",
   "name": "julia-0.4"
  },
  "language_info": {
   "file_extension": ".jl",
   "mimetype": "application/julia",
   "name": "julia",
   "version": "0.4.5"
  }
 },
 "nbformat": 4,
 "nbformat_minor": 0
}
