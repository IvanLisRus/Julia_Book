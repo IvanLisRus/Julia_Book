{
 "cells": [
  {
   "cell_type": "markdown",
   "metadata": {},
   "source": [
    "<div style=\"text-align: left;\"><img src=\"https://www.juliabox.org/assets/img/juliacloudlogo.png\" style=\"margin: 0px 0px 0px 0px; padding-right: 20px;width: 80px; float: left;\" title=\"\" alt=\"\" /></div>\n",
    "<img src=\"http://dmkpress.com/images/cms/thumbs/a5b0aeaa3fa7d6e58d75710c18673bd7ec6d5f6d/978-5-97060-370-3_270_369__100.jpg\" style=\"margin: 0px 0px 5px 20px; width: 100px; float: right;\" title=\"\" alt=\"\" />\n",
    "Всестороннее введение в новый язык программирования для научно-технических вычислений [Julia](http://julialang.org/) в книге Малколма Шеррингтона, Packt Publishing, июль 2015.\n",
    "\n",
    "<h1>Осваиваем язык Julia</h1><br />\n",
    "\n",
    "Совершенствование мастерства в области аналитики и программирования при помощи Julia в целях решения задач комплексной обработки данных\n",
    "<div style=\"text-align: left;font-size:8pt;padding-top:10px;\">Программный код Julia (v0.4.5) протестирован в Windows 8.1/10 и Linux/Lubuntu 16.4</div>\n",
    "<div style=\"text-align: left;\"><h1>Глава 10. Примеры</h1></div>"
   ]
  },
  {
   "cell_type": "markdown",
   "metadata": {},
   "source": [
    "### Использование GPU-вычислений, 2"
   ]
  },
  {
   "cell_type": "code",
   "execution_count": 1,
   "metadata": {
    "collapsed": false
   },
   "outputs": [
    {
     "name": "stdout",
     "output_type": "stream",
     "text": [
      "Время выполнения: 0.388257\u0007 sec.\n"
     ]
    }
   ],
   "source": [
    "#\n",
    "# cl_mmul.jl\n",
    "#\n",
    "\n",
    "import OpenCL\n",
    "\n",
    "const cl = OpenCL\n",
    "\n",
    "const mult_kernel = \"\"\"\n",
    "   __kernel void mult(__global const float *a,\n",
    "                      __global const float *b,\n",
    "                      __global float *c)\n",
    "    {\n",
    "      int gid = get_global_id(0);\n",
    "      c[gid] = a[gid] * b[gid];\n",
    "    }\n",
    "\"\"\"\n",
    "\n",
    "const N = 100_000;\n",
    "a = rand(Float32, N);\n",
    "b = rand(Float32, N);\n",
    "\n",
    "device, ctx, queue = cl.create_compute_context();\n",
    "\n",
    "a_buff = cl.Buffer(Float32, ctx, (:r, :copy), hostbuf=a);\n",
    "b_buff = cl.Buffer(Float32, ctx, (:r, :copy), hostbuf=b);\n",
    "c_buff = cl.Buffer(Float32, ctx, :w, length(a));\n",
    "\n",
    "p = cl.Program(ctx, source=mult_kernel) |> cl.build!;\n",
    "k = cl.Kernel(p, \"mult\");\n",
    "\n",
    "tm = @elapsed cl.call(queue, k, size(a), nothing, a_buff, b_buff, c_buff);\n",
    "\n",
    "@printf \"Время выполнения: %f\\a sec.\\n\" tm"
   ]
  },
  {
   "cell_type": "code",
   "execution_count": null,
   "metadata": {
    "collapsed": true
   },
   "outputs": [],
   "source": []
  }
 ],
 "metadata": {
  "kernelspec": {
   "display_name": "Julia 0.4.5",
   "language": "julia",
   "name": "julia-0.4"
  },
  "language_info": {
   "file_extension": ".jl",
   "mimetype": "application/julia",
   "name": "julia",
   "version": "0.4.5"
  }
 },
 "nbformat": 4,
 "nbformat_minor": 0
}
