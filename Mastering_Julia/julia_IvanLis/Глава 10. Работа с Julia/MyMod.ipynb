{
 "cells": [
  {
   "cell_type": "markdown",
   "metadata": {},
   "source": [
    "<div style=\"text-align: left;\"><img src=\"https://www.juliabox.org/assets/img/juliacloudlogo.png\" style=\"margin: 0px 0px 0px 0px; padding-right: 20px;width: 80px; float: left;\" title=\"\" alt=\"\" /></div>\n",
    "<img src=\"http://dmkpress.com/images/cms/thumbs/a5b0aeaa3fa7d6e58d75710c18673bd7ec6d5f6d/978-5-97060-370-3_270_369__100.jpg\" style=\"margin: 0px 0px 5px 20px; width: 100px; float: right;\" title=\"\" alt=\"\" />\n",
    "Всестороннее введение в новый язык программирования для научно-технических вычислений [Julia](http://julialang.org/) в книге Малколма Шеррингтона, Packt Publishing, июль 2015.\n",
    "\n",
    "<h1>Осваиваем язык Julia</h1><br />\n",
    "\n",
    "Совершенствование мастерства в области аналитики и программирования при помощи Julia в целях решения задач комплексной обработки данных\n",
    "<div style=\"text-align: left;font-size:8pt;padding-top:10px;\">Программный код Julia (v0.4.5) протестирован в Windows 8.1/10 и Linux/Lubuntu 16.4</div>\n",
    "<div style=\"text-align: left;\"><h1>Глава 10. Примеры</h1></div>"
   ]
  },
  {
   "cell_type": "markdown",
   "metadata": {},
   "source": [
    "### Разработка собственного программного пакета"
   ]
  },
  {
   "cell_type": "code",
   "execution_count": 1,
   "metadata": {
    "collapsed": false
   },
   "outputs": [
    {
     "data": {
      "text/plain": [
       "MyMod"
      ]
     },
     "execution_count": 1,
     "metadata": {},
     "output_type": "execute_result"
    }
   ],
   "source": [
    "#\n",
    "# MyMod.jl\n",
    "#\n",
    "\n",
    "module MyMod\n",
    "\n",
    "export hi, inc, fac, fib, pisq;\n",
    "\n",
    "hi() = \"Привет\"\n",
    "hi(who::AbstractString) = \"Привет, $who\"\n",
    "\n",
    "inc(x::Number) = x + 1\n",
    "\n",
    "function fac(n::Integer)\n",
    "  @assert n > 0\n",
    "  (n == 1) ? 1 : n*fac(n-1);\n",
    "end\n",
    "\n",
    "function fib_helper(a ::Integer, b::Integer, n::Integer)\n",
    "   (n > 0) ? fib_helper(b, a+b, n-1) : a\n",
    "end\n",
    "\n",
    "function fib(n::Integer)\n",
    "   @assert n > 0\n",
    "   fib_helper(0, 1, n)\n",
    "end\n",
    "\n",
    "function pisq(n::Integer)\n",
    "  (n <= 0) ? error(\"Нулевой или отрицательный аргумент\") : begin\n",
    "    s = 1.0\n",
    "    for k = 1:n\n",
    "      s += (-1.0)^k/(1.0 + k)^2\n",
    "    end\n",
    "    return 12*s\n",
    "  end\n",
    "end\n",
    "\n",
    "end"
   ]
  },
  {
   "cell_type": "code",
   "execution_count": 2,
   "metadata": {
    "collapsed": false
   },
   "outputs": [
    {
     "data": {
      "text/plain": [
       "\"Привет\""
      ]
     },
     "execution_count": 2,
     "metadata": {},
     "output_type": "execute_result"
    }
   ],
   "source": [
    "using MyMod\n",
    "\n",
    "hi()"
   ]
  },
  {
   "cell_type": "code",
   "execution_count": 3,
   "metadata": {
    "collapsed": false
   },
   "outputs": [
    {
     "data": {
      "text/plain": [
       "89"
      ]
     },
     "execution_count": 3,
     "metadata": {},
     "output_type": "execute_result"
    }
   ],
   "source": [
    "fib(11)"
   ]
  },
  {
   "cell_type": "code",
   "execution_count": 4,
   "metadata": {
    "collapsed": false
   },
   "outputs": [],
   "source": [
    "using MyMod\n",
    "using Base.Test\n",
    "\n",
    "@test hi(\"Голубоглазка\") == \"Привет, Голубоглазка\"\n",
    "@test inc(11//7)         == 18//7\n",
    "@test fac(7)             == 5040\n",
    "@test fib(10)            == 55\n",
    "@test_approx_eq inc(2.3) 3.3 "
   ]
  },
  {
   "cell_type": "code",
   "execution_count": 5,
   "metadata": {
    "collapsed": false
   },
   "outputs": [
    {
     "ename": "LoadError",
     "evalue": "LoadError: assertion failed: |pisq(100000) - pi * pi| <= 1.7763568394002505e-11\n  pisq(100000) = 9.869604401689116\n  pi * pi = 9.869604401089358\n  difference = 5.997584651140642e-10 > 1.7763568394002505e-11\nwhile loading In[5], in expression starting on line 1",
     "output_type": "error",
     "traceback": [
      "LoadError: assertion failed: |pisq(100000) - pi * pi| <= 1.7763568394002505e-11\n  pisq(100000) = 9.869604401689116\n  pi * pi = 9.869604401089358\n  difference = 5.997584651140642e-10 > 1.7763568394002505e-11\nwhile loading In[5], in expression starting on line 1",
      "",
      " in error at error.jl:22"
     ]
    }
   ],
   "source": [
    "@test_approx_eq pisq(100000) pi*pi"
   ]
  },
  {
   "cell_type": "code",
   "execution_count": 6,
   "metadata": {
    "collapsed": true
   },
   "outputs": [],
   "source": [
    "# Проверка успешная\n",
    "\n",
    "@test_approx_eq_eps pisq(100000) pi*pi 1.0e-6; "
   ]
  },
  {
   "cell_type": "code",
   "execution_count": 12,
   "metadata": {
    "collapsed": false
   },
   "outputs": [
    {
     "name": "stdout",
     "output_type": "stream",
     "text": [
      "MyMod - проверка арифметики\n",
      "  Failure :: (line:-1) :: fact was false\n",
      "    Expression: fib(10) --> 54\n",
      "      Expected: 54\n",
      "      Occurred: 55\n",
      "  Failure :: (line:-1) :: fact was false\n",
      "    Expression: pisq(100000) --> pi * pi\n",
      "      Expected: 9.869604401089358\n",
      "      Occurred: 9.869604401689116\n",
      "Out of 4 total facts:\n",
      "  Verified: 2\n",
      "  Failed:   2\n"
     ]
    },
    {
     "data": {
      "text/plain": [
       "delayed_handler (generic function with 4 methods)"
      ]
     },
     "execution_count": 12,
     "metadata": {},
     "output_type": "execute_result"
    }
   ],
   "source": [
    "using FactCheck\n",
    "\n",
    "facts(\"MyMod - проверка арифметики\") do\n",
    "  @fact inc(2.3) --> 3.3         \n",
    "  @fact fac(5)   --> 120        \n",
    "  @fact fib(10)  --> 54         \n",
    "  @fact pisq(100000) --> pi*pi  # => грубо (pi*pi, 1.0E-6)\n",
    "end"
   ]
  },
  {
   "cell_type": "code",
   "execution_count": null,
   "metadata": {
    "collapsed": true
   },
   "outputs": [],
   "source": []
  }
 ],
 "metadata": {
  "kernelspec": {
   "display_name": "Julia 0.4.5",
   "language": "julia",
   "name": "julia-0.4"
  },
  "language_info": {
   "file_extension": ".jl",
   "mimetype": "application/julia",
   "name": "julia",
   "version": "0.4.5"
  }
 },
 "nbformat": 4,
 "nbformat_minor": 0
}
