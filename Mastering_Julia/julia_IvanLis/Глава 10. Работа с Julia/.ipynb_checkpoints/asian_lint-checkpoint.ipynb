{
 "cells": [
  {
   "cell_type": "markdown",
   "metadata": {},
   "source": [
    "<div style=\"text-align: left;\"><img src=\"https://www.juliabox.org/assets/img/juliacloudlogo.png\" style=\"margin: 0px 0px 0px 0px; padding-right: 20px;width: 80px; float: left;\" title=\"\" alt=\"\" /></div>\n",
    "<img src=\"http://dmkpress.com/images/cms/thumbs/a5b0aeaa3fa7d6e58d75710c18673bd7ec6d5f6d/978-5-97060-370-3_270_369__100.jpg\" style=\"margin: 0px 0px 5px 20px; width: 100px; float: right;\" title=\"\" alt=\"\" />\n",
    "Всестороннее введение в новый язык программирования для научно-технических вычислений [Julia](http://julialang.org/) в книге Малколма Шеррингтона, Packt Publishing, июль 2015.\n",
    "\n",
    "<h1>Осваиваем язык Julia</h1><br />\n",
    "\n",
    "Совершенствование мастерства в области аналитики и программирования при помощи Julia в целях решения задач комплексной обработки данных\n",
    "<div style=\"text-align: left;font-size:8pt;padding-top:10px;\">Программный код Julia (v0.4.5) протестирован в Windows 8.1/10 и Linux/Lubuntu 16.4</div>\n",
    "<div style=\"text-align: left;\"><h1>Глава 10. Примеры</h1></div>"
   ]
  },
  {
   "cell_type": "markdown",
   "metadata": {},
   "source": [
    "### Статический анализ программного кода "
   ]
  },
  {
   "cell_type": "code",
   "execution_count": 1,
   "metadata": {
    "collapsed": false
   },
   "outputs": [
    {
     "data": {
      "text/plain": [
       "asianOpt (generic function with 3 methods)"
      ]
     },
     "execution_count": 1,
     "metadata": {},
     "output_type": "execute_result"
    }
   ],
   "source": [
    "function asianOpt(N=10000,T=100; S0=100.0,K= 100.0,r=0.05,v=0.2,tma=0.25) \n",
    "  dt = tma/T;\n",
    "  S = zeros(Float64,T);\n",
    "  A = zeros(Float64,N);\n",
    "  for n = 1:N\n",
    "    S[1] = S0 \n",
    "    dW = randn(T)*sqrt(dt);\n",
    "    for t = 2:T\n",
    "      z0 = (r - 0.5*v*v)*S[t-1]*dt;\n",
    "      z1 = v*S[t-1]*dW[t];\n",
    "      z2 = 0.5*v*v*S[t-1]*dW[t]*dW[t];\n",
    "      S[t] = S[t-1] + z0 + z1 + z2;\n",
    "    end\n",
    "    A[n] = mean(S);\n",
    "  end\n",
    "  P = zeros(Float64,N);\n",
    "  [ P[n] = max(A[n] - K, 0) for n = 1:N ];\n",
    "  price = exp(-r*tma)*mean(P);\n",
    "end"
   ]
  },
  {
   "cell_type": "code",
   "execution_count": 2,
   "metadata": {
    "collapsed": false
   },
   "outputs": [
    {
     "data": {
      "text/plain": [
       "0.5116585348869915"
      ]
     },
     "execution_count": 2,
     "metadata": {},
     "output_type": "execute_result"
    }
   ],
   "source": [
    "asianOpt (10)"
   ]
  },
  {
   "cell_type": "code",
   "execution_count": null,
   "metadata": {
    "collapsed": false
   },
   "outputs": [],
   "source": [
    "#\n",
    "# asian_lint.jl\n",
    "#\n",
    "\n",
    "using Lint\n",
    "\n",
    "function asionOpt(N::Int=10000.0,T::Int=100; S0=100.0,K= 100.0,v=0.05,v=0.2,tma=0.25) # 1: v=0.05 вместо r=0.05\n",
    "  dt = tma/T;\n",
    "  S = zeros(Float64,T);\n",
    "  A = zeros(Float64,N);\n",
    "  for n = 1:N\n",
    "    S[1] = S0 \n",
    "    dW = randn(T)*sqrt(dt);\n",
    "    for t = 2:T\n",
    "      z0 = (r - 0.5*v*v)*S[t-1]*dt;\n",
    "      z1 = v*S[t-1]*dW[t];\n",
    "      z2 = 0.5*v*v*S[t-1]*dW[t]*dW[t];\n",
    "      S[t] = S[t-1] + z0 + z1 + z2 + z3;  # 2: добавлен лишний терм z3\n",
    "    end\n",
    "    A[n] = mean(S);\n",
    "  end\n",
    "  P = zeros(Float64,N);\n",
    "  \n",
    "  @lintpragma(\"Print type P\")  # 3\n",
    "  \n",
    "  [ P[n] = max(A[n] - K, 0) for n = 1:N ];\n",
    "  price = exp(-r*tma)*mean(P);\n",
    "end\n",
    "\n",
    "@lintpragma(\"Info me Я специально подправил этот фрагмент\")  # 4"
   ]
  },
  {
   "cell_type": "code",
   "execution_count": null,
   "metadata": {
    "collapsed": false
   },
   "outputs": [],
   "source": [
    "cd(joinpath(homedir(),\"julia_projects\",\"code\"))\n",
    "\n",
    "using Lint\n",
    "\n",
    "lintfile(\"asian_lint.jl\")"
   ]
  },
  {
   "cell_type": "code",
   "execution_count": 4,
   "metadata": {
    "collapsed": false,
    "scrolled": true
   },
   "outputs": [
    {
     "name": "stdout",
     "output_type": "stream",
     "text": [
      "etl.jl:58 W356 cat: local variable might cause confusion with a synonymous export from Base\n"
     ]
    }
   ],
   "source": [
    "cd(joinpath(homedir(),\"julia_projects\",\"code\"))\n",
    "\n",
    "using Lint\n",
    "\n",
    "lintfile(\"etl.jl\")"
   ]
  },
  {
   "cell_type": "code",
   "execution_count": 5,
   "metadata": {
    "collapsed": false
   },
   "outputs": [
    {
     "name": "stdout",
     "output_type": "stream",
     "text": [
      "etl8.jl:59 W356 cat: local variable might cause confusion with a synonymous export from Base\n"
     ]
    }
   ],
   "source": [
    "cd(joinpath(homedir(),\"julia_projects\",\"code\"))\n",
    "\n",
    "using Lint\n",
    "\n",
    "lintfile(\"etl8.jl\")"
   ]
  },
  {
   "cell_type": "code",
   "execution_count": null,
   "metadata": {
    "collapsed": true
   },
   "outputs": [],
   "source": []
  }
 ],
 "metadata": {
  "kernelspec": {
   "display_name": "Julia 0.4.5",
   "language": "julia",
   "name": "julia-0.4"
  },
  "language_info": {
   "file_extension": ".jl",
   "mimetype": "application/julia",
   "name": "julia",
   "version": "0.4.5"
  }
 },
 "nbformat": 4,
 "nbformat_minor": 0
}
