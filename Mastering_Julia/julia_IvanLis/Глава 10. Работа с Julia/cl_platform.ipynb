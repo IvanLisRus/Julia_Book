{
 "cells": [
  {
   "cell_type": "markdown",
   "metadata": {},
   "source": [
    "<div style=\"text-align: left;\"><img src=\"https://www.juliabox.org/assets/img/juliacloudlogo.png\" style=\"margin: 0px 0px 0px 0px; padding-right: 20px;width: 80px; float: left;\" title=\"\" alt=\"\" /></div>\n",
    "<img src=\"http://dmkpress.com/images/cms/thumbs/a5b0aeaa3fa7d6e58d75710c18673bd7ec6d5f6d/978-5-97060-370-3_270_369__100.jpg\" style=\"margin: 0px 0px 5px 20px; width: 100px; float: right;\" title=\"\" alt=\"\" />\n",
    "Всестороннее введение в новый язык программирования для научно-технических вычислений [Julia](http://julialang.org/) в книге Малколма Шеррингтона, Packt Publishing, июль 2015.\n",
    "\n",
    "<h1>Осваиваем язык Julia</h1><br />\n",
    "\n",
    "Совершенствование мастерства в области аналитики и программирования при помощи Julia в целях решения задач комплексной обработки данных\n",
    "<div style=\"text-align: left;font-size:8pt;padding-top:10px;\">Программный код Julia (v0.4.5) протестирован в Windows 8.1/10 и Linux/Lubuntu 16.4</div>\n",
    "<div style=\"text-align: left;\"><h1>Глава 10. Примеры</h1></div>"
   ]
  },
  {
   "cell_type": "code",
   "execution_count": 1,
   "metadata": {
    "collapsed": false
   },
   "outputs": [
    {
     "data": {
      "text/plain": [
       "3-element Array{OpenCL.Device,1}:\n",
       " OpenCL.Device( Intel(R) Core(TM) i3-3217U CPU @ 1.80GHz on Intel(R) OpenCL @0x00000000010a93e0)\n",
       " OpenCL.Device(Intel(R) HD Graphics 4000 on Intel(R) OpenCL @0x000000001094a7b0)                \n",
       " OpenCL.Device(GeForce GT 710M on NVIDIA CUDA @0x000000001111ec10)                              "
      ]
     },
     "execution_count": 1,
     "metadata": {},
     "output_type": "execute_result"
    }
   ],
   "source": [
    "using OpenCL\n",
    "\n",
    "pf = OpenCL.devices()"
   ]
  },
  {
   "cell_type": "code",
   "execution_count": 2,
   "metadata": {
    "collapsed": false
   },
   "outputs": [
    {
     "data": {
      "text/plain": [
       "cl_platform (generic function with 1 method)"
      ]
     },
     "execution_count": 2,
     "metadata": {},
     "output_type": "execute_result"
    }
   ],
   "source": [
    "#\n",
    "# cl_platforms.jl\n",
    "#\n",
    "\n",
    "using OpenCL\n",
    "\n",
    "function cl_platform(pname)\n",
    "    \n",
    "  @printf \"\\n%s\\n\\n\" pf\n",
    "    \n",
    "  for pf in OpenCL.platforms()\n",
    "        \n",
    "    if contains(pf[:name],pname)\n",
    "            \n",
    "      @printf \"\\n\\n%s\\n\\n\" pf\n",
    "      @printf \"Название платформы:\\t\\t%s\\n\" pf[:name]\n",
    "            \n",
    "      if pf[:name] == \"Portable Computing Language\"\n",
    "        warn(\"PCL-платформа пока не поддерживается\")\n",
    "        continue\n",
    "      else\n",
    "        @printf \"Профиль платформы:\\t\\t%s\\n\" pf[:profile]\n",
    "        @printf \"Поставщик платформы:\\t\\t%s\\n\" pf[:vendor]\n",
    "        @printf \"Версия платформы:\\t\\t%s\\n\\n\" pf[:version]\n",
    "\n",
    "        for dv in OpenCL.available_devices(pf)\n",
    "          @printf \"Имя устройства:\\t\\t\\t%s\\n\"                dv[:name]\n",
    "          @printf \"Тип устройства:\\t\\t\\t%s\\n\"                dv[:device_type]\n",
    "          @printf \"Объем ОЗУ:\\t\\t\\t%i MB\\n\"                  (dv[:global_mem_size] / (1024*1024))\n",
    "          @printf \"Макс. размер выделяемой памяти:\\t%i MB\\n\" (dv[:max_mem_alloc_size] / (1024*1024))\n",
    "          @printf \"Макс. тактовая частота:\\t\\t%i MHZ\\n\"      (dv[:max_clock_frequency])\n",
    "          @printf \"Макс. число блоков вычислений:\\t%i\\n\"     (dv[:max_compute_units])\n",
    "          @printf \"Макс. размер рабочей группы:\\t%i\\n\"       (dv[:max_work_group_size])\n",
    "          @printf \"Макс. размер рабочего элемента:\\t%s\\n\\n\"  (dv[:max_work_item_size])\n",
    "        end \n",
    "                \n",
    "      end\n",
    "    end\n",
    "  end\n",
    "end"
   ]
  },
  {
   "cell_type": "code",
   "execution_count": 3,
   "metadata": {
    "collapsed": false
   },
   "outputs": [
    {
     "name": "stdout",
     "output_type": "stream",
     "text": [
      "\n",
      "[OpenCL.Device( Intel(R) Core(TM) i3-3217U CPU @ 1.80GHz on Intel(R) OpenCL @0x00000000010a93e0),OpenCL.Device(Intel(R) HD Graphics 4000 on Intel(R) OpenCL @0x000000001094a7b0),OpenCL.Device(GeForce GT 710M on NVIDIA CUDA @0x000000001111ec10)]\n",
      "\n",
      "\n",
      "\n",
      "OpenCL.Platform('Intel(R) OpenCL' @0x00000000110eb280)\n",
      "\n",
      "Название платформы:\t\tIntel(R) OpenCL\n",
      "Профиль платформы:\t\tFULL_PROFILE\n",
      "Поставщик платформы:\t\tIntel(R) Corporation\n",
      "Версия платформы:\t\tOpenCL 1.2 \n",
      "\n",
      "Имя устройства:\t\t\t Intel(R) Core(TM) i3-3217U CPU @ 1.80GHz\n",
      "Тип устройства:\t\t\tcpu\n",
      "Объем ОЗУ:\t\t\t6030 MB\n",
      "Макс. размер выделяемой памяти:\t1507 MB\n",
      "Макс. тактовая частота:\t\t1800 MHZ\n",
      "Макс. число блоков вычислений:\t4\n",
      "Макс. размер рабочей группы:\t1024\n",
      "Макс. размер рабочего элемента:\t(1024,1024,1024)\n",
      "\n",
      "Имя устройства:\t\t\tIntel(R) HD Graphics 4000\n",
      "Тип устройства:\t\t\tgpu\n",
      "Объем ОЗУ:\t\t\t1400 MB\n",
      "Макс. размер выделяемой памяти:\t350 MB\n",
      "Макс. тактовая частота:\t\t1050 MHZ\n",
      "Макс. число блоков вычислений:\t16\n",
      "Макс. размер рабочей группы:\t512\n",
      "Макс. размер рабочего элемента:\t(512,512,512)\n",
      "\n"
     ]
    }
   ],
   "source": [
    "cl_platform(\"Intel\")"
   ]
  },
  {
   "cell_type": "code",
   "execution_count": null,
   "metadata": {
    "collapsed": true
   },
   "outputs": [],
   "source": []
  }
 ],
 "metadata": {
  "kernelspec": {
   "display_name": "Julia 0.4.5",
   "language": "julia",
   "name": "julia-0.4"
  },
  "language_info": {
   "file_extension": ".jl",
   "mimetype": "application/julia",
   "name": "julia",
   "version": "0.4.5"
  }
 },
 "nbformat": 4,
 "nbformat_minor": 0
}
