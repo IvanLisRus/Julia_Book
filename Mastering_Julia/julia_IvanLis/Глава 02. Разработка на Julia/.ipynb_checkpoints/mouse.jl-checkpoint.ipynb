{
 "cells": [
  {
   "cell_type": "markdown",
   "metadata": {},
   "source": [
    "<div style=\"text-align: left;\"><img src=\"https://www.juliabox.org/assets/img/juliacloudlogo.png\"style=\"margin: 0px 0px 5px 0px; width: 200px; float: left;\" title=\"\" alt=\"\" /></div>\n",
    "\n",
    "<img src=\"https://dz13w8afd47il.cloudfront.net/sites/default/files/imagecache/ppv4_reader_book_cover/B03587_MockupCover_Normal.jpg\" style=\"margin: 0px 0px 5px 20px; width: 125px; float: right;\" title=\"\" alt=\"\" />\n",
    "<div style=\"text-align: left;float:right\"></div>\n",
    "\n",
    "Всестороннее введение в новый язык программирования для научно-технических вычислений [Julia](http://julialang.org/) в книге английского автора Малколма Шерридана, Packt Publishing, июль 2015.\n",
    "\n",
    "# Освоение языка Julia\n",
    "\n",
    "Совершенствование мастерства в области аналитики и программирования при помощи Julia в целях решения задач комплексной обработки данных "
   ]
  },
  {
   "cell_type": "markdown",
   "metadata": {},
   "source": [
    "Информацию по стохастической матрице читайте в Википедии [на русском](https://ru.wikipedia.org/wiki/%D0%A1%D1%82%D0%BE%D1%85%D0%B0%D1%81%D1%82%D0%B8%D1%87%D0%B5%D1%81%D0%BA%D0%B0%D1%8F_%D0%BC%D0%B0%D1%82%D1%80%D0%B8%D1%86%D0%B0)  и [на английском](http://en.wikipedia.org/wiki/Stochastic_matrix)."
   ]
  },
  {
   "cell_type": "code",
   "execution_count": 1,
   "metadata": {
    "collapsed": false
   },
   "outputs": [
    {
     "name": "stdout",
     "output_type": "stream",
     "text": [
      "Ожидаемое время жизни мышки равно [4.5]\n"
     ]
    }
   ],
   "source": [
    "cd(joinpath(homedir(), \"projects\",\"mastering_julia\",\"data\"))\n",
    "\n",
    "I = zeros(4,4);\n",
    "[I[i,i] = 1 for i in 1:4];\n",
    "\n",
    "f = open(\"mouse_data.txt\",\"r\")\n",
    "T = readdlm(f,',');\n",
    "close(f);\n",
    "\n",
    "Ep = [0 1 0 0]*inv(I - T)*[1,1,1,1];\n",
    "\n",
    "println(\"Ожидаемое время жизни мышки равно $Ep\")"
   ]
  },
  {
   "cell_type": "code",
   "execution_count": null,
   "metadata": {
    "collapsed": true
   },
   "outputs": [],
   "source": []
  }
 ],
 "metadata": {
  "kernelspec": {
   "display_name": "Julia 0.4.5",
   "language": "julia",
   "name": "julia-0.4"
  },
  "language_info": {
   "file_extension": ".jl",
   "mimetype": "application/julia",
   "name": "julia",
   "version": "0.4.5"
  }
 },
 "nbformat": 4,
 "nbformat_minor": 0
}
