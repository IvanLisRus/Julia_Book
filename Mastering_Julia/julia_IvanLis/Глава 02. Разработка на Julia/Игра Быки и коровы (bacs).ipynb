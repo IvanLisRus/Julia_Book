{
 "cells": [
  {
   "cell_type": "markdown",
   "metadata": {},
   "source": [
    "<div style=\"text-align: left;\"><img src=\"https://www.juliabox.org/assets/img/juliacloudlogo.png\" style=\"margin: 0px 0px 0px 0px; padding-right: 20px;width: 80px; float: left;\" title=\"\" alt=\"\" /></div>\n",
    "<img src=\"http://dmkpress.com/images/cms/thumbs/a5b0aeaa3fa7d6e58d75710c18673bd7ec6d5f6d/978-5-97060-370-3_270_369__100.jpg\" style=\"margin: 0px 0px 5px 20px; width: 100px; float: right;\" title=\"\" alt=\"\" />\n",
    "Всестороннее введение в новый язык программирования для научно-технических вычислений [Julia](http://julialang.org/) в книге Малколма Шеррингтона, Packt Publishing, июль 2015.\n",
    "\n",
    "<h1>Осваиваем язык Julia</h1><br />\n",
    "\n",
    "Совершенствование мастерства в области аналитики и программирования при помощи Julia в целях решения задач комплексной обработки данных\n",
    "<div style=\"text-align: left;font-size:8pt;padding-top:10px;\">Программный код Julia (v0.4.5) протестирован в Windows 8.1/10 и Linux/Lubuntu 16.4</div>\n",
    "<div style=\"text-align: left;\"><h1>Глава 2. Примеры</h1></div>"
   ]
  },
  {
   "cell_type": "markdown",
   "metadata": {},
   "source": [
    "###  Консольная игра \"Быки и коровы\" (Bulls And CowS - bacs)"
   ]
  },
  {
   "cell_type": "markdown",
   "metadata": {},
   "source": [
    "<span style=\"font-family:Consolas, monospace; font-weight:bold\">julia<i class=\"fa fa-terminal\" aria-hidden=\"true\"></i></span> "
   ]
  },
  {
   "cell_type": "code",
   "execution_count": 2,
   "metadata": {
    "collapsed": false
   },
   "outputs": [
    {
     "data": {
      "text/plain": [
       "bacs (generic function with 1 method)"
      ]
     },
     "execution_count": 2,
     "metadata": {},
     "output_type": "execute_result"
    }
   ],
   "source": [
    "#\n",
    "# bacs.jl \n",
    "#\n",
    "# Игра \"Быки и коровы\" (Bulls And CowS) для консоли интепретатора REPL\n",
    "#\n",
    "\n",
    "function bacs()\n",
    "  bulls = cows = turns = 0\n",
    "  A = Any[]\n",
    "    \n",
    "  srand(round(Int, time()))\n",
    "\n",
    "  while length(unique(A)) < 4\n",
    "    push!(A,rand('1':'9'))\n",
    "  end\n",
    "\n",
    "  bacs_number = unique(A)\n",
    "    \n",
    "  println(\"Быки и коровы\")\n",
    "\n",
    "  while (bulls != 4)\n",
    "        \n",
    "    print(\"Ваша догадка? \")\n",
    "        \n",
    "    if eof(STDIN)\n",
    "      s = \"q\"\n",
    "    else\n",
    "      s = chomp(readline(STDIN))\n",
    "    end\n",
    "    if (s == \"q\")\n",
    "      print(\"Мой ответ был \"); [print(bacs_number[i]) for i=1:4]\n",
    "      return\n",
    "    end\n",
    "\n",
    "    guess = collect(s)\n",
    "    if !(length(unique(guess)) == length(guess) == 4 && \n",
    "    all(isdigit,guess))\n",
    "      print(\"\\nВведите четыре разных цифры или q чтобы выйти: \")\n",
    "      continue\n",
    "    end\n",
    "\n",
    "    bulls = sum(map(==, guess, bacs_number))\n",
    "    cows = length(intersect(guess,bacs_number)) - bulls\n",
    "    println(\"Быки: $bulls и коровы: $cows !\")\n",
    "    turns += 1\n",
    "        \n",
    "  end\n",
    "    \n",
    "  println(\"Вы угадали мое число за $turns раунд(ов).\")\n",
    "    \n",
    "end"
   ]
  },
  {
   "cell_type": "code",
   "execution_count": null,
   "metadata": {
    "collapsed": false
   },
   "outputs": [
    {
     "name": "stdout",
     "output_type": "stream",
     "text": [
      "Быки и коровы\n",
      "Ваша догадка? "
     ]
    }
   ],
   "source": [
    "# это консольная программа и в записной книжке не работает\n",
    "\n",
    "bacs()"
   ]
  }
 ],
 "metadata": {
  "kernelspec": {
   "display_name": "Julia 0.4.5",
   "language": "julia",
   "name": "julia-0.4"
  },
  "language_info": {
   "file_extension": ".jl",
   "mimetype": "application/julia",
   "name": "julia",
   "version": "0.4.5"
  }
 },
 "nbformat": 4,
 "nbformat_minor": 0
}
