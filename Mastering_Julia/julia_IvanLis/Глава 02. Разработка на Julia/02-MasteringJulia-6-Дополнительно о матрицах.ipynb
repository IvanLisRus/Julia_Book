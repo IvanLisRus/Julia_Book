{
 "cells": [
  {
   "cell_type": "markdown",
   "metadata": {
    "collapsed": true
   },
   "source": [
    "<div style=\"text-align: left;\"><img src=\"https://www.juliabox.org/assets/img/juliacloudlogo.png\" style=\"margin: 0px 0px 0px 0px; padding-right: 20px;width: 80px; float: left;\" title=\"\" alt=\"\" /></div>\n",
    "<img src=\"http://dmkpress.com/images/cms/thumbs/a5b0aeaa3fa7d6e58d75710c18673bd7ec6d5f6d/978-5-97060-370-3_270_369__100.jpg\" style=\"margin: 0px 0px 5px 20px; width: 100px; float: right;\" title=\"\" alt=\"\" />\n",
    "Всестороннее введение в новый язык программирования для научно-технических вычислений [Julia](http://julialang.org/) в книге Малколма Шеррингтона, Packt Publishing, июль 2015.\n",
    "\n",
    "<h1>Осваиваем язык Julia</h1><br />\n",
    "\n",
    "Совершенствование мастерства в области аналитики и программирования при помощи Julia в целях решения задач комплексной обработки данных\n",
    "<div style=\"text-align: left;font-size:8pt;padding-top:10px;\">Программный код Julia (v0.4.5) протестирован в Windows 8.1/10 и Linux/Lubuntu 16.4</div>\n",
    "<div style=\"text-align: left;\"><h1>Глава 2. Разработка на Julia</h1></div>"
   ]
  },
  {
   "cell_type": "markdown",
   "metadata": {
    "collapsed": true
   },
   "source": [
    "\n",
    "# Дополнительно о матрицах\n"
   ]
  },
  {
   "cell_type": "code",
   "execution_count": 24,
   "metadata": {
    "collapsed": false
   },
   "outputs": [
    {
     "data": {
      "text/plain": [
       "7.896953225"
      ]
     },
     "execution_count": 24,
     "metadata": {},
     "output_type": "execute_result"
    }
   ],
   "source": [
    "function vecadd1(a,b,c,N)\n",
    "  for i = 1:N\n",
    "    c = a + b\n",
    "  end\n",
    "end\n",
    "\n",
    "function vecadd2(a,b,c,N)\n",
    "  for i = 1:N, j = 1:length(c)\n",
    "    c[j] = a[j] + b[j]\n",
    "  end\n",
    "end\n",
    "\n",
    "A = rand(2); B = rand(2); C = zeros(2);\n",
    "@elapsed vecadd1(A,B,C,100000000)  "
   ]
  },
  {
   "cell_type": "code",
   "execution_count": 25,
   "metadata": {
    "collapsed": false
   },
   "outputs": [
    {
     "data": {
      "text/plain": [
       "0.476649789"
      ]
     },
     "execution_count": 25,
     "metadata": {},
     "output_type": "execute_result"
    }
   ],
   "source": [
    "@elapsed vecadd2(A,B,C,100000000)  "
   ]
  },
  {
   "cell_type": "markdown",
   "metadata": {
    "collapsed": true
   },
   "source": [
    "\n",
    "### Многомерные массивы\n"
   ]
  },
  {
   "cell_type": "code",
   "execution_count": 26,
   "metadata": {
    "collapsed": false
   },
   "outputs": [
    {
     "data": {
      "text/plain": [
       "4x4x4 Array{Float64,3}:\n",
       "[:, :, 1] =\n",
       " 0.723127  0.486922  0.71936   0.868803\n",
       " 0.445553  0.433103  0.743583  0.280342\n",
       " 0.62795   0.784001  0.231294  0.151387\n",
       " 0.881777  0.838635  0.272628  0.485725\n",
       "\n",
       "[:, :, 2] =\n",
       " 0.757429  0.270926   0.070264   0.683817\n",
       " 0.986616  0.0354572  0.21666    0.406313\n",
       " 0.858165  0.371647   0.0428864  0.371827\n",
       " 0.769422  0.599661   0.909535   0.360052\n",
       "\n",
       "[:, :, 3] =\n",
       " 0.288064   0.0283106  0.069637  0.695612 \n",
       " 0.0316793  0.578537   0.688794  0.120309 \n",
       " 0.862907   0.962808   0.869098  0.614201 \n",
       " 0.186813   0.957926   0.22186   0.0984501\n",
       "\n",
       "[:, :, 4] =\n",
       " 0.304534  0.211428  0.684823   0.199044\n",
       " 0.582649  0.687384  0.839943   0.910168\n",
       " 0.94289   0.633735  0.0311831  0.74857 \n",
       " 0.705498  0.360117  0.282552   0.329373"
      ]
     },
     "execution_count": 26,
     "metadata": {},
     "output_type": "execute_result"
    }
   ],
   "source": [
    "A = rand(4,4,4)"
   ]
  },
  {
   "cell_type": "code",
   "execution_count": 27,
   "metadata": {
    "collapsed": false
   },
   "outputs": [
    {
     "data": {
      "text/plain": [
       "8x8 Array{Float64,2}:\n",
       " 0.723127  0.71936   0.757429   0.070264   …  0.069637   0.304534  0.684823 \n",
       " 0.445553  0.743583  0.986616   0.21666       0.688794   0.582649  0.839943 \n",
       " 0.62795   0.231294  0.858165   0.0428864     0.869098   0.94289   0.0311831\n",
       " 0.881777  0.272628  0.769422   0.909535      0.22186    0.705498  0.282552 \n",
       " 0.486922  0.868803  0.270926   0.683817      0.695612   0.211428  0.199044 \n",
       " 0.433103  0.280342  0.0354572  0.406313   …  0.120309   0.687384  0.910168 \n",
       " 0.784001  0.151387  0.371647   0.371827      0.614201   0.633735  0.74857  \n",
       " 0.838635  0.485725  0.599661   0.360052      0.0984501  0.360117  0.329373 "
      ]
     },
     "execution_count": 27,
     "metadata": {},
     "output_type": "execute_result"
    }
   ],
   "source": [
    "B = reshape(A,8,8)"
   ]
  },
  {
   "cell_type": "code",
   "execution_count": 28,
   "metadata": {
    "collapsed": false
   },
   "outputs": [
    {
     "data": {
      "text/plain": [
       "Array{Float64,1}"
      ]
     },
     "execution_count": 28,
     "metadata": {},
     "output_type": "execute_result"
    }
   ],
   "source": [
    "C = reshape(A,64); typeof(C) "
   ]
  },
  {
   "cell_type": "code",
   "execution_count": 29,
   "metadata": {
    "collapsed": false
   },
   "outputs": [
    {
     "data": {
      "text/plain": [
       "1x64 Array{Float64,2}:\n",
       " 0.723127  0.445553  0.62795  0.881777  …  0.910168  0.74857  0.329373"
      ]
     },
     "execution_count": 29,
     "metadata": {},
     "output_type": "execute_result"
    }
   ],
   "source": [
    "transpose(C);  # можно также записать как C'"
   ]
  },
  {
   "cell_type": "code",
   "execution_count": 30,
   "metadata": {
    "collapsed": false
   },
   "outputs": [
    {
     "data": {
      "text/plain": [
       "64x1 Array{Float64,2}:\n",
       " 0.723127 \n",
       " 0.445553 \n",
       " 0.62795  \n",
       " 0.881777 \n",
       " 0.486922 \n",
       " 0.433103 \n",
       " 0.784001 \n",
       " 0.838635 \n",
       " 0.71936  \n",
       " 0.743583 \n",
       " 0.231294 \n",
       " 0.272628 \n",
       " 0.868803 \n",
       " ⋮        \n",
       " 0.211428 \n",
       " 0.687384 \n",
       " 0.633735 \n",
       " 0.360117 \n",
       " 0.684823 \n",
       " 0.839943 \n",
       " 0.0311831\n",
       " 0.282552 \n",
       " 0.199044 \n",
       " 0.910168 \n",
       " 0.74857  \n",
       " 0.329373 "
      ]
     },
     "execution_count": 30,
     "metadata": {},
     "output_type": "execute_result"
    }
   ],
   "source": [
    "transpose(C') ; "
   ]
  },
  {
   "cell_type": "markdown",
   "metadata": {
    "collapsed": true
   },
   "source": [
    "\n",
    "#### Транслирование массивов\n"
   ]
  },
  {
   "cell_type": "code",
   "execution_count": 31,
   "metadata": {
    "collapsed": false
   },
   "outputs": [
    {
     "data": {
      "text/plain": [
       "4x3 Array{Float64,2}:\n",
       " -0.0817092  -0.374798   0.928128  \n",
       " -0.944739    0.103926   0.00616803\n",
       " -0.201425   -0.463489  -1.75097   \n",
       "  1.20751    -0.673317  -1.08482   "
      ]
     },
     "execution_count": 31,
     "metadata": {},
     "output_type": "execute_result"
    }
   ],
   "source": [
    "P = randn(4,3)"
   ]
  },
  {
   "cell_type": "code",
   "execution_count": 32,
   "metadata": {
    "collapsed": false
   },
   "outputs": [
    {
     "data": {
      "text/plain": [
       "4-element Array{Int64,1}:\n",
       " 1\n",
       " 2\n",
       " 3\n",
       " 4"
      ]
     },
     "execution_count": 32,
     "metadata": {},
     "output_type": "execute_result"
    }
   ],
   "source": [
    "Q = [1,2,3,4]"
   ]
  },
  {
   "cell_type": "code",
   "execution_count": 33,
   "metadata": {
    "collapsed": false
   },
   "outputs": [
    {
     "data": {
      "text/plain": [
       "4x3 Array{Float64,2}:\n",
       "  0.918291   0.625202    1.92813   \n",
       "  0.0030538  1.21865     1.01237   \n",
       "  0.50927    0.154432   -0.42352   \n",
       " 23.747      0.0113895   5.17499e-5"
      ]
     },
     "execution_count": 33,
     "metadata": {},
     "output_type": "execute_result"
    }
   ],
   "source": [
    "broadcast(^,P + 1.0,Q)"
   ]
  },
  {
   "cell_type": "markdown",
   "metadata": {
    "collapsed": true
   },
   "source": [
    "\n",
    "### Разреженные матрицы\n"
   ]
  },
  {
   "cell_type": "code",
   "execution_count": 34,
   "metadata": {
    "collapsed": false
   },
   "outputs": [
    {
     "data": {
      "text/plain": [
       "5x5 sparse matrix with 4 Float64 entries:\n",
       "\t[3, 1]  =  0.0165802\n",
       "\t[3, 2]  =  0.3664\n",
       "\t[4, 2]  =  0.772991\n",
       "\t[1, 4]  =  0.905399"
      ]
     },
     "execution_count": 34,
     "metadata": {},
     "output_type": "execute_result"
    }
   ],
   "source": [
    "T = sprand(5,5,0.2)    # 0.2 означает, что только 20% сгенерированных чисел будут считаться ненулевыми"
   ]
  },
  {
   "cell_type": "code",
   "execution_count": 35,
   "metadata": {
    "collapsed": false
   },
   "outputs": [
    {
     "data": {
      "text/plain": [
       "5x5 sparse matrix with 2 Float64 entries:\n",
       "\t[1, 2]  =  0.699865\n",
       "\t[3, 4]  =  0.0150117"
      ]
     },
     "execution_count": 35,
     "metadata": {},
     "output_type": "execute_result"
    }
   ],
   "source": [
    "T*T"
   ]
  },
  {
   "cell_type": "code",
   "execution_count": 36,
   "metadata": {
    "collapsed": false
   },
   "outputs": [
    {
     "data": {
      "text/plain": [
       "Array{Float64,2}"
      ]
     },
     "execution_count": 36,
     "metadata": {},
     "output_type": "execute_result"
    }
   ],
   "source": [
    "S = full(T); typeof(S) "
   ]
  }
 ],
 "metadata": {
  "kernelspec": {
   "display_name": "Julia 0.4.5",
   "language": "julia",
   "name": "julia-0.4"
  },
  "language_info": {
   "file_extension": ".jl",
   "mimetype": "application/julia",
   "name": "julia",
   "version": "0.4.5"
  }
 },
 "nbformat": 4,
 "nbformat_minor": 0
}
