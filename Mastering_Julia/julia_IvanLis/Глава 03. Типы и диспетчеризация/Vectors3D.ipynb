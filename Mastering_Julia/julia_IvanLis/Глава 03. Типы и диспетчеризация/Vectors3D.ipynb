{
 "cells": [
  {
   "cell_type": "markdown",
   "metadata": {},
   "source": [
    "<div style=\"text-align: left;\"><img src=\"https://www.juliabox.org/assets/img/juliacloudlogo.png\" style=\"margin: 0px 0px 0px 0px; padding-right: 20px;width: 80px; float: left;\" title=\"\" alt=\"\" /></div>\n",
    "<img src=\"http://dmkpress.com/images/cms/thumbs/a5b0aeaa3fa7d6e58d75710c18673bd7ec6d5f6d/978-5-97060-370-3_270_369__100.jpg\" style=\"margin: 0px 0px 5px 20px; width: 100px; float: right;\" title=\"\" alt=\"\" />\n",
    "Всестороннее введение в новый язык программирования для научно-технических вычислений [Julia](http://julialang.org/) в книге Малколма Шеррингтона, Packt Publishing, июль 2015.\n",
    "\n",
    "<h1>Осваиваем язык Julia</h1><br />\n",
    "\n",
    "Совершенствование мастерства в области аналитики и программирования при помощи Julia в целях решения задач комплексной обработки данных\n",
    "<div style=\"text-align: left;font-size:8pt;padding-top:10px;\">Программный код Julia (v0.4.5) протестирован в Windows 8.1/10 и Linux/Lubuntu 16.4</div>\n",
    "<div style=\"text-align: left;\"><h1>Глава 3. Примеры</h1></div>"
   ]
  },
  {
   "cell_type": "markdown",
   "metadata": {},
   "source": [
    "### Определение модуля для фиксированного 3D-вектора "
   ]
  },
  {
   "cell_type": "code",
   "execution_count": 1,
   "metadata": {
    "collapsed": false
   },
   "outputs": [
    {
     "data": {
      "text/plain": [
       "Vectors3D"
      ]
     },
     "execution_count": 1,
     "metadata": {},
     "output_type": "execute_result"
    }
   ],
   "source": [
    "#\n",
    "# Vectors3D.jl\n",
    "#\n",
    "\n",
    "module Vectors3D\n",
    "\n",
    "import Base: .-, .+, ./, .*, getindex\n",
    "import Base.show, Base.convert, Base.abs, Base.dot\n",
    "\n",
    "export Vector3D, getindex, phi\n",
    "\n",
    "immutable Vector3D{T <: Real}\n",
    "  x::T\n",
    "  y::T\n",
    "  z::T\n",
    "end\n",
    "\n",
    ".+(u::Vector3D, v::Vector3D) = Vector3D(u.x + v.x, u.x + v.y, u.z + v.z)\n",
    ".-(u::Vector3D, v::Vector3D) = Vector3D(u.x - v.x, u.x - v.y, u.z - v.z)\n",
    ".*(a::Number, u::Vector3D)   = Vector3D(a*u.x, a*u.y, a*u.z)\n",
    ".*(u::Vector3D, a::Number)   = Vector3D(a*u.x, a*u.y, a*u.z)\n",
    "./(a::Number, u::Vector3D)   = Vector3D(u.x/a, u.y/a, u.z/a)\n",
    "./(u::Vector3D, a::Number)   = Vector3D(u.x/a, u.y/a, u.z/a)\n",
    "\n",
    "show{T}(io::IO, u::Vector3D{T}) = print(io, \"[$(u.x), $(u.y), $(u.z)]\")\n",
    "\n",
    "abs{T}(u::Vector3D{T}) = (u.x*u.x + u.y*u.y + u.z*u.z)^0.5\n",
    "\n",
    "function phi(u::Vector3D, v::Vector3D)\n",
    "  w0 = u.x*v.x + u.y*v.y + u.z*v.z\n",
    "  w1 = abs(u) * abs(v)\n",
    "  try\n",
    "    return atan(w0 / w1)\n",
    "  catch\n",
    "        error(\"Деление на ноль\")\n",
    "  end\n",
    "end\n",
    "\n",
    "dot(u::Vector3D, v::Vector3D) = u.x*v.x + u.y*v.y + u.z+v.z\n",
    "\n",
    "getindex(u::Vector3D, i) = (i == 1 ? u.x : (i==2 ? u.y : u.z))\n",
    "\n",
    "convert(::Type{Vector3D}, u::Array{Float64,1}) =\n",
    "  Vector3D(u[1],u[2],u[3])\n",
    "end"
   ]
  },
  {
   "cell_type": "code",
   "execution_count": null,
   "metadata": {
    "collapsed": true
   },
   "outputs": [],
   "source": []
  }
 ],
 "metadata": {
  "kernelspec": {
   "display_name": "Julia 0.4.5",
   "language": "julia",
   "name": "julia-0.4"
  },
  "language_info": {
   "file_extension": ".jl",
   "mimetype": "application/julia",
   "name": "julia",
   "version": "0.4.5"
  }
 },
 "nbformat": 4,
 "nbformat_minor": 0
}
