{
 "cells": [
  {
   "cell_type": "markdown",
   "metadata": {},
   "source": [
    "<div style=\"text-align: left;\"><img src=\"https://www.juliabox.org/assets/img/juliacloudlogo.png\" style=\"margin: 0px 0px 0px 0px; padding-right: 20px;width: 80px; float: left;\" title=\"\" alt=\"\" /></div>\n",
    "<img src=\"http://dmkpress.com/images/cms/thumbs/a5b0aeaa3fa7d6e58d75710c18673bd7ec6d5f6d/978-5-97060-370-3_270_369__100.jpg\" style=\"margin: 0px 0px 5px 20px; width: 100px; float: right;\" title=\"\" alt=\"\" />\n",
    "Всестороннее введение в новый язык программирования для научно-технических вычислений [Julia](http://julialang.org/) в книге Малколма Шеррингтона, Packt Publishing, июль 2015.\n",
    "\n",
    "<h1>Осваиваем язык Julia</h1><br />\n",
    "\n",
    "Совершенствование мастерства в области аналитики и программирования при помощи Julia в целях решения задач комплексной обработки данных\n",
    "<div style=\"text-align: left;font-size:8pt;padding-top:10px;\">Программный код Julia (v0.4.5) протестирован в Windows 8.1/10 и Linux/Lubuntu 16.4</div>\n",
    "<div style=\"text-align: left;\"><h1>Глава 3. Типы и диспетчеризация</h1></div>"
   ]
  },
  {
   "cell_type": "markdown",
   "metadata": {
    "collapsed": true
   },
   "source": [
    "\n",
    "# Множественная диспетчеризация\n"
   ]
  },
  {
   "cell_type": "code",
   "execution_count": 85,
   "metadata": {
    "collapsed": false
   },
   "outputs": [
    {
     "data": {
      "text/html": [
       "45 methods for generic function <b>^</b>:<ul><li> ^(x::<b>Bool</b>, y::<b>Bool</b>) at <a href=\"https://github.com/JuliaLang/julia/tree/2ac304dfba75fad148d4070ef4f8a2e400c305bb/base/bool.jl#L39\" target=\"_blank\">bool.jl:39</a><li> ^(x::<b>BigInt</b>, y::<b>Bool</b>) at <a href=\"https://github.com/JuliaLang/julia/tree/2ac304dfba75fad148d4070ef4f8a2e400c305bb/base/gmp.jl#L430\" target=\"_blank\">gmp.jl:430</a><li> ^(x::<b>Integer</b>, y::<b>Bool</b>) at <a href=\"https://github.com/JuliaLang/julia/tree/2ac304dfba75fad148d4070ef4f8a2e400c305bb/base/bool.jl#L40\" target=\"_blank\">bool.jl:40</a><li> ^<i>{T<:AbstractFloat}</i>(z::<b>Complex{T<:AbstractFloat}</b>, p::<b>Complex{T<:AbstractFloat}</b>) at <a href=\"https://github.com/JuliaLang/julia/tree/2ac304dfba75fad148d4070ef4f8a2e400c305bb/base/complex.jl#L433\" target=\"_blank\">complex.jl:433</a><li> ^<i>{T<:Complex{T<:Real}}</i>(z::<b>T<:Complex{T<:Real}</b>, p::<b>T<:Complex{T<:Real}</b>) at <a href=\"https://github.com/JuliaLang/julia/tree/2ac304dfba75fad148d4070ef4f8a2e400c305bb/base/complex.jl#L480\" target=\"_blank\">complex.jl:480</a><li> ^<i>{T<:AbstractFloat}</i>(z::<b>Complex{T<:AbstractFloat}</b>, n::<b>Bool</b>) at <a href=\"https://github.com/JuliaLang/julia/tree/2ac304dfba75fad148d4070ef4f8a2e400c305bb/base/complex.jl#L540\" target=\"_blank\">complex.jl:540</a><li> ^<i>{T<:Integer}</i>(z::<b>Complex{T<:Integer}</b>, n::<b>Bool</b>) at <a href=\"https://github.com/JuliaLang/julia/tree/2ac304dfba75fad148d4070ef4f8a2e400c305bb/base/complex.jl#L541\" target=\"_blank\">complex.jl:541</a><li> ^<i>{T<:Rational{T<:Integer}}</i>(z::<b>Complex{T<:Rational{T<:Integer}}</b>, n::<b>Bool</b>) at <a href=\"https://github.com/JuliaLang/julia/tree/2ac304dfba75fad148d4070ef4f8a2e400c305bb/base/rational.jl#L321\" target=\"_blank\">rational.jl:321</a><li> ^(z::<b>Complex{T<:Real}</b>, n::<b>Bool</b>) at <a href=\"https://github.com/JuliaLang/julia/tree/2ac304dfba75fad148d4070ef4f8a2e400c305bb/base/complex.jl#L537\" target=\"_blank\">complex.jl:537</a><li> ^<i>{T<:AbstractFloat}</i>(z::<b>Complex{T<:AbstractFloat}</b>, n::<b>Integer</b>) at <a href=\"https://github.com/JuliaLang/julia/tree/2ac304dfba75fad148d4070ef4f8a2e400c305bb/base/complex.jl#L543\" target=\"_blank\">complex.jl:543</a><li> ^<i>{T<:Integer}</i>(z::<b>Complex{T<:Integer}</b>, n::<b>Integer</b>) at <a href=\"https://github.com/JuliaLang/julia/tree/2ac304dfba75fad148d4070ef4f8a2e400c305bb/base/complex.jl#L545\" target=\"_blank\">complex.jl:545</a><li> ^<i>{T<:Rational{T<:Integer}}</i>(z::<b>Complex{T<:Rational{T<:Integer}}</b>, n::<b>Integer</b>) at <a href=\"https://github.com/JuliaLang/julia/tree/2ac304dfba75fad148d4070ef4f8a2e400c305bb/base/rational.jl#L323\" target=\"_blank\">rational.jl:323</a><li> ^(z::<b>Complex{T<:Real}</b>, n::<b>Integer</b>) at <a href=\"https://github.com/JuliaLang/julia/tree/2ac304dfba75fad148d4070ef4f8a2e400c305bb/base/complex.jl#L538\" target=\"_blank\">complex.jl:538</a><li> ^(x::<b>Rational{T<:Integer}</b>, n::<b>Integer</b>) at <a href=\"https://github.com/JuliaLang/julia/tree/2ac304dfba75fad148d4070ef4f8a2e400c305bb/base/rational.jl#L314\" target=\"_blank\">rational.jl:314</a><li> ^<i>{T<:AbstractFloat}</i>(x::<b>T<:AbstractFloat</b>, y::<b>Rational{T<:Integer}</b>) at <a href=\"https://github.com/JuliaLang/julia/tree/2ac304dfba75fad148d4070ef4f8a2e400c305bb/base/rational.jl#L318\" target=\"_blank\">rational.jl:318</a><li> ^<i>{T<:AbstractFloat}</i>(x::<b>Complex{T<:AbstractFloat}</b>, y::<b>Rational{T<:Integer}</b>) at <a href=\"https://github.com/JuliaLang/julia/tree/2ac304dfba75fad148d4070ef4f8a2e400c305bb/base/rational.jl#L319\" target=\"_blank\">rational.jl:319</a><li> ^(::<b>Irrational{:e}</b>, x::<b>Rational{T<:Integer}</b>) at <a href=\"https://github.com/JuliaLang/julia/tree/2ac304dfba75fad148d4070ef4f8a2e400c305bb/base/irrationals.jl#L123\" target=\"_blank\">irrationals.jl:123</a><li> ^(x::<b>Number</b>, y::<b>Rational{T<:Integer}</b>) at <a href=\"https://github.com/JuliaLang/julia/tree/2ac304dfba75fad148d4070ef4f8a2e400c305bb/base/rational.jl#L317\" target=\"_blank\">rational.jl:317</a><li> ^(x::<b>BigInt</b>, y::<b>UInt32</b>) at <a href=\"https://github.com/JuliaLang/julia/tree/2ac304dfba75fad148d4070ef4f8a2e400c305bb/base/gmp.jl#L404\" target=\"_blank\">gmp.jl:404</a><li> ^(x::<b>BigInt</b>, y::<b>BigInt</b>) at <a href=\"https://github.com/JuliaLang/julia/tree/2ac304dfba75fad148d4070ef4f8a2e400c305bb/base/gmp.jl#L429\" target=\"_blank\">gmp.jl:429</a><li> ^(x::<b>BigInt</b>, y::<b>Integer</b>) at <a href=\"https://github.com/JuliaLang/julia/tree/2ac304dfba75fad148d4070ef4f8a2e400c305bb/base/gmp.jl#L431\" target=\"_blank\">gmp.jl:431</a><li> ^(x::<b>Integer</b>, y::<b>BigInt</b>) at <a href=\"https://github.com/JuliaLang/julia/tree/2ac304dfba75fad148d4070ef4f8a2e400c305bb/base/gmp.jl#L432\" target=\"_blank\">gmp.jl:432</a><li> ^<i>{T<:Integer}</i>(x::<b>T<:Integer</b>, p::<b>T<:Integer</b>) at <a href=\"https://github.com/JuliaLang/julia/tree/2ac304dfba75fad148d4070ef4f8a2e400c305bb/base/intfuncs.jl#L106\" target=\"_blank\">intfuncs.jl:106</a><li> ^(x::<b>Float64</b>, y::<b>Integer</b>) at <a href=\"https://github.com/JuliaLang/julia/tree/2ac304dfba75fad148d4070ef4f8a2e400c305bb/base/math.jl#L278\" target=\"_blank\">math.jl:278</a><li> ^(x::<b>Float32</b>, y::<b>Integer</b>) at <a href=\"https://github.com/JuliaLang/julia/tree/2ac304dfba75fad148d4070ef4f8a2e400c305bb/base/math.jl#L280\" target=\"_blank\">math.jl:280</a><li> ^(x::<b>Float16</b>, y::<b>Integer</b>) at <a href=\"https://github.com/JuliaLang/julia/tree/2ac304dfba75fad148d4070ef4f8a2e400c305bb/base/float16.jl#L163\" target=\"_blank\">float16.jl:163</a><li> ^(x::<b>BigFloat</b>, y::<b>Union{UInt16,UInt32,UInt8}</b>) at <a href=\"https://github.com/JuliaLang/julia/tree/2ac304dfba75fad148d4070ef4f8a2e400c305bb/base/mpfr.jl#L427\" target=\"_blank\">mpfr.jl:427</a><li> ^(x::<b>BigFloat</b>, y::<b>Union{Int16,Int32,Int8}</b>) at <a href=\"https://github.com/JuliaLang/julia/tree/2ac304dfba75fad148d4070ef4f8a2e400c305bb/base/mpfr.jl#L433\" target=\"_blank\">mpfr.jl:433</a><li> ^(x::<b>BigFloat</b>, y::<b>BigInt</b>) at <a href=\"https://github.com/JuliaLang/julia/tree/2ac304dfba75fad148d4070ef4f8a2e400c305bb/base/mpfr.jl#L439\" target=\"_blank\">mpfr.jl:439</a><li> ^(::<b>Irrational{:e}</b>, x::<b>Integer</b>) at <a href=\"https://github.com/JuliaLang/julia/tree/2ac304dfba75fad148d4070ef4f8a2e400c305bb/base/irrationals.jl#L123\" target=\"_blank\">irrationals.jl:123</a><li> ^(x::<b>Number</b>, p::<b>Integer</b>) at <a href=\"https://github.com/JuliaLang/julia/tree/2ac304dfba75fad148d4070ef4f8a2e400c305bb/base/intfuncs.jl#L107\" target=\"_blank\">intfuncs.jl:107</a><li> ^(x::<b>Float64</b>, y::<b>Float64</b>) at <a href=\"https://github.com/JuliaLang/julia/tree/2ac304dfba75fad148d4070ef4f8a2e400c305bb/base/math.jl#L275\" target=\"_blank\">math.jl:275</a><li> ^(x::<b>Float32</b>, y::<b>Float32</b>) at <a href=\"https://github.com/JuliaLang/julia/tree/2ac304dfba75fad148d4070ef4f8a2e400c305bb/base/math.jl#L276\" target=\"_blank\">math.jl:276</a><li> ^(a::<b>Float16</b>, b::<b>Float16</b>) at <a href=\"https://github.com/JuliaLang/julia/tree/2ac304dfba75fad148d4070ef4f8a2e400c305bb/base/float16.jl#L136\" target=\"_blank\">float16.jl:136</a><li> ^(x::<b>BigFloat</b>, y::<b>BigFloat</b>) at <a href=\"https://github.com/JuliaLang/julia/tree/2ac304dfba75fad148d4070ef4f8a2e400c305bb/base/mpfr.jl#L421\" target=\"_blank\">mpfr.jl:421</a><li> ^(::<b>Irrational{:e}</b>, x::<b>Irrational{sym}</b>) at <a href=\"https://github.com/JuliaLang/julia/tree/2ac304dfba75fad148d4070ef4f8a2e400c305bb/base/irrationals.jl#L123\" target=\"_blank\">irrationals.jl:123</a><li> ^(x::<b>Irrational{sym}</b>, y::<b>Irrational{sym}</b>) at <a href=\"https://github.com/JuliaLang/julia/tree/2ac304dfba75fad148d4070ef4f8a2e400c305bb/base/irrationals.jl#L72\" target=\"_blank\">irrationals.jl:72</a><li> ^(::<b>Irrational{:e}</b>, x::<b>Number</b>) at <a href=\"https://github.com/JuliaLang/julia/tree/2ac304dfba75fad148d4070ef4f8a2e400c305bb/base/irrationals.jl#L123\" target=\"_blank\">irrationals.jl:123</a><li> ^<i>{T<:Number}</i>(x::<b>T<:Number</b>, y::<b>T<:Number</b>) at <a href=\"https://github.com/JuliaLang/julia/tree/2ac304dfba75fad148d4070ef4f8a2e400c305bb/base/promotion.jl#L215\" target=\"_blank\">promotion.jl:215</a><li> ^(x::<b>Number</b>, y::<b>Number</b>) at <a href=\"https://github.com/JuliaLang/julia/tree/2ac304dfba75fad148d4070ef4f8a2e400c305bb/base/promotion.jl#L171\" target=\"_blank\">promotion.jl:171</a><li> ^(s::<b>AbstractString</b>, r::<b>Integer</b>) at <a href=\"https://github.com/JuliaLang/julia/tree/2ac304dfba75fad148d4070ef4f8a2e400c305bb/base/strings/types.jl#L185\" target=\"_blank\">strings/types.jl:185</a><li> ^(A::<b>Array{T,2}</b>, p::<b>Integer</b>) at <a href=\"https://github.com/JuliaLang/julia/tree/2ac304dfba75fad148d4070ef4f8a2e400c305bb/base/linalg/dense.jl#L172\" target=\"_blank\">linalg/dense.jl:172</a><li> ^(x, p::<b>Integer</b>) at <a href=\"https://github.com/JuliaLang/julia/tree/2ac304dfba75fad148d4070ef4f8a2e400c305bb/base/intfuncs.jl#L108\" target=\"_blank\">intfuncs.jl:108</a><li> ^(A::<b>Array{T,2}</b>, p::<b>Number</b>) at <a href=\"https://github.com/JuliaLang/julia/tree/2ac304dfba75fad148d4070ef4f8a2e400c305bb/base/linalg/dense.jl#L175\" target=\"_blank\">linalg/dense.jl:175</a><li> ^(::<b>Irrational{:e}</b>, x::<b>AbstractArray{T,2}</b>) at <a href=\"https://github.com/JuliaLang/julia/tree/2ac304dfba75fad148d4070ef4f8a2e400c305bb/base/irrationals.jl#L128\" target=\"_blank\">irrationals.jl:128</a></ul>"
      ],
      "text/plain": [
       "# 45 methods for generic function \"^\":\n",
       "^(x::Bool, y::Bool) at bool.jl:39\n",
       "^(x::BigInt, y::Bool) at gmp.jl:430\n",
       "^(x::Integer, y::Bool) at bool.jl:40\n",
       "^{T<:AbstractFloat}(z::Complex{T<:AbstractFloat}, p::Complex{T<:AbstractFloat}) at complex.jl:433\n",
       "^{T<:Complex{T<:Real}}(z::T<:Complex{T<:Real}, p::T<:Complex{T<:Real}) at complex.jl:480\n",
       "^{T<:AbstractFloat}(z::Complex{T<:AbstractFloat}, n::Bool) at complex.jl:540\n",
       "^{T<:Integer}(z::Complex{T<:Integer}, n::Bool) at complex.jl:541\n",
       "^{T<:Rational{T<:Integer}}(z::Complex{T<:Rational{T<:Integer}}, n::Bool) at rational.jl:321\n",
       "^(z::Complex{T<:Real}, n::Bool) at complex.jl:537\n",
       "^{T<:AbstractFloat}(z::Complex{T<:AbstractFloat}, n::Integer) at complex.jl:543\n",
       "^{T<:Integer}(z::Complex{T<:Integer}, n::Integer) at complex.jl:545\n",
       "^{T<:Rational{T<:Integer}}(z::Complex{T<:Rational{T<:Integer}}, n::Integer) at rational.jl:323\n",
       "^(z::Complex{T<:Real}, n::Integer) at complex.jl:538\n",
       "^(x::Rational{T<:Integer}, n::Integer) at rational.jl:314\n",
       "^{T<:AbstractFloat}(x::T<:AbstractFloat, y::Rational{T<:Integer}) at rational.jl:318\n",
       "^{T<:AbstractFloat}(x::Complex{T<:AbstractFloat}, y::Rational{T<:Integer}) at rational.jl:319\n",
       "^(::Irrational{:e}, x::Rational{T<:Integer}) at irrationals.jl:123\n",
       "^(x::Number, y::Rational{T<:Integer}) at rational.jl:317\n",
       "^(x::BigInt, y::UInt32) at gmp.jl:404\n",
       "^(x::BigInt, y::BigInt) at gmp.jl:429\n",
       "^(x::BigInt, y::Integer) at gmp.jl:431\n",
       "^(x::Integer, y::BigInt) at gmp.jl:432\n",
       "^{T<:Integer}(x::T<:Integer, p::T<:Integer) at intfuncs.jl:106\n",
       "^(x::Float64, y::Integer) at math.jl:278\n",
       "^(x::Float32, y::Integer) at math.jl:280\n",
       "^(x::Float16, y::Integer) at float16.jl:163\n",
       "^(x::BigFloat, y::Union{UInt16,UInt32,UInt8}) at mpfr.jl:427\n",
       "^(x::BigFloat, y::Union{Int16,Int32,Int8}) at mpfr.jl:433\n",
       "^(x::BigFloat, y::BigInt) at mpfr.jl:439\n",
       "^(::Irrational{:e}, x::Integer) at irrationals.jl:123\n",
       "^(x::Number, p::Integer) at intfuncs.jl:107\n",
       "^(x::Float64, y::Float64) at math.jl:275\n",
       "^(x::Float32, y::Float32) at math.jl:276\n",
       "^(a::Float16, b::Float16) at float16.jl:136\n",
       "^(x::BigFloat, y::BigFloat) at mpfr.jl:421\n",
       "^(::Irrational{:e}, x::Irrational{sym}) at irrationals.jl:123\n",
       "^(x::Irrational{sym}, y::Irrational{sym}) at irrationals.jl:72\n",
       "^(::Irrational{:e}, x::Number) at irrationals.jl:123\n",
       "^{T<:Number}(x::T<:Number, y::T<:Number) at promotion.jl:215\n",
       "^(x::Number, y::Number) at promotion.jl:171\n",
       "^(s::AbstractString, r::Integer) at strings/types.jl:185\n",
       "^(A::Array{T,2}, p::Integer) at linalg/dense.jl:172\n",
       "^(x, p::Integer) at intfuncs.jl:108\n",
       "^(A::Array{T,2}, p::Number) at linalg/dense.jl:175\n",
       "^(::Irrational{:e}, x::AbstractArray{T,2}) at irrationals.jl:128"
      ]
     },
     "execution_count": 85,
     "metadata": {},
     "output_type": "execute_result"
    }
   ],
   "source": [
    "methods(^)"
   ]
  },
  {
   "cell_type": "code",
   "execution_count": 135,
   "metadata": {
    "collapsed": true
   },
   "outputs": [],
   "source": [
    "pow(a,b::Int64) = a^b;"
   ]
  },
  {
   "cell_type": "code",
   "execution_count": 136,
   "metadata": {
    "collapsed": false
   },
   "outputs": [
    {
     "name": "stderr",
     "output_type": "stream",
     "text": [
      "WARNING: New definition \n",
      "    pow(Float64, Any) at In[136]:1\n",
      "is ambiguous with: \n",
      "    pow(Any, Int64) at In[135]:1.\n",
      "To fix, define \n",
      "    pow(Float64, Int64)\n",
      "before the new definition.\n"
     ]
    }
   ],
   "source": [
    "pow(a::Float64,b) = a^b;"
   ]
  },
  {
   "cell_type": "markdown",
   "metadata": {
    "collapsed": true
   },
   "source": [
    "### Параметрические типы"
   ]
  },
  {
   "cell_type": "code",
   "execution_count": 86,
   "metadata": {
    "collapsed": false
   },
   "outputs": [
    {
     "data": {
      "text/plain": [
       "f (generic function with 1 method)"
      ]
     },
     "execution_count": 86,
     "metadata": {},
     "output_type": "execute_result"
    }
   ],
   "source": [
    "f{T}(x::T, y::T) = x + y*y"
   ]
  },
  {
   "cell_type": "code",
   "execution_count": 87,
   "metadata": {
    "collapsed": false
   },
   "outputs": [
    {
     "data": {
      "text/plain": [
       "5"
      ]
     },
     "execution_count": 87,
     "metadata": {},
     "output_type": "execute_result"
    }
   ],
   "source": [
    "f(1,2)"
   ]
  },
  {
   "cell_type": "code",
   "execution_count": 88,
   "metadata": {
    "collapsed": false
   },
   "outputs": [
    {
     "data": {
      "text/plain": [
       "5.0"
      ]
     },
     "execution_count": 88,
     "metadata": {},
     "output_type": "execute_result"
    }
   ],
   "source": [
    "f(1.0,2.0)"
   ]
  },
  {
   "cell_type": "code",
   "execution_count": 89,
   "metadata": {
    "collapsed": false
   },
   "outputs": [
    {
     "ename": "LoadError",
     "evalue": "LoadError: MethodError: `f` has no method matching f(::Int64, ::Float64)\nClosest candidates are:\n  f{T}(::T, !Matched::T)\nwhile loading In[89], in expression starting on line 1",
     "output_type": "error",
     "traceback": [
      "LoadError: MethodError: `f` has no method matching f(::Int64, ::Float64)\nClosest candidates are:\n  f{T}(::T, !Matched::T)\nwhile loading In[89], in expression starting on line 1",
      ""
     ]
    }
   ],
   "source": [
    "f(1, 2.0)  # вызовет ОШИБКУ"
   ]
  },
  {
   "cell_type": "code",
   "execution_count": 98,
   "metadata": {
    "collapsed": false
   },
   "outputs": [
    {
     "data": {
      "text/plain": [
       "-6 + 26im"
      ]
     },
     "execution_count": 98,
     "metadata": {},
     "output_type": "execute_result"
    }
   ],
   "source": [
    "f(1+2im, 3+4im) "
   ]
  },
  {
   "cell_type": "code",
   "execution_count": 99,
   "metadata": {
    "collapsed": false
   },
   "outputs": [
    {
     "data": {
      "text/plain": [
       "17//16"
      ]
     },
     "execution_count": 99,
     "metadata": {},
     "output_type": "execute_result"
    }
   ],
   "source": [
    "f(1//2, 3//4)"
   ]
  },
  {
   "cell_type": "code",
   "execution_count": 93,
   "metadata": {
    "collapsed": true
   },
   "outputs": [],
   "source": [
    "immutable OrdPair{T <: Integer}\n",
    "  x::T;\n",
    "  y::T;\n",
    "end "
   ]
  },
  {
   "cell_type": "code",
   "execution_count": 95,
   "metadata": {
    "collapsed": false
   },
   "outputs": [
    {
     "data": {
      "text/plain": [
       "OrdPair{Int64}(1,2)"
      ]
     },
     "execution_count": 95,
     "metadata": {},
     "output_type": "execute_result"
    }
   ],
   "source": [
    "a = OrdPair(1,2) "
   ]
  },
  {
   "cell_type": "code",
   "execution_count": 96,
   "metadata": {
    "collapsed": false
   },
   "outputs": [
    {
     "ename": "LoadError",
     "evalue": "LoadError: MethodError: `convert` has no method matching convert(::Type{OrdPair{T<:Integer}}, ::Float64, ::Float64)\nThis may have arisen from a call to the constructor OrdPair{T<:Integer}(...),\nsince type constructors fall back to convert methods.\nClosest candidates are:\n  call{T}(::Type{T}, ::Any)\n  convert{T}(::Type{T}, !Matched::T)\n  OrdPair{T<:Integer}(!Matched::T<:Integer, !Matched::T<:Integer)\nwhile loading In[96], in expression starting on line 1",
     "output_type": "error",
     "traceback": [
      "LoadError: MethodError: `convert` has no method matching convert(::Type{OrdPair{T<:Integer}}, ::Float64, ::Float64)\nThis may have arisen from a call to the constructor OrdPair{T<:Integer}(...),\nsince type constructors fall back to convert methods.\nClosest candidates are:\n  call{T}(::Type{T}, ::Any)\n  convert{T}(::Type{T}, !Matched::T)\n  OrdPair{T<:Integer}(!Matched::T<:Integer, !Matched::T<:Integer)\nwhile loading In[96], in expression starting on line 1",
      "",
      " in call at essentials.jl:57"
     ]
    }
   ],
   "source": [
    "a = OrdPair(1.0,2.0)"
   ]
  },
  {
   "cell_type": "code",
   "execution_count": 98,
   "metadata": {
    "collapsed": false
   },
   "outputs": [
    {
     "data": {
      "text/plain": [
       ".== (generic function with 6 methods)"
      ]
     },
     "execution_count": 98,
     "metadata": {},
     "output_type": "execute_result"
    }
   ],
   "source": [
    "import Base: .-, .+, .*, .==, abs\n",
    "\n",
    ".-(p::OrdPair) = OrdPair(-p.x, -ip.y)\n",
    ".+(p::OrdPair, q::OrdPair) = OrdPair(p.x + q.x, p.y + q.y)\n",
    ".-(p::OrdPair, q::OrdPair) = OrdPair(p.x - q.x, p.y - q.y)\n",
    ".*(p::OrdPair, q::OrdPair) = OrdPair (p.x * q.x - p.y * q.y, p.x * q.y + p.y * q.x)\n",
    "\n",
    "abs2(p::OrdPair) = p.x*p.x + p.y*p.y\n",
    "abs(p::OrdPair) = sqrt(abs2(p))\n",
    "conj(p::OrdPair) = OrdPair(p.x, -p.y)\n",
    "\n",
    ".==(p::OrdPair, q::OrdPair) = (p.x == q.x) & (p.y == q.y)"
   ]
  },
  {
   "cell_type": "markdown",
   "metadata": {
    "collapsed": true
   },
   "source": [
    "\n",
    "### Преобразование и приведение типов\n"
   ]
  },
  {
   "cell_type": "markdown",
   "metadata": {
    "collapsed": true
   },
   "source": [
    "\n",
    "#### Преобразование типов\n"
   ]
  },
  {
   "cell_type": "code",
   "execution_count": 141,
   "metadata": {
    "collapsed": false
   },
   "outputs": [
    {
     "data": {
      "text/plain": [
       "convert (generic function with 1 method)"
      ]
     },
     "execution_count": 141,
     "metadata": {},
     "output_type": "execute_result"
    }
   ],
   "source": [
    "convert(::Type{OrdPair}, z::Complex) = OrdPair(real(z),imag(z))"
   ]
  },
  {
   "cell_type": "code",
   "execution_count": 142,
   "metadata": {
    "collapsed": false
   },
   "outputs": [
    {
     "data": {
      "text/plain": [
       "convert (generic function with 6 methods)"
      ]
     },
     "execution_count": 142,
     "metadata": {},
     "output_type": "execute_result"
    }
   ],
   "source": [
    "convert{T<:Real}(::Type{OrdPair{T}}, x::Real) = OrdPair{T}(x,0)\n",
    "convert{T<:Real}(::Type{OrdPair{T}}, p::OrdPair) = OrdPair{T}(p.x, p.y)\n",
    "convert{T<:Real}(::Type{T}, p::OrdPair) = isreal(p.x) ? convert(T,p.x) : throw(InexactError())\n",
    "convert(::Type{OrdPair}, p::OrdPair) = p\n",
    "convert(::Type{OrdPair}, x::Real) = OrdPair(x,0) "
   ]
  },
  {
   "cell_type": "markdown",
   "metadata": {
    "collapsed": true
   },
   "source": [
    "\n",
    "#### Приведение типов\n"
   ]
  },
  {
   "cell_type": "code",
   "execution_count": 91,
   "metadata": {
    "collapsed": false
   },
   "outputs": [
    {
     "data": {
      "text/plain": [
       "(1//1,2//3)"
      ]
     },
     "execution_count": 91,
     "metadata": {},
     "output_type": "execute_result"
    }
   ],
   "source": [
    "promote(1, 2//3)  "
   ]
  },
  {
   "cell_type": "code",
   "execution_count": 144,
   "metadata": {
    "collapsed": false
   },
   "outputs": [
    {
     "data": {
      "text/plain": [
       "(1.0 + 0.0im,2.0 + 3.0im)"
      ]
     },
     "execution_count": 144,
     "metadata": {},
     "output_type": "execute_result"
    }
   ],
   "source": [
    "promote(1, 2.0 + 3.0im)  "
   ]
  },
  {
   "cell_type": "code",
   "execution_count": 145,
   "metadata": {
    "collapsed": false
   },
   "outputs": [
    {
     "data": {
      "text/plain": [
       "promote_rule (generic function with 2 methods)"
      ]
     },
     "execution_count": 145,
     "metadata": {},
     "output_type": "execute_result"
    }
   ],
   "source": [
    "promote_rule{T<:Real,U<:Real}(::Type{OrdPair{T}}, ::Type{U}) = OrdPair{promote_type(T,U)}\n",
    "promote_rule{T<:Real,U<:Real}(::Type{OrdPair{T}}, ::Type{OrdPair{U}}) = OrdPair{promote_type(T,U)}"
   ]
  },
  {
   "cell_type": "markdown",
   "metadata": {
    "collapsed": true
   },
   "source": [
    "\n",
    "### Модуль для фиксированного 3D-вектора\n"
   ]
  },
  {
   "cell_type": "code",
   "execution_count": 90,
   "metadata": {
    "collapsed": false
   },
   "outputs": [
    {
     "data": {
      "text/plain": [
       "Vectors3D"
      ]
     },
     "execution_count": 90,
     "metadata": {},
     "output_type": "execute_result"
    }
   ],
   "source": [
    "#\n",
    "# Vectors3D.jl\n",
    "#\n",
    "\n",
    "module Vectors3D\n",
    "\n",
    "import Base: .-, .+, ./, .*, getindex\n",
    "import Base.show, Base.convert, Base.abs, Base.dot\n",
    "\n",
    "export Vector3D, getindex, phi\n",
    "\n",
    "immutable Vector3D{T <: Real}\n",
    "  x::T\n",
    "  y::T\n",
    "  z::T\n",
    "end\n",
    "\n",
    ".+(u::Vector3D, v::Vector3D) = Vector3D(u.x + v.x, u.x + v.y, u.z + v.z)\n",
    ".-(u::Vector3D, v::Vector3D) = Vector3D(u.x - v.x, u.x - v.y, u.z - v.z)\n",
    ".*(a::Number, u::Vector3D)   = Vector3D(a*u.x, a*u.y, a*u.z)\n",
    ".*(u::Vector3D, a::Number)   = Vector3D(a*u.x, a*u.y, a*u.z)\n",
    "./(a::Number, u::Vector3D)   = Vector3D(u.x/a, u.y/a, u.z/a)\n",
    "./(u::Vector3D, a::Number)   = Vector3D(u.x/a, u.y/a, u.z/a)\n",
    "\n",
    "show{T}(io::IO, u::Vector3D{T}) = print(io, \"[$(u.x), $(u.y), $(u.z)]\")\n",
    "\n",
    "abs{T}(u::Vector3D{T}) = (u.x*u.x + u.y*u.y + u.z*u.z)^0.5\n",
    "\n",
    "function phi(u::Vector3D, v::Vector3D)\n",
    "  w0 = u.x*v.x + u.y*v.y + u.z*v.z\n",
    "  w1 = abs(u) * abs(v)\n",
    "  try\n",
    "    return atan(w0 / w1)\n",
    "  catch\n",
    "        error(\"Деление на ноль\")\n",
    "  end\n",
    "end\n",
    "\n",
    "dot(u::Vector3D, v::Vector3D) = u.x*v.x + u.y*v.y + u.z+v.z\n",
    "\n",
    "getindex(u::Vector3D, i) = (i == 1 ? u.x : (i==2 ? u.y : u.z))\n",
    "\n",
    "convert(::Type{Vector3D}, u::Array{Float64,1}) =\n",
    "  Vector3D(u[1],u[2],u[3])\n",
    "end"
   ]
  }
 ],
 "metadata": {
  "kernelspec": {
   "display_name": "Julia 0.4.5",
   "language": "julia",
   "name": "julia-0.4"
  },
  "language_info": {
   "file_extension": ".jl",
   "mimetype": "application/julia",
   "name": "julia",
   "version": "0.4.5"
  }
 },
 "nbformat": 4,
 "nbformat_minor": 0
}
