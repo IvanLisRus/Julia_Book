{
 "cells": [
  {
   "cell_type": "markdown",
   "metadata": {},
   "source": [
    "<div style=\"text-align: left;\"><img src=\"https://www.juliabox.org/assets/img/juliacloudlogo.png\" style=\"margin: 0px 0px 0px 0px; padding-right: 20px;width: 80px; float: left;\" title=\"\" alt=\"\" /></div>\n",
    "<img src=\"http://dmkpress.com/images/cms/thumbs/a5b0aeaa3fa7d6e58d75710c18673bd7ec6d5f6d/978-5-97060-370-3_270_369__100.jpg\" style=\"margin: 0px 0px 5px 20px; width: 100px; float: right;\" title=\"\" alt=\"\" />\n",
    "Всестороннее введение в новый язык программирования для научно-технических вычислений [Julia](http://julialang.org/) в книге Малколма Шеррингтона, Packt Publishing, июль 2015.\n",
    "\n",
    "<h1>Осваиваем язык Julia</h1><br />\n",
    "\n",
    "Совершенствование мастерства в области аналитики и программирования при помощи Julia в целях решения задач комплексной обработки данных\n",
    "<div style=\"text-align: left;font-size:8pt;padding-top:10px;\">Программный код Julia (v0.4.5) протестирован в Windows 8.1/10 и Linux/Lubuntu 16.4</div>\n",
    "<div style=\"text-align: left;\"><h1>Глава 3. Типы и диспетчеризация</h1></div>"
   ]
  },
  {
   "cell_type": "markdown",
   "metadata": {
    "collapsed": true
   },
   "source": [
    "\n",
    "# Система типов Julia\n"
   ]
  },
  {
   "cell_type": "markdown",
   "metadata": {
    "collapsed": true
   },
   "source": [
    "\n",
    "### Обзор рационального типа\n"
   ]
  },
  {
   "cell_type": "code",
   "execution_count": 4,
   "metadata": {
    "collapsed": false
   },
   "outputs": [
    {
     "data": {
      "text/plain": [
       "2-element Array{Symbol,1}:\n",
       " :num\n",
       " :den"
      ]
     },
     "execution_count": 4,
     "metadata": {},
     "output_type": "execute_result"
    }
   ],
   "source": [
    "fieldnames(Rational)"
   ]
  },
  {
   "cell_type": "code",
   "execution_count": 5,
   "metadata": {
    "collapsed": false
   },
   "outputs": [
    {
     "data": {
      "text/plain": [
       "5-element Array{Any,1}:\n",
       " call(::Type{Rational{T<:Integer}}, n::Integer) at rational.jl:15                              \n",
       " call{T<:Integer}(::Type{Rational{T<:Integer}}, n::T<:Integer, d::T<:Integer) at rational.jl:13\n",
       " call(::Type{Rational{T<:Integer}}, n::Integer, d::Integer) at rational.jl:14                  \n",
       " call{T}(::Type{T}, arg) at essentials.jl:56                                                   \n",
       " call{T}(::Type{T}, args...) at essentials.jl:57                                               "
      ]
     },
     "execution_count": 5,
     "metadata": {},
     "output_type": "execute_result"
    }
   ],
   "source": [
    "methods(Rational)"
   ]
  },
  {
   "cell_type": "code",
   "execution_count": 15,
   "metadata": {
    "collapsed": false
   },
   "outputs": [
    {
     "ename": "LoadError",
     "evalue": "LoadError: type Rational is immutable\nwhile loading In[15], in expression starting on line 1",
     "output_type": "error",
     "traceback": [
      "LoadError: type Rational is immutable\nwhile loading In[15], in expression starting on line 1",
      ""
     ]
    }
   ],
   "source": [
    "r = 5//7; r.num = 3; r"
   ]
  },
  {
   "cell_type": "code",
   "execution_count": 22,
   "metadata": {
    "collapsed": false
   },
   "outputs": [
    {
     "data": {
      "text/plain": [
       "0.44 + 0.08im"
      ]
     },
     "execution_count": 22,
     "metadata": {},
     "output_type": "execute_result"
    }
   ],
   "source": [
    "(1+2im) / (3 + 4im);  # => 0.44 + 0.08im "
   ]
  },
  {
   "cell_type": "code",
   "execution_count": 23,
   "metadata": {
    "collapsed": false
   },
   "outputs": [
    {
     "data": {
      "text/plain": [
       "11//25 + 2//25*im"
      ]
     },
     "execution_count": 23,
     "metadata": {},
     "output_type": "execute_result"
    }
   ],
   "source": [
    "(1+2im) // (3 + 4im); # => 11/25 + 2//25*im"
   ]
  },
  {
   "cell_type": "markdown",
   "metadata": {
    "collapsed": true
   },
   "source": [
    "\n",
    "### Тип данных для транспортных средств\n"
   ]
  },
  {
   "cell_type": "code",
   "execution_count": 1,
   "metadata": {
    "collapsed": false
   },
   "outputs": [],
   "source": [
    "type Contact\n",
    "  name  :: AbstractString \n",
    "  email :: AbstractString \n",
    "  phone :: AbstractString \n",
    "    \n",
    "  function Contact(name::AbstractString, email::AbstractString, phone::AbstractString)\n",
    "    length(name)  == 0 && error(\"Отсутствует имя контактного лица\")\n",
    "    length(email) == 0 && length(phone) == 0 && error(\"Отсутствует электронная почта либо телефонный номер\")\n",
    "    new(name, email, phone)\n",
    "  end \n",
    "   \n",
    "end"
   ]
  },
  {
   "cell_type": "code",
   "execution_count": 2,
   "metadata": {
    "collapsed": false
   },
   "outputs": [
    {
     "data": {
      "text/plain": [
       "3-element Array{Any,1}:\n",
       " call(::Type{Contact}, name::AbstractString, email::AbstractString, phone::AbstractString) at In[1]:7\n",
       " call{T}(::Type{T}, arg) at essentials.jl:56                                                         \n",
       " call{T}(::Type{T}, args...) at essentials.jl:57                                                     "
      ]
     },
     "execution_count": 2,
     "metadata": {},
     "output_type": "execute_result"
    }
   ],
   "source": [
    "methods(Contact)"
   ]
  },
  {
   "cell_type": "code",
   "execution_count": 3,
   "metadata": {
    "collapsed": false
   },
   "outputs": [
    {
     "ename": "LoadError",
     "evalue": "LoadError: Отсутствует имя контактного лица\nwhile loading In[3], in expression starting on line 1",
     "output_type": "error",
     "traceback": [
      "LoadError: Отсутствует имя контактного лица\nwhile loading In[3], in expression starting on line 1",
      "",
      " in call at In[1]:7"
     ]
    }
   ],
   "source": [
    "me = Contact(\"\",\"\",\"\")  # вызовет ОШИБКУ"
   ]
  },
  {
   "cell_type": "code",
   "execution_count": 4,
   "metadata": {
    "collapsed": false
   },
   "outputs": [
    {
     "ename": "LoadError",
     "evalue": "LoadError: Отсутствует электронная почта либо телефонный номер\nwhile loading In[4], in expression starting on line 1",
     "output_type": "error",
     "traceback": [
      "LoadError: Отсутствует электронная почта либо телефонный номер\nwhile loading In[4], in expression starting on line 1",
      "",
      " in call at In[1]:8"
     ]
    }
   ],
   "source": [
    "me = Contact(\"malcolm\",\"\",\"\")  # вызовет ОШИБКУ"
   ]
  },
  {
   "cell_type": "code",
   "execution_count": 5,
   "metadata": {
    "collapsed": false
   },
   "outputs": [
    {
     "data": {
      "text/plain": [
       "Contact(\"Малколм\",\"malcolm@abc.com\",\"07777555999\")"
      ]
     },
     "execution_count": 5,
     "metadata": {},
     "output_type": "execute_result"
    }
   ],
   "source": [
    "me = Contact(\"Малколм\",\"malcolm@abc.com\",\"07777555999\")"
   ]
  },
  {
   "cell_type": "code",
   "execution_count": 6,
   "metadata": {
    "collapsed": true
   },
   "outputs": [],
   "source": [
    "abstract Vehicle\n",
    "abstract Car  <: Vehicle\n",
    "abstract Bike <: Vehicle\n",
    "abstract Boat <: Vehicle\n",
    "abstract Powerboat <: Boat "
   ]
  },
  {
   "cell_type": "code",
   "execution_count": 7,
   "metadata": {
    "collapsed": false
   },
   "outputs": [
    {
     "data": {
      "text/plain": [
       "Vehicle"
      ]
     },
     "execution_count": 7,
     "metadata": {},
     "output_type": "execute_result"
    }
   ],
   "source": [
    "super(Car)"
   ]
  },
  {
   "cell_type": "code",
   "execution_count": 8,
   "metadata": {
    "collapsed": false
   },
   "outputs": [
    {
     "data": {
      "text/plain": [
       "Boat"
      ]
     },
     "execution_count": 8,
     "metadata": {},
     "output_type": "execute_result"
    }
   ],
   "source": [
    "super(Powerboat) "
   ]
  },
  {
   "cell_type": "code",
   "execution_count": 9,
   "metadata": {
    "collapsed": false
   },
   "outputs": [
    {
     "data": {
      "text/plain": [
       "3-element Array{Any,1}:\n",
       " Bike\n",
       " Boat\n",
       " Car "
      ]
     },
     "execution_count": 9,
     "metadata": {},
     "output_type": "execute_result"
    }
   ],
   "source": [
    "subtypes(Vehicle)"
   ]
  },
  {
   "cell_type": "code",
   "execution_count": 10,
   "metadata": {
    "collapsed": false
   },
   "outputs": [],
   "source": [
    "type Ford <: Car\n",
    "  owner     ::Contact\n",
    "  model     ::AbstractString \n",
    "  fuel      ::AbstractString \n",
    "  color     ::AbstractString \n",
    "  engine_cc ::Int64\n",
    "  speed_mph ::Float64\n",
    "    \n",
    "  function Ford(owner, model, engine_cc,speed_mph)\n",
    "    new(owner,model,\"бензин\",\"черный\",engine_cc,speed_mph)\n",
    "  end\n",
    "end\n",
    "\n",
    "type BMW <: Car\n",
    "  owner::Contact\n",
    "  model::AbstractString \n",
    "  fuel::AbstractString \n",
    "  color::AbstractString \n",
    "  engine_cc::Int64\n",
    "  speed_mph::Float64\n",
    "    \n",
    "  function BMW(owner,model,engine_cc,speed_mph)\n",
    "    new (owner,model,\"бензин\",\"синий\",engine_cc,speed_mph)\n",
    "  end\n",
    "end\n",
    "\n",
    "type VW <: Car\n",
    "  owner::Contact\n",
    "  model::AbstractString \n",
    "  fuel::AbstractString \n",
    "  color::AbstractString \n",
    "  engine_cc::Int64\n",
    "  speed_mph::Float64\n",
    "end\n",
    "\n",
    "type MotorBike <: Bike\n",
    "  owner::Contact\n",
    "  model::AbstractString \n",
    "  engine_cc::Int64\n",
    "  speed_mph::Float64\n",
    "end\n",
    "\n",
    "type Scooter <: Bike\n",
    "  owner::Contact\n",
    "  model::AbstractString \n",
    "  engine_cc::Int64\n",
    "  speed_mph::Float64\n",
    "end\n",
    "\n",
    "type Yacht <: Boat\n",
    "  owner::Contact\n",
    "  model::AbstractString \n",
    "  length_m::Float64\n",
    "end\n",
    "\n",
    "type Speedboat <: Powerboat\n",
    "  owner::Contact\n",
    "  model::AbstractString \n",
    "  fuel::AbstractString \n",
    "  engine_cc::Int64\n",
    "  speed_knots::Float64\n",
    "  length_m::Float64\n",
    "end"
   ]
  },
  {
   "cell_type": "code",
   "execution_count": 11,
   "metadata": {
    "collapsed": false
   },
   "outputs": [],
   "source": [
    "malcolm = Contact(\"Малколм\",\"mal@abc.net\",\"+44 7777 555999\");\n",
    "myCar = Ford(malcolm, \"Model T\", 1000, 50.0);\n",
    "myBike = Scooter(malcolm, \"Vespa\", 125, 35.0);\n",
    "\n",
    "james = Contact(\"Джеймс\",\"jim@abc.net\",\"+44 7777666888\");\n",
    "jmCar = BMW(james,\"Series 500\", 3200, 125.0);\n",
    "jmCar.color = \"черный\";\n",
    "jmBoat = Yacht(james,\"Oceanis 44\",14.6);\n",
    "jmBike = MotorBike(james, \"Harley\", 850, 120.0);\n",
    "\n",
    "david = Contact(\"Дэвид\",\"dave@abc.net\",\"+30 7777 222444\");\n",
    "dvCar = VW(david,\"Golf\", \"дизель\", \"красный\", 1800, 85.0);\n",
    "dvBoat = Speedboat(david,\"Sealine 28\",\"бензин\", 600, 45.0, 8.2); "
   ]
  },
  {
   "cell_type": "code",
   "execution_count": 12,
   "metadata": {
    "collapsed": false
   },
   "outputs": [
    {
     "data": {
      "text/plain": [
       "3-element Array{Car,1}:\n",
       " Ford(Contact(\"Малколм\",\"mal@abc.net\",\"+44 7777 555999\"),\"Model T\",\"бензин\",\"черный\",1000,50.0) \n",
       " BMW(Contact(\"Джеймс\",\"jim@abc.net\",\"+44 7777666888\"),\"Series 500\",\"бензин\",\"черный\",3200,125.0)\n",
       " VW(Contact(\"Дэвид\",\"dave@abc.net\",\"+30 7777 222444\"),\"Golf\",\"дизель\",\"красный\",1800,85.0)      "
      ]
     },
     "execution_count": 12,
     "metadata": {},
     "output_type": "execute_result"
    }
   ],
   "source": [
    "cs = [myCar, jmCar, dvCar]"
   ]
  },
  {
   "cell_type": "code",
   "execution_count": 13,
   "metadata": {
    "collapsed": false
   },
   "outputs": [
    {
     "name": "stdout",
     "output_type": "stream",
     "text": [
      "Малколм имеет автомашину Ford Model T\n",
      "Джеймс имеет автомашину BMW Series 500\n",
      "Дэвид имеет автомашину VW Golf\n"
     ]
    }
   ],
   "source": [
    "for c in cs\n",
    "  who = c.owner.name\n",
    "  model = c.model\n",
    "  make = typeof(c);\n",
    "  println(\"$who имеет автомашину $make $model\")\n",
    "end"
   ]
  },
  {
   "cell_type": "code",
   "execution_count": 14,
   "metadata": {
    "collapsed": false
   },
   "outputs": [
    {
     "name": "stdout",
     "output_type": "stream",
     "text": [
      "Джеймс владеет следующими транспортными средствами:\n",
      "Car\tBMW\t\tSeries 500\n",
      "Bike\tMotorBike\t\tHarley\n",
      "Boat\tYacht\t\tOceanis 44\n"
     ]
    }
   ],
   "source": [
    "vs = [jmCar, jmBike, jmBoat]\n",
    "\n",
    "println(\"Джеймс владеет следующими транспортными средствами:\")\n",
    "\n",
    "for v in vs\n",
    "  model = v.model\n",
    "  make = typeof(v)\n",
    "  mtype = super(make)\n",
    "    \n",
    "  print(\"$mtype\\t$make\\t\\t$model\\n\")\n",
    "    \n",
    "end "
   ]
  },
  {
   "cell_type": "code",
   "execution_count": 15,
   "metadata": {
    "collapsed": false
   },
   "outputs": [
    {
     "data": {
      "text/plain": [
       "isquicker (generic function with 3 methods)"
      ]
     },
     "execution_count": 15,
     "metadata": {},
     "output_type": "execute_result"
    }
   ],
   "source": [
    "function isquicker(a::VW, b::BMW)\n",
    "  if (a.speed_mph == b.speed_mph)\n",
    "    return nothing\n",
    "  else\n",
    "    return(a.speed_mph > b.speed_mph ? a : b)\n",
    "  end\n",
    "end \n",
    "\n",
    "function isquicker(a::Speedboat, b::Scooter)\n",
    "  const KNOTS_TO_MPH = 1.151\n",
    "  a_mph = KNOTS_TO_MPH * a.speed_knots\n",
    "  if (a_mph == b.speed_mph)\n",
    "    return nothing\n",
    "  else\n",
    "    return(a_mph > b.speed_mph ? a : b)\n",
    "  end\n",
    "end\n",
    "\n",
    "isquicker(a::BMW, b::VW) = isquicker(b, a)"
   ]
  },
  {
   "cell_type": "code",
   "execution_count": 16,
   "metadata": {
    "collapsed": false,
    "scrolled": true
   },
   "outputs": [
    {
     "name": "stdout",
     "output_type": "stream",
     "text": [
      "BMW(Contact(\"Джеймс\",\"jim@abc.net\",\"+44 7777666888\"),\"Series 500\",\"бензин\",\"черный\",3200,125.0) имеет транспорт быстрее\n",
      "Транспортное средство Speedboat(Contact(\"Дэвид\",\"dave@abc.net\",\"+30 7777 222444\"),\"Sealine 28\",\"бензин\",600,45.0,8.2) - быстрее\n"
     ]
    }
   ],
   "source": [
    "@printf \"%s %s\\n\" isquicker(dvCar,jmCar) \"имеет транспорт быстрее\" \n",
    "\n",
    "@printf \"Транспортное средство %s - быстрее\\n\" isquicker(dvBoat,myBike)  "
   ]
  },
  {
   "cell_type": "markdown",
   "metadata": {},
   "source": [
    "Дополнение:"
   ]
  },
  {
   "cell_type": "code",
   "execution_count": 3,
   "metadata": {
    "collapsed": false
   },
   "outputs": [
    {
     "name": "stdout",
     "output_type": "stream",
     "text": [
      "Мне не всегда приходится быстро перемещаться,\n",
      "но когда нужно, я предпочитаю самолет.\n",
      "Я - самый умный программист в мире.\n"
     ]
    }
   ],
   "source": [
    "type Авто end\n",
    "скорость(::Авто) = 60\n",
    "\n",
    "type Самолет end\n",
    "скорость(::Самолет) = 500\n",
    "\n",
    "function перемещаться(точкаA, точкаB, средства...)\n",
    "    скорости = map(скорость, средства)\n",
    "    idx = findmax(скорости)[2]\n",
    "    println(\"Мне не всегда приходится быстро перемещаться,\")\n",
    "    println(\"но когда нужно, я предпочитаю $(lowercase(string(typeof(средства[idx])))).\")\n",
    "    println(\"Я - самый умный программист в мире.\")\n",
    "end\n",
    "\n",
    "перемещаться(1, 2, Авто(), Самолет())"
   ]
  },
  {
   "cell_type": "code",
   "execution_count": 4,
   "metadata": {
    "collapsed": false
   },
   "outputs": [
    {
     "name": "stdout",
     "output_type": "stream",
     "text": [
      "Мне не всегда приходится быстро перемещаться,\n",
      "но когда нужно, я предпочитаю телепортатор.\n",
      "Я - самый умный программист в мире.\n"
     ]
    }
   ],
   "source": [
    "type Телепортатор end\n",
    "скорость(::Телепортатор) = Inf\n",
    "\n",
    "перемещаться(1, 2, Авто(), Самолет(), Телепортатор())"
   ]
  },
  {
   "cell_type": "markdown",
   "metadata": {
    "collapsed": true
   },
   "source": [
    "\n",
    "#### Псевдоним типа и объединения \n"
   ]
  },
  {
   "cell_type": "code",
   "execution_count": 55,
   "metadata": {
    "collapsed": false
   },
   "outputs": [],
   "source": [
    "type Address\n",
    "  name::AbstractString \n",
    "  street::AbstractString \n",
    "  city::AbstractString \n",
    "  country::AbstractString \n",
    "  postcode::AbstractString \n",
    "end"
   ]
  },
  {
   "cell_type": "code",
   "execution_count": 58,
   "metadata": {
    "collapsed": false
   },
   "outputs": [
    {
     "data": {
      "text/plain": [
       "Address(\"Малколм Шеррингтон\",\"1 Main Street\",\"London\",\"UK\",\"WC2N 9ZZ\")"
      ]
     },
     "execution_count": 58,
     "metadata": {},
     "output_type": "execute_result"
    }
   ],
   "source": [
    "postal = Address(\"Малколм Шеррингтон\",\"1 Main Street\", \"London\", \"UK\", \"WC2N 9ZZ\")"
   ]
  },
  {
   "cell_type": "code",
   "execution_count": 59,
   "metadata": {
    "collapsed": false
   },
   "outputs": [
    {
     "data": {
      "text/plain": [
       "Union{Address,Contact}"
      ]
     },
     "execution_count": 59,
     "metadata": {},
     "output_type": "execute_result"
    }
   ],
   "source": [
    "typealias Owner Union{Contact, Address} "
   ]
  },
  {
   "cell_type": "code",
   "execution_count": 60,
   "metadata": {
    "collapsed": false
   },
   "outputs": [],
   "source": [
    "type Yacht2 <: Boat\n",
    "    owner::Owner\n",
    "    make::AbstractString\n",
    "    length_m::Float64\n",
    "end"
   ]
  },
  {
   "cell_type": "code",
   "execution_count": 63,
   "metadata": {
    "collapsed": false
   },
   "outputs": [
    {
     "data": {
      "text/plain": [
       "Yacht2(Contact(\"Малколм\",\"malcolm@abc.com\",\"07777555999\"),\"Moody 36\",11.02)"
      ]
     },
     "execution_count": 63,
     "metadata": {},
     "output_type": "execute_result"
    }
   ],
   "source": [
    "y1 = Yacht2(me,\"Moody 36\", 11.02); y1"
   ]
  },
  {
   "cell_type": "code",
   "execution_count": 64,
   "metadata": {
    "collapsed": false
   },
   "outputs": [
    {
     "data": {
      "text/plain": [
       "Yacht2(Address(\"Малколм Шеррингтон\",\"1 Main Street\",\"London\",\"UK\",\"WC2N 9ZZ\"),\"Dufour 44\",13.47)"
      ]
     },
     "execution_count": 64,
     "metadata": {},
     "output_type": "execute_result"
    }
   ],
   "source": [
    "y2 = Yacht2(postal,\"Dufour 44\", 13.47); y2"
   ]
  },
  {
   "cell_type": "code",
   "execution_count": 65,
   "metadata": {
    "collapsed": false
   },
   "outputs": [
    {
     "data": {
      "text/plain": [
       "\"Малколм\""
      ]
     },
     "execution_count": 65,
     "metadata": {},
     "output_type": "execute_result"
    }
   ],
   "source": [
    "y1.owner.name   "
   ]
  },
  {
   "cell_type": "code",
   "execution_count": 66,
   "metadata": {
    "collapsed": false
   },
   "outputs": [
    {
     "data": {
      "text/plain": [
       "\"Малколм Шеррингтон\""
      ]
     },
     "execution_count": 66,
     "metadata": {},
     "output_type": "execute_result"
    }
   ],
   "source": [
    "y2.owner.name   "
   ]
  },
  {
   "cell_type": "code",
   "execution_count": 67,
   "metadata": {
    "collapsed": false
   },
   "outputs": [
    {
     "data": {
      "text/plain": [
       "\"malcolm@abc.com\""
      ]
     },
     "execution_count": 67,
     "metadata": {},
     "output_type": "execute_result"
    }
   ],
   "source": [
    "y1.owner.email  "
   ]
  },
  {
   "cell_type": "code",
   "execution_count": 68,
   "metadata": {
    "collapsed": false
   },
   "outputs": [
    {
     "ename": "LoadError",
     "evalue": "LoadError: type Address has no field email\nwhile loading In[68], in expression starting on line 1",
     "output_type": "error",
     "traceback": [
      "LoadError: type Address has no field email\nwhile loading In[68], in expression starting on line 1",
      ""
     ]
    }
   ],
   "source": [
    "y2.owner.email  # вызовет ОШИБКУ"
   ]
  },
  {
   "cell_type": "code",
   "execution_count": 69,
   "metadata": {
    "collapsed": false
   },
   "outputs": [
    {
     "data": {
      "text/plain": [
       "Contact"
      ]
     },
     "execution_count": 69,
     "metadata": {},
     "output_type": "execute_result"
    }
   ],
   "source": [
    "typeof(y1.owner)  "
   ]
  },
  {
   "cell_type": "code",
   "execution_count": 70,
   "metadata": {
    "collapsed": false
   },
   "outputs": [
    {
     "data": {
      "text/plain": [
       "Address"
      ]
     },
     "execution_count": 70,
     "metadata": {},
     "output_type": "execute_result"
    }
   ],
   "source": [
    "typeof(y2.owner) "
   ]
  },
  {
   "cell_type": "code",
   "execution_count": 71,
   "metadata": {
    "collapsed": false
   },
   "outputs": [
    {
     "data": {
      "text/plain": [
       "true"
      ]
     },
     "execution_count": 71,
     "metadata": {},
     "output_type": "execute_result"
    }
   ],
   "source": [
    "isa(y1.owner,Contact) "
   ]
  },
  {
   "cell_type": "code",
   "execution_count": 72,
   "metadata": {
    "collapsed": false
   },
   "outputs": [
    {
     "data": {
      "text/plain": [
       "false"
      ]
     },
     "execution_count": 72,
     "metadata": {},
     "output_type": "execute_result"
    }
   ],
   "source": [
    "isa(y1.owner,Address)  "
   ]
  },
  {
   "cell_type": "markdown",
   "metadata": {
    "collapsed": true
   },
   "source": [
    "\n",
    "### Перечисляемый тип \n"
   ]
  },
  {
   "cell_type": "code",
   "execution_count": 26,
   "metadata": {
    "collapsed": false
   },
   "outputs": [
    {
     "data": {
      "text/plain": [
       "Array{Any,1}"
      ]
     },
     "execution_count": 26,
     "metadata": {},
     "output_type": "execute_result"
    }
   ],
   "source": [
    "typealias VecAny Array{Any,1}"
   ]
  },
  {
   "cell_type": "code",
   "execution_count": 27,
   "metadata": {
    "collapsed": false
   },
   "outputs": [
    {
     "data": {
      "text/plain": [
       "vnum (generic function with 1 method)"
      ]
     },
     "execution_count": 27,
     "metadata": {},
     "output_type": "execute_result"
    }
   ],
   "source": [
    "function vnum(syms::Symbol...)\n",
    "  A = []\n",
    "  for v in syms\n",
    "    push!(A,v)\n",
    "  end\n",
    "  A\n",
    "end"
   ]
  },
  {
   "cell_type": "code",
   "execution_count": 28,
   "metadata": {
    "collapsed": false
   },
   "outputs": [
    {
     "data": {
      "text/plain": [
       "vidx (generic function with 1 method)"
      ]
     },
     "execution_count": 28,
     "metadata": {},
     "output_type": "execute_result"
    }
   ],
   "source": [
    "function vidx(A::VecAny, a::Symbol)\n",
    "  for (i, v) in enumerate(A)\n",
    "    if v == a \n",
    "      return (i - 1)\n",
    "    end\n",
    "  end\n",
    "  -1\n",
    "end"
   ]
  },
  {
   "cell_type": "code",
   "execution_count": 29,
   "metadata": {
    "collapsed": false
   },
   "outputs": [
    {
     "data": {
      "text/plain": [
       "vin (generic function with 1 method)"
      ]
     },
     "execution_count": 29,
     "metadata": {},
     "output_type": "execute_result"
    }
   ],
   "source": [
    "vin(A::VecAny, a::Symbol) = (vidx(A,a) >= 0 ? true : false)"
   ]
  },
  {
   "cell_type": "code",
   "execution_count": 30,
   "metadata": {
    "collapsed": false
   },
   "outputs": [
    {
     "data": {
      "text/plain": [
       "4-element Array{Any,1}:\n",
       " :NONE  \n",
       " :PETROL\n",
       " :DIESEL\n",
       " :LPG   "
      ]
     },
     "execution_count": 30,
     "metadata": {},
     "output_type": "execute_result"
    }
   ],
   "source": [
    "fs = vnum(:NONE,:PETROL,:DIESEL,:LPG)"
   ]
  },
  {
   "cell_type": "code",
   "execution_count": 31,
   "metadata": {
    "collapsed": false
   },
   "outputs": [
    {
     "data": {
      "text/plain": [
       "2"
      ]
     },
     "execution_count": 31,
     "metadata": {},
     "output_type": "execute_result"
    }
   ],
   "source": [
    "vidx(fs,:DIESEL)  "
   ]
  },
  {
   "cell_type": "code",
   "execution_count": 32,
   "metadata": {
    "collapsed": false
   },
   "outputs": [
    {
     "data": {
      "text/plain": [
       "true"
      ]
     },
     "execution_count": 32,
     "metadata": {},
     "output_type": "execute_result"
    }
   ],
   "source": [
    "vin(fs,:NONE)     "
   ]
  },
  {
   "cell_type": "code",
   "execution_count": 33,
   "metadata": {
    "collapsed": false
   },
   "outputs": [
    {
     "data": {
      "text/plain": [
       "false"
      ]
     },
     "execution_count": 33,
     "metadata": {},
     "output_type": "execute_result"
    }
   ],
   "source": [
    "vin(fs,:GASOIL)   "
   ]
  },
  {
   "cell_type": "code",
   "execution_count": 34,
   "metadata": {
    "collapsed": false
   },
   "outputs": [
    {
     "data": {
      "text/plain": [
       "-1"
      ]
     },
     "execution_count": 34,
     "metadata": {},
     "output_type": "execute_result"
    }
   ],
   "source": [
    "vidx(fs,:GASOIL)   "
   ]
  },
  {
   "cell_type": "code",
   "execution_count": 142,
   "metadata": {
    "collapsed": true
   },
   "outputs": [],
   "source": [
    "type Fuel\n",
    "  fuel\n",
    "  function Fuel(fuel)\n",
    "    fs = vnum(:NONE,:PETROL,:DIESEL,:LPG)\n",
    "    vin(fs,fuel) ? new(fuel) : error(TypeError)\n",
    "  end\n",
    "end"
   ]
  }
 ],
 "metadata": {
  "kernelspec": {
   "display_name": "Julia 0.4.5",
   "language": "julia",
   "name": "julia-0.4"
  },
  "language_info": {
   "file_extension": ".jl",
   "mimetype": "application/julia",
   "name": "julia",
   "version": "0.4.5"
  }
 },
 "nbformat": 4,
 "nbformat_minor": 0
}
