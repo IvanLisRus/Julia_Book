{
 "cells": [
  {
   "cell_type": "markdown",
   "metadata": {},
   "source": [
    "<div style=\"text-align: left;\"><img src=\"https://www.juliabox.org/assets/img/juliacloudlogo.png\" style=\"margin: 0px 0px 0px 0px; padding-right: 20px;width: 80px; float: left;\" title=\"\" alt=\"\" /></div>\n",
    "<img src=\"http://dmkpress.com/images/cms/thumbs/a5b0aeaa3fa7d6e58d75710c18673bd7ec6d5f6d/978-5-97060-370-3_270_369__100.jpg\" style=\"margin: 0px 0px 5px 20px; width: 100px; float: right;\" title=\"\" alt=\"\" />\n",
    "Всестороннее введение в новый язык программирования для научно-технических вычислений [Julia](http://julialang.org/) в книге Малколма Шеррингтона, Packt Publishing, июль 2015.\n",
    "\n",
    "<h1>Осваиваем язык Julia</h1><br />\n",
    "\n",
    "Совершенствование мастерства в области аналитики и программирования при помощи Julia в целях решения задач комплексной обработки данных\n",
    "<div style=\"text-align: left;font-size:8pt;padding-top:10px;\">Программный код Julia (v0.4.5) протестирован в Windows 8.1/10 и Linux/Lubuntu 16.4</div>\n",
    "<div style=\"text-align: left;\"><h1>Глава 3. Типы и диспетчеризация</h1></div>"
   ]
  },
  {
   "cell_type": "markdown",
   "metadata": {},
   "source": [
    "\n",
    "# Функции\n"
   ]
  },
  {
   "cell_type": "code",
   "execution_count": 4,
   "metadata": {
    "collapsed": false
   },
   "outputs": [
    {
     "data": {
      "text/plain": [
       "sq (generic function with 1 method)"
      ]
     },
     "execution_count": 4,
     "metadata": {},
     "output_type": "execute_result"
    }
   ],
   "source": [
    "# то же самое, что и sq(x) = x*x \n",
    "\n",
    "function sq(x)\n",
    "  y = x*x\n",
    "  return y\n",
    "end"
   ]
  },
  {
   "cell_type": "markdown",
   "metadata": {
    "collapsed": true
   },
   "source": [
    "\n",
    "## Объекты первого класса\n"
   ]
  },
  {
   "cell_type": "code",
   "execution_count": 2,
   "metadata": {
    "collapsed": false
   },
   "outputs": [
    {
     "data": {
      "text/plain": [
       "\" Привет  Привет \""
      ]
     },
     "execution_count": 2,
     "metadata": {},
     "output_type": "execute_result"
    }
   ],
   "source": [
    "sq(x) = x*x\n",
    "\n",
    "sq(\" Привет \")"
   ]
  },
  {
   "cell_type": "code",
   "execution_count": 3,
   "metadata": {
    "collapsed": false
   },
   "outputs": [
    {
     "data": {
      "text/plain": [
       "3-element Array{Any,1}:\n",
       " 1       \n",
       " 4.0     \n",
       "  [1,4,9]"
      ]
     },
     "execution_count": 3,
     "metadata": {},
     "output_type": "execute_result"
    }
   ],
   "source": [
    "sq(x) = x.*x\n",
    "\n",
    "map(sq,Any[1, 2.0, [1,2,3]])"
   ]
  },
  {
   "cell_type": "code",
   "execution_count": 6,
   "metadata": {
    "collapsed": false
   },
   "outputs": [
    {
     "data": {
      "text/plain": [
       ".* (generic function with 27 methods)"
      ]
     },
     "execution_count": 6,
     "metadata": {},
     "output_type": "execute_result"
    }
   ],
   "source": [
    "import Base: .*\n",
    "\n",
    ".*(s1::AbstractString, s2::AbstractString) = string(s1,s2)\n"
   ]
  },
  {
   "cell_type": "code",
   "execution_count": 7,
   "metadata": {
    "collapsed": false
   },
   "outputs": [
    {
     "data": {
      "text/html": [
       "27 methods for generic function <b>.*</b>:<ul><li> .*(x::<b>Real</b>, r::<b>OrdinalRange{T,S}</b>) at <a href=\"https://github.com/JuliaLang/julia/tree/2ac304dfba75fad148d4070ef4f8a2e400c305bb/base/range.jl#L574\" target=\"_blank\">range.jl:574</a><li> .*(x::<b>Real</b>, r::<b>FloatRange{T<:AbstractFloat}</b>) at <a href=\"https://github.com/JuliaLang/julia/tree/2ac304dfba75fad148d4070ef4f8a2e400c305bb/base/range.jl#L575\" target=\"_blank\">range.jl:575</a><li> .*(x::<b>Real</b>, r::<b>LinSpace{T<:AbstractFloat}</b>) at <a href=\"https://github.com/JuliaLang/julia/tree/2ac304dfba75fad148d4070ef4f8a2e400c305bb/base/range.jl#L576\" target=\"_blank\">range.jl:576</a><li> .*(r::<b>FloatRange{T<:AbstractFloat}</b>, x::<b>Real</b>) at <a href=\"https://github.com/JuliaLang/julia/tree/2ac304dfba75fad148d4070ef4f8a2e400c305bb/base/range.jl#L578\" target=\"_blank\">range.jl:578</a><li> .*(r::<b>LinSpace{T<:AbstractFloat}</b>, x::<b>Real</b>) at <a href=\"https://github.com/JuliaLang/julia/tree/2ac304dfba75fad148d4070ef4f8a2e400c305bb/base/range.jl#L579\" target=\"_blank\">range.jl:579</a><li> .*(r::<b>Range{T}</b>, x::<b>Real</b>) at <a href=\"https://github.com/JuliaLang/julia/tree/2ac304dfba75fad148d4070ef4f8a2e400c305bb/base/range.jl#L577\" target=\"_blank\">range.jl:577</a><li> .*(x::<b>Number</b>, r::<b>Range{T}</b>) at <a href=\"https://github.com/JuliaLang/julia/tree/2ac304dfba75fad148d4070ef4f8a2e400c305bb/base/range.jl#L646\" target=\"_blank\">range.jl:646</a><li> .*(r::<b>Range{T}</b>, y::<b>Number</b>) at <a href=\"https://github.com/JuliaLang/julia/tree/2ac304dfba75fad148d4070ef4f8a2e400c305bb/base/range.jl#L647\" target=\"_blank\">range.jl:647</a><li> .*(x::<b>Number</b>, y::<b>Number</b>) at <a href=\"https://github.com/JuliaLang/julia/tree/2ac304dfba75fad148d4070ef4f8a2e400c305bb/base/operators.jl#L115\" target=\"_blank\">operators.jl:115</a><li> .*(x::<b>Bool</b>, B::<b>BitArray{N}</b>) at <a href=\"https://github.com/JuliaLang/julia/tree/2ac304dfba75fad148d4070ef4f8a2e400c305bb/base/bitarray.jl#L1033\" target=\"_blank\">bitarray.jl:1033</a><li> .*(x::<b>Number</b>, B::<b>BitArray{N}</b>) at <a href=\"https://github.com/JuliaLang/julia/tree/2ac304dfba75fad148d4070ef4f8a2e400c305bb/base/bitarray.jl#L1035\" target=\"_blank\">bitarray.jl:1035</a><li> .*(A::<b>Number</b>, B::<b>SparseMatrixCSC{Tv,Ti<:Integer}</b>) at <a href=\"https://github.com/JuliaLang/julia/tree/2ac304dfba75fad148d4070ef4f8a2e400c305bb/base/sparse/sparsematrix.jl#L1028\" target=\"_blank\">sparse/sparsematrix.jl:1028</a><li> .*<i>{P<:Base.Dates.Period}</i>(y::<b>Real</b>, X::<b>Union{DenseArray{P<:Base.Dates.Period,N},SubArray{P<:Base.Dates.Period,N,A<:DenseArray{T,N},I<:Tuple{Vararg{Union{Colon,Int64,Range{Int64}}}},LD}}</b>) at <a href=\"https://github.com/JuliaLang/julia/tree/2ac304dfba75fad148d4070ef4f8a2e400c305bb/base/dates/periods.jl#L56\" target=\"_blank\">dates/periods.jl:56</a><li> .*<i>{T}</i>(A::<b>Number</b>, B::<b>AbstractArray{T,N}</b>) at <a href=\"https://github.com/JuliaLang/julia/tree/2ac304dfba75fad148d4070ef4f8a2e400c305bb/base/arraymath.jl#L118\" target=\"_blank\">arraymath.jl:118</a><li> .*(B::<b>BitArray{N}</b>, x::<b>Bool</b>) at <a href=\"https://github.com/JuliaLang/julia/tree/2ac304dfba75fad148d4070ef4f8a2e400c305bb/base/bitarray.jl#L1034\" target=\"_blank\">bitarray.jl:1034</a><li> .*(B::<b>BitArray{N}</b>, x::<b>Number</b>) at <a href=\"https://github.com/JuliaLang/julia/tree/2ac304dfba75fad148d4070ef4f8a2e400c305bb/base/bitarray.jl#L1036\" target=\"_blank\">bitarray.jl:1036</a><li> .*(A::<b>SparseMatrixCSC{Tv,Ti<:Integer}</b>, B::<b>Number</b>) at <a href=\"https://github.com/JuliaLang/julia/tree/2ac304dfba75fad148d4070ef4f8a2e400c305bb/base/sparse/sparsematrix.jl#L1027\" target=\"_blank\">sparse/sparsematrix.jl:1027</a><li> .*<i>{P<:Base.Dates.Period}</i>(X::<b>Union{DenseArray{P<:Base.Dates.Period,N},SubArray{P<:Base.Dates.Period,N,A<:DenseArray{T,N},I<:Tuple{Vararg{Union{Colon,Int64,Range{Int64}}}},LD}}</b>, y::<b>Real</b>) at <a href=\"https://github.com/JuliaLang/julia/tree/2ac304dfba75fad148d4070ef4f8a2e400c305bb/base/dates/periods.jl#L66\" target=\"_blank\">dates/periods.jl:66</a><li> .*<i>{T}</i>(A::<b>AbstractArray{T,N}</b>, B::<b>Number</b>) at <a href=\"https://github.com/JuliaLang/julia/tree/2ac304dfba75fad148d4070ef4f8a2e400c305bb/base/arraymath.jl#L125\" target=\"_blank\">arraymath.jl:125</a><li> .*(x::<b>Number</b>, J::<b>UniformScaling{T<:Number}</b>) at <a href=\"https://github.com/JuliaLang/julia/tree/2ac304dfba75fad148d4070ef4f8a2e400c305bb/base/linalg/uniformscaling.jl#L143\" target=\"_blank\">linalg/uniformscaling.jl:143</a><li> .*(J::<b>UniformScaling{T<:Number}</b>, x::<b>Number</b>) at <a href=\"https://github.com/JuliaLang/julia/tree/2ac304dfba75fad148d4070ef4f8a2e400c305bb/base/linalg/uniformscaling.jl#L144\" target=\"_blank\">linalg/uniformscaling.jl:144</a><li> .*(A::<b>BitArray{N}</b>, B::<b>BitArray{N}</b>) at <a href=\"https://github.com/JuliaLang/julia/tree/2ac304dfba75fad148d4070ef4f8a2e400c305bb/base/broadcast.jl#L475\" target=\"_blank\">broadcast.jl:475</a><li> .*(A::<b>AbstractArray{Bool,N}</b>, B::<b>BitArray{N}</b>) at <a href=\"https://github.com/JuliaLang/julia/tree/2ac304dfba75fad148d4070ef4f8a2e400c305bb/base/broadcast.jl#L475\" target=\"_blank\">broadcast.jl:475</a><li> .*(A::<b>BitArray{N}</b>, B::<b>AbstractArray{Bool,N}</b>) at <a href=\"https://github.com/JuliaLang/julia/tree/2ac304dfba75fad148d4070ef4f8a2e400c305bb/base/broadcast.jl#L475\" target=\"_blank\">broadcast.jl:475</a><li> .*(A::<b>AbstractArray{T,N}</b>, B::<b>AbstractArray{T,N}</b>) at <a href=\"https://github.com/JuliaLang/julia/tree/2ac304dfba75fad148d4070ef4f8a2e400c305bb/base/sparse/sparsematrix.jl#L1026\" target=\"_blank\">sparse/sparsematrix.jl:1026</a><li> .*(As::<b>AbstractArray{T,N}...</b>) at <a href=\"https://github.com/JuliaLang/julia/tree/2ac304dfba75fad148d4070ef4f8a2e400c305bb/base/broadcast.jl#L307\" target=\"_blank\">broadcast.jl:307</a><li> .*(s1::<b>AbstractString</b>, s2::<b>AbstractString</b>) at In[6]:3</ul>"
      ],
      "text/plain": [
       "# 27 methods for generic function \".*\":\n",
       ".*(x::Real, r::OrdinalRange{T,S}) at range.jl:574\n",
       ".*(x::Real, r::FloatRange{T<:AbstractFloat}) at range.jl:575\n",
       ".*(x::Real, r::LinSpace{T<:AbstractFloat}) at range.jl:576\n",
       ".*(r::FloatRange{T<:AbstractFloat}, x::Real) at range.jl:578\n",
       ".*(r::LinSpace{T<:AbstractFloat}, x::Real) at range.jl:579\n",
       ".*(r::Range{T}, x::Real) at range.jl:577\n",
       ".*(x::Number, r::Range{T}) at range.jl:646\n",
       ".*(r::Range{T}, y::Number) at range.jl:647\n",
       ".*(x::Number, y::Number) at operators.jl:115\n",
       ".*(x::Bool, B::BitArray{N}) at bitarray.jl:1033\n",
       ".*(x::Number, B::BitArray{N}) at bitarray.jl:1035\n",
       ".*(A::Number, B::SparseMatrixCSC{Tv,Ti<:Integer}) at sparse/sparsematrix.jl:1028\n",
       ".*{P<:Base.Dates.Period}(y::Real, X::Union{DenseArray{P<:Base.Dates.Period,N},SubArray{P<:Base.Dates.Period,N,A<:DenseArray{T,N},I<:Tuple{Vararg{Union{Colon,Int64,Range{Int64}}}},LD}}) at dates/periods.jl:56\n",
       ".*{T}(A::Number, B::AbstractArray{T,N}) at arraymath.jl:118\n",
       ".*(B::BitArray{N}, x::Bool) at bitarray.jl:1034\n",
       ".*(B::BitArray{N}, x::Number) at bitarray.jl:1036\n",
       ".*(A::SparseMatrixCSC{Tv,Ti<:Integer}, B::Number) at sparse/sparsematrix.jl:1027\n",
       ".*{P<:Base.Dates.Period}(X::Union{DenseArray{P<:Base.Dates.Period,N},SubArray{P<:Base.Dates.Period,N,A<:DenseArray{T,N},I<:Tuple{Vararg{Union{Colon,Int64,Range{Int64}}}},LD}}, y::Real) at dates/periods.jl:66\n",
       ".*{T}(A::AbstractArray{T,N}, B::Number) at arraymath.jl:125\n",
       ".*(x::Number, J::UniformScaling{T<:Number}) at linalg/uniformscaling.jl:143\n",
       ".*(J::UniformScaling{T<:Number}, x::Number) at linalg/uniformscaling.jl:144\n",
       ".*(A::BitArray{N}, B::BitArray{N}) at broadcast.jl:475\n",
       ".*(A::AbstractArray{Bool,N}, B::BitArray{N}) at broadcast.jl:475\n",
       ".*(A::BitArray{N}, B::AbstractArray{Bool,N}) at broadcast.jl:475\n",
       ".*(A::AbstractArray{T,N}, B::AbstractArray{T,N}) at sparse/sparsematrix.jl:1026\n",
       ".*(As::AbstractArray{T,N}...) at broadcast.jl:307\n",
       ".*(s1::AbstractString, s2::AbstractString) at In[6]:3"
      ]
     },
     "execution_count": 7,
     "metadata": {},
     "output_type": "execute_result"
    }
   ],
   "source": [
    "methods(.*)"
   ]
  },
  {
   "cell_type": "code",
   "execution_count": 7,
   "metadata": {
    "collapsed": false
   },
   "outputs": [
    {
     "data": {
      "text/plain": [
       "1x3 Array{Int64,2}:\n",
       " 1  4  9"
      ]
     },
     "execution_count": 7,
     "metadata": {},
     "output_type": "execute_result"
    }
   ],
   "source": [
    "map(x -> x.*x, ([1 2 3]))"
   ]
  },
  {
   "cell_type": "code",
   "execution_count": 1,
   "metadata": {
    "collapsed": false
   },
   "outputs": [
    {
     "data": {
      "text/plain": [
       "hailstone (generic function with 1 method)"
      ]
     },
     "execution_count": 1,
     "metadata": {},
     "output_type": "execute_result"
    }
   ],
   "source": [
    "function hailstone(n)\n",
    "  k = 1\n",
    "  a = [n]\n",
    "  while n > 1\n",
    "    n = (n % 2 == 0) ? n >> 1 : 3n + 1\n",
    "    push!(a,n)\n",
    "    k += 1\n",
    "  end\n",
    "  return (k,a)\n",
    "end"
   ]
  },
  {
   "cell_type": "code",
   "execution_count": 2,
   "metadata": {
    "collapsed": false
   },
   "outputs": [
    {
     "data": {
      "text/plain": [
       "(13,[17,52,26,13,40,20,10,5,16,8,4,2,1])"
      ]
     },
     "execution_count": 2,
     "metadata": {},
     "output_type": "execute_result"
    }
   ],
   "source": [
    "hailstone(17)"
   ]
  },
  {
   "cell_type": "code",
   "execution_count": 11,
   "metadata": {
    "collapsed": false
   },
   "outputs": [
    {
     "data": {
      "text/plain": [
       "(112,[1000,500,250,125,376,188,94,47,142,71  …  80,40,20,10,5,16,8,4,2,1])"
      ]
     },
     "execution_count": 11,
     "metadata": {},
     "output_type": "execute_result"
    }
   ],
   "source": [
    "(m,s) = hailstone(1000)"
   ]
  },
  {
   "cell_type": "code",
   "execution_count": 12,
   "metadata": {
    "collapsed": false
   },
   "outputs": [
    {
     "data": {
      "text/plain": [
       "(153,[1000000,500000,250000,125000,62500,31250,15625,46876,23438,11719  …  80,40,20,10,5,16,8,4,2,1])"
      ]
     },
     "execution_count": 12,
     "metadata": {},
     "output_type": "execute_result"
    }
   ],
   "source": [
    "(m,s) = hailstone(1000000)"
   ]
  },
  {
   "cell_type": "code",
   "execution_count": 2,
   "metadata": {
    "collapsed": false
   },
   "outputs": [
    {
     "name": "stdout",
     "output_type": "stream",
     "text": [
      "Чудесное_число(1000) => 112 итераций\n",
      "Чудесное_число(2000) => 113 итераций\n",
      "Чудесное_число(3000) => 49 итераций\n",
      "Чудесное_число(4000) => 114 итераций\n",
      "Чудесное_число(5000) => 29 итераций\n",
      "Чудесное_число(6000) => 50 итераций\n"
     ]
    }
   ],
   "source": [
    "for i = 1000:1000:6000\n",
    "  (m,s) = hailstone(i)\n",
    "    \n",
    "  println(\"Чудесное_число($i) => $m итераций\")\n",
    "    \n",
    "end"
   ]
  },
  {
   "cell_type": "markdown",
   "metadata": {},
   "source": [
    "## Передача аргументов"
   ]
  },
  {
   "cell_type": "markdown",
   "metadata": {
    "collapsed": true
   },
   "source": [
    "\n",
    "### Стандартные и необязательные аргументы\n"
   ]
  },
  {
   "cell_type": "code",
   "execution_count": 5,
   "metadata": {
    "collapsed": false
   },
   "outputs": [
    {
     "ename": "LoadError",
     "evalue": "LoadError: MethodError: `*` has no method matching *(::Array{Float64,1}, ::Array{Float64,1})\nClosest candidates are:\n  *(::Any, ::Any, !Matched::Any, !Matched::Any...)\n  *{T<:Union{Complex{Float32},Complex{Float64},Float32,Float64},S}(!Matched::Union{DenseArray{T<:Union{Complex{Float32},Complex{Float64},Float32,Float64},2},SubArray{T<:Union{Complex{Float32},Complex{Float64},Float32,Float64},2,A<:DenseArray{T,N},I<:Tuple{Vararg{Union{Colon,Int64,Range{Int64}}}},LD}}, ::Union{DenseArray{S,1},SubArray{S,1,A<:DenseArray{T,N},I<:Tuple{Vararg{Union{Colon,Int64,Range{Int64}}}},LD}})\n  *{TA,TB}(!Matched::Base.LinAlg.AbstractTriangular{TA,S<:AbstractArray{T,2}}, ::Union{DenseArray{TB,1},DenseArray{TB,2},SubArray{TB,1,A<:DenseArray{T,N},I<:Tuple{Vararg{Union{Colon,Int64,Range{Int64}}}},LD},SubArray{TB,2,A<:DenseArray{T,N},I<:Tuple{Vararg{Union{Colon,Int64,Range{Int64}}}},LD}})\n  ...\nwhile loading In[5], in expression starting on line 1",
     "output_type": "error",
     "traceback": [
      "LoadError: MethodError: `*` has no method matching *(::Array{Float64,1}, ::Array{Float64,1})\nClosest candidates are:\n  *(::Any, ::Any, !Matched::Any, !Matched::Any...)\n  *{T<:Union{Complex{Float32},Complex{Float64},Float32,Float64},S}(!Matched::Union{DenseArray{T<:Union{Complex{Float32},Complex{Float64},Float32,Float64},2},SubArray{T<:Union{Complex{Float32},Complex{Float64},Float32,Float64},2,A<:DenseArray{T,N},I<:Tuple{Vararg{Union{Colon,Int64,Range{Int64}}}},LD}}, ::Union{DenseArray{S,1},SubArray{S,1,A<:DenseArray{T,N},I<:Tuple{Vararg{Union{Colon,Int64,Range{Int64}}}},LD}})\n  *{TA,TB}(!Matched::Base.LinAlg.AbstractTriangular{TA,S<:AbstractArray{T,2}}, ::Union{DenseArray{TB,1},DenseArray{TB,2},SubArray{TB,1,A<:DenseArray{T,N},I<:Tuple{Vararg{Union{Colon,Int64,Range{Int64}}}},LD},SubArray{TB,2,A<:DenseArray{T,N},I<:Tuple{Vararg{Union{Colon,Int64,Range{Int64}}}},LD}})\n  ...\nwhile loading In[5], in expression starting on line 1",
      ""
     ]
    }
   ],
   "source": [
    "a = [1.0,2,3]; sq(a)"
   ]
  },
  {
   "cell_type": "code",
   "execution_count": 3,
   "metadata": {
    "collapsed": false
   },
   "outputs": [
    {
     "data": {
      "image/png": "[encoded data removed]",
      "text/plain": [
       "PyPlot.Figure(PyObject <matplotlib.figure.Figure object at 0x000000001A5FB780>)"
      ]
     },
     "metadata": {},
     "output_type": "display_data"
    }
   ],
   "source": [
    "f(x, p = 0.0) = exp(p*x)*sin(x);\n",
    "\n",
    "t = linspace(0.0,8pi);\n",
    "w = zeros(length(t));\n",
    "\n",
    "for i = 1:length(w) w[i] = f(t[i], 0.1) end\n",
    "\n",
    "using PyPlot\n",
    "\n",
    "plot (t, w);"
   ]
  },
  {
   "cell_type": "code",
   "execution_count": 9,
   "metadata": {
    "collapsed": false
   },
   "outputs": [
    {
     "data": {
      "text/html": [
       "2 methods for generic function <b>f</b>:<ul><li> f(x) at In[8]:1<li> f(x, p) at In[8]:1</ul>"
      ],
      "text/plain": [
       "# 2 methods for generic function \"f\":\n",
       "f(x) at In[8]:1\n",
       "f(x, p) at In[8]:1"
      ]
     },
     "execution_count": 9,
     "metadata": {},
     "output_type": "execute_result"
    }
   ],
   "source": [
    "methods(f)"
   ]
  },
  {
   "cell_type": "code",
   "execution_count": 53,
   "metadata": {
    "collapsed": false
   },
   "outputs": [
    {
     "data": {
      "text/plain": [
       "4.075188339491183"
      ]
     },
     "execution_count": 53,
     "metadata": {},
     "output_type": "execute_result"
    }
   ],
   "source": [
    "f (2.0,3//4)   "
   ]
  },
  {
   "cell_type": "code",
   "execution_count": 54,
   "metadata": {
    "collapsed": false
   },
   "outputs": [
    {
     "data": {
      "text/plain": [
       "47.66857308497605 - 13.871849902204445im"
      ]
     },
     "execution_count": 54,
     "metadata": {},
     "output_type": "execute_result"
    }
   ],
   "source": [
    "f (2.0,2+3im)  "
   ]
  },
  {
   "cell_type": "code",
   "execution_count": 10,
   "metadata": {
    "collapsed": false
   },
   "outputs": [
    {
     "data": {
      "text/plain": [
       "f (generic function with 5 methods)"
      ]
     },
     "execution_count": 10,
     "metadata": {},
     "output_type": "execute_result"
    }
   ],
   "source": [
    "f(x, y, a=2.5, b=4.0, c=1.0) = a*x + y*b + c"
   ]
  },
  {
   "cell_type": "code",
   "execution_count": 57,
   "metadata": {
    "collapsed": false
   },
   "outputs": [
    {
     "data": {
      "text/plain": [
       "7.5"
      ]
     },
     "execution_count": 57,
     "metadata": {},
     "output_type": "execute_result"
    }
   ],
   "source": [
    "f(1,1)              # все аргументы по умолчанию"
   ]
  },
  {
   "cell_type": "code",
   "execution_count": 58,
   "metadata": {
    "collapsed": false
   },
   "outputs": [
    {
     "data": {
      "text/plain": [
       "7.0"
      ]
     },
     "execution_count": 58,
     "metadata": {},
     "output_type": "execute_result"
    }
   ],
   "source": [
    "f(1,1,2)            # установлено в 2.0"
   ]
  },
  {
   "cell_type": "code",
   "execution_count": 59,
   "metadata": {
    "collapsed": false
   },
   "outputs": [
    {
     "data": {
      "text/plain": [
       "9.5"
      ]
     },
     "execution_count": 59,
     "metadata": {},
     "output_type": "execute_result"
    }
   ],
   "source": [
    "f(1,1,2.5,4.0,3.0)  "
   ]
  },
  {
   "cell_type": "markdown",
   "metadata": {
    "collapsed": true
   },
   "source": [
    "\n",
    "### Список аргументов переменной длины \n"
   ]
  },
  {
   "cell_type": "code",
   "execution_count": 3,
   "metadata": {
    "collapsed": false
   },
   "outputs": [
    {
     "data": {
      "text/plain": [
       "g (generic function with 1 method)"
      ]
     },
     "execution_count": 3,
     "metadata": {},
     "output_type": "execute_result"
    }
   ],
   "source": [
    "function g(a, b, c...)\n",
    "  n = length(c)\n",
    "  if n > 0 then\n",
    "    x = zeros(n)\n",
    "    for i = 1:n\n",
    "      x[i] = a + b*c[i]\n",
    "    end\n",
    "    return x\n",
    "  else\n",
    "    return nothing\n",
    "  end\n",
    "end"
   ]
  },
  {
   "cell_type": "code",
   "execution_count": 4,
   "metadata": {
    "collapsed": true
   },
   "outputs": [],
   "source": [
    "g(1.,2.)    # => ничего не вернет ('nothing')"
   ]
  },
  {
   "cell_type": "code",
   "execution_count": 3,
   "metadata": {
    "collapsed": false
   },
   "outputs": [
    {
     "data": {
      "text/plain": [
       "2-element Array{Float64,1}:\n",
       " 7.0\n",
       " 9.0"
      ]
     },
     "execution_count": 3,
     "metadata": {},
     "output_type": "execute_result"
    }
   ],
   "source": [
    "g(1.,2.,3.,4.)"
   ]
  },
  {
   "cell_type": "code",
   "execution_count": 4,
   "metadata": {
    "collapsed": false
   },
   "outputs": [
    {
     "data": {
      "text/plain": [
       "2-element Array{Float64,1}:\n",
       " 2.2    \n",
       " 2.42857"
      ]
     },
     "execution_count": 4,
     "metadata": {},
     "output_type": "execute_result"
    }
   ],
   "source": [
    "g(1.0, 2.0, 3//5, 5//7)"
   ]
  },
  {
   "cell_type": "code",
   "execution_count": 5,
   "metadata": {
    "collapsed": false
   },
   "outputs": [
    {
     "data": {
      "text/plain": [
       "g (generic function with 2 methods)"
      ]
     },
     "execution_count": 5,
     "metadata": {},
     "output_type": "execute_result"
    }
   ],
   "source": [
    "function g(a, b...)\n",
    "  n = length(b)\n",
    "  if n == 0 then\n",
    "    return nothing\n",
    "  else\n",
    "    x = zeros(n)\n",
    "    for i = 1:n\n",
    "      x[i] = a(b[i])\n",
    "    end\n",
    "    return x\n",
    "  end\n",
    "end"
   ]
  },
  {
   "cell_type": "code",
   "execution_count": 6,
   "metadata": {
    "collapsed": false
   },
   "outputs": [
    {
     "data": {
      "text/plain": [
       "4-element Array{Float64,1}:\n",
       "  1.0\n",
       "  4.0\n",
       "  9.0\n",
       " 16.0"
      ]
     },
     "execution_count": 6,
     "metadata": {},
     "output_type": "execute_result"
    }
   ],
   "source": [
    "g(x -> x*x, 1., 2., 3., 4.) \n",
    "\n",
    "# ЛИБО:\n",
    "# fn(x) = x*x \n",
    "# g(fn, 1., 2., 3., 4.)"
   ]
  },
  {
   "cell_type": "markdown",
   "metadata": {
    "collapsed": true
   },
   "source": [
    "\n",
    "### Именованные параметры\n"
   ]
  },
  {
   "cell_type": "code",
   "execution_count": 25,
   "metadata": {
    "collapsed": false
   },
   "outputs": [
    {
     "data": {
      "text/plain": [
       "f (generic function with 5 methods)"
      ]
     },
     "execution_count": 25,
     "metadata": {},
     "output_type": "execute_result"
    }
   ],
   "source": [
    "f(x, y; a=2.5, b=4.0, c=1.0) = a*x + b*y + c"
   ]
  },
  {
   "cell_type": "code",
   "execution_count": 26,
   "metadata": {
    "collapsed": false
   },
   "outputs": [
    {
     "data": {
      "text/plain": [
       "7.5"
      ]
     },
     "execution_count": 26,
     "metadata": {},
     "output_type": "execute_result"
    }
   ],
   "source": [
    "f (1.,1., c=1.)"
   ]
  },
  {
   "cell_type": "code",
   "execution_count": 27,
   "metadata": {
    "collapsed": false
   },
   "outputs": [
    {
     "data": {
      "text/plain": [
       "h (generic function with 1 method)"
      ]
     },
     "execution_count": 27,
     "metadata": {},
     "output_type": "execute_result"
    }
   ],
   "source": [
    "function h(x...; mu=0.0, sigma=1.0)\n",
    "  n = length(x)\n",
    "  (n == 0) ? (return nothing) : begin\n",
    "    a = zeros(n);\n",
    "    [a[i] = (mu + sigma*rand())*x[i] for i = 1:n]\n",
    "    a\n",
    "  end\n",
    "end"
   ]
  },
  {
   "cell_type": "code",
   "execution_count": 29,
   "metadata": {
    "collapsed": false
   },
   "outputs": [
    {
     "data": {
      "text/plain": [
       "3-element Array{Float64,1}:\n",
       " 0.30405 \n",
       " 0.631233\n",
       " 0.091514"
      ]
     },
     "execution_count": 29,
     "metadata": {},
     "output_type": "execute_result"
    }
   ],
   "source": [
    "h(1.0,2.0,3.0, sigma=0.5)"
   ]
  },
  {
   "cell_type": "markdown",
   "metadata": {
    "collapsed": true
   },
   "source": [
    "\n",
    "## Область видимости\n"
   ]
  },
  {
   "cell_type": "code",
   "execution_count": 3,
   "metadata": {
    "collapsed": false
   },
   "outputs": [
    {
     "data": {
      "text/plain": [
       "f (generic function with 1 method)"
      ]
     },
     "execution_count": 3,
     "metadata": {},
     "output_type": "execute_result"
    }
   ],
   "source": [
    "function f()\n",
    "  x = y = 0;\n",
    "  while (x < 5)\n",
    "    y = x += 1;\n",
    "  end\n",
    "  println(y)\n",
    "end"
   ]
  },
  {
   "cell_type": "code",
   "execution_count": 4,
   "metadata": {
    "collapsed": false
   },
   "outputs": [
    {
     "name": "stdout",
     "output_type": "stream",
     "text": [
      "5\n"
     ]
    }
   ],
   "source": [
    "f()"
   ]
  },
  {
   "cell_type": "code",
   "execution_count": 5,
   "metadata": {
    "collapsed": false
   },
   "outputs": [
    {
     "data": {
      "text/plain": [
       "f (generic function with 1 method)"
      ]
     },
     "execution_count": 5,
     "metadata": {},
     "output_type": "execute_result"
    }
   ],
   "source": [
    "function f()\n",
    "  x = y = 0;\n",
    "  while (x < 5)\n",
    "    local y = x += 1;\n",
    "  end\n",
    "  return y\n",
    "end"
   ]
  },
  {
   "cell_type": "code",
   "execution_count": 6,
   "metadata": {
    "collapsed": false
   },
   "outputs": [
    {
     "data": {
      "text/plain": [
       "0"
      ]
     },
     "execution_count": 6,
     "metadata": {},
     "output_type": "execute_result"
    }
   ],
   "source": [
    "f()"
   ]
  },
  {
   "cell_type": "code",
   "execution_count": 30,
   "metadata": {
    "collapsed": false
   },
   "outputs": [
    {
     "data": {
      "text/plain": [
       "5-element Array{Real,1}:\n",
       " 0.465331\n",
       " 0       \n",
       " 0.774471\n",
       " 0.235457\n",
       " 0.13891 "
      ]
     },
     "execution_count": 30,
     "metadata": {},
     "output_type": "execute_result"
    }
   ],
   "source": [
    "a = rand(5)\n",
    "\n",
    "map(x -> begin\n",
    "  if (x < 0.3)\n",
    "    return(0)\n",
    "  else\n",
    "    return(x*x)\n",
    "  end\n",
    "end, a)"
   ]
  },
  {
   "cell_type": "code",
   "execution_count": 31,
   "metadata": {
    "collapsed": false
   },
   "outputs": [
    {
     "data": {
      "text/plain": [
       "5-element Array{Real,1}:\n",
       " 0.465331\n",
       " 0       \n",
       " 0.774471\n",
       " 0.235457\n",
       " 0.13891 "
      ]
     },
     "execution_count": 31,
     "metadata": {},
     "output_type": "execute_result"
    }
   ],
   "source": [
    "map(a) do x\n",
    "       if (x < 0.3)\n",
    "         return(0)\n",
    "       else\n",
    "         return(x*x)\n",
    "       end\n",
    "end"
   ]
  },
  {
   "cell_type": "code",
   "execution_count": 32,
   "metadata": {
    "collapsed": false
   },
   "outputs": [
    {
     "data": {
      "text/plain": [
       "allodds (generic function with 1 method)"
      ]
     },
     "execution_count": 32,
     "metadata": {},
     "output_type": "execute_result"
    }
   ],
   "source": [
    "using Match\n",
    "\n",
    "function allodds(x) \n",
    "  y = !iseven(x) || iseven(x)    \n",
    "  @match x begin   \n",
    "    y && (x < 3) => \"Недопустимый вариант\"\n",
    "    3 || 5 || 7  => \"$x есть простое число\"\n",
    "    _            => \"По индукции все нечетные числа простые\"\n",
    "  end\n",
    "end    "
   ]
  },
  {
   "cell_type": "code",
   "execution_count": 33,
   "metadata": {
    "collapsed": false
   },
   "outputs": [
    {
     "name": "stdout",
     "output_type": "stream",
     "text": [
      "1 : Недопустимый вариант\n",
      "3 : 3 есть простое число\n",
      "5 : 5 есть простое число\n",
      "7 : 7 есть простое число\n",
      "9 : По индукции все нечетные числа простые\n"
     ]
    }
   ],
   "source": [
    "for i = [1:2:9;]\n",
    "  @printf \"%d : %s\\n\" i allodds(i)\n",
    "end"
   ]
  },
  {
   "cell_type": "markdown",
   "metadata": {
    "collapsed": true
   },
   "source": [
    "\n",
    "## Задача о восьми ферзях\n"
   ]
  },
  {
   "cell_type": "code",
   "execution_count": 1,
   "metadata": {
    "collapsed": false
   },
   "outputs": [
    {
     "data": {
      "text/plain": [
       "qsolve (generic function with 3 methods)"
      ]
     },
     "execution_count": 1,
     "metadata": {},
     "output_type": "execute_result"
    }
   ],
   "source": [
    "qadd(board::Array{Vector{Int}},qrow::Vector{Int}) = \n",
    "    push!(copy(board), qrow)\n",
    "\n",
    "qhits(a::Array{Int}, b::Array{Int}) = \n",
    "    any(a .== b) || abs(a-b)[1] == abs(a-b)[2]\n",
    "\n",
    "qhit(qrow::Vector{Int}, board::Array{Vector{Int}}) = \n",
    "    any(x->qhits(qrow, x), board)\n",
    "\n",
    "function qsolve(m, n=m, board=Array(Vector{Int}, 0))\n",
    "  if n == 0\n",
    "    return board\n",
    "  end\n",
    "    \n",
    "  for px = 1:m\n",
    "    for py = 1:m\n",
    "      if !qhit([px, py], board)\n",
    "        s = qsolve(m, n-1, qadd(board, [px, py]))\n",
    "        s != nothing && return s\n",
    "      end\n",
    "    end\n",
    "  end\n",
    "    \n",
    "  return nothing\n",
    "    \n",
    "end"
   ]
  },
  {
   "cell_type": "code",
   "execution_count": 2,
   "metadata": {
    "collapsed": false
   },
   "outputs": [
    {
     "data": {
      "text/plain": [
       "8-element Array{Array{Int64,1},1}:\n",
       " [1,1]\n",
       " [2,5]\n",
       " [3,8]\n",
       " [4,6]\n",
       " [5,3]\n",
       " [6,7]\n",
       " [7,2]\n",
       " [8,4]"
      ]
     },
     "execution_count": 2,
     "metadata": {},
     "output_type": "execute_result"
    }
   ],
   "source": [
    "# задача решается прим. за 50 сек.\n",
    "\n",
    "qsolve(8) "
   ]
  },
  {
   "cell_type": "code",
   "execution_count": null,
   "metadata": {
    "collapsed": true
   },
   "outputs": [],
   "source": []
  }
 ],
 "metadata": {
  "kernelspec": {
   "display_name": "Julia 0.4.5",
   "language": "julia",
   "name": "julia-0.4"
  },
  "language_info": {
   "file_extension": ".jl",
   "mimetype": "application/julia",
   "name": "julia",
   "version": "0.4.5"
  }
 },
 "nbformat": 4,
 "nbformat_minor": 0
}
