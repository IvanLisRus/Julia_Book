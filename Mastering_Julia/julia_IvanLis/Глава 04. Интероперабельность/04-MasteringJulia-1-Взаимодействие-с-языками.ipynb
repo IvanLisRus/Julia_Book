{
 "cells": [
  {
   "cell_type": "markdown",
   "metadata": {},
   "source": [
    "<script src=\"https://use.fontawesome.com/2e576da815.js\"></script>"
   ]
  },
  {
   "cell_type": "markdown",
   "metadata": {},
   "source": [
    "<div style=\"text-align: left;\"><img src=\"https://www.juliabox.org/assets/img/juliacloudlogo.png\" style=\"margin: 0px 0px 0px 0px; padding-right: 20px;width: 80px; float: left;\" title=\"\" alt=\"\" /></div>\n",
    "<img src=\"http://dmkpress.com/images/cms/thumbs/a5b0aeaa3fa7d6e58d75710c18673bd7ec6d5f6d/978-5-97060-370-3_270_369__100.jpg\" style=\"margin: 0px 0px 5px 20px; width: 100px; float: right;\" title=\"\" alt=\"\" />\n",
    "Всестороннее введение в новый язык программирования для научно-технических вычислений [Julia](http://julialang.org/) в книге Малколма Шеррингтона, Packt Publishing, июль 2015.\n",
    "\n",
    "<h1>Осваиваем язык Julia</h1><br />\n",
    "\n",
    "Совершенствование мастерства в области аналитики и программирования при помощи Julia в целях решения задач комплексной обработки данных\n",
    "<div style=\"text-align: left;font-size:8pt;padding-top:10px;\">Программный код Julia (v0.4.5) протестирован в Windows 8.1/10 и Linux/Lubuntu 16.4</div>\n",
    "<div style=\"text-align: left;\"><h1>Глава 4. Функциональная совместимость</h1></div>"
   ]
  },
  {
   "cell_type": "markdown",
   "metadata": {},
   "source": [
    "# 1. Взаимодействие с другими программными средами "
   ]
  },
  {
   "cell_type": "markdown",
   "metadata": {},
   "source": [
    "## Обращение к функциям на C и Fortran"
   ]
  },
  {
   "cell_type": "markdown",
   "metadata": {},
   "source": [
    "<pre>\n",
    "Образец вызова\n",
    "\n",
    "ccall((символ, библиотека), ТипВозвращаемогоЗначения, (ТипАрг1, ...), Арг1, ...)\n",
    "</pre>"
   ]
  },
  {
   "cell_type": "markdown",
   "metadata": {},
   "source": [
    "<i class=\"fa fa-linux\" aria-hidden=\"true\"></i>\n",
    "<i class=\"fa fa-apple\" aria-hidden=\"true\"></i>"
   ]
  },
  {
   "cell_type": "code",
   "execution_count": null,
   "metadata": {
    "collapsed": true
   },
   "outputs": [],
   "source": [
    "x = ccall( (:rand, \"libc\"), Int32, ())"
   ]
  },
  {
   "cell_type": "code",
   "execution_count": null,
   "metadata": {
    "collapsed": true
   },
   "outputs": [],
   "source": [
    "x = ccall( (:rand, \"libc\"), Int32, ())"
   ]
  },
  {
   "cell_type": "markdown",
   "metadata": {},
   "source": [
    "<i class=\"fa fa-windows\" aria-hidden=\"true\"></i>"
   ]
  },
  {
   "cell_type": "code",
   "execution_count": 2,
   "metadata": {
    "collapsed": false
   },
   "outputs": [
    {
     "data": {
      "text/plain": [
       "lcg_rand (generic function with 1 method)"
      ]
     },
     "execution_count": 2,
     "metadata": {},
     "output_type": "execute_result"
    }
   ],
   "source": [
    "function lcg_rand()\n",
    "  seed = ccall( (:GetTickCount, \"kernel32\"), stdcall, Int32, () );\n",
    "  ((seed * 214013 + 2531011) >> 16) & 0x7fff\n",
    "end"
   ]
  },
  {
   "cell_type": "code",
   "execution_count": 3,
   "metadata": {
    "collapsed": false
   },
   "outputs": [
    {
     "data": {
      "text/plain": [
       "6694"
      ]
     },
     "execution_count": 3,
     "metadata": {},
     "output_type": "execute_result"
    }
   ],
   "source": [
    "lcg_rand() "
   ]
  },
  {
   "cell_type": "code",
   "execution_count": 4,
   "metadata": {
    "collapsed": false
   },
   "outputs": [
    {
     "data": {
      "text/plain": [
       "9144"
      ]
     },
     "execution_count": 4,
     "metadata": {},
     "output_type": "execute_result"
    }
   ],
   "source": [
    "lcg_rand()  "
   ]
  },
  {
   "cell_type": "markdown",
   "metadata": {},
   "source": [
    "<i class=\"fa fa-linux\" aria-hidden=\"true\"></i>\n",
    "<i class=\"fa fa-apple\" aria-hidden=\"true\"></i>"
   ]
  },
  {
   "cell_type": "code",
   "execution_count": null,
   "metadata": {
    "collapsed": true
   },
   "outputs": [],
   "source": [
    "home = ccall( (:getenv, \"libc\"), Ptr{UInt8},(Ptr{UInt8},), \"HOME\")\n",
    "\n",
    "jmods = string(bytestring(home),\"/julia_projects\");\n",
    "push!(LOAD_PATH, jmods);\n",
    "\n",
    "LOAD_PATH"
   ]
  },
  {
   "cell_type": "markdown",
   "metadata": {},
   "source": [
    "<i class=\"fa fa-windows\" aria-hidden=\"true\"></i>\n",
    "<i class=\"fa fa-linux\" aria-hidden=\"true\"></i>\n",
    "<i class=\"fa fa-apple\" aria-hidden=\"true\"></i>"
   ]
  },
  {
   "cell_type": "code",
   "execution_count": 8,
   "metadata": {
    "collapsed": false
   },
   "outputs": [
    {
     "data": {
      "text/plain": [
       "3-element Array{AbstractString,1}:\n",
       " \"C:\\\\Julia-0.4.5\\\\local\\\\share\\\\julia\\\\site\\\\v0.4\"\n",
       " \"C:\\\\Julia-0.4.5\\\\share\\\\julia\\\\site\\\\v0.4\"       \n",
       " \"C:\\\\Users\\\\labor\\\\julia_projects\"                "
      ]
     },
     "execution_count": 8,
     "metadata": {},
     "output_type": "execute_result"
    }
   ],
   "source": [
    "jl_projs = joinpath(homedir(),\"julia_projects\");\n",
    "push!(LOAD_PATH, jl_projs)"
   ]
  },
  {
   "cell_type": "code",
   "execution_count": 6,
   "metadata": {
    "collapsed": false
   },
   "outputs": [
    {
     "data": {
      "text/plain": [
       "1-element Array{AbstractString,1}:\n",
       " \"C:\\\\Julia-0.4.5\\\\local\\\\share\\\\julia\\\\site\\\\v0.4\""
      ]
     },
     "execution_count": 6,
     "metadata": {},
     "output_type": "execute_result"
    }
   ],
   "source": [
    "# удалить последний элемент\n",
    "pop!(LOAD_PATH);\n",
    "\n",
    "LOAD_PATH"
   ]
  },
  {
   "cell_type": "code",
   "execution_count": 7,
   "metadata": {
    "collapsed": false
   },
   "outputs": [
    {
     "data": {
      "text/plain": [
       "2-element Array{AbstractString,1}:\n",
       " \"C:\\\\Julia-0.4.5\\\\local\\\\share\\\\julia\\\\site\\\\v0.4\"\n",
       " \"C:\\\\Julia-0.4.5\\\\share\\\\julia\\\\site\\\\v0.4\"       "
      ]
     },
     "execution_count": 7,
     "metadata": {},
     "output_type": "execute_result"
    }
   ],
   "source": [
    "# инициализировать стандартными значениями\n",
    "LOAD_PATH = AbstractString[]\n",
    "push!(LOAD_PATH, \"C:\\\\Julia-0.4.5\\\\local\\\\share\\\\julia\\\\site\\\\v0.4\");\n",
    "push!(LOAD_PATH,  \"C:\\\\Julia-0.4.5\\\\share\\\\julia\\\\site\\\\v0.4\");\n",
    "\n",
    "LOAD_PATH   "
   ]
  },
  {
   "cell_type": "markdown",
   "metadata": {},
   "source": [
    "### Отображение на C-типы"
   ]
  },
  {
   "cell_type": "markdown",
   "metadata": {},
   "source": [
    "<i class=\"fa fa-linux\" aria-hidden=\"true\"></i>\n",
    "<i class=\"fa fa-apple\" aria-hidden=\"true\"></i>"
   ]
  },
  {
   "cell_type": "markdown",
   "metadata": {},
   "source": [
    "<pre>ccall((:pow,\"libmymath.so\"),Float64,(Float64,Int32),x,n)</pre>"
   ]
  },
  {
   "cell_type": "code",
   "execution_count": 12,
   "metadata": {
    "collapsed": false
   },
   "outputs": [
    {
     "data": {
      "text/plain": [
       "pow (generic function with 1 method)"
      ]
     },
     "execution_count": 12,
     "metadata": {},
     "output_type": "execute_result"
    }
   ],
   "source": [
    "pow(x,n) = ccall((:pow,\"libmymath.so\"),Float64,(Float64,Int32), (convert(Float64,x),convert(Int32,n)))"
   ]
  },
  {
   "cell_type": "code",
   "execution_count": null,
   "metadata": {
    "collapsed": true
   },
   "outputs": [],
   "source": [
    "pow(3,3)"
   ]
  },
  {
   "cell_type": "markdown",
   "metadata": {},
   "source": [
    "#### Соотнесения типов"
   ]
  },
  {
   "cell_type": "markdown",
   "metadata": {},
   "source": [
    "<pre>\n",
    "(unsigned) char   # => typealias cuchar UInt8\n",
    "(signed)   short  # => typealias cshort Int16 \n",
    "\n",
    "char*              => Ptr(UInt8)\n",
    "char** или *char[] => Ptr{Ptr{UInt8}}\n",
    "</pre>"
   ]
  },
  {
   "cell_type": "markdown",
   "metadata": {},
   "source": [
    "### Вызов подпрограммы на Fortran"
   ]
  },
  {
   "cell_type": "markdown",
   "metadata": {},
   "source": [
    "<i class=\"fa fa-linux\" aria-hidden=\"true\"></i>\n",
    "<i class=\"fa fa-apple\" aria-hidden=\"true\"></i>"
   ]
  },
  {
   "cell_type": "code",
   "execution_count": null,
   "metadata": {
    "collapsed": true
   },
   "outputs": [],
   "source": [
    "#\n",
    "# compute_dot.jl\n",
    "#\n",
    "# Вызов программы на Fortran\n",
    "# для Unix-подобных ОС\n",
    "\n",
    "function compute_dot(DX::Vector{Float64},DY::Vector{Float64})\n",
    "  assert(length(DX) == length(DY))\n",
    "  n = length(DX)\n",
    "  incx = incy = 1\n",
    "    product = ccall((:ddot_, \"/usr/lib/lapack/liblapack.so.3.6.0\"),\n",
    "    Float64,\n",
    "    (Ptr{Int32}, Ptr{Float64}, Ptr{Int32}, Ptr{Float64}, Ptr{Int32}),\n",
    "    &n, DX, &incx, DY, &incy)\n",
    "  return product\n",
    "end"
   ]
  },
  {
   "cell_type": "markdown",
   "metadata": {},
   "source": [
    "### Вызов утилиты curl для получения веб-страницы"
   ]
  },
  {
   "cell_type": "markdown",
   "metadata": {},
   "source": [
    "<pre>\n",
    "# https://curl.haxx.se/libcurl/c/curl_easy_perform.html\n",
    "\n",
    "# образец вызова на C\n",
    "\n",
    "CURL *curl = curl_easy_init();\n",
    "if(curl) {\n",
    "  CURLcode res;\n",
    "  curl_easy_setopt(curl, CURLOPT_URL, \"http://example.com\");\n",
    "  res = curl_easy_perform(curl);\n",
    "  curl_easy_cleanup(curl);\n",
    "}\n",
    "</pre>"
   ]
  },
  {
   "cell_type": "code",
   "execution_count": null,
   "metadata": {
    "collapsed": true
   },
   "outputs": [],
   "source": [
    "#\n",
    "# call_curl.jl\n",
    "#\n",
    "# В ячейке результатов появится HTML-код страницы julialang.com\n",
    "\n",
    "const CURLOPT_URL = 10002\n",
    "const CURLOPT_FOLLOWLOCATION = 52;\n",
    "const CURLE_OK = 0\n",
    "\n",
    "jlo = \"http://julialang.org\";\n",
    "\n",
    "curl = ccall( (:curl_easy_init, \"libcurl\"), Ptr{UInt8}, ())\n",
    "\n",
    "ccall((:curl_easy_setopt, \"libcurl\"), Ptr{UInt8}, (Ptr{UInt8}, Int, Ptr{UInt8}), curl, CURLOPT_URL, jlo.data)\n",
    "ccall((:curl_easy_perform,\"libcurl\"), Ptr{UInt8}, (Ptr{UInt8},), curl);\n",
    "ccall((:curl_easy_cleanup,\"libcurl\"), Ptr{UInt8}, (Ptr{UInt8},), curl);"
   ]
  },
  {
   "cell_type": "markdown",
   "metadata": {
    "collapsed": true
   },
   "source": [
    "## Язык Python"
   ]
  },
  {
   "cell_type": "code",
   "execution_count": 35,
   "metadata": {
    "collapsed": true
   },
   "outputs": [],
   "source": [
    "using PyCall\n",
    "\n",
    "@pyimport scipy.optimize as so\n",
    "@pyimport scipy.integrate as si"
   ]
  },
  {
   "cell_type": "code",
   "execution_count": 2,
   "metadata": {
    "collapsed": false
   },
   "outputs": [
    {
     "data": {
      "text/plain": [
       "1.5707963267953966"
      ]
     },
     "execution_count": 2,
     "metadata": {},
     "output_type": "execute_result"
    }
   ],
   "source": [
    "so.ridder(x -> x*cos(x), 1, pi) "
   ]
  },
  {
   "cell_type": "code",
   "execution_count": 3,
   "metadata": {
    "collapsed": false
   },
   "outputs": [
    {
     "data": {
      "text/plain": [
       "2.840423974650036"
      ]
     },
     "execution_count": 3,
     "metadata": {},
     "output_type": "execute_result"
    }
   ],
   "source": [
    "si.quad(x -> x*sin(x), 1, pi)[1] "
   ]
  },
  {
   "cell_type": "code",
   "execution_count": 36,
   "metadata": {
    "collapsed": false
   },
   "outputs": [
    {
     "data": {
      "text/plain": [
       "1-element Array{Any,1}:\n",
       " PyObject <matplotlib.lines.Line2D object at 0x00000000011E4198>"
      ]
     },
     "execution_count": 36,
     "metadata": {},
     "output_type": "execute_result"
    }
   ],
   "source": [
    "@pyimport matplotlib.pyplot as plt\n",
    "\n",
    "x = linspace(0,2*pi,1000); y = sin(3*x + 4*cos(2*x));\n",
    "plt.plot(x, y, color=\"red\", linewidth=2.0, linestyle=\"--\")"
   ]
  },
  {
   "cell_type": "code",
   "execution_count": 37,
   "metadata": {
    "collapsed": true
   },
   "outputs": [],
   "source": [
    "# график будет выведен в \"родном\" окне библиотеки matplotlib\n",
    "plt.show()"
   ]
  },
  {
   "cell_type": "markdown",
   "metadata": {},
   "source": [
    "### Обращение к API из C"
   ]
  },
  {
   "cell_type": "markdown",
   "metadata": {},
   "source": [
    "<pre>\n",
    "#include <julia.h>\n",
    "#define LIBEXEC \"/home/malcolm/julia/usr/lib\"\n",
    "int main() {\n",
    "  jl_init(LIBEXEC);\n",
    "  JL_SET_STACK_BASE;\n",
    "  jl_eval_string(\"println(pi)\");\n",
    "  return 0;\n",
    "}\n",
    "</pre>"
   ]
  },
  {
   "cell_type": "markdown",
   "metadata": {},
   "source": [
    "<pre>\n",
    "export JH=/home/malcolm/julia\n",
    "export LD_LIBRARY_PATH=$JH/usr/lib\n",
    "gcc -o pi -I$JH/src -I$JH/src/support\n",
    "              -I$JH/usr/include -L$JH/usr/lib -ljulia pi.c\n",
    "\n",
    "./pi ; # => π = 3.1425926535897 ...\n",
    "</pre>"
   ]
  },
  {
   "cell_type": "markdown",
   "metadata": {},
   "source": [
    "<pre>\n",
    "#include <stdio.h>\n",
    "#include <math.h>\n",
    "#include <julia.h>\n",
    "#define LIBEXEC \"/home/malcolm/julia/usr/lib\"\n",
    "int main() {\n",
    "  jl_init(LIBEXEC);\n",
    "  JL_SET_STACK_BASE;\n",
    "  jl_function_t *powf = jl_get_function(jl_base_module, \"^\");\n",
    "  jl_value_t *arg1 = jl_box_float64(M_PI);\n",
    "  jl_value_t *arg2 = jl_box_float64(2.0);\n",
    "  jl_value_t *rtv = jl_call2(powf,arg1,arg2);\n",
    "  JL_GC_PUSH1(&rtv);\n",
    "  if (jl_is_float64(rtv)) {\n",
    "    double e_pi = jl_unbox_float64(rtv);\n",
    "    printf(\"pi (в квадрате) = %f\\n\", e_pi);\n",
    "  }\n",
    "  else {\n",
    "    printf(\"Ой, что-то пошло не так!\\n\");\n",
    "  }\n",
    "  JL_GC_POP();\n",
    "  return 0;\n",
    "}\n",
    "</pre>"
   ]
  }
 ],
 "metadata": {
  "kernelspec": {
   "display_name": "Julia 0.4.5",
   "language": "julia",
   "name": "julia-0.4"
  },
  "language_info": {
   "file_extension": ".jl",
   "mimetype": "application/julia",
   "name": "julia",
   "version": "0.4.5"
  }
 },
 "nbformat": 4,
 "nbformat_minor": 0
}
