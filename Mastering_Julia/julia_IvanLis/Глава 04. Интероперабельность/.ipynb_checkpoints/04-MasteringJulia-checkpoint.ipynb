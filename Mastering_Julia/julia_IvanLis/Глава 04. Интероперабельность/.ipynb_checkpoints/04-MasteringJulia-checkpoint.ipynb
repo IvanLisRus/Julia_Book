{
 "cells": [
  {
   "cell_type": "markdown",
   "metadata": {},
   "source": [
    "<div style=\"text-align: left;\"><img src=\"https://www.juliabox.org/assets/img/juliacloudlogo.png\" style=\"margin: 0px 0px 0px 0px; width: 240px; float: left;\" title=\"\" alt=\"\" /></div>\n",
    "<img src=\"https://dz13w8afd47il.cloudfront.net/sites/default/files/imagecache/ppv4_reader_book_cover/B03587_MockupCover_Normal.jpg\"  style=\"margin: 0px 0px 5px 20px; width: 100px; float: right;\" title=\"\" alt=\"\" />\n",
    "Всестороннее введение в новый язык программирования для научно-технических вычислений [Julia](http://julialang.org/) в книге Малколма Шеррингтона, Packt Publishing, июль 2015.\n",
    "\n",
    "<h1>Освоение языка Julia</h1><br />\n",
    "\n",
    "Совершенствование мастерства в области аналитики и программирования при помощи Julia в целях решения задач комплексной обработки данных \n",
    "<div style=\"text-align: left;\">Программный код Julia (v0.4.5) протестирован в Windows 8.1/10 и Linux/Lubuntu 16.4</div>\n",
    "<div style=\"text-align: left;\"><br /><h1>Глава 4. Функциональная совместимость</h1></div>"
   ]
  },
  {
   "cell_type": "markdown",
   "metadata": {},
   "source": [
    "# Взаимодействие с другими программными средами "
   ]
  },
  {
   "cell_type": "markdown",
   "metadata": {},
   "source": [
    "## Обращение к функциям на C и Fortran"
   ]
  },
  {
   "cell_type": "markdown",
   "metadata": {},
   "source": [
    "<pre>\n",
    "Образец вызова\n",
    "\n",
    "ccall((символ, библиотека), ТипВозвращаемогоЗначения, (ТипАрг1, ...), Арг1, ...)\n",
    "</pre>"
   ]
  },
  {
   "cell_type": "markdown",
   "metadata": {},
   "source": [
    "##### Unix (Linux / OS X)"
   ]
  },
  {
   "cell_type": "code",
   "execution_count": null,
   "metadata": {
    "collapsed": true
   },
   "outputs": [],
   "source": [
    "x = ccall( (:rand, \"libc\"), Int32, ())"
   ]
  },
  {
   "cell_type": "code",
   "execution_count": null,
   "metadata": {
    "collapsed": true
   },
   "outputs": [],
   "source": [
    "x = ccall( (:rand, \"libc\"), Int32, ())"
   ]
  },
  {
   "cell_type": "markdown",
   "metadata": {},
   "source": [
    "##### Windows"
   ]
  },
  {
   "cell_type": "code",
   "execution_count": 2,
   "metadata": {
    "collapsed": false
   },
   "outputs": [
    {
     "data": {
      "text/plain": [
       "lcg_rand (generic function with 1 method)"
      ]
     },
     "execution_count": 2,
     "metadata": {},
     "output_type": "execute_result"
    }
   ],
   "source": [
    "function lcg_rand()\n",
    "  seed = ccall( (:GetTickCount, \"kernel32\"), stdcall, Int32, () );\n",
    "  ((seed * 214013 + 2531011) >> 16) & 0x7fff\n",
    "end"
   ]
  },
  {
   "cell_type": "code",
   "execution_count": 3,
   "metadata": {
    "collapsed": false
   },
   "outputs": [
    {
     "data": {
      "text/plain": [
       "6694"
      ]
     },
     "execution_count": 3,
     "metadata": {},
     "output_type": "execute_result"
    }
   ],
   "source": [
    "lcg_rand() "
   ]
  },
  {
   "cell_type": "code",
   "execution_count": 4,
   "metadata": {
    "collapsed": false
   },
   "outputs": [
    {
     "data": {
      "text/plain": [
       "9144"
      ]
     },
     "execution_count": 4,
     "metadata": {},
     "output_type": "execute_result"
    }
   ],
   "source": [
    "lcg_rand()  "
   ]
  },
  {
   "cell_type": "markdown",
   "metadata": {},
   "source": [
    "##### Unix"
   ]
  },
  {
   "cell_type": "code",
   "execution_count": null,
   "metadata": {
    "collapsed": true
   },
   "outputs": [],
   "source": [
    "home = ccall( (:getenv, \"libc\"), Ptr{UInt8},(Ptr{UInt8},), \"HOME\")\n",
    "\n",
    "jmods = string(bytestring(home),\"/projects/mastering_julia\");\n",
    "push!(LOAD_PATH, jmods);\n",
    "\n",
    "LOAD_PATH"
   ]
  },
  {
   "cell_type": "markdown",
   "metadata": {},
   "source": [
    "##### Unix/Windows"
   ]
  },
  {
   "cell_type": "code",
   "execution_count": 8,
   "metadata": {
    "collapsed": false
   },
   "outputs": [
    {
     "data": {
      "text/plain": [
       "3-element Array{AbstractString,1}:\n",
       " \"C:\\\\Julia-0.4.5\\\\local\\\\share\\\\julia\\\\site\\\\v0.4\"\n",
       " \"C:\\\\Julia-0.4.5\\\\share\\\\julia\\\\site\\\\v0.4\"       \n",
       " \"C:\\\\Users\\\\labor\\\\projects\\\\mastering_julia\"     "
      ]
     },
     "execution_count": 8,
     "metadata": {},
     "output_type": "execute_result"
    }
   ],
   "source": [
    "jl_projs = joinpath(homedir(),\"projects\",\"mastering_julia\");\n",
    "push!(LOAD_PATH, jl_projs)"
   ]
  },
  {
   "cell_type": "code",
   "execution_count": 6,
   "metadata": {
    "collapsed": false
   },
   "outputs": [
    {
     "data": {
      "text/plain": [
       "3-element Array{AbstractString,1}:\n",
       " \"C:\\\\Julia-0.4.5\\\\local\\\\share\\\\julia\\\\site\\\\v0.4\"\n",
       " \"C:\\\\Julia-0.4.5\\\\share\\\\julia\\\\site\\\\v0.4\"       \n",
       " \"C:\\\\Users\\\\labor\\\\projects\\\\mastering_julia\"     "
      ]
     },
     "execution_count": 6,
     "metadata": {},
     "output_type": "execute_result"
    }
   ],
   "source": [
    "# удалить последний элемент\n",
    "# pop!(LOAD_PATH);\n",
    "\n",
    "LOAD_PATH"
   ]
  },
  {
   "cell_type": "code",
   "execution_count": 7,
   "metadata": {
    "collapsed": false
   },
   "outputs": [
    {
     "data": {
      "text/plain": [
       "2-element Array{AbstractString,1}:\n",
       " \"C:\\\\Julia-0.4.5\\\\local\\\\share\\\\julia\\\\site\\\\v0.4\"\n",
       " \"C:\\\\Julia-0.4.5\\\\share\\\\julia\\\\site\\\\v0.4\"       "
      ]
     },
     "execution_count": 7,
     "metadata": {},
     "output_type": "execute_result"
    }
   ],
   "source": [
    "# инициализировать стандартными значениями\n",
    "LOAD_PATH = AbstractString[]\n",
    "push!(LOAD_PATH, \"C:\\\\Julia-0.4.5\\\\local\\\\share\\\\julia\\\\site\\\\v0.4\");\n",
    "push!(LOAD_PATH,  \"C:\\\\Julia-0.4.5\\\\share\\\\julia\\\\site\\\\v0.4\");\n",
    "\n",
    "LOAD_PATH   "
   ]
  },
  {
   "cell_type": "markdown",
   "metadata": {},
   "source": [
    "### Отображение на C-типы"
   ]
  },
  {
   "cell_type": "markdown",
   "metadata": {},
   "source": [
    "##### Unix"
   ]
  },
  {
   "cell_type": "markdown",
   "metadata": {},
   "source": [
    "<pre>ccall((:pow,\"libmymath.so\"),Float64,(Float64,Int32),x,n)</pre>"
   ]
  },
  {
   "cell_type": "code",
   "execution_count": 12,
   "metadata": {
    "collapsed": false
   },
   "outputs": [
    {
     "data": {
      "text/plain": [
       "pow (generic function with 1 method)"
      ]
     },
     "execution_count": 12,
     "metadata": {},
     "output_type": "execute_result"
    }
   ],
   "source": [
    "pow(x,n) = ccall((:pow,\"libmymath.so\"),Float64,(Float64,Int32), (convert(Float64,x),convert(Int32,n)))"
   ]
  },
  {
   "cell_type": "code",
   "execution_count": null,
   "metadata": {
    "collapsed": true
   },
   "outputs": [],
   "source": [
    "pow(3,3)"
   ]
  },
  {
   "cell_type": "markdown",
   "metadata": {},
   "source": [
    "#### Соотнесения типов"
   ]
  },
  {
   "cell_type": "markdown",
   "metadata": {},
   "source": [
    "<pre>\n",
    "(unsigned) char   # => typealias cuchar UInt8\n",
    "(signed)   short  # => typealias cshort Int16 \n",
    "\n",
    "char*              => Ptr(UInt8)\n",
    "char** или *char[] => Ptr{Ptr{UInt8}}\n",
    "</pre>"
   ]
  },
  {
   "cell_type": "markdown",
   "metadata": {},
   "source": [
    "### Вызов подпрограммы на Fortran\n",
    "##### Unix"
   ]
  },
  {
   "cell_type": "code",
   "execution_count": null,
   "metadata": {
    "collapsed": true
   },
   "outputs": [],
   "source": [
    "# для Unix-подобных ОС (Linux/OS X):\n",
    "\n",
    "function compute_dot(DX::Vector{Float64},DY::Vector{Float64})\n",
    "  assert(length(DX) == length(DY))\n",
    "  n = length(DX)\n",
    "  incx = incy = 1\n",
    "    product = ccall((:ddot_, \"/usr/lib/lapack/liblapack.so.3.6.0\"),\n",
    "    Float64,\n",
    "    (Ptr{Int32}, Ptr{Float64}, Ptr{Int32}, Ptr{Float64}, Ptr{Int32}),\n",
    "    &n, DX, &incx, DY, &incy)\n",
    "  return product\n",
    "end"
   ]
  },
  {
   "cell_type": "markdown",
   "metadata": {},
   "source": [
    "### Вызов утилиты curl для получения веб-страницы"
   ]
  },
  {
   "cell_type": "markdown",
   "metadata": {},
   "source": [
    "<pre>\n",
    "# https://curl.haxx.se/libcurl/c/curl_easy_perform.html\n",
    "\n",
    "# образец вызова на C\n",
    "\n",
    "CURL *curl = curl_easy_init();\n",
    "if(curl) {\n",
    "  CURLcode res;\n",
    "  curl_easy_setopt(curl, CURLOPT_URL, \"http://example.com\");\n",
    "  res = curl_easy_perform(curl);\n",
    "  curl_easy_cleanup(curl);\n",
    "}\n",
    "</pre>"
   ]
  },
  {
   "cell_type": "code",
   "execution_count": null,
   "metadata": {
    "collapsed": true
   },
   "outputs": [],
   "source": [
    "# это работает и в записной книжке: \n",
    "# внизу ячейки появится результат в виде целой страницы julialang.com\n",
    "\n",
    "const CURLOPT_URL = 10002\n",
    "const CURLOPT_FOLLOWLOCATION = 52;\n",
    "#const CURLE_OK = 0\n",
    "\n",
    "jlo = \"http://julialang.org\";\n",
    "\n",
    "curl = ccall( (:curl_easy_init, \"libcurl\"), Ptr{UInt8}, ())\n",
    "\n",
    "ccall((:curl_easy_setopt, \"libcurl\"), Ptr{UInt8}, (Ptr{UInt8}, Int, Ptr{UInt8}), curl, CURLOPT_URL, jlo.data)\n",
    "ccall((:curl_easy_perform,\"libcurl\"), Ptr{UInt8}, (Ptr{UInt8},), curl);\n",
    "ccall((:curl_easy_cleanup,\"libcurl\"), Ptr{UInt8}, (Ptr{UInt8},), curl);"
   ]
  },
  {
   "cell_type": "markdown",
   "metadata": {
    "collapsed": true
   },
   "source": [
    "## Язык Python"
   ]
  },
  {
   "cell_type": "code",
   "execution_count": 35,
   "metadata": {
    "collapsed": true
   },
   "outputs": [],
   "source": [
    "using PyCall\n",
    "\n",
    "@pyimport scipy.optimize as so\n",
    "@pyimport scipy.integrate as si"
   ]
  },
  {
   "cell_type": "code",
   "execution_count": 2,
   "metadata": {
    "collapsed": false
   },
   "outputs": [
    {
     "data": {
      "text/plain": [
       "1.5707963267953966"
      ]
     },
     "execution_count": 2,
     "metadata": {},
     "output_type": "execute_result"
    }
   ],
   "source": [
    "so.ridder(x -> x*cos(x), 1, pi) "
   ]
  },
  {
   "cell_type": "code",
   "execution_count": 3,
   "metadata": {
    "collapsed": false
   },
   "outputs": [
    {
     "data": {
      "text/plain": [
       "2.840423974650036"
      ]
     },
     "execution_count": 3,
     "metadata": {},
     "output_type": "execute_result"
    }
   ],
   "source": [
    "si.quad(x -> x*sin(x), 1, pi)[1] "
   ]
  },
  {
   "cell_type": "code",
   "execution_count": 36,
   "metadata": {
    "collapsed": false
   },
   "outputs": [
    {
     "data": {
      "text/plain": [
       "1-element Array{Any,1}:\n",
       " PyObject <matplotlib.lines.Line2D object at 0x00000000011E4198>"
      ]
     },
     "execution_count": 36,
     "metadata": {},
     "output_type": "execute_result"
    }
   ],
   "source": [
    "@pyimport matplotlib.pyplot as plt\n",
    "\n",
    "x = linspace(0,2*pi,1000); y = sin(3*x + 4*cos(2*x));\n",
    "plt.plot(x, y, color=\"red\", linewidth=2.0, linestyle=\"--\")"
   ]
  },
  {
   "cell_type": "code",
   "execution_count": 37,
   "metadata": {
    "collapsed": true
   },
   "outputs": [],
   "source": [
    "# график будет выведен в \"родном\" окне библиотеки matplotlib\n",
    "plt.show()"
   ]
  },
  {
   "cell_type": "markdown",
   "metadata": {},
   "source": [
    "### Обращение к API из C"
   ]
  },
  {
   "cell_type": "markdown",
   "metadata": {},
   "source": [
    "<pre>\n",
    "#include <julia.h>\n",
    "#define LIBEXEC \"/home/malcolm/julia/usr/lib\"\n",
    "int main() {\n",
    "  jl_init(LIBEXEC);\n",
    "  JL_SET_STACK_BASE;\n",
    "  jl_eval_string(\"println(pi)\");\n",
    "  return 0;\n",
    "}\n",
    "</pre>"
   ]
  },
  {
   "cell_type": "markdown",
   "metadata": {},
   "source": [
    "<pre>\n",
    "export JH=/home/malcolm/julia\n",
    "export LD_LIBRARY_PATH=$JH/usr/lib\n",
    "gcc -o pi -I$JH/src -I$JH/src/support\n",
    "              -I$JH/usr/include -L$JH/usr/lib -ljulia pi.c\n",
    "\n",
    "./pi ; # => π = 3.1425926535897 ...\n",
    "</pre>"
   ]
  },
  {
   "cell_type": "markdown",
   "metadata": {},
   "source": [
    "<pre>\n",
    "#include <stdio.h>\n",
    "#include <math.h>\n",
    "#include <julia.h>\n",
    "#define LIBEXEC \"/home/malcolm/julia/usr/lib\"\n",
    "int main() {\n",
    "  jl_init(LIBEXEC);\n",
    "  JL_SET_STACK_BASE;\n",
    "  jl_function_t *powf = jl_get_function(jl_base_module, \"^\");\n",
    "  jl_value_t *arg1 = jl_box_float64(M_PI);\n",
    "  jl_value_t *arg2 = jl_box_float64(2.0);\n",
    "  jl_value_t *rtv = jl_call2(powf,arg1,arg2);\n",
    "  JL_GC_PUSH1(&rtv);\n",
    "  if (jl_is_float64(rtv)) {\n",
    "    double e_pi = jl_unbox_float64(rtv);\n",
    "    printf(\"pi (в квадрате) = %f\\n\", e_pi);\n",
    "  }\n",
    "  else {\n",
    "    printf(\"Ой, что-то пошло не так!\\n\");\n",
    "  }\n",
    "  JL_GC_POP();\n",
    "  return 0;\n",
    "}\n",
    "</pre>"
   ]
  },
  {
   "cell_type": "markdown",
   "metadata": {},
   "source": [
    "# Метапрограммирование\n",
    "## Символьные имена"
   ]
  },
  {
   "cell_type": "markdown",
   "metadata": {},
   "source": [
    "##### Unix/Windows"
   ]
  },
  {
   "cell_type": "code",
   "execution_count": 7,
   "metadata": {
    "collapsed": false
   },
   "outputs": [
    {
     "data": {
      "text/plain": [
       ":(a + b * c)"
      ]
     },
     "execution_count": 7,
     "metadata": {},
     "output_type": "execute_result"
    }
   ],
   "source": [
    "ex = :(a+b*c) "
   ]
  },
  {
   "cell_type": "code",
   "execution_count": 8,
   "metadata": {
    "collapsed": false
   },
   "outputs": [
    {
     "data": {
      "text/plain": [
       "Expr"
      ]
     },
     "execution_count": 8,
     "metadata": {},
     "output_type": "execute_result"
    }
   ],
   "source": [
    "typeof(ex)"
   ]
  },
  {
   "cell_type": "code",
   "execution_count": 9,
   "metadata": {
    "collapsed": false
   },
   "outputs": [
    {
     "data": {
      "text/plain": [
       "58.5 + 10.0im"
      ]
     },
     "execution_count": 9,
     "metadata": {},
     "output_type": "execute_result"
    }
   ],
   "source": [
    "a = 1.0; b = 2.5; c = 23 + 4im;\n",
    "eval(ex) "
   ]
  },
  {
   "cell_type": "code",
   "execution_count": 10,
   "metadata": {
    "collapsed": false
   },
   "outputs": [
    {
     "data": {
      "text/plain": [
       "3-element Array{Symbol,1}:\n",
       " :head\n",
       " :args\n",
       " :typ "
      ]
     },
     "execution_count": 10,
     "metadata": {},
     "output_type": "execute_result"
    }
   ],
   "source": [
    "fieldnames(Expr) "
   ]
  },
  {
   "cell_type": "code",
   "execution_count": 11,
   "metadata": {
    "collapsed": false
   },
   "outputs": [
    {
     "data": {
      "text/plain": [
       "3-element Array{Any,1}:\n",
       " :+      \n",
       " :a      \n",
       " :(b * c)"
      ]
     },
     "execution_count": 11,
     "metadata": {},
     "output_type": "execute_result"
    }
   ],
   "source": [
    "ex.args   "
   ]
  },
  {
   "cell_type": "code",
   "execution_count": 12,
   "metadata": {
    "collapsed": false
   },
   "outputs": [
    {
     "data": {
      "text/plain": [
       "3-element Array{Any,1}:\n",
       " :*\n",
       " :b\n",
       " :c"
      ]
     },
     "execution_count": 12,
     "metadata": {},
     "output_type": "execute_result"
    }
   ],
   "source": [
    "ex.args[3].args  "
   ]
  },
  {
   "cell_type": "code",
   "execution_count": 13,
   "metadata": {
    "collapsed": false
   },
   "outputs": [
    {
     "data": {
      "text/plain": [
       ":call"
      ]
     },
     "execution_count": 13,
     "metadata": {},
     "output_type": "execute_result"
    }
   ],
   "source": [
    "ex.head "
   ]
  },
  {
   "cell_type": "code",
   "execution_count": 14,
   "metadata": {
    "collapsed": false
   },
   "outputs": [
    {
     "data": {
      "text/plain": [
       "Any"
      ]
     },
     "execution_count": 14,
     "metadata": {},
     "output_type": "execute_result"
    }
   ],
   "source": [
    "ex.typ"
   ]
  },
  {
   "cell_type": "markdown",
   "metadata": {},
   "source": [
    "## Макрокоманды\n",
    "##### Unix"
   ]
  },
  {
   "cell_type": "code",
   "execution_count": 34,
   "metadata": {
    "collapsed": true
   },
   "outputs": [],
   "source": [
    "systime() = ccall( (:time, \"libc\"), Int32, ());\n",
    "macro uxtime(ex)\n",
    "  quote\n",
    "    t0 = systime()\n",
    "    $(esc(ex))\n",
    "    t1 = systime()\n",
    "    println(\"Время обработки составило $(t1 - t0) сек.\")\n",
    "  end\n",
    "end "
   ]
  },
  {
   "cell_type": "code",
   "execution_count": null,
   "metadata": {
    "collapsed": true
   },
   "outputs": [],
   "source": [
    "include(homedir()*\"/projects/mastering_julia/queens.jl\")\n",
    "\n",
    "@uxtime qsolve(8)   # прим. 53 сек. "
   ]
  },
  {
   "cell_type": "markdown",
   "metadata": {},
   "source": [
    "##### Unix/Windows"
   ]
  },
  {
   "cell_type": "code",
   "execution_count": 6,
   "metadata": {
    "collapsed": false
   },
   "outputs": [
    {
     "data": {
      "text/plain": [
       "hangabout (generic function with 1 method)"
      ]
     },
     "execution_count": 6,
     "metadata": {},
     "output_type": "execute_result"
    }
   ],
   "source": [
    "function hangabout(n)\n",
    "  s = 0.0\n",
    "  for i = 1:n\n",
    "    s += i/(i+1)^2\n",
    "  end\n",
    "  s\n",
    "end"
   ]
  },
  {
   "cell_type": "code",
   "execution_count": 7,
   "metadata": {
    "collapsed": false
   },
   "outputs": [
    {
     "data": {
      "text/plain": [
       "19.655547437502335"
      ]
     },
     "execution_count": 7,
     "metadata": {},
     "output_type": "execute_result"
    }
   ],
   "source": [
    "hangabout(1_000_000_000) "
   ]
  },
  {
   "cell_type": "code",
   "execution_count": 15,
   "metadata": {
    "collapsed": false
   },
   "outputs": [
    {
     "data": {
      "text/plain": [
       "7.164108306"
      ]
     },
     "execution_count": 15,
     "metadata": {},
     "output_type": "execute_result"
    }
   ],
   "source": [
    "@elapsed hangabout(1_000_000_000)"
   ]
  },
  {
   "cell_type": "code",
   "execution_count": 16,
   "metadata": {
    "collapsed": false
   },
   "outputs": [
    {
     "data": {
      "text/plain": [
       "quote  # In[16], line 1:\n",
       "    begin  # util.jl, line 178:\n",
       "        local #62#t0 = Base.time_ns() # util.jl, line 179:\n",
       "        local #63#val = hangabout(1000000000) # util.jl, line 180:\n",
       "        Base./(Base.-(Base.time_ns(),#62#t0),1.0e9)\n",
       "    end\n",
       "end"
      ]
     },
     "execution_count": 16,
     "metadata": {},
     "output_type": "execute_result"
    }
   ],
   "source": [
    "macroexpand(quote @elapsed hangabout(1_000_000_000) end)"
   ]
  },
  {
   "cell_type": "code",
   "execution_count": 17,
   "metadata": {
    "collapsed": true
   },
   "outputs": [],
   "source": [
    "macro benchmark(f)\n",
    "  quote\n",
    "    $(esc(f))\n",
    "    mean([@elapsed $(esc(f)) for i = 1:10])\n",
    "  end\n",
    "end"
   ]
  },
  {
   "cell_type": "code",
   "execution_count": 18,
   "metadata": {
    "collapsed": false
   },
   "outputs": [
    {
     "data": {
      "text/plain": [
       "quote  # In[18], line 1:\n",
       "    begin  # In[17], line 3:\n",
       "        hangabout(1000000000) # In[17], line 4:\n",
       "        mean([begin  # util.jl, line 178:\n",
       "                local #65#t0 = Base.time_ns() # util.jl, line 179:\n",
       "                local #66#val = hangabout(1000000000) # util.jl, line 180:\n",
       "                Base./(Base.-(Base.time_ns(),#65#t0),1.0e9)\n",
       "            end for #64#i = 1:10])\n",
       "    end\n",
       "end"
      ]
     },
     "execution_count": 18,
     "metadata": {},
     "output_type": "execute_result"
    }
   ],
   "source": [
    "macroexpand(quote @benchmark hangabout(1_000_000_000) end)"
   ]
  },
  {
   "cell_type": "markdown",
   "metadata": {},
   "source": [
    "## Тестирование"
   ]
  },
  {
   "cell_type": "code",
   "execution_count": 19,
   "metadata": {
    "collapsed": false
   },
   "outputs": [
    {
     "ename": "LoadError",
     "evalue": "LoadError: test failed: 1 == 2\n in expression: x == 2\nwhile loading In[19], in expression starting on line 5",
     "output_type": "error",
     "traceback": [
      "LoadError: test failed: 1 == 2\n in expression: x == 2\nwhile loading In[19], in expression starting on line 5",
      ""
     ]
    }
   ],
   "source": [
    "using Base.Test\n",
    "\n",
    "x = 1;\n",
    "@test x == 1\n",
    "@test x == 2  # => ErrorException(\"test failed: :((x==2))\")"
   ]
  },
  {
   "cell_type": "code",
   "execution_count": 21,
   "metadata": {
    "collapsed": false
   },
   "outputs": [
    {
     "ename": "LoadError",
     "evalue": "LoadError: test failed: BoundsError([0.3284644758041464,0.7137241560117829,0.4093934847398273,0.9864315978029479,0.8909286447186917,0.011079639569080424,0.7836313605916725,0.6389251344519136,0.9335210321123686,0.10798471482581484],(11,)) was thrown instead of DomainError\n in expression: a[11] = 0.1\nwhile loading In[21], in expression starting on line 4",
     "output_type": "error",
     "traceback": [
      "LoadError: test failed: BoundsError([0.3284644758041464,0.7137241560117829,0.4093934847398273,0.9864315978029479,0.8909286447186917,0.011079639569080424,0.7836313605916725,0.6389251344519136,0.9335210321123686,0.10798471482581484],(11,)) was thrown instead of DomainError\n in expression: a[11] = 0.1\nwhile loading In[21], in expression starting on line 4",
      ""
     ]
    }
   ],
   "source": [
    "a = rand(10);\n",
    "\n",
    "@test_throws BoundsError a[11] = 0.1\n",
    "@test_throws DomainError a[11] = 0.1"
   ]
  },
  {
   "cell_type": "code",
   "execution_count": 22,
   "metadata": {
    "collapsed": false
   },
   "outputs": [
    {
     "ename": "LoadError",
     "evalue": "LoadError: assertion failed: |0.0 - sin(pi)| <= 2.465190328815662e-28\n  0.0 = 0.0\n  sin(pi) = 1.2246467991473532e-16\n  difference = 1.2246467991473532e-16 > 2.465190328815662e-28\nwhile loading In[22], in expression starting on line 1",
     "output_type": "error",
     "traceback": [
      "LoadError: assertion failed: |0.0 - sin(pi)| <= 2.465190328815662e-28\n  0.0 = 0.0\n  sin(pi) = 1.2246467991473532e-16\n  difference = 1.2246467991473532e-16 > 2.465190328815662e-28\nwhile loading In[22], in expression starting on line 1",
      ""
     ]
    }
   ],
   "source": [
    "@test_approx_eq 0.0 sin(pi)"
   ]
  },
  {
   "cell_type": "code",
   "execution_count": 23,
   "metadata": {
    "collapsed": false
   },
   "outputs": [
    {
     "ename": "LoadError",
     "evalue": "LoadError: assertion failed: |0.0 - sin(pi)| <= 1.0e-20\n  0.0 = 0.0\n  sin(pi) = 1.2246467991473532e-16\n  difference = 1.2246467991473532e-16 > 1.0e-20\nwhile loading In[23], in expression starting on line 2",
     "output_type": "error",
     "traceback": [
      "LoadError: assertion failed: |0.0 - sin(pi)| <= 1.0e-20\n  0.0 = 0.0\n  sin(pi) = 1.2246467991473532e-16\n  difference = 1.2246467991473532e-16 > 1.0e-20\nwhile loading In[23], in expression starting on line 2",
      "",
      " in error at error.jl:22"
     ]
    }
   ],
   "source": [
    "@test_approx_eq_eps 0.0 sin(pi) 1.0e-10\n",
    "@test_approx_eq_eps 0.0 sin(pi) 1.0e-20"
   ]
  },
  {
   "cell_type": "markdown",
   "metadata": {},
   "source": [
    "### Обработка ошибок"
   ]
  },
  {
   "cell_type": "code",
   "execution_count": 24,
   "metadata": {
    "collapsed": false
   },
   "outputs": [
    {
     "data": {
      "text/plain": [
       "my (generic function with 1 method)"
      ]
     },
     "execution_count": 24,
     "metadata": {},
     "output_type": "execute_result"
    }
   ],
   "source": [
    "using Base.Test\n",
    "\n",
    "my_handler(r::Test.Success) = println(\"Согласен с $(r.expr)\");\n",
    "my_handler(r::Test.Failure) = error(\"Ошибка из моего обработчика: $(r.expr)\")\n",
    "my(r::Test.Error) = rethrow(r)"
   ]
  },
  {
   "cell_type": "code",
   "execution_count": 25,
   "metadata": {
    "collapsed": false
   },
   "outputs": [
    {
     "data": {
      "text/plain": [
       "3-element Array{Symbol,1}:\n",
       " :expr     \n",
       " :err      \n",
       " :backtrace"
      ]
     },
     "execution_count": 25,
     "metadata": {},
     "output_type": "execute_result"
    }
   ],
   "source": [
    "fieldnames(Test.Error) "
   ]
  },
  {
   "cell_type": "code",
   "execution_count": 26,
   "metadata": {
    "collapsed": true
   },
   "outputs": [],
   "source": [
    "my_handler(r::Test.Failure) = println(\"$(r.expr): да, как и задумано!\");\n",
    "my_handler(r::Test.Success) = println(\"$(r.expr): вполне устраивает\");\n",
    "my_handler(r::Test.Error) = rethrow(r);"
   ]
  },
  {
   "cell_type": "code",
   "execution_count": 28,
   "metadata": {
    "collapsed": false
   },
   "outputs": [
    {
     "name": "stdout",
     "output_type": "stream",
     "text": [
      "x == 1: вполне устраивает\n",
      "x == 2: да, как и задумано!\n"
     ]
    },
    {
     "ename": "LoadError",
     "evalue": "LoadError: test error in expression: x / 0\nTypeError: non-boolean (Float64) used in boolean context\n in do_test at test.jl:51\nwhile loading In[28], in expression starting on line 1",
     "output_type": "error",
     "traceback": [
      "LoadError: test error in expression: x / 0\nTypeError: non-boolean (Float64) used in boolean context\n in do_test at test.jl:51\nwhile loading In[28], in expression starting on line 1",
      "",
      " in do_test at test.jl:51"
     ]
    }
   ],
   "source": [
    "Test.with_handler(my_handler) do\n",
    "  x = 1;\n",
    "  @test x == 1\n",
    "  @test x == 2\n",
    "  @test x / 0\n",
    "end\n",
    "\n",
    "x == 1\n",
    "x == 2  \n",
    "x / 0"
   ]
  },
  {
   "cell_type": "markdown",
   "metadata": {},
   "source": [
    "## Макрокоманда enum"
   ]
  },
  {
   "cell_type": "code",
   "execution_count": 15,
   "metadata": {
    "collapsed": false
   },
   "outputs": [],
   "source": [
    "@enum STATUS INFO WARNING ERROR FATAL "
   ]
  },
  {
   "cell_type": "code",
   "execution_count": 16,
   "metadata": {
    "collapsed": false
   },
   "outputs": [
    {
     "data": {
      "text/plain": [
       "INFO::STATUS"
      ]
     },
     "execution_count": 16,
     "metadata": {},
     "output_type": "execute_result"
    }
   ],
   "source": [
    "INFO         "
   ]
  },
  {
   "cell_type": "code",
   "execution_count": 17,
   "metadata": {
    "collapsed": false
   },
   "outputs": [
    {
     "data": {
      "text/plain": [
       "INFO::STATUS"
      ]
     },
     "execution_count": 17,
     "metadata": {},
     "output_type": "execute_result"
    }
   ],
   "source": [
    "STATUS(0)   "
   ]
  },
  {
   "cell_type": "code",
   "execution_count": 18,
   "metadata": {
    "collapsed": false
   },
   "outputs": [
    {
     "data": {
      "text/plain": [
       "WARNING::STATUS"
      ]
     },
     "execution_count": 18,
     "metadata": {},
     "output_type": "execute_result"
    }
   ],
   "source": [
    "STATUS(1)    "
   ]
  },
  {
   "cell_type": "code",
   "execution_count": 19,
   "metadata": {
    "collapsed": false
   },
   "outputs": [
    {
     "data": {
      "text/plain": [
       "STATUS"
      ]
     },
     "execution_count": 19,
     "metadata": {},
     "output_type": "execute_result"
    }
   ],
   "source": [
    "typeof(INFO) "
   ]
  },
  {
   "cell_type": "code",
   "execution_count": 51,
   "metadata": {
    "collapsed": false
   },
   "outputs": [],
   "source": [
    "macro enum2(T,syms...)\n",
    "  blk = quote\n",
    "    immutable $(esc(T))\n",
    "      n::Int32\n",
    "      $(esc(T))(n::Integer) = new(n)\n",
    "    end\n",
    "  \n",
    "    Base.show(io::IO, x::$(esc(T))) = print(io, $syms[x.n+1])\n",
    "    Base.show(io::IO, x::Type{$(esc(T))}) = print(io, $(string(\"enum \", T, ' ', '(', join(syms, \", \"), ')')) )\n",
    "  end\n",
    "\n",
    "  for (i,sym) in enumerate(syms)\n",
    "    push!(blk.args, :(const $(esc(sym)) = $(esc(T))($(i-1))))\n",
    "  end\n",
    "\n",
    "  push!(blk.args, :nothing)\n",
    "  blk.head = :toplevel\n",
    "\n",
    "  return blk\n",
    "end"
   ]
  },
  {
   "cell_type": "code",
   "execution_count": 54,
   "metadata": {
    "collapsed": false
   },
   "outputs": [
    {
     "ename": "LoadError",
     "evalue": "LoadError: invalid redefinition of constant MsgStatus\nwhile loading In[54], in expression starting on line 5",
     "output_type": "error",
     "traceback": [
      "LoadError: invalid redefinition of constant MsgStatus\nwhile loading In[54], in expression starting on line 5",
      ""
     ]
    }
   ],
   "source": [
    "# require(\"enum\")\n",
    "\n",
    "@enum MSGSTAT INFO2 WARN2 ERROR2 FATAL2\n",
    "\n",
    "typealias MsgStatus typeof(INFO2)  "
   ]
  },
  {
   "cell_type": "code",
   "execution_count": 48,
   "metadata": {
    "collapsed": false
   },
   "outputs": [
    {
     "name": "stdout",
     "output_type": "stream",
     "text": [
      "2016-05-20T23:22:27:  >> Буду очень обрадован!"
     ]
    }
   ],
   "source": [
    "type LogMessage2\n",
    "  stamped::DateTime\n",
    "\n",
    "  message::AbstractString\n",
    "end\n",
    "\n",
    "import Base.show\n",
    "import Base.convert\n",
    "show(m::LogMessage2) = print(\"$(m.stamped):  >> $(m.message)\")\n",
    "msg = LogMessage2(now(), \"Буду очень обрадован!\")\n",
    "\n",
    "show(msg)   # => 28 Aug 2015 09:55:33 BST: WARN >> Буду очень напуган!"
   ]
  },
  {
   "cell_type": "markdown",
   "metadata": {},
   "source": [
    "# Многозадачность"
   ]
  },
  {
   "cell_type": "markdown",
   "metadata": {},
   "source": [
    "##### Unix/Windows"
   ]
  },
  {
   "cell_type": "code",
   "execution_count": 88,
   "metadata": {
    "collapsed": false
   },
   "outputs": [
    {
     "data": {
      "text/plain": [
       "fibs (generic function with 2 methods)"
      ]
     },
     "execution_count": 88,
     "metadata": {},
     "output_type": "execute_result"
    }
   ],
   "source": [
    "function fibs(n = 10)\n",
    "  fib = round(Int64,zeros(n))\n",
    "\n",
    "  fib[1] = 1\n",
    "  produce(fib[1]) \n",
    "  fib[2] = 1\n",
    "  produce(fib[2])\n",
    "\n",
    "  for i = 3:n\n",
    "    fib[i] = fib[i-1] + fib[i-2]\n",
    "    produce(fib[i])\n",
    "  end\n",
    "  produce(-1)\n",
    "end"
   ]
  },
  {
   "cell_type": "code",
   "execution_count": 89,
   "metadata": {
    "collapsed": false
   },
   "outputs": [
    {
     "data": {
      "text/plain": [
       "Task (runnable) @0x00000000827b6150"
      ]
     },
     "execution_count": 89,
     "metadata": {},
     "output_type": "execute_result"
    }
   ],
   "source": [
    "p = Task(fibs)"
   ]
  },
  {
   "cell_type": "markdown",
   "metadata": {},
   "source": [
    "<pre>\n",
    "println(consume(p)); # => 1\n",
    "----------------------------\n",
    "----------------------------\n",
    "println(consume(p)); # => 55\n",
    "println(consume(p)); # => -1\n",
    "</pre>"
   ]
  },
  {
   "cell_type": "raw",
   "metadata": {
    "collapsed": false
   },
   "source": [
    "for x in p\n",
    "  if x < 0\n",
    "    break\n",
    "  else\n",
    "    @printf \"%d \" x\n",
    "  end\n",
    "end"
   ]
  },
  {
   "cell_type": "markdown",
   "metadata": {},
   "source": [
    "## Параллельные операции"
   ]
  },
  {
   "cell_type": "markdown",
   "metadata": {},
   "source": [
    "##### Unix/Windows"
   ]
  },
  {
   "cell_type": "raw",
   "metadata": {},
   "source": [
    "julia -p 2 -L file1.jl -L file2.jl main.jl"
   ]
  },
  {
   "cell_type": "code",
   "execution_count": null,
   "metadata": {
    "collapsed": true
   },
   "outputs": [],
   "source": [
    "addprocs(3); # => эквивалентно запуску: julia –p 4, равно числя_ядер_процессора - 1"
   ]
  },
  {
   "cell_type": "code",
   "execution_count": null,
   "metadata": {
    "collapsed": true
   },
   "outputs": [],
   "source": [
    "nprocs();    # => 4 "
   ]
  },
  {
   "cell_type": "code",
   "execution_count": null,
   "metadata": {
    "collapsed": true
   },
   "outputs": [],
   "source": [
    "r = remotecall(2, randn, 5)\n",
    "\n",
    "fetch(r);   # => [0.094615,0.339905,0.422061,0.790972,0.552309 ]"
   ]
  },
  {
   "cell_type": "code",
   "execution_count": null,
   "metadata": {
    "collapsed": true
   },
   "outputs": [],
   "source": [
    "addprocs(3)\n",
    "\n",
    "@everywhere fib(n) = (n < 2) ? n : (fib(n-1) + fib(n-2))"
   ]
  },
  {
   "cell_type": "code",
   "execution_count": null,
   "metadata": {
    "collapsed": true
   },
   "outputs": [],
   "source": [
    "@elapsed fib(40);             # => 1.311472619"
   ]
  },
  {
   "cell_type": "code",
   "execution_count": null,
   "metadata": {
    "collapsed": true
   },
   "outputs": [],
   "source": [
    "r = @spawn @elapsed fib(40);  # => RemoteRef(4,1,17)"
   ]
  },
  {
   "cell_type": "code",
   "execution_count": null,
   "metadata": {
    "collapsed": true
   },
   "outputs": [],
   "source": [
    "fetch(r);                     # => 1.272693849"
   ]
  },
  {
   "cell_type": "markdown",
   "metadata": {},
   "source": [
    "## Распределенные массивы"
   ]
  },
  {
   "cell_type": "code",
   "execution_count": 10,
   "metadata": {
    "collapsed": false
   },
   "outputs": [
    {
     "name": "stderr",
     "output_type": "stream",
     "text": [
      "WARNING: replacing module DistributedArrays\n",
      "WARNING: replacing module DistributedArrays\n",
      "WARNING: replacing module DistributedArrays\n"
     ]
    },
    {
     "data": {
      "text/plain": [
       "DistributedArrays.DArray{Float64,1,Array{Float64,1}}"
      ]
     },
     "execution_count": 10,
     "metadata": {},
     "output_type": "execute_result"
    }
   ],
   "source": [
    "addprocs(3);\n",
    "\n",
    "@everywhere using DistributedArrays\n",
    "\n",
    "d = drand(100000);\n",
    "\n",
    "typeof(d)  # => DArray{Float64,1,Array{Float64.1}}"
   ]
  },
  {
   "cell_type": "code",
   "execution_count": 2,
   "metadata": {
    "collapsed": false
   },
   "outputs": [
    {
     "data": {
      "text/plain": [
       "6-element Array{Symbol,1}:\n",
       " :identity\n",
       " :dims    \n",
       " :pids    \n",
       " :indexes \n",
       " :cuts    \n",
       " :release "
      ]
     },
     "execution_count": 2,
     "metadata": {},
     "output_type": "execute_result"
    }
   ],
   "source": [
    "fieldnames(d)  "
   ]
  },
  {
   "cell_type": "code",
   "execution_count": 3,
   "metadata": {
    "collapsed": false
   },
   "outputs": [
    {
     "data": {
      "text/plain": [
       "1-element Array{Array{Int64,1},1}:\n",
       " [1,33334,66668,100001]"
      ]
     },
     "execution_count": 3,
     "metadata": {},
     "output_type": "execute_result"
    }
   ],
   "source": [
    "d.cuts "
   ]
  },
  {
   "cell_type": "code",
   "execution_count": 4,
   "metadata": {
    "collapsed": false
   },
   "outputs": [
    {
     "data": {
      "text/plain": [
       "3-element Array{Int64,1}:\n",
       " 2\n",
       " 3\n",
       " 4"
      ]
     },
     "execution_count": 4,
     "metadata": {},
     "output_type": "execute_result"
    }
   ],
   "source": [
    "d.pids"
   ]
  },
  {
   "cell_type": "raw",
   "metadata": {},
   "source": [
    "3-element Array{RemoteRef,1}:  \n",
    " RemoteRef(2,1,5)  \n",
    " RemoteRef(3,1,6)  \n",
    " RemoteRef(4,1,7)"
   ]
  },
  {
   "cell_type": "code",
   "execution_count": null,
   "metadata": {
    "collapsed": true
   },
   "outputs": [],
   "source": [
    "length(d.chunks); # => 3"
   ]
  },
  {
   "cell_type": "code",
   "execution_count": 5,
   "metadata": {
    "collapsed": false
   },
   "outputs": [
    {
     "data": {
      "text/plain": [
       "3-element Array{Tuple{UnitRange{Int64}},1}:\n",
       " (1:33333,)     \n",
       " (33334:66667,) \n",
       " (66668:100000,)"
      ]
     },
     "execution_count": 5,
     "metadata": {},
     "output_type": "execute_result"
    }
   ],
   "source": [
    "d.indexes  "
   ]
  },
  {
   "cell_type": "code",
   "execution_count": 10,
   "metadata": {
    "collapsed": false
   },
   "outputs": [
    {
     "data": {
      "text/plain": [
       "(100,200,300)"
      ]
     },
     "execution_count": 10,
     "metadata": {},
     "output_type": "execute_result"
    }
   ],
   "source": [
    "d0 = dzeros(100,200,300); d0.dims  # = > (100,200,300)"
   ]
  },
  {
   "cell_type": "code",
   "execution_count": 11,
   "metadata": {
    "collapsed": false
   },
   "outputs": [
    {
     "data": {
      "text/plain": [
       "(0.0:0.1:1.0,[10215,10011,9871,9952,9895,10103,10037,9960,10032,9924])"
      ]
     },
     "execution_count": 11,
     "metadata": {},
     "output_type": "execute_result"
    }
   ],
   "source": [
    "(r, fq) = hist(d,10) "
   ]
  },
  {
   "cell_type": "code",
   "execution_count": 12,
   "metadata": {
    "collapsed": false
   },
   "outputs": [
    {
     "data": {
      "text/plain": [
       "103.65219620335006"
      ]
     },
     "execution_count": 12,
     "metadata": {},
     "output_type": "execute_result"
    }
   ],
   "source": [
    "stdm(fq, mean(fq))  "
   ]
  },
  {
   "cell_type": "code",
   "execution_count": 13,
   "metadata": {
    "collapsed": false
   },
   "outputs": [
    {
     "name": "stdout",
     "output_type": "stream",
     "text": [
      "\tFrom worker 4:\tx ^ 2 = 64\n",
      "\tFrom worker 3:\tx ^ 2 = 16\n",
      "\tFrom worker 3:\tx ^ 2 = 25\n",
      "\tFrom worker 4:\tx ^ 2 = 81\n",
      "\tFrom worker 3:\tx ^ 2 = 36\n",
      "\tFrom worker 4:\tx ^ 2 = 100\n",
      "\tFrom worker 3:\tx ^ 2 = 49\n",
      "\tFrom worker 2:\tx ^ 2 = 1\n",
      "\tFrom worker 2:\tx ^ 2 = 4\n",
      "\tFrom worker 2:\tx ^ 2 = 9\n"
     ]
    },
    {
     "data": {
      "text/plain": [
       "10-element DistributedArrays.DArray{Int64,1,Array{Int64,1}}:\n",
       "   1\n",
       "   4\n",
       "   9\n",
       "  16\n",
       "  25\n",
       "  36\n",
       "  49\n",
       "  64\n",
       "  81\n",
       " 100"
      ]
     },
     "execution_count": 13,
     "metadata": {},
     "output_type": "execute_result"
    }
   ],
   "source": [
    "#addprocs(3);\n",
    "#@everywhere using DistributedArrays\n",
    "\n",
    "x = @DArray [@show x^2 for x = 1:10]"
   ]
  },
  {
   "cell_type": "code",
   "execution_count": 14,
   "metadata": {
    "collapsed": false
   },
   "outputs": [
    {
     "name": "stdout",
     "output_type": "stream",
     "text": [
      "\tFrom worker 3:\ti + j = 6\n",
      "\tFrom worker 2:\ti + j = 5\n",
      "\tFrom worker 3:\ti + j = 7\n",
      "\tFrom worker 2:\ti + j = 6\n",
      "\tFrom worker 2:\ti + j = 7\n",
      "\tFrom worker 3:\ti + j = 8\n",
      "\tFrom worker 4:\ti + j = 7\n",
      "\tFrom worker 4:\ti + j = 8\n",
      "\tFrom worker 4:\ti + j = 9\n"
     ]
    },
    {
     "data": {
      "text/plain": [
       "3x3 DistributedArrays.DArray{Int64,2,Array{Int64,2}}:\n",
       " 5  6  7\n",
       " 6  7  8\n",
       " 7  8  9"
      ]
     },
     "execution_count": 14,
     "metadata": {},
     "output_type": "execute_result"
    }
   ],
   "source": [
    "y = @DArray [@show i + j for i = 1:3, j = 4:6]"
   ]
  },
  {
   "cell_type": "markdown",
   "metadata": {
    "collapsed": true
   },
   "source": [
    "## Простая модель MapReduce"
   ]
  },
  {
   "cell_type": "code",
   "execution_count": null,
   "metadata": {
    "collapsed": true
   },
   "outputs": [],
   "source": [
    "addprocs(3);\n",
    "d = drand(300,300);\n",
    "nd = length(d.chunks)"
   ]
  },
  {
   "cell_type": "code",
   "execution_count": null,
   "metadata": {
    "collapsed": true
   },
   "outputs": [],
   "source": [
    "μ = reduce(+, map(fetch, Any[@spawnat p mean(localpart(d)) for p in procs(d) ]))/nd;  # => 0.001171701"
   ]
  },
  {
   "cell_type": "code",
   "execution_count": null,
   "metadata": {
    "collapsed": true
   },
   "outputs": [],
   "source": [
    "σ = reduce(+, map(fetch, Any[@spawnat p std(localpart(d)) for p in procs(d) ]))/nd;   # => 1.001011265"
   ]
  },
  {
   "cell_type": "markdown",
   "metadata": {},
   "source": [
    "# Исполнение команд"
   ]
  },
  {
   "cell_type": "markdown",
   "metadata": {},
   "source": [
    "##### Unix/Windows"
   ]
  },
  {
   "cell_type": "code",
   "execution_count": 11,
   "metadata": {
    "collapsed": false
   },
   "outputs": [
    {
     "data": {
      "text/plain": [
       "\"C:\\\\Users\\\\labor\\\\projects\\\\mastering_julia\\\\Глава 04. Интероперабельность\""
      ]
     },
     "execution_count": 11,
     "metadata": {},
     "output_type": "execute_result"
    }
   ],
   "source": [
    "pwd() "
   ]
  },
  {
   "cell_type": "code",
   "execution_count": 12,
   "metadata": {
    "collapsed": false
   },
   "outputs": [],
   "source": [
    "cd(\"../../../projects\")"
   ]
  },
  {
   "cell_type": "code",
   "execution_count": 13,
   "metadata": {
    "collapsed": false
   },
   "outputs": [
    {
     "data": {
      "text/plain": [
       "\"C:\\\\Users\\\\labor\\\\projects\""
      ]
     },
     "execution_count": 13,
     "metadata": {},
     "output_type": "execute_result"
    }
   ],
   "source": [
    "pwd()  "
   ]
  },
  {
   "cell_type": "markdown",
   "metadata": {},
   "source": [
    "##### Unix"
   ]
  },
  {
   "cell_type": "code",
   "execution_count": null,
   "metadata": {
    "collapsed": true
   },
   "outputs": [],
   "source": [
    "function getenv(evar::String)\n",
    "  s = ccall( (:getenv,\"libc\"),Ptr{Uint8},(Ptr{Uint8},),evar)\n",
    "  bytestring(s)\n",
    "end"
   ]
  },
  {
   "cell_type": "code",
   "execution_count": null,
   "metadata": {
    "collapsed": true
   },
   "outputs": [],
   "source": [
    "home_dir = getenv(\"HOME\"));\n",
    "alice_dir = string(home_dir, \"/Alice\");\n",
    "cd(alice_dir)"
   ]
  },
  {
   "cell_type": "markdown",
   "metadata": {},
   "source": [
    "###### Unix/Windows"
   ]
  },
  {
   "cell_type": "code",
   "execution_count": 15,
   "metadata": {
    "collapsed": false
   },
   "outputs": [],
   "source": [
    "alice_dir = joinpath(homedir(), \"projects\",\"mastering_julia\",\"Alice\");\n",
    "cd(alice_dir)"
   ]
  },
  {
   "cell_type": "code",
   "execution_count": 16,
   "metadata": {
    "collapsed": false
   },
   "outputs": [
    {
     "data": {
      "text/plain": [
       "\"C:\\\\Users\\\\labor\\\\projects\\\\mastering_julia\\\\Alice\""
      ]
     },
     "execution_count": 16,
     "metadata": {},
     "output_type": "execute_result"
    }
   ],
   "source": [
    "pwd()"
   ]
  },
  {
   "cell_type": "markdown",
   "metadata": {},
   "source": [
    "## Запуск команд на исполнение"
   ]
  },
  {
   "cell_type": "markdown",
   "metadata": {},
   "source": [
    "##### Unix"
   ]
  },
  {
   "cell_type": "code",
   "execution_count": 15,
   "metadata": {
    "collapsed": false
   },
   "outputs": [
    {
     "data": {
      "text/plain": [
       "Cmd"
      ]
     },
     "execution_count": 15,
     "metadata": {},
     "output_type": "execute_result"
    }
   ],
   "source": [
    "# использование обратных кавычек\n",
    "\n",
    "osdate = `date`; \n",
    "typeof(osdate)  # => Cm"
   ]
  },
  {
   "cell_type": "code",
   "execution_count": null,
   "metadata": {
    "collapsed": true
   },
   "outputs": [],
   "source": [
    "run(osdate)  # => Sun 31 Aug 2015 09:26:02 BST"
   ]
  },
  {
   "cell_type": "markdown",
   "metadata": {},
   "source": [
    "##### Windows"
   ]
  },
  {
   "cell_type": "code",
   "execution_count": 16,
   "metadata": {
    "collapsed": false
   },
   "outputs": [
    {
     "data": {
      "text/plain": [
       "Cmd"
      ]
     },
     "execution_count": 16,
     "metadata": {},
     "output_type": "execute_result"
    }
   ],
   "source": [
    "osdate = `powershell date`; \n",
    "typeof(osdate) # => Cmd"
   ]
  },
  {
   "cell_type": "code",
   "execution_count": 17,
   "metadata": {
    "collapsed": true
   },
   "outputs": [],
   "source": [
    "run(osdate)  "
   ]
  },
  {
   "cell_type": "markdown",
   "metadata": {},
   "source": [
    "##### Unix/Windows"
   ]
  },
  {
   "cell_type": "code",
   "execution_count": 19,
   "metadata": {
    "collapsed": false
   },
   "outputs": [
    {
     "data": {
      "text/plain": [
       "\"C:\\\\Users\\\\labor\\\\projects\\\\mastering_julia\\\\Alice\""
      ]
     },
     "execution_count": 19,
     "metadata": {},
     "output_type": "execute_result"
    }
   ],
   "source": [
    "cd(joinpath(homedir(), \"projects\",\"mastering_julia\",\"Alice\"))\n",
    "pwd()"
   ]
  },
  {
   "cell_type": "markdown",
   "metadata": {},
   "source": [
    "##### Unix"
   ]
  },
  {
   "cell_type": "code",
   "execution_count": null,
   "metadata": {
    "collapsed": true
   },
   "outputs": [],
   "source": [
    "ls = readall(`ls –lnoSr`)"
   ]
  },
  {
   "cell_type": "markdown",
   "metadata": {},
   "source": [
    "##### Windows"
   ]
  },
  {
   "cell_type": "code",
   "execution_count": 20,
   "metadata": {
    "collapsed": false
   },
   "outputs": [
    {
     "data": {
      "text/plain": [
       "\"aged-aged-man.txt\\r\\nfather-william.txt\\r\\nhunting-the-snark.txt\\r\\njabber4.txt\\r\\njabberwocky.txt\\r\\nlobster-quadrille.txt\\r\\nmad-gardeners-song.txt\\r\\nREADME.1st\\r\\nvoice-of-the-lobster.txt\\r\\nwalrus-and-carpenter.txt\\r\\n\""
      ]
     },
     "execution_count": 20,
     "metadata": {},
     "output_type": "execute_result"
    }
   ],
   "source": [
    "ls = readall(`powershell get-childitem -path '.\\' -name '*' -file`)"
   ]
  },
  {
   "cell_type": "markdown",
   "metadata": {},
   "source": [
    "##### Unix/Windows"
   ]
  },
  {
   "cell_type": "code",
   "execution_count": 22,
   "metadata": {
    "collapsed": false
   },
   "outputs": [
    {
     "data": {
      "text/plain": [
       "11-element Array{SubString{ASCIIString},1}:\n",
       " \"aged-aged-man.txt\\r\"       \n",
       " \"father-william.txt\\r\"      \n",
       " \"hunting-the-snark.txt\\r\"   \n",
       " \"jabber4.txt\\r\"             \n",
       " \"jabberwocky.txt\\r\"         \n",
       " \"lobster-quadrille.txt\\r\"   \n",
       " \"mad-gardeners-song.txt\\r\"  \n",
       " \"README.1st\\r\"              \n",
       " \"voice-of-the-lobster.txt\\r\"\n",
       " \"walrus-and-carpenter.txt\\r\"\n",
       " \"\"                          "
      ]
     },
     "execution_count": 22,
     "metadata": {},
     "output_type": "execute_result"
    }
   ],
   "source": [
    "split(ls,\"\\n\")  "
   ]
  },
  {
   "cell_type": "markdown",
   "metadata": {},
   "source": [
    "##### Unix"
   ]
  },
  {
   "cell_type": "code",
   "execution_count": null,
   "metadata": {
    "collapsed": true
   },
   "outputs": [],
   "source": [
    "open(`cat jabberwocky.txt`,\"r\",STDOUT) do io\n",
    "  for i = 1:4\n",
    "    s = readline(io)\n",
    "    println(reverse(chomp(s)))\n",
    "  end\n",
    "end"
   ]
  },
  {
   "cell_type": "markdown",
   "metadata": {},
   "source": [
    "##### Windows"
   ]
  },
  {
   "cell_type": "code",
   "execution_count": 23,
   "metadata": {
    "collapsed": false
   },
   "outputs": [
    {
     "name": "stdout",
     "output_type": "stream",
     "text": [
      "sevot yhtils eht dna ,gillirb sawT'\n",
      ":ebaw eht ni elbmig dna eryg diD\n",
      ",sevogorob eht erew ysmim llA\n",
      ".ebargtuo shtar emom eht dnA\n"
     ]
    }
   ],
   "source": [
    "open(`powershell cat jabberwocky.txt`,\"r\",STDOUT) do io\n",
    "  for i = 1:4\n",
    "    s = readline(io)\n",
    "    println(reverse(chomp(s)))\n",
    "  end\n",
    "end"
   ]
  },
  {
   "cell_type": "markdown",
   "metadata": {},
   "source": [
    "##### Unix/Windows"
   ]
  },
  {
   "cell_type": "code",
   "execution_count": 1,
   "metadata": {
    "collapsed": false
   },
   "outputs": [
    {
     "name": "stderr",
     "output_type": "stream",
     "text": [
      "  % Total    % Received % Xferd  Average Speed   Time    Time     Time  Current\n",
      "                                 Dload  Upload   Total   Spent    Left  Speed\n",
      "  0     0    0     0    0     0      0      0 --:--:--  0:00:01 --:--:--     0base64 binary data: Y3VybDogKDYpIENvdWxkIG5vdCByZXNvbHZlIGhvc3Q6IJZMDQoNICAwICAgICAwICAgIDAgICAgIDAgICAgMCAgICAgMCAgICAgIDAgICAgICAwIC0tOi0tOi0tIC0tOi0tOi0tIC0tOi0tOi0tICAgICAw\n",
      "100   178  100   178    0     0    189      0 --:--:-- --:--:-- --:--:--   189\n"
     ]
    },
    {
     "name": "stdout",
     "output_type": "stream",
     "text": [
      "<html>\r\n",
      "\n",
      "<head><title>301 Moved Permanently</title></head>\r\n",
      "\n",
      "<body bgcolor=\"white\">\r\n",
      "\n",
      "<center><h1>301 Moved Permanently</h1></center>\r\n",
      "\n",
      "<hr><center>nginx</center>\r\n",
      "\n",
      "</body>\r\n",
      "\n",
      "</html>\r\n",
      "\n"
     ]
    },
    {
     "ename": "LoadError",
     "evalue": "LoadError: BoundsError: attempt to access 7-element Array{ByteString,1}:\n \"<html>\\r\\n\"                                           \n \"<head><title>301 Moved Permanently</title></head>\\r\\n\"\n \"<body bgcolor=\\\"white\\\">\\r\\n\"                         \n \"<center><h1>301 Moved Permanently</h1></center>\\r\\n\"  \n \"<hr><center>nginx</center>\\r\\n\"                       \n \"</body>\\r\\n\"                                          \n \"</html>\\r\\n\"                                          \n  at index [8]\nwhile loading In[1], in expression starting on line 2",
     "output_type": "error",
     "traceback": [
      "LoadError: BoundsError: attempt to access 7-element Array{ByteString,1}:\n \"<html>\\r\\n\"                                           \n \"<head><title>301 Moved Permanently</title></head>\\r\\n\"\n \"<body bgcolor=\\\"white\\\">\\r\\n\"                         \n \"<center><h1>301 Moved Permanently</h1></center>\\r\\n\"  \n \"<hr><center>nginx</center>\\r\\n\"                       \n \"</body>\\r\\n\"                                          \n \"</html>\\r\\n\"                                          \n  at index [8]\nwhile loading In[1], in expression starting on line 2",
      "",
      " in getindex at array.jl:282",
      " in anonymous at no file"
     ]
    }
   ],
   "source": [
    "jlo = readlines(`curl –L \"http://www.julialang.org\"`);\n",
    "[println(jlo[i]) for i = 1:8];"
   ]
  },
  {
   "cell_type": "markdown",
   "metadata": {},
   "source": [
    "## Работа с файловой системой"
   ]
  },
  {
   "cell_type": "markdown",
   "metadata": {},
   "source": [
    "##### Unix"
   ]
  },
  {
   "cell_type": "code",
   "execution_count": null,
   "metadata": {
    "collapsed": true
   },
   "outputs": [],
   "source": [
    "run(`wc $(readdir())`)"
   ]
  },
  {
   "cell_type": "markdown",
   "metadata": {},
   "source": [
    "##### Unix/Windows"
   ]
  },
  {
   "cell_type": "code",
   "execution_count": null,
   "metadata": {
    "collapsed": true
   },
   "outputs": [],
   "source": [
    "function filter_re(pat::Regex, dir=\".\")\n",
    "  a = []\n",
    "  for fl in readdir(dir)\n",
    "    ismatch(pat, fl) && push!(a, fl)\n",
    "  end\n",
    "  a\n",
    "end"
   ]
  },
  {
   "cell_type": "markdown",
   "metadata": {},
   "source": [
    "##### Unix"
   ]
  },
  {
   "cell_type": "code",
   "execution_count": null,
   "metadata": {
    "collapsed": true
   },
   "outputs": [],
   "source": [
    "run(`wc $(filter(r\"the\"))`)"
   ]
  },
  {
   "cell_type": "code",
   "execution_count": null,
   "metadata": {
    "collapsed": true
   },
   "outputs": [],
   "source": [
    "aa = filter_re(r\"^h.*\\.log\"); length(aa) > 0 && run(`wc -l $(aa)`)"
   ]
  },
  {
   "cell_type": "code",
   "execution_count": null,
   "metadata": {
    "collapsed": true
   },
   "outputs": [],
   "source": [
    "aa = filter_re(r\"^h.*\\.txt\"); length(aa) > 0 && run(`wc -l $(aa)`)"
   ]
  },
  {
   "cell_type": "code",
   "execution_count": null,
   "metadata": {
    "collapsed": true
   },
   "outputs": [],
   "source": [
    "run(`find \"/home/Malcolm\" -name \\*.1st`)"
   ]
  },
  {
   "cell_type": "markdown",
   "metadata": {},
   "source": [
    "## Перенаправление ввода-вывода и конвейеры"
   ]
  },
  {
   "cell_type": "markdown",
   "metadata": {},
   "source": [
    "##### Unix"
   ]
  },
  {
   "cell_type": "code",
   "execution_count": null,
   "metadata": {
    "collapsed": true
   },
   "outputs": [],
   "source": [
    "# устаревшый вариант с оператором |>\n",
    "# run(`echo \"Не паниковать!\"` |> `rev`)\n",
    "\n",
    "run(pipeline(`echo \"Не паниковать!\"`, `rev`))  # => !ьтавокинап еН"
   ]
  },
  {
   "cell_type": "code",
   "execution_count": null,
   "metadata": {
    "collapsed": true
   },
   "outputs": [],
   "source": [
    "pwd();  "
   ]
  },
  {
   "cell_type": "code",
   "execution_count": null,
   "metadata": {
    "collapsed": true
   },
   "outputs": [],
   "source": [
    "wc(f) = isfile(f) && run(`wc $f`);\n",
    "txtfile = \"hunting-the-snark.txt\";\n",
    "logfile = \"hunting-the-snark.log\";\n",
    "run(pipeline(`grep -i beaver $txtfile`, logfile));\n",
    "\n",
    "wc(logfile)"
   ]
  },
  {
   "cell_type": "code",
   "execution_count": null,
   "metadata": {
    "collapsed": true
   },
   "outputs": [],
   "source": [
    "run(`grep -i bellman $txtfile` >> logfile);\n",
    "wc(logfile)"
   ]
  },
  {
   "cell_type": "code",
   "execution_count": null,
   "metadata": {
    "collapsed": true
   },
   "outputs": [],
   "source": [
    "run(`grep -i bellman hunting-the-snark.log` |> `grep -i beaver`)"
   ]
  },
  {
   "cell_type": "markdown",
   "metadata": {},
   "source": [
    "### Однострочники Perl"
   ]
  },
  {
   "cell_type": "markdown",
   "metadata": {},
   "source": [
    "##### Unix"
   ]
  },
  {
   "cell_type": "code",
   "execution_count": null,
   "metadata": {
    "collapsed": true
   },
   "outputs": [],
   "source": [
    "cp0 = `perl -e 'print reverse <>'`;\n",
    "run(pipeline(`cat jabberwocky.txt`, cp0, `tee jabberwocky.rev`, `head -4`))"
   ]
  },
  {
   "cell_type": "code",
   "execution_count": null,
   "metadata": {
    "collapsed": true
   },
   "outputs": [],
   "source": [
    "run(`find . -name \\*.rev`)  "
   ]
  },
  {
   "cell_type": "code",
   "execution_count": null,
   "metadata": {
    "collapsed": true
   },
   "outputs": [],
   "source": [
    "tfl = \"hunting-the-snark.txt\";\n",
    "cp1 = `perl -pne 'tr/[A-Z]/[a-z]/' $(tfl)`;\n",
    "cp2 = `perl -ne 'print join(\"\\n\", split(/ /,$_)); print(\"\\n\")'`;\n",
    "run(pipeline(cp1, cp2, `sort`, `uniq –c`, `sort –rn`, `head -8`))"
   ]
  },
  {
   "cell_type": "code",
   "execution_count": null,
   "metadata": {
    "collapsed": true
   },
   "outputs": [],
   "source": [
    "run(pipeline(cp1, cp2, `sort`, `uniq –c`, `sort –rn`. `grep bellman`))"
   ]
  },
  {
   "cell_type": "code",
   "execution_count": null,
   "metadata": {
    "collapsed": true
   },
   "outputs": [],
   "source": [
    "tfl = \"walrus-and-carpenter.txt\";\n",
    "ofl = \"walrus-and-carpenter.out\";\n",
    "run(pipeline(`wc $tfl`, `tee $ofl`))"
   ]
  },
  {
   "cell_type": "code",
   "execution_count": null,
   "metadata": {
    "collapsed": true
   },
   "outputs": [],
   "source": [
    "cp0 = `perl -pe 's/(\\d+)/ 1 + $1 /ge' $ofl`;\n",
    "run(cp0)"
   ]
  },
  {
   "cell_type": "code",
   "execution_count": null,
   "metadata": {
    "collapsed": true
   },
   "outputs": [],
   "source": [
    "cp1 = `perl -alne 'print \"@{[reverse @F]}\"'`;\n",
    "run(pipeline(`head -6 $tfl`, cp1))"
   ]
  }
 ],
 "metadata": {
  "kernelspec": {
   "display_name": "Julia 0.4.5",
   "language": "julia",
   "name": "julia-0.4"
  },
  "language_info": {
   "file_extension": ".jl",
   "mimetype": "application/julia",
   "name": "julia",
   "version": "0.4.5"
  }
 },
 "nbformat": 4,
 "nbformat_minor": 0
}
