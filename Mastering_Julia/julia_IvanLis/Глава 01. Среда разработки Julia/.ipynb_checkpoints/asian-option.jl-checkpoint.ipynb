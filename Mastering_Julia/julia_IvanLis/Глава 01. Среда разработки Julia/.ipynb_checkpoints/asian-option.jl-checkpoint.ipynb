{
 "cells": [
  {
   "cell_type": "markdown",
   "metadata": {
    "collapsed": true
   },
   "source": [
    "<div style=\"text-align: left;\"><img src=\"https://www.juliabox.org/assets/img/juliacloudlogo.png\"style=\"margin: 0px 0px 5px 0px; width: 200px; float: left;\" title=\"\" alt=\"\" /></div>\n",
    "\n",
    "<img src=\"https://dz13w8afd47il.cloudfront.net/sites/default/files/imagecache/ppv4_reader_book_cover/B03587_MockupCover_Normal.jpg\" style=\"margin: 0px 0px 5px 20px; width: 125px; float: right;\" title=\"\" alt=\"\" />\n",
    "<div style=\"text-align: left;float:right\"></div>\n",
    "\n",
    "Всестороннее введение в новый язык программирования для научно-технических вычислений [Julia](http://julialang.org/) в книге английского автора Малколма Шерридана, Packt Publishing, июль 2015.\n",
    "\n",
    "# Освоение языка Julia\n",
    "\n",
    "Совершенствование мастерства в области аналитики и программирования при помощи Julia в целях решения задач комплексной обработки данных "
   ]
  },
  {
   "cell_type": "code",
   "execution_count": 3,
   "metadata": {
    "collapsed": false
   },
   "outputs": [
    {
     "name": "stdout",
     "output_type": "stream",
     "text": [
      "Установка параметров опциона\n",
      "Тип опциона: CALL\n",
      "Установка параметров моделирования\n",
      "Повторяем 100000 раз.\n",
      "Цена опциона:     2.5869\n"
     ]
    }
   ],
   "source": [
    "#\n",
    "# asian-option.jl\n",
    "#\n",
    "\n",
    "function run_asian(N = 100000, PutCall = 'C';)\n",
    "    \n",
    "# Евроазиатский опцион.\n",
    "# Использует геометрическое либо арифметическое усреднение.\n",
    "# Дискретизация по методу Эйлера и Мильштейна для формулы Блэка-Шоулса.\n",
    "# Характеристики опциона.\n",
    "    \n",
    "  println(\"Установка параметров опциона\"); \n",
    "    \n",
    "  S0  = 100;     # Цена \"спот\" или цена немедленной поставки\n",
    "  K   = 100;     # Цена \"страйк\" или цена исполнения\n",
    "  r   = 0.05;    # Безрисковая ставка\n",
    "  q   = 0.0;     # Дивидендная доходность  \n",
    "  v   = 0.2;     # Волатильность\n",
    "  tma = 0.25;    # Срок до даты платежа\n",
    "\n",
    "  Averaging = 'A';    # 'A' арифметическое или 'G' геометрическое \n",
    "    \n",
    "  OptType = (PutCall == 'C' ? \"CALL\" : \"PUT\");\n",
    "    \n",
    "  println(\"Тип опциона: $OptType\");\n",
    "\n",
    "# Настройки моделирования.\n",
    "    \n",
    "  println(\"Установка параметров моделирования\"); \n",
    "    \n",
    "    T  = 100;      # Число временных интервалов \n",
    "  dt = tma/T;    # Приращение времени\n",
    "\n",
    "# Инициализировать матрицы терминальной фондовой цены\n",
    "# для схем дискретизации по методу Эйлера и Мильштейна. \n",
    "    \n",
    "  S = zeros(Float64,N,T);\n",
    "    for n=1:N \n",
    "      S[n,1] = S0;\n",
    "    end\n",
    "\n",
    "# Смоделировать фондовую цену в условиях схем Эйлера и Мильштейна.\n",
    "# Взять среднее терминальной фондовой цены. \n",
    "    \n",
    "  println(\"Повторяем $N раз.\");\n",
    "    \n",
    "  A = zeros(Float64,N); \n",
    "    for n=1:N\n",
    "      for t=2:T\n",
    "        dW = (randn(1)[1])*sqrt(dt);\n",
    "        z0 = (r - q - 0.5*v*v)*S[n,t-1]*dt; \n",
    "        z1 = v*S[n,t-1]*dW;\n",
    "        z2 = 0.5*v*v*S[n,t-1]*dW*dW; \n",
    "        S[n,t] = S[n,t-1] + z0 + z1 + z2;\n",
    "      end\n",
    "    if cmp(Averaging,'A') == 0 \n",
    "      A[n] = mean(S[n,:]);\n",
    "    elseif cmp(Averaging,'G') == 0 \n",
    "      A[n] = exp(mean(log(S[n,:])));\n",
    "    end \n",
    "  end\n",
    "\n",
    "# Рассчитать премию\n",
    "    \n",
    "  P = zeros(Float64,N);\n",
    "  if cmp(PutCall,'C') == 0 \n",
    "    for n = 1:N\n",
    "      P[n] = max(A[n] - K, 0);\n",
    "    end\n",
    "  elseif cmp(PutCall,'P') == 0 \n",
    "    for n = 1:N\n",
    "      P[n] = max(K - A[n], 0);\n",
    "    end \n",
    "  end\n",
    "\n",
    "  # Рассчитать цену Азиатского опциона \n",
    "    \n",
    "  AsianPrice = exp(-r*tma)*mean(P);\n",
    "  @printf \"Цена опциона: %10.4f\\n\" AsianPrice; \n",
    "end\n",
    "\n",
    "run_asian()"
   ]
  },
  {
   "cell_type": "code",
   "execution_count": 5,
   "metadata": {
    "collapsed": false
   },
   "outputs": [
    {
     "name": "stdout",
     "output_type": "stream",
     "text": [
      "Установка параметров опциона\n",
      "Тип опциона: CALL\n",
      "Установка параметров моделирования\n",
      "Повторяем 10000 раз.\n",
      "Цена опциона:     2.6013\n"
     ]
    }
   ],
   "source": [
    "run_asian(10000, 'C')"
   ]
  }
 ],
 "metadata": {
  "kernelspec": {
   "display_name": "Julia 0.4.5",
   "language": "julia",
   "name": "julia-0.4"
  },
  "language_info": {
   "file_extension": ".jl",
   "mimetype": "application/julia",
   "name": "julia",
   "version": "0.4.5"
  }
 },
 "nbformat": 4,
 "nbformat_minor": 0
}
