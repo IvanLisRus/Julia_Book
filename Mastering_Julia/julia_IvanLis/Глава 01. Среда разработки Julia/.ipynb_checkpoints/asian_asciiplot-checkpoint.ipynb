{
 "cells": [
  {
   "cell_type": "markdown",
   "metadata": {
    "collapsed": true
   },
   "source": [
    "<div style=\"text-align: left;\"><img src=\"https://www.juliabox.org/assets/img/juliacloudlogo.png\" style=\"margin: 0px 0px 0px 0px; padding-right: 20px;width: 80px; float: left;\" title=\"\" alt=\"\" /></div>\n",
    "<img src=\"http://dmkpress.com/images/cms/thumbs/a5b0aeaa3fa7d6e58d75710c18673bd7ec6d5f6d/978-5-97060-370-3_270_369__100.jpg\" style=\"margin: 0px 0px 5px 20px; width: 100px; float: right;\" title=\"\" alt=\"\" />\n",
    "Всестороннее введение в новый язык программирования для научно-технических вычислений [Julia](http://julialang.org/) в книге Малколма Шеррингтона, Packt Publishing, июль 2015.\n",
    "\n",
    "<h1>Осваиваем язык Julia</h1><br />\n",
    "\n",
    "Совершенствование мастерства в области аналитики и программирования при помощи Julia в целях решения задач комплексной обработки данных\n",
    "<div style=\"text-align: left;font-size:8pt;padding-top:10px;\">Программный код Julia (v0.4.5) протестирован в Windows 8.1/10 и Linux/Lubuntu 16.4</div>\n",
    "<div style=\"text-align: left;\"><h1>Глава 1. Примеры</h1></div>"
   ]
  },
  {
   "cell_type": "code",
   "execution_count": 1,
   "metadata": {
    "collapsed": false
   },
   "outputs": [
    {
     "data": {
      "text/plain": [
       "\n",
       "\t-------------------------------------------------------------\n",
       "\t|                                   *                        | 117.78\n",
       "\t|                                  *                         |\n",
       "\t|                                 * *                        |\n",
       "\t|                                 *  *                       |\n",
       "\t|                             *          ***                 |\n",
       "\t|                             ** *     ** **               **|\n",
       "\t|                                     **                  *  |\n",
       "\t|                           **  **                       *   |\n",
       "\t|                         ** *              *            *   |\n",
       "\t|                       ***                  *   *           |\n",
       "\t|                      **                    *   **    **    |\n",
       "\t|           *   ***  *                        * *  *   *     |\n",
       "\t|          * * *   *****                       **  ****      |\n",
       "\t|         **      *                                 *        |\n",
       "\t|             **                                             |\n",
       "\t|        *    *                                              |\n",
       "\t|       **                                                   |\n",
       "\t|*   ****                                                    |\n",
       "\t| * **                                                       |\n",
       "\t|***                                                         | 99.23\n",
       "\t-------------------------------------------------------------\n",
       "\t1.00                                                    100.00\n"
      ]
     },
     "execution_count": 1,
     "metadata": {},
     "output_type": "execute_result"
    }
   ],
   "source": [
    "#\n",
    "# asian_asciiplot.jl\n",
    "#\n",
    "\n",
    "using ASCIIPlots;\n",
    "\n",
    "S0  = 100;      # Цена \"спот\"\n",
    "K   = 102;      # Цена \"страйк\"\n",
    "r   = 0.05;     # Безрисковая ставка \n",
    "q   = 0.0;      # Дивидендная доходность  \n",
    "v   = 0.2;      # Волатильность\n",
    "tma = 0.25;     # Срок до даты платежа \n",
    "T   = 100;      # Число временных интервалов \n",
    "dt  = tma/T;    # Приращение времени\n",
    "\n",
    "S = zeros(Float64,T);\n",
    "S[1] = S0;\n",
    "\n",
    "dW = randn(T)*sqrt(dt)\n",
    "\n",
    "[ S[t] = S[t-1] * (1 + (r - q - 0.5*v*v)*dt + v*dW[t] + 0.5*v*v*dW[t]*dW[t]) for t=2:T ]\n",
    "\n",
    "x = linspace(1,100,T);\n",
    "\n",
    "scatterplot(x,S,sym='*')"
   ]
  },
  {
   "cell_type": "code",
   "execution_count": null,
   "metadata": {
    "collapsed": true
   },
   "outputs": [],
   "source": []
  }
 ],
 "metadata": {
  "kernelspec": {
   "display_name": "Julia 0.4.5",
   "language": "julia",
   "name": "julia-0.4"
  },
  "language_info": {
   "file_extension": ".jl",
   "mimetype": "application/julia",
   "name": "julia",
   "version": "0.4.5"
  }
 },
 "nbformat": 4,
 "nbformat_minor": 0
}
