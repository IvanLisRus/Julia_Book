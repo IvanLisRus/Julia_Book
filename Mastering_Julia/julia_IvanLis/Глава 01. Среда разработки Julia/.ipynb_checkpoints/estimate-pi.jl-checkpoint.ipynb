{
 "cells": [
  {
   "cell_type": "markdown",
   "metadata": {},
   "source": [
    "<div style=\"text-align: left;\"><img src=\"https://www.juliabox.org/assets/img/juliacloudlogo.png\"style=\"margin: 0px 0px 5px 0px; width: 200px; float: left;\" title=\"\" alt=\"\" /></div>\n",
    "\n",
    "<img src=\"https://dz13w8afd47il.cloudfront.net/sites/default/files/imagecache/ppv4_reader_book_cover/B03587_MockupCover_Normal.jpg\" style=\"margin: 0px 0px 5px 20px; width: 125px; float: right;\" title=\"\" alt=\"\" />\n",
    "<div style=\"text-align: left;float:right\"></div>\n",
    "\n",
    "Всестороннее введение в новый язык программирования для научно-технических вычислений [Julia](http://julialang.org/) в книге английского автора Малколма Шерридана, Packt Publishing, июль 2015.\n",
    "\n",
    "# Освоение языка Julia\n",
    "\n",
    "Совершенствование мастерства в области аналитики и программирования при помощи Julia в целях решения задач комплексной обработки данных "
   ]
  },
  {
   "cell_type": "code",
   "execution_count": 4,
   "metadata": {
    "collapsed": false
   },
   "outputs": [
    {
     "name": "stdout",
     "output_type": "stream",
     "text": [
      "Оценочное значение Pi для 1000000 испытаний равно 3.14232\n"
     ]
    }
   ],
   "source": [
    "#\n",
    "# estimate-pi.jl\n",
    "#\n",
    "\n",
    "sumsq(x,y) = x*x + y*y;\n",
    "\n",
    "N=1000000; \n",
    "x = 0;\n",
    "for i = 1:N\n",
    "  if sumsq(rand(), rand()) < 1.0\n",
    "    x += 1\n",
    "  end\n",
    "end\n",
    "\n",
    "@printf \"Оценочное значение Pi для %d испытаний равно%8.5f\\n\" N 4.0*(x / N);"
   ]
  }
 ],
 "metadata": {
  "kernelspec": {
   "display_name": "Julia 0.4.5",
   "language": "julia",
   "name": "julia-0.4"
  },
  "language_info": {
   "file_extension": ".jl",
   "mimetype": "application/julia",
   "name": "julia",
   "version": "0.4.5"
  }
 },
 "nbformat": 4,
 "nbformat_minor": 0
}
