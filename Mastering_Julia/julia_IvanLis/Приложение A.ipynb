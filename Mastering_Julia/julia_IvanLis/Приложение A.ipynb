{
 "cells": [
  {
   "cell_type": "markdown",
   "metadata": {},
   "source": [
    "<script src=\"https://use.fontawesome.com/2e576da815.js\"></script>"
   ]
  },
  {
   "cell_type": "markdown",
   "metadata": {},
   "source": [
    "<div style=\"text-align: left;\"><img src=\"https://www.juliabox.org/assets/img/juliacloudlogo.png\" style=\"margin: 0px 0px 0px 0px; padding-right: 20px;width: 80px; float: left;\" title=\"\" alt=\"\" /></div>\n",
    "<img src=\"http://dmkpress.com/images/cms/thumbs/a5b0aeaa3fa7d6e58d75710c18673bd7ec6d5f6d/978-5-97060-370-3_270_369__100.jpg\" style=\"margin: 0px 0px 5px 20px; width: 100px; float: right;\" title=\"\" alt=\"\" />\n",
    "Всестороннее введение в новый язык программирования для научно-технических вычислений [Julia](http://julialang.org/) в книге Малколма Шеррингтона, Packt Publishing, июль 2015.\n",
    "\n",
    "<h1>Осваиваем язык Julia</h1><br />\n",
    "\n",
    "Совершенствование мастерства в области аналитики и программирования при помощи Julia в целях решения задач комплексной обработки данных\n",
    "<div style=\"text-align: left;font-size:8pt;padding-top:10px;\">Программный код Julia (v0.4.5) протестирован в Windows 8.1/10 и Linux/Lubuntu 16.4</div>\n",
    "<div style=\"text-align: left;\"><h1>Приложение A.</h1></div>\n",
    "\n",
    "Данное приложение подготовлено по материалам англоязычных сайтов [Исчисление с языком Julia](http://calculuswithjulia.github.io/) и [MTH 229 Projects](http://mth229.github.io), содержащих подборки статей и записных книжех Jupyter, в которых исследуются концепции исчисления с использованием языка Julia."
   ]
  },
  {
   "cell_type": "markdown",
   "metadata": {
    "collapsed": true
   },
   "source": [
    "## Символическая математика с Julia"
   ]
  },
  {
   "cell_type": "markdown",
   "metadata": {},
   "source": [
    "### Введение"
   ]
  },
  {
   "cell_type": "markdown",
   "metadata": {},
   "source": [
    "Язык Julia позиционируется как \"новый подход к техническим вычислениям\". Прилагательное \"новый\" подразумевает, что имеется несколько старых, и это так. В математике существует три разных исходных принципа относительно вычислений: символический, численный и универсальный. Символический подход относится к <i>Системам компьютерной алгебры</i> (СКА, Computer Algebra Systems, CAS) и представлен такими весьма разносторонними программами, как Mathematica, Maple и общедоступной альтернативной платформой Sage. Численный подход - это сфера адаптированных языков программирования, таких как MATLAB и R. Универсальный подход реализуется широко используемым языком программирования, таким как Python или Haskell, для конкретных применений. Язык Julia реализует альтернативный подход к численным вычислениям относительно языков MATLAB или R.\n",
    "\n",
    "Одна из сильных сторон Julia заключается в том, что он хорошо \"сыгран\" с другими. Это особенно видно на примере пакета Julia ```SymPy```, который обеспечивает взаимодействие с функционалом символических математических преобразований, связываясь с языком Python и его библиотекой ```SymPy``` через пакет Julia ```PyCall```. Далее мы увидим, как эта дополнительная функциональность предлагает альтернативный подход при решении задач исчисления.\n",
    "\n",
    "Пакет Julia ```SymPy``` является дополнительным и загружается в сеанс командой: \n",
    "\n",
    "```\n",
    "using SymPy\n",
    "```\n",
    "\n",
    "Если пакет еще не установлен, то его можно установить командой: \n",
    "\n",
    "```\n",
    "Pkg.add(\"SymPy\")\n",
    "```\n",
    "\n",
    "Для работы пакета требуется, чтобы был установлен Python версии 2 или 3 (с ним взаимодействует функция Julia ```PyCall```), и чтобы в Python была установлена библиотека sympy (```pip install sympy```)."
   ]
  },
  {
   "cell_type": "markdown",
   "metadata": {},
   "source": [
    "### О пакете"
   ]
  },
  {
   "cell_type": "markdown",
   "metadata": {},
   "source": [
    "Программный пакет SymPy расширяет Julia, предлагая тип для символических выражений. Такое выражение заключено в символической переменной ```x```, которая инициализируется следующим образом:"
   ]
  },
  {
   "cell_type": "code",
   "execution_count": 2,
   "metadata": {
    "collapsed": false
   },
   "outputs": [
    {
     "data": {
      "text/latex": [
       "$$x$$"
      ],
      "text/plain": [
       "x"
      ]
     },
     "execution_count": 2,
     "metadata": {},
     "output_type": "execute_result"
    }
   ],
   "source": [
    "using SymPy\n",
    "\n",
    "x = Sym(\"x\")"
   ]
  },
  {
   "cell_type": "markdown",
   "metadata": {},
   "source": [
    "Элемент \"x\" на правой стороне - это строковый аргумент, передаваемый в конструктор ```Sym```, который возвращает символический объект, хранящийся в ```x```:"
   ]
  },
  {
   "cell_type": "code",
   "execution_count": 2,
   "metadata": {
    "collapsed": false
   },
   "outputs": [
    {
     "data": {
      "text/plain": [
       "SymPy.Sym"
      ]
     },
     "execution_count": 2,
     "metadata": {},
     "output_type": "execute_result"
    }
   ],
   "source": [
    "x |> typeof"
   ]
  },
  {
   "cell_type": "markdown",
   "metadata": {},
   "source": [
    "Все просто. В результате получаем тип ```Sym```. Макрокоманда ```@vars``` может упростить создание переменных:"
   ]
  },
  {
   "cell_type": "code",
   "execution_count": 3,
   "metadata": {
    "collapsed": false
   },
   "outputs": [
    {
     "data": {
      "text/plain": [
       "(a,b,c)"
      ]
     },
     "execution_count": 3,
     "metadata": {},
     "output_type": "execute_result"
    }
   ],
   "source": [
    "@vars a b c"
   ]
  },
  {
   "cell_type": "markdown",
   "metadata": {},
   "source": [
    "Функция symbols может конкретизировать тип создаваемых переменных и одновременно инициализировать сразу несколько:"
   ]
  },
  {
   "cell_type": "code",
   "execution_count": 4,
   "metadata": {
    "collapsed": false
   },
   "outputs": [
    {
     "data": {
      "text/plain": [
       "(h,y)"
      ]
     },
     "execution_count": 4,
     "metadata": {},
     "output_type": "execute_result"
    }
   ],
   "source": [
    "h, y = symbols(\"h, y\", real=true)"
   ]
  },
  {
   "cell_type": "markdown",
   "metadata": {},
   "source": [
    "Здесь мы будем пользоваться конвейерным оператором ```|>``` для композиции функций, так как он делает выражения чуть проще для восприятия. Приведенный выше пример можно было бы написать как ```typeof(x)```, и поэтому никакого преимущества от использования конвейерного оператора нет, но в остальном оно будет заметно.\n",
    "\n",
    "Большинство типичных математических функций специально перегружены для работы с такими символическими выражениями: функции принимают символическое выражение и возвращают вычисленное символическое выражение. Например, выражение $x^2 -2x + 2$ после вычисления становится новым символическим выражением:"
   ]
  },
  {
   "cell_type": "code",
   "execution_count": 11,
   "metadata": {
    "collapsed": false
   },
   "outputs": [
    {
     "data": {
      "text/plain": [
       "SymPy.Sym"
      ]
     },
     "execution_count": 11,
     "metadata": {},
     "output_type": "execute_result"
    }
   ],
   "source": [
    "x^2 - 2x + 2 |> typeof"
   ]
  },
  {
   "cell_type": "markdown",
   "metadata": {},
   "source": [
    "Аналогичным образом, при работе с математическими функциями возвращается символическое выражение:"
   ]
  },
  {
   "cell_type": "code",
   "execution_count": 6,
   "metadata": {
    "collapsed": false
   },
   "outputs": [
    {
     "data": {
      "text/latex": [
       "$$e^{- \\frac{x^{2}}{2}}$$"
      ],
      "text/plain": [
       "   2 \n",
       " -x  \n",
       " ----\n",
       "  2  \n",
       "e    "
      ]
     },
     "execution_count": 6,
     "metadata": {},
     "output_type": "execute_result"
    }
   ],
   "source": [
    "f(x) = exp(-x^2/2)             # функция Julia\n",
    "f(x)                           # принимает символический объект и возвращает новый"
   ]
  },
  {
   "cell_type": "markdown",
   "metadata": {},
   "source": [
    "Этот пример показывает, что объект-функция ```f``` отображает символический объект на другой символический объект.\n",
    "\n",
    "В пакете ```SymPy``` функция ```subs``` позволяет вычислять символическое выражение с заданным значением. Например:"
   ]
  },
  {
   "cell_type": "code",
   "execution_count": 7,
   "metadata": {
    "collapsed": false
   },
   "outputs": [
    {
     "data": {
      "text/latex": [
       "$$e^{- \\frac{1}{2}}$$"
      ],
      "text/plain": [
       " -1/2\n",
       "e    "
      ]
     },
     "execution_count": 7,
     "metadata": {},
     "output_type": "execute_result"
    }
   ],
   "source": [
    "subs(f(x), x, 1)               # установит x в 1"
   ]
  },
  {
   "cell_type": "markdown",
   "metadata": {},
   "source": [
    "В Julia, начиная с версии 0.4.x, можно использовать скобки:"
   ]
  },
  {
   "cell_type": "code",
   "execution_count": 8,
   "metadata": {
    "collapsed": false
   },
   "outputs": [
    {
     "data": {
      "text/latex": [
       "$$e^{- \\frac{1}{2}}$$"
      ],
      "text/plain": [
       " -1/2\n",
       "e    "
      ]
     },
     "execution_count": 8,
     "metadata": {},
     "output_type": "execute_result"
    }
   ],
   "source": [
    "ex = exp(-x^2/2)               # символическое выражение, не функция\n",
    "ex(1)"
   ]
  },
  {
   "cell_type": "markdown",
   "metadata": {},
   "source": [
    "Это хорошо работает, когда участвует всего одна переменная. В противном случае, обычно применяется форма записи ```=>```, которая указывает, какое значение подставляется, как показано ниже:"
   ]
  },
  {
   "cell_type": "code",
   "execution_count": 9,
   "metadata": {
    "collapsed": false
   },
   "outputs": [
    {
     "data": {
      "text/latex": [
       "$$e^{- \\frac{1}{2}}$$"
      ],
      "text/plain": [
       " -1/2\n",
       "e    "
      ]
     },
     "execution_count": 9,
     "metadata": {},
     "output_type": "execute_result"
    }
   ],
   "source": [
    "ex(x=>1)"
   ]
  },
  {
   "cell_type": "markdown",
   "metadata": {},
   "source": [
    "Результат функции ```subs``` - это тоже символический объект. Функция ```N``` конвертирует значение в значение языка Julia:"
   ]
  },
  {
   "cell_type": "code",
   "execution_count": 10,
   "metadata": {
    "collapsed": false
   },
   "outputs": [
    {
     "data": {
      "text/plain": [
       "0.6065306597126334"
      ]
     },
     "execution_count": 10,
     "metadata": {},
     "output_type": "execute_result"
    }
   ],
   "source": [
    "N(ex(1))"
   ]
  },
  {
   "cell_type": "markdown",
   "metadata": {},
   "source": [
    "В большинстве случаев работа с символическими выражениями выполняется без их возвращения назад в выражения языка Julia, до тех пор пока это не понадобится.\n",
    "\n",
    "### Уравнения\n",
    "\n",
    "```SymPy``` может делать многое из того, что вы знаете из алгебры: упрощение, разложение на множители и решение уравнений. Требуется всего несколько команд.\n",
    "\n",
    "#### Элементарная алгебра\n",
    "\n",
    "SymPy выполняет автоматическое упрощение выражений. Например, члены выражения комбинируются:"
   ]
  },
  {
   "cell_type": "code",
   "execution_count": 11,
   "metadata": {
    "collapsed": false
   },
   "outputs": [
    {
     "data": {
      "text/latex": [
       "$$3 x + 6$$"
      ],
      "text/plain": [
       "3*x + 6"
      ]
     },
     "execution_count": 11,
     "metadata": {},
     "output_type": "execute_result"
    }
   ],
   "source": [
    "(x+1) + (x+2) + (x+3)"
   ]
  },
  {
   "cell_type": "markdown",
   "metadata": {},
   "source": [
    "Однако, не все выражения можно упростить автоматически, и чтобы вызвать упрощение явным образом, можно (иногда) вызывать функцию ```simplify```, чтобы продвинуться дальше:"
   ]
  },
  {
   "cell_type": "code",
   "execution_count": 12,
   "metadata": {
    "collapsed": false
   },
   "outputs": [
    {
     "data": {
      "text/latex": [
       "$$\\sin^{2}{\\left (x \\right )} + \\cos^{2}{\\left (x \\right )}$$"
      ],
      "text/plain": [
       "   2         2   \n",
       "sin (x) + cos (x)"
      ]
     },
     "execution_count": 12,
     "metadata": {},
     "output_type": "execute_result"
    }
   ],
   "source": [
    "sin(x)^2+cos(x)^2              # здесь упрощения нет"
   ]
  },
  {
   "cell_type": "code",
   "execution_count": 13,
   "metadata": {
    "collapsed": false
   },
   "outputs": [
    {
     "data": {
      "text/latex": [
       "$$1$$"
      ],
      "text/plain": [
       "1"
      ]
     },
     "execution_count": 13,
     "metadata": {},
     "output_type": "execute_result"
    }
   ],
   "source": [
    "simplify(sin(x)^2 + cos(x)^2)"
   ]
  },
  {
   "cell_type": "markdown",
   "metadata": {},
   "source": [
    "Можно разложить многочлены на множители:"
   ]
  },
  {
   "cell_type": "code",
   "execution_count": 14,
   "metadata": {
    "collapsed": false
   },
   "outputs": [
    {
     "data": {
      "text/latex": [
       "$$\\left(x + 1\\right)^{2}$$"
      ],
      "text/plain": [
       "       2\n",
       "(x + 1) "
      ]
     },
     "execution_count": 14,
     "metadata": {},
     "output_type": "execute_result"
    }
   ],
   "source": [
    "factor(x^2 + 2x + 1)"
   ]
  },
  {
   "cell_type": "markdown",
   "metadata": {},
   "source": [
    "```SymPy``` оставит члены в факторизованной форме. Чтобы раскрыть скобки, можно воспользоваться функцией ```expand```:"
   ]
  },
  {
   "cell_type": "code",
   "execution_count": 15,
   "metadata": {
    "collapsed": false
   },
   "outputs": [
    {
     "data": {
      "text/latex": [
       "$$x^{3} + 6 x^{2} + 11 x + 6$$"
      ],
      "text/plain": [
       " 3      2           \n",
       "x  + 6*x  + 11*x + 6"
      ]
     },
     "execution_count": 15,
     "metadata": {},
     "output_type": "execute_result"
    }
   ],
   "source": [
    "expand( (x+1)*(x+2)*(x+3) )"
   ]
  },
  {
   "cell_type": "markdown",
   "metadata": {},
   "source": [
    "### Решение уравнений\n",
    "С помощью ```SymPy``` уравнения можно решать несколькими способами, среди которых с использованием функций ```factor```, ```polyroots```, ```real_roots```, ```solve``` и ```nsolve```.\n",
    "\n",
    "Прежде всего, в случае <i>полиномных</i> (или рациональных) функций мы используем ```factor```:"
   ]
  },
  {
   "cell_type": "code",
   "execution_count": 16,
   "metadata": {
    "collapsed": false
   },
   "outputs": [
    {
     "data": {
      "text/latex": [
       "$$x^{5} - 5 x^{4} + 6 x^{3} - x^{2} + 5 x - 6$$"
      ],
      "text/plain": [
       " 5      4      3    2          \n",
       "x  - 5*x  + 6*x  - x  + 5*x - 6"
      ]
     },
     "execution_count": 16,
     "metadata": {},
     "output_type": "execute_result"
    }
   ],
   "source": [
    "p = expand((x-1)*(x-2)*(x-3)*(x^2 + x + 1))"
   ]
  },
  {
   "cell_type": "code",
   "execution_count": 17,
   "metadata": {
    "collapsed": false
   },
   "outputs": [
    {
     "data": {
      "text/latex": [
       "$$\\left(x - 3\\right) \\left(x - 2\\right) \\left(x - 1\\right) \\left(x^{2} + x + 1\\right)$$"
      ],
      "text/plain": [
       "                        / 2        \\\n",
       "(x - 3)*(x - 2)*(x - 1)*\\x  + x + 1/"
      ]
     },
     "execution_count": 17,
     "metadata": {},
     "output_type": "execute_result"
    }
   ],
   "source": [
    "factor(p)"
   ]
  },
  {
   "cell_type": "markdown",
   "metadata": {},
   "source": [
    "Можно убедиться, что линейные члены соответствуют корням. \n",
    "Функция ```polyroots``` возвращает словарь корней и их кратности."
   ]
  },
  {
   "cell_type": "code",
   "execution_count": 18,
   "metadata": {
    "collapsed": false
   },
   "outputs": [
    {
     "data": {
      "text/latex": [
       "\\begin{equation*}\\begin{cases}1 & \\text{=>} &1\\\\3 & \\text{=>} &1\\\\- \\frac{1}{2} - \\frac{\\sqrt{3} i}{2} & \\text{=>} &1\\\\- \\frac{1}{2} + \\frac{\\sqrt{3} i}{2} & \\text{=>} &1\\\\2 & \\text{=>} &1\\\\\\end{cases}\\end{equation*}"
      ],
      "text/plain": [
       "Dict{Any,Any} with 5 entries:\n",
       "  1                  => 1\n",
       "  3                  => 1\n",
       "  -1/2 - sqrt(3)*I/2 => 1\n",
       "  -1/2 + sqrt(3)*I/2 => 1\n",
       "  2                  => 1"
      ]
     },
     "execution_count": 18,
     "metadata": {},
     "output_type": "execute_result"
    }
   ],
   "source": [
    "polyroots(p)"
   ]
  },
  {
   "cell_type": "markdown",
   "metadata": {},
   "source": [
    "Если кратности не интересуют, можно просто получить одни ключи; это делается так:"
   ]
  },
  {
   "cell_type": "code",
   "execution_count": 19,
   "metadata": {
    "collapsed": false
   },
   "outputs": [
    {
     "data": {
      "text/latex": [
       "\\begin{bmatrix}1\\\\3\\\\- \\frac{1}{2} - \\frac{\\sqrt{3} i}{2}\\\\- \\frac{1}{2} + \\frac{\\sqrt{3} i}{2}\\\\2\\end{bmatrix}"
      ],
      "text/plain": [
       "5-element Array{SymPy.Sym,1}\n",
       "[      1      ]\n",
       "[             ]\n",
       "[      3      ]\n",
       "[             ]\n",
       "[        ___  ]\n",
       "[  1   \\/ 3 *I]\n",
       "[- - - -------]\n",
       "[  2      2   ]\n",
       "[             ]\n",
       "[        ___  ]\n",
       "[  1   \\/ 3 *I]\n",
       "[- - + -------]\n",
       "[  2      2   ]\n",
       "[             ]\n",
       "[      2      ]"
      ]
     },
     "execution_count": 19,
     "metadata": {},
     "output_type": "execute_result"
    }
   ],
   "source": [
    "Sym[k for (k,v) in polyroots(p)]"
   ]
  },
  {
   "cell_type": "markdown",
   "metadata": {},
   "source": [
    "В данном случае имеются также 2 комплексных корня, которые функция ```factor``` оставила как есть. Операция разложения редуцируется на рациональных числах, не вещественных (область определения можно настроить). Например, это квадратичное уравнение не будет разложено, даже если оно дает вещественный результат:"
   ]
  },
  {
   "cell_type": "code",
   "execution_count": 20,
   "metadata": {
    "collapsed": false
   },
   "outputs": [
    {
     "data": {
      "text/latex": [
       "$$x^{2} - 8 x + 8$$"
      ],
      "text/plain": [
       " 2          \n",
       "x  - 8*x + 8"
      ]
     },
     "execution_count": 20,
     "metadata": {},
     "output_type": "execute_result"
    }
   ],
   "source": [
    "q = x^2 - 8x + 8"
   ]
  },
  {
   "cell_type": "code",
   "execution_count": 21,
   "metadata": {
    "collapsed": false
   },
   "outputs": [
    {
     "data": {
      "text/latex": [
       "$$x^{2} - 8 x + 8$$"
      ],
      "text/plain": [
       " 2          \n",
       "x  - 8*x + 8"
      ]
     },
     "execution_count": 21,
     "metadata": {},
     "output_type": "execute_result"
    }
   ],
   "source": [
    "factor(q)"
   ]
  },
  {
   "cell_type": "markdown",
   "metadata": {},
   "source": [
    "Однако, функция ```polyroots``` сработает:"
   ]
  },
  {
   "cell_type": "code",
   "execution_count": 22,
   "metadata": {
    "collapsed": false
   },
   "outputs": [
    {
     "data": {
      "text/latex": [
       "\\begin{equation*}\\begin{cases}- 2 \\sqrt{2} + 4 & \\text{=>} &1\\\\2 \\sqrt{2} + 4 & \\text{=>} &1\\\\\\end{cases}\\end{equation*}"
      ],
      "text/plain": [
       "Dict{Any,Any} with 2 entries:\n",
       "  -2*sqrt(2) + 4 => 1\n",
       "  2*sqrt(2) + 4  => 1"
      ]
     },
     "execution_count": 22,
     "metadata": {},
     "output_type": "execute_result"
    }
   ],
   "source": [
    "polyroots(q)"
   ]
  },
  {
   "cell_type": "markdown",
   "metadata": {},
   "source": [
    "Базовое правило: каждому линейному множителю на комплексных числах поставлен в соответствие корень, и наоборот, с учетом кратности.\n",
    "\n",
    "Функция ```real_roots``` пытается вернуть вещественные корни (исключая не вещественные). Здесь мы видим, что для некоторых многочленов она дает сбой тогда, как ```polyroots``` нет:"
   ]
  },
  {
   "cell_type": "code",
   "execution_count": 23,
   "metadata": {
    "collapsed": false
   },
   "outputs": [
    {
     "data": {
      "text/latex": [
       "\\begin{bmatrix}\\operatorname{CRootOf} {\\left(x^{4} - 8 x^{2} + 8, 0\\right)}\\\\\\operatorname{CRootOf} {\\left(x^{4} - 8 x^{2} + 8, 1\\right)}\\\\\\operatorname{CRootOf} {\\left(x^{4} - 8 x^{2} + 8, 2\\right)}\\\\\\operatorname{CRootOf} {\\left(x^{4} - 8 x^{2} + 8, 3\\right)}\\end{bmatrix}"
      ],
      "text/plain": [
       "4-element Array{SymPy.Sym,1}\n",
       "[       / 4      2       \\]\n",
       "[CRootOf\\x  - 8*x  + 8, 0/]\n",
       "[                         ]\n",
       "[       / 4      2       \\]\n",
       "[CRootOf\\x  - 8*x  + 8, 1/]\n",
       "[                         ]\n",
       "[       / 4      2       \\]\n",
       "[CRootOf\\x  - 8*x  + 8, 2/]\n",
       "[                         ]\n",
       "[       / 4      2       \\]\n",
       "[CRootOf\\x  - 8*x  + 8, 3/]"
      ]
     },
     "execution_count": 23,
     "metadata": {},
     "output_type": "execute_result"
    }
   ],
   "source": [
    "q = x^4 - 8x^2 + 8\n",
    "real_roots(q)               # должна найти 4"
   ]
  },
  {
   "cell_type": "markdown",
   "metadata": {},
   "source": [
    "(слово \"сбой\" использовано не совсем правильно, так как в приведенном примере фактически корни найдены, но только не символически. Чтобы получить численные аппроксимации, надо просто обратиться к функции ```N```, как ```N(real_roots(q))``` )\n",
    "\n",
    "Для решения уравнений вида $expr = 0$ для переменной x используется функция ```solve```. Переменная ```q``` может быть решена:"
   ]
  },
  {
   "cell_type": "code",
   "execution_count": 24,
   "metadata": {
    "collapsed": false
   },
   "outputs": [
    {
     "data": {
      "text/latex": [
       "\\begin{bmatrix}- \\sqrt{- 2 \\sqrt{2} + 4}\\\\\\sqrt{- 2 \\sqrt{2} + 4}\\\\- \\sqrt{2 \\sqrt{2} + 4}\\\\\\sqrt{2 \\sqrt{2} + 4}\\end{bmatrix}"
      ],
      "text/plain": [
       "4-element Array{SymPy.Sym,1}\n",
       "[    _______________]\n",
       "[   /       ___     ]\n",
       "[-\\/  - 2*\\/ 2  + 4 ]\n",
       "[                   ]\n",
       "[   _______________ ]\n",
       "[  /       ___      ]\n",
       "[\\/  - 2*\\/ 2  + 4  ]\n",
       "[                   ]\n",
       "[     _____________ ]\n",
       "[    /     ___      ]\n",
       "[ -\\/  2*\\/ 2  + 4  ]\n",
       "[                   ]\n",
       "[    _____________  ]\n",
       "[   /     ___       ]\n",
       "[ \\/  2*\\/ 2  + 4   ]"
      ]
     },
     "execution_count": 24,
     "metadata": {},
     "output_type": "execute_result"
    }
   ],
   "source": [
    "solve(q)"
   ]
  },
  {
   "cell_type": "markdown",
   "metadata": {},
   "source": [
    "Не ясно, которая из них вещественная. Чтобы проверить, их можно конвертировать в числовые значения Julia посредством ```N```:"
   ]
  },
  {
   "cell_type": "code",
   "execution_count": 25,
   "metadata": {
    "collapsed": false
   },
   "outputs": [
    {
     "data": {
      "text/plain": [
       "4-element Array{Float64,1}:\n",
       " -1.08239\n",
       "  1.08239\n",
       " -2.61313\n",
       "  2.61313"
      ]
     },
     "execution_count": 25,
     "metadata": {},
     "output_type": "execute_result"
    }
   ],
   "source": [
    "as = solve(q)\n",
    "map(N, as)               # все вещественные"
   ]
  },
  {
   "cell_type": "markdown",
   "metadata": {},
   "source": [
    "Можно также попытаться преобразовать в комплексные числа и посмотреть, какие из них имеют значения ```0.0im``` в своих мнимых частях.\n",
    "\n",
    "Функция ```solve``` выполняет решение, когда выражение равно ```0```. Иногда стоит задача найти, когда выражение $f(x) = g(x)$, например, $2x^2 = exp(x)$. Здесь мы видим:"
   ]
  },
  {
   "cell_type": "code",
   "execution_count": 23,
   "metadata": {
    "collapsed": false
   },
   "outputs": [
    {
     "data": {
      "text/latex": [
       "\\begin{bmatrix}- 2 \\operatorname{LambertW}{\\left (- \\frac{\\sqrt{2}}{4} \\right )}\\\\- 2 \\operatorname{LambertW}{\\left (- \\frac{\\sqrt{2}}{4},-1 \\right )}\\end{bmatrix}"
      ],
      "text/plain": [
       "2-element Array{SymPy.Sym,1}\n",
       "[             /   ___ \\  ]\n",
       "[             |-\\/ 2  |  ]\n",
       "[  -2*LambertW|-------|  ]\n",
       "[             \\   4   /  ]\n",
       "[                        ]\n",
       "[           /   ___     \\]\n",
       "[           |-\\/ 2      |]\n",
       "[-2*LambertW|-------, -1|]\n",
       "[           \\   4       /]"
      ]
     },
     "execution_count": 23,
     "metadata": {},
     "output_type": "execute_result"
    }
   ],
   "source": [
    "solve(exp(x) - 2x^2, x)         # 1.487..."
   ]
  },
  {
   "cell_type": "markdown",
   "metadata": {},
   "source": [
    "Функция ```solve``` находит только один из двух ответов. Второй можно найти при помощи функции ```nsolve```, которая представляет собой численный алгоритм поиска нуля, начиная с первоначального предположения (которое часто строится на основе построения простого графика):"
   ]
  },
  {
   "cell_type": "code",
   "execution_count": 27,
   "metadata": {
    "collapsed": false
   },
   "outputs": [
    {
     "data": {
      "text/plain": [
       "2.617866613066812769178978059143202817320274359410482919210508161040370325331988"
      ]
     },
     "execution_count": 27,
     "metadata": {},
     "output_type": "execute_result"
    }
   ],
   "source": [
    "nsolve(exp(x) - 2x^2, x, 3)     # 2.617..."
   ]
  },
  {
   "cell_type": "markdown",
   "metadata": {},
   "source": [
    "Тригонометрические функции имеют бесконечное множество решений, и с функцией ```sin``` пакет ```SymPy``` выполняет решение только в пределах диапазона $[−90,90]$ градусов (диапазона функции ```asin```)."
   ]
  },
  {
   "cell_type": "code",
   "execution_count": 28,
   "metadata": {
    "collapsed": false
   },
   "outputs": [
    {
     "data": {
      "text/plain": [
       "4-element Array{Any,1}:\n",
       " -94.2477796076938/pi\n",
       "  94.2477796076938/pi\n",
       "  471.238898038469/pi\n",
       "  659.734457253857/pi"
      ]
     },
     "execution_count": 28,
     "metadata": {},
     "output_type": "execute_result"
    }
   ],
   "source": [
    "solve(sin(x)^2 - (1/2)^2) * 180 / pi"
   ]
  },
  {
   "cell_type": "markdown",
   "metadata": {},
   "source": [
    "Чтобы решить выражение в другой переменной, мы задаем ее во втором аргументе:"
   ]
  },
  {
   "cell_type": "code",
   "execution_count": 29,
   "metadata": {
    "collapsed": false
   },
   "outputs": [
    {
     "data": {
      "text/latex": [
       "\\begin{bmatrix}- \\sqrt{- x^{2} + 1}\\\\\\sqrt{- x^{2} + 1}\\end{bmatrix}"
      ],
      "text/plain": [
       "2-element Array{SymPy.Sym,1}\n",
       "[    __________]\n",
       "[   /    2     ]\n",
       "[-\\/  - x  + 1 ]\n",
       "[              ]\n",
       "[   __________ ]\n",
       "[  /    2      ]\n",
       "[\\/  - x  + 1  ]"
      ]
     },
     "execution_count": 29,
     "metadata": {},
     "output_type": "execute_result"
    }
   ],
   "source": [
    "out = solve(x^2 + y^2 - 1, y)"
   ]
  },
  {
   "cell_type": "markdown",
   "metadata": {},
   "source": [
    "В результате получим вектор из двух символических ответов, так как вычисляемое выражение является квадратичным. Затем мы можем вычислить эти два значения в точке, скажем, $x=1/2$, как и прежде:"
   ]
  },
  {
   "cell_type": "code",
   "execution_count": 42,
   "metadata": {
    "collapsed": false
   },
   "outputs": [
    {
     "data": {
      "text/plain": [
       "2x1 Array{Float64,2}:\n",
       " -0.866025\n",
       "  0.866025"
      ]
     },
     "execution_count": 42,
     "metadata": {},
     "output_type": "execute_result"
    }
   ],
   "source": [
    "out |> subs(x, 1/2) |> N"
   ]
  },
  {
   "cell_type": "markdown",
   "metadata": {},
   "source": [
    "Можно даже решать системы уравнений. Для этого требуется указать систему и переменные для которых она решается, используя вектор:"
   ]
  },
  {
   "cell_type": "code",
   "execution_count": 43,
   "metadata": {
    "collapsed": false
   },
   "outputs": [
    {
     "data": {
      "text/latex": [
       "\\begin{equation*}\\begin{cases}y & \\text{=>} &1\\\\x & \\text{=>} &0\\\\\\end{cases}\\end{equation*}"
      ],
      "text/plain": [
       "Dict{SymPy.Sym,SymPy.Sym} with 2 entries:\n",
       "  y => 1\n",
       "  x => 0"
      ]
     },
     "execution_count": 43,
     "metadata": {},
     "output_type": "execute_result"
    }
   ],
   "source": [
    "x, y = Sym(\"x\", \"y\")\n",
    "eq1 = x + y -1\n",
    "eq2 = x - y - (-1)\n",
    "solve([eq1, eq2], [x,y])"
   ]
  },
  {
   "cell_type": "markdown",
   "metadata": {},
   "source": [
    "## Построение графиков выражений\n",
    "Построение графика символического выражения выполняется путем приведения символического выражения к функции. Для простых графиков это выполняется незаметно:"
   ]
  },
  {
   "cell_type": "code",
   "execution_count": 48,
   "metadata": {
    "collapsed": false
   },
   "outputs": [
    {
     "data": {
      "text/latex": [
       "$$x^{2} - 2 x + 4$$"
      ],
      "text/plain": [
       " 2          \n",
       "x  - 2*x + 4"
      ]
     },
     "execution_count": 48,
     "metadata": {},
     "output_type": "execute_result"
    }
   ],
   "source": [
    "ex = x^2 - 2x + 4"
   ]
  },
  {
   "cell_type": "code",
   "execution_count": 18,
   "metadata": {
    "collapsed": false
   },
   "outputs": [
    {
     "data": {
      "image/svg+xml": [
       "<?xml version=\"1.0\" encoding=\"UTF-8\"?>\n",
       "<svg xmlns=\"http://www.w3.org/2000/svg\"\n",
       "     xmlns:xlink=\"http://www.w3.org/1999/xlink\"\n",
       "     xmlns:gadfly=\"http://www.gadflyjl.org/ns\"\n",
       "     version=\"1.2\"\n",
       "     width=\"158.73mm\" height=\"105.82mm\" viewBox=\"0 0 158.73 105.82\"\n",
       "     stroke=\"none\"\n",
       "     fill=\"#000000\"\n",
       "     stroke-width=\"0.3\"\n",
       "     font-size=\"3.88\"\n",
       ">\n",
       "<g stroke=\"#000000\" stroke-opacity=\"0.000\" fill=\"#FFFFFF\" id=\"img-27fc52cd-1\">\n",
       "  <rect x=\"0\" y=\"0\" width=\"158.73\" height=\"105.82\"/>\n",
       "</g>\n",
       "<g class=\"plotroot xscalable yscalable\" id=\"img-27fc52cd-2\">\n",
       "  <g class=\"guide xlabels\" font-size=\"2.82\" font-family=\"Helvetica\" fill=\"#000000\" id=\"img-27fc52cd-3\">\n",
       "    <text x=\"6.57\" y=\"101.19\" text-anchor=\"middle\" dy=\"0.6em\">-1</text>\n",
       "    <text x=\"42.16\" y=\"101.19\" text-anchor=\"middle\" dy=\"0.6em\">0</text>\n",
       "    <text x=\"77.75\" y=\"101.19\" text-anchor=\"middle\" dy=\"0.6em\">1</text>\n",
       "    <text x=\"113.34\" y=\"101.19\" text-anchor=\"middle\" dy=\"0.6em\">2</text>\n",
       "    <text x=\"148.93\" y=\"101.19\" text-anchor=\"middle\" dy=\"0.6em\">3</text>\n",
       "  </g>\n",
       "  <g class=\"guide colorkey\" id=\"img-27fc52cd-4\">\n",
       "    <g fill=\"#000000\" font-size=\"2.82\" font-family=\"Helvetica\" id=\"img-27fc52cd-5\">\n",
       "      <text x=\"154.75\" y=\"52.41\" dy=\"0.35em\">y1</text>\n",
       "    </g>\n",
       "    <g fill=\"#009AFA\" stroke=\"#000000\" stroke-opacity=\"0.000\" id=\"img-27fc52cd-6\">\n",
       "      <rect x=\"151.93\" y=\"51.5\" width=\"1.82\" height=\"1.82\"/>\n",
       "    </g>\n",
       "    <g fill=\"#000000\" font-size=\"3.88\" font-family=\"Helvetica\" stroke=\"#000000\" stroke-opacity=\"0.000\" id=\"img-27fc52cd-7\">\n",
       "      <text x=\"151.93\" y=\"48.59\"></text>\n",
       "    </g>\n",
       "  </g>\n",
       "<g clip-path=\"url(#img-27fc52cd-8)\">\n",
       "  <g id=\"img-27fc52cd-9\">\n",
       "    <g pointer-events=\"visible\" opacity=\"1\" fill=\"#000000\" fill-opacity=\"0.000\" stroke=\"#000000\" stroke-opacity=\"0.000\" class=\"guide background\" id=\"img-27fc52cd-10\">\n",
       "      <rect x=\"4.57\" y=\"1\" width=\"146.37\" height=\"99.19\"/>\n",
       "    </g>\n",
       "    <g class=\"guide ygridlines xfixed\" stroke-dasharray=\"0.5,0.5\" stroke-width=\"0.2\" stroke=\"#D0D0E0\" id=\"img-27fc52cd-11\">\n",
       "      <path fill=\"none\" d=\"M4.57,98.19 L 150.93 98.19\"/>\n",
       "      <path fill=\"none\" d=\"M4.57,74.39 L 150.93 74.39\"/>\n",
       "      <path fill=\"none\" d=\"M4.57,50.59 L 150.93 50.59\"/>\n",
       "      <path fill=\"none\" d=\"M4.57,26.8 L 150.93 26.8\"/>\n",
       "      <path fill=\"none\" d=\"M4.57,3 L 150.93 3\"/>\n",
       "    </g>\n",
       "    <g class=\"guide xgridlines yfixed\" stroke-dasharray=\"0.5,0.5\" stroke-width=\"0.2\" stroke=\"#D0D0E0\" id=\"img-27fc52cd-12\">\n",
       "      <path fill=\"none\" d=\"M6.57,1 L 6.57 100.19\"/>\n",
       "      <path fill=\"none\" d=\"M42.16,1 L 42.16 100.19\"/>\n",
       "      <path fill=\"none\" d=\"M77.75,1 L 77.75 100.19\"/>\n",
       "      <path fill=\"none\" d=\"M113.34,1 L 113.34 100.19\"/>\n",
       "      <path fill=\"none\" d=\"M148.93,1 L 148.93 100.19\"/>\n",
       "    </g>\n",
       "    <g class=\"plotpanel\" id=\"img-27fc52cd-13\">\n",
       "      <g stroke-width=\"0.26\" fill=\"#000000\" fill-opacity=\"0.000\" class=\"geometry\" stroke-dasharray=\"none\" stroke=\"#009AFA\" id=\"img-27fc52cd-14\">\n",
       "        <path fill=\"none\" d=\"M6.57,3 L 6.8 3.63 7.04 4.27 7.28 4.9 7.52 5.53 7.76 6.15 7.99 6.78 8.23 7.4 8.47 8.02 8.71 8.63 8.94 9.25 9.18 9.86 9.42 10.47 9.66 11.08 9.89 11.69 10.13 12.3 10.37 12.9 10.61 13.5 10.84 14.1 11.08 14.69 11.32 15.29 11.56 15.88 11.8 16.47 12.03 17.06 12.27 17.64 12.51 18.23 12.75 18.81 12.98 19.39 13.22 19.97 13.46 20.54 13.7 21.11 13.93 21.68 14.17 22.25 14.41 22.82 14.65 23.38 14.89 23.95 15.12 24.51 15.36 25.07 15.6 25.62 15.84 26.18 16.07 26.73 16.31 27.28 16.55 27.82 16.79 28.37 17.02 28.91 17.26 29.45 17.5 29.99 17.74 30.53 17.98 31.07 18.21 31.6 18.45 32.13 18.69 32.66 18.93 33.18 19.16 33.71 19.4 34.23 19.64 34.75 19.88 35.27 20.11 35.78 20.35 36.3 20.59 36.81 20.83 37.32 21.06 37.83 21.3 38.33 21.54 38.83 21.78 39.33 22.02 39.83 22.25 40.33 22.49 40.82 22.73 41.32 22.97 41.81 23.2 42.29 23.44 42.78 23.68 43.26 23.92 43.75 24.15 44.23 24.39 44.7 24.63 45.18 24.87 45.65 25.11 46.12 25.34 46.59 25.58 47.06 25.82 47.52 26.06 47.99 26.29 48.45 26.53 48.91 26.77 49.36 27.01 49.82 27.24 50.27 27.48 50.72 27.72 51.17 27.96 51.61 28.2 52.06 28.43 52.5 28.67 52.94 28.91 53.37 29.15 53.81 29.38 54.24 29.62 54.67 29.86 55.1 30.1 55.53 30.33 55.95 30.57 56.37 30.81 56.79 31.05 57.21 31.28 57.63 31.52 58.04 31.76 58.45 32 58.86 32.24 59.27 32.47 59.68 32.71 60.08 32.95 60.48 33.19 60.88 33.42 61.28 33.66 61.67 33.9 62.06 34.14 62.45 34.37 62.84 34.61 63.23 34.85 63.61 35.09 64 35.33 64.38 35.56 64.75 35.8 65.13 36.04 65.5 36.28 65.87 36.51 66.24 36.75 66.61 36.99 66.98 37.23 67.34 37.46 67.7 37.7 68.06 37.94 68.41 38.18 68.77 38.42 69.12 38.65 69.47 38.89 69.82 39.13 70.17 39.37 70.51 39.6 70.85 39.84 71.19 40.08 71.53 40.32 71.86 40.55 72.2 40.79 72.53 41.03 72.86 41.27 73.18 41.5 73.51 41.74 73.83 41.98 74.15 42.22 74.47 42.46 74.79 42.69 75.1 42.93 75.41 43.17 75.72 43.41 76.03 43.64 76.33 43.88 76.64 44.12 76.94 44.36 77.24 44.59 77.54 44.83 77.83 45.07 78.12 45.31 78.41 45.55 78.7 45.78 78.99 46.02 79.27 46.26 79.56 46.5 79.84 46.73 80.11 46.97 80.39 47.21 80.66 47.45 80.94 47.68 81.21 47.92 81.47 48.16 81.74 48.4 82 48.63 82.26 48.87 82.52 49.11 82.78 49.35 83.03 49.59 83.29 49.82 83.54 50.06 83.78 50.3 84.03 50.54 84.27 50.77 84.52 51.01 84.76 51.25 84.99 51.49 85.23 51.72 85.46 51.96 85.69 52.2 85.92 52.44 86.15 52.68 86.38 52.91 86.6 53.15 86.82 53.39 87.04 53.63 87.25 53.86 87.47 54.1 87.68 54.34 87.89 54.58 88.1 54.81 88.3 55.05 88.51 55.29 88.71 55.53 88.91 55.77 89.11 56 89.3 56.24 89.5 56.48 89.69 56.72 89.88 56.95 90.06 57.19 90.25 57.43 90.43 57.67 90.61 57.9 90.79 58.14 90.96 58.38 91.14 58.62 91.31 58.85 91.48 59.09 91.65 59.33 91.81 59.57 91.98 59.81 92.14 60.04 92.3 60.28 92.45 60.52 92.61 60.76 92.76 60.99 92.91 61.23 93.06 61.47 93.21 61.71 93.35 61.94 93.49 62.18 93.63 62.42 93.77 62.66 93.91 62.9 94.04 63.13 94.17 63.37 94.3 63.61 94.43 63.85 94.56 64.08 94.68 64.32 94.8 64.56 94.92 64.8 95.03 65.03 95.15 65.27 95.26 65.51 95.37 65.75 95.48 65.99 95.59 66.22 95.69 66.46 95.79 66.7 95.89 66.94 95.99 67.17 96.09 67.41 96.18 67.65 96.27 67.89 96.36 68.12 96.45 68.36 96.53 68.6 96.61 68.84 96.69 69.07 96.77 69.31 96.85 69.55 96.92 69.79 97 70.03 97.07 70.26 97.13 70.5 97.2 70.74 97.26 70.98 97.32 71.21 97.38 71.45 97.44 71.69 97.5 71.93 97.55 72.16 97.6 72.4 97.65 72.64 97.7 72.88 97.74 73.12 97.78 73.35 97.82 73.59 97.86 73.83 97.9 74.07 97.93 74.3 97.96 74.54 97.99 74.78 98.02 75.02 98.05 75.25 98.07 75.49 98.09 75.73 98.11 75.97 98.13 76.21 98.14 76.44 98.15 76.68 98.17 76.92 98.17 77.16 98.18 77.39 98.18 77.63 98.19 77.87 98.19 78.11 98.18 78.34 98.18 78.58 98.17 78.82 98.17 79.06 98.15 79.29 98.14 79.53 98.13 79.77 98.11 80.01 98.09 80.25 98.07 80.48 98.05 80.72 98.02 80.96 97.99 81.2 97.96 81.43 97.93 81.67 97.9 81.91 97.86 82.15 97.82 82.38 97.78 82.62 97.74 82.86 97.7 83.1 97.65 83.34 97.6 83.57 97.55 83.81 97.5 84.05 97.44 84.29 97.38 84.52 97.32 84.76 97.26 85 97.2 85.24 97.13 85.47 97.07 85.71 97 85.95 96.92 86.19 96.85 86.43 96.77 86.66 96.69 86.9 96.61 87.14 96.53 87.38 96.45 87.61 96.36 87.85 96.27 88.09 96.18 88.33 96.09 88.56 95.99 88.8 95.89 89.04 95.79 89.28 95.69 89.51 95.59 89.75 95.48 89.99 95.37 90.23 95.26 90.47 95.15 90.7 95.03 90.94 94.92 91.18 94.8 91.42 94.68 91.65 94.56 91.89 94.43 92.13 94.3 92.37 94.17 92.6 94.04 92.84 93.91 93.08 93.77 93.32 93.63 93.56 93.49 93.79 93.35 94.03 93.21 94.27 93.06 94.51 92.91 94.74 92.76 94.98 92.61 95.22 92.45 95.46 92.3 95.69 92.14 95.93 91.98 96.17 91.81 96.41 91.65 96.65 91.48 96.88 91.31 97.12 91.14 97.36 90.96 97.6 90.79 97.83 90.61 98.07 90.43 98.31 90.25 98.55 90.06 98.78 89.88 99.02 89.69 99.26 89.5 99.5 89.3 99.73 89.11 99.97 88.91 100.21 88.71 100.45 88.51 100.69 88.3 100.92 88.1 101.16 87.89 101.4 87.68 101.64 87.47 101.87 87.25 102.11 87.04 102.35 86.82 102.59 86.6 102.82 86.38 103.06 86.15 103.3 85.92 103.54 85.69 103.78 85.46 104.01 85.23 104.25 84.99 104.49 84.76 104.73 84.52 104.96 84.27 105.2 84.03 105.44 83.78 105.68 83.54 105.91 83.29 106.15 83.03 106.39 82.78 106.63 82.52 106.87 82.26 107.1 82 107.34 81.74 107.58 81.47 107.82 81.21 108.05 80.94 108.29 80.66 108.53 80.39 108.77 80.11 109 79.84 109.24 79.56 109.48 79.27 109.72 78.99 109.95 78.7 110.19 78.41 110.43 78.12 110.67 77.83 110.91 77.54 111.14 77.24 111.38 76.94 111.62 76.64 111.86 76.33 112.09 76.03 112.33 75.72 112.57 75.41 112.81 75.1 113.04 74.79 113.28 74.47 113.52 74.15 113.76 73.83 114 73.51 114.23 73.18 114.47 72.86 114.71 72.53 114.95 72.2 115.18 71.86 115.42 71.53 115.66 71.19 115.9 70.85 116.13 70.51 116.37 70.17 116.61 69.82 116.85 69.47 117.09 69.12 117.32 68.77 117.56 68.41 117.8 68.06 118.04 67.7 118.27 67.34 118.51 66.98 118.75 66.61 118.99 66.24 119.22 65.87 119.46 65.5 119.7 65.13 119.94 64.75 120.17 64.38 120.41 64 120.65 63.61 120.89 63.23 121.13 62.84 121.36 62.45 121.6 62.06 121.84 61.67 122.08 61.28 122.31 60.88 122.55 60.48 122.79 60.08 123.03 59.68 123.26 59.27 123.5 58.86 123.74 58.45 123.98 58.04 124.22 57.63 124.45 57.21 124.69 56.79 124.93 56.37 125.17 55.95 125.4 55.53 125.64 55.1 125.88 54.67 126.12 54.24 126.35 53.81 126.59 53.37 126.83 52.94 127.07 52.5 127.31 52.06 127.54 51.61 127.78 51.17 128.02 50.72 128.26 50.27 128.49 49.82 128.73 49.36 128.97 48.91 129.21 48.45 129.44 47.99 129.68 47.52 129.92 47.06 130.16 46.59 130.39 46.12 130.63 45.65 130.87 45.18 131.11 44.7 131.35 44.23 131.58 43.75 131.82 43.26 132.06 42.78 132.3 42.29 132.53 41.81 132.77 41.32 133.01 40.82 133.25 40.33 133.48 39.83 133.72 39.33 133.96 38.83 134.2 38.33 134.44 37.83 134.67 37.32 134.91 36.81 135.15 36.3 135.39 35.78 135.62 35.27 135.86 34.75 136.1 34.23 136.34 33.71 136.57 33.18 136.81 32.66 137.05 32.13 137.29 31.6 137.53 31.07 137.76 30.53 138 29.99 138.24 29.45 138.48 28.91 138.71 28.37 138.95 27.82 139.19 27.28 139.43 26.73 139.66 26.18 139.9 25.62 140.14 25.07 140.38 24.51 140.61 23.95 140.85 23.38 141.09 22.82 141.33 22.25 141.57 21.68 141.8 21.11 142.04 20.54 142.28 19.97 142.52 19.39 142.75 18.81 142.99 18.23 143.23 17.64 143.47 17.06 143.7 16.47 143.94 15.88 144.18 15.29 144.42 14.69 144.66 14.1 144.89 13.5 145.13 12.9 145.37 12.3 145.61 11.69 145.84 11.08 146.08 10.47 146.32 9.86 146.56 9.25 146.79 8.63 147.03 8.02 147.27 7.4 147.51 6.78 147.75 6.15 147.98 5.53 148.22 4.9 148.46 4.27 148.7 3.63 148.93 3\"/>\n",
       "      </g>\n",
       "    </g>\n",
       "  </g>\n",
       "</g>\n",
       "  <g class=\"guide ylabels\" font-size=\"2.82\" font-family=\"Helvetica\" fill=\"#000000\" id=\"img-27fc52cd-15\">\n",
       "    <text x=\"3.57\" y=\"98.19\" text-anchor=\"end\" dy=\"0.35em\">3</text>\n",
       "    <text x=\"3.57\" y=\"74.39\" text-anchor=\"end\" dy=\"0.35em\">4</text>\n",
       "    <text x=\"3.57\" y=\"50.59\" text-anchor=\"end\" dy=\"0.35em\">5</text>\n",
       "    <text x=\"3.57\" y=\"26.8\" text-anchor=\"end\" dy=\"0.35em\">6</text>\n",
       "    <text x=\"3.57\" y=\"3\" text-anchor=\"end\" dy=\"0.35em\">7</text>\n",
       "  </g>\n",
       "</g>\n",
       "<defs>\n",
       "  <clipPath id=\"img-27fc52cd-8\">\n",
       "  <path d=\"M4.57,1 L 150.93 1 150.93 100.19 4.57 100.19\" />\n",
       "</clipPath>\n",
       "</defs>\n",
       "</svg>\n"
      ],
      "text/html": [
       "<?xml version=\"1.0\" encoding=\"UTF-8\"?>\n",
       "<svg xmlns=\"http://www.w3.org/2000/svg\"\n",
       "     xmlns:xlink=\"http://www.w3.org/1999/xlink\"\n",
       "     xmlns:gadfly=\"http://www.gadflyjl.org/ns\"\n",
       "     version=\"1.2\"\n",
       "     width=\"158.73mm\" height=\"105.82mm\" viewBox=\"0 0 158.73 105.82\"\n",
       "     stroke=\"none\"\n",
       "     fill=\"#000000\"\n",
       "     stroke-width=\"0.3\"\n",
       "     font-size=\"3.88\"\n",
       ">\n",
       "<g stroke=\"#000000\" stroke-opacity=\"0.000\" fill=\"#FFFFFF\" id=\"img-27fc52cd-1\">\n",
       "  <rect x=\"0\" y=\"0\" width=\"158.73\" height=\"105.82\"/>\n",
       "</g>\n",
       "<g class=\"plotroot xscalable yscalable\" id=\"img-27fc52cd-2\">\n",
       "  <g class=\"guide xlabels\" font-size=\"2.82\" font-family=\"Helvetica\" fill=\"#000000\" id=\"img-27fc52cd-3\">\n",
       "    <text x=\"6.57\" y=\"101.19\" text-anchor=\"middle\" dy=\"0.6em\">-1</text>\n",
       "    <text x=\"42.16\" y=\"101.19\" text-anchor=\"middle\" dy=\"0.6em\">0</text>\n",
       "    <text x=\"77.75\" y=\"101.19\" text-anchor=\"middle\" dy=\"0.6em\">1</text>\n",
       "    <text x=\"113.34\" y=\"101.19\" text-anchor=\"middle\" dy=\"0.6em\">2</text>\n",
       "    <text x=\"148.93\" y=\"101.19\" text-anchor=\"middle\" dy=\"0.6em\">3</text>\n",
       "  </g>\n",
       "  <g class=\"guide colorkey\" id=\"img-27fc52cd-4\">\n",
       "    <g fill=\"#000000\" font-size=\"2.82\" font-family=\"Helvetica\" id=\"img-27fc52cd-5\">\n",
       "      <text x=\"154.75\" y=\"52.41\" dy=\"0.35em\">y1</text>\n",
       "    </g>\n",
       "    <g fill=\"#009AFA\" stroke=\"#000000\" stroke-opacity=\"0.000\" id=\"img-27fc52cd-6\">\n",
       "      <rect x=\"151.93\" y=\"51.5\" width=\"1.82\" height=\"1.82\"/>\n",
       "    </g>\n",
       "    <g fill=\"#000000\" font-size=\"3.88\" font-family=\"Helvetica\" stroke=\"#000000\" stroke-opacity=\"0.000\" id=\"img-27fc52cd-7\">\n",
       "      <text x=\"151.93\" y=\"48.59\"></text>\n",
       "    </g>\n",
       "  </g>\n",
       "<g clip-path=\"url(#img-27fc52cd-8)\">\n",
       "  <g id=\"img-27fc52cd-9\">\n",
       "    <g pointer-events=\"visible\" opacity=\"1\" fill=\"#000000\" fill-opacity=\"0.000\" stroke=\"#000000\" stroke-opacity=\"0.000\" class=\"guide background\" id=\"img-27fc52cd-10\">\n",
       "      <rect x=\"4.57\" y=\"1\" width=\"146.37\" height=\"99.19\"/>\n",
       "    </g>\n",
       "    <g class=\"guide ygridlines xfixed\" stroke-dasharray=\"0.5,0.5\" stroke-width=\"0.2\" stroke=\"#D0D0E0\" id=\"img-27fc52cd-11\">\n",
       "      <path fill=\"none\" d=\"M4.57,98.19 L 150.93 98.19\"/>\n",
       "      <path fill=\"none\" d=\"M4.57,74.39 L 150.93 74.39\"/>\n",
       "      <path fill=\"none\" d=\"M4.57,50.59 L 150.93 50.59\"/>\n",
       "      <path fill=\"none\" d=\"M4.57,26.8 L 150.93 26.8\"/>\n",
       "      <path fill=\"none\" d=\"M4.57,3 L 150.93 3\"/>\n",
       "    </g>\n",
       "    <g class=\"guide xgridlines yfixed\" stroke-dasharray=\"0.5,0.5\" stroke-width=\"0.2\" stroke=\"#D0D0E0\" id=\"img-27fc52cd-12\">\n",
       "      <path fill=\"none\" d=\"M6.57,1 L 6.57 100.19\"/>\n",
       "      <path fill=\"none\" d=\"M42.16,1 L 42.16 100.19\"/>\n",
       "      <path fill=\"none\" d=\"M77.75,1 L 77.75 100.19\"/>\n",
       "      <path fill=\"none\" d=\"M113.34,1 L 113.34 100.19\"/>\n",
       "      <path fill=\"none\" d=\"M148.93,1 L 148.93 100.19\"/>\n",
       "    </g>\n",
       "    <g class=\"plotpanel\" id=\"img-27fc52cd-13\">\n",
       "      <g stroke-width=\"0.26\" fill=\"#000000\" fill-opacity=\"0.000\" class=\"geometry\" stroke-dasharray=\"none\" stroke=\"#009AFA\" id=\"img-27fc52cd-14\">\n",
       "        <path fill=\"none\" d=\"M6.57,3 L 6.8 3.63 7.04 4.27 7.28 4.9 7.52 5.53 7.76 6.15 7.99 6.78 8.23 7.4 8.47 8.02 8.71 8.63 8.94 9.25 9.18 9.86 9.42 10.47 9.66 11.08 9.89 11.69 10.13 12.3 10.37 12.9 10.61 13.5 10.84 14.1 11.08 14.69 11.32 15.29 11.56 15.88 11.8 16.47 12.03 17.06 12.27 17.64 12.51 18.23 12.75 18.81 12.98 19.39 13.22 19.97 13.46 20.54 13.7 21.11 13.93 21.68 14.17 22.25 14.41 22.82 14.65 23.38 14.89 23.95 15.12 24.51 15.36 25.07 15.6 25.62 15.84 26.18 16.07 26.73 16.31 27.28 16.55 27.82 16.79 28.37 17.02 28.91 17.26 29.45 17.5 29.99 17.74 30.53 17.98 31.07 18.21 31.6 18.45 32.13 18.69 32.66 18.93 33.18 19.16 33.71 19.4 34.23 19.64 34.75 19.88 35.27 20.11 35.78 20.35 36.3 20.59 36.81 20.83 37.32 21.06 37.83 21.3 38.33 21.54 38.83 21.78 39.33 22.02 39.83 22.25 40.33 22.49 40.82 22.73 41.32 22.97 41.81 23.2 42.29 23.44 42.78 23.68 43.26 23.92 43.75 24.15 44.23 24.39 44.7 24.63 45.18 24.87 45.65 25.11 46.12 25.34 46.59 25.58 47.06 25.82 47.52 26.06 47.99 26.29 48.45 26.53 48.91 26.77 49.36 27.01 49.82 27.24 50.27 27.48 50.72 27.72 51.17 27.96 51.61 28.2 52.06 28.43 52.5 28.67 52.94 28.91 53.37 29.15 53.81 29.38 54.24 29.62 54.67 29.86 55.1 30.1 55.53 30.33 55.95 30.57 56.37 30.81 56.79 31.05 57.21 31.28 57.63 31.52 58.04 31.76 58.45 32 58.86 32.24 59.27 32.47 59.68 32.71 60.08 32.95 60.48 33.19 60.88 33.42 61.28 33.66 61.67 33.9 62.06 34.14 62.45 34.37 62.84 34.61 63.23 34.85 63.61 35.09 64 35.33 64.38 35.56 64.75 35.8 65.13 36.04 65.5 36.28 65.87 36.51 66.24 36.75 66.61 36.99 66.98 37.23 67.34 37.46 67.7 37.7 68.06 37.94 68.41 38.18 68.77 38.42 69.12 38.65 69.47 38.89 69.82 39.13 70.17 39.37 70.51 39.6 70.85 39.84 71.19 40.08 71.53 40.32 71.86 40.55 72.2 40.79 72.53 41.03 72.86 41.27 73.18 41.5 73.51 41.74 73.83 41.98 74.15 42.22 74.47 42.46 74.79 42.69 75.1 42.93 75.41 43.17 75.72 43.41 76.03 43.64 76.33 43.88 76.64 44.12 76.94 44.36 77.24 44.59 77.54 44.83 77.83 45.07 78.12 45.31 78.41 45.55 78.7 45.78 78.99 46.02 79.27 46.26 79.56 46.5 79.84 46.73 80.11 46.97 80.39 47.21 80.66 47.45 80.94 47.68 81.21 47.92 81.47 48.16 81.74 48.4 82 48.63 82.26 48.87 82.52 49.11 82.78 49.35 83.03 49.59 83.29 49.82 83.54 50.06 83.78 50.3 84.03 50.54 84.27 50.77 84.52 51.01 84.76 51.25 84.99 51.49 85.23 51.72 85.46 51.96 85.69 52.2 85.92 52.44 86.15 52.68 86.38 52.91 86.6 53.15 86.82 53.39 87.04 53.63 87.25 53.86 87.47 54.1 87.68 54.34 87.89 54.58 88.1 54.81 88.3 55.05 88.51 55.29 88.71 55.53 88.91 55.77 89.11 56 89.3 56.24 89.5 56.48 89.69 56.72 89.88 56.95 90.06 57.19 90.25 57.43 90.43 57.67 90.61 57.9 90.79 58.14 90.96 58.38 91.14 58.62 91.31 58.85 91.48 59.09 91.65 59.33 91.81 59.57 91.98 59.81 92.14 60.04 92.3 60.28 92.45 60.52 92.61 60.76 92.76 60.99 92.91 61.23 93.06 61.47 93.21 61.71 93.35 61.94 93.49 62.18 93.63 62.42 93.77 62.66 93.91 62.9 94.04 63.13 94.17 63.37 94.3 63.61 94.43 63.85 94.56 64.08 94.68 64.32 94.8 64.56 94.92 64.8 95.03 65.03 95.15 65.27 95.26 65.51 95.37 65.75 95.48 65.99 95.59 66.22 95.69 66.46 95.79 66.7 95.89 66.94 95.99 67.17 96.09 67.41 96.18 67.65 96.27 67.89 96.36 68.12 96.45 68.36 96.53 68.6 96.61 68.84 96.69 69.07 96.77 69.31 96.85 69.55 96.92 69.79 97 70.03 97.07 70.26 97.13 70.5 97.2 70.74 97.26 70.98 97.32 71.21 97.38 71.45 97.44 71.69 97.5 71.93 97.55 72.16 97.6 72.4 97.65 72.64 97.7 72.88 97.74 73.12 97.78 73.35 97.82 73.59 97.86 73.83 97.9 74.07 97.93 74.3 97.96 74.54 97.99 74.78 98.02 75.02 98.05 75.25 98.07 75.49 98.09 75.73 98.11 75.97 98.13 76.21 98.14 76.44 98.15 76.68 98.17 76.92 98.17 77.16 98.18 77.39 98.18 77.63 98.19 77.87 98.19 78.11 98.18 78.34 98.18 78.58 98.17 78.82 98.17 79.06 98.15 79.29 98.14 79.53 98.13 79.77 98.11 80.01 98.09 80.25 98.07 80.48 98.05 80.72 98.02 80.96 97.99 81.2 97.96 81.43 97.93 81.67 97.9 81.91 97.86 82.15 97.82 82.38 97.78 82.62 97.74 82.86 97.7 83.1 97.65 83.34 97.6 83.57 97.55 83.81 97.5 84.05 97.44 84.29 97.38 84.52 97.32 84.76 97.26 85 97.2 85.24 97.13 85.47 97.07 85.71 97 85.95 96.92 86.19 96.85 86.43 96.77 86.66 96.69 86.9 96.61 87.14 96.53 87.38 96.45 87.61 96.36 87.85 96.27 88.09 96.18 88.33 96.09 88.56 95.99 88.8 95.89 89.04 95.79 89.28 95.69 89.51 95.59 89.75 95.48 89.99 95.37 90.23 95.26 90.47 95.15 90.7 95.03 90.94 94.92 91.18 94.8 91.42 94.68 91.65 94.56 91.89 94.43 92.13 94.3 92.37 94.17 92.6 94.04 92.84 93.91 93.08 93.77 93.32 93.63 93.56 93.49 93.79 93.35 94.03 93.21 94.27 93.06 94.51 92.91 94.74 92.76 94.98 92.61 95.22 92.45 95.46 92.3 95.69 92.14 95.93 91.98 96.17 91.81 96.41 91.65 96.65 91.48 96.88 91.31 97.12 91.14 97.36 90.96 97.6 90.79 97.83 90.61 98.07 90.43 98.31 90.25 98.55 90.06 98.78 89.88 99.02 89.69 99.26 89.5 99.5 89.3 99.73 89.11 99.97 88.91 100.21 88.71 100.45 88.51 100.69 88.3 100.92 88.1 101.16 87.89 101.4 87.68 101.64 87.47 101.87 87.25 102.11 87.04 102.35 86.82 102.59 86.6 102.82 86.38 103.06 86.15 103.3 85.92 103.54 85.69 103.78 85.46 104.01 85.23 104.25 84.99 104.49 84.76 104.73 84.52 104.96 84.27 105.2 84.03 105.44 83.78 105.68 83.54 105.91 83.29 106.15 83.03 106.39 82.78 106.63 82.52 106.87 82.26 107.1 82 107.34 81.74 107.58 81.47 107.82 81.21 108.05 80.94 108.29 80.66 108.53 80.39 108.77 80.11 109 79.84 109.24 79.56 109.48 79.27 109.72 78.99 109.95 78.7 110.19 78.41 110.43 78.12 110.67 77.83 110.91 77.54 111.14 77.24 111.38 76.94 111.62 76.64 111.86 76.33 112.09 76.03 112.33 75.72 112.57 75.41 112.81 75.1 113.04 74.79 113.28 74.47 113.52 74.15 113.76 73.83 114 73.51 114.23 73.18 114.47 72.86 114.71 72.53 114.95 72.2 115.18 71.86 115.42 71.53 115.66 71.19 115.9 70.85 116.13 70.51 116.37 70.17 116.61 69.82 116.85 69.47 117.09 69.12 117.32 68.77 117.56 68.41 117.8 68.06 118.04 67.7 118.27 67.34 118.51 66.98 118.75 66.61 118.99 66.24 119.22 65.87 119.46 65.5 119.7 65.13 119.94 64.75 120.17 64.38 120.41 64 120.65 63.61 120.89 63.23 121.13 62.84 121.36 62.45 121.6 62.06 121.84 61.67 122.08 61.28 122.31 60.88 122.55 60.48 122.79 60.08 123.03 59.68 123.26 59.27 123.5 58.86 123.74 58.45 123.98 58.04 124.22 57.63 124.45 57.21 124.69 56.79 124.93 56.37 125.17 55.95 125.4 55.53 125.64 55.1 125.88 54.67 126.12 54.24 126.35 53.81 126.59 53.37 126.83 52.94 127.07 52.5 127.31 52.06 127.54 51.61 127.78 51.17 128.02 50.72 128.26 50.27 128.49 49.82 128.73 49.36 128.97 48.91 129.21 48.45 129.44 47.99 129.68 47.52 129.92 47.06 130.16 46.59 130.39 46.12 130.63 45.65 130.87 45.18 131.11 44.7 131.35 44.23 131.58 43.75 131.82 43.26 132.06 42.78 132.3 42.29 132.53 41.81 132.77 41.32 133.01 40.82 133.25 40.33 133.48 39.83 133.72 39.33 133.96 38.83 134.2 38.33 134.44 37.83 134.67 37.32 134.91 36.81 135.15 36.3 135.39 35.78 135.62 35.27 135.86 34.75 136.1 34.23 136.34 33.71 136.57 33.18 136.81 32.66 137.05 32.13 137.29 31.6 137.53 31.07 137.76 30.53 138 29.99 138.24 29.45 138.48 28.91 138.71 28.37 138.95 27.82 139.19 27.28 139.43 26.73 139.66 26.18 139.9 25.62 140.14 25.07 140.38 24.51 140.61 23.95 140.85 23.38 141.09 22.82 141.33 22.25 141.57 21.68 141.8 21.11 142.04 20.54 142.28 19.97 142.52 19.39 142.75 18.81 142.99 18.23 143.23 17.64 143.47 17.06 143.7 16.47 143.94 15.88 144.18 15.29 144.42 14.69 144.66 14.1 144.89 13.5 145.13 12.9 145.37 12.3 145.61 11.69 145.84 11.08 146.08 10.47 146.32 9.86 146.56 9.25 146.79 8.63 147.03 8.02 147.27 7.4 147.51 6.78 147.75 6.15 147.98 5.53 148.22 4.9 148.46 4.27 148.7 3.63 148.93 3\"/>\n",
       "      </g>\n",
       "    </g>\n",
       "  </g>\n",
       "</g>\n",
       "  <g class=\"guide ylabels\" font-size=\"2.82\" font-family=\"Helvetica\" fill=\"#000000\" id=\"img-27fc52cd-15\">\n",
       "    <text x=\"3.57\" y=\"98.19\" text-anchor=\"end\" dy=\"0.35em\">3</text>\n",
       "    <text x=\"3.57\" y=\"74.39\" text-anchor=\"end\" dy=\"0.35em\">4</text>\n",
       "    <text x=\"3.57\" y=\"50.59\" text-anchor=\"end\" dy=\"0.35em\">5</text>\n",
       "    <text x=\"3.57\" y=\"26.8\" text-anchor=\"end\" dy=\"0.35em\">6</text>\n",
       "    <text x=\"3.57\" y=\"3\" text-anchor=\"end\" dy=\"0.35em\">7</text>\n",
       "  </g>\n",
       "</g>\n",
       "<defs>\n",
       "  <clipPath id=\"img-27fc52cd-8\">\n",
       "  <path d=\"M4.57,1 L 150.93 1 150.93 100.19 4.57 100.19\" />\n",
       "</clipPath>\n",
       "</defs>\n",
       "</svg>\n"
      ],
      "text/plain": [
       "Compose.SVG(158.73015873015876mm,105.82010582010584mm,IOBuffer(data=UInt8[...], readable=true, writable=true, seekable=true, append=false, size=10713, maxsize=Inf, ptr=10714, mark=-1),nothing,\"img-27fc52cd\",0,Compose.SVGPropertyFrame[],Dict{Type{T},Union{Compose.Property{P<:Compose.PropertyPrimitive},Void}}(),Dict{Compose.ClipPrimitive{P<:NTuple{N,Measures.Measure}},ASCIIString}(Compose.ClipPrimitive{Tuple{Measures.Length{:mm,Float64},Measures.Length{:mm,Float64}}}([(4.566666666666663mm,1.0mm),(150.9334920634921mm,1.0mm),(150.9334920634921mm,100.18677248677251mm),(4.566666666666663mm,100.18677248677251mm)])=>\"img-27fc52cd-8\"),Tuple{Compose.FormPrimitive,ASCIIString}[],Set{AbstractString}(),true,false,nothing,true,\"img-27fc52cd-15\",false,15,AbstractString[\"C:\\\\Users\\\\labor\\\\.julia\\\\v0.4\\\\Gadfly\\\\src\\\\gadfly.js\"],Tuple{AbstractString,AbstractString}[(\"Snap.svg\",\"Snap\"),(\"Gadfly\",\"Gadfly\")],AbstractString[\"fig.select(\\\"#img-27fc52cd-4\\\")\\n   .drag(function() {}, function() {}, function() {});\",\"fig.select(\\\"#img-27fc52cd-9\\\")\\n   .init_gadfly();\"],false,:none)"
      ]
     },
     "metadata": {},
     "output_type": "display_data"
    },
    {
     "data": {
      "text/html": []
     },
     "execution_count": 18,
     "metadata": {},
     "output_type": "execute_result"
    }
   ],
   "source": [
    "using Plots; gadfly()\n",
    "\n",
    "Plots.plot(x->x^2 - 2x + 4, -1, 3)     # график символического выражения"
   ]
  },
  {
   "cell_type": "markdown",
   "metadata": {},
   "source": [
    "Это аналогично тому, как используются функции. Следующий пример похож, хотя и отличается в принципе:"
   ]
  },
  {
   "cell_type": "code",
   "execution_count": 19,
   "metadata": {
    "collapsed": false
   },
   "outputs": [
    {
     "data": {
      "image/svg+xml": [
       "<?xml version=\"1.0\" encoding=\"UTF-8\"?>\n",
       "<svg xmlns=\"http://www.w3.org/2000/svg\"\n",
       "     xmlns:xlink=\"http://www.w3.org/1999/xlink\"\n",
       "     xmlns:gadfly=\"http://www.gadflyjl.org/ns\"\n",
       "     version=\"1.2\"\n",
       "     width=\"158.73mm\" height=\"105.82mm\" viewBox=\"0 0 158.73 105.82\"\n",
       "     stroke=\"none\"\n",
       "     fill=\"#000000\"\n",
       "     stroke-width=\"0.3\"\n",
       "     font-size=\"3.88\"\n",
       ">\n",
       "<g stroke=\"#000000\" stroke-opacity=\"0.000\" fill=\"#FFFFFF\" id=\"img-4f676bc5-1\">\n",
       "  <rect x=\"0\" y=\"0\" width=\"158.73\" height=\"105.82\"/>\n",
       "</g>\n",
       "<g class=\"plotroot xscalable yscalable\" id=\"img-4f676bc5-2\">\n",
       "  <g class=\"guide xlabels\" font-size=\"2.82\" font-family=\"Helvetica\" fill=\"#000000\" id=\"img-4f676bc5-3\">\n",
       "    <text x=\"6.57\" y=\"101.19\" text-anchor=\"middle\" dy=\"0.6em\">-1</text>\n",
       "    <text x=\"42.16\" y=\"101.19\" text-anchor=\"middle\" dy=\"0.6em\">0</text>\n",
       "    <text x=\"77.75\" y=\"101.19\" text-anchor=\"middle\" dy=\"0.6em\">1</text>\n",
       "    <text x=\"113.34\" y=\"101.19\" text-anchor=\"middle\" dy=\"0.6em\">2</text>\n",
       "    <text x=\"148.93\" y=\"101.19\" text-anchor=\"middle\" dy=\"0.6em\">3</text>\n",
       "  </g>\n",
       "  <g class=\"guide colorkey\" id=\"img-4f676bc5-4\">\n",
       "    <g fill=\"#000000\" font-size=\"2.82\" font-family=\"Helvetica\" id=\"img-4f676bc5-5\">\n",
       "      <text x=\"154.75\" y=\"52.41\" dy=\"0.35em\">y1</text>\n",
       "    </g>\n",
       "    <g fill=\"#009AFA\" stroke=\"#000000\" stroke-opacity=\"0.000\" id=\"img-4f676bc5-6\">\n",
       "      <rect x=\"151.93\" y=\"51.5\" width=\"1.82\" height=\"1.82\"/>\n",
       "    </g>\n",
       "    <g fill=\"#000000\" font-size=\"3.88\" font-family=\"Helvetica\" stroke=\"#000000\" stroke-opacity=\"0.000\" id=\"img-4f676bc5-7\">\n",
       "      <text x=\"151.93\" y=\"48.59\"></text>\n",
       "    </g>\n",
       "  </g>\n",
       "<g clip-path=\"url(#img-4f676bc5-8)\">\n",
       "  <g id=\"img-4f676bc5-9\">\n",
       "    <g pointer-events=\"visible\" opacity=\"1\" fill=\"#000000\" fill-opacity=\"0.000\" stroke=\"#000000\" stroke-opacity=\"0.000\" class=\"guide background\" id=\"img-4f676bc5-10\">\n",
       "      <rect x=\"4.57\" y=\"1\" width=\"146.37\" height=\"99.19\"/>\n",
       "    </g>\n",
       "    <g class=\"guide ygridlines xfixed\" stroke-dasharray=\"0.5,0.5\" stroke-width=\"0.2\" stroke=\"#D0D0E0\" id=\"img-4f676bc5-11\">\n",
       "      <path fill=\"none\" d=\"M4.57,98.19 L 150.93 98.19\"/>\n",
       "      <path fill=\"none\" d=\"M4.57,74.39 L 150.93 74.39\"/>\n",
       "      <path fill=\"none\" d=\"M4.57,50.59 L 150.93 50.59\"/>\n",
       "      <path fill=\"none\" d=\"M4.57,26.8 L 150.93 26.8\"/>\n",
       "      <path fill=\"none\" d=\"M4.57,3 L 150.93 3\"/>\n",
       "    </g>\n",
       "    <g class=\"guide xgridlines yfixed\" stroke-dasharray=\"0.5,0.5\" stroke-width=\"0.2\" stroke=\"#D0D0E0\" id=\"img-4f676bc5-12\">\n",
       "      <path fill=\"none\" d=\"M6.57,1 L 6.57 100.19\"/>\n",
       "      <path fill=\"none\" d=\"M42.16,1 L 42.16 100.19\"/>\n",
       "      <path fill=\"none\" d=\"M77.75,1 L 77.75 100.19\"/>\n",
       "      <path fill=\"none\" d=\"M113.34,1 L 113.34 100.19\"/>\n",
       "      <path fill=\"none\" d=\"M148.93,1 L 148.93 100.19\"/>\n",
       "    </g>\n",
       "    <g class=\"plotpanel\" id=\"img-4f676bc5-13\">\n",
       "      <g stroke-width=\"0.26\" fill=\"#000000\" fill-opacity=\"0.000\" class=\"geometry\" stroke-dasharray=\"none\" stroke=\"#009AFA\" id=\"img-4f676bc5-14\">\n",
       "        <path fill=\"none\" d=\"M6.57,3 L 6.8 3.63 7.04 4.27 7.28 4.9 7.52 5.53 7.76 6.15 7.99 6.78 8.23 7.4 8.47 8.02 8.71 8.63 8.94 9.25 9.18 9.86 9.42 10.47 9.66 11.08 9.89 11.69 10.13 12.3 10.37 12.9 10.61 13.5 10.84 14.1 11.08 14.69 11.32 15.29 11.56 15.88 11.8 16.47 12.03 17.06 12.27 17.64 12.51 18.23 12.75 18.81 12.98 19.39 13.22 19.97 13.46 20.54 13.7 21.11 13.93 21.68 14.17 22.25 14.41 22.82 14.65 23.38 14.89 23.95 15.12 24.51 15.36 25.07 15.6 25.62 15.84 26.18 16.07 26.73 16.31 27.28 16.55 27.82 16.79 28.37 17.02 28.91 17.26 29.45 17.5 29.99 17.74 30.53 17.98 31.07 18.21 31.6 18.45 32.13 18.69 32.66 18.93 33.18 19.16 33.71 19.4 34.23 19.64 34.75 19.88 35.27 20.11 35.78 20.35 36.3 20.59 36.81 20.83 37.32 21.06 37.83 21.3 38.33 21.54 38.83 21.78 39.33 22.02 39.83 22.25 40.33 22.49 40.82 22.73 41.32 22.97 41.81 23.2 42.29 23.44 42.78 23.68 43.26 23.92 43.75 24.15 44.23 24.39 44.7 24.63 45.18 24.87 45.65 25.11 46.12 25.34 46.59 25.58 47.06 25.82 47.52 26.06 47.99 26.29 48.45 26.53 48.91 26.77 49.36 27.01 49.82 27.24 50.27 27.48 50.72 27.72 51.17 27.96 51.61 28.2 52.06 28.43 52.5 28.67 52.94 28.91 53.37 29.15 53.81 29.38 54.24 29.62 54.67 29.86 55.1 30.1 55.53 30.33 55.95 30.57 56.37 30.81 56.79 31.05 57.21 31.28 57.63 31.52 58.04 31.76 58.45 32 58.86 32.24 59.27 32.47 59.68 32.71 60.08 32.95 60.48 33.19 60.88 33.42 61.28 33.66 61.67 33.9 62.06 34.14 62.45 34.37 62.84 34.61 63.23 34.85 63.61 35.09 64 35.33 64.38 35.56 64.75 35.8 65.13 36.04 65.5 36.28 65.87 36.51 66.24 36.75 66.61 36.99 66.98 37.23 67.34 37.46 67.7 37.7 68.06 37.94 68.41 38.18 68.77 38.42 69.12 38.65 69.47 38.89 69.82 39.13 70.17 39.37 70.51 39.6 70.85 39.84 71.19 40.08 71.53 40.32 71.86 40.55 72.2 40.79 72.53 41.03 72.86 41.27 73.18 41.5 73.51 41.74 73.83 41.98 74.15 42.22 74.47 42.46 74.79 42.69 75.1 42.93 75.41 43.17 75.72 43.41 76.03 43.64 76.33 43.88 76.64 44.12 76.94 44.36 77.24 44.59 77.54 44.83 77.83 45.07 78.12 45.31 78.41 45.55 78.7 45.78 78.99 46.02 79.27 46.26 79.56 46.5 79.84 46.73 80.11 46.97 80.39 47.21 80.66 47.45 80.94 47.68 81.21 47.92 81.47 48.16 81.74 48.4 82 48.63 82.26 48.87 82.52 49.11 82.78 49.35 83.03 49.59 83.29 49.82 83.54 50.06 83.78 50.3 84.03 50.54 84.27 50.77 84.52 51.01 84.76 51.25 84.99 51.49 85.23 51.72 85.46 51.96 85.69 52.2 85.92 52.44 86.15 52.68 86.38 52.91 86.6 53.15 86.82 53.39 87.04 53.63 87.25 53.86 87.47 54.1 87.68 54.34 87.89 54.58 88.1 54.81 88.3 55.05 88.51 55.29 88.71 55.53 88.91 55.77 89.11 56 89.3 56.24 89.5 56.48 89.69 56.72 89.88 56.95 90.06 57.19 90.25 57.43 90.43 57.67 90.61 57.9 90.79 58.14 90.96 58.38 91.14 58.62 91.31 58.85 91.48 59.09 91.65 59.33 91.81 59.57 91.98 59.81 92.14 60.04 92.3 60.28 92.45 60.52 92.61 60.76 92.76 60.99 92.91 61.23 93.06 61.47 93.21 61.71 93.35 61.94 93.49 62.18 93.63 62.42 93.77 62.66 93.91 62.9 94.04 63.13 94.17 63.37 94.3 63.61 94.43 63.85 94.56 64.08 94.68 64.32 94.8 64.56 94.92 64.8 95.03 65.03 95.15 65.27 95.26 65.51 95.37 65.75 95.48 65.99 95.59 66.22 95.69 66.46 95.79 66.7 95.89 66.94 95.99 67.17 96.09 67.41 96.18 67.65 96.27 67.89 96.36 68.12 96.45 68.36 96.53 68.6 96.61 68.84 96.69 69.07 96.77 69.31 96.85 69.55 96.92 69.79 97 70.03 97.07 70.26 97.13 70.5 97.2 70.74 97.26 70.98 97.32 71.21 97.38 71.45 97.44 71.69 97.5 71.93 97.55 72.16 97.6 72.4 97.65 72.64 97.7 72.88 97.74 73.12 97.78 73.35 97.82 73.59 97.86 73.83 97.9 74.07 97.93 74.3 97.96 74.54 97.99 74.78 98.02 75.02 98.05 75.25 98.07 75.49 98.09 75.73 98.11 75.97 98.13 76.21 98.14 76.44 98.15 76.68 98.17 76.92 98.17 77.16 98.18 77.39 98.18 77.63 98.19 77.87 98.19 78.11 98.18 78.34 98.18 78.58 98.17 78.82 98.17 79.06 98.15 79.29 98.14 79.53 98.13 79.77 98.11 80.01 98.09 80.25 98.07 80.48 98.05 80.72 98.02 80.96 97.99 81.2 97.96 81.43 97.93 81.67 97.9 81.91 97.86 82.15 97.82 82.38 97.78 82.62 97.74 82.86 97.7 83.1 97.65 83.34 97.6 83.57 97.55 83.81 97.5 84.05 97.44 84.29 97.38 84.52 97.32 84.76 97.26 85 97.2 85.24 97.13 85.47 97.07 85.71 97 85.95 96.92 86.19 96.85 86.43 96.77 86.66 96.69 86.9 96.61 87.14 96.53 87.38 96.45 87.61 96.36 87.85 96.27 88.09 96.18 88.33 96.09 88.56 95.99 88.8 95.89 89.04 95.79 89.28 95.69 89.51 95.59 89.75 95.48 89.99 95.37 90.23 95.26 90.47 95.15 90.7 95.03 90.94 94.92 91.18 94.8 91.42 94.68 91.65 94.56 91.89 94.43 92.13 94.3 92.37 94.17 92.6 94.04 92.84 93.91 93.08 93.77 93.32 93.63 93.56 93.49 93.79 93.35 94.03 93.21 94.27 93.06 94.51 92.91 94.74 92.76 94.98 92.61 95.22 92.45 95.46 92.3 95.69 92.14 95.93 91.98 96.17 91.81 96.41 91.65 96.65 91.48 96.88 91.31 97.12 91.14 97.36 90.96 97.6 90.79 97.83 90.61 98.07 90.43 98.31 90.25 98.55 90.06 98.78 89.88 99.02 89.69 99.26 89.5 99.5 89.3 99.73 89.11 99.97 88.91 100.21 88.71 100.45 88.51 100.69 88.3 100.92 88.1 101.16 87.89 101.4 87.68 101.64 87.47 101.87 87.25 102.11 87.04 102.35 86.82 102.59 86.6 102.82 86.38 103.06 86.15 103.3 85.92 103.54 85.69 103.78 85.46 104.01 85.23 104.25 84.99 104.49 84.76 104.73 84.52 104.96 84.27 105.2 84.03 105.44 83.78 105.68 83.54 105.91 83.29 106.15 83.03 106.39 82.78 106.63 82.52 106.87 82.26 107.1 82 107.34 81.74 107.58 81.47 107.82 81.21 108.05 80.94 108.29 80.66 108.53 80.39 108.77 80.11 109 79.84 109.24 79.56 109.48 79.27 109.72 78.99 109.95 78.7 110.19 78.41 110.43 78.12 110.67 77.83 110.91 77.54 111.14 77.24 111.38 76.94 111.62 76.64 111.86 76.33 112.09 76.03 112.33 75.72 112.57 75.41 112.81 75.1 113.04 74.79 113.28 74.47 113.52 74.15 113.76 73.83 114 73.51 114.23 73.18 114.47 72.86 114.71 72.53 114.95 72.2 115.18 71.86 115.42 71.53 115.66 71.19 115.9 70.85 116.13 70.51 116.37 70.17 116.61 69.82 116.85 69.47 117.09 69.12 117.32 68.77 117.56 68.41 117.8 68.06 118.04 67.7 118.27 67.34 118.51 66.98 118.75 66.61 118.99 66.24 119.22 65.87 119.46 65.5 119.7 65.13 119.94 64.75 120.17 64.38 120.41 64 120.65 63.61 120.89 63.23 121.13 62.84 121.36 62.45 121.6 62.06 121.84 61.67 122.08 61.28 122.31 60.88 122.55 60.48 122.79 60.08 123.03 59.68 123.26 59.27 123.5 58.86 123.74 58.45 123.98 58.04 124.22 57.63 124.45 57.21 124.69 56.79 124.93 56.37 125.17 55.95 125.4 55.53 125.64 55.1 125.88 54.67 126.12 54.24 126.35 53.81 126.59 53.37 126.83 52.94 127.07 52.5 127.31 52.06 127.54 51.61 127.78 51.17 128.02 50.72 128.26 50.27 128.49 49.82 128.73 49.36 128.97 48.91 129.21 48.45 129.44 47.99 129.68 47.52 129.92 47.06 130.16 46.59 130.39 46.12 130.63 45.65 130.87 45.18 131.11 44.7 131.35 44.23 131.58 43.75 131.82 43.26 132.06 42.78 132.3 42.29 132.53 41.81 132.77 41.32 133.01 40.82 133.25 40.33 133.48 39.83 133.72 39.33 133.96 38.83 134.2 38.33 134.44 37.83 134.67 37.32 134.91 36.81 135.15 36.3 135.39 35.78 135.62 35.27 135.86 34.75 136.1 34.23 136.34 33.71 136.57 33.18 136.81 32.66 137.05 32.13 137.29 31.6 137.53 31.07 137.76 30.53 138 29.99 138.24 29.45 138.48 28.91 138.71 28.37 138.95 27.82 139.19 27.28 139.43 26.73 139.66 26.18 139.9 25.62 140.14 25.07 140.38 24.51 140.61 23.95 140.85 23.38 141.09 22.82 141.33 22.25 141.57 21.68 141.8 21.11 142.04 20.54 142.28 19.97 142.52 19.39 142.75 18.81 142.99 18.23 143.23 17.64 143.47 17.06 143.7 16.47 143.94 15.88 144.18 15.29 144.42 14.69 144.66 14.1 144.89 13.5 145.13 12.9 145.37 12.3 145.61 11.69 145.84 11.08 146.08 10.47 146.32 9.86 146.56 9.25 146.79 8.63 147.03 8.02 147.27 7.4 147.51 6.78 147.75 6.15 147.98 5.53 148.22 4.9 148.46 4.27 148.7 3.63 148.93 3\"/>\n",
       "      </g>\n",
       "    </g>\n",
       "  </g>\n",
       "</g>\n",
       "  <g class=\"guide ylabels\" font-size=\"2.82\" font-family=\"Helvetica\" fill=\"#000000\" id=\"img-4f676bc5-15\">\n",
       "    <text x=\"3.57\" y=\"98.19\" text-anchor=\"end\" dy=\"0.35em\">3</text>\n",
       "    <text x=\"3.57\" y=\"74.39\" text-anchor=\"end\" dy=\"0.35em\">4</text>\n",
       "    <text x=\"3.57\" y=\"50.59\" text-anchor=\"end\" dy=\"0.35em\">5</text>\n",
       "    <text x=\"3.57\" y=\"26.8\" text-anchor=\"end\" dy=\"0.35em\">6</text>\n",
       "    <text x=\"3.57\" y=\"3\" text-anchor=\"end\" dy=\"0.35em\">7</text>\n",
       "  </g>\n",
       "</g>\n",
       "<defs>\n",
       "  <clipPath id=\"img-4f676bc5-8\">\n",
       "  <path d=\"M4.57,1 L 150.93 1 150.93 100.19 4.57 100.19\" />\n",
       "</clipPath>\n",
       "</defs>\n",
       "</svg>\n"
      ],
      "text/html": [
       "<?xml version=\"1.0\" encoding=\"UTF-8\"?>\n",
       "<svg xmlns=\"http://www.w3.org/2000/svg\"\n",
       "     xmlns:xlink=\"http://www.w3.org/1999/xlink\"\n",
       "     xmlns:gadfly=\"http://www.gadflyjl.org/ns\"\n",
       "     version=\"1.2\"\n",
       "     width=\"158.73mm\" height=\"105.82mm\" viewBox=\"0 0 158.73 105.82\"\n",
       "     stroke=\"none\"\n",
       "     fill=\"#000000\"\n",
       "     stroke-width=\"0.3\"\n",
       "     font-size=\"3.88\"\n",
       ">\n",
       "<g stroke=\"#000000\" stroke-opacity=\"0.000\" fill=\"#FFFFFF\" id=\"img-4f676bc5-1\">\n",
       "  <rect x=\"0\" y=\"0\" width=\"158.73\" height=\"105.82\"/>\n",
       "</g>\n",
       "<g class=\"plotroot xscalable yscalable\" id=\"img-4f676bc5-2\">\n",
       "  <g class=\"guide xlabels\" font-size=\"2.82\" font-family=\"Helvetica\" fill=\"#000000\" id=\"img-4f676bc5-3\">\n",
       "    <text x=\"6.57\" y=\"101.19\" text-anchor=\"middle\" dy=\"0.6em\">-1</text>\n",
       "    <text x=\"42.16\" y=\"101.19\" text-anchor=\"middle\" dy=\"0.6em\">0</text>\n",
       "    <text x=\"77.75\" y=\"101.19\" text-anchor=\"middle\" dy=\"0.6em\">1</text>\n",
       "    <text x=\"113.34\" y=\"101.19\" text-anchor=\"middle\" dy=\"0.6em\">2</text>\n",
       "    <text x=\"148.93\" y=\"101.19\" text-anchor=\"middle\" dy=\"0.6em\">3</text>\n",
       "  </g>\n",
       "  <g class=\"guide colorkey\" id=\"img-4f676bc5-4\">\n",
       "    <g fill=\"#000000\" font-size=\"2.82\" font-family=\"Helvetica\" id=\"img-4f676bc5-5\">\n",
       "      <text x=\"154.75\" y=\"52.41\" dy=\"0.35em\">y1</text>\n",
       "    </g>\n",
       "    <g fill=\"#009AFA\" stroke=\"#000000\" stroke-opacity=\"0.000\" id=\"img-4f676bc5-6\">\n",
       "      <rect x=\"151.93\" y=\"51.5\" width=\"1.82\" height=\"1.82\"/>\n",
       "    </g>\n",
       "    <g fill=\"#000000\" font-size=\"3.88\" font-family=\"Helvetica\" stroke=\"#000000\" stroke-opacity=\"0.000\" id=\"img-4f676bc5-7\">\n",
       "      <text x=\"151.93\" y=\"48.59\"></text>\n",
       "    </g>\n",
       "  </g>\n",
       "<g clip-path=\"url(#img-4f676bc5-8)\">\n",
       "  <g id=\"img-4f676bc5-9\">\n",
       "    <g pointer-events=\"visible\" opacity=\"1\" fill=\"#000000\" fill-opacity=\"0.000\" stroke=\"#000000\" stroke-opacity=\"0.000\" class=\"guide background\" id=\"img-4f676bc5-10\">\n",
       "      <rect x=\"4.57\" y=\"1\" width=\"146.37\" height=\"99.19\"/>\n",
       "    </g>\n",
       "    <g class=\"guide ygridlines xfixed\" stroke-dasharray=\"0.5,0.5\" stroke-width=\"0.2\" stroke=\"#D0D0E0\" id=\"img-4f676bc5-11\">\n",
       "      <path fill=\"none\" d=\"M4.57,98.19 L 150.93 98.19\"/>\n",
       "      <path fill=\"none\" d=\"M4.57,74.39 L 150.93 74.39\"/>\n",
       "      <path fill=\"none\" d=\"M4.57,50.59 L 150.93 50.59\"/>\n",
       "      <path fill=\"none\" d=\"M4.57,26.8 L 150.93 26.8\"/>\n",
       "      <path fill=\"none\" d=\"M4.57,3 L 150.93 3\"/>\n",
       "    </g>\n",
       "    <g class=\"guide xgridlines yfixed\" stroke-dasharray=\"0.5,0.5\" stroke-width=\"0.2\" stroke=\"#D0D0E0\" id=\"img-4f676bc5-12\">\n",
       "      <path fill=\"none\" d=\"M6.57,1 L 6.57 100.19\"/>\n",
       "      <path fill=\"none\" d=\"M42.16,1 L 42.16 100.19\"/>\n",
       "      <path fill=\"none\" d=\"M77.75,1 L 77.75 100.19\"/>\n",
       "      <path fill=\"none\" d=\"M113.34,1 L 113.34 100.19\"/>\n",
       "      <path fill=\"none\" d=\"M148.93,1 L 148.93 100.19\"/>\n",
       "    </g>\n",
       "    <g class=\"plotpanel\" id=\"img-4f676bc5-13\">\n",
       "      <g stroke-width=\"0.26\" fill=\"#000000\" fill-opacity=\"0.000\" class=\"geometry\" stroke-dasharray=\"none\" stroke=\"#009AFA\" id=\"img-4f676bc5-14\">\n",
       "        <path fill=\"none\" d=\"M6.57,3 L 6.8 3.63 7.04 4.27 7.28 4.9 7.52 5.53 7.76 6.15 7.99 6.78 8.23 7.4 8.47 8.02 8.71 8.63 8.94 9.25 9.18 9.86 9.42 10.47 9.66 11.08 9.89 11.69 10.13 12.3 10.37 12.9 10.61 13.5 10.84 14.1 11.08 14.69 11.32 15.29 11.56 15.88 11.8 16.47 12.03 17.06 12.27 17.64 12.51 18.23 12.75 18.81 12.98 19.39 13.22 19.97 13.46 20.54 13.7 21.11 13.93 21.68 14.17 22.25 14.41 22.82 14.65 23.38 14.89 23.95 15.12 24.51 15.36 25.07 15.6 25.62 15.84 26.18 16.07 26.73 16.31 27.28 16.55 27.82 16.79 28.37 17.02 28.91 17.26 29.45 17.5 29.99 17.74 30.53 17.98 31.07 18.21 31.6 18.45 32.13 18.69 32.66 18.93 33.18 19.16 33.71 19.4 34.23 19.64 34.75 19.88 35.27 20.11 35.78 20.35 36.3 20.59 36.81 20.83 37.32 21.06 37.83 21.3 38.33 21.54 38.83 21.78 39.33 22.02 39.83 22.25 40.33 22.49 40.82 22.73 41.32 22.97 41.81 23.2 42.29 23.44 42.78 23.68 43.26 23.92 43.75 24.15 44.23 24.39 44.7 24.63 45.18 24.87 45.65 25.11 46.12 25.34 46.59 25.58 47.06 25.82 47.52 26.06 47.99 26.29 48.45 26.53 48.91 26.77 49.36 27.01 49.82 27.24 50.27 27.48 50.72 27.72 51.17 27.96 51.61 28.2 52.06 28.43 52.5 28.67 52.94 28.91 53.37 29.15 53.81 29.38 54.24 29.62 54.67 29.86 55.1 30.1 55.53 30.33 55.95 30.57 56.37 30.81 56.79 31.05 57.21 31.28 57.63 31.52 58.04 31.76 58.45 32 58.86 32.24 59.27 32.47 59.68 32.71 60.08 32.95 60.48 33.19 60.88 33.42 61.28 33.66 61.67 33.9 62.06 34.14 62.45 34.37 62.84 34.61 63.23 34.85 63.61 35.09 64 35.33 64.38 35.56 64.75 35.8 65.13 36.04 65.5 36.28 65.87 36.51 66.24 36.75 66.61 36.99 66.98 37.23 67.34 37.46 67.7 37.7 68.06 37.94 68.41 38.18 68.77 38.42 69.12 38.65 69.47 38.89 69.82 39.13 70.17 39.37 70.51 39.6 70.85 39.84 71.19 40.08 71.53 40.32 71.86 40.55 72.2 40.79 72.53 41.03 72.86 41.27 73.18 41.5 73.51 41.74 73.83 41.98 74.15 42.22 74.47 42.46 74.79 42.69 75.1 42.93 75.41 43.17 75.72 43.41 76.03 43.64 76.33 43.88 76.64 44.12 76.94 44.36 77.24 44.59 77.54 44.83 77.83 45.07 78.12 45.31 78.41 45.55 78.7 45.78 78.99 46.02 79.27 46.26 79.56 46.5 79.84 46.73 80.11 46.97 80.39 47.21 80.66 47.45 80.94 47.68 81.21 47.92 81.47 48.16 81.74 48.4 82 48.63 82.26 48.87 82.52 49.11 82.78 49.35 83.03 49.59 83.29 49.82 83.54 50.06 83.78 50.3 84.03 50.54 84.27 50.77 84.52 51.01 84.76 51.25 84.99 51.49 85.23 51.72 85.46 51.96 85.69 52.2 85.92 52.44 86.15 52.68 86.38 52.91 86.6 53.15 86.82 53.39 87.04 53.63 87.25 53.86 87.47 54.1 87.68 54.34 87.89 54.58 88.1 54.81 88.3 55.05 88.51 55.29 88.71 55.53 88.91 55.77 89.11 56 89.3 56.24 89.5 56.48 89.69 56.72 89.88 56.95 90.06 57.19 90.25 57.43 90.43 57.67 90.61 57.9 90.79 58.14 90.96 58.38 91.14 58.62 91.31 58.85 91.48 59.09 91.65 59.33 91.81 59.57 91.98 59.81 92.14 60.04 92.3 60.28 92.45 60.52 92.61 60.76 92.76 60.99 92.91 61.23 93.06 61.47 93.21 61.71 93.35 61.94 93.49 62.18 93.63 62.42 93.77 62.66 93.91 62.9 94.04 63.13 94.17 63.37 94.3 63.61 94.43 63.85 94.56 64.08 94.68 64.32 94.8 64.56 94.92 64.8 95.03 65.03 95.15 65.27 95.26 65.51 95.37 65.75 95.48 65.99 95.59 66.22 95.69 66.46 95.79 66.7 95.89 66.94 95.99 67.17 96.09 67.41 96.18 67.65 96.27 67.89 96.36 68.12 96.45 68.36 96.53 68.6 96.61 68.84 96.69 69.07 96.77 69.31 96.85 69.55 96.92 69.79 97 70.03 97.07 70.26 97.13 70.5 97.2 70.74 97.26 70.98 97.32 71.21 97.38 71.45 97.44 71.69 97.5 71.93 97.55 72.16 97.6 72.4 97.65 72.64 97.7 72.88 97.74 73.12 97.78 73.35 97.82 73.59 97.86 73.83 97.9 74.07 97.93 74.3 97.96 74.54 97.99 74.78 98.02 75.02 98.05 75.25 98.07 75.49 98.09 75.73 98.11 75.97 98.13 76.21 98.14 76.44 98.15 76.68 98.17 76.92 98.17 77.16 98.18 77.39 98.18 77.63 98.19 77.87 98.19 78.11 98.18 78.34 98.18 78.58 98.17 78.82 98.17 79.06 98.15 79.29 98.14 79.53 98.13 79.77 98.11 80.01 98.09 80.25 98.07 80.48 98.05 80.72 98.02 80.96 97.99 81.2 97.96 81.43 97.93 81.67 97.9 81.91 97.86 82.15 97.82 82.38 97.78 82.62 97.74 82.86 97.7 83.1 97.65 83.34 97.6 83.57 97.55 83.81 97.5 84.05 97.44 84.29 97.38 84.52 97.32 84.76 97.26 85 97.2 85.24 97.13 85.47 97.07 85.71 97 85.95 96.92 86.19 96.85 86.43 96.77 86.66 96.69 86.9 96.61 87.14 96.53 87.38 96.45 87.61 96.36 87.85 96.27 88.09 96.18 88.33 96.09 88.56 95.99 88.8 95.89 89.04 95.79 89.28 95.69 89.51 95.59 89.75 95.48 89.99 95.37 90.23 95.26 90.47 95.15 90.7 95.03 90.94 94.92 91.18 94.8 91.42 94.68 91.65 94.56 91.89 94.43 92.13 94.3 92.37 94.17 92.6 94.04 92.84 93.91 93.08 93.77 93.32 93.63 93.56 93.49 93.79 93.35 94.03 93.21 94.27 93.06 94.51 92.91 94.74 92.76 94.98 92.61 95.22 92.45 95.46 92.3 95.69 92.14 95.93 91.98 96.17 91.81 96.41 91.65 96.65 91.48 96.88 91.31 97.12 91.14 97.36 90.96 97.6 90.79 97.83 90.61 98.07 90.43 98.31 90.25 98.55 90.06 98.78 89.88 99.02 89.69 99.26 89.5 99.5 89.3 99.73 89.11 99.97 88.91 100.21 88.71 100.45 88.51 100.69 88.3 100.92 88.1 101.16 87.89 101.4 87.68 101.64 87.47 101.87 87.25 102.11 87.04 102.35 86.82 102.59 86.6 102.82 86.38 103.06 86.15 103.3 85.92 103.54 85.69 103.78 85.46 104.01 85.23 104.25 84.99 104.49 84.76 104.73 84.52 104.96 84.27 105.2 84.03 105.44 83.78 105.68 83.54 105.91 83.29 106.15 83.03 106.39 82.78 106.63 82.52 106.87 82.26 107.1 82 107.34 81.74 107.58 81.47 107.82 81.21 108.05 80.94 108.29 80.66 108.53 80.39 108.77 80.11 109 79.84 109.24 79.56 109.48 79.27 109.72 78.99 109.95 78.7 110.19 78.41 110.43 78.12 110.67 77.83 110.91 77.54 111.14 77.24 111.38 76.94 111.62 76.64 111.86 76.33 112.09 76.03 112.33 75.72 112.57 75.41 112.81 75.1 113.04 74.79 113.28 74.47 113.52 74.15 113.76 73.83 114 73.51 114.23 73.18 114.47 72.86 114.71 72.53 114.95 72.2 115.18 71.86 115.42 71.53 115.66 71.19 115.9 70.85 116.13 70.51 116.37 70.17 116.61 69.82 116.85 69.47 117.09 69.12 117.32 68.77 117.56 68.41 117.8 68.06 118.04 67.7 118.27 67.34 118.51 66.98 118.75 66.61 118.99 66.24 119.22 65.87 119.46 65.5 119.7 65.13 119.94 64.75 120.17 64.38 120.41 64 120.65 63.61 120.89 63.23 121.13 62.84 121.36 62.45 121.6 62.06 121.84 61.67 122.08 61.28 122.31 60.88 122.55 60.48 122.79 60.08 123.03 59.68 123.26 59.27 123.5 58.86 123.74 58.45 123.98 58.04 124.22 57.63 124.45 57.21 124.69 56.79 124.93 56.37 125.17 55.95 125.4 55.53 125.64 55.1 125.88 54.67 126.12 54.24 126.35 53.81 126.59 53.37 126.83 52.94 127.07 52.5 127.31 52.06 127.54 51.61 127.78 51.17 128.02 50.72 128.26 50.27 128.49 49.82 128.73 49.36 128.97 48.91 129.21 48.45 129.44 47.99 129.68 47.52 129.92 47.06 130.16 46.59 130.39 46.12 130.63 45.65 130.87 45.18 131.11 44.7 131.35 44.23 131.58 43.75 131.82 43.26 132.06 42.78 132.3 42.29 132.53 41.81 132.77 41.32 133.01 40.82 133.25 40.33 133.48 39.83 133.72 39.33 133.96 38.83 134.2 38.33 134.44 37.83 134.67 37.32 134.91 36.81 135.15 36.3 135.39 35.78 135.62 35.27 135.86 34.75 136.1 34.23 136.34 33.71 136.57 33.18 136.81 32.66 137.05 32.13 137.29 31.6 137.53 31.07 137.76 30.53 138 29.99 138.24 29.45 138.48 28.91 138.71 28.37 138.95 27.82 139.19 27.28 139.43 26.73 139.66 26.18 139.9 25.62 140.14 25.07 140.38 24.51 140.61 23.95 140.85 23.38 141.09 22.82 141.33 22.25 141.57 21.68 141.8 21.11 142.04 20.54 142.28 19.97 142.52 19.39 142.75 18.81 142.99 18.23 143.23 17.64 143.47 17.06 143.7 16.47 143.94 15.88 144.18 15.29 144.42 14.69 144.66 14.1 144.89 13.5 145.13 12.9 145.37 12.3 145.61 11.69 145.84 11.08 146.08 10.47 146.32 9.86 146.56 9.25 146.79 8.63 147.03 8.02 147.27 7.4 147.51 6.78 147.75 6.15 147.98 5.53 148.22 4.9 148.46 4.27 148.7 3.63 148.93 3\"/>\n",
       "      </g>\n",
       "    </g>\n",
       "  </g>\n",
       "</g>\n",
       "  <g class=\"guide ylabels\" font-size=\"2.82\" font-family=\"Helvetica\" fill=\"#000000\" id=\"img-4f676bc5-15\">\n",
       "    <text x=\"3.57\" y=\"98.19\" text-anchor=\"end\" dy=\"0.35em\">3</text>\n",
       "    <text x=\"3.57\" y=\"74.39\" text-anchor=\"end\" dy=\"0.35em\">4</text>\n",
       "    <text x=\"3.57\" y=\"50.59\" text-anchor=\"end\" dy=\"0.35em\">5</text>\n",
       "    <text x=\"3.57\" y=\"26.8\" text-anchor=\"end\" dy=\"0.35em\">6</text>\n",
       "    <text x=\"3.57\" y=\"3\" text-anchor=\"end\" dy=\"0.35em\">7</text>\n",
       "  </g>\n",
       "</g>\n",
       "<defs>\n",
       "  <clipPath id=\"img-4f676bc5-8\">\n",
       "  <path d=\"M4.57,1 L 150.93 1 150.93 100.19 4.57 100.19\" />\n",
       "</clipPath>\n",
       "</defs>\n",
       "</svg>\n"
      ],
      "text/plain": [
       "Compose.SVG(158.73015873015876mm,105.82010582010584mm,IOBuffer(data=UInt8[...], readable=true, writable=true, seekable=true, append=false, size=10713, maxsize=Inf, ptr=10714, mark=-1),nothing,\"img-4f676bc5\",0,Compose.SVGPropertyFrame[],Dict{Type{T},Union{Compose.Property{P<:Compose.PropertyPrimitive},Void}}(),Dict{Compose.ClipPrimitive{P<:NTuple{N,Measures.Measure}},ASCIIString}(Compose.ClipPrimitive{Tuple{Measures.Length{:mm,Float64},Measures.Length{:mm,Float64}}}([(4.566666666666663mm,1.0mm),(150.9334920634921mm,1.0mm),(150.9334920634921mm,100.18677248677251mm),(4.566666666666663mm,100.18677248677251mm)])=>\"img-4f676bc5-8\"),Tuple{Compose.FormPrimitive,ASCIIString}[],Set{AbstractString}(),true,false,nothing,true,\"img-4f676bc5-15\",false,15,AbstractString[\"C:\\\\Users\\\\labor\\\\.julia\\\\v0.4\\\\Gadfly\\\\src\\\\gadfly.js\"],Tuple{AbstractString,AbstractString}[(\"Snap.svg\",\"Snap\"),(\"Gadfly\",\"Gadfly\")],AbstractString[\"fig.select(\\\"#img-4f676bc5-4\\\")\\n   .drag(function() {}, function() {}, function() {});\",\"fig.select(\\\"#img-4f676bc5-9\\\")\\n   .init_gadfly();\"],false,:none)"
      ]
     },
     "metadata": {},
     "output_type": "display_data"
    },
    {
     "data": {
      "text/html": []
     },
     "execution_count": 19,
     "metadata": {},
     "output_type": "execute_result"
    }
   ],
   "source": [
    "using Plots; gadfly()\n",
    "\n",
    "f(x) = x^2 - 2x + 4\n",
    "Plots.plot(f, -1, 3)           # график функции"
   ]
  },
  {
   "cell_type": "markdown",
   "metadata": {},
   "source": [
    "Отложение на графике сразу нескольких выражений, разумеется, возможно. Например, чтобы построить график функции и ее касательной в точке, можно сделать так:"
   ]
  },
  {
   "cell_type": "code",
   "execution_count": 20,
   "metadata": {
    "collapsed": false
   },
   "outputs": [
    {
     "data": {
      "image/svg+xml": [
       "<?xml version=\"1.0\" encoding=\"UTF-8\"?>\n",
       "<svg xmlns=\"http://www.w3.org/2000/svg\"\n",
       "     xmlns:xlink=\"http://www.w3.org/1999/xlink\"\n",
       "     xmlns:gadfly=\"http://www.gadflyjl.org/ns\"\n",
       "     version=\"1.2\"\n",
       "     width=\"158.73mm\" height=\"105.82mm\" viewBox=\"0 0 158.73 105.82\"\n",
       "     stroke=\"none\"\n",
       "     fill=\"#000000\"\n",
       "     stroke-width=\"0.3\"\n",
       "     font-size=\"3.88\"\n",
       ">\n",
       "<g stroke=\"#000000\" stroke-opacity=\"0.000\" fill=\"#FFFFFF\" id=\"img-51a2ca51-1\">\n",
       "  <rect x=\"0\" y=\"0\" width=\"158.73\" height=\"105.82\"/>\n",
       "</g>\n",
       "<g class=\"plotroot xscalable yscalable\" id=\"img-51a2ca51-2\">\n",
       "  <g class=\"guide xlabels\" font-size=\"2.82\" font-family=\"Helvetica\" fill=\"#000000\" id=\"img-51a2ca51-3\">\n",
       "    <text x=\"8.92\" y=\"101.19\" text-anchor=\"middle\" dy=\"0.6em\">1.0</text>\n",
       "    <text x=\"43.92\" y=\"101.19\" text-anchor=\"middle\" dy=\"0.6em\">1.5</text>\n",
       "    <text x=\"78.93\" y=\"101.19\" text-anchor=\"middle\" dy=\"0.6em\">2.0</text>\n",
       "    <text x=\"113.93\" y=\"101.19\" text-anchor=\"middle\" dy=\"0.6em\">2.5</text>\n",
       "    <text x=\"148.93\" y=\"101.19\" text-anchor=\"middle\" dy=\"0.6em\">3.0</text>\n",
       "  </g>\n",
       "  <g class=\"guide colorkey\" id=\"img-51a2ca51-4\">\n",
       "    <g fill=\"#000000\" font-size=\"2.82\" font-family=\"Helvetica\" id=\"img-51a2ca51-5\">\n",
       "      <text x=\"154.75\" y=\"50.59\" dy=\"0.35em\">y1</text>\n",
       "      <text x=\"154.75\" y=\"54.23\" dy=\"0.35em\">y2</text>\n",
       "    </g>\n",
       "    <g stroke=\"#000000\" stroke-opacity=\"0.000\" id=\"img-51a2ca51-6\">\n",
       "      <rect x=\"151.93\" y=\"49.69\" width=\"1.82\" height=\"1.82\" fill=\"#009AFA\"/>\n",
       "      <rect x=\"151.93\" y=\"53.32\" width=\"1.82\" height=\"1.82\" fill=\"#E36F47\"/>\n",
       "    </g>\n",
       "    <g fill=\"#000000\" font-size=\"3.88\" font-family=\"Helvetica\" stroke=\"#000000\" stroke-opacity=\"0.000\" id=\"img-51a2ca51-7\">\n",
       "      <text x=\"151.93\" y=\"46.77\"></text>\n",
       "    </g>\n",
       "  </g>\n",
       "<g clip-path=\"url(#img-51a2ca51-8)\">\n",
       "  <g id=\"img-51a2ca51-9\">\n",
       "    <g pointer-events=\"visible\" opacity=\"1\" fill=\"#000000\" fill-opacity=\"0.000\" stroke=\"#000000\" stroke-opacity=\"0.000\" class=\"guide background\" id=\"img-51a2ca51-10\">\n",
       "      <rect x=\"6.92\" y=\"1\" width=\"144.01\" height=\"99.19\"/>\n",
       "    </g>\n",
       "    <g class=\"guide ygridlines xfixed\" stroke-dasharray=\"0.5,0.5\" stroke-width=\"0.2\" stroke=\"#D0D0E0\" id=\"img-51a2ca51-11\">\n",
       "      <path fill=\"none\" d=\"M6.92,98.19 L 150.93 98.19\"/>\n",
       "      <path fill=\"none\" d=\"M6.92,74.39 L 150.93 74.39\"/>\n",
       "      <path fill=\"none\" d=\"M6.92,50.59 L 150.93 50.59\"/>\n",
       "      <path fill=\"none\" d=\"M6.92,26.8 L 150.93 26.8\"/>\n",
       "      <path fill=\"none\" d=\"M6.92,3 L 150.93 3\"/>\n",
       "    </g>\n",
       "    <g class=\"guide xgridlines yfixed\" stroke-dasharray=\"0.5,0.5\" stroke-width=\"0.2\" stroke=\"#D0D0E0\" id=\"img-51a2ca51-12\">\n",
       "      <path fill=\"none\" d=\"M8.92,1 L 8.92 100.19\"/>\n",
       "      <path fill=\"none\" d=\"M43.92,1 L 43.92 100.19\"/>\n",
       "      <path fill=\"none\" d=\"M78.93,1 L 78.93 100.19\"/>\n",
       "      <path fill=\"none\" d=\"M113.93,1 L 113.93 100.19\"/>\n",
       "      <path fill=\"none\" d=\"M148.93,1 L 148.93 100.19\"/>\n",
       "    </g>\n",
       "    <g class=\"plotpanel\" id=\"img-51a2ca51-13\">\n",
       "      <g stroke-width=\"0.26\" fill=\"#000000\" fill-opacity=\"0.000\" class=\"geometry\" stroke-dasharray=\"none\" stroke=\"#009AFA\" id=\"img-51a2ca51-14\">\n",
       "        <path fill=\"none\" d=\"M8.92,98.19 L 9.15 97.99 9.39 97.79 9.62 97.59 9.85 97.39 10.09 97.2 10.32 97 10.56 96.8 10.79 96.61 11.02 96.41 11.26 96.22 11.49 96.02 11.72 95.83 11.96 95.63 12.19 95.44 12.43 95.24 12.66 95.05 12.89 94.86 13.13 94.66 13.36 94.47 13.59 94.28 13.83 94.09 14.06 93.89 14.3 93.7 14.53 93.51 14.76 93.32 15 93.13 15.23 92.94 15.46 92.75 15.7 92.56 15.93 92.37 16.17 92.18 16.4 91.99 16.63 91.8 16.87 91.61 17.1 91.43 17.33 91.24 17.57 91.05 17.8 90.86 18.04 90.68 18.27 90.49 18.5 90.3 18.74 90.12 18.97 89.93 19.2 89.75 19.44 89.56 19.67 89.38 19.91 89.19 20.14 89.01 20.37 88.82 20.61 88.64 20.84 88.45 21.07 88.27 21.31 88.09 21.54 87.9 21.78 87.72 22.01 87.54 22.24 87.36 22.48 87.18 22.71 86.99 22.94 86.81 23.18 86.63 23.41 86.45 23.65 86.27 23.88 86.09 24.11 85.91 24.35 85.73 24.58 85.55 24.81 85.37 25.05 85.19 25.28 85.01 25.52 84.83 25.75 84.65 25.98 84.48 26.22 84.3 26.45 84.12 26.68 83.94 26.92 83.77 27.15 83.59 27.39 83.41 27.62 83.24 27.85 83.06 28.09 82.88 28.32 82.71 28.55 82.53 28.79 82.36 29.02 82.18 29.26 82.01 29.49 81.83 29.72 81.66 29.96 81.48 30.19 81.31 30.42 81.13 30.66 80.96 30.89 80.79 31.13 80.61 31.36 80.44 31.59 80.27 31.83 80.1 32.06 79.92 32.29 79.75 32.53 79.58 32.76 79.41 33 79.24 33.23 79.07 33.46 78.89 33.7 78.72 33.93 78.55 34.16 78.38 34.4 78.21 34.63 78.04 34.87 77.87 35.1 77.7 35.33 77.53 35.57 77.36 35.8 77.2 36.03 77.03 36.27 76.86 36.5 76.69 36.74 76.52 36.97 76.35 37.2 76.19 37.44 76.02 37.67 75.85 37.9 75.68 38.14 75.52 38.37 75.35 38.61 75.18 38.84 75.02 39.07 74.85 39.31 74.69 39.54 74.52 39.77 74.35 40.01 74.19 40.24 74.02 40.48 73.86 40.71 73.69 40.94 73.53 41.18 73.36 41.41 73.2 41.64 73.04 41.88 72.87 42.11 72.71 42.35 72.54 42.58 72.38 42.81 72.22 43.05 72.06 43.28 71.89 43.51 71.73 43.75 71.57 43.98 71.41 44.22 71.24 44.45 71.08 44.68 70.92 44.92 70.76 45.15 70.6 45.38 70.44 45.62 70.27 45.85 70.11 46.09 69.95 46.32 69.79 46.55 69.63 46.79 69.47 47.02 69.31 47.25 69.15 47.49 68.99 47.72 68.83 47.96 68.67 48.19 68.52 48.42 68.36 48.66 68.2 48.89 68.04 49.12 67.88 49.36 67.72 49.59 67.56 49.83 67.41 50.06 67.25 50.29 67.09 50.53 66.93 50.76 66.78 50.99 66.62 51.23 66.46 51.46 66.31 51.7 66.15 51.93 65.99 52.16 65.84 52.4 65.68 52.63 65.52 52.86 65.37 53.1 65.21 53.33 65.06 53.57 64.9 53.8 64.75 54.03 64.59 54.27 64.44 54.5 64.28 54.73 64.13 54.97 63.97 55.2 63.82 55.44 63.67 55.67 63.51 55.9 63.36 56.14 63.2 56.37 63.05 56.6 62.9 56.84 62.74 57.07 62.59 57.31 62.44 57.54 62.29 57.77 62.13 58.01 61.98 58.24 61.83 58.47 61.68 58.71 61.53 58.94 61.37 59.18 61.22 59.41 61.07 59.64 60.92 59.88 60.77 60.11 60.62 60.34 60.47 60.58 60.32 60.81 60.16 61.05 60.01 61.28 59.86 61.51 59.71 61.75 59.56 61.98 59.41 62.21 59.26 62.45 59.11 62.68 58.96 62.92 58.82 63.15 58.67 63.38 58.52 63.62 58.37 63.85 58.22 64.08 58.07 64.32 57.92 64.55 57.77 64.79 57.63 65.02 57.48 65.25 57.33 65.49 57.18 65.72 57.03 65.95 56.89 66.19 56.74 66.42 56.59 66.66 56.45 66.89 56.3 67.12 56.15 67.36 56 67.59 55.86 67.82 55.71 68.06 55.57 68.29 55.42 68.53 55.27 68.76 55.13 68.99 54.98 69.23 54.84 69.46 54.69 69.69 54.54 69.93 54.4 70.16 54.25 70.4 54.11 70.63 53.96 70.86 53.82 71.1 53.68 71.33 53.53 71.56 53.39 71.8 53.24 72.03 53.1 72.27 52.95 72.5 52.81 72.73 52.67 72.97 52.52 73.2 52.38 73.43 52.24 73.67 52.09 73.9 51.95 74.13 51.81 74.37 51.66 74.6 51.52 74.84 51.38 75.07 51.24 75.3 51.09 75.54 50.95 75.77 50.81 76 50.67 76.24 50.53 76.47 50.38 76.71 50.24 76.94 50.1 77.17 49.96 77.41 49.82 77.64 49.68 77.87 49.54 78.11 49.39 78.34 49.25 78.58 49.11 78.81 48.97 79.04 48.83 79.28 48.69 79.51 48.55 79.74 48.41 79.98 48.27 80.21 48.13 80.45 47.99 80.68 47.85 80.91 47.71 81.15 47.57 81.38 47.43 81.61 47.29 81.85 47.16 82.08 47.02 82.32 46.88 82.55 46.74 82.78 46.6 83.02 46.46 83.25 46.32 83.48 46.19 83.72 46.05 83.95 45.91 84.19 45.77 84.42 45.63 84.65 45.5 84.89 45.36 85.12 45.22 85.35 45.08 85.59 44.95 85.82 44.81 86.06 44.67 86.29 44.53 86.52 44.4 86.76 44.26 86.99 44.12 87.22 43.99 87.46 43.85 87.69 43.72 87.93 43.58 88.16 43.44 88.39 43.31 88.63 43.17 88.86 43.04 89.09 42.9 89.33 42.76 89.56 42.63 89.8 42.49 90.03 42.36 90.26 42.22 90.5 42.09 90.73 41.95 90.96 41.82 91.2 41.68 91.43 41.55 91.67 41.41 91.9 41.28 92.13 41.15 92.37 41.01 92.6 40.88 92.83 40.74 93.07 40.61 93.3 40.48 93.54 40.34 93.77 40.21 94 40.07 94.24 39.94 94.47 39.81 94.7 39.67 94.94 39.54 95.17 39.41 95.41 39.28 95.64 39.14 95.87 39.01 96.11 38.88 96.34 38.74 96.57 38.61 96.81 38.48 97.04 38.35 97.28 38.22 97.51 38.08 97.74 37.95 97.98 37.82 98.21 37.69 98.44 37.56 98.68 37.42 98.91 37.29 99.15 37.16 99.38 37.03 99.61 36.9 99.85 36.77 100.08 36.64 100.31 36.51 100.55 36.38 100.78 36.25 101.02 36.11 101.25 35.98 101.48 35.85 101.72 35.72 101.95 35.59 102.18 35.46 102.42 35.33 102.65 35.2 102.89 35.07 103.12 34.94 103.35 34.81 103.59 34.68 103.82 34.56 104.05 34.43 104.29 34.3 104.52 34.17 104.76 34.04 104.99 33.91 105.22 33.78 105.46 33.65 105.69 33.52 105.92 33.39 106.16 33.27 106.39 33.14 106.63 33.01 106.86 32.88 107.09 32.75 107.33 32.62 107.56 32.5 107.79 32.37 108.03 32.24 108.26 32.11 108.5 31.98 108.73 31.86 108.96 31.73 109.2 31.6 109.43 31.47 109.66 31.35 109.9 31.22 110.13 31.09 110.37 30.97 110.6 30.84 110.83 30.71 111.07 30.59 111.3 30.46 111.53 30.33 111.77 30.21 112 30.08 112.24 29.95 112.47 29.83 112.7 29.7 112.94 29.58 113.17 29.45 113.4 29.32 113.64 29.2 113.87 29.07 114.11 28.95 114.34 28.82 114.57 28.7 114.81 28.57 115.04 28.45 115.27 28.32 115.51 28.19 115.74 28.07 115.98 27.94 116.21 27.82 116.44 27.7 116.68 27.57 116.91 27.45 117.14 27.32 117.38 27.2 117.61 27.07 117.85 26.95 118.08 26.82 118.31 26.7 118.55 26.58 118.78 26.45 119.01 26.33 119.25 26.2 119.48 26.08 119.72 25.96 119.95 25.83 120.18 25.71 120.42 25.59 120.65 25.46 120.88 25.34 121.12 25.22 121.35 25.09 121.59 24.97 121.82 24.85 122.05 24.72 122.29 24.6 122.52 24.48 122.75 24.36 122.99 24.23 123.22 24.11 123.46 23.99 123.69 23.87 123.92 23.74 124.16 23.62 124.39 23.5 124.62 23.38 124.86 23.26 125.09 23.13 125.33 23.01 125.56 22.89 125.79 22.77 126.03 22.65 126.26 22.53 126.49 22.41 126.73 22.28 126.96 22.16 127.2 22.04 127.43 21.92 127.66 21.8 127.9 21.68 128.13 21.56 128.36 21.44 128.6 21.32 128.83 21.2 129.07 21.08 129.3 20.95 129.53 20.83 129.77 20.71 130 20.59 130.23 20.47 130.47 20.35 130.7 20.23 130.94 20.11 131.17 19.99 131.4 19.87 131.64 19.75 131.87 19.63 132.1 19.51 132.34 19.39 132.57 19.28 132.81 19.16 133.04 19.04 133.27 18.92 133.51 18.8 133.74 18.68 133.97 18.56 134.21 18.44 134.44 18.32 134.68 18.2 134.91 18.08 135.14 17.97 135.38 17.85 135.61 17.73 135.84 17.61 136.08 17.49 136.31 17.37 136.54 17.26 136.78 17.14 137.01 17.02 137.25 16.9 137.48 16.78 137.71 16.67 137.95 16.55 138.18 16.43 138.41 16.31 138.65 16.19 138.88 16.08 139.12 15.96 139.35 15.84 139.58 15.72 139.82 15.61 140.05 15.49 140.28 15.37 140.52 15.26 140.75 15.14 140.99 15.02 141.22 14.9 141.45 14.79 141.69 14.67 141.92 14.55 142.15 14.44 142.39 14.32 142.62 14.2 142.86 14.09 143.09 13.97 143.32 13.86 143.56 13.74 143.79 13.62 144.02 13.51 144.26 13.39 144.49 13.28 144.73 13.16 144.96 13.04 145.19 12.93 145.43 12.81 145.66 12.7 145.89 12.58 146.13 12.47 146.36 12.35 146.6 12.23 146.83 12.12 147.06 12 147.3 11.89 147.53 11.77 147.76 11.66 148 11.54 148.23 11.43 148.47 11.31 148.7 11.2 148.93 11.08\"/>\n",
       "      </g>\n",
       "      <g stroke-width=\"0.26\" fill=\"#000000\" fill-opacity=\"0.000\" class=\"geometry\" stroke-dasharray=\"none\" stroke=\"#E36F47\" id=\"img-51a2ca51-15\">\n",
       "        <path fill=\"none\" d=\"M8.92,90.97 L 9.15 90.83 9.39 90.69 9.62 90.55 9.85 90.41 10.09 90.27 10.32 90.13 10.56 89.99 10.79 89.85 11.02 89.71 11.26 89.56 11.49 89.42 11.72 89.28 11.96 89.14 12.19 89 12.43 88.86 12.66 88.72 12.89 88.58 13.13 88.44 13.36 88.3 13.59 88.16 13.83 88.02 14.06 87.88 14.3 87.74 14.53 87.6 14.76 87.46 15 87.32 15.23 87.18 15.46 87.04 15.7 86.9 15.93 86.76 16.17 86.62 16.4 86.47 16.63 86.33 16.87 86.19 17.1 86.05 17.33 85.91 17.57 85.77 17.8 85.63 18.04 85.49 18.27 85.35 18.5 85.21 18.74 85.07 18.97 84.93 19.2 84.79 19.44 84.65 19.67 84.51 19.91 84.37 20.14 84.23 20.37 84.09 20.61 83.95 20.84 83.81 21.07 83.67 21.31 83.52 21.54 83.38 21.78 83.24 22.01 83.1 22.24 82.96 22.48 82.82 22.71 82.68 22.94 82.54 23.18 82.4 23.41 82.26 23.65 82.12 23.88 81.98 24.11 81.84 24.35 81.7 24.58 81.56 24.81 81.42 25.05 81.28 25.28 81.14 25.52 81 25.75 80.86 25.98 80.72 26.22 80.58 26.45 80.43 26.68 80.29 26.92 80.15 27.15 80.01 27.39 79.87 27.62 79.73 27.85 79.59 28.09 79.45 28.32 79.31 28.55 79.17 28.79 79.03 29.02 78.89 29.26 78.75 29.49 78.61 29.72 78.47 29.96 78.33 30.19 78.19 30.42 78.05 30.66 77.91 30.89 77.77 31.13 77.63 31.36 77.49 31.59 77.34 31.83 77.2 32.06 77.06 32.29 76.92 32.53 76.78 32.76 76.64 33 76.5 33.23 76.36 33.46 76.22 33.7 76.08 33.93 75.94 34.16 75.8 34.4 75.66 34.63 75.52 34.87 75.38 35.1 75.24 35.33 75.1 35.57 74.96 35.8 74.82 36.03 74.68 36.27 74.54 36.5 74.4 36.74 74.25 36.97 74.11 37.2 73.97 37.44 73.83 37.67 73.69 37.9 73.55 38.14 73.41 38.37 73.27 38.61 73.13 38.84 72.99 39.07 72.85 39.31 72.71 39.54 72.57 39.77 72.43 40.01 72.29 40.24 72.15 40.48 72.01 40.71 71.87 40.94 71.73 41.18 71.59 41.41 71.45 41.64 71.31 41.88 71.16 42.11 71.02 42.35 70.88 42.58 70.74 42.81 70.6 43.05 70.46 43.28 70.32 43.51 70.18 43.75 70.04 43.98 69.9 44.22 69.76 44.45 69.62 44.68 69.48 44.92 69.34 45.15 69.2 45.38 69.06 45.62 68.92 45.85 68.78 46.09 68.64 46.32 68.5 46.55 68.36 46.79 68.22 47.02 68.07 47.25 67.93 47.49 67.79 47.72 67.65 47.96 67.51 48.19 67.37 48.42 67.23 48.66 67.09 48.89 66.95 49.12 66.81 49.36 66.67 49.59 66.53 49.83 66.39 50.06 66.25 50.29 66.11 50.53 65.97 50.76 65.83 50.99 65.69 51.23 65.55 51.46 65.41 51.7 65.27 51.93 65.13 52.16 64.98 52.4 64.84 52.63 64.7 52.86 64.56 53.1 64.42 53.33 64.28 53.57 64.14 53.8 64 54.03 63.86 54.27 63.72 54.5 63.58 54.73 63.44 54.97 63.3 55.2 63.16 55.44 63.02 55.67 62.88 55.9 62.74 56.14 62.6 56.37 62.46 56.6 62.32 56.84 62.18 57.07 62.03 57.31 61.89 57.54 61.75 57.77 61.61 58.01 61.47 58.24 61.33 58.47 61.19 58.71 61.05 58.94 60.91 59.18 60.77 59.41 60.63 59.64 60.49 59.88 60.35 60.11 60.21 60.34 60.07 60.58 59.93 60.81 59.79 61.05 59.65 61.28 59.51 61.51 59.37 61.75 59.23 61.98 59.09 62.21 58.94 62.45 58.8 62.68 58.66 62.92 58.52 63.15 58.38 63.38 58.24 63.62 58.1 63.85 57.96 64.08 57.82 64.32 57.68 64.55 57.54 64.79 57.4 65.02 57.26 65.25 57.12 65.49 56.98 65.72 56.84 65.95 56.7 66.19 56.56 66.42 56.42 66.66 56.28 66.89 56.14 67.12 56 67.36 55.85 67.59 55.71 67.82 55.57 68.06 55.43 68.29 55.29 68.53 55.15 68.76 55.01 68.99 54.87 69.23 54.73 69.46 54.59 69.69 54.45 69.93 54.31 70.16 54.17 70.4 54.03 70.63 53.89 70.86 53.75 71.1 53.61 71.33 53.47 71.56 53.33 71.8 53.19 72.03 53.05 72.27 52.91 72.5 52.76 72.73 52.62 72.97 52.48 73.2 52.34 73.43 52.2 73.67 52.06 73.9 51.92 74.13 51.78 74.37 51.64 74.6 51.5 74.84 51.36 75.07 51.22 75.3 51.08 75.54 50.94 75.77 50.8 76 50.66 76.24 50.52 76.47 50.38 76.71 50.24 76.94 50.1 77.17 49.96 77.41 49.82 77.64 49.67 77.87 49.53 78.11 49.39 78.34 49.25 78.58 49.11 78.81 48.97 79.04 48.83 79.28 48.69 79.51 48.55 79.74 48.41 79.98 48.27 80.21 48.13 80.45 47.99 80.68 47.85 80.91 47.71 81.15 47.57 81.38 47.43 81.61 47.29 81.85 47.15 82.08 47.01 82.32 46.87 82.55 46.73 82.78 46.58 83.02 46.44 83.25 46.3 83.48 46.16 83.72 46.02 83.95 45.88 84.19 45.74 84.42 45.6 84.65 45.46 84.89 45.32 85.12 45.18 85.35 45.04 85.59 44.9 85.82 44.76 86.06 44.62 86.29 44.48 86.52 44.34 86.76 44.2 86.99 44.06 87.22 43.92 87.46 43.78 87.69 43.64 87.93 43.49 88.16 43.35 88.39 43.21 88.63 43.07 88.86 42.93 89.09 42.79 89.33 42.65 89.56 42.51 89.8 42.37 90.03 42.23 90.26 42.09 90.5 41.95 90.73 41.81 90.96 41.67 91.2 41.53 91.43 41.39 91.67 41.25 91.9 41.11 92.13 40.97 92.37 40.83 92.6 40.69 92.83 40.54 93.07 40.4 93.3 40.26 93.54 40.12 93.77 39.98 94 39.84 94.24 39.7 94.47 39.56 94.7 39.42 94.94 39.28 95.17 39.14 95.41 39 95.64 38.86 95.87 38.72 96.11 38.58 96.34 38.44 96.57 38.3 96.81 38.16 97.04 38.02 97.28 37.88 97.51 37.74 97.74 37.6 97.98 37.45 98.21 37.31 98.44 37.17 98.68 37.03 98.91 36.89 99.15 36.75 99.38 36.61 99.61 36.47 99.85 36.33 100.08 36.19 100.31 36.05 100.55 35.91 100.78 35.77 101.02 35.63 101.25 35.49 101.48 35.35 101.72 35.21 101.95 35.07 102.18 34.93 102.42 34.79 102.65 34.65 102.89 34.51 103.12 34.36 103.35 34.22 103.59 34.08 103.82 33.94 104.05 33.8 104.29 33.66 104.52 33.52 104.76 33.38 104.99 33.24 105.22 33.1 105.46 32.96 105.69 32.82 105.92 32.68 106.16 32.54 106.39 32.4 106.63 32.26 106.86 32.12 107.09 31.98 107.33 31.84 107.56 31.7 107.79 31.56 108.03 31.42 108.26 31.27 108.5 31.13 108.73 30.99 108.96 30.85 109.2 30.71 109.43 30.57 109.66 30.43 109.9 30.29 110.13 30.15 110.37 30.01 110.6 29.87 110.83 29.73 111.07 29.59 111.3 29.45 111.53 29.31 111.77 29.17 112 29.03 112.24 28.89 112.47 28.75 112.7 28.61 112.94 28.47 113.17 28.33 113.4 28.18 113.64 28.04 113.87 27.9 114.11 27.76 114.34 27.62 114.57 27.48 114.81 27.34 115.04 27.2 115.27 27.06 115.51 26.92 115.74 26.78 115.98 26.64 116.21 26.5 116.44 26.36 116.68 26.22 116.91 26.08 117.14 25.94 117.38 25.8 117.61 25.66 117.85 25.52 118.08 25.38 118.31 25.24 118.55 25.09 118.78 24.95 119.01 24.81 119.25 24.67 119.48 24.53 119.72 24.39 119.95 24.25 120.18 24.11 120.42 23.97 120.65 23.83 120.88 23.69 121.12 23.55 121.35 23.41 121.59 23.27 121.82 23.13 122.05 22.99 122.29 22.85 122.52 22.71 122.75 22.57 122.99 22.43 123.22 22.29 123.46 22.15 123.69 22 123.92 21.86 124.16 21.72 124.39 21.58 124.62 21.44 124.86 21.3 125.09 21.16 125.33 21.02 125.56 20.88 125.79 20.74 126.03 20.6 126.26 20.46 126.49 20.32 126.73 20.18 126.96 20.04 127.2 19.9 127.43 19.76 127.66 19.62 127.9 19.48 128.13 19.34 128.36 19.2 128.6 19.05 128.83 18.91 129.07 18.77 129.3 18.63 129.53 18.49 129.77 18.35 130 18.21 130.23 18.07 130.47 17.93 130.7 17.79 130.94 17.65 131.17 17.51 131.4 17.37 131.64 17.23 131.87 17.09 132.1 16.95 132.34 16.81 132.57 16.67 132.81 16.53 133.04 16.39 133.27 16.25 133.51 16.11 133.74 15.96 133.97 15.82 134.21 15.68 134.44 15.54 134.68 15.4 134.91 15.26 135.14 15.12 135.38 14.98 135.61 14.84 135.84 14.7 136.08 14.56 136.31 14.42 136.54 14.28 136.78 14.14 137.01 14 137.25 13.86 137.48 13.72 137.71 13.58 137.95 13.44 138.18 13.3 138.41 13.16 138.65 13.02 138.88 12.87 139.12 12.73 139.35 12.59 139.58 12.45 139.82 12.31 140.05 12.17 140.28 12.03 140.52 11.89 140.75 11.75 140.99 11.61 141.22 11.47 141.45 11.33 141.69 11.19 141.92 11.05 142.15 10.91 142.39 10.77 142.62 10.63 142.86 10.49 143.09 10.35 143.32 10.21 143.56 10.07 143.79 9.93 144.02 9.78 144.26 9.64 144.49 9.5 144.73 9.36 144.96 9.22 145.19 9.08 145.43 8.94 145.66 8.8 145.89 8.66 146.13 8.52 146.36 8.38 146.6 8.24 146.83 8.1 147.06 7.96 147.3 7.82 147.53 7.68 147.76 7.54 148 7.4 148.23 7.26 148.47 7.12 148.7 6.98 148.93 6.84\"/>\n",
       "      </g>\n",
       "    </g>\n",
       "  </g>\n",
       "</g>\n",
       "  <g class=\"guide ylabels\" font-size=\"2.82\" font-family=\"Helvetica\" fill=\"#000000\" id=\"img-51a2ca51-16\">\n",
       "    <text x=\"5.92\" y=\"98.19\" text-anchor=\"end\" dy=\"0.35em\">1.0</text>\n",
       "    <text x=\"5.92\" y=\"74.39\" text-anchor=\"end\" dy=\"0.35em\">1.2</text>\n",
       "    <text x=\"5.92\" y=\"50.59\" text-anchor=\"end\" dy=\"0.35em\">1.4</text>\n",
       "    <text x=\"5.92\" y=\"26.8\" text-anchor=\"end\" dy=\"0.35em\">1.6</text>\n",
       "    <text x=\"5.92\" y=\"3\" text-anchor=\"end\" dy=\"0.35em\">1.8</text>\n",
       "  </g>\n",
       "</g>\n",
       "<defs>\n",
       "  <clipPath id=\"img-51a2ca51-8\">\n",
       "  <path d=\"M6.92,1 L 150.93 1 150.93 100.19 6.92 100.19\" />\n",
       "</clipPath>\n",
       "</defs>\n",
       "</svg>\n"
      ],
      "text/html": [
       "<?xml version=\"1.0\" encoding=\"UTF-8\"?>\n",
       "<svg xmlns=\"http://www.w3.org/2000/svg\"\n",
       "     xmlns:xlink=\"http://www.w3.org/1999/xlink\"\n",
       "     xmlns:gadfly=\"http://www.gadflyjl.org/ns\"\n",
       "     version=\"1.2\"\n",
       "     width=\"158.73mm\" height=\"105.82mm\" viewBox=\"0 0 158.73 105.82\"\n",
       "     stroke=\"none\"\n",
       "     fill=\"#000000\"\n",
       "     stroke-width=\"0.3\"\n",
       "     font-size=\"3.88\"\n",
       ">\n",
       "<g stroke=\"#000000\" stroke-opacity=\"0.000\" fill=\"#FFFFFF\" id=\"img-51a2ca51-1\">\n",
       "  <rect x=\"0\" y=\"0\" width=\"158.73\" height=\"105.82\"/>\n",
       "</g>\n",
       "<g class=\"plotroot xscalable yscalable\" id=\"img-51a2ca51-2\">\n",
       "  <g class=\"guide xlabels\" font-size=\"2.82\" font-family=\"Helvetica\" fill=\"#000000\" id=\"img-51a2ca51-3\">\n",
       "    <text x=\"8.92\" y=\"101.19\" text-anchor=\"middle\" dy=\"0.6em\">1.0</text>\n",
       "    <text x=\"43.92\" y=\"101.19\" text-anchor=\"middle\" dy=\"0.6em\">1.5</text>\n",
       "    <text x=\"78.93\" y=\"101.19\" text-anchor=\"middle\" dy=\"0.6em\">2.0</text>\n",
       "    <text x=\"113.93\" y=\"101.19\" text-anchor=\"middle\" dy=\"0.6em\">2.5</text>\n",
       "    <text x=\"148.93\" y=\"101.19\" text-anchor=\"middle\" dy=\"0.6em\">3.0</text>\n",
       "  </g>\n",
       "  <g class=\"guide colorkey\" id=\"img-51a2ca51-4\">\n",
       "    <g fill=\"#000000\" font-size=\"2.82\" font-family=\"Helvetica\" id=\"img-51a2ca51-5\">\n",
       "      <text x=\"154.75\" y=\"50.59\" dy=\"0.35em\">y1</text>\n",
       "      <text x=\"154.75\" y=\"54.23\" dy=\"0.35em\">y2</text>\n",
       "    </g>\n",
       "    <g stroke=\"#000000\" stroke-opacity=\"0.000\" id=\"img-51a2ca51-6\">\n",
       "      <rect x=\"151.93\" y=\"49.69\" width=\"1.82\" height=\"1.82\" fill=\"#009AFA\"/>\n",
       "      <rect x=\"151.93\" y=\"53.32\" width=\"1.82\" height=\"1.82\" fill=\"#E36F47\"/>\n",
       "    </g>\n",
       "    <g fill=\"#000000\" font-size=\"3.88\" font-family=\"Helvetica\" stroke=\"#000000\" stroke-opacity=\"0.000\" id=\"img-51a2ca51-7\">\n",
       "      <text x=\"151.93\" y=\"46.77\"></text>\n",
       "    </g>\n",
       "  </g>\n",
       "<g clip-path=\"url(#img-51a2ca51-8)\">\n",
       "  <g id=\"img-51a2ca51-9\">\n",
       "    <g pointer-events=\"visible\" opacity=\"1\" fill=\"#000000\" fill-opacity=\"0.000\" stroke=\"#000000\" stroke-opacity=\"0.000\" class=\"guide background\" id=\"img-51a2ca51-10\">\n",
       "      <rect x=\"6.92\" y=\"1\" width=\"144.01\" height=\"99.19\"/>\n",
       "    </g>\n",
       "    <g class=\"guide ygridlines xfixed\" stroke-dasharray=\"0.5,0.5\" stroke-width=\"0.2\" stroke=\"#D0D0E0\" id=\"img-51a2ca51-11\">\n",
       "      <path fill=\"none\" d=\"M6.92,98.19 L 150.93 98.19\"/>\n",
       "      <path fill=\"none\" d=\"M6.92,74.39 L 150.93 74.39\"/>\n",
       "      <path fill=\"none\" d=\"M6.92,50.59 L 150.93 50.59\"/>\n",
       "      <path fill=\"none\" d=\"M6.92,26.8 L 150.93 26.8\"/>\n",
       "      <path fill=\"none\" d=\"M6.92,3 L 150.93 3\"/>\n",
       "    </g>\n",
       "    <g class=\"guide xgridlines yfixed\" stroke-dasharray=\"0.5,0.5\" stroke-width=\"0.2\" stroke=\"#D0D0E0\" id=\"img-51a2ca51-12\">\n",
       "      <path fill=\"none\" d=\"M8.92,1 L 8.92 100.19\"/>\n",
       "      <path fill=\"none\" d=\"M43.92,1 L 43.92 100.19\"/>\n",
       "      <path fill=\"none\" d=\"M78.93,1 L 78.93 100.19\"/>\n",
       "      <path fill=\"none\" d=\"M113.93,1 L 113.93 100.19\"/>\n",
       "      <path fill=\"none\" d=\"M148.93,1 L 148.93 100.19\"/>\n",
       "    </g>\n",
       "    <g class=\"plotpanel\" id=\"img-51a2ca51-13\">\n",
       "      <g stroke-width=\"0.26\" fill=\"#000000\" fill-opacity=\"0.000\" class=\"geometry\" stroke-dasharray=\"none\" stroke=\"#009AFA\" id=\"img-51a2ca51-14\">\n",
       "        <path fill=\"none\" d=\"M8.92,98.19 L 9.15 97.99 9.39 97.79 9.62 97.59 9.85 97.39 10.09 97.2 10.32 97 10.56 96.8 10.79 96.61 11.02 96.41 11.26 96.22 11.49 96.02 11.72 95.83 11.96 95.63 12.19 95.44 12.43 95.24 12.66 95.05 12.89 94.86 13.13 94.66 13.36 94.47 13.59 94.28 13.83 94.09 14.06 93.89 14.3 93.7 14.53 93.51 14.76 93.32 15 93.13 15.23 92.94 15.46 92.75 15.7 92.56 15.93 92.37 16.17 92.18 16.4 91.99 16.63 91.8 16.87 91.61 17.1 91.43 17.33 91.24 17.57 91.05 17.8 90.86 18.04 90.68 18.27 90.49 18.5 90.3 18.74 90.12 18.97 89.93 19.2 89.75 19.44 89.56 19.67 89.38 19.91 89.19 20.14 89.01 20.37 88.82 20.61 88.64 20.84 88.45 21.07 88.27 21.31 88.09 21.54 87.9 21.78 87.72 22.01 87.54 22.24 87.36 22.48 87.18 22.71 86.99 22.94 86.81 23.18 86.63 23.41 86.45 23.65 86.27 23.88 86.09 24.11 85.91 24.35 85.73 24.58 85.55 24.81 85.37 25.05 85.19 25.28 85.01 25.52 84.83 25.75 84.65 25.98 84.48 26.22 84.3 26.45 84.12 26.68 83.94 26.92 83.77 27.15 83.59 27.39 83.41 27.62 83.24 27.85 83.06 28.09 82.88 28.32 82.71 28.55 82.53 28.79 82.36 29.02 82.18 29.26 82.01 29.49 81.83 29.72 81.66 29.96 81.48 30.19 81.31 30.42 81.13 30.66 80.96 30.89 80.79 31.13 80.61 31.36 80.44 31.59 80.27 31.83 80.1 32.06 79.92 32.29 79.75 32.53 79.58 32.76 79.41 33 79.24 33.23 79.07 33.46 78.89 33.7 78.72 33.93 78.55 34.16 78.38 34.4 78.21 34.63 78.04 34.87 77.87 35.1 77.7 35.33 77.53 35.57 77.36 35.8 77.2 36.03 77.03 36.27 76.86 36.5 76.69 36.74 76.52 36.97 76.35 37.2 76.19 37.44 76.02 37.67 75.85 37.9 75.68 38.14 75.52 38.37 75.35 38.61 75.18 38.84 75.02 39.07 74.85 39.31 74.69 39.54 74.52 39.77 74.35 40.01 74.19 40.24 74.02 40.48 73.86 40.71 73.69 40.94 73.53 41.18 73.36 41.41 73.2 41.64 73.04 41.88 72.87 42.11 72.71 42.35 72.54 42.58 72.38 42.81 72.22 43.05 72.06 43.28 71.89 43.51 71.73 43.75 71.57 43.98 71.41 44.22 71.24 44.45 71.08 44.68 70.92 44.92 70.76 45.15 70.6 45.38 70.44 45.62 70.27 45.85 70.11 46.09 69.95 46.32 69.79 46.55 69.63 46.79 69.47 47.02 69.31 47.25 69.15 47.49 68.99 47.72 68.83 47.96 68.67 48.19 68.52 48.42 68.36 48.66 68.2 48.89 68.04 49.12 67.88 49.36 67.72 49.59 67.56 49.83 67.41 50.06 67.25 50.29 67.09 50.53 66.93 50.76 66.78 50.99 66.62 51.23 66.46 51.46 66.31 51.7 66.15 51.93 65.99 52.16 65.84 52.4 65.68 52.63 65.52 52.86 65.37 53.1 65.21 53.33 65.06 53.57 64.9 53.8 64.75 54.03 64.59 54.27 64.44 54.5 64.28 54.73 64.13 54.97 63.97 55.2 63.82 55.44 63.67 55.67 63.51 55.9 63.36 56.14 63.2 56.37 63.05 56.6 62.9 56.84 62.74 57.07 62.59 57.31 62.44 57.54 62.29 57.77 62.13 58.01 61.98 58.24 61.83 58.47 61.68 58.71 61.53 58.94 61.37 59.18 61.22 59.41 61.07 59.64 60.92 59.88 60.77 60.11 60.62 60.34 60.47 60.58 60.32 60.81 60.16 61.05 60.01 61.28 59.86 61.51 59.71 61.75 59.56 61.98 59.41 62.21 59.26 62.45 59.11 62.68 58.96 62.92 58.82 63.15 58.67 63.38 58.52 63.62 58.37 63.85 58.22 64.08 58.07 64.32 57.92 64.55 57.77 64.79 57.63 65.02 57.48 65.25 57.33 65.49 57.18 65.72 57.03 65.95 56.89 66.19 56.74 66.42 56.59 66.66 56.45 66.89 56.3 67.12 56.15 67.36 56 67.59 55.86 67.82 55.71 68.06 55.57 68.29 55.42 68.53 55.27 68.76 55.13 68.99 54.98 69.23 54.84 69.46 54.69 69.69 54.54 69.93 54.4 70.16 54.25 70.4 54.11 70.63 53.96 70.86 53.82 71.1 53.68 71.33 53.53 71.56 53.39 71.8 53.24 72.03 53.1 72.27 52.95 72.5 52.81 72.73 52.67 72.97 52.52 73.2 52.38 73.43 52.24 73.67 52.09 73.9 51.95 74.13 51.81 74.37 51.66 74.6 51.52 74.84 51.38 75.07 51.24 75.3 51.09 75.54 50.95 75.77 50.81 76 50.67 76.24 50.53 76.47 50.38 76.71 50.24 76.94 50.1 77.17 49.96 77.41 49.82 77.64 49.68 77.87 49.54 78.11 49.39 78.34 49.25 78.58 49.11 78.81 48.97 79.04 48.83 79.28 48.69 79.51 48.55 79.74 48.41 79.98 48.27 80.21 48.13 80.45 47.99 80.68 47.85 80.91 47.71 81.15 47.57 81.38 47.43 81.61 47.29 81.85 47.16 82.08 47.02 82.32 46.88 82.55 46.74 82.78 46.6 83.02 46.46 83.25 46.32 83.48 46.19 83.72 46.05 83.95 45.91 84.19 45.77 84.42 45.63 84.65 45.5 84.89 45.36 85.12 45.22 85.35 45.08 85.59 44.95 85.82 44.81 86.06 44.67 86.29 44.53 86.52 44.4 86.76 44.26 86.99 44.12 87.22 43.99 87.46 43.85 87.69 43.72 87.93 43.58 88.16 43.44 88.39 43.31 88.63 43.17 88.86 43.04 89.09 42.9 89.33 42.76 89.56 42.63 89.8 42.49 90.03 42.36 90.26 42.22 90.5 42.09 90.73 41.95 90.96 41.82 91.2 41.68 91.43 41.55 91.67 41.41 91.9 41.28 92.13 41.15 92.37 41.01 92.6 40.88 92.83 40.74 93.07 40.61 93.3 40.48 93.54 40.34 93.77 40.21 94 40.07 94.24 39.94 94.47 39.81 94.7 39.67 94.94 39.54 95.17 39.41 95.41 39.28 95.64 39.14 95.87 39.01 96.11 38.88 96.34 38.74 96.57 38.61 96.81 38.48 97.04 38.35 97.28 38.22 97.51 38.08 97.74 37.95 97.98 37.82 98.21 37.69 98.44 37.56 98.68 37.42 98.91 37.29 99.15 37.16 99.38 37.03 99.61 36.9 99.85 36.77 100.08 36.64 100.31 36.51 100.55 36.38 100.78 36.25 101.02 36.11 101.25 35.98 101.48 35.85 101.72 35.72 101.95 35.59 102.18 35.46 102.42 35.33 102.65 35.2 102.89 35.07 103.12 34.94 103.35 34.81 103.59 34.68 103.82 34.56 104.05 34.43 104.29 34.3 104.52 34.17 104.76 34.04 104.99 33.91 105.22 33.78 105.46 33.65 105.69 33.52 105.92 33.39 106.16 33.27 106.39 33.14 106.63 33.01 106.86 32.88 107.09 32.75 107.33 32.62 107.56 32.5 107.79 32.37 108.03 32.24 108.26 32.11 108.5 31.98 108.73 31.86 108.96 31.73 109.2 31.6 109.43 31.47 109.66 31.35 109.9 31.22 110.13 31.09 110.37 30.97 110.6 30.84 110.83 30.71 111.07 30.59 111.3 30.46 111.53 30.33 111.77 30.21 112 30.08 112.24 29.95 112.47 29.83 112.7 29.7 112.94 29.58 113.17 29.45 113.4 29.32 113.64 29.2 113.87 29.07 114.11 28.95 114.34 28.82 114.57 28.7 114.81 28.57 115.04 28.45 115.27 28.32 115.51 28.19 115.74 28.07 115.98 27.94 116.21 27.82 116.44 27.7 116.68 27.57 116.91 27.45 117.14 27.32 117.38 27.2 117.61 27.07 117.85 26.95 118.08 26.82 118.31 26.7 118.55 26.58 118.78 26.45 119.01 26.33 119.25 26.2 119.48 26.08 119.72 25.96 119.95 25.83 120.18 25.71 120.42 25.59 120.65 25.46 120.88 25.34 121.12 25.22 121.35 25.09 121.59 24.97 121.82 24.85 122.05 24.72 122.29 24.6 122.52 24.48 122.75 24.36 122.99 24.23 123.22 24.11 123.46 23.99 123.69 23.87 123.92 23.74 124.16 23.62 124.39 23.5 124.62 23.38 124.86 23.26 125.09 23.13 125.33 23.01 125.56 22.89 125.79 22.77 126.03 22.65 126.26 22.53 126.49 22.41 126.73 22.28 126.96 22.16 127.2 22.04 127.43 21.92 127.66 21.8 127.9 21.68 128.13 21.56 128.36 21.44 128.6 21.32 128.83 21.2 129.07 21.08 129.3 20.95 129.53 20.83 129.77 20.71 130 20.59 130.23 20.47 130.47 20.35 130.7 20.23 130.94 20.11 131.17 19.99 131.4 19.87 131.64 19.75 131.87 19.63 132.1 19.51 132.34 19.39 132.57 19.28 132.81 19.16 133.04 19.04 133.27 18.92 133.51 18.8 133.74 18.68 133.97 18.56 134.21 18.44 134.44 18.32 134.68 18.2 134.91 18.08 135.14 17.97 135.38 17.85 135.61 17.73 135.84 17.61 136.08 17.49 136.31 17.37 136.54 17.26 136.78 17.14 137.01 17.02 137.25 16.9 137.48 16.78 137.71 16.67 137.95 16.55 138.18 16.43 138.41 16.31 138.65 16.19 138.88 16.08 139.12 15.96 139.35 15.84 139.58 15.72 139.82 15.61 140.05 15.49 140.28 15.37 140.52 15.26 140.75 15.14 140.99 15.02 141.22 14.9 141.45 14.79 141.69 14.67 141.92 14.55 142.15 14.44 142.39 14.32 142.62 14.2 142.86 14.09 143.09 13.97 143.32 13.86 143.56 13.74 143.79 13.62 144.02 13.51 144.26 13.39 144.49 13.28 144.73 13.16 144.96 13.04 145.19 12.93 145.43 12.81 145.66 12.7 145.89 12.58 146.13 12.47 146.36 12.35 146.6 12.23 146.83 12.12 147.06 12 147.3 11.89 147.53 11.77 147.76 11.66 148 11.54 148.23 11.43 148.47 11.31 148.7 11.2 148.93 11.08\"/>\n",
       "      </g>\n",
       "      <g stroke-width=\"0.26\" fill=\"#000000\" fill-opacity=\"0.000\" class=\"geometry\" stroke-dasharray=\"none\" stroke=\"#E36F47\" id=\"img-51a2ca51-15\">\n",
       "        <path fill=\"none\" d=\"M8.92,90.97 L 9.15 90.83 9.39 90.69 9.62 90.55 9.85 90.41 10.09 90.27 10.32 90.13 10.56 89.99 10.79 89.85 11.02 89.71 11.26 89.56 11.49 89.42 11.72 89.28 11.96 89.14 12.19 89 12.43 88.86 12.66 88.72 12.89 88.58 13.13 88.44 13.36 88.3 13.59 88.16 13.83 88.02 14.06 87.88 14.3 87.74 14.53 87.6 14.76 87.46 15 87.32 15.23 87.18 15.46 87.04 15.7 86.9 15.93 86.76 16.17 86.62 16.4 86.47 16.63 86.33 16.87 86.19 17.1 86.05 17.33 85.91 17.57 85.77 17.8 85.63 18.04 85.49 18.27 85.35 18.5 85.21 18.74 85.07 18.97 84.93 19.2 84.79 19.44 84.65 19.67 84.51 19.91 84.37 20.14 84.23 20.37 84.09 20.61 83.95 20.84 83.81 21.07 83.67 21.31 83.52 21.54 83.38 21.78 83.24 22.01 83.1 22.24 82.96 22.48 82.82 22.71 82.68 22.94 82.54 23.18 82.4 23.41 82.26 23.65 82.12 23.88 81.98 24.11 81.84 24.35 81.7 24.58 81.56 24.81 81.42 25.05 81.28 25.28 81.14 25.52 81 25.75 80.86 25.98 80.72 26.22 80.58 26.45 80.43 26.68 80.29 26.92 80.15 27.15 80.01 27.39 79.87 27.62 79.73 27.85 79.59 28.09 79.45 28.32 79.31 28.55 79.17 28.79 79.03 29.02 78.89 29.26 78.75 29.49 78.61 29.72 78.47 29.96 78.33 30.19 78.19 30.42 78.05 30.66 77.91 30.89 77.77 31.13 77.63 31.36 77.49 31.59 77.34 31.83 77.2 32.06 77.06 32.29 76.92 32.53 76.78 32.76 76.64 33 76.5 33.23 76.36 33.46 76.22 33.7 76.08 33.93 75.94 34.16 75.8 34.4 75.66 34.63 75.52 34.87 75.38 35.1 75.24 35.33 75.1 35.57 74.96 35.8 74.82 36.03 74.68 36.27 74.54 36.5 74.4 36.74 74.25 36.97 74.11 37.2 73.97 37.44 73.83 37.67 73.69 37.9 73.55 38.14 73.41 38.37 73.27 38.61 73.13 38.84 72.99 39.07 72.85 39.31 72.71 39.54 72.57 39.77 72.43 40.01 72.29 40.24 72.15 40.48 72.01 40.71 71.87 40.94 71.73 41.18 71.59 41.41 71.45 41.64 71.31 41.88 71.16 42.11 71.02 42.35 70.88 42.58 70.74 42.81 70.6 43.05 70.46 43.28 70.32 43.51 70.18 43.75 70.04 43.98 69.9 44.22 69.76 44.45 69.62 44.68 69.48 44.92 69.34 45.15 69.2 45.38 69.06 45.62 68.92 45.85 68.78 46.09 68.64 46.32 68.5 46.55 68.36 46.79 68.22 47.02 68.07 47.25 67.93 47.49 67.79 47.72 67.65 47.96 67.51 48.19 67.37 48.42 67.23 48.66 67.09 48.89 66.95 49.12 66.81 49.36 66.67 49.59 66.53 49.83 66.39 50.06 66.25 50.29 66.11 50.53 65.97 50.76 65.83 50.99 65.69 51.23 65.55 51.46 65.41 51.7 65.27 51.93 65.13 52.16 64.98 52.4 64.84 52.63 64.7 52.86 64.56 53.1 64.42 53.33 64.28 53.57 64.14 53.8 64 54.03 63.86 54.27 63.72 54.5 63.58 54.73 63.44 54.97 63.3 55.2 63.16 55.44 63.02 55.67 62.88 55.9 62.74 56.14 62.6 56.37 62.46 56.6 62.32 56.84 62.18 57.07 62.03 57.31 61.89 57.54 61.75 57.77 61.61 58.01 61.47 58.24 61.33 58.47 61.19 58.71 61.05 58.94 60.91 59.18 60.77 59.41 60.63 59.64 60.49 59.88 60.35 60.11 60.21 60.34 60.07 60.58 59.93 60.81 59.79 61.05 59.65 61.28 59.51 61.51 59.37 61.75 59.23 61.98 59.09 62.21 58.94 62.45 58.8 62.68 58.66 62.92 58.52 63.15 58.38 63.38 58.24 63.62 58.1 63.85 57.96 64.08 57.82 64.32 57.68 64.55 57.54 64.79 57.4 65.02 57.26 65.25 57.12 65.49 56.98 65.72 56.84 65.95 56.7 66.19 56.56 66.42 56.42 66.66 56.28 66.89 56.14 67.12 56 67.36 55.85 67.59 55.71 67.82 55.57 68.06 55.43 68.29 55.29 68.53 55.15 68.76 55.01 68.99 54.87 69.23 54.73 69.46 54.59 69.69 54.45 69.93 54.31 70.16 54.17 70.4 54.03 70.63 53.89 70.86 53.75 71.1 53.61 71.33 53.47 71.56 53.33 71.8 53.19 72.03 53.05 72.27 52.91 72.5 52.76 72.73 52.62 72.97 52.48 73.2 52.34 73.43 52.2 73.67 52.06 73.9 51.92 74.13 51.78 74.37 51.64 74.6 51.5 74.84 51.36 75.07 51.22 75.3 51.08 75.54 50.94 75.77 50.8 76 50.66 76.24 50.52 76.47 50.38 76.71 50.24 76.94 50.1 77.17 49.96 77.41 49.82 77.64 49.67 77.87 49.53 78.11 49.39 78.34 49.25 78.58 49.11 78.81 48.97 79.04 48.83 79.28 48.69 79.51 48.55 79.74 48.41 79.98 48.27 80.21 48.13 80.45 47.99 80.68 47.85 80.91 47.71 81.15 47.57 81.38 47.43 81.61 47.29 81.85 47.15 82.08 47.01 82.32 46.87 82.55 46.73 82.78 46.58 83.02 46.44 83.25 46.3 83.48 46.16 83.72 46.02 83.95 45.88 84.19 45.74 84.42 45.6 84.65 45.46 84.89 45.32 85.12 45.18 85.35 45.04 85.59 44.9 85.82 44.76 86.06 44.62 86.29 44.48 86.52 44.34 86.76 44.2 86.99 44.06 87.22 43.92 87.46 43.78 87.69 43.64 87.93 43.49 88.16 43.35 88.39 43.21 88.63 43.07 88.86 42.93 89.09 42.79 89.33 42.65 89.56 42.51 89.8 42.37 90.03 42.23 90.26 42.09 90.5 41.95 90.73 41.81 90.96 41.67 91.2 41.53 91.43 41.39 91.67 41.25 91.9 41.11 92.13 40.97 92.37 40.83 92.6 40.69 92.83 40.54 93.07 40.4 93.3 40.26 93.54 40.12 93.77 39.98 94 39.84 94.24 39.7 94.47 39.56 94.7 39.42 94.94 39.28 95.17 39.14 95.41 39 95.64 38.86 95.87 38.72 96.11 38.58 96.34 38.44 96.57 38.3 96.81 38.16 97.04 38.02 97.28 37.88 97.51 37.74 97.74 37.6 97.98 37.45 98.21 37.31 98.44 37.17 98.68 37.03 98.91 36.89 99.15 36.75 99.38 36.61 99.61 36.47 99.85 36.33 100.08 36.19 100.31 36.05 100.55 35.91 100.78 35.77 101.02 35.63 101.25 35.49 101.48 35.35 101.72 35.21 101.95 35.07 102.18 34.93 102.42 34.79 102.65 34.65 102.89 34.51 103.12 34.36 103.35 34.22 103.59 34.08 103.82 33.94 104.05 33.8 104.29 33.66 104.52 33.52 104.76 33.38 104.99 33.24 105.22 33.1 105.46 32.96 105.69 32.82 105.92 32.68 106.16 32.54 106.39 32.4 106.63 32.26 106.86 32.12 107.09 31.98 107.33 31.84 107.56 31.7 107.79 31.56 108.03 31.42 108.26 31.27 108.5 31.13 108.73 30.99 108.96 30.85 109.2 30.71 109.43 30.57 109.66 30.43 109.9 30.29 110.13 30.15 110.37 30.01 110.6 29.87 110.83 29.73 111.07 29.59 111.3 29.45 111.53 29.31 111.77 29.17 112 29.03 112.24 28.89 112.47 28.75 112.7 28.61 112.94 28.47 113.17 28.33 113.4 28.18 113.64 28.04 113.87 27.9 114.11 27.76 114.34 27.62 114.57 27.48 114.81 27.34 115.04 27.2 115.27 27.06 115.51 26.92 115.74 26.78 115.98 26.64 116.21 26.5 116.44 26.36 116.68 26.22 116.91 26.08 117.14 25.94 117.38 25.8 117.61 25.66 117.85 25.52 118.08 25.38 118.31 25.24 118.55 25.09 118.78 24.95 119.01 24.81 119.25 24.67 119.48 24.53 119.72 24.39 119.95 24.25 120.18 24.11 120.42 23.97 120.65 23.83 120.88 23.69 121.12 23.55 121.35 23.41 121.59 23.27 121.82 23.13 122.05 22.99 122.29 22.85 122.52 22.71 122.75 22.57 122.99 22.43 123.22 22.29 123.46 22.15 123.69 22 123.92 21.86 124.16 21.72 124.39 21.58 124.62 21.44 124.86 21.3 125.09 21.16 125.33 21.02 125.56 20.88 125.79 20.74 126.03 20.6 126.26 20.46 126.49 20.32 126.73 20.18 126.96 20.04 127.2 19.9 127.43 19.76 127.66 19.62 127.9 19.48 128.13 19.34 128.36 19.2 128.6 19.05 128.83 18.91 129.07 18.77 129.3 18.63 129.53 18.49 129.77 18.35 130 18.21 130.23 18.07 130.47 17.93 130.7 17.79 130.94 17.65 131.17 17.51 131.4 17.37 131.64 17.23 131.87 17.09 132.1 16.95 132.34 16.81 132.57 16.67 132.81 16.53 133.04 16.39 133.27 16.25 133.51 16.11 133.74 15.96 133.97 15.82 134.21 15.68 134.44 15.54 134.68 15.4 134.91 15.26 135.14 15.12 135.38 14.98 135.61 14.84 135.84 14.7 136.08 14.56 136.31 14.42 136.54 14.28 136.78 14.14 137.01 14 137.25 13.86 137.48 13.72 137.71 13.58 137.95 13.44 138.18 13.3 138.41 13.16 138.65 13.02 138.88 12.87 139.12 12.73 139.35 12.59 139.58 12.45 139.82 12.31 140.05 12.17 140.28 12.03 140.52 11.89 140.75 11.75 140.99 11.61 141.22 11.47 141.45 11.33 141.69 11.19 141.92 11.05 142.15 10.91 142.39 10.77 142.62 10.63 142.86 10.49 143.09 10.35 143.32 10.21 143.56 10.07 143.79 9.93 144.02 9.78 144.26 9.64 144.49 9.5 144.73 9.36 144.96 9.22 145.19 9.08 145.43 8.94 145.66 8.8 145.89 8.66 146.13 8.52 146.36 8.38 146.6 8.24 146.83 8.1 147.06 7.96 147.3 7.82 147.53 7.68 147.76 7.54 148 7.4 148.23 7.26 148.47 7.12 148.7 6.98 148.93 6.84\"/>\n",
       "      </g>\n",
       "    </g>\n",
       "  </g>\n",
       "</g>\n",
       "  <g class=\"guide ylabels\" font-size=\"2.82\" font-family=\"Helvetica\" fill=\"#000000\" id=\"img-51a2ca51-16\">\n",
       "    <text x=\"5.92\" y=\"98.19\" text-anchor=\"end\" dy=\"0.35em\">1.0</text>\n",
       "    <text x=\"5.92\" y=\"74.39\" text-anchor=\"end\" dy=\"0.35em\">1.2</text>\n",
       "    <text x=\"5.92\" y=\"50.59\" text-anchor=\"end\" dy=\"0.35em\">1.4</text>\n",
       "    <text x=\"5.92\" y=\"26.8\" text-anchor=\"end\" dy=\"0.35em\">1.6</text>\n",
       "    <text x=\"5.92\" y=\"3\" text-anchor=\"end\" dy=\"0.35em\">1.8</text>\n",
       "  </g>\n",
       "</g>\n",
       "<defs>\n",
       "  <clipPath id=\"img-51a2ca51-8\">\n",
       "  <path d=\"M6.92,1 L 150.93 1 150.93 100.19 6.92 100.19\" />\n",
       "</clipPath>\n",
       "</defs>\n",
       "</svg>\n"
      ],
      "text/plain": [
       "Compose.SVG(158.73015873015876mm,105.82010582010584mm,IOBuffer(data=UInt8[...], readable=true, writable=true, seekable=true, append=false, size=18349, maxsize=Inf, ptr=18350, mark=-1),nothing,\"img-51a2ca51\",0,Compose.SVGPropertyFrame[],Dict{Type{T},Union{Compose.Property{P<:Compose.PropertyPrimitive},Void}}(Compose.Property{Compose.FillPrimitive}=>nothing),Dict{Compose.ClipPrimitive{P<:NTuple{N,Measures.Measure}},ASCIIString}(Compose.ClipPrimitive{Tuple{Measures.Length{:mm,Float64},Measures.Length{:mm,Float64}}}([(6.9199999999999875mm,1.0mm),(150.93349206349208mm,1.0mm),(150.93349206349208mm,100.18677248677251mm),(6.9199999999999875mm,100.18677248677251mm)])=>\"img-51a2ca51-8\"),Tuple{Compose.FormPrimitive,ASCIIString}[],Set{AbstractString}(),true,false,nothing,true,\"img-51a2ca51-16\",false,16,AbstractString[\"C:\\\\Users\\\\labor\\\\.julia\\\\v0.4\\\\Gadfly\\\\src\\\\gadfly.js\"],Tuple{AbstractString,AbstractString}[(\"Snap.svg\",\"Snap\"),(\"Gadfly\",\"Gadfly\")],AbstractString[\"fig.select(\\\"#img-51a2ca51-4\\\")\\n   .drag(function() {}, function() {}, function() {});\",\"fig.select(\\\"#img-51a2ca51-9\\\")\\n   .init_gadfly();\"],false,:none)"
      ]
     },
     "metadata": {},
     "output_type": "display_data"
    },
    {
     "data": {
      "text/html": []
     },
     "execution_count": 20,
     "metadata": {},
     "output_type": "execute_result"
    }
   ],
   "source": [
    "f(x) = sqrt(x);\n",
    "c = 2;\n",
    "fp = diff(f(x));        # diff находит производную, fp - выражение (не функция)\n",
    "m = fp(x=>c)            # в точке c=2\n",
    "tl(c) = x -> f(c) + N(m)*(x - c)\n",
    "Plots.plot([f, tl(c)], 1, 3)"
   ]
  },
  {
   "cell_type": "markdown",
   "metadata": {
    "collapsed": true
   },
   "source": [
    "## Пределы\n",
    "Функция ```limit``` может находить предел выражения. Посмотрим, как она с этим справляется. В базовой постановке запись предела функции"
   ]
  },
  {
   "cell_type": "markdown",
   "metadata": {},
   "source": [
    "$\\lim_{x \\rightarrow c} f(x) = L$"
   ]
  },
  {
   "cell_type": "markdown",
   "metadata": {},
   "source": [
    "имеет три составляющих: функцию, чей предел берется, фиктивную переменную $x$ и значение $c$, в котором берется предел. Результатом является предел, если он существует. Решим классическую задачу:"
   ]
  },
  {
   "cell_type": "code",
   "execution_count": 61,
   "metadata": {
    "collapsed": false
   },
   "outputs": [
    {
     "data": {
      "text/latex": [
       "$$1$$"
      ],
      "text/plain": [
       "1"
      ]
     },
     "execution_count": 61,
     "metadata": {},
     "output_type": "execute_result"
    }
   ],
   "source": [
    "limit(sin(x)/x, x, 0)"
   ]
  },
  {
   "cell_type": "markdown",
   "metadata": {},
   "source": [
    "Можно сформулировать в другой постановке:"
   ]
  },
  {
   "cell_type": "code",
   "execution_count": 62,
   "metadata": {
    "collapsed": false
   },
   "outputs": [
    {
     "data": {
      "text/latex": [
       "$$\\frac{1}{2}$$"
      ],
      "text/plain": [
       "1/2"
      ]
     },
     "execution_count": 62,
     "metadata": {},
     "output_type": "execute_result"
    }
   ],
   "source": [
    "limit((1-cos(x))/x^2, x, 0)"
   ]
  },
  {
   "cell_type": "markdown",
   "metadata": {},
   "source": [
    "Второй аргумент необходим, так как выражение может иметь более одной переменной:"
   ]
  },
  {
   "cell_type": "code",
   "execution_count": 63,
   "metadata": {
    "collapsed": false
   },
   "outputs": [
    {
     "data": {
      "text/latex": [
       "$$e^{- \\lambda}$$"
      ],
      "text/plain": [
       " -lambda\n",
       "e       "
      ]
     },
     "execution_count": 63,
     "metadata": {},
     "output_type": "execute_result"
    }
   ],
   "source": [
    "lambda = symbols(\"lambda\")\n",
    "limit((1 - lambda *x)^(1/x), x, 0)"
   ]
  },
  {
   "cell_type": "markdown",
   "metadata": {},
   "source": [
    "Кроме того, пределы можно брать на бесконечности. Бесконечность задается при помощи последовательности символов ```oo```:"
   ]
  },
  {
   "cell_type": "code",
   "execution_count": 64,
   "metadata": {
    "collapsed": false
   },
   "outputs": [
    {
     "data": {
      "text/latex": [
       "$$0$$"
      ],
      "text/plain": [
       "0"
      ]
     },
     "execution_count": 64,
     "metadata": {},
     "output_type": "execute_result"
    }
   ],
   "source": [
    "limit(sin(x)/x, x, oo)"
   ]
  },
  {
   "cell_type": "markdown",
   "metadata": {},
   "source": [
    "Используя пределы, можно даже вычислить производные. Здесь мы делаем это символически:"
   ]
  },
  {
   "cell_type": "code",
   "execution_count": 65,
   "metadata": {
    "collapsed": false
   },
   "outputs": [
    {
     "data": {
      "text/latex": [
       "$$10 x^{9}$$"
      ],
      "text/plain": [
       "    9\n",
       "10*x "
      ]
     },
     "execution_count": 65,
     "metadata": {},
     "output_type": "execute_result"
    }
   ],
   "source": [
    "h = Sym(\"h\")\n",
    "f(x) = x^10\n",
    "limit( (f(x+h) - f(x))/h, h, 0)"
   ]
  },
  {
   "cell_type": "markdown",
   "metadata": {},
   "source": [
    "Мы видим, что производные некоторых более сложных формул одинаковые. Здесь центральная (или центрированная) разность имеет такую же производную: "
   ]
  },
  {
   "cell_type": "code",
   "execution_count": 66,
   "metadata": {
    "collapsed": false
   },
   "outputs": [
    {
     "data": {
      "text/latex": [
       "$$10 x^{9}$$"
      ],
      "text/plain": [
       "    9\n",
       "10*x "
      ]
     },
     "execution_count": 66,
     "metadata": {},
     "output_type": "execute_result"
    }
   ],
   "source": [
    "central_difference(f, x, h) = ( f(x+h) - f(x-h) ) / (2h)\n",
    "a = limit(central_difference(f, x, h), h, 0)"
   ]
  },
  {
   "cell_type": "markdown",
   "metadata": {},
   "source": [
    "Даже следующее ниже более сложное выражение дает ожидаемый результат:"
   ]
  },
  {
   "cell_type": "code",
   "execution_count": 67,
   "metadata": {
    "collapsed": false
   },
   "outputs": [
    {
     "data": {
      "text/latex": [
       "$$10 x^{9}$$"
      ],
      "text/plain": [
       "    9\n",
       "10*x "
      ]
     },
     "execution_count": 67,
     "metadata": {},
     "output_type": "execute_result"
    }
   ],
   "source": [
    "central_4th_difference(f, x, h) = (-f(x + 2h) + 8f(x+h) - 8f(x-h) + f(x-2h))/(12h)\n",
    "limit(central_4th_difference(f, x, h), h, 0)"
   ]
  },
  {
   "cell_type": "markdown",
   "metadata": {},
   "source": [
    "А этот предел соответствует цепному правилу:"
   ]
  },
  {
   "cell_type": "code",
   "execution_count": 68,
   "metadata": {
    "collapsed": false
   },
   "outputs": [
    {
     "data": {
      "text/latex": [
       "$$10 \\sin^{9}{\\left (1 \\right )} \\cos{\\left (1 \\right )}$$"
      ],
      "text/plain": [
       "      9          \n",
       "10*sin (1)*cos(1)"
      ]
     },
     "execution_count": 68,
     "metadata": {},
     "output_type": "execute_result"
    }
   ],
   "source": [
    "g(x) = sin(x)\n",
    "limit( (f(g(x+h)) - f(g(x)))/h, h, 0) |> replace(x, 1)   "
   ]
  },
  {
   "cell_type": "markdown",
   "metadata": {
    "collapsed": true
   },
   "source": [
    "### Производные\n",
    "\n",
    "Мы убедились, что можно брать производные при помощи предела, хотя лучше пользоваться правилами вычисления производных, подобно линейке  для карандаша и бумаги. Эти правила реализованы функцией ```diff```, которая берет символическое выражение, дифференцируемую переменную (по умолчанию ```x```) и необязательное целое, соответствующее числу производных и возвращает символическую производную.\n",
    "\n",
    "Например,"
   ]
  },
  {
   "cell_type": "code",
   "execution_count": 64,
   "metadata": {
    "collapsed": false
   },
   "outputs": [
    {
     "data": {
      "text/latex": [
       "$$e^{x} e^{e^{x}}$$"
      ],
      "text/plain": [
       "    / x\\\n",
       " x  \\e /\n",
       "e *e    "
      ]
     },
     "execution_count": 64,
     "metadata": {},
     "output_type": "execute_result"
    }
   ],
   "source": [
    "f(x) = exp(exp(x))\n",
    "diff(f(x))                # не f, а символическое выражение f(x)"
   ]
  },
  {
   "cell_type": "code",
   "execution_count": 65,
   "metadata": {
    "collapsed": false
   },
   "outputs": [
    {
     "data": {
      "text/latex": [
       "$$e^{x} e^{e^{x}}$$"
      ],
      "text/plain": [
       "    / x\\\n",
       " x  \\e /\n",
       "e *e    "
      ]
     },
     "execution_count": 65,
     "metadata": {},
     "output_type": "execute_result"
    }
   ],
   "source": [
    "diff(f(x), x)             # необязательное x необходимо указывать, если используются другие символы"
   ]
  },
  {
   "cell_type": "code",
   "execution_count": 66,
   "metadata": {
    "collapsed": false
   },
   "outputs": [
    {
     "data": {
      "text/latex": [
       "$$\\left(e^{x} + 1\\right) e^{x} e^{e^{x}}$$"
      ],
      "text/plain": [
       "             / x\\\n",
       "/ x    \\  x  \\e /\n",
       "\\e  + 1/*e *e    "
      ]
     },
     "execution_count": 66,
     "metadata": {},
     "output_type": "execute_result"
    }
   ],
   "source": [
    "diff(f(x), x, 2)          # находит f''(x), не f'(2)."
   ]
  },
  {
   "cell_type": "markdown",
   "metadata": {},
   "source": [
    "Здесь мы находим и строим график производной $x^x$, избегая асимптоты в $x=0$."
   ]
  },
  {
   "cell_type": "code",
   "execution_count": null,
   "metadata": {
    "collapsed": true
   },
   "outputs": [],
   "source": [
    "f(x) = x^x\n",
    "Plots.plot(diff(f(x)), 1/10, 2)  #?"
   ]
  },
  {
   "cell_type": "markdown",
   "metadata": {},
   "source": [
    "Здесь мы строим график функции $f(x)$ и ее касательной в $c=1$:"
   ]
  },
  {
   "cell_type": "code",
   "execution_count": 25,
   "metadata": {
    "collapsed": false
   },
   "outputs": [
    {
     "data": {
      "image/svg+xml": [
       "<?xml version=\"1.0\" encoding=\"UTF-8\"?>\n",
       "<svg xmlns=\"http://www.w3.org/2000/svg\"\n",
       "     xmlns:xlink=\"http://www.w3.org/1999/xlink\"\n",
       "     xmlns:gadfly=\"http://www.gadflyjl.org/ns\"\n",
       "     version=\"1.2\"\n",
       "     width=\"158.73mm\" height=\"105.82mm\" viewBox=\"0 0 158.73 105.82\"\n",
       "     stroke=\"none\"\n",
       "     fill=\"#000000\"\n",
       "     stroke-width=\"0.3\"\n",
       "     font-size=\"3.88\"\n",
       ">\n",
       "<g stroke=\"#000000\" stroke-opacity=\"0.000\" fill=\"#FFFFFF\" id=\"img-e80f541e-1\">\n",
       "  <rect x=\"0\" y=\"0\" width=\"158.73\" height=\"105.82\"/>\n",
       "</g>\n",
       "<g class=\"plotroot xscalable yscalable\" id=\"img-e80f541e-2\">\n",
       "  <g class=\"guide xlabels\" font-size=\"2.82\" font-family=\"Helvetica\" fill=\"#000000\" id=\"img-e80f541e-3\">\n",
       "    <text x=\"8.92\" y=\"101.19\" text-anchor=\"middle\" dy=\"0.6em\">0.0</text>\n",
       "    <text x=\"55.59\" y=\"101.19\" text-anchor=\"middle\" dy=\"0.6em\">0.5</text>\n",
       "    <text x=\"102.26\" y=\"101.19\" text-anchor=\"middle\" dy=\"0.6em\">1.0</text>\n",
       "    <text x=\"148.93\" y=\"101.19\" text-anchor=\"middle\" dy=\"0.6em\">1.5</text>\n",
       "  </g>\n",
       "  <g class=\"guide colorkey\" id=\"img-e80f541e-4\">\n",
       "    <g fill=\"#000000\" font-size=\"2.82\" font-family=\"Helvetica\" id=\"img-e80f541e-5\">\n",
       "      <text x=\"154.75\" y=\"50.59\" dy=\"0.35em\">y1</text>\n",
       "      <text x=\"154.75\" y=\"54.23\" dy=\"0.35em\">y2</text>\n",
       "    </g>\n",
       "    <g stroke=\"#000000\" stroke-opacity=\"0.000\" id=\"img-e80f541e-6\">\n",
       "      <rect x=\"151.93\" y=\"49.69\" width=\"1.82\" height=\"1.82\" fill=\"#009AFA\"/>\n",
       "      <rect x=\"151.93\" y=\"53.32\" width=\"1.82\" height=\"1.82\" fill=\"#E36F47\"/>\n",
       "    </g>\n",
       "    <g fill=\"#000000\" font-size=\"3.88\" font-family=\"Helvetica\" stroke=\"#000000\" stroke-opacity=\"0.000\" id=\"img-e80f541e-7\">\n",
       "      <text x=\"151.93\" y=\"46.77\"></text>\n",
       "    </g>\n",
       "  </g>\n",
       "<g clip-path=\"url(#img-e80f541e-8)\">\n",
       "  <g id=\"img-e80f541e-9\">\n",
       "    <g pointer-events=\"visible\" opacity=\"1\" fill=\"#000000\" fill-opacity=\"0.000\" stroke=\"#000000\" stroke-opacity=\"0.000\" class=\"guide background\" id=\"img-e80f541e-10\">\n",
       "      <rect x=\"6.92\" y=\"1\" width=\"144.01\" height=\"99.19\"/>\n",
       "    </g>\n",
       "    <g class=\"guide ygridlines xfixed\" stroke-dasharray=\"0.5,0.5\" stroke-width=\"0.2\" stroke=\"#D0D0E0\" id=\"img-e80f541e-11\">\n",
       "      <path fill=\"none\" d=\"M6.92,98.19 L 150.93 98.19\"/>\n",
       "      <path fill=\"none\" d=\"M6.92,74.39 L 150.93 74.39\"/>\n",
       "      <path fill=\"none\" d=\"M6.92,50.59 L 150.93 50.59\"/>\n",
       "      <path fill=\"none\" d=\"M6.92,26.8 L 150.93 26.8\"/>\n",
       "      <path fill=\"none\" d=\"M6.92,3 L 150.93 3\"/>\n",
       "    </g>\n",
       "    <g class=\"guide xgridlines yfixed\" stroke-dasharray=\"0.5,0.5\" stroke-width=\"0.2\" stroke=\"#D0D0E0\" id=\"img-e80f541e-12\">\n",
       "      <path fill=\"none\" d=\"M8.92,1 L 8.92 100.19\"/>\n",
       "      <path fill=\"none\" d=\"M55.59,1 L 55.59 100.19\"/>\n",
       "      <path fill=\"none\" d=\"M102.26,1 L 102.26 100.19\"/>\n",
       "      <path fill=\"none\" d=\"M148.93,1 L 148.93 100.19\"/>\n",
       "    </g>\n",
       "    <g class=\"plotpanel\" id=\"img-e80f541e-13\">\n",
       "      <g stroke-width=\"0.26\" fill=\"#000000\" fill-opacity=\"0.000\" class=\"geometry\" stroke-dasharray=\"none\" stroke=\"#009AFA\" id=\"img-e80f541e-14\">\n",
       "        <path fill=\"none\" d=\"M55.59,64.53 L 55.75 64.52 55.9 64.5 56.06 64.48 56.21 64.46 56.37 64.44 56.53 64.43 56.68 64.41 56.84 64.39 56.99 64.37 57.15 64.35 57.31 64.33 57.46 64.31 57.62 64.29 57.77 64.27 57.93 64.25 58.08 64.23 58.24 64.21 58.4 64.19 58.55 64.17 58.71 64.15 58.86 64.13 59.02 64.11 59.18 64.09 59.33 64.06 59.49 64.04 59.64 64.02 59.8 64 59.95 63.97 60.11 63.95 60.27 63.93 60.42 63.91 60.58 63.88 60.73 63.86 60.89 63.84 61.05 63.81 61.2 63.79 61.36 63.76 61.51 63.74 61.67 63.71 61.82 63.69 61.98 63.66 62.14 63.64 62.29 63.61 62.45 63.59 62.6 63.56 62.76 63.54 62.92 63.51 63.07 63.48 63.23 63.46 63.38 63.43 63.54 63.4 63.69 63.38 63.85 63.35 64.01 63.32 64.16 63.29 64.32 63.27 64.47 63.24 64.63 63.21 64.79 63.18 64.94 63.15 65.1 63.13 65.25 63.1 65.41 63.07 65.56 63.04 65.72 63.01 65.88 62.98 66.03 62.95 66.19 62.92 66.34 62.89 66.5 62.86 66.66 62.83 66.81 62.8 66.97 62.77 67.12 62.74 67.28 62.7 67.43 62.67 67.59 62.64 67.75 62.61 67.9 62.58 68.06 62.54 68.21 62.51 68.37 62.48 68.53 62.45 68.68 62.41 68.84 62.38 68.99 62.35 69.15 62.31 69.3 62.28 69.46 62.25 69.62 62.21 69.77 62.18 69.93 62.14 70.08 62.11 70.24 62.07 70.4 62.04 70.55 62 70.71 61.97 70.86 61.93 71.02 61.9 71.17 61.86 71.33 61.82 71.49 61.79 71.64 61.75 71.8 61.71 71.95 61.68 72.11 61.64 72.27 61.6 72.42 61.57 72.58 61.53 72.73 61.49 72.89 61.45 73.04 61.41 73.2 61.38 73.36 61.34 73.51 61.3 73.67 61.26 73.82 61.22 73.98 61.18 74.13 61.14 74.29 61.1 74.45 61.06 74.6 61.02 74.76 60.98 74.91 60.94 75.07 60.9 75.23 60.86 75.38 60.82 75.54 60.78 75.69 60.73 75.85 60.69 76 60.65 76.16 60.61 76.32 60.57 76.47 60.52 76.63 60.48 76.78 60.44 76.94 60.4 77.1 60.35 77.25 60.31 77.41 60.27 77.56 60.22 77.72 60.18 77.87 60.13 78.03 60.09 78.19 60.04 78.34 60 78.5 59.95 78.65 59.91 78.81 59.86 78.97 59.82 79.12 59.77 79.28 59.73 79.43 59.68 79.59 59.63 79.74 59.59 79.9 59.54 80.06 59.49 80.21 59.45 80.37 59.4 80.52 59.35 80.68 59.3 80.84 59.26 80.99 59.21 81.15 59.16 81.3 59.11 81.46 59.06 81.61 59.01 81.77 58.96 81.93 58.92 82.08 58.87 82.24 58.82 82.39 58.77 82.55 58.72 82.71 58.67 82.86 58.61 83.02 58.56 83.17 58.51 83.33 58.46 83.48 58.41 83.64 58.36 83.8 58.31 83.95 58.26 84.11 58.2 84.26 58.15 84.42 58.1 84.58 58.04 84.73 57.99 84.89 57.94 85.04 57.89 85.2 57.83 85.35 57.78 85.51 57.72 85.67 57.67 85.82 57.61 85.98 57.56 86.13 57.51 86.29 57.45 86.45 57.39 86.6 57.34 86.76 57.28 86.91 57.23 87.07 57.17 87.22 57.11 87.38 57.06 87.54 57 87.69 56.94 87.85 56.89 88 56.83 88.16 56.77 88.32 56.71 88.47 56.66 88.63 56.6 88.78 56.54 88.94 56.48 89.09 56.42 89.25 56.36 89.41 56.3 89.56 56.24 89.72 56.18 89.87 56.12 90.03 56.06 90.19 56 90.34 55.94 90.5 55.88 90.65 55.82 90.81 55.76 90.96 55.7 91.12 55.63 91.28 55.57 91.43 55.51 91.59 55.45 91.74 55.38 91.9 55.32 92.06 55.26 92.21 55.19 92.37 55.13 92.52 55.07 92.68 55 92.83 54.94 92.99 54.87 93.15 54.81 93.3 54.74 93.46 54.68 93.61 54.61 93.77 54.55 93.93 54.48 94.08 54.41 94.24 54.35 94.39 54.28 94.55 54.21 94.7 54.15 94.86 54.08 95.02 54.01 95.17 53.94 95.33 53.88 95.48 53.81 95.64 53.74 95.8 53.67 95.95 53.6 96.11 53.53 96.26 53.46 96.42 53.39 96.57 53.32 96.73 53.25 96.89 53.18 97.04 53.11 97.2 53.04 97.35 52.97 97.51 52.9 97.67 52.82 97.82 52.75 97.98 52.68 98.13 52.61 98.29 52.54 98.44 52.46 98.6 52.39 98.76 52.32 98.91 52.24 99.07 52.17 99.22 52.09 99.38 52.02 99.54 51.94 99.69 51.87 99.85 51.79 100 51.72 100.16 51.64 100.31 51.57 100.47 51.49 100.63 51.41 100.78 51.34 100.94 51.26 101.09 51.18 101.25 51.1 101.41 51.03 101.56 50.95 101.72 50.87 101.87 50.79 102.03 50.71 102.18 50.63 102.34 50.55 102.5 50.47 102.65 50.39 102.81 50.31 102.96 50.23 103.12 50.15 103.28 50.07 103.43 49.99 103.59 49.91 103.74 49.83 103.9 49.74 104.05 49.66 104.21 49.58 104.37 49.5 104.52 49.41 104.68 49.33 104.83 49.25 104.99 49.16 105.15 49.08 105.3 48.99 105.46 48.91 105.61 48.82 105.77 48.74 105.92 48.65 106.08 48.57 106.24 48.48 106.39 48.39 106.55 48.31 106.7 48.22 106.86 48.13 107.02 48.04 107.17 47.96 107.33 47.87 107.48 47.78 107.64 47.69 107.79 47.6 107.95 47.51 108.11 47.42 108.26 47.33 108.42 47.24 108.57 47.15 108.73 47.06 108.89 46.97 109.04 46.88 109.2 46.78 109.35 46.69 109.51 46.6 109.66 46.51 109.82 46.41 109.98 46.32 110.13 46.23 110.29 46.13 110.44 46.04 110.6 45.94 110.76 45.85 110.91 45.75 111.07 45.66 111.22 45.56 111.38 45.47 111.53 45.37 111.69 45.27 111.85 45.18 112 45.08 112.16 44.98 112.31 44.88 112.47 44.79 112.63 44.69 112.78 44.59 112.94 44.49 113.09 44.39 113.25 44.29 113.4 44.19 113.56 44.09 113.72 43.99 113.87 43.89 114.03 43.79 114.18 43.68 114.34 43.58 114.5 43.48 114.65 43.38 114.81 43.27 114.96 43.17 115.12 43.07 115.27 42.96 115.43 42.86 115.59 42.75 115.74 42.65 115.9 42.54 116.05 42.44 116.21 42.33 116.36 42.23 116.52 42.12 116.68 42.01 116.83 41.9 116.99 41.8 117.14 41.69 117.3 41.58 117.46 41.47 117.61 41.36 117.77 41.25 117.92 41.14 118.08 41.03 118.23 40.92 118.39 40.81 118.55 40.7 118.7 40.59 118.86 40.48 119.01 40.36 119.17 40.25 119.33 40.14 119.48 40.03 119.64 39.91 119.79 39.8 119.95 39.68 120.1 39.57 120.26 39.45 120.42 39.34 120.57 39.22 120.73 39.11 120.88 38.99 121.04 38.87 121.2 38.75 121.35 38.64 121.51 38.52 121.66 38.4 121.82 38.28 121.97 38.16 122.13 38.04 122.29 37.92 122.44 37.8 122.6 37.68 122.75 37.56 122.91 37.44 123.07 37.32 123.22 37.19 123.38 37.07 123.53 36.95 123.69 36.83 123.84 36.7 124 36.58 124.16 36.45 124.31 36.33 124.47 36.2 124.62 36.08 124.78 35.95 124.94 35.82 125.09 35.7 125.25 35.57 125.4 35.44 125.56 35.31 125.71 35.19 125.87 35.06 126.03 34.93 126.18 34.8 126.34 34.67 126.49 34.54 126.65 34.41 126.81 34.27 126.96 34.14 127.12 34.01 127.27 33.88 127.43 33.74 127.58 33.61 127.74 33.48 127.9 33.34 128.05 33.21 128.21 33.07 128.36 32.94 128.52 32.8 128.68 32.66 128.83 32.53 128.99 32.39 129.14 32.25 129.3 32.11 129.45 31.98 129.61 31.84 129.77 31.7 129.92 31.56 130.08 31.42 130.23 31.28 130.39 31.14 130.55 30.99 130.7 30.85 130.86 30.71 131.01 30.57 131.17 30.42 131.32 30.28 131.48 30.13 131.64 29.99 131.79 29.84 131.95 29.7 132.1 29.55 132.26 29.41 132.42 29.26 132.57 29.11 132.73 28.96 132.88 28.82 133.04 28.67 133.19 28.52 133.35 28.37 133.51 28.22 133.66 28.07 133.82 27.92 133.97 27.76 134.13 27.61 134.29 27.46 134.44 27.31 134.6 27.15 134.75 27 134.91 26.84 135.06 26.69 135.22 26.53 135.38 26.38 135.53 26.22 135.69 26.06 135.84 25.91 136 25.75 136.16 25.59 136.31 25.43 136.47 25.27 136.62 25.11 136.78 24.95 136.93 24.79 137.09 24.63 137.25 24.47 137.4 24.3 137.56 24.14 137.71 23.98 137.87 23.81 138.03 23.65 138.18 23.48 138.34 23.32 138.49 23.15 138.65 22.98 138.8 22.82 138.96 22.65 139.12 22.48 139.27 22.31 139.43 22.14 139.58 21.97 139.74 21.8 139.9 21.63 140.05 21.46 140.21 21.29 140.36 21.12 140.52 20.94 140.67 20.77 140.83 20.6 140.99 20.42 141.14 20.25 141.3 20.07 141.45 19.89 141.61 19.72 141.77 19.54 141.92 19.36 142.08 19.18 142.23 19.01 142.39 18.83 142.54 18.65 142.7 18.46 142.86 18.28 143.01 18.1 143.17 17.92 143.32 17.74 143.48 17.55 143.64 17.37 143.79 17.18 143.95 17 144.1 16.81 144.26 16.63 144.41 16.44 144.57 16.25 144.73 16.06 144.88 15.87 145.04 15.69 145.19 15.5 145.35 15.3 145.51 15.11 145.66 14.92 145.82 14.73 145.97 14.54 146.13 14.34 146.28 14.15 146.44 13.95 146.6 13.76 146.75 13.56 146.91 13.37 147.06 13.17 147.22 12.97 147.38 12.77 147.53 12.57 147.69 12.37 147.84 12.17 148 11.97 148.15 11.77 148.31 11.57 148.47 11.36 148.62 11.16 148.78 10.96 148.93 10.75\"/>\n",
       "      </g>\n",
       "      <g stroke-width=\"0.26\" fill=\"#000000\" fill-opacity=\"0.000\" class=\"geometry\" stroke-dasharray=\"none\" stroke=\"#E36F47\" id=\"img-e80f541e-15\">\n",
       "        <path fill=\"none\" d=\"M55.59,74.39 L 55.75 74.31 55.9 74.23 56.06 74.15 56.21 74.07 56.37 73.99 56.53 73.91 56.68 73.83 56.84 73.75 56.99 73.67 57.15 73.6 57.31 73.52 57.46 73.44 57.62 73.36 57.77 73.28 57.93 73.2 58.08 73.12 58.24 73.04 58.4 72.96 58.55 72.88 58.71 72.8 58.86 72.72 59.02 72.64 59.18 72.56 59.33 72.48 59.49 72.4 59.64 72.32 59.8 72.24 59.95 72.17 60.11 72.09 60.27 72.01 60.42 71.93 60.58 71.85 60.73 71.77 60.89 71.69 61.05 71.61 61.2 71.53 61.36 71.45 61.51 71.37 61.67 71.29 61.82 71.21 61.98 71.13 62.14 71.05 62.29 70.97 62.45 70.89 62.6 70.81 62.76 70.74 62.92 70.66 63.07 70.58 63.23 70.5 63.38 70.42 63.54 70.34 63.69 70.26 63.85 70.18 64.01 70.1 64.16 70.02 64.32 69.94 64.47 69.86 64.63 69.78 64.79 69.7 64.94 69.62 65.1 69.54 65.25 69.46 65.41 69.38 65.56 69.3 65.72 69.23 65.88 69.15 66.03 69.07 66.19 68.99 66.34 68.91 66.5 68.83 66.66 68.75 66.81 68.67 66.97 68.59 67.12 68.51 67.28 68.43 67.43 68.35 67.59 68.27 67.75 68.19 67.9 68.11 68.06 68.03 68.21 67.95 68.37 67.87 68.53 67.8 68.68 67.72 68.84 67.64 68.99 67.56 69.15 67.48 69.3 67.4 69.46 67.32 69.62 67.24 69.77 67.16 69.93 67.08 70.08 67 70.24 66.92 70.4 66.84 70.55 66.76 70.71 66.68 70.86 66.6 71.02 66.52 71.17 66.44 71.33 66.37 71.49 66.29 71.64 66.21 71.8 66.13 71.95 66.05 72.11 65.97 72.27 65.89 72.42 65.81 72.58 65.73 72.73 65.65 72.89 65.57 73.04 65.49 73.2 65.41 73.36 65.33 73.51 65.25 73.67 65.17 73.82 65.09 73.98 65.01 74.13 64.93 74.29 64.86 74.45 64.78 74.6 64.7 74.76 64.62 74.91 64.54 75.07 64.46 75.23 64.38 75.38 64.3 75.54 64.22 75.69 64.14 75.85 64.06 76 63.98 76.16 63.9 76.32 63.82 76.47 63.74 76.63 63.66 76.78 63.58 76.94 63.5 77.1 63.43 77.25 63.35 77.41 63.27 77.56 63.19 77.72 63.11 77.87 63.03 78.03 62.95 78.19 62.87 78.34 62.79 78.5 62.71 78.65 62.63 78.81 62.55 78.97 62.47 79.12 62.39 79.28 62.31 79.43 62.23 79.59 62.15 79.74 62.07 79.9 62 80.06 61.92 80.21 61.84 80.37 61.76 80.52 61.68 80.68 61.6 80.84 61.52 80.99 61.44 81.15 61.36 81.3 61.28 81.46 61.2 81.61 61.12 81.77 61.04 81.93 60.96 82.08 60.88 82.24 60.8 82.39 60.72 82.55 60.64 82.71 60.56 82.86 60.49 83.02 60.41 83.17 60.33 83.33 60.25 83.48 60.17 83.64 60.09 83.8 60.01 83.95 59.93 84.11 59.85 84.26 59.77 84.42 59.69 84.58 59.61 84.73 59.53 84.89 59.45 85.04 59.37 85.2 59.29 85.35 59.21 85.51 59.13 85.67 59.06 85.82 58.98 85.98 58.9 86.13 58.82 86.29 58.74 86.45 58.66 86.6 58.58 86.76 58.5 86.91 58.42 87.07 58.34 87.22 58.26 87.38 58.18 87.54 58.1 87.69 58.02 87.85 57.94 88 57.86 88.16 57.78 88.32 57.7 88.47 57.63 88.63 57.55 88.78 57.47 88.94 57.39 89.09 57.31 89.25 57.23 89.41 57.15 89.56 57.07 89.72 56.99 89.87 56.91 90.03 56.83 90.19 56.75 90.34 56.67 90.5 56.59 90.65 56.51 90.81 56.43 90.96 56.35 91.12 56.27 91.28 56.19 91.43 56.12 91.59 56.04 91.74 55.96 91.9 55.88 92.06 55.8 92.21 55.72 92.37 55.64 92.52 55.56 92.68 55.48 92.83 55.4 92.99 55.32 93.15 55.24 93.3 55.16 93.46 55.08 93.61 55 93.77 54.92 93.93 54.84 94.08 54.76 94.24 54.69 94.39 54.61 94.55 54.53 94.7 54.45 94.86 54.37 95.02 54.29 95.17 54.21 95.33 54.13 95.48 54.05 95.64 53.97 95.8 53.89 95.95 53.81 96.11 53.73 96.26 53.65 96.42 53.57 96.57 53.49 96.73 53.41 96.89 53.33 97.04 53.26 97.2 53.18 97.35 53.1 97.51 53.02 97.67 52.94 97.82 52.86 97.98 52.78 98.13 52.7 98.29 52.62 98.44 52.54 98.6 52.46 98.76 52.38 98.91 52.3 99.07 52.22 99.22 52.14 99.38 52.06 99.54 51.98 99.69 51.9 99.85 51.82 100 51.75 100.16 51.67 100.31 51.59 100.47 51.51 100.63 51.43 100.78 51.35 100.94 51.27 101.09 51.19 101.25 51.11 101.41 51.03 101.56 50.95 101.72 50.87 101.87 50.79 102.03 50.71 102.18 50.63 102.34 50.55 102.5 50.47 102.65 50.39 102.81 50.32 102.96 50.24 103.12 50.16 103.28 50.08 103.43 50 103.59 49.92 103.74 49.84 103.9 49.76 104.05 49.68 104.21 49.6 104.37 49.52 104.52 49.44 104.68 49.36 104.83 49.28 104.99 49.2 105.15 49.12 105.3 49.04 105.46 48.96 105.61 48.89 105.77 48.81 105.92 48.73 106.08 48.65 106.24 48.57 106.39 48.49 106.55 48.41 106.7 48.33 106.86 48.25 107.02 48.17 107.17 48.09 107.33 48.01 107.48 47.93 107.64 47.85 107.79 47.77 107.95 47.69 108.11 47.61 108.26 47.53 108.42 47.45 108.57 47.38 108.73 47.3 108.89 47.22 109.04 47.14 109.2 47.06 109.35 46.98 109.51 46.9 109.66 46.82 109.82 46.74 109.98 46.66 110.13 46.58 110.29 46.5 110.44 46.42 110.6 46.34 110.76 46.26 110.91 46.18 111.07 46.1 111.22 46.02 111.38 45.95 111.53 45.87 111.69 45.79 111.85 45.71 112 45.63 112.16 45.55 112.31 45.47 112.47 45.39 112.63 45.31 112.78 45.23 112.94 45.15 113.09 45.07 113.25 44.99 113.4 44.91 113.56 44.83 113.72 44.75 113.87 44.67 114.03 44.59 114.18 44.52 114.34 44.44 114.5 44.36 114.65 44.28 114.81 44.2 114.96 44.12 115.12 44.04 115.27 43.96 115.43 43.88 115.59 43.8 115.74 43.72 115.9 43.64 116.05 43.56 116.21 43.48 116.36 43.4 116.52 43.32 116.68 43.24 116.83 43.16 116.99 43.08 117.14 43.01 117.3 42.93 117.46 42.85 117.61 42.77 117.77 42.69 117.92 42.61 118.08 42.53 118.23 42.45 118.39 42.37 118.55 42.29 118.7 42.21 118.86 42.13 119.01 42.05 119.17 41.97 119.33 41.89 119.48 41.81 119.64 41.73 119.79 41.65 119.95 41.58 120.1 41.5 120.26 41.42 120.42 41.34 120.57 41.26 120.73 41.18 120.88 41.1 121.04 41.02 121.2 40.94 121.35 40.86 121.51 40.78 121.66 40.7 121.82 40.62 121.97 40.54 122.13 40.46 122.29 40.38 122.44 40.3 122.6 40.22 122.75 40.15 122.91 40.07 123.07 39.99 123.22 39.91 123.38 39.83 123.53 39.75 123.69 39.67 123.84 39.59 124 39.51 124.16 39.43 124.31 39.35 124.47 39.27 124.62 39.19 124.78 39.11 124.94 39.03 125.09 38.95 125.25 38.87 125.4 38.79 125.56 38.71 125.71 38.64 125.87 38.56 126.03 38.48 126.18 38.4 126.34 38.32 126.49 38.24 126.65 38.16 126.81 38.08 126.96 38 127.12 37.92 127.27 37.84 127.43 37.76 127.58 37.68 127.74 37.6 127.9 37.52 128.05 37.44 128.21 37.36 128.36 37.28 128.52 37.21 128.68 37.13 128.83 37.05 128.99 36.97 129.14 36.89 129.3 36.81 129.45 36.73 129.61 36.65 129.77 36.57 129.92 36.49 130.08 36.41 130.23 36.33 130.39 36.25 130.55 36.17 130.7 36.09 130.86 36.01 131.01 35.93 131.17 35.85 131.32 35.78 131.48 35.7 131.64 35.62 131.79 35.54 131.95 35.46 132.1 35.38 132.26 35.3 132.42 35.22 132.57 35.14 132.73 35.06 132.88 34.98 133.04 34.9 133.19 34.82 133.35 34.74 133.51 34.66 133.66 34.58 133.82 34.5 133.97 34.42 134.13 34.34 134.29 34.27 134.44 34.19 134.6 34.11 134.75 34.03 134.91 33.95 135.06 33.87 135.22 33.79 135.38 33.71 135.53 33.63 135.69 33.55 135.84 33.47 136 33.39 136.16 33.31 136.31 33.23 136.47 33.15 136.62 33.07 136.78 32.99 136.93 32.91 137.09 32.84 137.25 32.76 137.4 32.68 137.56 32.6 137.71 32.52 137.87 32.44 138.03 32.36 138.18 32.28 138.34 32.2 138.49 32.12 138.65 32.04 138.8 31.96 138.96 31.88 139.12 31.8 139.27 31.72 139.43 31.64 139.58 31.56 139.74 31.48 139.9 31.41 140.05 31.33 140.21 31.25 140.36 31.17 140.52 31.09 140.67 31.01 140.83 30.93 140.99 30.85 141.14 30.77 141.3 30.69 141.45 30.61 141.61 30.53 141.77 30.45 141.92 30.37 142.08 30.29 142.23 30.21 142.39 30.13 142.54 30.05 142.7 29.97 142.86 29.9 143.01 29.82 143.17 29.74 143.32 29.66 143.48 29.58 143.64 29.5 143.79 29.42 143.95 29.34 144.1 29.26 144.26 29.18 144.41 29.1 144.57 29.02 144.73 28.94 144.88 28.86 145.04 28.78 145.19 28.7 145.35 28.62 145.51 28.54 145.66 28.47 145.82 28.39 145.97 28.31 146.13 28.23 146.28 28.15 146.44 28.07 146.6 27.99 146.75 27.91 146.91 27.83 147.06 27.75 147.22 27.67 147.38 27.59 147.53 27.51 147.69 27.43 147.84 27.35 148 27.27 148.15 27.19 148.31 27.11 148.47 27.04 148.62 26.96 148.78 26.88 148.93 26.8\"/>\n",
       "      </g>\n",
       "    </g>\n",
       "  </g>\n",
       "</g>\n",
       "  <g class=\"guide ylabels\" font-size=\"2.82\" font-family=\"Helvetica\" fill=\"#000000\" id=\"img-e80f541e-16\">\n",
       "    <text x=\"5.92\" y=\"98.19\" text-anchor=\"end\" dy=\"0.35em\">0.0</text>\n",
       "    <text x=\"5.92\" y=\"74.39\" text-anchor=\"end\" dy=\"0.35em\">0.5</text>\n",
       "    <text x=\"5.92\" y=\"50.59\" text-anchor=\"end\" dy=\"0.35em\">1.0</text>\n",
       "    <text x=\"5.92\" y=\"26.8\" text-anchor=\"end\" dy=\"0.35em\">1.5</text>\n",
       "    <text x=\"5.92\" y=\"3\" text-anchor=\"end\" dy=\"0.35em\">2.0</text>\n",
       "  </g>\n",
       "</g>\n",
       "<defs>\n",
       "  <clipPath id=\"img-e80f541e-8\">\n",
       "  <path d=\"M6.92,1 L 150.93 1 150.93 100.19 6.92 100.19\" />\n",
       "</clipPath>\n",
       "</defs>\n",
       "</svg>\n"
      ],
      "text/html": [
       "<?xml version=\"1.0\" encoding=\"UTF-8\"?>\n",
       "<svg xmlns=\"http://www.w3.org/2000/svg\"\n",
       "     xmlns:xlink=\"http://www.w3.org/1999/xlink\"\n",
       "     xmlns:gadfly=\"http://www.gadflyjl.org/ns\"\n",
       "     version=\"1.2\"\n",
       "     width=\"158.73mm\" height=\"105.82mm\" viewBox=\"0 0 158.73 105.82\"\n",
       "     stroke=\"none\"\n",
       "     fill=\"#000000\"\n",
       "     stroke-width=\"0.3\"\n",
       "     font-size=\"3.88\"\n",
       ">\n",
       "<g stroke=\"#000000\" stroke-opacity=\"0.000\" fill=\"#FFFFFF\" id=\"img-e80f541e-1\">\n",
       "  <rect x=\"0\" y=\"0\" width=\"158.73\" height=\"105.82\"/>\n",
       "</g>\n",
       "<g class=\"plotroot xscalable yscalable\" id=\"img-e80f541e-2\">\n",
       "  <g class=\"guide xlabels\" font-size=\"2.82\" font-family=\"Helvetica\" fill=\"#000000\" id=\"img-e80f541e-3\">\n",
       "    <text x=\"8.92\" y=\"101.19\" text-anchor=\"middle\" dy=\"0.6em\">0.0</text>\n",
       "    <text x=\"55.59\" y=\"101.19\" text-anchor=\"middle\" dy=\"0.6em\">0.5</text>\n",
       "    <text x=\"102.26\" y=\"101.19\" text-anchor=\"middle\" dy=\"0.6em\">1.0</text>\n",
       "    <text x=\"148.93\" y=\"101.19\" text-anchor=\"middle\" dy=\"0.6em\">1.5</text>\n",
       "  </g>\n",
       "  <g class=\"guide colorkey\" id=\"img-e80f541e-4\">\n",
       "    <g fill=\"#000000\" font-size=\"2.82\" font-family=\"Helvetica\" id=\"img-e80f541e-5\">\n",
       "      <text x=\"154.75\" y=\"50.59\" dy=\"0.35em\">y1</text>\n",
       "      <text x=\"154.75\" y=\"54.23\" dy=\"0.35em\">y2</text>\n",
       "    </g>\n",
       "    <g stroke=\"#000000\" stroke-opacity=\"0.000\" id=\"img-e80f541e-6\">\n",
       "      <rect x=\"151.93\" y=\"49.69\" width=\"1.82\" height=\"1.82\" fill=\"#009AFA\"/>\n",
       "      <rect x=\"151.93\" y=\"53.32\" width=\"1.82\" height=\"1.82\" fill=\"#E36F47\"/>\n",
       "    </g>\n",
       "    <g fill=\"#000000\" font-size=\"3.88\" font-family=\"Helvetica\" stroke=\"#000000\" stroke-opacity=\"0.000\" id=\"img-e80f541e-7\">\n",
       "      <text x=\"151.93\" y=\"46.77\"></text>\n",
       "    </g>\n",
       "  </g>\n",
       "<g clip-path=\"url(#img-e80f541e-8)\">\n",
       "  <g id=\"img-e80f541e-9\">\n",
       "    <g pointer-events=\"visible\" opacity=\"1\" fill=\"#000000\" fill-opacity=\"0.000\" stroke=\"#000000\" stroke-opacity=\"0.000\" class=\"guide background\" id=\"img-e80f541e-10\">\n",
       "      <rect x=\"6.92\" y=\"1\" width=\"144.01\" height=\"99.19\"/>\n",
       "    </g>\n",
       "    <g class=\"guide ygridlines xfixed\" stroke-dasharray=\"0.5,0.5\" stroke-width=\"0.2\" stroke=\"#D0D0E0\" id=\"img-e80f541e-11\">\n",
       "      <path fill=\"none\" d=\"M6.92,98.19 L 150.93 98.19\"/>\n",
       "      <path fill=\"none\" d=\"M6.92,74.39 L 150.93 74.39\"/>\n",
       "      <path fill=\"none\" d=\"M6.92,50.59 L 150.93 50.59\"/>\n",
       "      <path fill=\"none\" d=\"M6.92,26.8 L 150.93 26.8\"/>\n",
       "      <path fill=\"none\" d=\"M6.92,3 L 150.93 3\"/>\n",
       "    </g>\n",
       "    <g class=\"guide xgridlines yfixed\" stroke-dasharray=\"0.5,0.5\" stroke-width=\"0.2\" stroke=\"#D0D0E0\" id=\"img-e80f541e-12\">\n",
       "      <path fill=\"none\" d=\"M8.92,1 L 8.92 100.19\"/>\n",
       "      <path fill=\"none\" d=\"M55.59,1 L 55.59 100.19\"/>\n",
       "      <path fill=\"none\" d=\"M102.26,1 L 102.26 100.19\"/>\n",
       "      <path fill=\"none\" d=\"M148.93,1 L 148.93 100.19\"/>\n",
       "    </g>\n",
       "    <g class=\"plotpanel\" id=\"img-e80f541e-13\">\n",
       "      <g stroke-width=\"0.26\" fill=\"#000000\" fill-opacity=\"0.000\" class=\"geometry\" stroke-dasharray=\"none\" stroke=\"#009AFA\" id=\"img-e80f541e-14\">\n",
       "        <path fill=\"none\" d=\"M55.59,64.53 L 55.75 64.52 55.9 64.5 56.06 64.48 56.21 64.46 56.37 64.44 56.53 64.43 56.68 64.41 56.84 64.39 56.99 64.37 57.15 64.35 57.31 64.33 57.46 64.31 57.62 64.29 57.77 64.27 57.93 64.25 58.08 64.23 58.24 64.21 58.4 64.19 58.55 64.17 58.71 64.15 58.86 64.13 59.02 64.11 59.18 64.09 59.33 64.06 59.49 64.04 59.64 64.02 59.8 64 59.95 63.97 60.11 63.95 60.27 63.93 60.42 63.91 60.58 63.88 60.73 63.86 60.89 63.84 61.05 63.81 61.2 63.79 61.36 63.76 61.51 63.74 61.67 63.71 61.82 63.69 61.98 63.66 62.14 63.64 62.29 63.61 62.45 63.59 62.6 63.56 62.76 63.54 62.92 63.51 63.07 63.48 63.23 63.46 63.38 63.43 63.54 63.4 63.69 63.38 63.85 63.35 64.01 63.32 64.16 63.29 64.32 63.27 64.47 63.24 64.63 63.21 64.79 63.18 64.94 63.15 65.1 63.13 65.25 63.1 65.41 63.07 65.56 63.04 65.72 63.01 65.88 62.98 66.03 62.95 66.19 62.92 66.34 62.89 66.5 62.86 66.66 62.83 66.81 62.8 66.97 62.77 67.12 62.74 67.28 62.7 67.43 62.67 67.59 62.64 67.75 62.61 67.9 62.58 68.06 62.54 68.21 62.51 68.37 62.48 68.53 62.45 68.68 62.41 68.84 62.38 68.99 62.35 69.15 62.31 69.3 62.28 69.46 62.25 69.62 62.21 69.77 62.18 69.93 62.14 70.08 62.11 70.24 62.07 70.4 62.04 70.55 62 70.71 61.97 70.86 61.93 71.02 61.9 71.17 61.86 71.33 61.82 71.49 61.79 71.64 61.75 71.8 61.71 71.95 61.68 72.11 61.64 72.27 61.6 72.42 61.57 72.58 61.53 72.73 61.49 72.89 61.45 73.04 61.41 73.2 61.38 73.36 61.34 73.51 61.3 73.67 61.26 73.82 61.22 73.98 61.18 74.13 61.14 74.29 61.1 74.45 61.06 74.6 61.02 74.76 60.98 74.91 60.94 75.07 60.9 75.23 60.86 75.38 60.82 75.54 60.78 75.69 60.73 75.85 60.69 76 60.65 76.16 60.61 76.32 60.57 76.47 60.52 76.63 60.48 76.78 60.44 76.94 60.4 77.1 60.35 77.25 60.31 77.41 60.27 77.56 60.22 77.72 60.18 77.87 60.13 78.03 60.09 78.19 60.04 78.34 60 78.5 59.95 78.65 59.91 78.81 59.86 78.97 59.82 79.12 59.77 79.28 59.73 79.43 59.68 79.59 59.63 79.74 59.59 79.9 59.54 80.06 59.49 80.21 59.45 80.37 59.4 80.52 59.35 80.68 59.3 80.84 59.26 80.99 59.21 81.15 59.16 81.3 59.11 81.46 59.06 81.61 59.01 81.77 58.96 81.93 58.92 82.08 58.87 82.24 58.82 82.39 58.77 82.55 58.72 82.71 58.67 82.86 58.61 83.02 58.56 83.17 58.51 83.33 58.46 83.48 58.41 83.64 58.36 83.8 58.31 83.95 58.26 84.11 58.2 84.26 58.15 84.42 58.1 84.58 58.04 84.73 57.99 84.89 57.94 85.04 57.89 85.2 57.83 85.35 57.78 85.51 57.72 85.67 57.67 85.82 57.61 85.98 57.56 86.13 57.51 86.29 57.45 86.45 57.39 86.6 57.34 86.76 57.28 86.91 57.23 87.07 57.17 87.22 57.11 87.38 57.06 87.54 57 87.69 56.94 87.85 56.89 88 56.83 88.16 56.77 88.32 56.71 88.47 56.66 88.63 56.6 88.78 56.54 88.94 56.48 89.09 56.42 89.25 56.36 89.41 56.3 89.56 56.24 89.72 56.18 89.87 56.12 90.03 56.06 90.19 56 90.34 55.94 90.5 55.88 90.65 55.82 90.81 55.76 90.96 55.7 91.12 55.63 91.28 55.57 91.43 55.51 91.59 55.45 91.74 55.38 91.9 55.32 92.06 55.26 92.21 55.19 92.37 55.13 92.52 55.07 92.68 55 92.83 54.94 92.99 54.87 93.15 54.81 93.3 54.74 93.46 54.68 93.61 54.61 93.77 54.55 93.93 54.48 94.08 54.41 94.24 54.35 94.39 54.28 94.55 54.21 94.7 54.15 94.86 54.08 95.02 54.01 95.17 53.94 95.33 53.88 95.48 53.81 95.64 53.74 95.8 53.67 95.95 53.6 96.11 53.53 96.26 53.46 96.42 53.39 96.57 53.32 96.73 53.25 96.89 53.18 97.04 53.11 97.2 53.04 97.35 52.97 97.51 52.9 97.67 52.82 97.82 52.75 97.98 52.68 98.13 52.61 98.29 52.54 98.44 52.46 98.6 52.39 98.76 52.32 98.91 52.24 99.07 52.17 99.22 52.09 99.38 52.02 99.54 51.94 99.69 51.87 99.85 51.79 100 51.72 100.16 51.64 100.31 51.57 100.47 51.49 100.63 51.41 100.78 51.34 100.94 51.26 101.09 51.18 101.25 51.1 101.41 51.03 101.56 50.95 101.72 50.87 101.87 50.79 102.03 50.71 102.18 50.63 102.34 50.55 102.5 50.47 102.65 50.39 102.81 50.31 102.96 50.23 103.12 50.15 103.28 50.07 103.43 49.99 103.59 49.91 103.74 49.83 103.9 49.74 104.05 49.66 104.21 49.58 104.37 49.5 104.52 49.41 104.68 49.33 104.83 49.25 104.99 49.16 105.15 49.08 105.3 48.99 105.46 48.91 105.61 48.82 105.77 48.74 105.92 48.65 106.08 48.57 106.24 48.48 106.39 48.39 106.55 48.31 106.7 48.22 106.86 48.13 107.02 48.04 107.17 47.96 107.33 47.87 107.48 47.78 107.64 47.69 107.79 47.6 107.95 47.51 108.11 47.42 108.26 47.33 108.42 47.24 108.57 47.15 108.73 47.06 108.89 46.97 109.04 46.88 109.2 46.78 109.35 46.69 109.51 46.6 109.66 46.51 109.82 46.41 109.98 46.32 110.13 46.23 110.29 46.13 110.44 46.04 110.6 45.94 110.76 45.85 110.91 45.75 111.07 45.66 111.22 45.56 111.38 45.47 111.53 45.37 111.69 45.27 111.85 45.18 112 45.08 112.16 44.98 112.31 44.88 112.47 44.79 112.63 44.69 112.78 44.59 112.94 44.49 113.09 44.39 113.25 44.29 113.4 44.19 113.56 44.09 113.72 43.99 113.87 43.89 114.03 43.79 114.18 43.68 114.34 43.58 114.5 43.48 114.65 43.38 114.81 43.27 114.96 43.17 115.12 43.07 115.27 42.96 115.43 42.86 115.59 42.75 115.74 42.65 115.9 42.54 116.05 42.44 116.21 42.33 116.36 42.23 116.52 42.12 116.68 42.01 116.83 41.9 116.99 41.8 117.14 41.69 117.3 41.58 117.46 41.47 117.61 41.36 117.77 41.25 117.92 41.14 118.08 41.03 118.23 40.92 118.39 40.81 118.55 40.7 118.7 40.59 118.86 40.48 119.01 40.36 119.17 40.25 119.33 40.14 119.48 40.03 119.64 39.91 119.79 39.8 119.95 39.68 120.1 39.57 120.26 39.45 120.42 39.34 120.57 39.22 120.73 39.11 120.88 38.99 121.04 38.87 121.2 38.75 121.35 38.64 121.51 38.52 121.66 38.4 121.82 38.28 121.97 38.16 122.13 38.04 122.29 37.92 122.44 37.8 122.6 37.68 122.75 37.56 122.91 37.44 123.07 37.32 123.22 37.19 123.38 37.07 123.53 36.95 123.69 36.83 123.84 36.7 124 36.58 124.16 36.45 124.31 36.33 124.47 36.2 124.62 36.08 124.78 35.95 124.94 35.82 125.09 35.7 125.25 35.57 125.4 35.44 125.56 35.31 125.71 35.19 125.87 35.06 126.03 34.93 126.18 34.8 126.34 34.67 126.49 34.54 126.65 34.41 126.81 34.27 126.96 34.14 127.12 34.01 127.27 33.88 127.43 33.74 127.58 33.61 127.74 33.48 127.9 33.34 128.05 33.21 128.21 33.07 128.36 32.94 128.52 32.8 128.68 32.66 128.83 32.53 128.99 32.39 129.14 32.25 129.3 32.11 129.45 31.98 129.61 31.84 129.77 31.7 129.92 31.56 130.08 31.42 130.23 31.28 130.39 31.14 130.55 30.99 130.7 30.85 130.86 30.71 131.01 30.57 131.17 30.42 131.32 30.28 131.48 30.13 131.64 29.99 131.79 29.84 131.95 29.7 132.1 29.55 132.26 29.41 132.42 29.26 132.57 29.11 132.73 28.96 132.88 28.82 133.04 28.67 133.19 28.52 133.35 28.37 133.51 28.22 133.66 28.07 133.82 27.92 133.97 27.76 134.13 27.61 134.29 27.46 134.44 27.31 134.6 27.15 134.75 27 134.91 26.84 135.06 26.69 135.22 26.53 135.38 26.38 135.53 26.22 135.69 26.06 135.84 25.91 136 25.75 136.16 25.59 136.31 25.43 136.47 25.27 136.62 25.11 136.78 24.95 136.93 24.79 137.09 24.63 137.25 24.47 137.4 24.3 137.56 24.14 137.71 23.98 137.87 23.81 138.03 23.65 138.18 23.48 138.34 23.32 138.49 23.15 138.65 22.98 138.8 22.82 138.96 22.65 139.12 22.48 139.27 22.31 139.43 22.14 139.58 21.97 139.74 21.8 139.9 21.63 140.05 21.46 140.21 21.29 140.36 21.12 140.52 20.94 140.67 20.77 140.83 20.6 140.99 20.42 141.14 20.25 141.3 20.07 141.45 19.89 141.61 19.72 141.77 19.54 141.92 19.36 142.08 19.18 142.23 19.01 142.39 18.83 142.54 18.65 142.7 18.46 142.86 18.28 143.01 18.1 143.17 17.92 143.32 17.74 143.48 17.55 143.64 17.37 143.79 17.18 143.95 17 144.1 16.81 144.26 16.63 144.41 16.44 144.57 16.25 144.73 16.06 144.88 15.87 145.04 15.69 145.19 15.5 145.35 15.3 145.51 15.11 145.66 14.92 145.82 14.73 145.97 14.54 146.13 14.34 146.28 14.15 146.44 13.95 146.6 13.76 146.75 13.56 146.91 13.37 147.06 13.17 147.22 12.97 147.38 12.77 147.53 12.57 147.69 12.37 147.84 12.17 148 11.97 148.15 11.77 148.31 11.57 148.47 11.36 148.62 11.16 148.78 10.96 148.93 10.75\"/>\n",
       "      </g>\n",
       "      <g stroke-width=\"0.26\" fill=\"#000000\" fill-opacity=\"0.000\" class=\"geometry\" stroke-dasharray=\"none\" stroke=\"#E36F47\" id=\"img-e80f541e-15\">\n",
       "        <path fill=\"none\" d=\"M55.59,74.39 L 55.75 74.31 55.9 74.23 56.06 74.15 56.21 74.07 56.37 73.99 56.53 73.91 56.68 73.83 56.84 73.75 56.99 73.67 57.15 73.6 57.31 73.52 57.46 73.44 57.62 73.36 57.77 73.28 57.93 73.2 58.08 73.12 58.24 73.04 58.4 72.96 58.55 72.88 58.71 72.8 58.86 72.72 59.02 72.64 59.18 72.56 59.33 72.48 59.49 72.4 59.64 72.32 59.8 72.24 59.95 72.17 60.11 72.09 60.27 72.01 60.42 71.93 60.58 71.85 60.73 71.77 60.89 71.69 61.05 71.61 61.2 71.53 61.36 71.45 61.51 71.37 61.67 71.29 61.82 71.21 61.98 71.13 62.14 71.05 62.29 70.97 62.45 70.89 62.6 70.81 62.76 70.74 62.92 70.66 63.07 70.58 63.23 70.5 63.38 70.42 63.54 70.34 63.69 70.26 63.85 70.18 64.01 70.1 64.16 70.02 64.32 69.94 64.47 69.86 64.63 69.78 64.79 69.7 64.94 69.62 65.1 69.54 65.25 69.46 65.41 69.38 65.56 69.3 65.72 69.23 65.88 69.15 66.03 69.07 66.19 68.99 66.34 68.91 66.5 68.83 66.66 68.75 66.81 68.67 66.97 68.59 67.12 68.51 67.28 68.43 67.43 68.35 67.59 68.27 67.75 68.19 67.9 68.11 68.06 68.03 68.21 67.95 68.37 67.87 68.53 67.8 68.68 67.72 68.84 67.64 68.99 67.56 69.15 67.48 69.3 67.4 69.46 67.32 69.62 67.24 69.77 67.16 69.93 67.08 70.08 67 70.24 66.92 70.4 66.84 70.55 66.76 70.71 66.68 70.86 66.6 71.02 66.52 71.17 66.44 71.33 66.37 71.49 66.29 71.64 66.21 71.8 66.13 71.95 66.05 72.11 65.97 72.27 65.89 72.42 65.81 72.58 65.73 72.73 65.65 72.89 65.57 73.04 65.49 73.2 65.41 73.36 65.33 73.51 65.25 73.67 65.17 73.82 65.09 73.98 65.01 74.13 64.93 74.29 64.86 74.45 64.78 74.6 64.7 74.76 64.62 74.91 64.54 75.07 64.46 75.23 64.38 75.38 64.3 75.54 64.22 75.69 64.14 75.85 64.06 76 63.98 76.16 63.9 76.32 63.82 76.47 63.74 76.63 63.66 76.78 63.58 76.94 63.5 77.1 63.43 77.25 63.35 77.41 63.27 77.56 63.19 77.72 63.11 77.87 63.03 78.03 62.95 78.19 62.87 78.34 62.79 78.5 62.71 78.65 62.63 78.81 62.55 78.97 62.47 79.12 62.39 79.28 62.31 79.43 62.23 79.59 62.15 79.74 62.07 79.9 62 80.06 61.92 80.21 61.84 80.37 61.76 80.52 61.68 80.68 61.6 80.84 61.52 80.99 61.44 81.15 61.36 81.3 61.28 81.46 61.2 81.61 61.12 81.77 61.04 81.93 60.96 82.08 60.88 82.24 60.8 82.39 60.72 82.55 60.64 82.71 60.56 82.86 60.49 83.02 60.41 83.17 60.33 83.33 60.25 83.48 60.17 83.64 60.09 83.8 60.01 83.95 59.93 84.11 59.85 84.26 59.77 84.42 59.69 84.58 59.61 84.73 59.53 84.89 59.45 85.04 59.37 85.2 59.29 85.35 59.21 85.51 59.13 85.67 59.06 85.82 58.98 85.98 58.9 86.13 58.82 86.29 58.74 86.45 58.66 86.6 58.58 86.76 58.5 86.91 58.42 87.07 58.34 87.22 58.26 87.38 58.18 87.54 58.1 87.69 58.02 87.85 57.94 88 57.86 88.16 57.78 88.32 57.7 88.47 57.63 88.63 57.55 88.78 57.47 88.94 57.39 89.09 57.31 89.25 57.23 89.41 57.15 89.56 57.07 89.72 56.99 89.87 56.91 90.03 56.83 90.19 56.75 90.34 56.67 90.5 56.59 90.65 56.51 90.81 56.43 90.96 56.35 91.12 56.27 91.28 56.19 91.43 56.12 91.59 56.04 91.74 55.96 91.9 55.88 92.06 55.8 92.21 55.72 92.37 55.64 92.52 55.56 92.68 55.48 92.83 55.4 92.99 55.32 93.15 55.24 93.3 55.16 93.46 55.08 93.61 55 93.77 54.92 93.93 54.84 94.08 54.76 94.24 54.69 94.39 54.61 94.55 54.53 94.7 54.45 94.86 54.37 95.02 54.29 95.17 54.21 95.33 54.13 95.48 54.05 95.64 53.97 95.8 53.89 95.95 53.81 96.11 53.73 96.26 53.65 96.42 53.57 96.57 53.49 96.73 53.41 96.89 53.33 97.04 53.26 97.2 53.18 97.35 53.1 97.51 53.02 97.67 52.94 97.82 52.86 97.98 52.78 98.13 52.7 98.29 52.62 98.44 52.54 98.6 52.46 98.76 52.38 98.91 52.3 99.07 52.22 99.22 52.14 99.38 52.06 99.54 51.98 99.69 51.9 99.85 51.82 100 51.75 100.16 51.67 100.31 51.59 100.47 51.51 100.63 51.43 100.78 51.35 100.94 51.27 101.09 51.19 101.25 51.11 101.41 51.03 101.56 50.95 101.72 50.87 101.87 50.79 102.03 50.71 102.18 50.63 102.34 50.55 102.5 50.47 102.65 50.39 102.81 50.32 102.96 50.24 103.12 50.16 103.28 50.08 103.43 50 103.59 49.92 103.74 49.84 103.9 49.76 104.05 49.68 104.21 49.6 104.37 49.52 104.52 49.44 104.68 49.36 104.83 49.28 104.99 49.2 105.15 49.12 105.3 49.04 105.46 48.96 105.61 48.89 105.77 48.81 105.92 48.73 106.08 48.65 106.24 48.57 106.39 48.49 106.55 48.41 106.7 48.33 106.86 48.25 107.02 48.17 107.17 48.09 107.33 48.01 107.48 47.93 107.64 47.85 107.79 47.77 107.95 47.69 108.11 47.61 108.26 47.53 108.42 47.45 108.57 47.38 108.73 47.3 108.89 47.22 109.04 47.14 109.2 47.06 109.35 46.98 109.51 46.9 109.66 46.82 109.82 46.74 109.98 46.66 110.13 46.58 110.29 46.5 110.44 46.42 110.6 46.34 110.76 46.26 110.91 46.18 111.07 46.1 111.22 46.02 111.38 45.95 111.53 45.87 111.69 45.79 111.85 45.71 112 45.63 112.16 45.55 112.31 45.47 112.47 45.39 112.63 45.31 112.78 45.23 112.94 45.15 113.09 45.07 113.25 44.99 113.4 44.91 113.56 44.83 113.72 44.75 113.87 44.67 114.03 44.59 114.18 44.52 114.34 44.44 114.5 44.36 114.65 44.28 114.81 44.2 114.96 44.12 115.12 44.04 115.27 43.96 115.43 43.88 115.59 43.8 115.74 43.72 115.9 43.64 116.05 43.56 116.21 43.48 116.36 43.4 116.52 43.32 116.68 43.24 116.83 43.16 116.99 43.08 117.14 43.01 117.3 42.93 117.46 42.85 117.61 42.77 117.77 42.69 117.92 42.61 118.08 42.53 118.23 42.45 118.39 42.37 118.55 42.29 118.7 42.21 118.86 42.13 119.01 42.05 119.17 41.97 119.33 41.89 119.48 41.81 119.64 41.73 119.79 41.65 119.95 41.58 120.1 41.5 120.26 41.42 120.42 41.34 120.57 41.26 120.73 41.18 120.88 41.1 121.04 41.02 121.2 40.94 121.35 40.86 121.51 40.78 121.66 40.7 121.82 40.62 121.97 40.54 122.13 40.46 122.29 40.38 122.44 40.3 122.6 40.22 122.75 40.15 122.91 40.07 123.07 39.99 123.22 39.91 123.38 39.83 123.53 39.75 123.69 39.67 123.84 39.59 124 39.51 124.16 39.43 124.31 39.35 124.47 39.27 124.62 39.19 124.78 39.11 124.94 39.03 125.09 38.95 125.25 38.87 125.4 38.79 125.56 38.71 125.71 38.64 125.87 38.56 126.03 38.48 126.18 38.4 126.34 38.32 126.49 38.24 126.65 38.16 126.81 38.08 126.96 38 127.12 37.92 127.27 37.84 127.43 37.76 127.58 37.68 127.74 37.6 127.9 37.52 128.05 37.44 128.21 37.36 128.36 37.28 128.52 37.21 128.68 37.13 128.83 37.05 128.99 36.97 129.14 36.89 129.3 36.81 129.45 36.73 129.61 36.65 129.77 36.57 129.92 36.49 130.08 36.41 130.23 36.33 130.39 36.25 130.55 36.17 130.7 36.09 130.86 36.01 131.01 35.93 131.17 35.85 131.32 35.78 131.48 35.7 131.64 35.62 131.79 35.54 131.95 35.46 132.1 35.38 132.26 35.3 132.42 35.22 132.57 35.14 132.73 35.06 132.88 34.98 133.04 34.9 133.19 34.82 133.35 34.74 133.51 34.66 133.66 34.58 133.82 34.5 133.97 34.42 134.13 34.34 134.29 34.27 134.44 34.19 134.6 34.11 134.75 34.03 134.91 33.95 135.06 33.87 135.22 33.79 135.38 33.71 135.53 33.63 135.69 33.55 135.84 33.47 136 33.39 136.16 33.31 136.31 33.23 136.47 33.15 136.62 33.07 136.78 32.99 136.93 32.91 137.09 32.84 137.25 32.76 137.4 32.68 137.56 32.6 137.71 32.52 137.87 32.44 138.03 32.36 138.18 32.28 138.34 32.2 138.49 32.12 138.65 32.04 138.8 31.96 138.96 31.88 139.12 31.8 139.27 31.72 139.43 31.64 139.58 31.56 139.74 31.48 139.9 31.41 140.05 31.33 140.21 31.25 140.36 31.17 140.52 31.09 140.67 31.01 140.83 30.93 140.99 30.85 141.14 30.77 141.3 30.69 141.45 30.61 141.61 30.53 141.77 30.45 141.92 30.37 142.08 30.29 142.23 30.21 142.39 30.13 142.54 30.05 142.7 29.97 142.86 29.9 143.01 29.82 143.17 29.74 143.32 29.66 143.48 29.58 143.64 29.5 143.79 29.42 143.95 29.34 144.1 29.26 144.26 29.18 144.41 29.1 144.57 29.02 144.73 28.94 144.88 28.86 145.04 28.78 145.19 28.7 145.35 28.62 145.51 28.54 145.66 28.47 145.82 28.39 145.97 28.31 146.13 28.23 146.28 28.15 146.44 28.07 146.6 27.99 146.75 27.91 146.91 27.83 147.06 27.75 147.22 27.67 147.38 27.59 147.53 27.51 147.69 27.43 147.84 27.35 148 27.27 148.15 27.19 148.31 27.11 148.47 27.04 148.62 26.96 148.78 26.88 148.93 26.8\"/>\n",
       "      </g>\n",
       "    </g>\n",
       "  </g>\n",
       "</g>\n",
       "  <g class=\"guide ylabels\" font-size=\"2.82\" font-family=\"Helvetica\" fill=\"#000000\" id=\"img-e80f541e-16\">\n",
       "    <text x=\"5.92\" y=\"98.19\" text-anchor=\"end\" dy=\"0.35em\">0.0</text>\n",
       "    <text x=\"5.92\" y=\"74.39\" text-anchor=\"end\" dy=\"0.35em\">0.5</text>\n",
       "    <text x=\"5.92\" y=\"50.59\" text-anchor=\"end\" dy=\"0.35em\">1.0</text>\n",
       "    <text x=\"5.92\" y=\"26.8\" text-anchor=\"end\" dy=\"0.35em\">1.5</text>\n",
       "    <text x=\"5.92\" y=\"3\" text-anchor=\"end\" dy=\"0.35em\">2.0</text>\n",
       "  </g>\n",
       "</g>\n",
       "<defs>\n",
       "  <clipPath id=\"img-e80f541e-8\">\n",
       "  <path d=\"M6.92,1 L 150.93 1 150.93 100.19 6.92 100.19\" />\n",
       "</clipPath>\n",
       "</defs>\n",
       "</svg>\n"
      ],
      "text/plain": [
       "Compose.SVG(158.73015873015876mm,105.82010582010584mm,IOBuffer(data=UInt8[...], readable=true, writable=true, seekable=true, append=false, size=18457, maxsize=Inf, ptr=18458, mark=-1),nothing,\"img-e80f541e\",0,Compose.SVGPropertyFrame[],Dict{Type{T},Union{Compose.Property{P<:Compose.PropertyPrimitive},Void}}(Compose.Property{Compose.FillPrimitive}=>nothing),Dict{Compose.ClipPrimitive{P<:NTuple{N,Measures.Measure}},ASCIIString}(Compose.ClipPrimitive{Tuple{Measures.Length{:mm,Float64},Measures.Length{:mm,Float64}}}([(6.9199999999999875mm,1.0mm),(150.93349206349208mm,1.0mm),(150.93349206349208mm,100.18677248677251mm),(6.9199999999999875mm,100.18677248677251mm)])=>\"img-e80f541e-8\"),Tuple{Compose.FormPrimitive,ASCIIString}[],Set{AbstractString}(),true,false,nothing,true,\"img-e80f541e-16\",false,16,AbstractString[\"C:\\\\Users\\\\labor\\\\.julia\\\\v0.4\\\\Gadfly\\\\src\\\\gadfly.js\"],Tuple{AbstractString,AbstractString}[(\"Snap.svg\",\"Snap\"),(\"Gadfly\",\"Gadfly\")],AbstractString[\"fig.select(\\\"#img-e80f541e-4\\\")\\n   .drag(function() {}, function() {}, function() {});\",\"fig.select(\\\"#img-e80f541e-9\\\")\\n   .init_gadfly();\"],false,:none)"
      ]
     },
     "metadata": {},
     "output_type": "display_data"
    },
    {
     "data": {
      "text/html": []
     },
     "execution_count": 25,
     "metadata": {},
     "output_type": "execute_result"
    }
   ],
   "source": [
    "f(x) = x^x; c = 1\n",
    "m = diff(f(x)) |> subs(x, c);\n",
    "fs = [f, x -> f(c) + N(m)*(x-c)]\n",
    "Plots.plot(fs, .5, 1.5)"
   ]
  },
  {
   "cell_type": "markdown",
   "metadata": {},
   "source": [
    "### Экстремумы\n",
    "\n",
    "Мы можем комбинировать функцию ```solve``` с функцией ```diff``` для нахождения экстремумов дифференцируемой функции на закрытом интервале путем нахождения критических точек, где $f′(x)=0$.\n",
    "\n",
    "Например, возьмем задачу ограждения максимальной площади 3 сторонами прямоугольника, где длина 3 сторон постоянна.\n",
    "\n",
    "Для этого имеем:"
   ]
  },
  {
   "cell_type": "markdown",
   "metadata": {},
   "source": [
    "$L = 2x + y, \\quad A = xy, \\quad\\text{или}\\quad A(x) = x \\cdot (L-2x)$"
   ]
  },
  {
   "cell_type": "markdown",
   "metadata": {},
   "source": [
    "Эту задачу можно решить, взяв $L$ как символическое значение, обратившись к критическим точкам для $A$ или когда $A′(x)=0$:"
   ]
  },
  {
   "cell_type": "code",
   "execution_count": 74,
   "metadata": {
    "collapsed": false
   },
   "outputs": [
    {
     "data": {
      "text/latex": [
       "$$\\frac{L}{2}$$"
      ],
      "text/plain": [
       "L\n",
       "-\n",
       "2"
      ]
     },
     "execution_count": 74,
     "metadata": {},
     "output_type": "execute_result"
    }
   ],
   "source": [
    "L = Sym(\"L\")\n",
    "A = x*y\n",
    "A = A(y => L - 2x)\n",
    "out = solve(diff(A, x), x)[1]    ## функция solve возвращает массив, нам нужен его первый компонент\n",
    "subs(L - 2x, x, out)"
   ]
  },
  {
   "cell_type": "markdown",
   "metadata": {},
   "source": [
    "Результат показывает, что $y=L/2$. Поэтому ```solve``` для $x$ дает:"
   ]
  },
  {
   "cell_type": "code",
   "execution_count": 75,
   "metadata": {
    "collapsed": false
   },
   "outputs": [
    {
     "data": {
      "text/latex": [
       "\\begin{bmatrix}\\frac{L}{4}\\end{bmatrix}"
      ],
      "text/plain": [
       "1-element Array{SymPy.Sym,1}\n",
       "[L]\n",
       "[-]\n",
       "[4]"
      ]
     },
     "execution_count": 75,
     "metadata": {},
     "output_type": "execute_result"
    }
   ],
   "source": [
    "solve(L/2 - (L - 2x), x)"
   ]
  },
  {
   "cell_type": "markdown",
   "metadata": {},
   "source": [
    "### Интегрирование\n",
    "\n",
    "Пакет ```SymPy``` может выполнять символическое интегрирование, хотя и не так эффективно, как это делает Mathematica, но он способен на многое. Для этого служит стандартная функци ```integrate```.\n",
    "\n",
    "Можно найти антипроизводные (неопределенный интеграл):"
   ]
  },
  {
   "cell_type": "code",
   "execution_count": 76,
   "metadata": {
    "collapsed": false
   },
   "outputs": [
    {
     "data": {
      "text/latex": [
       "$$\\sin{\\left (x \\right )} + \\cos{\\left (x \\right )}$$"
      ],
      "text/plain": [
       "sin(x) + cos(x)"
      ]
     },
     "execution_count": 76,
     "metadata": {},
     "output_type": "execute_result"
    }
   ],
   "source": [
    "x, a = Sym(\"x\", \"a\")\n",
    "f(x) = cos(x) - sin(x)\n",
    "integrate(f(x), x)"
   ]
  },
  {
   "cell_type": "markdown",
   "metadata": {},
   "source": [
    "Можно параметризовать интеграл, используя константу:"
   ]
  },
  {
   "cell_type": "code",
   "execution_count": 77,
   "metadata": {
    "collapsed": false
   },
   "outputs": [
    {
     "data": {
      "text/latex": [
       "$$- \\log{\\left (\\tan{\\left (\\frac{a}{2} + \\frac{x}{2} \\right )} - 1 \\right )} + \\log{\\left (\\tan{\\left (\\frac{a}{2} + \\frac{x}{2} \\right )} + 1 \\right )}$$"
      ],
      "text/plain": [
       "     /   /a   x\\    \\      /   /a   x\\    \\\n",
       "- log|tan|- + -| - 1| + log|tan|- + -| + 1|\n",
       "     \\   \\2   2/    /      \\   \\2   2/    /"
      ]
     },
     "execution_count": 77,
     "metadata": {},
     "output_type": "execute_result"
    }
   ],
   "source": [
    "integrate(1/cos(x + a), x)"
   ]
  },
  {
   "cell_type": "markdown",
   "metadata": {},
   "source": [
    "Функция ```integrate``` может обрабатывать многие передаваемые ей интегралы."
   ]
  },
  {
   "cell_type": "code",
   "execution_count": 78,
   "metadata": {
    "collapsed": false
   },
   "outputs": [
    {
     "data": {
      "text/latex": [
       "$$\\frac{x^{8}}{8} - \\frac{4 x^{7}}{7} + x^{6} - \\frac{4 x^{5}}{5} + \\frac{x^{4}}{4}$$"
      ],
      "text/plain": [
       " 8      7           5    4\n",
       "x    4*x     6   4*x    x \n",
       "-- - ---- + x  - ---- + --\n",
       "8     7           5     4 "
      ]
     },
     "execution_count": 78,
     "metadata": {},
     "output_type": "execute_result"
    }
   ],
   "source": [
    "integrate(x^3 * (1-x)^4, x)"
   ]
  },
  {
   "cell_type": "code",
   "execution_count": 79,
   "metadata": {
    "collapsed": false
   },
   "outputs": [
    {
     "data": {
      "text/latex": [
       "$$\\frac{1}{2} \\log{\\left (x^{2} + 1 \\right )}$$"
      ],
      "text/plain": [
       "   / 2    \\\n",
       "log\\x  + 1/\n",
       "-----------\n",
       "     2     "
      ]
     },
     "execution_count": 79,
     "metadata": {},
     "output_type": "execute_result"
    }
   ],
   "source": [
    "integrate(x/(x^2+1), x)"
   ]
  },
  {
   "cell_type": "markdown",
   "metadata": {},
   "source": [
    "#### Определенные интегралы\n",
    "\n",
    "Задав диапазон для интегрирования, можно найти определенный интеграл $\\int_a^b f(x) dx$."
   ]
  },
  {
   "cell_type": "code",
   "execution_count": 80,
   "metadata": {
    "collapsed": false
   },
   "outputs": [
    {
     "data": {
      "text/latex": [
       "$$\\frac{1}{3}$$"
      ],
      "text/plain": [
       "1/3"
      ]
     },
     "execution_count": 80,
     "metadata": {},
     "output_type": "execute_result"
    }
   ],
   "source": [
    "integrate(x^2, (x, 0, 1))    "
   ]
  },
  {
   "cell_type": "markdown",
   "metadata": {},
   "source": [
    "Что более интересно, мы можем найти медианное значение интеграла, обратившись к ```real_roots``` с символическим результатом вызова функции ```integrate```:"
   ]
  },
  {
   "cell_type": "code",
   "execution_count": 81,
   "metadata": {
    "collapsed": false
   },
   "outputs": [
    {
     "data": {
      "text/latex": [
       "\\begin{bmatrix}\\frac{2^{\\frac{3}{4}}}{2}\\end{bmatrix}"
      ],
      "text/plain": [
       "1-element Array{SymPy.Sym,1}\n",
       "[ 3/4]\n",
       "[2   ]\n",
       "[----]\n",
       "[ 2  ]"
      ]
     },
     "execution_count": 81,
     "metadata": {},
     "output_type": "execute_result"
    }
   ],
   "source": [
    "f(x) = 4x^3\n",
    "b = Sym(\"b\")\n",
    "eq = integrate(f(x), (x,  0, b)) - 1/2 * integrate(f(x), (x, 0, 1))\n",
    "xs = real_roots(eq, b)\n",
    "#\n",
    "ispositive(x) = x > 0\n",
    "filter(ispositive, xs)"
   ]
  },
  {
   "cell_type": "markdown",
   "metadata": {
    "collapsed": true
   },
   "source": [
    "Равенство ```eq``` представляет собой многочлен 4-ой степени с 2 вещественными и 2 комплексными корнями. Мы использовали ```real_roots``` для получения двух вещественных корней, и затем отфильтровали, чтобы получить положительные."
   ]
  },
  {
   "cell_type": "markdown",
   "metadata": {
    "collapsed": true
   },
   "source": [
    "## Применения\n",
    "\n",
    "Покажем несколько примеров практического применения символической математики."
   ]
  },
  {
   "cell_type": "markdown",
   "metadata": {},
   "source": [
    "### Касательные и параболы\n",
    "Интересный факт относительно парабол: любые две разные касательные пересекаются в срединной точке. Иными словами, касательная в $a$ и касательная в $b$ пересекутся в $(a+b)/2$. График может прояснить ситуацию:"
   ]
  },
  {
   "cell_type": "code",
   "execution_count": 8,
   "metadata": {
    "collapsed": false
   },
   "outputs": [
    {
     "data": {
      "image/svg+xml": [
       "<?xml version=\"1.0\" encoding=\"UTF-8\"?>\n",
       "<svg xmlns=\"http://www.w3.org/2000/svg\"\n",
       "     xmlns:xlink=\"http://www.w3.org/1999/xlink\"\n",
       "     xmlns:gadfly=\"http://www.gadflyjl.org/ns\"\n",
       "     version=\"1.2\"\n",
       "     width=\"158.73mm\" height=\"105.82mm\" viewBox=\"0 0 158.73 105.82\"\n",
       "     stroke=\"none\"\n",
       "     fill=\"#000000\"\n",
       "     stroke-width=\"0.3\"\n",
       "     font-size=\"3.88\"\n",
       ">\n",
       "<g stroke=\"#000000\" stroke-opacity=\"0.000\" fill=\"#FFFFFF\" id=\"img-58cc74ba-1\">\n",
       "  <rect x=\"0\" y=\"0\" width=\"158.73\" height=\"105.82\"/>\n",
       "</g>\n",
       "<g class=\"plotroot xscalable yscalable\" id=\"img-58cc74ba-2\">\n",
       "  <g class=\"guide xlabels\" font-size=\"2.82\" font-family=\"Helvetica\" fill=\"#000000\" id=\"img-58cc74ba-3\">\n",
       "    <text x=\"9.07\" y=\"101.19\" text-anchor=\"middle\" dy=\"0.6em\">-3</text>\n",
       "    <text x=\"44.04\" y=\"101.19\" text-anchor=\"middle\" dy=\"0.6em\">-2</text>\n",
       "    <text x=\"79\" y=\"101.19\" text-anchor=\"middle\" dy=\"0.6em\">-1</text>\n",
       "    <text x=\"113.97\" y=\"101.19\" text-anchor=\"middle\" dy=\"0.6em\">0</text>\n",
       "    <text x=\"148.93\" y=\"101.19\" text-anchor=\"middle\" dy=\"0.6em\">1</text>\n",
       "  </g>\n",
       "  <g class=\"guide colorkey\" id=\"img-58cc74ba-4\">\n",
       "    <g fill=\"#000000\" font-size=\"2.82\" font-family=\"Helvetica\" id=\"img-58cc74ba-5\">\n",
       "      <text x=\"154.75\" y=\"48.78\" dy=\"0.35em\">y1</text>\n",
       "      <text x=\"154.75\" y=\"52.41\" dy=\"0.35em\">y2</text>\n",
       "      <text x=\"154.75\" y=\"56.04\" dy=\"0.35em\">y3</text>\n",
       "    </g>\n",
       "    <g stroke=\"#000000\" stroke-opacity=\"0.000\" id=\"img-58cc74ba-6\">\n",
       "      <rect x=\"151.93\" y=\"47.87\" width=\"1.82\" height=\"1.82\" fill=\"#009AFA\"/>\n",
       "      <rect x=\"151.93\" y=\"51.5\" width=\"1.82\" height=\"1.82\" fill=\"#E36F47\"/>\n",
       "      <rect x=\"151.93\" y=\"55.14\" width=\"1.82\" height=\"1.82\" fill=\"#3EA44E\"/>\n",
       "    </g>\n",
       "    <g fill=\"#000000\" font-size=\"3.88\" font-family=\"Helvetica\" stroke=\"#000000\" stroke-opacity=\"0.000\" id=\"img-58cc74ba-7\">\n",
       "      <text x=\"151.93\" y=\"44.95\"></text>\n",
       "    </g>\n",
       "  </g>\n",
       "<g clip-path=\"url(#img-58cc74ba-8)\">\n",
       "  <g id=\"img-58cc74ba-9\">\n",
       "    <g pointer-events=\"visible\" opacity=\"1\" fill=\"#000000\" fill-opacity=\"0.000\" stroke=\"#000000\" stroke-opacity=\"0.000\" class=\"guide background\" id=\"img-58cc74ba-10\">\n",
       "      <rect x=\"7.07\" y=\"1\" width=\"143.86\" height=\"99.19\"/>\n",
       "    </g>\n",
       "    <g class=\"guide ygridlines xfixed\" stroke-dasharray=\"0.5,0.5\" stroke-width=\"0.2\" stroke=\"#D0D0E0\" id=\"img-58cc74ba-11\">\n",
       "      <path fill=\"none\" d=\"M7.07,98.19 L 150.93 98.19\"/>\n",
       "      <path fill=\"none\" d=\"M7.07,79.15 L 150.93 79.15\"/>\n",
       "      <path fill=\"none\" d=\"M7.07,60.11 L 150.93 60.11\"/>\n",
       "      <path fill=\"none\" d=\"M7.07,41.07 L 150.93 41.07\"/>\n",
       "      <path fill=\"none\" d=\"M7.07,22.04 L 150.93 22.04\"/>\n",
       "      <path fill=\"none\" d=\"M7.07,3 L 150.93 3\"/>\n",
       "    </g>\n",
       "    <g class=\"guide xgridlines yfixed\" stroke-dasharray=\"0.5,0.5\" stroke-width=\"0.2\" stroke=\"#D0D0E0\" id=\"img-58cc74ba-12\">\n",
       "      <path fill=\"none\" d=\"M9.07,1 L 9.07 100.19\"/>\n",
       "      <path fill=\"none\" d=\"M44.04,1 L 44.04 100.19\"/>\n",
       "      <path fill=\"none\" d=\"M79,1 L 79 100.19\"/>\n",
       "      <path fill=\"none\" d=\"M113.97,1 L 113.97 100.19\"/>\n",
       "      <path fill=\"none\" d=\"M148.93,1 L 148.93 100.19\"/>\n",
       "    </g>\n",
       "    <g class=\"plotpanel\" id=\"img-58cc74ba-13\">\n",
       "      <g stroke-width=\"0.26\" fill=\"#000000\" fill-opacity=\"0.000\" class=\"geometry\" stroke-dasharray=\"none\" stroke=\"#009AFA\" id=\"img-58cc74ba-14\">\n",
       "        <path fill=\"none\" d=\"M9.07,6.81 L 9.31 6.96 9.54 7.11 9.77 7.26 10.01 7.41 10.24 7.57 10.47 7.72 10.71 7.87 10.94 8.02 11.17 8.17 11.41 8.32 11.64 8.47 11.88 8.61 12.11 8.76 12.34 8.91 12.58 9.06 12.81 9.2 13.04 9.35 13.28 9.5 13.51 9.64 13.74 9.79 13.98 9.94 14.21 10.08 14.44 10.23 14.68 10.37 14.91 10.52 15.14 10.66 15.38 10.8 15.61 10.95 15.84 11.09 16.08 11.23 16.31 11.37 16.54 11.52 16.78 11.66 17.01 11.8 17.25 11.94 17.48 12.08 17.71 12.22 17.95 12.36 18.18 12.5 18.41 12.64 18.65 12.78 18.88 12.92 19.11 13.05 19.35 13.19 19.58 13.33 19.81 13.47 20.05 13.6 20.28 13.74 20.51 13.87 20.75 14.01 20.98 14.15 21.21 14.28 21.45 14.42 21.68 14.55 21.92 14.68 22.15 14.82 22.38 14.95 22.62 15.08 22.85 15.22 23.08 15.35 23.32 15.48 23.55 15.61 23.78 15.74 24.02 15.88 24.25 16.01 24.48 16.14 24.72 16.27 24.95 16.4 25.18 16.53 25.42 16.65 25.65 16.78 25.88 16.91 26.12 17.04 26.35 17.17 26.59 17.29 26.82 17.42 27.05 17.55 27.29 17.67 27.52 17.8 27.75 17.93 27.99 18.05 28.22 18.18 28.45 18.3 28.69 18.42 28.92 18.55 29.15 18.67 29.39 18.79 29.62 18.92 29.85 19.04 30.09 19.16 30.32 19.28 30.55 19.41 30.79 19.53 31.02 19.65 31.25 19.77 31.49 19.89 31.72 20.01 31.96 20.13 32.19 20.25 32.42 20.36 32.66 20.48 32.89 20.6 33.12 20.72 33.36 20.84 33.59 20.95 33.82 21.07 34.06 21.19 34.29 21.3 34.52 21.42 34.76 21.53 34.99 21.65 35.22 21.76 35.46 21.88 35.69 21.99 35.92 22.11 36.16 22.22 36.39 22.33 36.63 22.44 36.86 22.56 37.09 22.67 37.33 22.78 37.56 22.89 37.79 23 38.03 23.11 38.26 23.22 38.49 23.33 38.73 23.44 38.96 23.55 39.19 23.66 39.43 23.77 39.66 23.88 39.89 23.99 40.13 24.09 40.36 24.2 40.59 24.31 40.83 24.41 41.06 24.52 41.29 24.63 41.53 24.73 41.76 24.84 42 24.94 42.23 25.05 42.46 25.15 42.7 25.25 42.93 25.36 43.16 25.46 43.4 25.56 43.63 25.67 43.86 25.77 44.1 25.87 44.33 25.97 44.56 26.07 44.8 26.17 45.03 26.27 45.26 26.37 45.5 26.47 45.73 26.57 45.96 26.67 46.2 26.77 46.43 26.87 46.67 26.97 46.9 27.07 47.13 27.16 47.37 27.26 47.6 27.36 47.83 27.45 48.07 27.55 48.3 27.64 48.53 27.74 48.77 27.83 49 27.93 49.23 28.02 49.47 28.12 49.7 28.21 49.93 28.3 50.17 28.4 50.4 28.49 50.63 28.58 50.87 28.67 51.1 28.77 51.33 28.86 51.57 28.95 51.8 29.04 52.04 29.13 52.27 29.22 52.5 29.31 52.74 29.4 52.97 29.49 53.2 29.58 53.44 29.66 53.67 29.75 53.9 29.84 54.14 29.93 54.37 30.01 54.6 30.1 54.84 30.19 55.07 30.27 55.3 30.36 55.54 30.44 55.77 30.53 56 30.61 56.24 30.7 56.47 30.78 56.71 30.86 56.94 30.95 57.17 31.03 57.41 31.11 57.64 31.19 57.87 31.27 58.11 31.36 58.34 31.44 58.57 31.52 58.81 31.6 59.04 31.68 59.27 31.76 59.51 31.84 59.74 31.92 59.97 32 60.21 32.07 60.44 32.15 60.67 32.23 60.91 32.31 61.14 32.38 61.37 32.46 61.61 32.54 61.84 32.61 62.08 32.69 62.31 32.76 62.54 32.84 62.78 32.91 63.01 32.99 63.24 33.06 63.48 33.13 63.71 33.21 63.94 33.28 64.18 33.35 64.41 33.43 64.64 33.5 64.88 33.57 65.11 33.64 65.34 33.71 65.58 33.78 65.81 33.85 66.04 33.92 66.28 33.99 66.51 34.06 66.75 34.13 66.98 34.2 67.21 34.27 67.45 34.33 67.68 34.4 67.91 34.47 68.15 34.54 68.38 34.6 68.61 34.67 68.85 34.73 69.08 34.8 69.31 34.86 69.55 34.93 69.78 34.99 70.01 35.06 70.25 35.12 70.48 35.18 70.71 35.25 70.95 35.31 71.18 35.37 71.42 35.44 71.65 35.5 71.88 35.56 72.12 35.62 72.35 35.68 72.58 35.74 72.82 35.8 73.05 35.86 73.28 35.92 73.52 35.98 73.75 36.04 73.98 36.1 74.22 36.15 74.45 36.21 74.68 36.27 74.92 36.33 75.15 36.38 75.38 36.44 75.62 36.49 75.85 36.55 76.08 36.61 76.32 36.66 76.55 36.71 76.79 36.77 77.02 36.82 77.25 36.88 77.49 36.93 77.72 36.98 77.95 37.03 78.19 37.09 78.42 37.14 78.65 37.19 78.89 37.24 79.12 37.29 79.35 37.34 79.59 37.39 79.82 37.44 80.05 37.49 80.29 37.54 80.52 37.59 80.75 37.64 80.99 37.69 81.22 37.73 81.46 37.78 81.69 37.83 81.92 37.88 82.16 37.92 82.39 37.97 82.62 38.01 82.86 38.06 83.09 38.11 83.32 38.15 83.56 38.19 83.79 38.24 84.02 38.28 84.26 38.33 84.49 38.37 84.72 38.41 84.96 38.45 85.19 38.5 85.42 38.54 85.66 38.58 85.89 38.62 86.12 38.66 86.36 38.7 86.59 38.74 86.83 38.78 87.06 38.82 87.29 38.86 87.53 38.9 87.76 38.94 87.99 38.97 88.23 39.01 88.46 39.05 88.69 39.09 88.93 39.12 89.16 39.16 89.39 39.19 89.63 39.23 89.86 39.26 90.09 39.3 90.33 39.33 90.56 39.37 90.79 39.4 91.03 39.44 91.26 39.47 91.5 39.5 91.73 39.53 91.96 39.57 92.2 39.6 92.43 39.63 92.66 39.66 92.9 39.69 93.13 39.72 93.36 39.75 93.6 39.78 93.83 39.81 94.06 39.84 94.3 39.87 94.53 39.9 94.76 39.93 95 39.95 95.23 39.98 95.46 40.01 95.7 40.04 95.93 40.06 96.16 40.09 96.4 40.11 96.63 40.14 96.87 40.16 97.1 40.19 97.33 40.21 97.57 40.24 97.8 40.26 98.03 40.28 98.27 40.31 98.5 40.33 98.73 40.35 98.97 40.37 99.2 40.4 99.43 40.42 99.67 40.44 99.9 40.46 100.13 40.48 100.37 40.5 100.6 40.52 100.83 40.54 101.07 40.56 101.3 40.58 101.54 40.59 101.77 40.61 102 40.63 102.24 40.65 102.47 40.66 102.7 40.68 102.94 40.7 103.17 40.71 103.4 40.73 103.64 40.74 103.87 40.76 104.1 40.77 104.34 40.79 104.57 40.8 104.8 40.81 105.04 40.83 105.27 40.84 105.5 40.85 105.74 40.86 105.97 40.88 106.2 40.89 106.44 40.9 106.67 40.91 106.91 40.92 107.14 40.93 107.37 40.94 107.61 40.95 107.84 40.96 108.07 40.97 108.31 40.97 108.54 40.98 108.77 40.99 109.01 41 109.24 41.01 109.47 41.01 109.71 41.02 109.94 41.02 110.17 41.03 110.41 41.04 110.64 41.04 110.87 41.04 111.11 41.05 111.34 41.05 111.58 41.06 111.81 41.06 112.04 41.06 112.28 41.07 112.51 41.07 112.74 41.07 112.98 41.07 113.21 41.07 113.44 41.07 113.68 41.07 113.91 41.07 114.14 41.07 114.38 41.07 114.61 41.07 114.84 41.07 115.08 41.07 115.31 41.07 115.54 41.07 115.78 41.06 116.01 41.06 116.24 41.06 116.48 41.06 116.71 41.05 116.95 41.05 117.18 41.04 117.41 41.04 117.65 41.03 117.88 41.03 118.11 41.02 118.35 41.02 118.58 41.01 118.81 41 119.05 40.99 119.28 40.99 119.51 40.98 119.75 40.97 119.98 40.96 120.21 40.95 120.45 40.94 120.68 40.93 120.91 40.92 121.15 40.91 121.38 40.9 121.62 40.89 121.85 40.88 122.08 40.87 122.32 40.86 122.55 40.85 122.78 40.83 123.02 40.82 123.25 40.81 123.48 40.79 123.72 40.78 123.95 40.76 124.18 40.75 124.42 40.73 124.65 40.72 124.88 40.7 125.12 40.69 125.35 40.67 125.58 40.65 125.82 40.64 126.05 40.62 126.29 40.6 126.52 40.58 126.75 40.57 126.99 40.55 127.22 40.53 127.45 40.51 127.69 40.49 127.92 40.47 128.15 40.45 128.39 40.43 128.62 40.41 128.85 40.38 129.09 40.36 129.32 40.34 129.55 40.32 129.79 40.3 130.02 40.27 130.25 40.25 130.49 40.22 130.72 40.2 130.95 40.18 131.19 40.15 131.42 40.13 131.66 40.1 131.89 40.07 132.12 40.05 132.36 40.02 132.59 39.99 132.82 39.97 133.06 39.94 133.29 39.91 133.52 39.88 133.76 39.86 133.99 39.83 134.22 39.8 134.46 39.77 134.69 39.74 134.92 39.71 135.16 39.68 135.39 39.65 135.62 39.61 135.86 39.58 136.09 39.55 136.33 39.52 136.56 39.49 136.79 39.45 137.03 39.42 137.26 39.39 137.49 39.35 137.73 39.32 137.96 39.28 138.19 39.25 138.43 39.21 138.66 39.18 138.89 39.14 139.13 39.1 139.36 39.07 139.59 39.03 139.83 38.99 140.06 38.95 140.29 38.92 140.53 38.88 140.76 38.84 140.99 38.8 141.23 38.76 141.46 38.72 141.7 38.68 141.93 38.64 142.16 38.6 142.4 38.56 142.63 38.52 142.86 38.47 143.1 38.43 143.33 38.39 143.56 38.35 143.8 38.3 144.03 38.26 144.26 38.22 144.5 38.17 144.73 38.13 144.96 38.08 145.2 38.04 145.43 37.99 145.66 37.95 145.9 37.9 146.13 37.85 146.37 37.81 146.6 37.76 146.83 37.71 147.07 37.66 147.3 37.61 147.53 37.57 147.77 37.52 148 37.47 148.23 37.42 148.47 37.37 148.7 37.32 148.93 37.27\"/>\n",
       "      </g>\n",
       "      <g stroke-width=\"0.26\" fill=\"#000000\" fill-opacity=\"0.000\" class=\"geometry\" stroke-dasharray=\"none\" stroke=\"#E36F47\" id=\"img-58cc74ba-15\">\n",
       "        <path fill=\"none\" d=\"M9.07,6.81 L 9.31 6.96 9.54 7.11 9.77 7.27 10.01 7.42 10.24 7.57 10.47 7.72 10.71 7.88 10.94 8.03 11.17 8.18 11.41 8.33 11.64 8.49 11.88 8.64 12.11 8.79 12.34 8.94 12.58 9.1 12.81 9.25 13.04 9.4 13.28 9.55 13.51 9.71 13.74 9.86 13.98 10.01 14.21 10.16 14.44 10.32 14.68 10.47 14.91 10.62 15.14 10.77 15.38 10.93 15.61 11.08 15.84 11.23 16.08 11.38 16.31 11.54 16.54 11.69 16.78 11.84 17.01 11.99 17.25 12.15 17.48 12.3 17.71 12.45 17.95 12.6 18.18 12.76 18.41 12.91 18.65 13.06 18.88 13.21 19.11 13.37 19.35 13.52 19.58 13.67 19.81 13.82 20.05 13.98 20.28 14.13 20.51 14.28 20.75 14.44 20.98 14.59 21.21 14.74 21.45 14.89 21.68 15.05 21.92 15.2 22.15 15.35 22.38 15.5 22.62 15.66 22.85 15.81 23.08 15.96 23.32 16.11 23.55 16.27 23.78 16.42 24.02 16.57 24.25 16.72 24.48 16.88 24.72 17.03 24.95 17.18 25.18 17.33 25.42 17.49 25.65 17.64 25.88 17.79 26.12 17.94 26.35 18.1 26.59 18.25 26.82 18.4 27.05 18.55 27.29 18.71 27.52 18.86 27.75 19.01 27.99 19.16 28.22 19.32 28.45 19.47 28.69 19.62 28.92 19.77 29.15 19.93 29.39 20.08 29.62 20.23 29.85 20.38 30.09 20.54 30.32 20.69 30.55 20.84 30.79 20.99 31.02 21.15 31.25 21.3 31.49 21.45 31.72 21.61 31.96 21.76 32.19 21.91 32.42 22.06 32.66 22.22 32.89 22.37 33.12 22.52 33.36 22.67 33.59 22.83 33.82 22.98 34.06 23.13 34.29 23.28 34.52 23.44 34.76 23.59 34.99 23.74 35.22 23.89 35.46 24.05 35.69 24.2 35.92 24.35 36.16 24.5 36.39 24.66 36.63 24.81 36.86 24.96 37.09 25.11 37.33 25.27 37.56 25.42 37.79 25.57 38.03 25.72 38.26 25.88 38.49 26.03 38.73 26.18 38.96 26.33 39.19 26.49 39.43 26.64 39.66 26.79 39.89 26.94 40.13 27.1 40.36 27.25 40.59 27.4 40.83 27.55 41.06 27.71 41.29 27.86 41.53 28.01 41.76 28.16 42 28.32 42.23 28.47 42.46 28.62 42.7 28.78 42.93 28.93 43.16 29.08 43.4 29.23 43.63 29.39 43.86 29.54 44.1 29.69 44.33 29.84 44.56 30 44.8 30.15 45.03 30.3 45.26 30.45 45.5 30.61 45.73 30.76 45.96 30.91 46.2 31.06 46.43 31.22 46.67 31.37 46.9 31.52 47.13 31.67 47.37 31.83 47.6 31.98 47.83 32.13 48.07 32.28 48.3 32.44 48.53 32.59 48.77 32.74 49 32.89 49.23 33.05 49.47 33.2 49.7 33.35 49.93 33.5 50.17 33.66 50.4 33.81 50.63 33.96 50.87 34.11 51.1 34.27 51.33 34.42 51.57 34.57 51.8 34.72 52.04 34.88 52.27 35.03 52.5 35.18 52.74 35.33 52.97 35.49 53.2 35.64 53.44 35.79 53.67 35.95 53.9 36.1 54.14 36.25 54.37 36.4 54.6 36.56 54.84 36.71 55.07 36.86 55.3 37.01 55.54 37.17 55.77 37.32 56 37.47 56.24 37.62 56.47 37.78 56.71 37.93 56.94 38.08 57.17 38.23 57.41 38.39 57.64 38.54 57.87 38.69 58.11 38.84 58.34 39 58.57 39.15 58.81 39.3 59.04 39.45 59.27 39.61 59.51 39.76 59.74 39.91 59.97 40.06 60.21 40.22 60.44 40.37 60.67 40.52 60.91 40.67 61.14 40.83 61.37 40.98 61.61 41.13 61.84 41.28 62.08 41.44 62.31 41.59 62.54 41.74 62.78 41.89 63.01 42.05 63.24 42.2 63.48 42.35 63.71 42.5 63.94 42.66 64.18 42.81 64.41 42.96 64.64 43.12 64.88 43.27 65.11 43.42 65.34 43.57 65.58 43.73 65.81 43.88 66.04 44.03 66.28 44.18 66.51 44.34 66.75 44.49 66.98 44.64 67.21 44.79 67.45 44.95 67.68 45.1 67.91 45.25 68.15 45.4 68.38 45.56 68.61 45.71 68.85 45.86 69.08 46.01 69.31 46.17 69.55 46.32 69.78 46.47 70.01 46.62 70.25 46.78 70.48 46.93 70.71 47.08 70.95 47.23 71.18 47.39 71.42 47.54 71.65 47.69 71.88 47.84 72.12 48 72.35 48.15 72.58 48.3 72.82 48.45 73.05 48.61 73.28 48.76 73.52 48.91 73.75 49.06 73.98 49.22 74.22 49.37 74.45 49.52 74.68 49.67 74.92 49.83 75.15 49.98 75.38 50.13 75.62 50.29 75.85 50.44 76.08 50.59 76.32 50.74 76.55 50.9 76.79 51.05 77.02 51.2 77.25 51.35 77.49 51.51 77.72 51.66 77.95 51.81 78.19 51.96 78.42 52.12 78.65 52.27 78.89 52.42 79.12 52.57 79.35 52.73 79.59 52.88 79.82 53.03 80.05 53.18 80.29 53.34 80.52 53.49 80.75 53.64 80.99 53.79 81.22 53.95 81.46 54.1 81.69 54.25 81.92 54.4 82.16 54.56 82.39 54.71 82.62 54.86 82.86 55.01 83.09 55.17 83.32 55.32 83.56 55.47 83.79 55.62 84.02 55.78 84.26 55.93 84.49 56.08 84.72 56.23 84.96 56.39 85.19 56.54 85.42 56.69 85.66 56.84 85.89 57 86.12 57.15 86.36 57.3 86.59 57.46 86.83 57.61 87.06 57.76 87.29 57.91 87.53 58.07 87.76 58.22 87.99 58.37 88.23 58.52 88.46 58.68 88.69 58.83 88.93 58.98 89.16 59.13 89.39 59.29 89.63 59.44 89.86 59.59 90.09 59.74 90.33 59.9 90.56 60.05 90.79 60.2 91.03 60.35 91.26 60.51 91.5 60.66 91.73 60.81 91.96 60.96 92.2 61.12 92.43 61.27 92.66 61.42 92.9 61.57 93.13 61.73 93.36 61.88 93.6 62.03 93.83 62.18 94.06 62.34 94.3 62.49 94.53 62.64 94.76 62.79 95 62.95 95.23 63.1 95.46 63.25 95.7 63.4 95.93 63.56 96.16 63.71 96.4 63.86 96.63 64.01 96.87 64.17 97.1 64.32 97.33 64.47 97.57 64.63 97.8 64.78 98.03 64.93 98.27 65.08 98.5 65.24 98.73 65.39 98.97 65.54 99.2 65.69 99.43 65.85 99.67 66 99.9 66.15 100.13 66.3 100.37 66.46 100.6 66.61 100.83 66.76 101.07 66.91 101.3 67.07 101.54 67.22 101.77 67.37 102 67.52 102.24 67.68 102.47 67.83 102.7 67.98 102.94 68.13 103.17 68.29 103.4 68.44 103.64 68.59 103.87 68.74 104.1 68.9 104.34 69.05 104.57 69.2 104.8 69.35 105.04 69.51 105.27 69.66 105.5 69.81 105.74 69.96 105.97 70.12 106.2 70.27 106.44 70.42 106.67 70.57 106.91 70.73 107.14 70.88 107.37 71.03 107.61 71.18 107.84 71.34 108.07 71.49 108.31 71.64 108.54 71.8 108.77 71.95 109.01 72.1 109.24 72.25 109.47 72.41 109.71 72.56 109.94 72.71 110.17 72.86 110.41 73.02 110.64 73.17 110.87 73.32 111.11 73.47 111.34 73.63 111.58 73.78 111.81 73.93 112.04 74.08 112.28 74.24 112.51 74.39 112.74 74.54 112.98 74.69 113.21 74.85 113.44 75 113.68 75.15 113.91 75.3 114.14 75.46 114.38 75.61 114.61 75.76 114.84 75.91 115.08 76.07 115.31 76.22 115.54 76.37 115.78 76.52 116.01 76.68 116.24 76.83 116.48 76.98 116.71 77.13 116.95 77.29 117.18 77.44 117.41 77.59 117.65 77.74 117.88 77.9 118.11 78.05 118.35 78.2 118.58 78.35 118.81 78.51 119.05 78.66 119.28 78.81 119.51 78.97 119.75 79.12 119.98 79.27 120.21 79.42 120.45 79.58 120.68 79.73 120.91 79.88 121.15 80.03 121.38 80.19 121.62 80.34 121.85 80.49 122.08 80.64 122.32 80.8 122.55 80.95 122.78 81.1 123.02 81.25 123.25 81.41 123.48 81.56 123.72 81.71 123.95 81.86 124.18 82.02 124.42 82.17 124.65 82.32 124.88 82.47 125.12 82.63 125.35 82.78 125.58 82.93 125.82 83.08 126.05 83.24 126.29 83.39 126.52 83.54 126.75 83.69 126.99 83.85 127.22 84 127.45 84.15 127.69 84.3 127.92 84.46 128.15 84.61 128.39 84.76 128.62 84.91 128.85 85.07 129.09 85.22 129.32 85.37 129.55 85.52 129.79 85.68 130.02 85.83 130.25 85.98 130.49 86.14 130.72 86.29 130.95 86.44 131.19 86.59 131.42 86.75 131.66 86.9 131.89 87.05 132.12 87.2 132.36 87.36 132.59 87.51 132.82 87.66 133.06 87.81 133.29 87.97 133.52 88.12 133.76 88.27 133.99 88.42 134.22 88.58 134.46 88.73 134.69 88.88 134.92 89.03 135.16 89.19 135.39 89.34 135.62 89.49 135.86 89.64 136.09 89.8 136.33 89.95 136.56 90.1 136.79 90.25 137.03 90.41 137.26 90.56 137.49 90.71 137.73 90.86 137.96 91.02 138.19 91.17 138.43 91.32 138.66 91.47 138.89 91.63 139.13 91.78 139.36 91.93 139.59 92.08 139.83 92.24 140.06 92.39 140.29 92.54 140.53 92.69 140.76 92.85 140.99 93 141.23 93.15 141.46 93.31 141.7 93.46 141.93 93.61 142.16 93.76 142.4 93.92 142.63 94.07 142.86 94.22 143.1 94.37 143.33 94.53 143.56 94.68 143.8 94.83 144.03 94.98 144.26 95.14 144.5 95.29 144.73 95.44 144.96 95.59 145.2 95.75 145.43 95.9 145.66 96.05 145.9 96.2 146.13 96.36 146.37 96.51 146.6 96.66 146.83 96.81 147.07 96.97 147.3 97.12 147.53 97.27 147.77 97.42 148 97.58 148.23 97.73 148.47 97.88 148.7 98.03 148.93 98.19\"/>\n",
       "      </g>\n",
       "      <g stroke-width=\"0.26\" fill=\"#000000\" fill-opacity=\"0.000\" class=\"geometry\" stroke-dasharray=\"none\" stroke=\"#3EA44E\" id=\"img-58cc74ba-16\">\n",
       "        <path fill=\"none\" d=\"M9.07,67.73 L 9.31 67.68 9.54 67.63 9.77 67.57 10.01 67.52 10.24 67.47 10.47 67.42 10.71 67.37 10.94 67.32 11.17 67.27 11.41 67.22 11.64 67.17 11.88 67.12 12.11 67.07 12.34 67.02 12.58 66.96 12.81 66.91 13.04 66.86 13.28 66.81 13.51 66.76 13.74 66.71 13.98 66.66 14.21 66.61 14.44 66.56 14.68 66.51 14.91 66.46 15.14 66.4 15.38 66.35 15.61 66.3 15.84 66.25 16.08 66.2 16.31 66.15 16.54 66.1 16.78 66.05 17.01 66 17.25 65.95 17.48 65.9 17.71 65.85 17.95 65.79 18.18 65.74 18.41 65.69 18.65 65.64 18.88 65.59 19.11 65.54 19.35 65.49 19.58 65.44 19.81 65.39 20.05 65.34 20.28 65.29 20.51 65.24 20.75 65.18 20.98 65.13 21.21 65.08 21.45 65.03 21.68 64.98 21.92 64.93 22.15 64.88 22.38 64.83 22.62 64.78 22.85 64.73 23.08 64.68 23.32 64.63 23.55 64.57 23.78 64.52 24.02 64.47 24.25 64.42 24.48 64.37 24.72 64.32 24.95 64.27 25.18 64.22 25.42 64.17 25.65 64.12 25.88 64.07 26.12 64.01 26.35 63.96 26.59 63.91 26.82 63.86 27.05 63.81 27.29 63.76 27.52 63.71 27.75 63.66 27.99 63.61 28.22 63.56 28.45 63.51 28.69 63.46 28.92 63.4 29.15 63.35 29.39 63.3 29.62 63.25 29.85 63.2 30.09 63.15 30.32 63.1 30.55 63.05 30.79 63 31.02 62.95 31.25 62.9 31.49 62.85 31.72 62.79 31.96 62.74 32.19 62.69 32.42 62.64 32.66 62.59 32.89 62.54 33.12 62.49 33.36 62.44 33.59 62.39 33.82 62.34 34.06 62.29 34.29 62.24 34.52 62.18 34.76 62.13 34.99 62.08 35.22 62.03 35.46 61.98 35.69 61.93 35.92 61.88 36.16 61.83 36.39 61.78 36.63 61.73 36.86 61.68 37.09 61.62 37.33 61.57 37.56 61.52 37.79 61.47 38.03 61.42 38.26 61.37 38.49 61.32 38.73 61.27 38.96 61.22 39.19 61.17 39.43 61.12 39.66 61.07 39.89 61.01 40.13 60.96 40.36 60.91 40.59 60.86 40.83 60.81 41.06 60.76 41.29 60.71 41.53 60.66 41.76 60.61 42 60.56 42.23 60.51 42.46 60.46 42.7 60.4 42.93 60.35 43.16 60.3 43.4 60.25 43.63 60.2 43.86 60.15 44.1 60.1 44.33 60.05 44.56 60 44.8 59.95 45.03 59.9 45.26 59.85 45.5 59.79 45.73 59.74 45.96 59.69 46.2 59.64 46.43 59.59 46.67 59.54 46.9 59.49 47.13 59.44 47.37 59.39 47.6 59.34 47.83 59.29 48.07 59.23 48.3 59.18 48.53 59.13 48.77 59.08 49 59.03 49.23 58.98 49.47 58.93 49.7 58.88 49.93 58.83 50.17 58.78 50.4 58.73 50.63 58.68 50.87 58.62 51.1 58.57 51.33 58.52 51.57 58.47 51.8 58.42 52.04 58.37 52.27 58.32 52.5 58.27 52.74 58.22 52.97 58.17 53.2 58.12 53.44 58.07 53.67 58.01 53.9 57.96 54.14 57.91 54.37 57.86 54.6 57.81 54.84 57.76 55.07 57.71 55.3 57.66 55.54 57.61 55.77 57.56 56 57.51 56.24 57.46 56.47 57.4 56.71 57.35 56.94 57.3 57.17 57.25 57.41 57.2 57.64 57.15 57.87 57.1 58.11 57.05 58.34 57 58.57 56.95 58.81 56.9 59.04 56.84 59.27 56.79 59.51 56.74 59.74 56.69 59.97 56.64 60.21 56.59 60.44 56.54 60.67 56.49 60.91 56.44 61.14 56.39 61.37 56.34 61.61 56.29 61.84 56.23 62.08 56.18 62.31 56.13 62.54 56.08 62.78 56.03 63.01 55.98 63.24 55.93 63.48 55.88 63.71 55.83 63.94 55.78 64.18 55.73 64.41 55.68 64.64 55.62 64.88 55.57 65.11 55.52 65.34 55.47 65.58 55.42 65.81 55.37 66.04 55.32 66.28 55.27 66.51 55.22 66.75 55.17 66.98 55.12 67.21 55.07 67.45 55.01 67.68 54.96 67.91 54.91 68.15 54.86 68.38 54.81 68.61 54.76 68.85 54.71 69.08 54.66 69.31 54.61 69.55 54.56 69.78 54.51 70.01 54.45 70.25 54.4 70.48 54.35 70.71 54.3 70.95 54.25 71.18 54.2 71.42 54.15 71.65 54.1 71.88 54.05 72.12 54 72.35 53.95 72.58 53.9 72.82 53.84 73.05 53.79 73.28 53.74 73.52 53.69 73.75 53.64 73.98 53.59 74.22 53.54 74.45 53.49 74.68 53.44 74.92 53.39 75.15 53.34 75.38 53.29 75.62 53.23 75.85 53.18 76.08 53.13 76.32 53.08 76.55 53.03 76.79 52.98 77.02 52.93 77.25 52.88 77.49 52.83 77.72 52.78 77.95 52.73 78.19 52.68 78.42 52.62 78.65 52.57 78.89 52.52 79.12 52.47 79.35 52.42 79.59 52.37 79.82 52.32 80.05 52.27 80.29 52.22 80.52 52.17 80.75 52.12 80.99 52.06 81.22 52.01 81.46 51.96 81.69 51.91 81.92 51.86 82.16 51.81 82.39 51.76 82.62 51.71 82.86 51.66 83.09 51.61 83.32 51.56 83.56 51.51 83.79 51.45 84.02 51.4 84.26 51.35 84.49 51.3 84.72 51.25 84.96 51.2 85.19 51.15 85.42 51.1 85.66 51.05 85.89 51 86.12 50.95 86.36 50.9 86.59 50.84 86.83 50.79 87.06 50.74 87.29 50.69 87.53 50.64 87.76 50.59 87.99 50.54 88.23 50.49 88.46 50.44 88.69 50.39 88.93 50.34 89.16 50.29 89.39 50.23 89.63 50.18 89.86 50.13 90.09 50.08 90.33 50.03 90.56 49.98 90.79 49.93 91.03 49.88 91.26 49.83 91.5 49.78 91.73 49.73 91.96 49.67 92.2 49.62 92.43 49.57 92.66 49.52 92.9 49.47 93.13 49.42 93.36 49.37 93.6 49.32 93.83 49.27 94.06 49.22 94.3 49.17 94.53 49.12 94.76 49.06 95 49.01 95.23 48.96 95.46 48.91 95.7 48.86 95.93 48.81 96.16 48.76 96.4 48.71 96.63 48.66 96.87 48.61 97.1 48.56 97.33 48.51 97.57 48.45 97.8 48.4 98.03 48.35 98.27 48.3 98.5 48.25 98.73 48.2 98.97 48.15 99.2 48.1 99.43 48.05 99.67 48 99.9 47.95 100.13 47.9 100.37 47.84 100.6 47.79 100.83 47.74 101.07 47.69 101.3 47.64 101.54 47.59 101.77 47.54 102 47.49 102.24 47.44 102.47 47.39 102.7 47.34 102.94 47.28 103.17 47.23 103.4 47.18 103.64 47.13 103.87 47.08 104.1 47.03 104.34 46.98 104.57 46.93 104.8 46.88 105.04 46.83 105.27 46.78 105.5 46.73 105.74 46.67 105.97 46.62 106.2 46.57 106.44 46.52 106.67 46.47 106.91 46.42 107.14 46.37 107.37 46.32 107.61 46.27 107.84 46.22 108.07 46.17 108.31 46.12 108.54 46.06 108.77 46.01 109.01 45.96 109.24 45.91 109.47 45.86 109.71 45.81 109.94 45.76 110.17 45.71 110.41 45.66 110.64 45.61 110.87 45.56 111.11 45.51 111.34 45.45 111.58 45.4 111.81 45.35 112.04 45.3 112.28 45.25 112.51 45.2 112.74 45.15 112.98 45.1 113.21 45.05 113.44 45 113.68 44.95 113.91 44.89 114.14 44.84 114.38 44.79 114.61 44.74 114.84 44.69 115.08 44.64 115.31 44.59 115.54 44.54 115.78 44.49 116.01 44.44 116.24 44.39 116.48 44.34 116.71 44.28 116.95 44.23 117.18 44.18 117.41 44.13 117.65 44.08 117.88 44.03 118.11 43.98 118.35 43.93 118.58 43.88 118.81 43.83 119.05 43.78 119.28 43.73 119.51 43.67 119.75 43.62 119.98 43.57 120.21 43.52 120.45 43.47 120.68 43.42 120.91 43.37 121.15 43.32 121.38 43.27 121.62 43.22 121.85 43.17 122.08 43.12 122.32 43.06 122.55 43.01 122.78 42.96 123.02 42.91 123.25 42.86 123.48 42.81 123.72 42.76 123.95 42.71 124.18 42.66 124.42 42.61 124.65 42.56 124.88 42.5 125.12 42.45 125.35 42.4 125.58 42.35 125.82 42.3 126.05 42.25 126.29 42.2 126.52 42.15 126.75 42.1 126.99 42.05 127.22 42 127.45 41.95 127.69 41.89 127.92 41.84 128.15 41.79 128.39 41.74 128.62 41.69 128.85 41.64 129.09 41.59 129.32 41.54 129.55 41.49 129.79 41.44 130.02 41.39 130.25 41.34 130.49 41.28 130.72 41.23 130.95 41.18 131.19 41.13 131.42 41.08 131.66 41.03 131.89 40.98 132.12 40.93 132.36 40.88 132.59 40.83 132.82 40.78 133.06 40.73 133.29 40.67 133.52 40.62 133.76 40.57 133.99 40.52 134.22 40.47 134.46 40.42 134.69 40.37 134.92 40.32 135.16 40.27 135.39 40.22 135.62 40.17 135.86 40.11 136.09 40.06 136.33 40.01 136.56 39.96 136.79 39.91 137.03 39.86 137.26 39.81 137.49 39.76 137.73 39.71 137.96 39.66 138.19 39.61 138.43 39.56 138.66 39.5 138.89 39.45 139.13 39.4 139.36 39.35 139.59 39.3 139.83 39.25 140.06 39.2 140.29 39.15 140.53 39.1 140.76 39.05 140.99 39 141.23 38.95 141.46 38.89 141.7 38.84 141.93 38.79 142.16 38.74 142.4 38.69 142.63 38.64 142.86 38.59 143.1 38.54 143.33 38.49 143.56 38.44 143.8 38.39 144.03 38.34 144.26 38.28 144.5 38.23 144.73 38.18 144.96 38.13 145.2 38.08 145.43 38.03 145.66 37.98 145.9 37.93 146.13 37.88 146.37 37.83 146.6 37.78 146.83 37.72 147.07 37.67 147.3 37.62 147.53 37.57 147.77 37.52 148 37.47 148.23 37.42 148.47 37.37 148.7 37.32 148.93 37.27\"/>\n",
       "      </g>\n",
       "    </g>\n",
       "  </g>\n",
       "</g>\n",
       "  <g class=\"guide ylabels\" font-size=\"2.82\" font-family=\"Helvetica\" fill=\"#000000\" id=\"img-58cc74ba-17\">\n",
       "    <text x=\"6.07\" y=\"98.19\" text-anchor=\"end\" dy=\"0.35em\">-15</text>\n",
       "    <text x=\"6.07\" y=\"79.15\" text-anchor=\"end\" dy=\"0.35em\">-10</text>\n",
       "    <text x=\"6.07\" y=\"60.11\" text-anchor=\"end\" dy=\"0.35em\">-5</text>\n",
       "    <text x=\"6.07\" y=\"41.07\" text-anchor=\"end\" dy=\"0.35em\">0</text>\n",
       "    <text x=\"6.07\" y=\"22.04\" text-anchor=\"end\" dy=\"0.35em\">5</text>\n",
       "    <text x=\"6.07\" y=\"3\" text-anchor=\"end\" dy=\"0.35em\">10</text>\n",
       "  </g>\n",
       "</g>\n",
       "<defs>\n",
       "  <clipPath id=\"img-58cc74ba-8\">\n",
       "  <path d=\"M7.07,1 L 150.93 1 150.93 100.19 7.07 100.19\" />\n",
       "</clipPath>\n",
       "</defs>\n",
       "</svg>\n"
      ],
      "text/html": [
       "<?xml version=\"1.0\" encoding=\"UTF-8\"?>\n",
       "<svg xmlns=\"http://www.w3.org/2000/svg\"\n",
       "     xmlns:xlink=\"http://www.w3.org/1999/xlink\"\n",
       "     xmlns:gadfly=\"http://www.gadflyjl.org/ns\"\n",
       "     version=\"1.2\"\n",
       "     width=\"158.73mm\" height=\"105.82mm\" viewBox=\"0 0 158.73 105.82\"\n",
       "     stroke=\"none\"\n",
       "     fill=\"#000000\"\n",
       "     stroke-width=\"0.3\"\n",
       "     font-size=\"3.88\"\n",
       ">\n",
       "<g stroke=\"#000000\" stroke-opacity=\"0.000\" fill=\"#FFFFFF\" id=\"img-58cc74ba-1\">\n",
       "  <rect x=\"0\" y=\"0\" width=\"158.73\" height=\"105.82\"/>\n",
       "</g>\n",
       "<g class=\"plotroot xscalable yscalable\" id=\"img-58cc74ba-2\">\n",
       "  <g class=\"guide xlabels\" font-size=\"2.82\" font-family=\"Helvetica\" fill=\"#000000\" id=\"img-58cc74ba-3\">\n",
       "    <text x=\"9.07\" y=\"101.19\" text-anchor=\"middle\" dy=\"0.6em\">-3</text>\n",
       "    <text x=\"44.04\" y=\"101.19\" text-anchor=\"middle\" dy=\"0.6em\">-2</text>\n",
       "    <text x=\"79\" y=\"101.19\" text-anchor=\"middle\" dy=\"0.6em\">-1</text>\n",
       "    <text x=\"113.97\" y=\"101.19\" text-anchor=\"middle\" dy=\"0.6em\">0</text>\n",
       "    <text x=\"148.93\" y=\"101.19\" text-anchor=\"middle\" dy=\"0.6em\">1</text>\n",
       "  </g>\n",
       "  <g class=\"guide colorkey\" id=\"img-58cc74ba-4\">\n",
       "    <g fill=\"#000000\" font-size=\"2.82\" font-family=\"Helvetica\" id=\"img-58cc74ba-5\">\n",
       "      <text x=\"154.75\" y=\"48.78\" dy=\"0.35em\">y1</text>\n",
       "      <text x=\"154.75\" y=\"52.41\" dy=\"0.35em\">y2</text>\n",
       "      <text x=\"154.75\" y=\"56.04\" dy=\"0.35em\">y3</text>\n",
       "    </g>\n",
       "    <g stroke=\"#000000\" stroke-opacity=\"0.000\" id=\"img-58cc74ba-6\">\n",
       "      <rect x=\"151.93\" y=\"47.87\" width=\"1.82\" height=\"1.82\" fill=\"#009AFA\"/>\n",
       "      <rect x=\"151.93\" y=\"51.5\" width=\"1.82\" height=\"1.82\" fill=\"#E36F47\"/>\n",
       "      <rect x=\"151.93\" y=\"55.14\" width=\"1.82\" height=\"1.82\" fill=\"#3EA44E\"/>\n",
       "    </g>\n",
       "    <g fill=\"#000000\" font-size=\"3.88\" font-family=\"Helvetica\" stroke=\"#000000\" stroke-opacity=\"0.000\" id=\"img-58cc74ba-7\">\n",
       "      <text x=\"151.93\" y=\"44.95\"></text>\n",
       "    </g>\n",
       "  </g>\n",
       "<g clip-path=\"url(#img-58cc74ba-8)\">\n",
       "  <g id=\"img-58cc74ba-9\">\n",
       "    <g pointer-events=\"visible\" opacity=\"1\" fill=\"#000000\" fill-opacity=\"0.000\" stroke=\"#000000\" stroke-opacity=\"0.000\" class=\"guide background\" id=\"img-58cc74ba-10\">\n",
       "      <rect x=\"7.07\" y=\"1\" width=\"143.86\" height=\"99.19\"/>\n",
       "    </g>\n",
       "    <g class=\"guide ygridlines xfixed\" stroke-dasharray=\"0.5,0.5\" stroke-width=\"0.2\" stroke=\"#D0D0E0\" id=\"img-58cc74ba-11\">\n",
       "      <path fill=\"none\" d=\"M7.07,98.19 L 150.93 98.19\"/>\n",
       "      <path fill=\"none\" d=\"M7.07,79.15 L 150.93 79.15\"/>\n",
       "      <path fill=\"none\" d=\"M7.07,60.11 L 150.93 60.11\"/>\n",
       "      <path fill=\"none\" d=\"M7.07,41.07 L 150.93 41.07\"/>\n",
       "      <path fill=\"none\" d=\"M7.07,22.04 L 150.93 22.04\"/>\n",
       "      <path fill=\"none\" d=\"M7.07,3 L 150.93 3\"/>\n",
       "    </g>\n",
       "    <g class=\"guide xgridlines yfixed\" stroke-dasharray=\"0.5,0.5\" stroke-width=\"0.2\" stroke=\"#D0D0E0\" id=\"img-58cc74ba-12\">\n",
       "      <path fill=\"none\" d=\"M9.07,1 L 9.07 100.19\"/>\n",
       "      <path fill=\"none\" d=\"M44.04,1 L 44.04 100.19\"/>\n",
       "      <path fill=\"none\" d=\"M79,1 L 79 100.19\"/>\n",
       "      <path fill=\"none\" d=\"M113.97,1 L 113.97 100.19\"/>\n",
       "      <path fill=\"none\" d=\"M148.93,1 L 148.93 100.19\"/>\n",
       "    </g>\n",
       "    <g class=\"plotpanel\" id=\"img-58cc74ba-13\">\n",
       "      <g stroke-width=\"0.26\" fill=\"#000000\" fill-opacity=\"0.000\" class=\"geometry\" stroke-dasharray=\"none\" stroke=\"#009AFA\" id=\"img-58cc74ba-14\">\n",
       "        <path fill=\"none\" d=\"M9.07,6.81 L 9.31 6.96 9.54 7.11 9.77 7.26 10.01 7.41 10.24 7.57 10.47 7.72 10.71 7.87 10.94 8.02 11.17 8.17 11.41 8.32 11.64 8.47 11.88 8.61 12.11 8.76 12.34 8.91 12.58 9.06 12.81 9.2 13.04 9.35 13.28 9.5 13.51 9.64 13.74 9.79 13.98 9.94 14.21 10.08 14.44 10.23 14.68 10.37 14.91 10.52 15.14 10.66 15.38 10.8 15.61 10.95 15.84 11.09 16.08 11.23 16.31 11.37 16.54 11.52 16.78 11.66 17.01 11.8 17.25 11.94 17.48 12.08 17.71 12.22 17.95 12.36 18.18 12.5 18.41 12.64 18.65 12.78 18.88 12.92 19.11 13.05 19.35 13.19 19.58 13.33 19.81 13.47 20.05 13.6 20.28 13.74 20.51 13.87 20.75 14.01 20.98 14.15 21.21 14.28 21.45 14.42 21.68 14.55 21.92 14.68 22.15 14.82 22.38 14.95 22.62 15.08 22.85 15.22 23.08 15.35 23.32 15.48 23.55 15.61 23.78 15.74 24.02 15.88 24.25 16.01 24.48 16.14 24.72 16.27 24.95 16.4 25.18 16.53 25.42 16.65 25.65 16.78 25.88 16.91 26.12 17.04 26.35 17.17 26.59 17.29 26.82 17.42 27.05 17.55 27.29 17.67 27.52 17.8 27.75 17.93 27.99 18.05 28.22 18.18 28.45 18.3 28.69 18.42 28.92 18.55 29.15 18.67 29.39 18.79 29.62 18.92 29.85 19.04 30.09 19.16 30.32 19.28 30.55 19.41 30.79 19.53 31.02 19.65 31.25 19.77 31.49 19.89 31.72 20.01 31.96 20.13 32.19 20.25 32.42 20.36 32.66 20.48 32.89 20.6 33.12 20.72 33.36 20.84 33.59 20.95 33.82 21.07 34.06 21.19 34.29 21.3 34.52 21.42 34.76 21.53 34.99 21.65 35.22 21.76 35.46 21.88 35.69 21.99 35.92 22.11 36.16 22.22 36.39 22.33 36.63 22.44 36.86 22.56 37.09 22.67 37.33 22.78 37.56 22.89 37.79 23 38.03 23.11 38.26 23.22 38.49 23.33 38.73 23.44 38.96 23.55 39.19 23.66 39.43 23.77 39.66 23.88 39.89 23.99 40.13 24.09 40.36 24.2 40.59 24.31 40.83 24.41 41.06 24.52 41.29 24.63 41.53 24.73 41.76 24.84 42 24.94 42.23 25.05 42.46 25.15 42.7 25.25 42.93 25.36 43.16 25.46 43.4 25.56 43.63 25.67 43.86 25.77 44.1 25.87 44.33 25.97 44.56 26.07 44.8 26.17 45.03 26.27 45.26 26.37 45.5 26.47 45.73 26.57 45.96 26.67 46.2 26.77 46.43 26.87 46.67 26.97 46.9 27.07 47.13 27.16 47.37 27.26 47.6 27.36 47.83 27.45 48.07 27.55 48.3 27.64 48.53 27.74 48.77 27.83 49 27.93 49.23 28.02 49.47 28.12 49.7 28.21 49.93 28.3 50.17 28.4 50.4 28.49 50.63 28.58 50.87 28.67 51.1 28.77 51.33 28.86 51.57 28.95 51.8 29.04 52.04 29.13 52.27 29.22 52.5 29.31 52.74 29.4 52.97 29.49 53.2 29.58 53.44 29.66 53.67 29.75 53.9 29.84 54.14 29.93 54.37 30.01 54.6 30.1 54.84 30.19 55.07 30.27 55.3 30.36 55.54 30.44 55.77 30.53 56 30.61 56.24 30.7 56.47 30.78 56.71 30.86 56.94 30.95 57.17 31.03 57.41 31.11 57.64 31.19 57.87 31.27 58.11 31.36 58.34 31.44 58.57 31.52 58.81 31.6 59.04 31.68 59.27 31.76 59.51 31.84 59.74 31.92 59.97 32 60.21 32.07 60.44 32.15 60.67 32.23 60.91 32.31 61.14 32.38 61.37 32.46 61.61 32.54 61.84 32.61 62.08 32.69 62.31 32.76 62.54 32.84 62.78 32.91 63.01 32.99 63.24 33.06 63.48 33.13 63.71 33.21 63.94 33.28 64.18 33.35 64.41 33.43 64.64 33.5 64.88 33.57 65.11 33.64 65.34 33.71 65.58 33.78 65.81 33.85 66.04 33.92 66.28 33.99 66.51 34.06 66.75 34.13 66.98 34.2 67.21 34.27 67.45 34.33 67.68 34.4 67.91 34.47 68.15 34.54 68.38 34.6 68.61 34.67 68.85 34.73 69.08 34.8 69.31 34.86 69.55 34.93 69.78 34.99 70.01 35.06 70.25 35.12 70.48 35.18 70.71 35.25 70.95 35.31 71.18 35.37 71.42 35.44 71.65 35.5 71.88 35.56 72.12 35.62 72.35 35.68 72.58 35.74 72.82 35.8 73.05 35.86 73.28 35.92 73.52 35.98 73.75 36.04 73.98 36.1 74.22 36.15 74.45 36.21 74.68 36.27 74.92 36.33 75.15 36.38 75.38 36.44 75.62 36.49 75.85 36.55 76.08 36.61 76.32 36.66 76.55 36.71 76.79 36.77 77.02 36.82 77.25 36.88 77.49 36.93 77.72 36.98 77.95 37.03 78.19 37.09 78.42 37.14 78.65 37.19 78.89 37.24 79.12 37.29 79.35 37.34 79.59 37.39 79.82 37.44 80.05 37.49 80.29 37.54 80.52 37.59 80.75 37.64 80.99 37.69 81.22 37.73 81.46 37.78 81.69 37.83 81.92 37.88 82.16 37.92 82.39 37.97 82.62 38.01 82.86 38.06 83.09 38.11 83.32 38.15 83.56 38.19 83.79 38.24 84.02 38.28 84.26 38.33 84.49 38.37 84.72 38.41 84.96 38.45 85.19 38.5 85.42 38.54 85.66 38.58 85.89 38.62 86.12 38.66 86.36 38.7 86.59 38.74 86.83 38.78 87.06 38.82 87.29 38.86 87.53 38.9 87.76 38.94 87.99 38.97 88.23 39.01 88.46 39.05 88.69 39.09 88.93 39.12 89.16 39.16 89.39 39.19 89.63 39.23 89.86 39.26 90.09 39.3 90.33 39.33 90.56 39.37 90.79 39.4 91.03 39.44 91.26 39.47 91.5 39.5 91.73 39.53 91.96 39.57 92.2 39.6 92.43 39.63 92.66 39.66 92.9 39.69 93.13 39.72 93.36 39.75 93.6 39.78 93.83 39.81 94.06 39.84 94.3 39.87 94.53 39.9 94.76 39.93 95 39.95 95.23 39.98 95.46 40.01 95.7 40.04 95.93 40.06 96.16 40.09 96.4 40.11 96.63 40.14 96.87 40.16 97.1 40.19 97.33 40.21 97.57 40.24 97.8 40.26 98.03 40.28 98.27 40.31 98.5 40.33 98.73 40.35 98.97 40.37 99.2 40.4 99.43 40.42 99.67 40.44 99.9 40.46 100.13 40.48 100.37 40.5 100.6 40.52 100.83 40.54 101.07 40.56 101.3 40.58 101.54 40.59 101.77 40.61 102 40.63 102.24 40.65 102.47 40.66 102.7 40.68 102.94 40.7 103.17 40.71 103.4 40.73 103.64 40.74 103.87 40.76 104.1 40.77 104.34 40.79 104.57 40.8 104.8 40.81 105.04 40.83 105.27 40.84 105.5 40.85 105.74 40.86 105.97 40.88 106.2 40.89 106.44 40.9 106.67 40.91 106.91 40.92 107.14 40.93 107.37 40.94 107.61 40.95 107.84 40.96 108.07 40.97 108.31 40.97 108.54 40.98 108.77 40.99 109.01 41 109.24 41.01 109.47 41.01 109.71 41.02 109.94 41.02 110.17 41.03 110.41 41.04 110.64 41.04 110.87 41.04 111.11 41.05 111.34 41.05 111.58 41.06 111.81 41.06 112.04 41.06 112.28 41.07 112.51 41.07 112.74 41.07 112.98 41.07 113.21 41.07 113.44 41.07 113.68 41.07 113.91 41.07 114.14 41.07 114.38 41.07 114.61 41.07 114.84 41.07 115.08 41.07 115.31 41.07 115.54 41.07 115.78 41.06 116.01 41.06 116.24 41.06 116.48 41.06 116.71 41.05 116.95 41.05 117.18 41.04 117.41 41.04 117.65 41.03 117.88 41.03 118.11 41.02 118.35 41.02 118.58 41.01 118.81 41 119.05 40.99 119.28 40.99 119.51 40.98 119.75 40.97 119.98 40.96 120.21 40.95 120.45 40.94 120.68 40.93 120.91 40.92 121.15 40.91 121.38 40.9 121.62 40.89 121.85 40.88 122.08 40.87 122.32 40.86 122.55 40.85 122.78 40.83 123.02 40.82 123.25 40.81 123.48 40.79 123.72 40.78 123.95 40.76 124.18 40.75 124.42 40.73 124.65 40.72 124.88 40.7 125.12 40.69 125.35 40.67 125.58 40.65 125.82 40.64 126.05 40.62 126.29 40.6 126.52 40.58 126.75 40.57 126.99 40.55 127.22 40.53 127.45 40.51 127.69 40.49 127.92 40.47 128.15 40.45 128.39 40.43 128.62 40.41 128.85 40.38 129.09 40.36 129.32 40.34 129.55 40.32 129.79 40.3 130.02 40.27 130.25 40.25 130.49 40.22 130.72 40.2 130.95 40.18 131.19 40.15 131.42 40.13 131.66 40.1 131.89 40.07 132.12 40.05 132.36 40.02 132.59 39.99 132.82 39.97 133.06 39.94 133.29 39.91 133.52 39.88 133.76 39.86 133.99 39.83 134.22 39.8 134.46 39.77 134.69 39.74 134.92 39.71 135.16 39.68 135.39 39.65 135.62 39.61 135.86 39.58 136.09 39.55 136.33 39.52 136.56 39.49 136.79 39.45 137.03 39.42 137.26 39.39 137.49 39.35 137.73 39.32 137.96 39.28 138.19 39.25 138.43 39.21 138.66 39.18 138.89 39.14 139.13 39.1 139.36 39.07 139.59 39.03 139.83 38.99 140.06 38.95 140.29 38.92 140.53 38.88 140.76 38.84 140.99 38.8 141.23 38.76 141.46 38.72 141.7 38.68 141.93 38.64 142.16 38.6 142.4 38.56 142.63 38.52 142.86 38.47 143.1 38.43 143.33 38.39 143.56 38.35 143.8 38.3 144.03 38.26 144.26 38.22 144.5 38.17 144.73 38.13 144.96 38.08 145.2 38.04 145.43 37.99 145.66 37.95 145.9 37.9 146.13 37.85 146.37 37.81 146.6 37.76 146.83 37.71 147.07 37.66 147.3 37.61 147.53 37.57 147.77 37.52 148 37.47 148.23 37.42 148.47 37.37 148.7 37.32 148.93 37.27\"/>\n",
       "      </g>\n",
       "      <g stroke-width=\"0.26\" fill=\"#000000\" fill-opacity=\"0.000\" class=\"geometry\" stroke-dasharray=\"none\" stroke=\"#E36F47\" id=\"img-58cc74ba-15\">\n",
       "        <path fill=\"none\" d=\"M9.07,6.81 L 9.31 6.96 9.54 7.11 9.77 7.27 10.01 7.42 10.24 7.57 10.47 7.72 10.71 7.88 10.94 8.03 11.17 8.18 11.41 8.33 11.64 8.49 11.88 8.64 12.11 8.79 12.34 8.94 12.58 9.1 12.81 9.25 13.04 9.4 13.28 9.55 13.51 9.71 13.74 9.86 13.98 10.01 14.21 10.16 14.44 10.32 14.68 10.47 14.91 10.62 15.14 10.77 15.38 10.93 15.61 11.08 15.84 11.23 16.08 11.38 16.31 11.54 16.54 11.69 16.78 11.84 17.01 11.99 17.25 12.15 17.48 12.3 17.71 12.45 17.95 12.6 18.18 12.76 18.41 12.91 18.65 13.06 18.88 13.21 19.11 13.37 19.35 13.52 19.58 13.67 19.81 13.82 20.05 13.98 20.28 14.13 20.51 14.28 20.75 14.44 20.98 14.59 21.21 14.74 21.45 14.89 21.68 15.05 21.92 15.2 22.15 15.35 22.38 15.5 22.62 15.66 22.85 15.81 23.08 15.96 23.32 16.11 23.55 16.27 23.78 16.42 24.02 16.57 24.25 16.72 24.48 16.88 24.72 17.03 24.95 17.18 25.18 17.33 25.42 17.49 25.65 17.64 25.88 17.79 26.12 17.94 26.35 18.1 26.59 18.25 26.82 18.4 27.05 18.55 27.29 18.71 27.52 18.86 27.75 19.01 27.99 19.16 28.22 19.32 28.45 19.47 28.69 19.62 28.92 19.77 29.15 19.93 29.39 20.08 29.62 20.23 29.85 20.38 30.09 20.54 30.32 20.69 30.55 20.84 30.79 20.99 31.02 21.15 31.25 21.3 31.49 21.45 31.72 21.61 31.96 21.76 32.19 21.91 32.42 22.06 32.66 22.22 32.89 22.37 33.12 22.52 33.36 22.67 33.59 22.83 33.82 22.98 34.06 23.13 34.29 23.28 34.52 23.44 34.76 23.59 34.99 23.74 35.22 23.89 35.46 24.05 35.69 24.2 35.92 24.35 36.16 24.5 36.39 24.66 36.63 24.81 36.86 24.96 37.09 25.11 37.33 25.27 37.56 25.42 37.79 25.57 38.03 25.72 38.26 25.88 38.49 26.03 38.73 26.18 38.96 26.33 39.19 26.49 39.43 26.64 39.66 26.79 39.89 26.94 40.13 27.1 40.36 27.25 40.59 27.4 40.83 27.55 41.06 27.71 41.29 27.86 41.53 28.01 41.76 28.16 42 28.32 42.23 28.47 42.46 28.62 42.7 28.78 42.93 28.93 43.16 29.08 43.4 29.23 43.63 29.39 43.86 29.54 44.1 29.69 44.33 29.84 44.56 30 44.8 30.15 45.03 30.3 45.26 30.45 45.5 30.61 45.73 30.76 45.96 30.91 46.2 31.06 46.43 31.22 46.67 31.37 46.9 31.52 47.13 31.67 47.37 31.83 47.6 31.98 47.83 32.13 48.07 32.28 48.3 32.44 48.53 32.59 48.77 32.74 49 32.89 49.23 33.05 49.47 33.2 49.7 33.35 49.93 33.5 50.17 33.66 50.4 33.81 50.63 33.96 50.87 34.11 51.1 34.27 51.33 34.42 51.57 34.57 51.8 34.72 52.04 34.88 52.27 35.03 52.5 35.18 52.74 35.33 52.97 35.49 53.2 35.64 53.44 35.79 53.67 35.95 53.9 36.1 54.14 36.25 54.37 36.4 54.6 36.56 54.84 36.71 55.07 36.86 55.3 37.01 55.54 37.17 55.77 37.32 56 37.47 56.24 37.62 56.47 37.78 56.71 37.93 56.94 38.08 57.17 38.23 57.41 38.39 57.64 38.54 57.87 38.69 58.11 38.84 58.34 39 58.57 39.15 58.81 39.3 59.04 39.45 59.27 39.61 59.51 39.76 59.74 39.91 59.97 40.06 60.21 40.22 60.44 40.37 60.67 40.52 60.91 40.67 61.14 40.83 61.37 40.98 61.61 41.13 61.84 41.28 62.08 41.44 62.31 41.59 62.54 41.74 62.78 41.89 63.01 42.05 63.24 42.2 63.48 42.35 63.71 42.5 63.94 42.66 64.18 42.81 64.41 42.96 64.64 43.12 64.88 43.27 65.11 43.42 65.34 43.57 65.58 43.73 65.81 43.88 66.04 44.03 66.28 44.18 66.51 44.34 66.75 44.49 66.98 44.64 67.21 44.79 67.45 44.95 67.68 45.1 67.91 45.25 68.15 45.4 68.38 45.56 68.61 45.71 68.85 45.86 69.08 46.01 69.31 46.17 69.55 46.32 69.78 46.47 70.01 46.62 70.25 46.78 70.48 46.93 70.71 47.08 70.95 47.23 71.18 47.39 71.42 47.54 71.65 47.69 71.88 47.84 72.12 48 72.35 48.15 72.58 48.3 72.82 48.45 73.05 48.61 73.28 48.76 73.52 48.91 73.75 49.06 73.98 49.22 74.22 49.37 74.45 49.52 74.68 49.67 74.92 49.83 75.15 49.98 75.38 50.13 75.62 50.29 75.85 50.44 76.08 50.59 76.32 50.74 76.55 50.9 76.79 51.05 77.02 51.2 77.25 51.35 77.49 51.51 77.72 51.66 77.95 51.81 78.19 51.96 78.42 52.12 78.65 52.27 78.89 52.42 79.12 52.57 79.35 52.73 79.59 52.88 79.82 53.03 80.05 53.18 80.29 53.34 80.52 53.49 80.75 53.64 80.99 53.79 81.22 53.95 81.46 54.1 81.69 54.25 81.92 54.4 82.16 54.56 82.39 54.71 82.62 54.86 82.86 55.01 83.09 55.17 83.32 55.32 83.56 55.47 83.79 55.62 84.02 55.78 84.26 55.93 84.49 56.08 84.72 56.23 84.96 56.39 85.19 56.54 85.42 56.69 85.66 56.84 85.89 57 86.12 57.15 86.36 57.3 86.59 57.46 86.83 57.61 87.06 57.76 87.29 57.91 87.53 58.07 87.76 58.22 87.99 58.37 88.23 58.52 88.46 58.68 88.69 58.83 88.93 58.98 89.16 59.13 89.39 59.29 89.63 59.44 89.86 59.59 90.09 59.74 90.33 59.9 90.56 60.05 90.79 60.2 91.03 60.35 91.26 60.51 91.5 60.66 91.73 60.81 91.96 60.96 92.2 61.12 92.43 61.27 92.66 61.42 92.9 61.57 93.13 61.73 93.36 61.88 93.6 62.03 93.83 62.18 94.06 62.34 94.3 62.49 94.53 62.64 94.76 62.79 95 62.95 95.23 63.1 95.46 63.25 95.7 63.4 95.93 63.56 96.16 63.71 96.4 63.86 96.63 64.01 96.87 64.17 97.1 64.32 97.33 64.47 97.57 64.63 97.8 64.78 98.03 64.93 98.27 65.08 98.5 65.24 98.73 65.39 98.97 65.54 99.2 65.69 99.43 65.85 99.67 66 99.9 66.15 100.13 66.3 100.37 66.46 100.6 66.61 100.83 66.76 101.07 66.91 101.3 67.07 101.54 67.22 101.77 67.37 102 67.52 102.24 67.68 102.47 67.83 102.7 67.98 102.94 68.13 103.17 68.29 103.4 68.44 103.64 68.59 103.87 68.74 104.1 68.9 104.34 69.05 104.57 69.2 104.8 69.35 105.04 69.51 105.27 69.66 105.5 69.81 105.74 69.96 105.97 70.12 106.2 70.27 106.44 70.42 106.67 70.57 106.91 70.73 107.14 70.88 107.37 71.03 107.61 71.18 107.84 71.34 108.07 71.49 108.31 71.64 108.54 71.8 108.77 71.95 109.01 72.1 109.24 72.25 109.47 72.41 109.71 72.56 109.94 72.71 110.17 72.86 110.41 73.02 110.64 73.17 110.87 73.32 111.11 73.47 111.34 73.63 111.58 73.78 111.81 73.93 112.04 74.08 112.28 74.24 112.51 74.39 112.74 74.54 112.98 74.69 113.21 74.85 113.44 75 113.68 75.15 113.91 75.3 114.14 75.46 114.38 75.61 114.61 75.76 114.84 75.91 115.08 76.07 115.31 76.22 115.54 76.37 115.78 76.52 116.01 76.68 116.24 76.83 116.48 76.98 116.71 77.13 116.95 77.29 117.18 77.44 117.41 77.59 117.65 77.74 117.88 77.9 118.11 78.05 118.35 78.2 118.58 78.35 118.81 78.51 119.05 78.66 119.28 78.81 119.51 78.97 119.75 79.12 119.98 79.27 120.21 79.42 120.45 79.58 120.68 79.73 120.91 79.88 121.15 80.03 121.38 80.19 121.62 80.34 121.85 80.49 122.08 80.64 122.32 80.8 122.55 80.95 122.78 81.1 123.02 81.25 123.25 81.41 123.48 81.56 123.72 81.71 123.95 81.86 124.18 82.02 124.42 82.17 124.65 82.32 124.88 82.47 125.12 82.63 125.35 82.78 125.58 82.93 125.82 83.08 126.05 83.24 126.29 83.39 126.52 83.54 126.75 83.69 126.99 83.85 127.22 84 127.45 84.15 127.69 84.3 127.92 84.46 128.15 84.61 128.39 84.76 128.62 84.91 128.85 85.07 129.09 85.22 129.32 85.37 129.55 85.52 129.79 85.68 130.02 85.83 130.25 85.98 130.49 86.14 130.72 86.29 130.95 86.44 131.19 86.59 131.42 86.75 131.66 86.9 131.89 87.05 132.12 87.2 132.36 87.36 132.59 87.51 132.82 87.66 133.06 87.81 133.29 87.97 133.52 88.12 133.76 88.27 133.99 88.42 134.22 88.58 134.46 88.73 134.69 88.88 134.92 89.03 135.16 89.19 135.39 89.34 135.62 89.49 135.86 89.64 136.09 89.8 136.33 89.95 136.56 90.1 136.79 90.25 137.03 90.41 137.26 90.56 137.49 90.71 137.73 90.86 137.96 91.02 138.19 91.17 138.43 91.32 138.66 91.47 138.89 91.63 139.13 91.78 139.36 91.93 139.59 92.08 139.83 92.24 140.06 92.39 140.29 92.54 140.53 92.69 140.76 92.85 140.99 93 141.23 93.15 141.46 93.31 141.7 93.46 141.93 93.61 142.16 93.76 142.4 93.92 142.63 94.07 142.86 94.22 143.1 94.37 143.33 94.53 143.56 94.68 143.8 94.83 144.03 94.98 144.26 95.14 144.5 95.29 144.73 95.44 144.96 95.59 145.2 95.75 145.43 95.9 145.66 96.05 145.9 96.2 146.13 96.36 146.37 96.51 146.6 96.66 146.83 96.81 147.07 96.97 147.3 97.12 147.53 97.27 147.77 97.42 148 97.58 148.23 97.73 148.47 97.88 148.7 98.03 148.93 98.19\"/>\n",
       "      </g>\n",
       "      <g stroke-width=\"0.26\" fill=\"#000000\" fill-opacity=\"0.000\" class=\"geometry\" stroke-dasharray=\"none\" stroke=\"#3EA44E\" id=\"img-58cc74ba-16\">\n",
       "        <path fill=\"none\" d=\"M9.07,67.73 L 9.31 67.68 9.54 67.63 9.77 67.57 10.01 67.52 10.24 67.47 10.47 67.42 10.71 67.37 10.94 67.32 11.17 67.27 11.41 67.22 11.64 67.17 11.88 67.12 12.11 67.07 12.34 67.02 12.58 66.96 12.81 66.91 13.04 66.86 13.28 66.81 13.51 66.76 13.74 66.71 13.98 66.66 14.21 66.61 14.44 66.56 14.68 66.51 14.91 66.46 15.14 66.4 15.38 66.35 15.61 66.3 15.84 66.25 16.08 66.2 16.31 66.15 16.54 66.1 16.78 66.05 17.01 66 17.25 65.95 17.48 65.9 17.71 65.85 17.95 65.79 18.18 65.74 18.41 65.69 18.65 65.64 18.88 65.59 19.11 65.54 19.35 65.49 19.58 65.44 19.81 65.39 20.05 65.34 20.28 65.29 20.51 65.24 20.75 65.18 20.98 65.13 21.21 65.08 21.45 65.03 21.68 64.98 21.92 64.93 22.15 64.88 22.38 64.83 22.62 64.78 22.85 64.73 23.08 64.68 23.32 64.63 23.55 64.57 23.78 64.52 24.02 64.47 24.25 64.42 24.48 64.37 24.72 64.32 24.95 64.27 25.18 64.22 25.42 64.17 25.65 64.12 25.88 64.07 26.12 64.01 26.35 63.96 26.59 63.91 26.82 63.86 27.05 63.81 27.29 63.76 27.52 63.71 27.75 63.66 27.99 63.61 28.22 63.56 28.45 63.51 28.69 63.46 28.92 63.4 29.15 63.35 29.39 63.3 29.62 63.25 29.85 63.2 30.09 63.15 30.32 63.1 30.55 63.05 30.79 63 31.02 62.95 31.25 62.9 31.49 62.85 31.72 62.79 31.96 62.74 32.19 62.69 32.42 62.64 32.66 62.59 32.89 62.54 33.12 62.49 33.36 62.44 33.59 62.39 33.82 62.34 34.06 62.29 34.29 62.24 34.52 62.18 34.76 62.13 34.99 62.08 35.22 62.03 35.46 61.98 35.69 61.93 35.92 61.88 36.16 61.83 36.39 61.78 36.63 61.73 36.86 61.68 37.09 61.62 37.33 61.57 37.56 61.52 37.79 61.47 38.03 61.42 38.26 61.37 38.49 61.32 38.73 61.27 38.96 61.22 39.19 61.17 39.43 61.12 39.66 61.07 39.89 61.01 40.13 60.96 40.36 60.91 40.59 60.86 40.83 60.81 41.06 60.76 41.29 60.71 41.53 60.66 41.76 60.61 42 60.56 42.23 60.51 42.46 60.46 42.7 60.4 42.93 60.35 43.16 60.3 43.4 60.25 43.63 60.2 43.86 60.15 44.1 60.1 44.33 60.05 44.56 60 44.8 59.95 45.03 59.9 45.26 59.85 45.5 59.79 45.73 59.74 45.96 59.69 46.2 59.64 46.43 59.59 46.67 59.54 46.9 59.49 47.13 59.44 47.37 59.39 47.6 59.34 47.83 59.29 48.07 59.23 48.3 59.18 48.53 59.13 48.77 59.08 49 59.03 49.23 58.98 49.47 58.93 49.7 58.88 49.93 58.83 50.17 58.78 50.4 58.73 50.63 58.68 50.87 58.62 51.1 58.57 51.33 58.52 51.57 58.47 51.8 58.42 52.04 58.37 52.27 58.32 52.5 58.27 52.74 58.22 52.97 58.17 53.2 58.12 53.44 58.07 53.67 58.01 53.9 57.96 54.14 57.91 54.37 57.86 54.6 57.81 54.84 57.76 55.07 57.71 55.3 57.66 55.54 57.61 55.77 57.56 56 57.51 56.24 57.46 56.47 57.4 56.71 57.35 56.94 57.3 57.17 57.25 57.41 57.2 57.64 57.15 57.87 57.1 58.11 57.05 58.34 57 58.57 56.95 58.81 56.9 59.04 56.84 59.27 56.79 59.51 56.74 59.74 56.69 59.97 56.64 60.21 56.59 60.44 56.54 60.67 56.49 60.91 56.44 61.14 56.39 61.37 56.34 61.61 56.29 61.84 56.23 62.08 56.18 62.31 56.13 62.54 56.08 62.78 56.03 63.01 55.98 63.24 55.93 63.48 55.88 63.71 55.83 63.94 55.78 64.18 55.73 64.41 55.68 64.64 55.62 64.88 55.57 65.11 55.52 65.34 55.47 65.58 55.42 65.81 55.37 66.04 55.32 66.28 55.27 66.51 55.22 66.75 55.17 66.98 55.12 67.21 55.07 67.45 55.01 67.68 54.96 67.91 54.91 68.15 54.86 68.38 54.81 68.61 54.76 68.85 54.71 69.08 54.66 69.31 54.61 69.55 54.56 69.78 54.51 70.01 54.45 70.25 54.4 70.48 54.35 70.71 54.3 70.95 54.25 71.18 54.2 71.42 54.15 71.65 54.1 71.88 54.05 72.12 54 72.35 53.95 72.58 53.9 72.82 53.84 73.05 53.79 73.28 53.74 73.52 53.69 73.75 53.64 73.98 53.59 74.22 53.54 74.45 53.49 74.68 53.44 74.92 53.39 75.15 53.34 75.38 53.29 75.62 53.23 75.85 53.18 76.08 53.13 76.32 53.08 76.55 53.03 76.79 52.98 77.02 52.93 77.25 52.88 77.49 52.83 77.72 52.78 77.95 52.73 78.19 52.68 78.42 52.62 78.65 52.57 78.89 52.52 79.12 52.47 79.35 52.42 79.59 52.37 79.82 52.32 80.05 52.27 80.29 52.22 80.52 52.17 80.75 52.12 80.99 52.06 81.22 52.01 81.46 51.96 81.69 51.91 81.92 51.86 82.16 51.81 82.39 51.76 82.62 51.71 82.86 51.66 83.09 51.61 83.32 51.56 83.56 51.51 83.79 51.45 84.02 51.4 84.26 51.35 84.49 51.3 84.72 51.25 84.96 51.2 85.19 51.15 85.42 51.1 85.66 51.05 85.89 51 86.12 50.95 86.36 50.9 86.59 50.84 86.83 50.79 87.06 50.74 87.29 50.69 87.53 50.64 87.76 50.59 87.99 50.54 88.23 50.49 88.46 50.44 88.69 50.39 88.93 50.34 89.16 50.29 89.39 50.23 89.63 50.18 89.86 50.13 90.09 50.08 90.33 50.03 90.56 49.98 90.79 49.93 91.03 49.88 91.26 49.83 91.5 49.78 91.73 49.73 91.96 49.67 92.2 49.62 92.43 49.57 92.66 49.52 92.9 49.47 93.13 49.42 93.36 49.37 93.6 49.32 93.83 49.27 94.06 49.22 94.3 49.17 94.53 49.12 94.76 49.06 95 49.01 95.23 48.96 95.46 48.91 95.7 48.86 95.93 48.81 96.16 48.76 96.4 48.71 96.63 48.66 96.87 48.61 97.1 48.56 97.33 48.51 97.57 48.45 97.8 48.4 98.03 48.35 98.27 48.3 98.5 48.25 98.73 48.2 98.97 48.15 99.2 48.1 99.43 48.05 99.67 48 99.9 47.95 100.13 47.9 100.37 47.84 100.6 47.79 100.83 47.74 101.07 47.69 101.3 47.64 101.54 47.59 101.77 47.54 102 47.49 102.24 47.44 102.47 47.39 102.7 47.34 102.94 47.28 103.17 47.23 103.4 47.18 103.64 47.13 103.87 47.08 104.1 47.03 104.34 46.98 104.57 46.93 104.8 46.88 105.04 46.83 105.27 46.78 105.5 46.73 105.74 46.67 105.97 46.62 106.2 46.57 106.44 46.52 106.67 46.47 106.91 46.42 107.14 46.37 107.37 46.32 107.61 46.27 107.84 46.22 108.07 46.17 108.31 46.12 108.54 46.06 108.77 46.01 109.01 45.96 109.24 45.91 109.47 45.86 109.71 45.81 109.94 45.76 110.17 45.71 110.41 45.66 110.64 45.61 110.87 45.56 111.11 45.51 111.34 45.45 111.58 45.4 111.81 45.35 112.04 45.3 112.28 45.25 112.51 45.2 112.74 45.15 112.98 45.1 113.21 45.05 113.44 45 113.68 44.95 113.91 44.89 114.14 44.84 114.38 44.79 114.61 44.74 114.84 44.69 115.08 44.64 115.31 44.59 115.54 44.54 115.78 44.49 116.01 44.44 116.24 44.39 116.48 44.34 116.71 44.28 116.95 44.23 117.18 44.18 117.41 44.13 117.65 44.08 117.88 44.03 118.11 43.98 118.35 43.93 118.58 43.88 118.81 43.83 119.05 43.78 119.28 43.73 119.51 43.67 119.75 43.62 119.98 43.57 120.21 43.52 120.45 43.47 120.68 43.42 120.91 43.37 121.15 43.32 121.38 43.27 121.62 43.22 121.85 43.17 122.08 43.12 122.32 43.06 122.55 43.01 122.78 42.96 123.02 42.91 123.25 42.86 123.48 42.81 123.72 42.76 123.95 42.71 124.18 42.66 124.42 42.61 124.65 42.56 124.88 42.5 125.12 42.45 125.35 42.4 125.58 42.35 125.82 42.3 126.05 42.25 126.29 42.2 126.52 42.15 126.75 42.1 126.99 42.05 127.22 42 127.45 41.95 127.69 41.89 127.92 41.84 128.15 41.79 128.39 41.74 128.62 41.69 128.85 41.64 129.09 41.59 129.32 41.54 129.55 41.49 129.79 41.44 130.02 41.39 130.25 41.34 130.49 41.28 130.72 41.23 130.95 41.18 131.19 41.13 131.42 41.08 131.66 41.03 131.89 40.98 132.12 40.93 132.36 40.88 132.59 40.83 132.82 40.78 133.06 40.73 133.29 40.67 133.52 40.62 133.76 40.57 133.99 40.52 134.22 40.47 134.46 40.42 134.69 40.37 134.92 40.32 135.16 40.27 135.39 40.22 135.62 40.17 135.86 40.11 136.09 40.06 136.33 40.01 136.56 39.96 136.79 39.91 137.03 39.86 137.26 39.81 137.49 39.76 137.73 39.71 137.96 39.66 138.19 39.61 138.43 39.56 138.66 39.5 138.89 39.45 139.13 39.4 139.36 39.35 139.59 39.3 139.83 39.25 140.06 39.2 140.29 39.15 140.53 39.1 140.76 39.05 140.99 39 141.23 38.95 141.46 38.89 141.7 38.84 141.93 38.79 142.16 38.74 142.4 38.69 142.63 38.64 142.86 38.59 143.1 38.54 143.33 38.49 143.56 38.44 143.8 38.39 144.03 38.34 144.26 38.28 144.5 38.23 144.73 38.18 144.96 38.13 145.2 38.08 145.43 38.03 145.66 37.98 145.9 37.93 146.13 37.88 146.37 37.83 146.6 37.78 146.83 37.72 147.07 37.67 147.3 37.62 147.53 37.57 147.77 37.52 148 37.47 148.23 37.42 148.47 37.37 148.7 37.32 148.93 37.27\"/>\n",
       "      </g>\n",
       "    </g>\n",
       "  </g>\n",
       "</g>\n",
       "  <g class=\"guide ylabels\" font-size=\"2.82\" font-family=\"Helvetica\" fill=\"#000000\" id=\"img-58cc74ba-17\">\n",
       "    <text x=\"6.07\" y=\"98.19\" text-anchor=\"end\" dy=\"0.35em\">-15</text>\n",
       "    <text x=\"6.07\" y=\"79.15\" text-anchor=\"end\" dy=\"0.35em\">-10</text>\n",
       "    <text x=\"6.07\" y=\"60.11\" text-anchor=\"end\" dy=\"0.35em\">-5</text>\n",
       "    <text x=\"6.07\" y=\"41.07\" text-anchor=\"end\" dy=\"0.35em\">0</text>\n",
       "    <text x=\"6.07\" y=\"22.04\" text-anchor=\"end\" dy=\"0.35em\">5</text>\n",
       "    <text x=\"6.07\" y=\"3\" text-anchor=\"end\" dy=\"0.35em\">10</text>\n",
       "  </g>\n",
       "</g>\n",
       "<defs>\n",
       "  <clipPath id=\"img-58cc74ba-8\">\n",
       "  <path d=\"M7.07,1 L 150.93 1 150.93 100.19 7.07 100.19\" />\n",
       "</clipPath>\n",
       "</defs>\n",
       "</svg>\n"
      ],
      "text/plain": [
       "Compose.SVG(158.73015873015876mm,105.82010582010584mm,IOBuffer(data=UInt8[...], readable=true, writable=true, seekable=true, append=false, size=26033, maxsize=Inf, ptr=26034, mark=-1),nothing,\"img-58cc74ba\",0,Compose.SVGPropertyFrame[],Dict{Type{T},Union{Compose.Property{P<:Compose.PropertyPrimitive},Void}}(Compose.Property{Compose.FillPrimitive}=>nothing),Dict{Compose.ClipPrimitive{P<:NTuple{N,Measures.Measure}},ASCIIString}(Compose.ClipPrimitive{Tuple{Measures.Length{:mm,Float64},Measures.Length{:mm,Float64}}}([(7.0733333333333235mm,1.0mm),(150.93349206349208mm,1.0mm),(150.93349206349208mm,100.1867724867725mm),(7.0733333333333235mm,100.1867724867725mm)])=>\"img-58cc74ba-8\"),Tuple{Compose.FormPrimitive,ASCIIString}[],Set{AbstractString}(),true,false,nothing,true,\"img-58cc74ba-17\",false,17,AbstractString[\"C:\\\\Users\\\\labor\\\\.julia\\\\v0.4\\\\Gadfly\\\\src\\\\gadfly.js\"],Tuple{AbstractString,AbstractString}[(\"Snap.svg\",\"Snap\"),(\"Gadfly\",\"Gadfly\")],AbstractString[\"fig.select(\\\"#img-58cc74ba-4\\\")\\n   .drag(function() {}, function() {}, function() {});\",\"fig.select(\\\"#img-58cc74ba-9\\\")\\n   .init_gadfly();\"],false,:none)"
      ]
     },
     "metadata": {},
     "output_type": "display_data"
    },
    {
     "data": {
      "text/html": []
     },
     "execution_count": 8,
     "metadata": {},
     "output_type": "execute_result"
    }
   ],
   "source": [
    "using Plots; gadfly()\n",
    "\n",
    "f(x) = x^2                         # простейшая парабола\n",
    "a,b = -3, 1\n",
    "tl(c) = x -> f(c) + 2*c*(x-c)\n",
    "Plots.plot([f, tl(a), tl(b)], a, b)"
   ]
  },
  {
   "cell_type": "markdown",
   "metadata": {},
   "source": [
    "Ясно, что точка пересечения $c=-1 = (a+b)/2$. Посмотрим, сможем ли мы это выразить при помощи ```SymPy```. Сначала определим несколько переменных:"
   ]
  },
  {
   "cell_type": "code",
   "execution_count": 83,
   "metadata": {
    "collapsed": false
   },
   "outputs": [
    {
     "data": {
      "text/latex": [
       "$$c_{0} + c_{1} x + c_{2} x^{2}$$"
      ],
      "text/plain": [
       "                2\n",
       "c0 + c1*x + c2*x "
      ]
     },
     "execution_count": 83,
     "metadata": {},
     "output_type": "execute_result"
    }
   ],
   "source": [
    "x, c2, c1, c0, a, b = Sym(\"x\", \"c2\", \"c1\", \"c0\", \"a\", \"b\")\n",
    "p = c2*x^2 + c1*x + c0"
   ]
  },
  {
   "cell_type": "markdown",
   "metadata": {},
   "source": [
    "Затем создадим значения для касательных в $a$ и $b$:"
   ]
  },
  {
   "cell_type": "code",
   "execution_count": 84,
   "metadata": {
    "collapsed": false
   },
   "outputs": [
    {
     "data": {
      "text/latex": [
       "$$b^{2} c_{2} + b c_{1} + c_{0} + \\left(- b + x\\right) \\left(2 b c_{2} + c_{1}\\right)$$"
      ],
      "text/plain": [
       " 2                                        \n",
       "b *c2 + b*c1 + c0 + (-b + x)*(2*b*c2 + c1)"
      ]
     },
     "execution_count": 84,
     "metadata": {},
     "output_type": "execute_result"
    }
   ],
   "source": [
    "fa, fb = [replace(p, x, c) for c in [a,b]]\n",
    "ma, mb = [replace(diff(p, x), x, c) for c in [a,b]]\n",
    "tla = fa + ma*(x-a)\n",
    "tlb = fb + mb*(x-b)"
   ]
  },
  {
   "cell_type": "markdown",
   "metadata": {},
   "source": [
    "И наконец, решим при помощи ```solve``` для пересечения:"
   ]
  },
  {
   "cell_type": "code",
   "execution_count": 85,
   "metadata": {
    "collapsed": false
   },
   "outputs": [
    {
     "data": {
      "text/latex": [
       "\\begin{bmatrix}\\frac{a}{2} + \\frac{b}{2}\\end{bmatrix}"
      ],
      "text/plain": [
       "1-element Array{SymPy.Sym,1}\n",
       "[a   b]\n",
       "[- + -]\n",
       "[2   2]"
      ]
     },
     "execution_count": 85,
     "metadata": {},
     "output_type": "execute_result"
    }
   ],
   "source": [
    "solve(tla - tlb, x)"
   ]
  },
  {
   "cell_type": "markdown",
   "metadata": {},
   "source": [
    "### Максимизация двух переменных\n",
    "\n",
    "Для простого баллистического движения нам \"известно\", что, если запустить тело под углом 45 градусов,то будет получено оптимальное расстояние. Давайте проверим это утверждение. Начнем с уравнения движения:"
   ]
  },
  {
   "cell_type": "markdown",
   "metadata": {
    "collapsed": true
   },
   "source": [
    "$\n",
    "y(x)=tan(θ)x-(\\frac{1}{2})⋅g(\\frac{x}{v_0cosθ})^2. \n",
    "$"
   ]
  },
  {
   "cell_type": "markdown",
   "metadata": {},
   "source": [
    "Это применимо к $θ∈[0,π/2]$ и для к $x∈[0,x^∗]$, где $x^∗$, когда тело возвращается на землю, то есть $y(x^∗)=0$. Это выражение записывается следующим образом:"
   ]
  },
  {
   "cell_type": "code",
   "execution_count": 86,
   "metadata": {
    "collapsed": false
   },
   "outputs": [
    {
     "data": {
      "text/latex": [
       "$$- \\frac{grav x^{2}}{2 v_{0}^{2} \\cos^{2}{\\left (\\theta \\right )}} + x \\tan{\\left (\\theta \\right )}$$"
      ],
      "text/plain": [
       "             2                    \n",
       "       grav*x                     \n",
       "- ----------------- + x*tan(theta)\n",
       "      2    2                      \n",
       "  2*v0 *cos (theta)               "
      ]
     },
     "execution_count": 86,
     "metadata": {},
     "output_type": "execute_result"
    }
   ],
   "source": [
    "x, theta, v0, grav =  Sym(\"x\", \"theta\", \"v0\", \"grav\")\n",
    "y = tan(theta) * x - (1//2)*grav*(x / (v0*cos(theta)))^2"
   ]
  },
  {
   "cell_type": "markdown",
   "metadata": {},
   "source": [
    "Применение рационального значения для $1/2$ (получаемого в результате применения операции ```1//2```) здесь необходимо, так как в символическое значение оно конвертирует значение $\\frac{1}{2}$, а не значение с плавающей точкой $0.5$.\n",
    "\n",
    "Сначала мы должны решить для случая, когда $y(x)=0$:"
   ]
  },
  {
   "cell_type": "code",
   "execution_count": 87,
   "metadata": {
    "collapsed": false
   },
   "outputs": [
    {
     "data": {
      "text/latex": [
       "\\begin{bmatrix}0\\\\\\frac{v_{0}^{2}}{grav} \\sin{\\left (2 \\theta \\right )}\\end{bmatrix}"
      ],
      "text/plain": [
       "2-element Array{SymPy.Sym,1}\n",
       "[       0        ]\n",
       "[                ]\n",
       "[  2             ]\n",
       "[v0 *sin(2*theta)]\n",
       "[----------------]\n",
       "[      grav      ]"
      ]
     },
     "execution_count": 87,
     "metadata": {},
     "output_type": "execute_result"
    }
   ],
   "source": [
    "xs = solve(y, x)"
   ]
  },
  {
   "cell_type": "markdown",
   "metadata": {},
   "source": [
    "Разумеется, получаем 2 значения. Первое равно ```0```, начальная точка. Нам нужно второе:"
   ]
  },
  {
   "cell_type": "code",
   "execution_count": 88,
   "metadata": {
    "collapsed": false
   },
   "outputs": [
    {
     "data": {
      "text/latex": [
       "$$\\frac{v_{0}^{2}}{grav} \\sin{\\left (2 \\theta \\right )}$$"
      ],
      "text/plain": [
       "  2             \n",
       "v0 *sin(2*theta)\n",
       "----------------\n",
       "      grav      "
      ]
     },
     "execution_count": 88,
     "metadata": {},
     "output_type": "execute_result"
    }
   ],
   "source": [
    "xstar = xs[2]"
   ]
  },
  {
   "cell_type": "markdown",
   "metadata": {},
   "source": [
    "Теперь необходимо найти критическую точку для ```xstar```. Берем производную относительно $theta$ и решаем (```solve```) для случая, когда  оно равно ```0```:"
   ]
  },
  {
   "cell_type": "code",
   "execution_count": 89,
   "metadata": {
    "collapsed": false
   },
   "outputs": [
    {
     "data": {
      "text/latex": [
       "\\begin{bmatrix}\\frac{\\pi}{4}\\\\\\frac{3 \\pi}{4}\\end{bmatrix}"
      ],
      "text/plain": [
       "2-element Array{SymPy.Sym,1}\n",
       "[ pi ]\n",
       "[ -- ]\n",
       "[ 4  ]\n",
       "[    ]\n",
       "[3*pi]\n",
       "[----]\n",
       "[ 4  ]"
      ]
     },
     "execution_count": 89,
     "metadata": {},
     "output_type": "execute_result"
    }
   ],
   "source": [
    "solve(diff(xstar, theta), theta)"
   ]
  },
  {
   "cell_type": "markdown",
   "metadata": {},
   "source": [
    "Значение $3π/4$, очевидно, неправильное (оно \"выстреливает\" в противоположном направлении). Мы получаем $π/4$, как и ожидалось."
   ]
  },
  {
   "cell_type": "markdown",
   "metadata": {},
   "source": [
    "### Дополнительно о касательных\n",
    "\n",
    "В случае с параболами мы только что убедились, что их касательные пересекаются в срединной точке. Пусть $c$ - это срединная точка. Но это не единственный факт, который истинен в отношении парабол. Для заданной параболы область между параболой и линиями касательных на $[a,c]$ равна области на $[c,b]$ и суммарная область на $[a,b]$ зависит только от $|b−a|$ и не положения любой из них. Можем мы это продемонстрировать?\n",
    "\n",
    "Начнем с тех же настроек, чтобы создать касательные как символические выражения:"
   ]
  },
  {
   "cell_type": "code",
   "execution_count": 90,
   "metadata": {
    "collapsed": false
   },
   "outputs": [
    {
     "data": {
      "text/latex": [
       "$$b^{2} c_{2} + b c_{1} + c_{0} + \\left(- b + x\\right) \\left(2 b c_{2} + c_{1}\\right)$$"
      ],
      "text/plain": [
       " 2                                        \n",
       "b *c2 + b*c1 + c0 + (-b + x)*(2*b*c2 + c1)"
      ]
     },
     "execution_count": 90,
     "metadata": {},
     "output_type": "execute_result"
    }
   ],
   "source": [
    "x, c2, c1, c0, a, b = Sym(\"x\", \"c2\", \"c1\", \"c0\", \"a\", \"b\")\n",
    "p = c2*x^2 + c1*x + c0\n",
    "fa, fb = [replace(p, x, c) for c in [a,b]]\n",
    "ma, mb = [replace(diff(p, x), x, c) for c in [a,b]]\n",
    "tla = fa + ma*(x-a)\n",
    "tlb = fb + mb*(x-b)"
   ]
  },
  {
   "cell_type": "markdown",
   "metadata": {},
   "source": [
    "Затем решаем для точки пересечения:"
   ]
  },
  {
   "cell_type": "code",
   "execution_count": 91,
   "metadata": {
    "collapsed": false
   },
   "outputs": [
    {
     "data": {
      "text/latex": [
       "$$\\frac{a}{2} + \\frac{b}{2}$$"
      ],
      "text/plain": [
       "a   b\n",
       "- + -\n",
       "2   2"
      ]
     },
     "execution_count": 91,
     "metadata": {},
     "output_type": "execute_result"
    }
   ],
   "source": [
    "c = solve(tla - tlb, x)[1]    # only one solution"
   ]
  },
  {
   "cell_type": "markdown",
   "metadata": {},
   "source": [
    "Тогда области равны:"
   ]
  },
  {
   "cell_type": "code",
   "execution_count": 92,
   "metadata": {
    "collapsed": false
   },
   "outputs": [
    {
     "data": {
      "text/plain": [
       "(-a^3*c2/3 + a^2*c2*(a/2 + b/2) - a*c2*(a/2 + b/2)^2 + c2*(a/2 + b/2)^3/3,b^3*c2/3 - b^2*c2*(a/2 + b/2) + b*c2*(a/2 + b/2)^2 - c2*(a/2 + b/2)^3/3)"
      ]
     },
     "execution_count": 92,
     "metadata": {},
     "output_type": "execute_result"
    }
   ],
   "source": [
    "area_ac = integrate(p - tla, (x, a, c))\n",
    "area_cb = integrate(p - tlb, (x, c, b))\n",
    "area_ac, area_cb"
   ]
  },
  {
   "cell_type": "markdown",
   "metadata": {},
   "source": [
    "Хорошо, проверим их на равенство:"
   ]
  },
  {
   "cell_type": "code",
   "execution_count": 93,
   "metadata": {
    "collapsed": false
   },
   "outputs": [
    {
     "data": {
      "text/latex": [
       "$$- \\frac{a^{3} c_{2}}{3} + a^{2} c_{2} \\left(\\frac{a}{2} + \\frac{b}{2}\\right) - a c_{2} \\left(\\frac{a}{2} + \\frac{b}{2}\\right)^{2} - \\frac{b^{3} c_{2}}{3} + b^{2} c_{2} \\left(\\frac{a}{2} + \\frac{b}{2}\\right) - b c_{2} \\left(\\frac{a}{2} + \\frac{b}{2}\\right)^{2} + \\frac{2 c_{2}}{3} \\left(\\frac{a}{2} + \\frac{b}{2}\\right)^{3}$$"
      ],
      "text/plain": [
       "                                                                              \n",
       "                                                                              \n",
       "   3                                  2    3                                  \n",
       "  a *c2    2    /a   b\\        /a   b\\    b *c2    2    /a   b\\        /a   b\\\n",
       "- ----- + a *c2*|- + -| - a*c2*|- + -|  - ----- + b *c2*|- + -| - b*c2*|- + -|\n",
       "    3           \\2   2/        \\2   2/      3           \\2   2/        \\2   2/\n",
       "\n",
       "                3\n",
       "         /a   b\\ \n",
       "2   2*c2*|- + -| \n",
       "         \\2   2/ \n",
       "  + -------------\n",
       "          3      "
      ]
     },
     "execution_count": 93,
     "metadata": {},
     "output_type": "execute_result"
    }
   ],
   "source": [
    "area_ac - area_cb"
   ]
  },
  {
   "cell_type": "markdown",
   "metadata": {},
   "source": [
    "Сложно сказать. Может стоит упростить:"
   ]
  },
  {
   "cell_type": "code",
   "execution_count": 94,
   "metadata": {
    "collapsed": false
   },
   "outputs": [
    {
     "data": {
      "text/latex": [
       "$$0$$"
      ],
      "text/plain": [
       "0"
      ]
     },
     "execution_count": 94,
     "metadata": {},
     "output_type": "execute_result"
    }
   ],
   "source": [
    "simplify(area_ac - area_cb)"
   ]
  },
  {
   "cell_type": "markdown",
   "metadata": {},
   "source": [
    "В итоге получаем ```0```, как и ожидалось.\n",
    "\n",
    "А теперь проверим зависимость суммы только от расстояния – и не от значений:"
   ]
  },
  {
   "cell_type": "code",
   "execution_count": 95,
   "metadata": {
    "collapsed": false
   },
   "outputs": [
    {
     "data": {
      "text/latex": [
       "$$\\frac{c_{2}}{12} \\left(- a^{3} + 3 a^{2} b - 3 a b^{2} + b^{3}\\right)$$"
      ],
      "text/plain": [
       "   /   3      2          2    3\\\n",
       "c2*\\- a  + 3*a *b - 3*a*b  + b /\n",
       "--------------------------------\n",
       "               12               "
      ]
     },
     "execution_count": 95,
     "metadata": {},
     "output_type": "execute_result"
    }
   ],
   "source": [
    "simplify(area_ac + area_cb)"
   ]
  },
  {
   "cell_type": "markdown",
   "metadata": {},
   "source": [
    "Затруднительно что-то сказать, тогда выполним разложение:"
   ]
  },
  {
   "cell_type": "code",
   "execution_count": 96,
   "metadata": {
    "collapsed": false
   },
   "outputs": [
    {
     "data": {
      "text/latex": [
       "$$- \\frac{c_{2}}{12} \\left(a - b\\right)^{3}$$"
      ],
      "text/plain": [
       "           3 \n",
       "-c2*(a - b)  \n",
       "-------------\n",
       "      12     "
      ]
     },
     "execution_count": 96,
     "metadata": {},
     "output_type": "execute_result"
    }
   ],
   "source": [
    "simplify(area_ac + area_cb) |> factor"
   ]
  },
  {
   "cell_type": "markdown",
   "metadata": {
    "collapsed": true
   },
   "source": [
    "Мы видим, что фактически оно зависит только от расстояния ($b-a$) и значения $c_2$, квадратичного члена, не линейного или константного члена."
   ]
  }
 ],
 "metadata": {
  "kernelspec": {
   "display_name": "Julia 0.4.5",
   "language": "julia",
   "name": "julia-0.4"
  },
  "language_info": {
   "file_extension": ".jl",
   "mimetype": "application/julia",
   "name": "julia",
   "version": "0.4.5"
  }
 },
 "nbformat": 4,
 "nbformat_minor": 0
}
