{
 "cells": [
  {
   "cell_type": "markdown",
   "metadata": {},
   "source": [
    "<div style=\"text-align: left;\"><img src=\"https://www.juliabox.org/assets/img/juliacloudlogo.png\" style=\"margin: 0px 0px 0px 0px; padding-right: 20px;width: 80px; float: left;\" title=\"\" alt=\"\" /></div>\n",
    "<img src=\"http://dmkpress.com/images/cms/thumbs/a5b0aeaa3fa7d6e58d75710c18673bd7ec6d5f6d/978-5-97060-370-3_270_369__100.jpg\" style=\"margin: 0px 0px 5px 20px; width: 100px; float: right;\" title=\"\" alt=\"\" />\n",
    "Всестороннее введение в новый язык программирования для научно-технических вычислений [Julia](http://julialang.org/) в книге Малколма Шеррингтона, Packt Publishing, июль 2015.\n",
    "\n",
    "<h1>Осваиваем язык Julia</h1><br />\n",
    "\n",
    "Совершенствование мастерства в области аналитики и программирования при помощи Julia в целях решения задач комплексной обработки данных\n",
    "<div style=\"text-align: left;font-size:8pt;padding-top:10px;\">Программный код Julia (v0.4.5) протестирован в Windows 8.1/10 и Linux/Lubuntu 16.4</div>\n",
    "<div style=\"text-align: left;\"><h1>Глава 5. Примеры</h1></div>"
   ]
  },
  {
   "cell_type": "markdown",
   "metadata": {},
   "source": [
    "## Файлы XML"
   ]
  },
  {
   "cell_type": "code",
   "execution_count": 1,
   "metadata": {
    "collapsed": false
   },
   "outputs": [
    {
     "name": "stdout",
     "output_type": "stream",
     "text": [
      "catalog\n"
     ]
    }
   ],
   "source": [
    "#\n",
    "# light_xml.jl\n",
    "#\n",
    "\n",
    "cd(joinpath(homedir(), \"julia_projects\",\"data\"))\n",
    "\n",
    "using LightXML\n",
    "\n",
    "xdoc = parse_file(\"books.xml\");\n",
    "xtop = root(xdoc);\n",
    "\n",
    "println(name(xtop));"
   ]
  },
  {
   "cell_type": "code",
   "execution_count": 2,
   "metadata": {
    "collapsed": false
   },
   "outputs": [
    {
     "name": "stdout",
     "output_type": "stream",
     "text": [
      "XML Developer's Guide :Computing\n",
      "       Midnight Rain :Fantasy\n",
      "     Maeve Ascendant :Fantasy\n",
      "     Oberon's Legacy :Fantasy\n",
      "  The Sundered Grail :Fantasy\n",
      "         Lover Birds :Romance\n",
      "       Splish Splash :Romance\n",
      "     Creepy Crawlies :Horror\n",
      "        Paradox Lost :SciFi\n",
      "Microsoft .NET: The Programming Bible :Computing\n"
     ]
    }
   ],
   "source": [
    "for c in child_nodes(xtop)\n",
    "    if is_elementnode(c)\n",
    "        e = XMLElement(c)\n",
    "        t = find_element(e, \"title\")\n",
    "        title = content(t)\n",
    "        genre = attribute(t, \"genre\")\n",
    "        @printf \"%20s :%s\\n\" title genre\n",
    "    end\n",
    "end       "
   ]
  },
  {
   "cell_type": "code",
   "execution_count": 3,
   "metadata": {
    "collapsed": false
   },
   "outputs": [
    {
     "name": "stdout",
     "output_type": "stream",
     "text": [
      "Title:      XML Developer's Guide\n",
      "Author:     Gambardella, Matthew\n",
      "Date:       1 October 2000\n",
      "Price:      44.95 (GBP)\n",
      "An in-depth look at creating applications with XML.\n",
      "\n",
      "Title:      Microsoft .NET: The Programming Bible\n",
      "Author:     O'Brien, Tim\n",
      "Date:       9 December 2000\n",
      "Price:      36.95 (GBP)\n",
      "Microsoft's .NET initiative is explored in detail in this deep programmer's reference.\n",
      "\n"
     ]
    }
   ],
   "source": [
    "for c in child_nodes(xtop)\n",
    "   if is_elementnode(c)\n",
    "      e = XMLElement(c)\n",
    "      t = find_element(e, \"title\")\n",
    "      genre = attribute(t, \"genre\")\n",
    "      if genre == \"Computing\"\n",
    "         a = find_element(e,\"author\")\n",
    "         p = find_element(e,\"price\")\n",
    "         curr = attribute(p, \"currency\")\n",
    "         dc = find_element(e,\"publish_date\")\n",
    "         dt = DateTime(content(dc))\n",
    "         ds = string(Dates.day(dt),\" \",Dates.monthname(dt),\" \",Dates.year(dt))   \n",
    "         desc = find_element(e,\"description\")\n",
    "         println(\"Title:      \", content(t))\n",
    "         println(\"Author:     \" ,content(a))    \n",
    "         println(\"Date:       \" ,ds)\n",
    "         println(\"Price:      \" ,content(p) ,\" (\", curr, \")\")\n",
    "         println(content(desc),\"\\n\");\n",
    "      end\n",
    "   end\n",
    "end"
   ]
  },
  {
   "cell_type": "code",
   "execution_count": null,
   "metadata": {
    "collapsed": true
   },
   "outputs": [],
   "source": []
  }
 ],
 "metadata": {
  "kernelspec": {
   "display_name": "Julia 0.4.5",
   "language": "julia",
   "name": "julia-0.4"
  },
  "language_info": {
   "file_extension": ".jl",
   "mimetype": "application/julia",
   "name": "julia",
   "version": "0.4.5"
  }
 },
 "nbformat": 4,
 "nbformat_minor": 0
}
