{
 "cells": [
  {
   "cell_type": "markdown",
   "metadata": {},
   "source": [
    "<div style=\"text-align: left;\"><img src=\"https://www.juliabox.org/assets/img/juliacloudlogo.png\" style=\"margin: 0px 0px 0px 0px; padding-right: 20px;width: 80px; float: left;\" title=\"\" alt=\"\" /></div>\n",
    "<img src=\"http://dmkpress.com/images/cms/thumbs/a5b0aeaa3fa7d6e58d75710c18673bd7ec6d5f6d/978-5-97060-370-3_270_369__100.jpg\" style=\"margin: 0px 0px 5px 20px; width: 100px; float: right;\" title=\"\" alt=\"\" />\n",
    "Всестороннее введение в новый язык программирования для научно-технических вычислений [Julia](http://julialang.org/) в книге Малколма Шеррингтона, Packt Publishing, июль 2015.\n",
    "\n",
    "<h1>Осваиваем язык Julia</h1><br />\n",
    "\n",
    "Совершенствование мастерства в области аналитики и программирования при помощи Julia в целях решения задач комплексной обработки данных\n",
    "<div style=\"text-align: left;font-size:8pt;padding-top:10px;\">Программный код Julia (v0.4.5) протестирован в Windows 8.1/10 и Linux/Lubuntu 16.4</div>\n",
    "<div style=\"text-align: left;\"><h1>Глава 5. Примеры</h1></div>"
   ]
  },
  {
   "cell_type": "markdown",
   "metadata": {},
   "source": [
    "# Распределение вероятностей\n",
    "## Ядерная оценка плотности"
   ]
  },
  {
   "cell_type": "code",
   "execution_count": 1,
   "metadata": {
    "collapsed": false
   },
   "outputs": [
    {
     "data": {
      "text/html": [
       "<table class=\"data-frame\"><tr><th></th><th>School</th><th>Student</th><th>Gender</th><th>Written</th><th>Course</th></tr><tr><th>1</th><td>20920</td><td>16</td><td>M</td><td>23.0</td><td>NaN</td></tr><tr><th>2</th><td>20920</td><td>25</td><td>F</td><td>NaN</td><td>71.2</td></tr><tr><th>3</th><td>20920</td><td>27</td><td>F</td><td>39.0</td><td>76.8</td></tr><tr><th>4</th><td>20920</td><td>31</td><td>F</td><td>36.0</td><td>87.9</td></tr><tr><th>5</th><td>20920</td><td>42</td><td>M</td><td>16.0</td><td>44.4</td></tr><tr><th>6</th><td>20920</td><td>62</td><td>F</td><td>36.0</td><td>NaN</td></tr><tr><th>7</th><td>20920</td><td>101</td><td>F</td><td>49.0</td><td>89.8</td></tr><tr><th>8</th><td>20920</td><td>113</td><td>M</td><td>25.0</td><td>17.5</td></tr><tr><th>9</th><td>20920</td><td>146</td><td>M</td><td>NaN</td><td>32.4</td></tr><tr><th>10</th><td>22520</td><td>1</td><td>F</td><td>48.0</td><td>84.2</td></tr><tr><th>11</th><td>22520</td><td>7</td><td>M</td><td>46.0</td><td>66.6</td></tr><tr><th>12</th><td>22520</td><td>9</td><td>F</td><td>28.0</td><td>47.2</td></tr><tr><th>13</th><td>22520</td><td>15</td><td>F</td><td>43.0</td><td>80.5</td></tr><tr><th>14</th><td>22520</td><td>16</td><td>M</td><td>29.0</td><td>57.4</td></tr><tr><th>15</th><td>22520</td><td>18</td><td>F</td><td>25.0</td><td>42.5</td></tr><tr><th>16</th><td>22520</td><td>21</td><td>M</td><td>30.0</td><td>36.1</td></tr><tr><th>17</th><td>22520</td><td>24</td><td>F</td><td>44.0</td><td>58.3</td></tr><tr><th>18</th><td>22520</td><td>25</td><td>M</td><td>30.0</td><td>37.9</td></tr><tr><th>19</th><td>22520</td><td>27</td><td>F</td><td>26.0</td><td>74.0</td></tr><tr><th>20</th><td>22520</td><td>29</td><td>M</td><td>30.0</td><td>41.6</td></tr><tr><th>21</th><td>22520</td><td>34</td><td>F</td><td>39.0</td><td>76.8</td></tr><tr><th>22</th><td>22520</td><td>37</td><td>F</td><td>41.0</td><td>34.2</td></tr><tr><th>23</th><td>22520</td><td>41</td><td>F</td><td>44.0</td><td>86.1</td></tr><tr><th>24</th><td>22520</td><td>42</td><td>M</td><td>36.0</td><td>56.4</td></tr><tr><th>25</th><td>22520</td><td>43</td><td>F</td><td>45.0</td><td>42.5</td></tr><tr><th>26</th><td>22520</td><td>45</td><td>F</td><td>41.0</td><td>63.8</td></tr><tr><th>27</th><td>22520</td><td>47</td><td>F</td><td>28.0</td><td>20.3</td></tr><tr><th>28</th><td>22520</td><td>52</td><td>F</td><td>31.0</td><td>51.8</td></tr><tr><th>29</th><td>22520</td><td>53</td><td>F</td><td>33.0</td><td>NaN</td></tr><tr><th>30</th><td>22520</td><td>55</td><td>F</td><td>51.0</td><td>76.8</td></tr><tr><th>&vellip;</th><td>&vellip;</td><td>&vellip;</td><td>&vellip;</td><td>&vellip;</td><td>&vellip;</td></tr></table>"
      ],
      "text/plain": [
       "1905×5 DataFrames.DataFrame\n",
       "│ Row  │ School  │ Student │ Gender │ Written │ Course │\n",
       "├──────┼─────────┼─────────┼────────┼─────────┼────────┤\n",
       "│ 1    │ \"20920\" │ \"16\"    │ \"M\"    │ 23.0    │ NaN    │\n",
       "│ 2    │ \"20920\" │ \"25\"    │ \"F\"    │ NaN     │ 71.2   │\n",
       "│ 3    │ \"20920\" │ \"27\"    │ \"F\"    │ 39.0    │ 76.8   │\n",
       "│ 4    │ \"20920\" │ \"31\"    │ \"F\"    │ 36.0    │ 87.9   │\n",
       "│ 5    │ \"20920\" │ \"42\"    │ \"M\"    │ 16.0    │ 44.4   │\n",
       "│ 6    │ \"20920\" │ \"62\"    │ \"F\"    │ 36.0    │ NaN    │\n",
       "│ 7    │ \"20920\" │ \"101\"   │ \"F\"    │ 49.0    │ 89.8   │\n",
       "│ 8    │ \"20920\" │ \"113\"   │ \"M\"    │ 25.0    │ 17.5   │\n",
       "│ 9    │ \"20920\" │ \"146\"   │ \"M\"    │ NaN     │ 32.4   │\n",
       "│ 10   │ \"22520\" │ \"1\"     │ \"F\"    │ 48.0    │ 84.2   │\n",
       "│ 11   │ \"22520\" │ \"7\"     │ \"M\"    │ 46.0    │ 66.6   │\n",
       "⋮\n",
       "│ 1894 │ \"84772\" │ \"49\"    │ \"M\"    │ NaN     │ 74.0   │\n",
       "│ 1895 │ \"84772\" │ \"52\"    │ \"M\"    │ 62.0    │ 77.7   │\n",
       "│ 1896 │ \"84772\" │ \"58\"    │ \"M\"    │ 55.0    │ 83.3   │\n",
       "│ 1897 │ \"84772\" │ \"63\"    │ \"F\"    │ 60.0    │ 97.2   │\n",
       "│ 1898 │ \"84772\" │ \"66\"    │ \"F\"    │ 59.0    │ 91.6   │\n",
       "│ 1899 │ \"84772\" │ \"75\"    │ \"F\"    │ 53.0    │ NaN    │\n",
       "│ 1900 │ \"84772\" │ \"85\"    │ \"F\"    │ NaN     │ 90.7   │\n",
       "│ 1901 │ \"84772\" │ \"95\"    │ \"F\"    │ 65.0    │ 94.4   │\n",
       "│ 1902 │ \"84772\" │ \"104\"   │ \"M\"    │ 65.0    │ 60.1   │\n",
       "│ 1903 │ \"84772\" │ \"105\"   │ \"M\"    │ 48.0    │ NaN    │\n",
       "│ 1904 │ \"84772\" │ \"111\"   │ \"M\"    │ 71.0    │ NaN    │\n",
       "│ 1905 │ \"84772\" │ \"114\"   │ \"M\"    │ 66.0    │ 82.4   │"
      ]
     },
     "execution_count": 1,
     "metadata": {},
     "output_type": "execute_result"
    }
   ],
   "source": [
    "#\n",
    "# kdensity.jl\n",
    "#\n",
    "\n",
    "cd(joinpath(homedir(), \"julia_projects\",\"data\"))\n",
    "\n",
    "using RDatasets, KernelDensity\n",
    "\n",
    "mlmf = dataset(\"mlmRev\", \"Gcsemv\");\n",
    "\n",
    "df = mlmf[complete_cases(mlmf[[:Written, :Course]]), :]"
   ]
  },
  {
   "cell_type": "code",
   "execution_count": 2,
   "metadata": {
    "collapsed": false
   },
   "outputs": [
    {
     "data": {
      "text/plain": [
       "KernelDensity.UnivariateKDE{FloatRange{Float64}}(-3.983973372759909:0.05726328614827543:113.2339733727599,[6.01058e-7,5.70606e-7,5.429e-7,5.17817e-7,4.95245e-7,4.75081e-7,4.5723e-7,4.41608e-7,4.28136e-7,4.16746e-7  …  1.09113e-6,1.02409e-6,9.61645e-7,9.03548e-7,8.49568e-7,7.99492e-7,7.53119e-7,7.10259e-7,6.70737e-7,6.34388e-7])"
      ]
     },
     "execution_count": 2,
     "metadata": {},
     "output_type": "execute_result"
    }
   ],
   "source": [
    "dc = convert(Array, df[:Course]);\n",
    "dcc = zeros(0);\n",
    "for i in 1:length(dc)\n",
    "  if !isnan(dc[i])\n",
    "    push!(dcc,dc[i])\n",
    "  end\n",
    "end\n",
    "kdc = kde(dcc)"
   ]
  },
  {
   "cell_type": "code",
   "execution_count": 3,
   "metadata": {
    "collapsed": false
   },
   "outputs": [
    {
     "data": {
      "text/plain": [
       "KernelDensity.UnivariateKDE{FloatRange{Float64}}(-10.270276825515484:0.05429435938008352:100.87027682551549,[5.75464e-8,5.80719e-8,5.8952e-8,6.01911e-8,6.17954e-8,6.37727e-8,6.61325e-8,6.8886e-8,7.20459e-8,7.56269e-8  …  7.19147e-8,6.87986e-8,6.60783e-8,6.37425e-8,6.17815e-8,6.01873e-8,5.89534e-8,5.80749e-8,5.75484e-8,5.73723e-8])"
      ]
     },
     "execution_count": 3,
     "metadata": {},
     "output_type": "execute_result"
    }
   ],
   "source": [
    "dw = convert(Array, df[:Written]);\n",
    "dww = zeros(0);\n",
    "for i in 1:length(dw)\n",
    "  if !isnan(dw[i])\n",
    "    push!(dww,dw[i])\n",
    "  end\n",
    "end\n",
    "kdw = kde(dww)"
   ]
  },
  {
   "cell_type": "code",
   "execution_count": 7,
   "metadata": {
    "collapsed": false
   },
   "outputs": [
    {
     "data": {
      "image/png": "[encoded data removed]",
      "text/plain": [
       "Winston.FramedPlot(...)"
      ]
     },
     "execution_count": 7,
     "metadata": {},
     "output_type": "execute_result"
    }
   ],
   "source": [
    "using Winston\n",
    "\n",
    "kdc = kde(dcc); kdw = kde(dww);\n",
    "\n",
    "p = Winston.plot(kdc.x, kdc.density, \"r--\", kdw.x, kdw.density, \"b;\")\n",
    "add(p, PlotLabel(.25, .87, \"Письменный экзамен\", color=0x0))\n",
    "add(p, PlotLabel(.75, .87, \"Курсовая\", color=0x0))"
   ]
  },
  {
   "cell_type": "code",
   "execution_count": null,
   "metadata": {
    "collapsed": true
   },
   "outputs": [],
   "source": []
  }
 ],
 "metadata": {
  "kernelspec": {
   "display_name": "Julia 0.4.5",
   "language": "julia",
   "name": "julia-0.4"
  },
  "language_info": {
   "file_extension": ".jl",
   "mimetype": "application/julia",
   "name": "julia",
   "version": "0.4.5"
  }
 },
 "nbformat": 4,
 "nbformat_minor": 0
}
