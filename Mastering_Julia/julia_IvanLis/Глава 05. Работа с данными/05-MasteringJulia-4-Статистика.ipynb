{
 "cells": [
  {
   "cell_type": "markdown",
   "metadata": {},
   "source": [
    "<div style=\"text-align: left;\"><img src=\"https://www.juliabox.org/assets/img/juliacloudlogo.png\" style=\"margin: 0px 0px 0px 0px; padding-right: 20px;width: 80px; float: left;\" title=\"\" alt=\"\" /></div>\n",
    "<img src=\"http://dmkpress.com/images/cms/thumbs/a5b0aeaa3fa7d6e58d75710c18673bd7ec6d5f6d/978-5-97060-370-3_270_369__100.jpg\" style=\"margin: 0px 0px 5px 20px; width: 100px; float: right;\" title=\"\" alt=\"\" />\n",
    "Всестороннее введение в новый язык программирования для научно-технических вычислений [Julia](http://julialang.org/) в книге Малколма Шеррингтона, Packt Publishing, июль 2015.\n",
    "\n",
    "<h1>Осваиваем язык Julia</h1><br />\n",
    "\n",
    "Совершенствование мастерства в области аналитики и программирования при помощи Julia в целях решения задач комплексной обработки данных\n",
    "<div style=\"text-align: left;font-size:8pt;padding-top:10px;\">Программный код Julia (v0.4.5) протестирован в Windows 8.1/10 и Linux/Lubuntu 16.4</div>\n",
    "<div style=\"text-align: left;\"><h1>Глава 5. Работа с данными</h1></div>"
   ]
  },
  {
   "cell_type": "markdown",
   "metadata": {},
   "source": [
    "# Статистика\n",
    "## Простые статистики"
   ]
  },
  {
   "cell_type": "code",
   "execution_count": 110,
   "metadata": {
    "collapsed": false
   },
   "outputs": [
    {
     "data": {
      "text/plain": [
       "6306547"
      ]
     },
     "execution_count": 110,
     "metadata": {},
     "output_type": "execute_result"
    }
   ],
   "source": [
    "using DataFrames\n",
    "\n",
    "cd(joinpath(homedir(), \"julia_projects\",\"data\")); \n",
    "\n",
    "aapl = readtable(\"AAPL_Short.csv\");\n",
    "\n",
    "naapl = size(aapl)[1]\n",
    "m1 = int(mean((aapl[:Volume])))"
   ]
  },
  {
   "cell_type": "code",
   "execution_count": 111,
   "metadata": {
    "collapsed": false
   },
   "outputs": [
    {
     "data": {
      "text/plain": [
       "StatsBase.WeightVec{Float64,Array{Float64,1}}([4.0,4.0,4.0,4.0,4.0,4.0,4.0,4.0,4.0,4.0  …  1.0,1.0,1.0,1.0,1.0,1.0,1.0,1.0,1.0,1.0],1756.0)"
      ]
     },
     "execution_count": 111,
     "metadata": {},
     "output_type": "execute_result"
    }
   ],
   "source": [
    "using Match\n",
    "\n",
    "wts = zeros(naapl);\n",
    "for i in 1:naapl\n",
    "  dt = aapl[:Date][i]\n",
    "  wts[i] = @match dt begin\n",
    "    r\"^2000\" => 1.0\n",
    "    r\"^2001\" => 2.0\n",
    "    r\"^2002\" => 4.0\n",
    "    _ => 0.0\n",
    "  end\n",
    "end;\n",
    "\n",
    "wv = WeightVec(wts)"
   ]
  },
  {
   "cell_type": "code",
   "execution_count": 112,
   "metadata": {
    "collapsed": false
   },
   "outputs": [
    {
     "data": {
      "text/plain": [
       "6012863"
      ]
     },
     "execution_count": 112,
     "metadata": {},
     "output_type": "execute_result"
    }
   ],
   "source": [
    "m2 = int(mean(aapl[:Volume], wv))"
   ]
  },
  {
   "cell_type": "code",
   "execution_count": 113,
   "metadata": {
    "collapsed": false
   },
   "outputs": [
    {
     "data": {
      "text/plain": [
       "37.125505319148935"
      ]
     },
     "execution_count": 113,
     "metadata": {},
     "output_type": "execute_result"
    }
   ],
   "source": [
    "mean(aapl[:Close]) "
   ]
  },
  {
   "cell_type": "code",
   "execution_count": 114,
   "metadata": {
    "collapsed": false
   },
   "outputs": [
    {
     "data": {
      "text/plain": [
       "26.994413439635533"
      ]
     },
     "execution_count": 114,
     "metadata": {},
     "output_type": "execute_result"
    }
   ],
   "source": [
    "mean(aapl[:Close], wv) "
   ]
  },
  {
   "cell_type": "code",
   "execution_count": 115,
   "metadata": {
    "collapsed": false
   },
   "outputs": [
    {
     "data": {
      "text/plain": [
       "33.29369276218612"
      ]
     },
     "execution_count": 115,
     "metadata": {},
     "output_type": "execute_result"
    }
   ],
   "source": [
    "trimmean(aapl[:Close], 0.1) "
   ]
  },
  {
   "cell_type": "code",
   "execution_count": 116,
   "metadata": {
    "collapsed": false
   },
   "outputs": [
    {
     "data": {
      "text/plain": [
       "34.118614874718254"
      ]
     },
     "execution_count": 116,
     "metadata": {},
     "output_type": "execute_result"
    }
   ],
   "source": [
    "std(aapl[:Close])"
   ]
  },
  {
   "cell_type": "code",
   "execution_count": 117,
   "metadata": {
    "collapsed": false
   },
   "outputs": [
    {
     "data": {
      "text/plain": [
       "1.6911041900198291"
      ]
     },
     "execution_count": 117,
     "metadata": {},
     "output_type": "execute_result"
    }
   ],
   "source": [
    "skewness(aapl[:Close]) "
   ]
  },
  {
   "cell_type": "code",
   "execution_count": 118,
   "metadata": {
    "collapsed": false
   },
   "outputs": [
    {
     "data": {
      "text/plain": [
       "1.3819633836604428"
      ]
     },
     "execution_count": 118,
     "metadata": {},
     "output_type": "execute_result"
    }
   ],
   "source": [
    "kurtosis(aapl[:Close]) "
   ]
  },
  {
   "cell_type": "code",
   "execution_count": 119,
   "metadata": {
    "collapsed": false
   },
   "outputs": [
    {
     "data": {
      "text/plain": [
       "Summary Stats:\n",
       "Mean:         37.125505\n",
       "Minimum:      13.590000\n",
       "1st Quartile: 17.735000\n",
       "Median:       21.490000\n",
       "3rd Quartile: 31.615000\n",
       "Maximum:      144.190000\n"
      ]
     },
     "execution_count": 119,
     "metadata": {},
     "output_type": "execute_result"
    }
   ],
   "source": [
    "summarystats(aapl[:Close])"
   ]
  },
  {
   "cell_type": "code",
   "execution_count": 120,
   "metadata": {
    "collapsed": false
   },
   "outputs": [
    {
     "data": {
      "text/plain": [
       "14.485500000000002"
      ]
     },
     "execution_count": 120,
     "metadata": {},
     "output_type": "execute_result"
    }
   ],
   "source": [
    "percentile(aapl[:Close],5) "
   ]
  },
  {
   "cell_type": "code",
   "execution_count": 121,
   "metadata": {
    "collapsed": false
   },
   "outputs": [
    {
     "data": {
      "text/plain": [
       "118.934"
      ]
     },
     "execution_count": 121,
     "metadata": {},
     "output_type": "execute_result"
    }
   ],
   "source": [
    "percentile(aapl[:Close],95)"
   ]
  },
  {
   "cell_type": "markdown",
   "metadata": {},
   "source": [
    "## Выборки и оценивание"
   ]
  },
  {
   "cell_type": "code",
   "execution_count": 123,
   "metadata": {
    "collapsed": false
   },
   "outputs": [
    {
     "data": {
      "text/html": [
       "<table class=\"data-frame\"><tr><th></th><th>School</th><th>Student</th><th>Gender</th><th>Written</th><th>Course</th></tr><tr><th>1</th><td>20920</td><td>16</td><td>M</td><td>23.0</td><td>NA</td></tr><tr><th>2</th><td>20920</td><td>25</td><td>F</td><td>NA</td><td>71.2</td></tr><tr><th>3</th><td>20920</td><td>27</td><td>F</td><td>39.0</td><td>76.8</td></tr><tr><th>4</th><td>20920</td><td>31</td><td>F</td><td>36.0</td><td>87.9</td></tr><tr><th>5</th><td>20920</td><td>42</td><td>M</td><td>16.0</td><td>44.4</td></tr><tr><th>6</th><td>20920</td><td>62</td><td>F</td><td>36.0</td><td>NA</td></tr><tr><th>7</th><td>20920</td><td>101</td><td>F</td><td>49.0</td><td>89.8</td></tr><tr><th>8</th><td>20920</td><td>113</td><td>M</td><td>25.0</td><td>17.5</td></tr><tr><th>9</th><td>20920</td><td>146</td><td>M</td><td>NA</td><td>32.4</td></tr><tr><th>10</th><td>22520</td><td>1</td><td>F</td><td>48.0</td><td>84.2</td></tr><tr><th>11</th><td>22520</td><td>7</td><td>M</td><td>46.0</td><td>66.6</td></tr><tr><th>12</th><td>22520</td><td>9</td><td>F</td><td>28.0</td><td>47.2</td></tr><tr><th>13</th><td>22520</td><td>15</td><td>F</td><td>43.0</td><td>80.5</td></tr><tr><th>14</th><td>22520</td><td>16</td><td>M</td><td>29.0</td><td>57.4</td></tr><tr><th>15</th><td>22520</td><td>18</td><td>F</td><td>25.0</td><td>42.5</td></tr><tr><th>16</th><td>22520</td><td>21</td><td>M</td><td>30.0</td><td>36.1</td></tr><tr><th>17</th><td>22520</td><td>24</td><td>F</td><td>44.0</td><td>58.3</td></tr><tr><th>18</th><td>22520</td><td>25</td><td>M</td><td>30.0</td><td>37.9</td></tr><tr><th>19</th><td>22520</td><td>27</td><td>F</td><td>26.0</td><td>74.0</td></tr><tr><th>20</th><td>22520</td><td>29</td><td>M</td><td>30.0</td><td>41.6</td></tr><tr><th>21</th><td>22520</td><td>34</td><td>F</td><td>39.0</td><td>76.8</td></tr><tr><th>22</th><td>22520</td><td>37</td><td>F</td><td>41.0</td><td>34.2</td></tr><tr><th>23</th><td>22520</td><td>41</td><td>F</td><td>44.0</td><td>86.1</td></tr><tr><th>24</th><td>22520</td><td>42</td><td>M</td><td>36.0</td><td>56.4</td></tr><tr><th>25</th><td>22520</td><td>43</td><td>F</td><td>45.0</td><td>42.5</td></tr><tr><th>26</th><td>22520</td><td>45</td><td>F</td><td>41.0</td><td>63.8</td></tr><tr><th>27</th><td>22520</td><td>47</td><td>F</td><td>28.0</td><td>20.3</td></tr><tr><th>28</th><td>22520</td><td>52</td><td>F</td><td>31.0</td><td>51.8</td></tr><tr><th>29</th><td>22520</td><td>53</td><td>F</td><td>33.0</td><td>NA</td></tr><tr><th>30</th><td>22520</td><td>55</td><td>F</td><td>51.0</td><td>76.8</td></tr><tr><th>&vellip;</th><td>&vellip;</td><td>&vellip;</td><td>&vellip;</td><td>&vellip;</td><td>&vellip;</td></tr></table>"
      ],
      "text/plain": [
       "1905×5 DataFrames.DataFrame\n",
       "│ Row  │ School  │ Student │ Gender │ Written │ Course │\n",
       "├──────┼─────────┼─────────┼────────┼─────────┼────────┤\n",
       "│ 1    │ \"20920\" │ \"16\"    │ \"M\"    │ 23.0    │ NA     │\n",
       "│ 2    │ \"20920\" │ \"25\"    │ \"F\"    │ NA      │ 71.2   │\n",
       "│ 3    │ \"20920\" │ \"27\"    │ \"F\"    │ 39.0    │ 76.8   │\n",
       "│ 4    │ \"20920\" │ \"31\"    │ \"F\"    │ 36.0    │ 87.9   │\n",
       "│ 5    │ \"20920\" │ \"42\"    │ \"M\"    │ 16.0    │ 44.4   │\n",
       "│ 6    │ \"20920\" │ \"62\"    │ \"F\"    │ 36.0    │ NA     │\n",
       "│ 7    │ \"20920\" │ \"101\"   │ \"F\"    │ 49.0    │ 89.8   │\n",
       "│ 8    │ \"20920\" │ \"113\"   │ \"M\"    │ 25.0    │ 17.5   │\n",
       "│ 9    │ \"20920\" │ \"146\"   │ \"M\"    │ NA      │ 32.4   │\n",
       "│ 10   │ \"22520\" │ \"1\"     │ \"F\"    │ 48.0    │ 84.2   │\n",
       "│ 11   │ \"22520\" │ \"7\"     │ \"M\"    │ 46.0    │ 66.6   │\n",
       "⋮\n",
       "│ 1894 │ \"84772\" │ \"49\"    │ \"M\"    │ NA      │ 74.0   │\n",
       "│ 1895 │ \"84772\" │ \"52\"    │ \"M\"    │ 62.0    │ 77.7   │\n",
       "│ 1896 │ \"84772\" │ \"58\"    │ \"M\"    │ 55.0    │ 83.3   │\n",
       "│ 1897 │ \"84772\" │ \"63\"    │ \"F\"    │ 60.0    │ 97.2   │\n",
       "│ 1898 │ \"84772\" │ \"66\"    │ \"F\"    │ 59.0    │ 91.6   │\n",
       "│ 1899 │ \"84772\" │ \"75\"    │ \"F\"    │ 53.0    │ NA     │\n",
       "│ 1900 │ \"84772\" │ \"85\"    │ \"F\"    │ NA      │ 90.7   │\n",
       "│ 1901 │ \"84772\" │ \"95\"    │ \"F\"    │ 65.0    │ 94.4   │\n",
       "│ 1902 │ \"84772\" │ \"104\"   │ \"M\"    │ 65.0    │ 60.1   │\n",
       "│ 1903 │ \"84772\" │ \"105\"   │ \"M\"    │ 48.0    │ NA     │\n",
       "│ 1904 │ \"84772\" │ \"111\"   │ \"M\"    │ 71.0    │ NA     │\n",
       "│ 1905 │ \"84772\" │ \"114\"   │ \"M\"    │ 66.0    │ 82.4   │"
      ]
     },
     "execution_count": 123,
     "metadata": {},
     "output_type": "execute_result"
    }
   ],
   "source": [
    "using RDatasets\n",
    "\n",
    "cd(joinpath(homedir(), \"julia_projects\",\"data\")); \n",
    "\n",
    "mlmf = dataset(\"mlmRev\",\"Gcsemv\");\n",
    "mlmf = @unix ? mlmf : nan2na(mlmf); # только для Windows"
   ]
  },
  {
   "cell_type": "code",
   "execution_count": 124,
   "metadata": {
    "collapsed": false
   },
   "outputs": [
    {
     "data": {
      "text/html": [
       "<table class=\"data-frame\"><tr><th></th><th>School</th><th>Student</th><th>Gender</th><th>Written</th><th>Course</th></tr><tr><th>1</th><td>20920</td><td>27</td><td>F</td><td>39.0</td><td>76.8</td></tr><tr><th>2</th><td>20920</td><td>31</td><td>F</td><td>36.0</td><td>87.9</td></tr><tr><th>3</th><td>20920</td><td>42</td><td>M</td><td>16.0</td><td>44.4</td></tr><tr><th>4</th><td>20920</td><td>101</td><td>F</td><td>49.0</td><td>89.8</td></tr><tr><th>5</th><td>20920</td><td>113</td><td>M</td><td>25.0</td><td>17.5</td></tr><tr><th>6</th><td>22520</td><td>1</td><td>F</td><td>48.0</td><td>84.2</td></tr><tr><th>7</th><td>22520</td><td>7</td><td>M</td><td>46.0</td><td>66.6</td></tr><tr><th>8</th><td>22520</td><td>9</td><td>F</td><td>28.0</td><td>47.2</td></tr><tr><th>9</th><td>22520</td><td>15</td><td>F</td><td>43.0</td><td>80.5</td></tr><tr><th>10</th><td>22520</td><td>16</td><td>M</td><td>29.0</td><td>57.4</td></tr><tr><th>11</th><td>22520</td><td>18</td><td>F</td><td>25.0</td><td>42.5</td></tr><tr><th>12</th><td>22520</td><td>21</td><td>M</td><td>30.0</td><td>36.1</td></tr><tr><th>13</th><td>22520</td><td>24</td><td>F</td><td>44.0</td><td>58.3</td></tr><tr><th>14</th><td>22520</td><td>25</td><td>M</td><td>30.0</td><td>37.9</td></tr><tr><th>15</th><td>22520</td><td>27</td><td>F</td><td>26.0</td><td>74.0</td></tr><tr><th>16</th><td>22520</td><td>29</td><td>M</td><td>30.0</td><td>41.6</td></tr><tr><th>17</th><td>22520</td><td>34</td><td>F</td><td>39.0</td><td>76.8</td></tr><tr><th>18</th><td>22520</td><td>37</td><td>F</td><td>41.0</td><td>34.2</td></tr><tr><th>19</th><td>22520</td><td>41</td><td>F</td><td>44.0</td><td>86.1</td></tr><tr><th>20</th><td>22520</td><td>42</td><td>M</td><td>36.0</td><td>56.4</td></tr><tr><th>21</th><td>22520</td><td>43</td><td>F</td><td>45.0</td><td>42.5</td></tr><tr><th>22</th><td>22520</td><td>45</td><td>F</td><td>41.0</td><td>63.8</td></tr><tr><th>23</th><td>22520</td><td>47</td><td>F</td><td>28.0</td><td>20.3</td></tr><tr><th>24</th><td>22520</td><td>52</td><td>F</td><td>31.0</td><td>51.8</td></tr><tr><th>25</th><td>22520</td><td>55</td><td>F</td><td>51.0</td><td>76.8</td></tr><tr><th>26</th><td>22520</td><td>57</td><td>M</td><td>51.0</td><td>65.7</td></tr><tr><th>27</th><td>22520</td><td>60</td><td>F</td><td>38.0</td><td>56.4</td></tr><tr><th>28</th><td>22520</td><td>63</td><td>M</td><td>44.0</td><td>75.9</td></tr><tr><th>29</th><td>22520</td><td>64</td><td>F</td><td>41.0</td><td>76.8</td></tr><tr><th>30</th><td>22520</td><td>66</td><td>F</td><td>32.0</td><td>66.6</td></tr><tr><th>&vellip;</th><td>&vellip;</td><td>&vellip;</td><td>&vellip;</td><td>&vellip;</td><td>&vellip;</td></tr></table>"
      ],
      "text/plain": [
       "1523×5 DataFrames.DataFrame\n",
       "│ Row  │ School  │ Student │ Gender │ Written │ Course │\n",
       "├──────┼─────────┼─────────┼────────┼─────────┼────────┤\n",
       "│ 1    │ \"20920\" │ \"27\"    │ \"F\"    │ 39.0    │ 76.8   │\n",
       "│ 2    │ \"20920\" │ \"31\"    │ \"F\"    │ 36.0    │ 87.9   │\n",
       "│ 3    │ \"20920\" │ \"42\"    │ \"M\"    │ 16.0    │ 44.4   │\n",
       "│ 4    │ \"20920\" │ \"101\"   │ \"F\"    │ 49.0    │ 89.8   │\n",
       "│ 5    │ \"20920\" │ \"113\"   │ \"M\"    │ 25.0    │ 17.5   │\n",
       "│ 6    │ \"22520\" │ \"1\"     │ \"F\"    │ 48.0    │ 84.2   │\n",
       "│ 7    │ \"22520\" │ \"7\"     │ \"M\"    │ 46.0    │ 66.6   │\n",
       "│ 8    │ \"22520\" │ \"9\"     │ \"F\"    │ 28.0    │ 47.2   │\n",
       "│ 9    │ \"22520\" │ \"15\"    │ \"F\"    │ 43.0    │ 80.5   │\n",
       "│ 10   │ \"22520\" │ \"16\"    │ \"M\"    │ 29.0    │ 57.4   │\n",
       "│ 11   │ \"22520\" │ \"18\"    │ \"F\"    │ 25.0    │ 42.5   │\n",
       "⋮\n",
       "│ 1512 │ \"84772\" │ \"24\"    │ \"F\"    │ 61.0    │ 94.4   │\n",
       "│ 1513 │ \"84772\" │ \"27\"    │ \"F\"    │ 65.0    │ 91.6   │\n",
       "│ 1514 │ \"84772\" │ \"29\"    │ \"M\"    │ 53.0    │ 67.5   │\n",
       "│ 1515 │ \"84772\" │ \"31\"    │ \"F\"    │ 58.0    │ 90.7   │\n",
       "│ 1516 │ \"84772\" │ \"48\"    │ \"F\"    │ 65.0    │ 82.4   │\n",
       "│ 1517 │ \"84772\" │ \"52\"    │ \"M\"    │ 62.0    │ 77.7   │\n",
       "│ 1518 │ \"84772\" │ \"58\"    │ \"M\"    │ 55.0    │ 83.3   │\n",
       "│ 1519 │ \"84772\" │ \"63\"    │ \"F\"    │ 60.0    │ 97.2   │\n",
       "│ 1520 │ \"84772\" │ \"66\"    │ \"F\"    │ 59.0    │ 91.6   │\n",
       "│ 1521 │ \"84772\" │ \"95\"    │ \"F\"    │ 65.0    │ 94.4   │\n",
       "│ 1522 │ \"84772\" │ \"104\"   │ \"M\"    │ 65.0    │ 60.1   │\n",
       "│ 1523 │ \"84772\" │ \"114\"   │ \"M\"    │ 66.0    │ 82.4   │"
      ]
     },
     "execution_count": 124,
     "metadata": {},
     "output_type": "execute_result"
    }
   ],
   "source": [
    "df = mlmf[complete_cases(mlmf[[:Written, :Course]]), :]"
   ]
  },
  {
   "cell_type": "code",
   "execution_count": 125,
   "metadata": {
    "collapsed": false
   },
   "outputs": [
    {
     "data": {
      "text/plain": [
       "46.50229809586343"
      ]
     },
     "execution_count": 125,
     "metadata": {},
     "output_type": "execute_result"
    }
   ],
   "source": [
    "mean(df[:Written]) "
   ]
  },
  {
   "cell_type": "code",
   "execution_count": 126,
   "metadata": {
    "collapsed": false
   },
   "outputs": [
    {
     "data": {
      "text/plain": [
       "13.477476756982231"
      ]
     },
     "execution_count": 126,
     "metadata": {},
     "output_type": "execute_result"
    }
   ],
   "source": [
    "std(df[:Written])  "
   ]
  },
  {
   "cell_type": "code",
   "execution_count": 127,
   "metadata": {
    "collapsed": false
   },
   "outputs": [
    {
     "data": {
      "text/plain": [
       "0.3453493475524302"
      ]
     },
     "execution_count": 127,
     "metadata": {},
     "output_type": "execute_result"
    }
   ],
   "source": [
    "sem(df[:Written])  "
   ]
  },
  {
   "cell_type": "code",
   "execution_count": 129,
   "metadata": {
    "collapsed": false
   },
   "outputs": [
    {
     "data": {
      "text/plain": [
       "10-element Array{Any,1}:\n",
       " 47.62 \n",
       " 46.77 \n",
       " 45.961\n",
       " 47.53 \n",
       " 44.03 \n",
       " 47.07 \n",
       " 48.0  \n",
       " 46.24 \n",
       " 46.72 \n",
       " 45.801"
      ]
     },
     "execution_count": 129,
     "metadata": {},
     "output_type": "execute_result"
    }
   ],
   "source": [
    "n = 10;\n",
    "mm = zeros(n);\n",
    "[mm[i] = mean(sample(df[:Written], 100)) for i in 1:10]"
   ]
  },
  {
   "cell_type": "code",
   "execution_count": 130,
   "metadata": {
    "collapsed": false
   },
   "outputs": [
    {
     "data": {
      "text/plain": [
       "46.574200000000005"
      ]
     },
     "execution_count": 130,
     "metadata": {},
     "output_type": "execute_result"
    }
   ],
   "source": [
    "mean(mm) "
   ]
  },
  {
   "cell_type": "code",
   "execution_count": 131,
   "metadata": {
    "collapsed": false
   },
   "outputs": [
    {
     "data": {
      "text/plain": [
       "1.150075630363305"
      ]
     },
     "execution_count": 131,
     "metadata": {},
     "output_type": "execute_result"
    }
   ],
   "source": [
    "std(mm) "
   ]
  },
  {
   "cell_type": "code",
   "execution_count": 132,
   "metadata": {
    "collapsed": false
   },
   "outputs": [
    {
     "data": {
      "text/plain": [
       "0.3636858473401946"
      ]
     },
     "execution_count": 132,
     "metadata": {},
     "output_type": "execute_result"
    }
   ],
   "source": [
    "std(mm) / sqrt(n)  "
   ]
  },
  {
   "cell_type": "markdown",
   "metadata": {},
   "source": [
    "## Пакет Pandas"
   ]
  },
  {
   "cell_type": "code",
   "execution_count": 135,
   "metadata": {
    "collapsed": false
   },
   "outputs": [],
   "source": [
    "cd(joinpath(homedir(), \"julia_projects\",\"data\")); \n",
    "\n",
    "aapl = readtable(\"AAPL_Short.csv\");"
   ]
  },
  {
   "cell_type": "raw",
   "metadata": {},
   "source": [
    "  Date        Open   High   Low    Close  Volume\n",
    "0 2002-12-31  14.00  14.36  13.95  14.33  3584400\n",
    "1 2002-12-30  14.08  14.15  13.84  14.07  2768600\n",
    "2 2002-12-27  14.31  14.38  14.01  14.06  1429200\n",
    "3 2002-12-26  14.42  14.81  14.28  14.40  1525400"
   ]
  },
  {
   "cell_type": "code",
   "execution_count": 136,
   "metadata": {
    "collapsed": false
   },
   "outputs": [
    {
     "data": {
      "text/plain": [
       "37.125505319148935"
      ]
     },
     "execution_count": 136,
     "metadata": {},
     "output_type": "execute_result"
    }
   ],
   "source": [
    "mean(aapl[:Close]) "
   ]
  },
  {
   "cell_type": "code",
   "execution_count": 137,
   "metadata": {
    "collapsed": false
   },
   "outputs": [
    {
     "data": {
      "text/plain": [
       "34.118614874718254"
      ]
     },
     "execution_count": 137,
     "metadata": {},
     "output_type": "execute_result"
    }
   ],
   "source": [
    "std(aapl[:Close])  "
   ]
  },
  {
   "cell_type": "code",
   "execution_count": 138,
   "metadata": {
    "collapsed": false
   },
   "outputs": [
    {
     "data": {
      "text/plain": [
       "58"
      ]
     },
     "execution_count": 138,
     "metadata": {},
     "output_type": "execute_result"
    }
   ],
   "source": [
    "indmin(aapl[:Close])  "
   ]
  },
  {
   "cell_type": "code",
   "execution_count": 139,
   "metadata": {
    "collapsed": false
   },
   "outputs": [
    {
     "data": {
      "text/plain": [
       "14.11"
      ]
     },
     "execution_count": 139,
     "metadata": {},
     "output_type": "execute_result"
    }
   ],
   "source": [
    "aapl[:Close][57]  "
   ]
  },
  {
   "cell_type": "code",
   "execution_count": 140,
   "metadata": {
    "collapsed": false
   },
   "outputs": [
    {
     "data": {
      "text/plain": [
       "697"
      ]
     },
     "execution_count": 140,
     "metadata": {},
     "output_type": "execute_result"
    }
   ],
   "source": [
    "indmax(aapl[:Close]) "
   ]
  },
  {
   "cell_type": "code",
   "execution_count": 144,
   "metadata": {
    "collapsed": false
   },
   "outputs": [
    {
     "data": {
      "text/plain": [
       "141.31"
      ]
     },
     "execution_count": 144,
     "metadata": {},
     "output_type": "execute_result"
    }
   ],
   "source": [
    "aapl[:Close][696]  "
   ]
  },
  {
   "cell_type": "code",
   "execution_count": 145,
   "metadata": {
    "collapsed": false
   },
   "outputs": [
    {
     "name": "stdout",
     "output_type": "stream",
     "text": [
      "Date\n",
      "Length  752\n",
      "Type    Union{ASCIIString,UTF8String}\n",
      "NAs     0\n",
      "NA%     0.0%\n",
      "Unique  752\n",
      "\n",
      "Open\n",
      "Min      13.54\n",
      "1st Qu.  17.73\n",
      "Median   21.450000000000003\n",
      "Mean     37.14216755319149\n",
      "3rd Qu.  32.5325\n",
      "Max      142.44\n",
      "NAs      0\n",
      "NA%      0.0%\n",
      "\n",
      "High\n",
      "Min      13.85\n",
      "1st Qu.  18.28\n",
      "Median   22.03\n",
      "Mean     38.25246010638297\n",
      "3rd Qu.  33.6725\n",
      "Max      150.38\n",
      "NAs      0\n",
      "NA%      0.0%\n",
      "\n",
      "Low\n",
      "Min      13.36\n",
      "1st Qu.  17.25\n",
      "Median   20.81\n",
      "Mean     36.069840425531915\n",
      "3rd Qu.  30.3825\n",
      "Max      140.0\n",
      "NAs      0\n",
      "NA%      0.0%\n",
      "\n",
      "Close\n",
      "Min      13.59\n",
      "1st Qu.  17.735\n",
      "Median   21.49\n",
      "Mean     37.125505319148935\n",
      "3rd Qu.  31.615\n",
      "Max      144.19\n",
      "NAs      0\n",
      "NA%      0.0%\n",
      "\n",
      "Volume\n",
      "Min      702500.0\n",
      "1st Qu.  3.7931e6\n",
      "Median   5.10325e6\n",
      "Mean     6.306547473404256e6\n",
      "3rd Qu.  7.165525e6\n",
      "Max      1.325293e8\n",
      "NAs      0\n",
      "NA%      0.0%\n",
      "\n",
      "Ex_Dividend\n",
      "Min      0.0\n",
      "1st Qu.  0.0\n",
      "Median   0.0\n",
      "Mean     0.0\n",
      "3rd Qu.  0.0\n",
      "Max      0.0\n",
      "NAs      0\n",
      "NA%      0.0%\n",
      "\n",
      "Split_Ratio\n",
      "Min      1.0\n",
      "1st Qu.  1.0\n",
      "Median   1.0\n",
      "Mean     1.0013297872340425\n",
      "3rd Qu.  1.0\n",
      "Max      2.0\n",
      "NAs      0\n",
      "NA%      0.0%\n",
      "\n",
      "Adj_Open\n",
      "Min      6.506740923661665\n",
      "1st Qu.  8.520274488664796\n",
      "Median   10.307946293393112\n",
      "Mean     13.650178251022421\n",
      "3rd Qu.  15.070866232805349\n",
      "Max      34.22526503568566\n",
      "NAs      0\n",
      "NA%      0.0%\n",
      "\n",
      "Adj_High\n",
      "Min      6.655713574055692\n",
      "1st Qu.  8.784580803880003\n",
      "Median   10.586669316710967\n",
      "Mean     14.045727094011623\n",
      "3rd Qu.  15.745448032775073\n",
      "Max      36.133076074602705\n",
      "NAs      0\n",
      "NA%      0.0%\n",
      "\n",
      "Adj_Low\n",
      "Min      6.420240675045779\n",
      "1st Qu.  8.289607159022433\n",
      "Median   10.00038985386996\n",
      "Mean     13.270081358473027\n",
      "3rd Qu.  14.112755840150218\n",
      "Max      33.63898557284465\n",
      "NAs      0\n",
      "NA%      0.0%\n",
      "\n",
      "Adj_Close\n",
      "Min      6.530768770499412\n",
      "1st Qu.  8.52267727334857\n",
      "Median   10.327168570863307\n",
      "Mean     13.647900078842193\n",
      "3rd Qu.  14.62935454716176\n",
      "Max      34.64575235534622\n",
      "NAs      0\n",
      "NA%      0.0%\n",
      "\n",
      "Adj_Volume\n",
      "Min      1.405e6\n",
      "1st Qu.  8.51875e6\n",
      "Median   1.14761e7\n",
      "Mean     1.386651409574468e7\n",
      "3rd Qu.  1.582105e7\n",
      "Max      2.650586e8\n",
      "NAs      0\n",
      "NA%      0.0%\n",
      "\n"
     ]
    }
   ],
   "source": [
    "DataFrames.describe(aapl)"
   ]
  }
 ],
 "metadata": {
  "kernelspec": {
   "display_name": "Julia 0.4.5",
   "language": "julia",
   "name": "julia-0.4"
  },
  "language_info": {
   "file_extension": ".jl",
   "mimetype": "application/julia",
   "name": "julia",
   "version": "0.4.5"
  }
 },
 "nbformat": 4,
 "nbformat_minor": 0
}
