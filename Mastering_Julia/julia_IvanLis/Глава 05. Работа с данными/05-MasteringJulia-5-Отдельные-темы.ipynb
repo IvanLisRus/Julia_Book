{
 "cells": [
  {
   "cell_type": "markdown",
   "metadata": {},
   "source": [
    "<div style=\"text-align: left;\"><img src=\"https://www.juliabox.org/assets/img/juliacloudlogo.png\" style=\"margin: 0px 0px 0px 0px; padding-right: 20px;width: 80px; float: left;\" title=\"\" alt=\"\" /></div>\n",
    "<img src=\"http://dmkpress.com/images/cms/thumbs/a5b0aeaa3fa7d6e58d75710c18673bd7ec6d5f6d/978-5-97060-370-3_270_369__100.jpg\" style=\"margin: 0px 0px 5px 20px; width: 100px; float: right;\" title=\"\" alt=\"\" />\n",
    "Всестороннее введение в новый язык программирования для научно-технических вычислений [Julia](http://julialang.org/) в книге Малколма Шеррингтона, Packt Publishing, июль 2015.\n",
    "\n",
    "<h1>Осваиваем язык Julia</h1><br />\n",
    "\n",
    "Совершенствование мастерства в области аналитики и программирования при помощи Julia в целях решения задач комплексной обработки данных\n",
    "<div style=\"text-align: left;font-size:8pt;padding-top:10px;\">Программный код Julia (v0.4.5) протестирован в Windows 8.1/10 и Linux/Lubuntu 16.4</div>\n",
    "<div style=\"text-align: left;\"><h1>Глава 5. Работа с данными</h1></div>"
   ]
  },
  {
   "cell_type": "markdown",
   "metadata": {},
   "source": [
    "# Отдельные темы\n",
    "## Временные ряды"
   ]
  },
  {
   "cell_type": "code",
   "execution_count": 147,
   "metadata": {
    "collapsed": false
   },
   "outputs": [
    {
     "data": {
      "text/plain": [
       "752x12 TimeSeries.TimeArray{Float64,2,Date,Array{Float64,2}} 2000-01-03 to 2002-12-31\n",
       "\n",
       "             Open      High      Low       Close     Volume          Ex-Dividend  Split Ratio  Adj. Open  Adj. High  Adj. Low  Adj. Close  Adj. Volume     \n",
       "2000-01-03 | 104.88    112.5     101.69    111.94    4783900         0            1            25.2004    27.0313    24.4339   26.8968     19135600        \n",
       "2000-01-04 | 108.25    110.62    101.19    102.5     4574800         0            1            26.0101    26.5796    24.3138   24.6285     18299200        \n",
       "2000-01-05 | 103.75    110.56    103.0     104.0     6949300         0            1            24.9289    26.5652    24.7487   24.989      27797200        \n",
       "2000-01-06 | 106.12    107.0     95.0      95.0      6856900         0            1            25.4984    25.7098    22.8265   22.8265     27427600        \n",
       "⋮\n",
       "2002-12-26 | 14.42     14.81     14.28     14.4      1525400         0            1            6.9296     7.117      6.8624    6.92        3050800         \n",
       "2002-12-27 | 14.31     14.38     14.01     14.06     1429200         0            1            6.8768     6.9104     6.7326    6.7566      2858400         \n",
       "2002-12-30 | 14.08     14.15     13.84     14.07     2768600         0            1            6.7662     6.7999     6.6509    6.7614      5537200         \n",
       "2002-12-31 | 14.0      14.36     13.95     14.33     3584400         0            1            6.7278     6.9008     6.7038    6.8864      7168800         \n"
      ]
     },
     "execution_count": 147,
     "metadata": {},
     "output_type": "execute_result"
    }
   ],
   "source": [
    "using TimeSeries\n",
    "\n",
    "cd(joinpath(homedir(), \"julia_projects\",\"data\")); \n",
    "\n",
    "ta = readtimearray(\"AAPL_Short.csv\")"
   ]
  },
  {
   "cell_type": "code",
   "execution_count": 148,
   "metadata": {
    "collapsed": false
   },
   "outputs": [
    {
     "data": {
      "text/plain": [
       "12-element Array{UTF8String,1}:\n",
       " \"Open\"       \n",
       " \"High\"       \n",
       " \"Low\"        \n",
       " \"Close\"      \n",
       " \"Volume\"     \n",
       " \"Ex-Dividend\"\n",
       " \"Split Ratio\"\n",
       " \"Adj. Open\"  \n",
       " \"Adj. High\"  \n",
       " \"Adj. Low\"   \n",
       " \"Adj. Close\" \n",
       " \"Adj. Volume\""
      ]
     },
     "execution_count": 148,
     "metadata": {},
     "output_type": "execute_result"
    }
   ],
   "source": [
    "colnames(ta)"
   ]
  },
  {
   "cell_type": "code",
   "execution_count": 150,
   "metadata": {
    "collapsed": false
   },
   "outputs": [
    {
     "data": {
      "text/plain": [
       "252x12 TimeSeries.TimeArray{Float64,2,Date,Array{Float64,2}} 2000-01-03 to 2000-12-29\n",
       "\n",
       "             Open      High      Low       Close     Volume          Ex-Dividend  Split Ratio  Adj. Open  Adj. High  Adj. Low  Adj. Close  Adj. Volume     \n",
       "2000-01-03 | 104.88    112.5     101.69    111.94    4783900         0            1            25.2004    27.0313    24.4339   26.8968     19135600        \n",
       "2000-01-04 | 108.25    110.62    101.19    102.5     4574800         0            1            26.0101    26.5796    24.3138   24.6285     18299200        \n",
       "2000-01-05 | 103.75    110.56    103.0     104.0     6949300         0            1            24.9289    26.5652    24.7487   24.989      27797200        \n",
       "2000-01-06 | 106.12    107.0     95.0      95.0      6856900         0            1            25.4984    25.7098    22.8265   22.8265     27427600        \n",
       "⋮\n",
       "2000-12-26 | 14.88     15.0      14.25     14.69     3871700         0            1            7.1507     7.2084     6.8479    7.0594      7743400         \n",
       "2000-12-27 | 14.34     14.81     14.19     14.81     5811900         0            1            6.8912     7.117      6.8191    7.117       11623800        \n",
       "2000-12-28 | 14.38     14.94     14.31     14.81     5449600         0            1            6.9104     7.1795     6.8768    7.117       10899200        \n",
       "2000-12-29 | 14.69     15.0      14.5      14.88     11256000        0            1            7.0594     7.2084     6.9681    7.1507      22512000        \n"
      ]
     },
     "execution_count": 150,
     "metadata": {},
     "output_type": "execute_result"
    }
   ],
   "source": [
    "ta0 = from(to(ta,Date(2000,12,31)), Date(2000,1,1))"
   ]
  },
  {
   "cell_type": "code",
   "execution_count": 151,
   "metadata": {
    "collapsed": false
   },
   "outputs": [
    {
     "data": {
      "text/plain": [
       "1x1 TimeSeries.TimeArray{Float64,1,Date,Array{Float64,1}} 2000-02-15 to 2000-02-15\n",
       "\n",
       "             Close     \n",
       "2000-02-15 | 111.94    \n"
      ]
     },
     "execution_count": 151,
     "metadata": {},
     "output_type": "execute_result"
    }
   ],
   "source": [
    "lag(ta0[\"Close\"],30)[1]    "
   ]
  },
  {
   "cell_type": "code",
   "execution_count": 152,
   "metadata": {
    "collapsed": false
   },
   "outputs": [
    {
     "data": {
      "text/plain": [
       "1x1 TimeSeries.TimeArray{Float64,1,Date,Array{Float64,1}} 2000-01-03 to 2000-01-03\n",
       "\n",
       "             Close     \n",
       "2000-01-03 | 119       \n"
      ]
     },
     "execution_count": 152,
     "metadata": {},
     "output_type": "execute_result"
    }
   ],
   "source": [
    "lead(ta0[\"Close\"],30)[1]    "
   ]
  },
  {
   "cell_type": "code",
   "execution_count": 153,
   "metadata": {
    "collapsed": false
   },
   "outputs": [
    {
     "data": {
      "text/plain": [
       "223x1 TimeSeries.TimeArray{Float64,1,Date,Array{Float64,1}} 2000-02-14 to 2000-12-29\n",
       "\n",
       "             Close     \n",
       "2000-02-14 | 105.2393  \n",
       "2000-02-15 | 105.4747  \n",
       "2000-02-16 | 105.862   \n",
       "2000-02-17 | 106.2247  \n",
       "⋮\n",
       "2000-12-26 | 16.6077   \n",
       "2000-12-27 | 16.4553   \n",
       "2000-12-28 | 16.274    \n",
       "2000-12-29 | 16.1073   \n"
      ]
     },
     "execution_count": 153,
     "metadata": {},
     "output_type": "execute_result"
    }
   ],
   "source": [
    "moving(ta0[\"Close\"],mean,30)"
   ]
  },
  {
   "cell_type": "code",
   "execution_count": 154,
   "metadata": {
    "collapsed": false
   },
   "outputs": [
    {
     "name": "stderr",
     "output_type": "stream",
     "text": [
      "WARNING: collapse(ta::TimeArray, f::Function; period::Function=week) is deprecated,\n",
      "use collapse(ta::TimeArray, period::Function, timestamp::Function, value::Function=timestamp) instead\n"
     ]
    },
    {
     "data": {
      "text/plain": [
       "36x1 TimeSeries.TimeArray{Float64,1,Date,Array{Float64,1}} 2000-01-31 to 2002-12-31\n",
       "\n",
       "             Close     \n",
       "2000-01-31 | 103.3595  \n",
       "2000-02-29 | 111.6375  \n",
       "2000-03-31 | 128.5026  \n",
       "2000-04-28 | 123.1058  \n",
       "⋮\n",
       "2002-09-30 | 14.525    \n",
       "2002-10-31 | 14.6504   \n",
       "2002-11-29 | 15.963    \n",
       "2002-12-31 | 37.1255   \n"
      ]
     },
     "execution_count": 154,
     "metadata": {},
     "output_type": "execute_result"
    }
   ],
   "source": [
    "collapse(ta[\"Close\"], mean, period=month)"
   ]
  },
  {
   "cell_type": "code",
   "execution_count": 155,
   "metadata": {
    "collapsed": false
   },
   "outputs": [
    {
     "data": {
      "text/plain": [
       "0.5186915887850467"
      ]
     },
     "execution_count": 155,
     "metadata": {},
     "output_type": "execute_result"
    }
   ],
   "source": [
    "maximum(abs(values(percentchange(ta0[\"Close\"]))))"
   ]
  },
  {
   "cell_type": "code",
   "execution_count": 157,
   "metadata": {
    "collapsed": false
   },
   "outputs": [
    {
     "name": "stdout",
     "output_type": "stream",
     "text": [
      "2000-03-01: 130.31\n",
      "2000-03-03: 128.0\n",
      "2000-03-06: 125.69\n",
      "2000-03-10: 125.75\n",
      "2000-03-21: 134.94\n",
      "2000-03-22: 144.19\n",
      "2000-03-23: 141.31\n",
      "2000-03-24: 138.69\n",
      "2000-03-27: 139.56\n",
      "2000-03-28: 139.12\n",
      "2000-03-29: 135.94\n",
      "2000-03-30: 125.75\n",
      "2000-03-31: 135.81\n",
      "2000-04-03: 133.31\n",
      "2000-04-04: 127.31\n",
      "2000-04-05: 130.38\n",
      "2000-04-06: 125.19\n",
      "2000-04-07: 131.75\n",
      "2000-04-18: 126.88\n",
      "2000-04-25: 128.31\n",
      "2000-04-27: 126.75\n"
     ]
    }
   ],
   "source": [
    "for i in find(ta[\"Close\"] .> 125)\n",
    "  ts = ta0[\"Close\"].timestamp[i]\n",
    "  vals = ta0[\"Close\"].values[i]\n",
    "  println(ts, \": \", vals)\n",
    "end"
   ]
  },
  {
   "cell_type": "markdown",
   "metadata": {},
   "source": [
    "## Распределения вероятностей"
   ]
  },
  {
   "cell_type": "code",
   "execution_count": 158,
   "metadata": {
    "collapsed": false
   },
   "outputs": [
    {
     "name": "stderr",
     "output_type": "stream",
     "text": [
      "WARNING: using Distributions.params in module Main conflicts with an existing identifier.\n"
     ]
    },
    {
     "data": {
      "text/plain": [
       "Distributions.Poisson(λ=2.2)"
      ]
     },
     "execution_count": 158,
     "metadata": {},
     "output_type": "execute_result"
    }
   ],
   "source": [
    "using Distributions;\n",
    "\n",
    "Poisson(2.2) "
   ]
  },
  {
   "cell_type": "code",
   "execution_count": 159,
   "metadata": {
    "collapsed": false
   },
   "outputs": [
    {
     "data": {
      "text/plain": [
       "2.2"
      ]
     },
     "execution_count": 159,
     "metadata": {},
     "output_type": "execute_result"
    }
   ],
   "source": [
    "mean(Poisson(2.2)) "
   ]
  },
  {
   "cell_type": "code",
   "execution_count": 160,
   "metadata": {
    "collapsed": false
   },
   "outputs": [
    {
     "data": {
      "text/plain": [
       "1.4832396974191326"
      ]
     },
     "execution_count": 160,
     "metadata": {},
     "output_type": "execute_result"
    }
   ],
   "source": [
    "std(Poisson(2.2)) "
   ]
  },
  {
   "cell_type": "code",
   "execution_count": 161,
   "metadata": {
    "collapsed": false
   },
   "outputs": [
    {
     "data": {
      "text/plain": [
       "2"
      ]
     },
     "execution_count": 161,
     "metadata": {},
     "output_type": "execute_result"
    }
   ],
   "source": [
    "median(Poisson(2.2))"
   ]
  },
  {
   "cell_type": "code",
   "execution_count": 162,
   "metadata": {
    "collapsed": false
   },
   "outputs": [
    {
     "name": "stdout",
     "output_type": "stream",
     "text": [
      "0 :  0.1108  0.1108\n",
      "1 :  0.2438  0.3546\n",
      "2 :  0.2681  0.6227\n",
      "3 :  0.1966  0.8194\n",
      "4 :  0.1082  0.9275\n",
      "5 :  0.0476  0.9751\n"
     ]
    }
   ],
   "source": [
    "for i = 0:5\n",
    "  pf = pdf(Poisson(2.2), i)\n",
    "  cf = cdf(Poisson(2.2), i)\n",
    "  @printf \"%d : %7.4f %7.4f\\n\" i pf cf\n",
    "end"
   ]
  },
  {
   "cell_type": "code",
   "execution_count": 163,
   "metadata": {
    "collapsed": false
   },
   "outputs": [
    {
     "data": {
      "text/plain": [
       "15-element Array{Int64,1}:\n",
       " 3\n",
       " 0\n",
       " 0\n",
       " 1\n",
       " 2\n",
       " 3\n",
       " 3\n",
       " 0\n",
       " 2\n",
       " 3\n",
       " 1\n",
       " 1\n",
       " 1\n",
       " 0\n",
       " 3"
      ]
     },
     "execution_count": 163,
     "metadata": {},
     "output_type": "execute_result"
    }
   ],
   "source": [
    "rand(Poisson(2.2),15)"
   ]
  },
  {
   "cell_type": "code",
   "execution_count": 164,
   "metadata": {
    "collapsed": false
   },
   "outputs": [
    {
     "data": {
      "text/plain": [
       "Distributions.Poisson(λ=2.165)"
      ]
     },
     "execution_count": 164,
     "metadata": {},
     "output_type": "execute_result"
    }
   ],
   "source": [
    "fit(Poisson, rand(Poisson(2.2),1000))"
   ]
  },
  {
   "cell_type": "markdown",
   "metadata": {},
   "source": [
    "### Ядерная оценка плотности"
   ]
  },
  {
   "cell_type": "code",
   "execution_count": 3,
   "metadata": {
    "collapsed": false
   },
   "outputs": [],
   "source": [
    "cd(joinpath(homedir(), \"julia_projects\",\"data\")); \n",
    "\n",
    "using RDatasets, KernelDensity\n",
    "\n",
    "# вспомогательная функция NaN -> NA\n",
    "function nan2na(df)\n",
    "    for c in eachcol(df)\n",
    "        nans = find(x->isa(x,AbstractFloat) && isnan(x),c[2])\n",
    "        df[nans,c[1]] = NA\n",
    "    end\n",
    "    df\n",
    "end\n",
    "\n",
    "mlmf = dataset(\"mlmRev\",\"Gcsemv\")\n",
    "mlmf = @unix ? mlmf : nan2na(mlmf); # только для Windows\n",
    "\n",
    "df = mlmf[complete_cases(mlmf[[:Written, :Course]]), :];\n",
    "\n",
    "dc = convert(Array, df[:Course]); kdc = kde(dc);\n",
    "dw = convert(Array, df[:Written]); kdw = kde(dw);"
   ]
  },
  {
   "cell_type": "code",
   "execution_count": 4,
   "metadata": {
    "collapsed": false
   },
   "outputs": [
    {
     "data": {
      "text/plain": [
       "Summary Stats:\n",
       "Mean:         46.502298\n",
       "Minimum:      0.600000\n",
       "1st Quartile: 38.000000\n",
       "Median:       46.000000\n",
       "3rd Quartile: 56.000000\n",
       "Maximum:      90.000000\n"
      ]
     },
     "execution_count": 4,
     "metadata": {},
     "output_type": "execute_result"
    }
   ],
   "source": [
    "ssw = summarystats(dw[!isnan(dw)])  "
   ]
  },
  {
   "cell_type": "code",
   "execution_count": 5,
   "metadata": {
    "collapsed": false
   },
   "outputs": [
    {
     "data": {
      "text/plain": [
       "Summary Stats:\n",
       "Mean:         73.381385\n",
       "Minimum:      9.250000\n",
       "1st Quartile: 62.900000\n",
       "Median:       75.900000\n",
       "3rd Quartile: 86.100000\n",
       "Maximum:      100.000000\n"
      ]
     },
     "execution_count": 5,
     "metadata": {},
     "output_type": "execute_result"
    }
   ],
   "source": [
    "ssc = summarystats(dc[!isnan(dc)])"
   ]
  },
  {
   "cell_type": "code",
   "execution_count": 7,
   "metadata": {
    "collapsed": false
   },
   "outputs": [
    {
     "data": {
      "image/png": "[encoded data removed]",
      "text/plain": [
       "Winston.FramedPlot(...)"
      ]
     },
     "execution_count": 7,
     "metadata": {},
     "output_type": "execute_result"
    }
   ],
   "source": [
    "using Winston\n",
    "\n",
    "kdc = kde(dc); kdw = kde(dw);\n",
    "using Winston;\n",
    "p = Winston.plot(kdc.x, kdc.density, \"r--\", kdw.x, kdw.density, \"b;\")\n",
    "add(p, PlotLabel(.25, .87, \"Письменный экзамен\", color=0x0))\n",
    "add(p, PlotLabel(.75, .87, \"Курсовая\", color=0x0))"
   ]
  },
  {
   "cell_type": "markdown",
   "metadata": {},
   "source": [
    "## Проверка статистических гипотез"
   ]
  },
  {
   "cell_type": "code",
   "execution_count": 171,
   "metadata": {
    "collapsed": false
   },
   "outputs": [
    {
     "name": "stdout",
     "output_type": "stream",
     "text": [
      "     22520 :  35.4482  57.4580\n",
      "     60457 :  53.4773  85.9568\n",
      "     68107 :  44.9107  74.6750\n",
      "     68125 :  47.1556  77.5322\n",
      "     68137 :  28.2807  62.5373\n",
      "     68411 :  40.4615  59.4369\n",
      "     68809 :  42.7705  71.1115\n"
     ]
    }
   ],
   "source": [
    "for subdf in groupby(df, :School)\n",
    "  (size(subdf)[1] > 40) && \n",
    "  @printf \"%10s : %8.4f %8.4f\\n\" subdf[:School][1] mean(subdf[:Written]) mean(subdf[:Course])\n",
    "end"
   ]
  },
  {
   "cell_type": "code",
   "execution_count": 172,
   "metadata": {
    "collapsed": true
   },
   "outputs": [],
   "source": [
    "cd(joinpath(homedir(), \"julia_projects\",\"data\")); \n",
    "\n",
    "using HypothesisTests\n",
    "\n",
    "# вспомогательная функция NaN -> NA\n",
    "function nan2na(df)\n",
    "    for c in eachcol(df)\n",
    "        nans = find(x->isa(x,AbstractFloat) && isnan(x),c[2])\n",
    "        df[nans,c[1]] = NA\n",
    "    end\n",
    "    df\n",
    "end\n",
    "\n",
    "mlmf = dataset(\"mlmRev\",\"Gcsemv\")\n",
    "mlmf = @unix ? mlmf : nan2na(mlmf); # только для Windows\n",
    "\n",
    "\n",
    "df1 = mlmf[mlmf[:School] .== \"68107\", :];\n",
    "df1 = df1[complete_cases(df1[[:Written, :Course]]), :];\n",
    "\n",
    "df2 = mlmf[mlmf[:School] .== \"68411\", :];\n",
    "df2 = df2[complete_cases(df2[[:Written, :Course]]), :];"
   ]
  },
  {
   "cell_type": "code",
   "execution_count": 173,
   "metadata": {
    "collapsed": false
   },
   "outputs": [
    {
     "data": {
      "text/plain": [
       "Two sample t-test (unequal variance)\n",
       "------------------------------------\n",
       "Population details:\n",
       "    parameter of interest:   Mean difference\n",
       "    value under h_0:         0\n",
       "    point estimate:          4.449175824175825\n",
       "    95% confidence interval: (-0.18365665078923588,9.082008299140885)\n",
       "\n",
       "Test summary:\n",
       "    outcome with 95% confidence: fail to reject h_0\n",
       "    two-sided p-value:           0.05962747379789212 (not significant)\n",
       "\n",
       "Details:\n",
       "    number of observations:   [56,65]\n",
       "    t-statistic:              1.903253187099572\n",
       "    degrees of freedom:       109.74148002018097\n",
       "    empirical standard error: 2.3376689209469106\n"
      ]
     },
     "execution_count": 173,
     "metadata": {},
     "output_type": "execute_result"
    }
   ],
   "source": [
    "UnequalVarianceTTest( map(Float64,df1[:Written]), map(Float64,df2[:Written]) )"
   ]
  },
  {
   "cell_type": "code",
   "execution_count": 174,
   "metadata": {
    "collapsed": false
   },
   "outputs": [
    {
     "data": {
      "text/plain": [
       "Two sample t-test (unequal variance)\n",
       "------------------------------------\n",
       "Population details:\n",
       "    parameter of interest:   Mean difference\n",
       "    value under h_0:         0\n",
       "    point estimate:          15.238076923076925\n",
       "    95% confidence interval: (10.62552780212873,19.85062604402512)\n",
       "\n",
       "Test summary:\n",
       "    outcome with 95% confidence: reject h_0\n",
       "    two-sided p-value:           1.6304342326804862e-9 (extremely significant)\n",
       "\n",
       "Details:\n",
       "    number of observations:   [56,65]\n",
       "    t-statistic:              6.541977424916665\n",
       "    degrees of freedom:       118.13175559744462\n",
       "    empirical standard error: 2.329276904111456\n"
      ]
     },
     "execution_count": 174,
     "metadata": {},
     "output_type": "execute_result"
    }
   ],
   "source": [
    "UnequalVarianceTTest( map(Float64,df1[:Course]), map(Float64,df2[:Course]))"
   ]
  },
  {
   "cell_type": "markdown",
   "metadata": {},
   "source": [
    "## Обобщенная линейная модель"
   ]
  },
  {
   "cell_type": "raw",
   "metadata": {},
   "source": [
    "glm(формула, данные, семейство, функция_связи)"
   ]
  },
  {
   "cell_type": "code",
   "execution_count": 176,
   "metadata": {
    "collapsed": true
   },
   "outputs": [],
   "source": [
    "cd(joinpath(homedir(), \"julia_projects\",\"data\")); \n",
    "\n",
    "using GLM;\n",
    "\n",
    "mlmf = dataset(\"mlmRev\", \"Gcsemv\");\n",
    "mlmf = @unix ? mlmf : nan2na(mlmf); # только для Windows\n",
    "\n",
    "df1 = mlmf[mlmf[:School] .== \"68107\", :];\n",
    "df1 = df1[complete_cases(df1[[:Written, :Course]]), :];\n",
    "df2 = mlmf[mlmf[:School] .== \"68411\", :];\n",
    "df2 = df2[complete_cases(df2[[:Written, :Course]]), :];\n",
    "\n",
    "dw1s = sort(sample(df1[:Written],50));\n",
    "dw2s = sort(sample(df2[:Written],50));\n",
    "dc1s = sort(sample(df1[:Course],50));\n",
    "dc2s = sort(sample(df2[:Course],50));"
   ]
  },
  {
   "cell_type": "code",
   "execution_count": 177,
   "metadata": {
    "collapsed": false
   },
   "outputs": [
    {
     "data": {
      "text/plain": [
       "0.967660080424631"
      ]
     },
     "execution_count": 177,
     "metadata": {},
     "output_type": "execute_result"
    }
   ],
   "source": [
    "cor(dw1s, dw2s)   "
   ]
  },
  {
   "cell_type": "code",
   "execution_count": 178,
   "metadata": {
    "collapsed": false
   },
   "outputs": [
    {
     "data": {
      "text/plain": [
       "0.9558884075464557"
      ]
     },
     "execution_count": 178,
     "metadata": {},
     "output_type": "execute_result"
    }
   ],
   "source": [
    "cor(dc1s, dc2s)   "
   ]
  },
  {
   "cell_type": "code",
   "execution_count": 181,
   "metadata": {
    "collapsed": false
   },
   "outputs": [
    {
     "data": {
      "text/html": [
       "<table class=\"data-frame\"><tr><th></th><th>s68107</th><th>s68411</th></tr><tr><th>1</th><td>50.0</td><td>38.8</td></tr><tr><th>2</th><td>55.5</td><td>42.5</td></tr><tr><th>3</th><td>55.5</td><td>45.3</td></tr><tr><th>4</th><td>55.5</td><td>47.2</td></tr><tr><th>5</th><td>61.1</td><td>50.0</td></tr><tr><th>6</th><td>61.1</td><td>50.9</td></tr><tr><th>7</th><td>62.0</td><td>52.7</td></tr><tr><th>8</th><td>63.8</td><td>52.7</td></tr><tr><th>9</th><td>64.8</td><td>55.5</td></tr><tr><th>10</th><td>65.7</td><td>55.5</td></tr><tr><th>11</th><td>65.7</td><td>55.5</td></tr><tr><th>12</th><td>66.6</td><td>55.5</td></tr><tr><th>13</th><td>66.6</td><td>55.5</td></tr><tr><th>14</th><td>67.5</td><td>55.5</td></tr><tr><th>15</th><td>68.5</td><td>55.5</td></tr><tr><th>16</th><td>68.5</td><td>56.4</td></tr><tr><th>17</th><td>69.4</td><td>56.4</td></tr><tr><th>18</th><td>69.4</td><td>56.4</td></tr><tr><th>19</th><td>70.3</td><td>56.4</td></tr><tr><th>20</th><td>74.0</td><td>58.3</td></tr><tr><th>21</th><td>74.0</td><td>58.3</td></tr><tr><th>22</th><td>74.0</td><td>58.3</td></tr><tr><th>23</th><td>75.0</td><td>58.3</td></tr><tr><th>24</th><td>78.7</td><td>59.2</td></tr><tr><th>25</th><td>80.5</td><td>60.1</td></tr><tr><th>26</th><td>81.4</td><td>60.1</td></tr><tr><th>27</th><td>81.4</td><td>60.1</td></tr><tr><th>28</th><td>82.4</td><td>61.1</td></tr><tr><th>29</th><td>83.3</td><td>62.0</td></tr><tr><th>30</th><td>83.3</td><td>62.0</td></tr><tr><th>&vellip;</th><td>&vellip;</td><td>&vellip;</td></tr></table>"
      ],
      "text/plain": [
       "50×2 DataFrames.DataFrame\n",
       "│ Row │ s68107 │ s68411 │\n",
       "├─────┼────────┼────────┤\n",
       "│ 1   │ 50.0   │ 38.8   │\n",
       "│ 2   │ 55.5   │ 42.5   │\n",
       "│ 3   │ 55.5   │ 45.3   │\n",
       "│ 4   │ 55.5   │ 47.2   │\n",
       "│ 5   │ 61.1   │ 50.0   │\n",
       "│ 6   │ 61.1   │ 50.9   │\n",
       "│ 7   │ 62.0   │ 52.7   │\n",
       "│ 8   │ 63.8   │ 52.7   │\n",
       "│ 9   │ 64.8   │ 55.5   │\n",
       "│ 10  │ 65.7   │ 55.5   │\n",
       "│ 11  │ 65.7   │ 55.5   │\n",
       "⋮\n",
       "│ 39  │ 90.7   │ 66.6   │\n",
       "│ 40  │ 90.7   │ 67.5   │\n",
       "│ 41  │ 91.6   │ 68.5   │\n",
       "│ 42  │ 91.6   │ 68.5   │\n",
       "│ 43  │ 91.6   │ 69.4   │\n",
       "│ 44  │ 92.5   │ 70.3   │\n",
       "│ 45  │ 92.5   │ 71.2   │\n",
       "│ 46  │ 92.5   │ 75.9   │\n",
       "│ 47  │ 93.5   │ 75.9   │\n",
       "│ 48  │ 93.5   │ 78.7   │\n",
       "│ 49  │ 97.2   │ 81.4   │\n",
       "│ 50  │ 97.2   │ 81.4   │"
      ]
     },
     "execution_count": 181,
     "metadata": {},
     "output_type": "execute_result"
    }
   ],
   "source": [
    "dw = DataFrame(X = dw1s, Y = dw2s)\n",
    "names!(dw, [symbol(\"s68107\"), symbol(\"s68411\")])\n",
    "dc = DataFrame(X = dc1s, Y = dc2s);\n",
    "names!(dc, [symbol(\"s68107\"), symbol(\"s68411\")])"
   ]
  },
  {
   "cell_type": "code",
   "execution_count": 182,
   "metadata": {
    "collapsed": false
   },
   "outputs": [
    {
     "data": {
      "text/plain": [
       "DataFrames.DataFrameRegressionModel{GLM.LinearModel{GLM.LmResp{Array{Float64,1}},GLM.DensePredQR{Float64}},Float64}\n",
       "\n",
       "Formula: s68107 ~ 1 + s68411\n",
       "\n",
       "Coefficients:\n",
       "             Estimate Std.Error  t value Pr(>|t|)\n",
       "(Intercept)  -18.5084   2.38177 -7.77086    <1e-9\n",
       "s68411        1.48283 0.0557945  26.5766   <1e-29\n"
      ]
     },
     "execution_count": 182,
     "metadata": {},
     "output_type": "execute_result"
    }
   ],
   "source": [
    "lm1 = fit(LinearModel, s68107 ~ s68411, dw)"
   ]
  },
  {
   "cell_type": "code",
   "execution_count": 183,
   "metadata": {
    "collapsed": false
   },
   "outputs": [
    {
     "data": {
      "text/plain": [
       "DataFrames.DataFrameRegressionModel{GLM.LinearModel{GLM.LmResp{Array{Float64,1}},GLM.DensePredQR{Float64}},Float64}\n",
       "\n",
       "Formula: s68107 ~ 1 + s68411\n",
       "\n",
       "Coefficients:\n",
       "             Estimate Std.Error   t value Pr(>|t|)\n",
       "(Intercept)  -2.73974   3.59387 -0.762337   0.4496\n",
       "s68411        1.31407 0.0582825   22.5465   <1e-26\n"
      ]
     },
     "execution_count": 183,
     "metadata": {},
     "output_type": "execute_result"
    }
   ],
   "source": [
    "lm1 = fit(LinearModel, s68107 ~ s68411, dc)"
   ]
  }
 ],
 "metadata": {
  "kernelspec": {
   "display_name": "Julia 0.4.5",
   "language": "julia",
   "name": "julia-0.4"
  },
  "language_info": {
   "file_extension": ".jl",
   "mimetype": "application/julia",
   "name": "julia",
   "version": "0.4.5"
  }
 },
 "nbformat": 4,
 "nbformat_minor": 0
}
