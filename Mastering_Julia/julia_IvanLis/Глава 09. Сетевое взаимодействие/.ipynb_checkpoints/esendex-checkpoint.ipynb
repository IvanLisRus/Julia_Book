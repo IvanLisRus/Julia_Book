{
 "cells": [
  {
   "cell_type": "markdown",
   "metadata": {},
   "source": [
    "<div style=\"text-align: left;\"><img src=\"https://www.juliabox.org/assets/img/juliacloudlogo.png\" style=\"margin: 0px 0px 0px 0px; padding-right: 20px;width: 80px; float: left;\" title=\"\" alt=\"\" /></div>\n",
    "<img src=\"http://dmkpress.com/images/cms/thumbs/a5b0aeaa3fa7d6e58d75710c18673bd7ec6d5f6d/978-5-97060-370-3_270_369__100.jpg\" style=\"margin: 0px 0px 5px 20px; width: 100px; float: right;\" title=\"\" alt=\"\" />\n",
    "Всестороннее введение в новый язык программирования для научно-технических вычислений [Julia](http://julialang.org/) в книге Малколма Шеррингтона, Packt Publishing, июль 2015.\n",
    "\n",
    "<h1>Осваиваем язык Julia</h1><br />\n",
    "\n",
    "Совершенствование мастерства в области аналитики и программирования при помощи Julia в целях решения задач комплексной обработки данных\n",
    "<div style=\"text-align: left;font-size:8pt;padding-top:10px;\">Программный код Julia (v0.4.5) протестирован в Windows 8.1/10 и Linux/Lubuntu 16.4</div>\n",
    "<div style=\"text-align: left;\"><h1>Глава 9. Примеры</h1></div>"
   ]
  },
  {
   "cell_type": "markdown",
   "metadata": {},
   "source": [
    "### СМС-сообщения и провайдер esendex"
   ]
  },
  {
   "cell_type": "raw",
   "metadata": {},
   "source": [
    "malcolm> MSG=\"<?xml version'1.0' encoding='UTF-8' ?>\n",
    "<messages>\n",
    "  <accountreference>EX123456</accountreference>\n",
    "  <message>\n",
    "    <to>447777555666</to>\n",
    "    <body>Every message matters</body>\n",
    "  </message>\n",
    "</messages>\n",
    "\n",
    "curl –u malcolm@amisllp.com:passwd –X POST –d $MSG \\\n",
    "  https://api.esendex.com/v1.0/messagedispatcher"
   ]
  },
  {
   "cell_type": "code",
   "execution_count": null,
   "metadata": {
    "collapsed": true
   },
   "outputs": [],
   "source": [
    "#\n",
    "# esendex.jl\n",
    "#\n",
    "\n",
    "using URIParser, Requests\n",
    "\n",
    "eacct = \"EX123456\"\n",
    "uname = \"malcolm@amisllp.com\"\n",
    "pword = \"пароль\"\n",
    "\n",
    "dispatcher = \"api.esendex.com/v1.0/messagedispatcher\"\n",
    "uri = URI(string(https://,uname,'@',pword,'/',dispatcher)\n",
    "\n",
    "message = \"\"\"?xml version'1.0' encoding='UTF-8' ?>\n",
    "<messages>\n",
    "<accountreference>EX123456</accountreference>\n",
    "<message>\n",
    "<to>447777555666</to>\n",
    "<body>Every message matters</body>\n",
    "</message>\n",
    "</messages>\"\"\"\n",
    "\n",
    "post(uri; data = message)"
   ]
  },
  {
   "cell_type": "markdown",
   "metadata": {},
   "source": [
    "### СМС-сообщения и провайдер sms.ru"
   ]
  },
  {
   "cell_type": "code",
   "execution_count": null,
   "metadata": {
    "collapsed": true
   },
   "outputs": [],
   "source": [
    "api_id = \"aaaaaaaa-aaaa-aaaa-aaaa-aaaaaaaaaaaa\"\n",
    "to = \"77777777777\"\n",
    "uri = \"http://sms.ru/sms/send?api_id=$(api_id)&to=$(to)\"\n",
    "text = \"Здравствуй, Мир!\"\n",
    "run(`curl -d \"text=$(text)\" test=1 $(uri)`)"
   ]
  },
  {
   "cell_type": "code",
   "execution_count": null,
   "metadata": {
    "collapsed": true
   },
   "outputs": [],
   "source": [
    "using Requests\n",
    "uri = \"http://sms.ru/sms/send\";\n",
    "message = Dict(\n",
    "           \"api_id\" => \"aaaaaaaa-aaaa-aaaa-aaaa-aaaaaaaaaaaa\", \n",
    "               \"from\"   => \"77777777777\", \n",
    "               \"to\"     => \"77777777777\", \n",
    "               \"text\"   => \"Здравствуй, Мир!\");\n",
    "Requests.post(uri; data = message)"
   ]
  }
 ],
 "metadata": {
  "kernelspec": {
   "display_name": "Julia 0.4.5",
   "language": "julia",
   "name": "julia-0.4"
  },
  "language_info": {
   "file_extension": ".jl",
   "mimetype": "application/julia",
   "name": "julia",
   "version": "0.4.5"
  }
 },
 "nbformat": 4,
 "nbformat_minor": 0
}
