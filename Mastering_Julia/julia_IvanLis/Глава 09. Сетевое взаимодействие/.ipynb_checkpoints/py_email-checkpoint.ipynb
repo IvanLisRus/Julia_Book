{
 "cells": [
  {
   "cell_type": "markdown",
   "metadata": {},
   "source": [
    "<div style=\"text-align: left;\"><img src=\"https://www.juliabox.org/assets/img/juliacloudlogo.png\" style=\"margin: 0px 0px 0px 0px; padding-right: 20px;width: 80px; float: left;\" title=\"\" alt=\"\" /></div>\n",
    "<img src=\"http://dmkpress.com/images/cms/thumbs/a5b0aeaa3fa7d6e58d75710c18673bd7ec6d5f6d/978-5-97060-370-3_270_369__100.jpg\" style=\"margin: 0px 0px 5px 20px; width: 100px; float: right;\" title=\"\" alt=\"\" />\n",
    "Всестороннее введение в новый язык программирования для научно-технических вычислений [Julia](http://julialang.org/) в книге Малколма Шеррингтона, Packt Publishing, июль 2015.\n",
    "\n",
    "<h1>Осваиваем язык Julia</h1><br />\n",
    "\n",
    "Совершенствование мастерства в области аналитики и программирования при помощи Julia в целях решения задач комплексной обработки данных\n",
    "<div style=\"text-align: left;font-size:8pt;padding-top:10px;\">Программный код Julia (v0.4.5) протестирован в Windows 8.1/10 и Linux/Lubuntu 16.4</div>\n",
    "<div style=\"text-align: left;\"><h1>Глава 9. Примеры</h1></div>"
   ]
  },
  {
   "cell_type": "markdown",
   "metadata": {},
   "source": [
    "### Электронная почта"
   ]
  },
  {
   "cell_type": "code",
   "execution_count": null,
   "metadata": {
    "collapsed": true
   },
   "outputs": [],
   "source": [
    "#\n",
    "# py_email.jl\n",
    "#\n",
    "\n",
    "using PyCall;\n",
    "\n",
    "@pyimport smtplib;\n",
    "\n",
    "fromaddr = \"malcolm.sherrington@gmail.com\";\n",
    "toaddrs = \"malcolm@amisllp.com\";\n",
    "\n",
    "messy = \"\"\"From: $fromaddr\n",
    "To: $toaddrs\n",
    "Subject: Проверка SMTP при помощи PyCall\n",
    "\n",
    "Проверка - 1,2,3\n",
    "\"\"\";\n",
    "\n",
    "# Отметим, что пустая строка необходима для различения\n",
    "# заголовка SMTP от текста сообщения.\n",
    "\n",
    "username = fromaddr;\n",
    "password = \"ABCDEF7890\"; # не настоящий пароль\n",
    "\n",
    "server = pycall(smtplib.SMTP,PyAny,\"smtp.gmail.com:587\");\n",
    "server[:ehlo]();\n",
    "server[:starttls]();\n",
    "server[:login](username,password);\n",
    "server[:sendmail](fromaddr,toaddrs,messy);\n",
    "server[:quit](); "
   ]
  }
 ],
 "metadata": {
  "kernelspec": {
   "display_name": "Julia 0.4.5",
   "language": "julia",
   "name": "julia-0.4"
  },
  "language_info": {
   "file_extension": ".jl",
   "mimetype": "application/julia",
   "name": "julia",
   "version": "0.4.5"
  }
 },
 "nbformat": 4,
 "nbformat_minor": 0
}
