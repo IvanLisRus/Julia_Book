{
 "cells": [
  {
   "cell_type": "markdown",
   "metadata": {},
   "source": [
    "<script src=\"https://use.fontawesome.com/2e576da815.js\"></script>"
   ]
  },
  {
   "cell_type": "markdown",
   "metadata": {},
   "source": [
    "<div style=\"text-align: left;\"><img src=\"https://www.juliabox.org/assets/img/juliacloudlogo.png\" style=\"margin: 0px 0px 0px 0px; padding-right: 20px;width: 80px; float: left;\" title=\"\" alt=\"\" /></div>\n",
    "<img src=\"http://dmkpress.com/images/cms/thumbs/a5b0aeaa3fa7d6e58d75710c18673bd7ec6d5f6d/978-5-97060-370-3_270_369__100.jpg\" style=\"margin: 0px 0px 5px 20px; width: 100px; float: right;\" title=\"\" alt=\"\" />\n",
    "Всестороннее введение в новый язык программирования для научно-технических вычислений [Julia](http://julialang.org/) в книге Малколма Шеррингтона, Packt Publishing, июль 2015.\n",
    "\n",
    "<h1>Осваиваем язык Julia</h1><br />\n",
    "\n",
    "Совершенствование мастерства в области аналитики и программирования при помощи Julia в целях решения задач комплексной обработки данных\n",
    "<div style=\"text-align: left;font-size:8pt;padding-top:10px;\">Программный код Julia (v0.4.5) протестирован в Windows 8.1/10 и Linux/Lubuntu 16.4</div>\n",
    "<div style=\"text-align: left;\"><h1>Глава 9. Примеры</h1></div>"
   ]
  },
  {
   "cell_type": "markdown",
   "metadata": {},
   "source": [
    "### Программа Eliza"
   ]
  },
  {
   "cell_type": "markdown",
   "metadata": {},
   "source": [
    "Типичный диалог:\n",
    "\n",
    "<pre>\n",
    "Привет!\n",
    "ЭЛИЗА> Привет! Меня зовут Элиза.\n",
    "Мне нужна помощь.\n",
    "ЭЛИЗА> Я здесь, чтобы помочь Вам.\n",
    "Я так несчастен.\n",
    "ЭЛИЗА> Почему Вы несчастны?\n",
    "Мне трудно справляться с повседневными делами.\n",
    "ЭЛИЗА> Расскажите подробнее...\n",
    "Пока, я перезвоню Вам завтра.\n",
    "ЭЛИЗА> До свидания! Давайте повторим нашу беседу в ближайшее время.\n",
    "</pre>"
   ]
  },
  {
   "cell_type": "code",
   "execution_count": null,
   "metadata": {
    "collapsed": true
   },
   "outputs": [],
   "source": [
    "#\n",
    "# eliza.jl\n",
    "#\n",
    "# Работает с расширением Simple WebSockets в браузере Chrome\n",
    "\n",
    "using HttpServer\n",
    "using WebSockets\n",
    "\n",
    "const SDEF = \"Расскажите подробнее...\";\n",
    "const SBYE = \"До свидания! Давайте повторим нашу беседу в ближайшее время.\";\n",
    "\n",
    "d = Dict();\n",
    "\n",
    "d[\"привет\"]   = \"Привет! Меня зовут Элиза.\";\n",
    "d[\"нет\"]      = \"Будьте добры, об этом по-подробнее.\";\n",
    "d[\"да\"]       = \"Будьте добры, по-подробнее об этом.\";\n",
    "d[\"вы\"]       = \"Давайте не будем говорить обо мне.\";\n",
    "d[\"думаю\"]    = \"Почему Вы так думаете?\";\n",
    "d[\"ненавижу\"] = \"Так, значит, Вы испытываете ненависть к чему-то. Расскажите об этом.\";\n",
    "d[\"что\"]      = \"А почему Вы спрашиваете?\"; \n",
    "d[\"хочу\"]     = \"Я здесь, чтобы помочь Вам разобратьтся в своих желаниях.\";\n",
    "d[\"нужно\"]    = \"Нам всем чего-то не хватает. Это для Вас важно?\";\n",
    "d[\"почему\"]   = \"Запомните, терапия благоприятно отразится на Вас.\";\n",
    "d[\"знаю\"]     = \"Откуда Вам известно это?\";\n",
    "d[\"не могу\"]  = \"Не будьте такими негативными. Больше позитива!\";\n",
    "d[\"never\"]    = \"Не будьте такими негативными. Больше позитива!\";\n",
    "d[\"несчастен\"] = \"Почему Вы несчастны?\";\n",
    "d[\"несчастна\"] = \"Почему Вы несчастны?\";\n",
    "d[\"огорчает\"] = \"Почему Вас это огорчает?\";\n",
    "d[\"нравится\"] = \"Почему Вам это нравится?\";\n",
    "d[\"помогите\"] = \"Я здесь, чтобы помочь Вам.\";\n",
    "d[\"помощь\"]   = \"Я здесь, чтобы Вам помочь.\";\n",
    "\n",
    "wsh = WebSocketHandler() do req, client\n",
    "  looping = true; \n",
    "  while looping\n",
    "    s0 = lowercase(bytestring(read(client)))\n",
    "    s1 = SDEF\n",
    "    if ismatch(r\"^\\s*пока\"i, s0)    \n",
    "      looping = false\n",
    "      s1 = SBYE\n",
    "    else\n",
    "      for k in keys(d)\n",
    "        s = lowercase(k)\n",
    "        if contains(s0, s)\n",
    "          s1 = d[k]\n",
    "          break\n",
    "        end\n",
    "      end\n",
    "    end\n",
    "    write(client, \"ЭЛИЗА> $s1\")\n",
    "  end\n",
    "end\n",
    "    \n",
    "server = Server(wsh)\n",
    "run(server,8080)       # ip\"127.0.0.1\""
   ]
  }
 ],
 "metadata": {
  "kernelspec": {
   "display_name": "Julia 0.4.5",
   "language": "julia",
   "name": "julia-0.4"
  },
  "language_info": {
   "file_extension": ".jl",
   "mimetype": "application/julia",
   "name": "julia",
   "version": "0.4.5"
  }
 },
 "nbformat": 4,
 "nbformat_minor": 0
}
