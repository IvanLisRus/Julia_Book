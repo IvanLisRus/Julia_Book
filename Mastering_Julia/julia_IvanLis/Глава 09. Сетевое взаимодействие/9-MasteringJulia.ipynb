{
 "cells": [
  {
   "cell_type": "markdown",
   "metadata": {},
   "source": [
    "<script src=\"https://use.fontawesome.com/2e576da815.js\"></script>"
   ]
  },
  {
   "cell_type": "markdown",
   "metadata": {},
   "source": [
    "<div style=\"text-align: left;\"><img src=\"https://www.juliabox.org/assets/img/juliacloudlogo.png\" style=\"margin: 0px 0px 0px 0px; padding-right: 20px;width: 80px; float: left;\" title=\"\" alt=\"\" /></div>\n",
    "<img src=\"http://dmkpress.com/images/cms/thumbs/a5b0aeaa3fa7d6e58d75710c18673bd7ec6d5f6d/978-5-97060-370-3_270_369__100.jpg\" style=\"margin: 0px 0px 5px 20px; width: 100px; float: right;\" title=\"\" alt=\"\" />\n",
    "Всестороннее введение в новый язык программирования для научно-технических вычислений [Julia](http://julialang.org/) в книге Малколма Шеррингтона, Packt Publishing, июль 2015.\n",
    "\n",
    "<h1>Осваиваем язык Julia</h1><br />\n",
    "\n",
    "Совершенствование мастерства в области аналитики и программирования при помощи Julia в целях решения задач комплексной обработки данных\n",
    "<div style=\"text-align: left;font-size:8pt;padding-top:10px;\">Программный код Julia (v0.4.5) протестирован в Windows 8.1/10 и Linux/Lubuntu 16.4</div>\n",
    "<div style=\"text-align: left;\"><h1>Глава 9. Сетевое взаимодействие</h1></div>"
   ]
  },
  {
   "cell_type": "markdown",
   "metadata": {
    "collapsed": true
   },
   "source": [
    "## Сокеты и серверы\n",
    "### Сокеты UDP и TCP в Julia"
   ]
  },
  {
   "cell_type": "code",
   "execution_count": 1,
   "metadata": {
    "collapsed": false
   },
   "outputs": [
    {
     "data": {
      "text/plain": [
       "true"
      ]
     },
     "execution_count": 1,
     "metadata": {},
     "output_type": "execute_result"
    }
   ],
   "source": [
    "s1 = UDPSocket(); bind(s1,ip\"127.0.0.1\",8001)"
   ]
  },
  {
   "cell_type": "code",
   "execution_count": 2,
   "metadata": {
    "collapsed": false
   },
   "outputs": [
    {
     "data": {
      "text/plain": [
       "true"
      ]
     },
     "execution_count": 2,
     "metadata": {},
     "output_type": "execute_result"
    }
   ],
   "source": [
    "s2 = UDPSocket(); bind(s2,ip\"127.0.0.1\",8002)"
   ]
  },
  {
   "cell_type": "code",
   "execution_count": 3,
   "metadata": {
    "collapsed": false
   },
   "outputs": [
    {
     "data": {
      "text/plain": [
       "\"2016-05-26T13:59:26\""
      ]
     },
     "execution_count": 3,
     "metadata": {},
     "output_type": "execute_result"
    }
   ],
   "source": [
    "send(s2,ip\"127.0.0.1\",8001,string(now()))\n",
    "msg = recv(s1);\n",
    "bytestring(msg)"
   ]
  },
  {
   "cell_type": "code",
   "execution_count": 4,
   "metadata": {
    "collapsed": true
   },
   "outputs": [],
   "source": [
    "close(s2);\n",
    "close(s1); "
   ]
  },
  {
   "cell_type": "markdown",
   "metadata": {},
   "source": [
    "### \"Зазеркальный\" эхо-сервер "
   ]
  },
  {
   "cell_type": "code",
   "execution_count": 8,
   "metadata": {
    "collapsed": false
   },
   "outputs": [
    {
     "data": {
      "text/plain": [
       "TCPSocket(open, 0 bytes waiting)"
      ]
     },
     "execution_count": 8,
     "metadata": {},
     "output_type": "execute_result"
    }
   ],
   "source": [
    "sock = connect(\"ljuug.org\",80)"
   ]
  },
  {
   "cell_type": "code",
   "execution_count": 9,
   "metadata": {
    "collapsed": false
   },
   "outputs": [
    {
     "data": {
      "text/plain": [
       "ip\"83.170.83.1\""
      ]
     },
     "execution_count": 9,
     "metadata": {},
     "output_type": "execute_result"
    }
   ],
   "source": [
    "close(sock);\n",
    "getaddrinfo(\"ljuug.org\")"
   ]
  },
  {
   "cell_type": "code",
   "execution_count": null,
   "metadata": {
    "collapsed": false
   },
   "outputs": [
    {
     "name": "stderr",
     "output_type": "stream",
     "text": [
      "too many arguments\n"
     ]
    }
   ],
   "source": [
    "#! /Users/malcolm/bin/julia -q\n",
    "#\n",
    "# echos.jl\n",
    "#\n",
    "# Файл приведен для иллюстрации; запускается только из консоли\n",
    "\n",
    "using ArgParse\n",
    "\n",
    "const ECHO_PORT = 3000\n",
    "const ECHO_HOST = \"localhost\"\n",
    "\n",
    "function parse_commandline()\n",
    "  s = ArgParseSettings()\n",
    "  @add_arg_table s begin\n",
    "  \"--server\", \"-s\"\n",
    "    help = \"имя хоста эхо-сервера\"\n",
    "    default = ECHO_HOST\n",
    "  \"--port\", \"-p\"\n",
    "    help = \"номер порта, на котором выполняется служба\"\n",
    "    arg_type = Int\n",
    "    default = ECHO_PORT\n",
    "  \"--quiet\", \"-q\"\n",
    "    help = \"тихое выполнение, то есть без вывода сервера\"\n",
    "    action = :store_true\n",
    "  end\n",
    "  return parse_args(s)\n",
    "end\n",
    "\n",
    "pa = parse_commandline()\n",
    "\n",
    "ehost = pa[\"server\"]\n",
    "eport = pa[\"port\"]\n",
    "vflag = !pa[\"quiet\"]\n",
    "\n",
    "pp =  (ehost == \"localhost\" ? \"\" : \"$ehost>\")\n",
    "\n",
    "if vflag println(\"Прослушивание на порту $eport\") end\n",
    "server = listen(eport)\n",
    "while true\n",
    "  conn = accept(server)\n",
    "  @async begin\n",
    "    try\n",
    "      while true\n",
    "        s0 = readline(conn)\n",
    "        s1 = chomp(s0) \n",
    "        if length(chomp(s1)) > 0 \n",
    "          s2 = reverse(s1)\n",
    "          if s2 == \".\" \n",
    "            println(\"Готово.\")\n",
    "            close(conn)\n",
    "            exit(0)\n",
    "          else\n",
    "            write(conn,string(pp,s2,\"\\r\\n\"))\n",
    "          end\n",
    "        end\n",
    "      end\n",
    "    catch err\n",
    "      println(\"Соединение утеряно:  $err\")\n",
    "      exit(1)\n",
    "    end\n",
    "  end\n",
    "end"
   ]
  },
  {
   "cell_type": "code",
   "execution_count": null,
   "metadata": {
    "collapsed": true
   },
   "outputs": [],
   "source": [
    "# запускаем эхо-сервер\n",
    "# работает из консоли\n",
    "\n",
    "echos = joinpath(homedir(),\"julia_projects\",\"code\",\"echos.jl\");\n",
    "\n",
    "include(echos)  # run(`julia $(echos)`)"
   ]
  },
  {
   "cell_type": "code",
   "execution_count": null,
   "metadata": {
    "collapsed": true
   },
   "outputs": [],
   "source": [
    "# во 2-ом экземпляре консоли выполняем следующее:\n",
    "\n",
    "sock = connect(3000)\n",
    "\n",
    "@async while true\n",
    "  write(STDOUT,readline(sock))\n",
    "end\n",
    "\n",
    "path = joinpath(homedir(),\"julia_projects\",\"Alice\",\"Father-William.txt\");\n",
    "fw = readall(path);\n",
    "\n",
    "println(sock,fw);"
   ]
  },
  {
   "cell_type": "markdown",
   "metadata": {},
   "source": [
    "### Именованные каналы"
   ]
  },
  {
   "cell_type": "markdown",
   "metadata": {},
   "source": [
    "<i class=\"fa fa-linux\" aria-hidden=\"true\"></i>\n",
    "<i class=\"fa fa-apple\" aria-hidden=\"true\"></i>"
   ]
  },
  {
   "cell_type": "code",
   "execution_count": null,
   "metadata": {
    "collapsed": true
   },
   "outputs": [],
   "source": [
    "epipe = \"/tmp/epipe\"; # => Определить файл в качестве именованного канала\n",
    "server = listen(epipe)"
   ]
  },
  {
   "cell_type": "code",
   "execution_count": null,
   "metadata": {
    "collapsed": true
   },
   "outputs": [],
   "source": [
    "np = connect(\"/tmp/epipe\")"
   ]
  },
  {
   "cell_type": "code",
   "execution_count": null,
   "metadata": {
    "collapsed": true
   },
   "outputs": [],
   "source": [
    "@async while true\n",
    "  write(STDOUT,readline(np))\n",
    "end"
   ]
  },
  {
   "cell_type": "code",
   "execution_count": null,
   "metadata": {
    "collapsed": true
   },
   "outputs": [],
   "source": [
    "#! /Users/malcolm/bin/julia -q\n",
    "#\n",
    "# epipe.jl\n",
    "#\n",
    "# Выполняет обработку нескольких команд\n",
    "# использование: ./echo.jl [ -q ] [ -p <port> ]  [-h <host> ] \n",
    "# только для UNIX-подобных ОС (!)\n",
    "\n",
    "epipe = \"/tmp/epipe\" \n",
    "\n",
    "server = listen(epipe)\n",
    "while true\n",
    "  conn = accept(server)\n",
    "  @async begin\n",
    "    try\n",
    "      while true\n",
    "        s0 = readline(conn)\n",
    "        s1 = chomp(s0) \n",
    "        if length(chomp(s1)) > 0 \n",
    "          s2 = reverse(s1)\n",
    "          if s2 == \".\" \n",
    "            println(\"Готово.\")\n",
    "            close(conn)\n",
    "            exit(0)\n",
    "          else\n",
    "            write(conn,string(s2,\"\\r\\n\"))\n",
    "          end\n",
    "        end\n",
    "      end\n",
    "    catch err\n",
    "      println(\"Соединение утеряно:  $err\")\n",
    "      exit(1)\n",
    "    end\n",
    "  end\n",
    "end"
   ]
  },
  {
   "cell_type": "code",
   "execution_count": null,
   "metadata": {
    "collapsed": true
   },
   "outputs": [],
   "source": [
    "println(np,\"You are old Father William\");\n",
    "println(np,\".\");   # => Сигнализирует о закрытии сервера "
   ]
  },
  {
   "cell_type": "markdown",
   "metadata": {},
   "source": [
    "## Работа с Веб\n",
    "### Веб-служба на основе TCP"
   ]
  },
  {
   "cell_type": "code",
   "execution_count": 6,
   "metadata": {
    "collapsed": false
   },
   "outputs": [
    {
     "data": {
      "text/plain": [
       "TCPSocket(open, 0 bytes waiting)"
      ]
     },
     "execution_count": 6,
     "metadata": {},
     "output_type": "execute_result"
    },
    {
     "name": "stdout",
     "output_type": "stream",
     "text": [
      "HTTP/1.1 200 OK\n",
      "Content-type: text/plain; charset=us-ascii\n",
      "There's no future in time travel.\n"
     ]
    }
   ],
   "source": [
    "function qserver(sock::Integer)\n",
    "  path = joinpath(homedir(),\"julia_projects\",\"data\",\"quotes.txt\");\n",
    "  fin = open(path);\n",
    "  header = \"\"\"HTTP/1.1 200 OK\n",
    "           Content-type: text/plain; charset=us-ascii\n",
    "           \"\"\" ;\n",
    "\n",
    "  qa = readlines(fin);\n",
    "  close(fin);\n",
    "  qn = length(qa);\n",
    "  @async begin\n",
    "    server = listen(sock)\n",
    "    while true\n",
    "      qi = rand(1:qn)\n",
    "      qs = chomp(qa[qi])\n",
    "      sock = accept(server)\n",
    "      println(header*qs)\n",
    "    end\n",
    "  end\n",
    "end\n",
    "\n",
    "qserver(8008); # Выполнять его на порту 8000, т.к. порт 80 может быть занят\n",
    "conn = connect(8008)"
   ]
  },
  {
   "cell_type": "markdown",
   "metadata": {},
   "source": [
    "### Группа пакетов JuliaWeb"
   ]
  },
  {
   "cell_type": "code",
   "execution_count": 2,
   "metadata": {
    "collapsed": false
   },
   "outputs": [
    {
     "data": {
      "text/plain": [
       "Response(200 OK, 18 headers, 140432 bytes in body)"
      ]
     },
     "execution_count": 2,
     "metadata": {},
     "output_type": "execute_result"
    }
   ],
   "source": [
    "using Requests;\n",
    "ljuug = \"http://www.meetup.com/London-Julia-User-Group/\";\n",
    "resp = get(ljuug)"
   ]
  },
  {
   "cell_type": "code",
   "execution_count": 3,
   "metadata": {
    "collapsed": false
   },
   "outputs": [
    {
     "data": {
      "text/plain": [
       "1x8 Array{Symbol,2}:\n",
       " :status  :headers  :cookies  :data  :request  :history  :finished  :requests"
      ]
     },
     "execution_count": 3,
     "metadata": {},
     "output_type": "execute_result"
    }
   ],
   "source": [
    "fieldnames(resp)'"
   ]
  },
  {
   "cell_type": "code",
   "execution_count": 4,
   "metadata": {
    "collapsed": false
   },
   "outputs": [
    {
     "data": {
      "text/plain": [
       "Dict{AbstractString,AbstractString} with 18 entries:\n",
       "  \"Connection\"        => \"keep-alive\"\n",
       "  \"X-Meetup-server\"   => \"app16\"\n",
       "  \"Date\"              => \"Thu, 26 May 2016 14:12:23 GMT\"\n",
       "  \"http_minor\"        => \"1\"\n",
       "  \"Keep-Alive\"        => \"1\"\n",
       "  \"status_code\"       => \"200\"\n",
       "  \"Transfer-Encoding\" => \"chunked\"\n",
       "  \"Cache-Control\"     => \"no-cache\"\n",
       "  \"Server\"            => \"cloudflare-nginx\"\n",
       "  \"Expires\"           => \"0\"\n",
       "  \"Vary\"              => \"Accept-Encoding,User-Agent,Accept-Language\"\n",
       "  \"Pragma\"            => \"No-cache\"\n",
       "  \"http_major\"        => \"1\"\n",
       "  \"P3P\"               => \"CP=\\\"CAO DSP LAW CUR DEVa TAIa PSAi PSDi OTPi OUR IND…\n",
       "  \"Content-Type\"      => \"text/html;charset=UTF-8\"\n",
       "  \"X-Frame-Options\"   => \"sameorigin\"\n",
       "  \"Content-Language\"  => \"en-US\"\n",
       "  \"CF-RAY\"            => \"2a91d25edb0a278c-FRA\""
      ]
     },
     "execution_count": 4,
     "metadata": {},
     "output_type": "execute_result"
    }
   ],
   "source": [
    "resp.headers"
   ]
  },
  {
   "cell_type": "code",
   "execution_count": 5,
   "metadata": {
    "collapsed": false
   },
   "outputs": [
    {
     "data": {
      "text/plain": [
       "\"\\n\\n\\n\\n\\n\\n\\n\\n\\n\\n<!DOCTYPE html>\\n\\n\\n<html xmlns=\\\"http://www.w3.org/1999/xhtml\\\"\\n xmlns:fb=\\\"http://www.facebook.com/2008/fbml\\\" lang=\\\"en\\\">\\n\\n\\n\\n\\n\\n\\n\\n\\n\\n\\n<head>\\n<meta http-equiv=\\\"X-UA-Compatible\\\" content=\\\"IE=edge\\\" />\\n<meta http-equiv=\\\"Content-Type\\\" content=\\\"text/html; charset=UTF-8\\\" />\\n<meta http-equiv=\\\"Content-Language\\\" content=\\\"en\\\" />\\n<meta name=\\\"verify-v1\\\" content=\\\"h5EhuAEkLFlZmMxwpH5wnRaoDEmqYCCEUE+FLcrRNvE=\\\" />\\n<meta name=\\\"viewport\\\" content=\\\"width=995\\\" />\\n\\n<title>London Julia User Group (London, England)\\n\\n\""
      ]
     },
     "execution_count": 5,
     "metadata": {},
     "output_type": "execute_result"
    }
   ],
   "source": [
    "bytestring(resp.data)[1:500] "
   ]
  },
  {
   "cell_type": "markdown",
   "metadata": {},
   "source": [
    "### Расширенный сервер \"цитат\""
   ]
  },
  {
   "cell_type": "code",
   "execution_count": null,
   "metadata": {
    "collapsed": false
   },
   "outputs": [
    {
     "name": "stdout",
     "output_type": "stream",
     "text": [
      "Прослушивание на порту 0.0.0.0:8000...\n"
     ]
    }
   ],
   "source": [
    "#\n",
    "# quotes_srv.jl\n",
    "#\n",
    "\n",
    "using HttpServer;\n",
    "using SQLite;\n",
    "\n",
    "function db()\n",
    "  cd(joinpath(homedir(),\"julia_projects\",\"data\"));\n",
    "  \n",
    "  db = SQLite.DB(\"quotes.db\");\n",
    "\n",
    "  res = Any[];\n",
    "  try\n",
    "    res = query(db,\"select count(*) from quotes\");\n",
    "  catch\n",
    "    error(\"Таблица цитат quotes отсутствует\");\n",
    "  end\n",
    "\n",
    "  nq = isnull(res.data[1][1]) ? 0 : get(res.data[1][1]);\n",
    "\n",
    "  @assert nq > 0;\n",
    "\n",
    "  htmlH = \"\"\"<!DOCTYPE html>\n",
    "  <html lang='ru-RU'>\n",
    "  <head>\n",
    "  <title>Сервер цитат Julia</title>\n",
    "  </head>\n",
    "  <body>\"\"\";\n",
    "    \n",
    "  htmlF= \"</body></html>\";\n",
    "  \n",
    "  recs = Any     \n",
    "  nrecs = 0\n",
    "  while nrecs == 0\n",
    "    qid = rand(1:nq);\n",
    "    sql  = \"select q.author,c.catname,q.quoname from quotes q \";\n",
    "    sql *= \"join categories c on q.cid = c.id and q.id = $qid\";\n",
    "    recs = query(db,sql);\n",
    "    nrecs, nflds = size(recs)\n",
    "  end    \n",
    "\n",
    "  res = convert(Array,recs.data)\n",
    "  author  = isnull(res[1][1]) ? \"\" : get(res[1][1]);\n",
    "  catname = isnull(res[2][1]) ? \"\" : get(res[2][1]);\n",
    "  quotext = isnull(res[3][1]) ? \"\" : get(res[3][1]);    \n",
    "    \n",
    "  htmlB = \"<p>$quotext<br/><i>$author ($catname)</i></p>\";\n",
    "  string(htmlH,htmlB,htmlF);    \n",
    "    \n",
    "end\n",
    "\n",
    "http = HttpHandler() do req::Request, res::Response\n",
    "    resource = req.resource[2:end]\n",
    "    re = r\"(?<prop>\\w+=\\w+)+|(?<num>\\d+$)|(?<alphanum>[^?&]+$)\"i    \n",
    "    \n",
    "    m = match(re,resource)\n",
    "    if m == nothing return Response(db()) end   # по умолчанию - случайная цитата\n",
    "    if m[:num] != nothing return Response(\"номер записи\") end\n",
    "    if m[:alphanum] != nothing return Response(\"страница\") end\n",
    "    if m[:prop] != nothing return Response(\"строка запроса\") end\n",
    "\n",
    "    Response(404)\n",
    "end\n",
    "\n",
    "http.events[\"error\"]  = (client, err) -> println(err)\n",
    "http.events[\"listen\"] = (port)        -> println(\"Прослушивание на порту $port...\")\n",
    "\n",
    "server = Server(http)\n",
    "run(server, 8000)"
   ]
  },
  {
   "cell_type": "markdown",
   "metadata": {},
   "source": [
    "### Технология WebSocket\n",
    "#### Программа Eliza"
   ]
  },
  {
   "cell_type": "markdown",
   "metadata": {},
   "source": [
    "Типичный диалог:\n",
    "\n",
    "<pre>\n",
    "Привет!\n",
    "ЭЛИЗА> Привет! Меня зовут Элиза.\n",
    "Мне нужна помощь.\n",
    "ЭЛИЗА> Я здесь, чтобы помочь Вам.\n",
    "Я так несчастен.\n",
    "ЭЛИЗА> Почему Вы несчастны?\n",
    "Мне трудно справляться с повседневными делами.\n",
    "ЭЛИЗА> Расскажите подробнее...\n",
    "Пока, я перезвоню Вам завтра.\n",
    "ЭЛИЗА> До свидания! Давайте повторим нашу беседу в ближайшее время.\n",
    "</pre>"
   ]
  },
  {
   "cell_type": "code",
   "execution_count": null,
   "metadata": {
    "collapsed": true
   },
   "outputs": [],
   "source": [
    "#\n",
    "# eliza.jl\n",
    "#\n",
    "# Работает с расширением Simple WebSockets в браузере Chrome\n",
    "\n",
    "using HttpServer\n",
    "using WebSockets\n",
    "\n",
    "const SDEF = \"Расскажите подробнее...\";\n",
    "const SBYE = \"До свидания! Давайте повторим нашу беседу в ближайшее время.\";\n",
    "\n",
    "d = Dict();\n",
    "\n",
    "d[\"привет\"]   = \"Привет! Меня зовут Элиза.\";\n",
    "d[\"нет\"]      = \"Будьте добры, об этом по-подробнее.\";\n",
    "d[\"да\"]       = \"Будьте добры, по-подробнее об этом.\";\n",
    "d[\"вы\"]       = \"Давайте не будем говорить обо мне.\";\n",
    "d[\"думаю\"]    = \"Почему Вы так думаете?\";\n",
    "d[\"ненавижу\"] = \"Так, значит, Вы испытываете ненависть к чему-то. Расскажите об этом.\";\n",
    "d[\"что\"]      = \"А почему Вы спрашиваете?\"; \n",
    "d[\"хочу\"]     = \"Я здесь, чтобы помочь Вам разобратьтся в своих желаниях.\";\n",
    "d[\"нужно\"]    = \"Нам всем чего-то не хватает. Это для Вас важно?\";\n",
    "d[\"почему\"]   = \"Запомните, терапия благоприятно отразится на Вас.\";\n",
    "d[\"знаю\"]     = \"Откуда Вам известно это?\";\n",
    "d[\"не могу\"]  = \"Не будьте такими негативными. Больше позитива!\";\n",
    "d[\"never\"]    = \"Не будьте такими негативными. Больше позитива!\";\n",
    "d[\"несчастен\"] = \"Почему Вы несчастны?\";\n",
    "d[\"несчастна\"] = \"Почему Вы несчастны?\";\n",
    "d[\"огорчает\"] = \"Почему Вас это огорчает?\";\n",
    "d[\"нравится\"] = \"Почему Вам это нравится?\";\n",
    "d[\"помогите\"] = \"Я здесь, чтобы помочь Вам.\";\n",
    "d[\"помощь\"]   = \"Я здесь, чтобы Вам помочь.\";\n",
    "\n",
    "wsh = WebSocketHandler() do req,client\n",
    "  looping = true; \n",
    "  while looping\n",
    "    s0 = lowercase(bytestring(read(client)))\n",
    "    s1 = SDEF\n",
    "    if ismatch(r\"^\\s*пока\"i, s0)    \n",
    "      looping = false\n",
    "      s1 = SBYE\n",
    "    else\n",
    "      for k in keys(d)\n",
    "        s = lowercase(k)\n",
    "        if contains(s0, s)\n",
    "          s1 = d[k]\n",
    "          break\n",
    "        end\n",
    "      end\n",
    "    end\n",
    "    write(client, \"ЭЛИЗА> $s1\")\n",
    "  end\n",
    "end\n",
    "    \n",
    "server = Server(wsh)\n",
    "run(server,8080)       # ip\"127.0.0.1\""
   ]
  },
  {
   "cell_type": "markdown",
   "metadata": {},
   "source": [
    "## Обмен сообщениями\n",
    "### Электронная почта"
   ]
  },
  {
   "cell_type": "code",
   "execution_count": null,
   "metadata": {
    "collapsed": true
   },
   "outputs": [],
   "source": [
    "#\n",
    "# py_email.jl\n",
    "#\n",
    "\n",
    "using PyCall;\n",
    "\n",
    "@pyimport smtplib;\n",
    "\n",
    "fromaddr = \"malcolm.sherrington@gmail.com\";\n",
    "toaddrs = \"malcolm@amisllp.com\";\n",
    "\n",
    "messy = \"\"\"From: $fromaddr\n",
    "To: $toaddrs\n",
    "Subject: Проверка SMTP при помощи PyCall\n",
    "\n",
    "Проверка - 1,2,3\n",
    "\"\"\";\n",
    "\n",
    "# Отметим, что пустая строка необходима для различения\n",
    "# заголовка SMTP от текста сообщения.\n",
    "\n",
    "username = fromaddr;\n",
    "password = \"ABCDEF7890\"; # ненастоящий пароль\n",
    "\n",
    "server = pycall(smtplib.SMTP,PyAny,\"smtp.gmail.com:587\");\n",
    "server[:ehlo]();\n",
    "server[:starttls]();\n",
    "server[:login](username,password);\n",
    "server[:sendmail](fromaddr,toaddrs,messy);\n",
    "server[:quit](); "
   ]
  },
  {
   "cell_type": "markdown",
   "metadata": {},
   "source": [
    "### Социальная сеть Twitter"
   ]
  },
  {
   "cell_type": "code",
   "execution_count": null,
   "metadata": {
    "collapsed": true
   },
   "outputs": [],
   "source": [
    "using Twitter;\n",
    "\n",
    "twitterauth(\"6nOtpXmf...\",\n",
    "            \"sES5Zlj096S...\",\n",
    "            \"98689850-Hj...\",\n",
    "            \"UroqCVpWKIt...\")"
   ]
  },
  {
   "cell_type": "markdown",
   "metadata": {},
   "source": [
    "<pre>\n",
    "Twitter.TWCRED(\"6nOtpXmf...\",\n",
    "            \"sES5Zlj096S...\",\n",
    "            \"98689850-Hj...\",\n",
    "            \"UroqCVpWKIt...\")\n",
    "</pre>"
   ]
  },
  {
   "cell_type": "code",
   "execution_count": null,
   "metadata": {
    "collapsed": true
   },
   "outputs": [],
   "source": [
    "settings = get_account_settings();\n",
    "twit_name = settings[\"screen_name\"];\n",
    "println(\"Имя учетной записи: $twit_name\");\n",
    "home_timeline = get_home_timeline();"
   ]
  },
  {
   "cell_type": "code",
   "execution_count": null,
   "metadata": {
    "collapsed": true
   },
   "outputs": [],
   "source": [
    "typeof(home_timeline)   # => Array{TWEETS,1}"
   ]
  },
  {
   "cell_type": "code",
   "execution_count": null,
   "metadata": {
    "collapsed": true
   },
   "outputs": [],
   "source": [
    "length(home_timeline)   # => 20 "
   ]
  },
  {
   "cell_type": "code",
   "execution_count": null,
   "metadata": {
    "collapsed": true
   },
   "outputs": [],
   "source": [
    "fieldnames(home_timeline[1])"
   ]
  },
  {
   "cell_type": "markdown",
   "metadata": {},
   "source": [
    "<pre>\n",
    "29-element Array{Symbol,1}:\n",
    " :contributors\n",
    " :coordinates\n",
    " :created_at\n",
    " :current_user_retweet\n",
    " :entities\n",
    " :favorite_count\n",
    " :favorited\n",
    " :filter_level\n",
    " :id\n",
    " :id_str\n",
    " :in_reply_to_screen_name\n",
    " :in_reply_to_status_id\n",
    " :in_reply_to_status_id_str\n",
    " :in_reply_to_user_id\n",
    " :in_reply_to_user_id_str\n",
    " :lang\n",
    " :place\n",
    " :possibly_sensitive\n",
    " :scopes\n",
    " :retweet_count\n",
    " :retweeted\n",
    " :retweeted_status\n",
    " :source\n",
    " :text\n",
    " :truncated\n",
    " :user\n",
    " :withheld_copyright\n",
    " :withheld_in_countries\n",
    " :withheld_scope\n",
    " </pre>"
   ]
  },
  {
   "cell_type": "code",
   "execution_count": null,
   "metadata": {
    "collapsed": true
   },
   "outputs": [],
   "source": [
    "for i in 1:length(home_timeline)\n",
    "  df = DataFrame(home_timeline[i])\n",
    "  user = df[:user][1][\"name\"]\n",
    "  created = df[:created_at][1]\n",
    "  text = df[:text]\n",
    "  @printf \"%2d %s : %s =>\\n%s\\n\\n\" i user created text\n",
    "end"
   ]
  },
  {
   "cell_type": "markdown",
   "metadata": {},
   "source": [
    "### СМС-сообщения и провайдер esendex"
   ]
  },
  {
   "cell_type": "raw",
   "metadata": {},
   "source": [
    "malcolm> MSG=\"<?xml version'1.0' encoding='UTF-8' ?>\n",
    "<messages>\n",
    "  <accountreference>EX123456</accountreference>\n",
    "  <message>\n",
    "    <to>447777555666</to>\n",
    "    <body>Every message matters</body>\n",
    "  </message>\n",
    "</messages>\n",
    "\n",
    "curl –u malcolm@amisllp.com:passwd –X POST –d $MSG \\\n",
    "  https://api.esendex.com/v1.0/messagedispatcher"
   ]
  },
  {
   "cell_type": "code",
   "execution_count": null,
   "metadata": {
    "collapsed": true
   },
   "outputs": [],
   "source": [
    "#\n",
    "# esendex.jl\n",
    "#\n",
    "\n",
    "using URIParser, Requests\n",
    "\n",
    "eacct = \"EX123456\"\n",
    "uname = \"malcolm@amisllp.com\"\n",
    "pword = \"пароль\"\n",
    "\n",
    "dispatcher = \"api.esendex.com/v1.0/messagedispatcher\"\n",
    "uri = URI(string(https://,uname,'@',pword,'/',dispatcher)\n",
    "\n",
    "message = \"\"\"?xml version'1.0' encoding='UTF-8' ?>\n",
    "<messages>\n",
    "<accountreference>EX123456</accountreference>\n",
    "<message>\n",
    "<to>447777555666</to>\n",
    "<body>Every message matters</body>\n",
    "</message>\n",
    "</messages>\"\"\"\n",
    "\n",
    "post(uri; data = message)"
   ]
  },
  {
   "cell_type": "markdown",
   "metadata": {},
   "source": [
    "### СМС-сообщения и провайдер sms.ru"
   ]
  },
  {
   "cell_type": "code",
   "execution_count": null,
   "metadata": {
    "collapsed": true
   },
   "outputs": [],
   "source": [
    "api_id = \"aaaaaaaa-aaaa-aaaa-aaaa-aaaaaaaaaaaa\"\n",
    "to = \"77777777777\"\n",
    "uri = \"http://sms.ru/sms/send?api_id=$(api_id)&to=$(to)\"\n",
    "text = \"Здравствуй, Мир!\"\n",
    "run(`curl -d \"text=$(text)\" test=1 $(uri)`)"
   ]
  },
  {
   "cell_type": "code",
   "execution_count": null,
   "metadata": {
    "collapsed": true
   },
   "outputs": [],
   "source": [
    "#\n",
    "# sms_ru.jl\n",
    "#\n",
    "\n",
    "using Requests\n",
    "uri = \"http://sms.ru/sms/send\";\n",
    "message = Dict(\n",
    "           \"api_id\" => \"aaaaaaaa-aaaa-aaaa-aaaa-aaaaaaaaaaaa\", \n",
    "               \"from\"   => \"77777777777\", \n",
    "               \"to\"     => \"77777777777\", \n",
    "               \"text\"   => \"Здравствуй, Мир!\");\n",
    "Requests.post(uri; data = message)"
   ]
  },
  {
   "cell_type": "markdown",
   "metadata": {},
   "source": [
    "## Облачные службы\n",
    "### Пакет AWS.jl"
   ]
  },
  {
   "cell_type": "markdown",
   "metadata": {},
   "source": [
    "Конфигурационный файл config.jl"
   ]
  },
  {
   "cell_type": "code",
   "execution_count": null,
   "metadata": {
    "collapsed": true
   },
   "outputs": [],
   "source": [
    "ec2_ami = \"ami-0abcdef\"; # Указать AMI для использования.\n",
    "ec2_install_julia = true; # Если true, то установить \n",
    "ec2_sshkey = \"xxxxx\"; # Пара ключей SSH для использования\n",
    "ec2_sshkey_file = \"/home/malcolm/keys/keyfile.pem\" # Размещение приватного ключа\n",
    "ec2_insttype = \"m1.large\"; # Тип экземпляра AWS \n",
    "ec2_instnum = 2l # Число экземпляров\n",
    "workers_per_instance = 8; # Рабочих процессов на экземпляр\n",
    "ec2_julia_dir = \"/home/aalcolm/julia/usr/bin\" # Путь установки Julia\n",
    "ec2_clustername = \"mycluster\" # Имя кластера EC2. "
   ]
  },
  {
   "cell_type": "code",
   "execution_count": null,
   "metadata": {
    "collapsed": true
   },
   "outputs": [],
   "source": [
    "using AWS, AWS.S3\n",
    "\n",
    "# include(\"config.jl\")\n",
    "\n",
    "env = AWSEnv(timeout = 90.0)\n",
    "bkt = \"amisllp_bucket_1\"; # Имя должно быть \"глобально\" уникальным\n",
    "acl = S3.S3_ACL(); acl.acl=\"private\"\n",
    "resp = S3.create_bkt(env, bkt, acl=acl)\n",
    "resp = S3.put_object(env, bkt, \"first_file\", \"Hi there\") "
   ]
  },
  {
   "cell_type": "code",
   "execution_count": null,
   "metadata": {
    "collapsed": true
   },
   "outputs": [],
   "source": [
    "println(\"$(resp.http_code), $(resp.obj)\")"
   ]
  },
  {
   "cell_type": "code",
   "execution_count": null,
   "metadata": {
    "collapsed": true
   },
   "outputs": [],
   "source": [
    "resp = S3.put_object(env, bkt, \"second_file\", \"Blue Eyes \")\n",
    "resp = S3.get_bkt(env, bkt)\n",
    "resp = S3.get_object(env, bkt, \"first_file\")\n",
    "\n",
    "myfiles = [S3.ObjectType(\"file1\"), S3.ObjectType(\"file2\")]\n",
    "\n",
    "resp = S3.del_object_multi(env, bkt,\n",
    "S3.DeleteObjectsType(myfiles))\n",
    "resp = S3.del_bkt(env, bkt) "
   ]
  },
  {
   "cell_type": "markdown",
   "metadata": {},
   "source": [
    "### Платформа Google Cloud"
   ]
  },
  {
   "cell_type": "code",
   "execution_count": 2,
   "metadata": {
    "collapsed": false
   },
   "outputs": [
    {
     "name": "stdout",
     "output_type": "stream",
     "text": [
      "Изображение успешно записано на диск.\n"
     ]
    }
   ],
   "source": [
    "# \n",
    "# paral_jset.jl\n",
    "#\n",
    "\n",
    "function create_pgmfile(img, outf::AbstractString)\n",
    "  s = open(outf, \"w\")\n",
    "  write(s, \"P5\\n\")\n",
    "  n, m = size(img)\n",
    "  write(s, \"$m $n 255\\n\")\n",
    "  for i=1:n, j=1:m\n",
    "    p = img[i,j]\n",
    "    write(s, p % UInt8)\n",
    "  end\n",
    "  close(s)\n",
    "end\n",
    "\n",
    "function para_jset(img)  \n",
    "   yrange = img[1]  \n",
    "   xrange = img[2]  \n",
    "   array_slice = (size(yrange, 1), size(xrange, 1))  \n",
    "   jset = Array(Int64, array_slice)   #UInt8\n",
    "   x0 = xrange[1]  \n",
    "   y0 = yrange[1]  \n",
    "\n",
    "   for x = xrange, y = yrange  \n",
    "     pix = 256\n",
    "     z = complex( (x-width/2)/(height/2), (y-height/2)/(height/2)) \n",
    "     for n = 1:256\n",
    "       if abs(z) > 2\n",
    "         pix = n-1\n",
    "         break\n",
    "       end\n",
    "       z = z^2 + C\n",
    "     end\n",
    "     jset[y - y0 + 1, x - x0 + 1] = pix   # Int64 !!\n",
    "   end  \n",
    "   return jset  \n",
    "end\n",
    "\n",
    "cd(joinpath(homedir(),\"julia_projects\",\"images\"))\n",
    "\n",
    "@everywhere using DistributedArrays\n",
    "@everywhere width = 2000\n",
    "@everywhere height = 1500\n",
    "@everywhere C = -0.8 - 0.156im\n",
    "\n",
    "dist_jset = DArray(para_jset, (height, width));\n",
    "full_jset = convert(Array, dist_jset);\n",
    "\n",
    "create_pgmfile(full_jset, \"paral_jset.pgm\");\n",
    "println(\"Изображение успешно записано на диск.\")"
   ]
  },
  {
   "cell_type": "code",
   "execution_count": null,
   "metadata": {
    "collapsed": true
   },
   "outputs": [],
   "source": []
  }
 ],
 "metadata": {
  "kernelspec": {
   "display_name": "Julia 0.4.5",
   "language": "julia",
   "name": "julia-0.4"
  },
  "language_info": {
   "file_extension": ".jl",
   "mimetype": "application/julia",
   "name": "julia",
   "version": "0.4.5"
  }
 },
 "nbformat": 4,
 "nbformat_minor": 0
}
