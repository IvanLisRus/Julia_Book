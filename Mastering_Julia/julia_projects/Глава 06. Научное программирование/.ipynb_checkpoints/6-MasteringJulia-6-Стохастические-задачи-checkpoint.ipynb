{
 "cells": [
  {
   "cell_type": "markdown",
   "metadata": {},
   "source": [
    "<div style=\"text-align: left;\"><img src=\"https://www.juliabox.org/assets/img/juliacloudlogo.png\"style=\"margin: 0px 0px 0px 0px; width: 240px; float: left;\" title=\"\" alt=\"\" /></div>\n",
    "<img src=\"https://dz13w8afd47il.cloudfront.net/sites/default/files/imagecache/ppv4_reader_book_cover/B03587_MockupCover_Normal.jpg\" style=\"margin: 0px 0px 5px 20px; width: 100px; float: right;\" title=\"\" alt=\"\" />\n",
    "Всестороннее введение в новый язык программирования для научно-технических вычислений [Julia](http://julialang.org/) в книге Малколма Шеррингтона, Packt Publishing, июль 2015.\n",
    "\n",
    "<h1>Освоение языка Julia</h1><br />\n",
    "\n",
    "Совершенствование мастерства в области аналитики и программирования при помощи Julia в целях решения задач комплексной обработки данных \n",
    "<div style=\"text-align: left;\">Программный код Julia (v0.4.5) протестирован в Windows 8.1/10 и Linux/Lubuntu 16.4</div>\n",
    "<div style=\"text-align: left;\"><br /><h1>Глава 6. Научное программирование</h1></div>"
   ]
  },
  {
   "cell_type": "markdown",
   "metadata": {},
   "source": [
    "# Стохастические задачи\n",
    "## Стохастическое моделирование\n",
    "### Пакет SimJulia\n",
    "### Пример с кассовым обслуживанием в банке"
   ]
  },
  {
   "cell_type": "code",
   "execution_count": 29,
   "metadata": {
    "collapsed": false
   },
   "outputs": [
    {
     "data": {
      "text/plain": [
       "visit (generic function with 1 method)"
      ]
     },
     "execution_count": 29,
     "metadata": {},
     "output_type": "execute_result"
    }
   ],
   "source": [
    "using SimJulia\n",
    "using Distributions\n",
    "\n",
    "function visit(customer::Process,\n",
    "  time_in_bank::Float64,\n",
    "  counter::Resource,\n",
    "  max_in_queue::Int)\n",
    "  arrive = now(customer);\n",
    "    \n",
    "  @printf(\"%8.4f %s: Прибыл\\n\", arrive, customer);\n",
    "    \n",
    "  if length(counter.wait_queue) < max_in_queue\n",
    "    request(customer, counter);\n",
    "    wait = now(customer) - arrive;\n",
    "    push!(wait_times, wait);\n",
    "        \n",
    "    @printf(\"%8.4f %s: Прождал %6.3f\\n\",\n",
    "        \n",
    "    now(customer), customer, wait);\n",
    "    hold(customer, time_in_bank)\n",
    "    release(customer, counter);\n",
    "        \n",
    "    @printf(\"%8.4f %s: Обслужен\\n\", now(customer), customer)\n",
    "        \n",
    "  else\n",
    "        \n",
    "    @printf(\"%8.4f %s: Ожидает\\n\", now(customer), customer)\n",
    "        \n",
    "  end\n",
    "end "
   ]
  },
  {
   "cell_type": "code",
   "execution_count": 30,
   "metadata": {
    "collapsed": false
   },
   "outputs": [
    {
     "data": {
      "text/plain": [
       "generate (generic function with 1 method)"
      ]
     },
     "execution_count": 30,
     "metadata": {},
     "output_type": "execute_result"
    }
   ],
   "source": [
    "function generate(source::Process, number::Int,\n",
    "  mean_time_between_arrivals::Float64,\n",
    "  mean_time_in_bank::Float64,\n",
    "  counter::Resource,\n",
    "  max_in_queue::Int)\n",
    "  d_tba = Exponential(mean_time_of_arrivals);\n",
    "  d_tib = Exponential(mean_time_in_bank);\n",
    "  for i = 1:number\n",
    "    c = Process(simulation(source),\n",
    "    @sprintf(\"Клиент%02d\", i));\n",
    "    tib = rand(d_tib);\n",
    "    activate(c, now(source), visit, tib,\n",
    "    counter, max_in_queue);\n",
    "    tba = rand(d_tba);\n",
    "    hold(source, tba);\n",
    "  end\n",
    "end"
   ]
  },
  {
   "cell_type": "code",
   "execution_count": 31,
   "metadata": {
    "collapsed": false
   },
   "outputs": [
    {
     "data": {
      "text/plain": [
       "number_in_system (generic function with 1 method)"
      ]
     },
     "execution_count": 31,
     "metadata": {},
     "output_type": "execute_result"
    }
   ],
   "source": [
    "function number_in_system(counter::Resource)\n",
    "  length(counter.active_set) + length(counter.wait_queue);\n",
    "end"
   ]
  },
  {
   "cell_type": "code",
   "execution_count": 46,
   "metadata": {
    "collapsed": false
   },
   "outputs": [
    {
     "ename": "LoadError",
     "evalue": "LoadError: UndefVarError: Simulation not defined\nwhile loading In[46], in expression starting on line 16",
     "output_type": "error",
     "traceback": [
      "LoadError: UndefVarError: Simulation not defined\nwhile loading In[46], in expression starting on line 16",
      ""
     ]
    }
   ],
   "source": [
    "# Установить исходные данные имитации \n",
    "max_number = 20;\n",
    "max_time = 300.0;\n",
    "max_queue = 1;\n",
    "mean_arrival_time = 5.0;\n",
    "mean_service_time = 8.0;\n",
    "number_of_tellers = 2;\n",
    "#seed = randomize(); # Использовать ранее определенную функцию либо выбрать \n",
    "                    # значение, чтобы сделать прогон воспроизводимым\n",
    "seed = 150\n",
    "\n",
    "global wait_times = Array(Float64,1);\n",
    "\n",
    "# Выполнить моделирование/эксперимент\n",
    "srand(seed);\n",
    "sim = Simulation(UInt(16));\n",
    "\n",
    "k = Resource(sim, \"Counter\", uint(1), false);\n",
    "s = Process(sim, \"Source\");\n",
    "\n",
    "activate(s, 0.0, generate, max_number, mean_arrival_time, mean_service_time, k, max_queue); \n",
    "\n",
    "run(sim, max_time);\n",
    "\n",
    "@printf \"Среднее время ожидания равно %5.3f\\n\" mean(wait_times)"
   ]
  },
  {
   "cell_type": "code",
   "execution_count": 53,
   "metadata": {
    "collapsed": false
   },
   "outputs": [
    {
     "name": "stdout",
     "output_type": "stream",
     "text": [
      "Банк отказов\n",
      "0.0 Клиент1: А вот и я\n",
      "0.0 Клиент1: прождал 0.0\n",
      "4.435484832567573 Клиент1: обслужен\n",
      "10.506542551540877 Клиент2: А вот и я\n",
      "10.506542551540877 Клиент2: прождал 0.0\n",
      "11.548873450458322 Клиент3: А вот и я\n",
      "13.405166001638086 Клиент2: обслужен\n",
      "13.405166001638086 Клиент3: прождал 1.8562925511797648\n",
      "15.056811155545962 Клиент4: А вот и я\n",
      "15.310567959011307 Клиент5: А вот и я\n",
      "17.12452785714354 Клиент5: ОТКАЗАЛСЯ после 1.813959898132234\n",
      "17.94147646177519 Клиент4: ОТКАЗАЛСЯ после 2.884665306229227\n",
      "19.389849423516104 Клиент6: А вот и я\n",
      "20.480372429517082 Клиент7: А вот и я\n",
      "20.547925283926027 Клиент6: ОТКАЗАЛСЯ после 1.158075860409923\n",
      "22.132146582986216 Клиент3: обслужен\n",
      "22.132146582986216 Клиент7: прождал 1.651774153469134\n",
      "25.08903399783701 Клиент8: А вот и я\n",
      "26.67966589849994 Клиент8: ОТКАЗАЛСЯ после 1.590631900662931\n",
      "27.325675223762772 Клиент9: А вот и я\n",
      "28.306895653220938 Клиент10: А вот и я\n",
      "28.725139062075538 Клиент11: А вот и я\n",
      "29.698867247380004 Клиент9: ОТКАЗАЛСЯ после 2.373192023617232\n",
      "30.053869090403623 Клиент10: ОТКАЗАЛСЯ после 1.7469734371826853\n",
      "30.296477798550487 Клиент11: ОТКАЗАЛСЯ после 1.5713387364749494\n",
      "31.33919050549147 Клиент12: А вот и я\n",
      "31.996993991068873 Клиент7: обслужен\n",
      "31.996993991068873 Клиент12: прождал 0.6578034855774035\n",
      "33.7193703246315 Клиент13: А вот и я\n",
      "35.92909185667176 Клиент13: ОТКАЗАЛСЯ после 2.2097215320402626\n",
      "43.30963362411276 Клиент12: обслужен\n",
      "44.2617273917908 Клиент14: А вот и я\n",
      "44.2617273917908 Клиент14: прождал 0.0\n",
      "45.21410829135481 Клиент14: обслужен\n",
      "46.10838320851401 Клиент15: А вот и я\n",
      "46.10838320851401 Клиент15: прождал 0.0\n",
      "49.80671068473995 Клиент16: А вот и я\n",
      "50.37100790521882 Клиент17: А вот и я\n",
      "51.150893528865886 Клиент16: ОТКАЗАЛСЯ после 1.344182844125939\n",
      "53.10996796021719 Клиент15: обслужен\n",
      "53.10996796021719 Клиент17: прождал 2.7389600549983726\n",
      "53.88578471599132 Клиент18: А вот и я\n",
      "56.791964001542155 Клиент18: ОТКАЗАЛСЯ после 2.9061792855508344\n",
      "62.22632050428241 Клиент19: А вот и я\n",
      "63.67676098955112 Клиент20: А вот и я\n",
      "64.07238589935497 Клиент19: ОТКАЗАЛСЯ после 1.8460653950725572\n",
      "66.22229473975759 Клиент20: ОТКАЗАЛСЯ после 2.5455337502064666\n",
      "71.8961410748953 Клиент17: обслужен\n"
     ]
    }
   ],
   "source": [
    "using SimJulia\n",
    "using Distributions\n",
    "\n",
    "const RANDOM_SEED = 150\n",
    "const NEW_CUSTOMERS = 20  # Total number of customers\n",
    "const INTERVAL_CUSTOMERS = 5.0  # Generate new customers roughly every x seconds\n",
    "const MIN_PATIENCE = 1.0  # Min. customer patience\n",
    "const MAX_PATIENCE = 3.0  # Max. customer patience\n",
    "\n",
    "function source(env::Environment, number::Int, interval::Float64, counter::Resource)\n",
    "  d = Exponential(interval)\n",
    "  for i in 1:number\n",
    "    Process(env, customer, \"Клиент$i\", counter, 12.0)\n",
    "    yield(Timeout(env, rand(d)))\n",
    "  end\n",
    "end\n",
    "\n",
    "function customer(env::Environment, name::UTF8String, counter::Resource, time_in_bank::Float64)\n",
    "  arrive = now(env)\n",
    "  println(\"$arrive $name: А вот и я\")\n",
    "  req = Request(counter)\n",
    "  patience = rand(Uniform(MIN_PATIENCE, MAX_PATIENCE))\n",
    "  result = yield(req | Timeout(env, patience))\n",
    "  wait = now(env) - arrive\n",
    "  if in(req, keys(result))\n",
    "    println(\"$(now(env)) $name: прождал $wait\")\n",
    "    yield(Timeout(env, rand(Exponential(time_in_bank))))\n",
    "    println(\"$(now(env)) $name: обслужен\")\n",
    "    yield(Release(counter))\n",
    "  else\n",
    "    println(\"$(now(env)) $name: ОТКАЗАЛСЯ после $wait\")\n",
    "    SimJulia.cancel(req)\n",
    "  end\n",
    "end\n",
    "\n",
    "# Setup and start the simulation\n",
    "println(\"Банк отказов\")\n",
    "srand(RANDOM_SEED)\n",
    "env = Environment()\n",
    "\n",
    "# Start processes and run\n",
    "counter = Resource(env, 1)\n",
    "Process(env, source, NEW_CUSTOMERS, INTERVAL_CUSTOMERS, counter)\n",
    "run(env)"
   ]
  },
  {
   "cell_type": "markdown",
   "metadata": {},
   "source": [
    "## Байесовские методы и марковские процессы\n",
    "### Методы Монте-Карло по схеме марковских цепей\n",
    "#### Программные платформы на основе MCMC"
   ]
  },
  {
   "cell_type": "code",
   "execution_count": null,
   "metadata": {
    "collapsed": true
   },
   "outputs": [],
   "source": [
    "using Mamba\n",
    "\n",
    "cd(joinpath(homedir(),\"projects\",\"mastering_julia\",\"data\"))\n",
    "\n",
    "dogs = (Symbol => Any)[:Y => int(readdlm(\"dogs.wsv\")) ];\n",
    "\n",
    "dogs[:Dogs] = size(dogs[:Y], 1);\n",
    "dogs[:Trials] = size(dogs[:Y], 2);\n",
    "dogs[:xa] = mapslices(cumsum, dogs[:Y], 2);\n",
    "dogs[:xs] = mapslices(x -> [1:25] - x, dogs[:xa], 2);\n",
    "dogs[:y] = 1 - dogs[:Y][:, 2:25];\n",
    "\n",
    "model = Model(\n",
    "  y = Stochastic(2,\n",
    "    @modelexpr(Dogs, Trials, alpha, xa, beta, xs,\n",
    "    Distribution[\n",
    "      begin\n",
    "        p = exp(alpha * xa[i,j] + beta * xs[i,j])\n",
    "        Bernoulli(p)\n",
    "      end\n",
    "      for i in 1:Dogs, j in 1:Trials-1]), false),\n",
    "  alpha = Stochastic(:(Truncated(Flat(), -Inf, -1e-5))),\n",
    "  A = Logical(@modelexpr(alpha,exp(alpha))),\n",
    "\n",
    "  beta = Stochastic(:(Truncated(Flat(), -Inf, -1e-5))),\n",
    "  B = Logical(@modelexpr(beta,exp(beta))) );\n",
    "\n",
    "inits = [\n",
    "  [:y => dogs[:y], :alpha => -1, :beta => -1],\n",
    "  [:y => dogs[:y], :alpha => -2, :beta => -2]\n",
    "];\n",
    "\n",
    "scheme = [Slice([:alpha, :beta], [1.0, 1.0])];\n",
    "setsamplers!(model, scheme);\n",
    "\n",
    "sim = mcmc(model,dogs,inits,10000,burnin=2500,thin=2,chains=2)"
   ]
  },
  {
   "cell_type": "code",
   "execution_count": null,
   "metadata": {
    "collapsed": true
   },
   "outputs": [],
   "source": [
    "describe(sim)"
   ]
  },
  {
   "cell_type": "code",
   "execution_count": null,
   "metadata": {
    "collapsed": true
   },
   "outputs": [],
   "source": [
    "using Gadfly\n",
    "\n",
    "cd(joinpath(homedir(),\"projects\",\"mastering_julia\",\"data\"))\n",
    "\n",
    "P = plot(sim)\n",
    "draw(p, filename=\"dogs.svg\"); "
   ]
  }
 ],
 "metadata": {
  "kernelspec": {
   "display_name": "Julia 0.4.5",
   "language": "julia",
   "name": "julia-0.4"
  },
  "language_info": {
   "file_extension": ".jl",
   "mimetype": "application/julia",
   "name": "julia",
   "version": "0.4.5"
  }
 },
 "nbformat": 4,
 "nbformat_minor": 0
}
