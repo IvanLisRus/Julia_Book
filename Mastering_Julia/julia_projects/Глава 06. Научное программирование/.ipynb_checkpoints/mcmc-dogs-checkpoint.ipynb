{
 "cells": [
  {
   "cell_type": "markdown",
   "metadata": {},
   "source": [
    "<div style=\"text-align: left;\"><img src=\"https://www.juliabox.org/assets/img/juliacloudlogo.png\" style=\"margin: 0px 0px 0px 0px; padding-right: 20px;width: 80px; float: left;\" title=\"\" alt=\"\" /></div>\n",
    "<img src=\"http://dmkpress.com/images/cms/thumbs/a5b0aeaa3fa7d6e58d75710c18673bd7ec6d5f6d/978-5-97060-370-3_270_369__100.jpg\" style=\"margin: 0px 0px 5px 20px; width: 100px; float: right;\" title=\"\" alt=\"\" />\n",
    "Всестороннее введение в новый язык программирования для научно-технических вычислений [Julia](http://julialang.org/) в книге Малколма Шеррингтона, Packt Publishing, июль 2015.\n",
    "\n",
    "<h1>Осваиваем язык Julia</h1><br />\n",
    "\n",
    "Совершенствование мастерства в области аналитики и программирования при помощи Julia в целях решения задач комплексной обработки данных\n",
    "<div style=\"text-align: left;font-size:8pt;padding-top:10px;\">Программный код Julia (v0.4.5) протестирован в Windows 8.1/10 и Linux/Lubuntu 16.4</div>\n",
    "<div style=\"text-align: left;\"><h1>Глава 6. Примеры</h1></div>"
   ]
  },
  {
   "cell_type": "markdown",
   "metadata": {
    "collapsed": true
   },
   "source": [
    "### Имитационное моделирование по схеме MCMC"
   ]
  },
  {
   "cell_type": "code",
   "execution_count": 1,
   "metadata": {
    "collapsed": false
   },
   "outputs": [
    {
     "name": "stdout",
     "output_type": "stream",
     "text": [
      "MCMC Simulation of 10000 Iterations x 2 Chains...\n",
      "\n",
      "Chain 1:   0% [0:17:20 of 0:17:21 remaining]\n",
      "Chain 1:  10% [0:00:55 of 0:01:01 remaining]\n",
      "Chain 1:  20% [0:00:45 of 0:00:57 remaining]\n",
      "Chain 1:  30% [0:00:39 of 0:00:56 remaining]\n",
      "Chain 1:  40% [0:00:33 of 0:00:55 remaining]\n",
      "Chain 1:  50% [0:00:27 of 0:00:54 remaining]\n",
      "Chain 1:  60% [0:00:22 of 0:00:54 remaining]\n",
      "Chain 1:  70% [0:00:16 of 0:00:54 remaining]\n",
      "Chain 1:  80% [0:00:11 of 0:00:54 remaining]\n",
      "Chain 1:  90% [0:00:05 of 0:00:54 remaining]\n",
      "Chain 1: 100% [0:00:00 of 0:00:54 remaining]\n",
      "\n",
      "Chain 2:   0% [0:00:31 of 0:00:31 remaining]\n",
      "Chain 2:  10% [0:00:47 of 0:00:52 remaining]\n",
      "Chain 2:  20% [0:00:42 of 0:00:52 remaining]\n",
      "Chain 2:  30% [0:00:36 of 0:00:52 remaining]\n",
      "Chain 2:  40% [0:00:31 of 0:00:52 remaining]\n",
      "Chain 2:  50% [0:00:26 of 0:00:52 remaining]\n",
      "Chain 2:  60% [0:00:21 of 0:00:52 remaining]\n",
      "Chain 2:  70% [0:00:16 of 0:00:52 remaining]\n",
      "Chain 2:  80% [0:00:10 of 0:00:52 remaining]\n",
      "Chain 2:  90% [0:00:05 of 0:00:52 remaining]\n",
      "Chain 2: 100% [0:00:00 of 0:00:52 remaining]\n",
      "\n",
      "Iterations = 2502:10000\n",
      "Thinning interval = 2\n",
      "Chains = 1,2\n",
      "Samples per chain = 3750\n",
      "\n",
      "Empirical Posterior Estimates:\n",
      "          Mean          SD        Naive SE        MCSE        ESS   \n",
      " beta -0.078967267 0.011629392 0.00013428466 0.00017833750 3750.0000\n",
      "    B  0.924132591 0.010731532 0.00012391705 0.00016442036 3750.0000\n",
      "alpha -0.244124025 0.023987089 0.00027697905 0.00040289643 3544.6084\n",
      "    A  0.783615491 0.018755354 0.00021656817 0.00031543303 3535.3806\n",
      "\n",
      "Quantiles:\n",
      "          2.5%        25.0%       50.0%       75.0%        97.5%   \n",
      " beta -0.10330217 -0.086546788 -0.07845936 -0.07091396 -0.057579545\n",
      "    B  0.90185442  0.917092639  0.92453963  0.93154204  0.944046793\n",
      "alpha -0.29271927 -0.259801367 -0.24313218 -0.22800563 -0.199098646\n",
      "    A  0.74623160  0.771204757  0.78416786  0.79611978  0.819469052\n",
      "\n"
     ]
    }
   ],
   "source": [
    "using Mamba, Distributions\n",
    "\n",
    "cd(joinpath(homedir(),\"julia_projects\",\"data\"))\n",
    "\n",
    "dogs = (Symbol => Any)[:Y => round(Int, readdlm(\"dogs.wsv\")) ]\n",
    "\n",
    "dogs[:Dogs] = size(dogs[:Y], 1)\n",
    "dogs[:Trials] = size(dogs[:Y], 2)\n",
    "\n",
    "dogs[:xa] = mapslices(cumsum, dogs[:Y], 2)\n",
    "dogs[:xs] = mapslices(x -> collect(1:25) - x, dogs[:xa], 2)\n",
    "dogs[:y] = 1 - dogs[:Y][:, 2:25]\n",
    "\n",
    "\n",
    "## Спецификация модели\n",
    "model = Model(\n",
    "\n",
    "  y = Stochastic(2,\n",
    "    (Dogs, Trials, alpha, xa, beta, xs) ->\n",
    "      UnivariateDistribution[\n",
    "        begin\n",
    "          p = exp(alpha * xa[i, j] + beta * xs[i, j])\n",
    "          Bernoulli(p)\n",
    "        end\n",
    "        for i in 1:Dogs, j in 1:Trials-1\n",
    "      ],\n",
    "    false\n",
    "  ),\n",
    "\n",
    "  alpha = Stochastic(\n",
    "    () -> Truncated(Flat(), -Inf, -1e-5)\n",
    "  ),\n",
    "\n",
    "  A = Logical(\n",
    "    alpha -> exp(alpha)\n",
    "  ),\n",
    "\n",
    "  beta = Stochastic(\n",
    "    () -> Truncated(Flat(), -Inf, -1e-5)\n",
    "  ),\n",
    "\n",
    "  B = Logical(\n",
    "    beta -> exp(beta)\n",
    "  )\n",
    "\n",
    ")\n",
    "\n",
    "\n",
    "## Начальные значения\n",
    "inits = [\n",
    "  Dict(:y => dogs[:y], :alpha => -1, :beta => -1),\n",
    "  Dict(:y => dogs[:y], :alpha => -2, :beta => -2)\n",
    "]\n",
    "\n",
    "\n",
    "## План выборки (взятия проб)\n",
    "scheme = [Slice([:alpha, :beta], 1.0)]\n",
    "setsamplers!(model, scheme)\n",
    "\n",
    "\n",
    "## Имитационное моделирование по MCMC\n",
    "sim = mcmc(model, dogs, inits, 10000, burnin=2500, thin=2, chains=2)\n",
    "\n",
    "describe(sim)"
   ]
  },
  {
   "cell_type": "code",
   "execution_count": 5,
   "metadata": {
    "collapsed": false
   },
   "outputs": [
    {
     "name": "stdout",
     "output_type": "stream",
     "text": [
      "Press ENTER to draw next plot\n",
      "STDIN> y\n"
     ]
    }
   ],
   "source": [
    "cd(joinpath(homedir(),\"julia_projects\",\"images\"))\n",
    "\n",
    "using Gadfly\n",
    "\n",
    "p = plot(sim)\n",
    "draw(p, filename=\"figure_6_10_dog.svg\")\n",
    "\n",
    "# В поле STDIN> будет запрошено разрешение (Y/N) записать файл .SVG"
   ]
  },
  {
   "cell_type": "code",
   "execution_count": null,
   "metadata": {
    "collapsed": true
   },
   "outputs": [],
   "source": []
  }
 ],
 "metadata": {
  "kernelspec": {
   "display_name": "Julia 0.4.5",
   "language": "julia",
   "name": "julia-0.4"
  },
  "language_info": {
   "file_extension": ".jl",
   "mimetype": "application/julia",
   "name": "julia",
   "version": "0.4.5"
  }
 },
 "nbformat": 4,
 "nbformat_minor": 0
}
