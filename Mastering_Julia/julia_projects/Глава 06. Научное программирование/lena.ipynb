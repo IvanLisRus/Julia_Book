{
 "cells": [
  {
   "cell_type": "markdown",
   "metadata": {},
   "source": [
    "<div style=\"text-align: left;\"><img src=\"https://www.juliabox.org/assets/img/juliacloudlogo.png\" style=\"margin: 0px 0px 0px 0px; padding-right: 20px;width: 80px; float: left;\" title=\"\" alt=\"\" /></div>\n",
    "<img src=\"http://dmkpress.com/images/cms/thumbs/a5b0aeaa3fa7d6e58d75710c18673bd7ec6d5f6d/978-5-97060-370-3_270_369__100.jpg\" style=\"margin: 0px 0px 5px 20px; width: 100px; float: right;\" title=\"\" alt=\"\" />\n",
    "Всестороннее введение в новый язык программирования для научно-технических вычислений [Julia](http://julialang.org/) в книге Малколма Шеррингтона, Packt Publishing, июль 2015.\n",
    "\n",
    "<h1>Осваиваем язык Julia</h1><br />\n",
    "\n",
    "Совершенствование мастерства в области аналитики и программирования при помощи Julia в целях решения задач комплексной обработки данных\n",
    "<div style=\"text-align: left;font-size:8pt;padding-top:10px;\">Программный код Julia (v0.4.5) протестирован в Windows 8.1/10 и Linux/Lubuntu 16.4</div>\n",
    "<div style=\"text-align: left;\"><h1>Глава 6. Примеры</h1></div>"
   ]
  },
  {
   "cell_type": "markdown",
   "metadata": {},
   "source": [
    "### Обработка изображений"
   ]
  },
  {
   "cell_type": "code",
   "execution_count": 6,
   "metadata": {
    "collapsed": false
   },
   "outputs": [
    {
     "name": "stdout",
     "output_type": "stream",
     "text": [
      "Изображение обработано.\n"
     ]
    }
   ],
   "source": [
    "#\n",
    "# lena1.jl\n",
    "#\n",
    "\n",
    "# версия 1\n",
    "\n",
    "cd(joinpath(homedir(),\"julia_projects\",\"images\"))\n",
    "\n",
    "img = open(\"lena.pgm\");\n",
    "\n",
    "magic = chomp(readline(img));\n",
    "params = chomp(readline(img));\n",
    "\n",
    "pm = split(params);\n",
    "wd = int(pm[1]); \n",
    "ht = int(pm[2]);\n",
    "\n",
    "data = round(UInt8, readbytes(img,wd*ht));\n",
    "data = reshape(data,wd,ht);\n",
    "\n",
    "close(img);\n",
    "\n",
    "Gx = [1 2 1; 0 0 0; -1 -2 -1];\n",
    "Gy = [1 0 -1; 2 0 -2; 1 0 -1];\n",
    "\n",
    "dout = copy(data);\n",
    "\n",
    "for i = 2:wd-1\n",
    "  for j = 2:ht-1\n",
    "    temp = data[i-1:i+1, j-1:j+1]; \n",
    "    x = sum(Gx.*temp)\n",
    "    y = sum(Gy.*temp)\n",
    "    p = round(Int, sqrt(x*x + y*y))\n",
    "    dout[i,j] = (p < 256) ? UInt8(p) : 0xff\n",
    "  end\n",
    "end\n",
    "\n",
    "out = open(\"lenaX1.pgm\",\"w\");\n",
    "\n",
    "println(out,magic);\n",
    "println(out,params);\n",
    "\n",
    "write(out,dout);\n",
    "\n",
    "close(out);\n",
    "\n",
    "println(\"Изображение обработано.\");"
   ]
  },
  {
   "cell_type": "code",
   "execution_count": 4,
   "metadata": {
    "collapsed": false
   },
   "outputs": [
    {
     "name": "stdout",
     "output_type": "stream",
     "text": [
      "Изображение обработано.\n"
     ]
    }
   ],
   "source": [
    "#\n",
    "# lena2.jl\n",
    "#\n",
    "\n",
    "# версия 2\n",
    "\n",
    "cd(joinpath(homedir(),\"julia_projects\",\"images\"))\n",
    "\n",
    "img = open(\"lena.pgm\");\n",
    "\n",
    "magic = chomp(readline(img));\n",
    "params = chomp(readline(img));\n",
    "\n",
    "while ismatch(r\"^\\s*#\", params)\n",
    "  params = chomp(readline(img));\n",
    "end\n",
    "\n",
    "pm = split(params);\n",
    "\n",
    "if length(pm) < 3\n",
    "  params *= \" \" * chomp(readline(img));\n",
    "end\n",
    "\n",
    "wd = parse(Int, pm[1]);\n",
    "ht = parse(Int, pm[2]);\n",
    "data = round(UInt8, readbytes(img,wd*ht));\n",
    "data = reshape(data,wd,ht);\n",
    "\n",
    "close(img);\n",
    "\n",
    "Gx = [1 2 1; 0 0 0; -1 -2 -1];\n",
    "Gy = [1 0 -1; 2 0 -2; 1 0 -1];\n",
    "\n",
    "dout = copy(data);\n",
    "\n",
    "for i = 2:wd-1\n",
    "  for j = 2:ht-1\n",
    "    temp = data[i-1:i+1, j-1:j+1];\n",
    "    x = sum(Gx.*temp)\n",
    "    y = sum(Gy.*temp)\n",
    "    p = round(Int, sqrt(x*x + y*y))\n",
    "    dout[i,j] = (p < 256) ? UInt8(p) : 0xff\n",
    "  end\n",
    "end\n",
    "\n",
    "out = open(\"lenaX2.pgm\",\"w\");\n",
    "\n",
    "println(out,magic);\n",
    "println(out,params);\n",
    "\n",
    "write(out,dout);\n",
    "\n",
    "close(out); \n",
    "\n",
    "println(\"Изображение обработано.\");"
   ]
  },
  {
   "cell_type": "code",
   "execution_count": null,
   "metadata": {
    "collapsed": true
   },
   "outputs": [],
   "source": []
  }
 ],
 "metadata": {
  "kernelspec": {
   "display_name": "Julia 0.4.5",
   "language": "julia",
   "name": "julia-0.4"
  },
  "language_info": {
   "file_extension": ".jl",
   "mimetype": "application/julia",
   "name": "julia",
   "version": "0.4.5"
  }
 },
 "nbformat": 4,
 "nbformat_minor": 0
}
