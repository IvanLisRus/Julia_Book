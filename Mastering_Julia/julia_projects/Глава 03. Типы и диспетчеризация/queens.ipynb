{
 "cells": [
  {
   "cell_type": "markdown",
   "metadata": {},
   "source": [
    "<div style=\"text-align: left;\"><img src=\"https://www.juliabox.org/assets/img/juliacloudlogo.png\" style=\"margin: 0px 0px 0px 0px; padding-right: 20px;width: 80px; float: left;\" title=\"\" alt=\"\" /></div>\n",
    "<img src=\"http://dmkpress.com/images/cms/thumbs/a5b0aeaa3fa7d6e58d75710c18673bd7ec6d5f6d/978-5-97060-370-3_270_369__100.jpg\" style=\"margin: 0px 0px 5px 20px; width: 100px; float: right;\" title=\"\" alt=\"\" />\n",
    "Всестороннее введение в новый язык программирования для научно-технических вычислений [Julia](http://julialang.org/) в книге Малколма Шеррингтона, Packt Publishing, июль 2015.\n",
    "\n",
    "<h1>Осваиваем язык Julia</h1><br />\n",
    "\n",
    "Совершенствование мастерства в области аналитики и программирования при помощи Julia в целях решения задач комплексной обработки данных\n",
    "<div style=\"text-align: left;font-size:8pt;padding-top:10px;\">Программный код Julia (v0.4.5) протестирован в Windows 8.1/10 и Linux/Lubuntu 16.4</div>\n",
    "<div style=\"text-align: left;\"><h1>Глава 3. Примеры</h1></div>"
   ]
  },
  {
   "cell_type": "markdown",
   "metadata": {},
   "source": [
    "### Задача о восьми ферзях"
   ]
  },
  {
   "cell_type": "code",
   "execution_count": 3,
   "metadata": {
    "collapsed": false
   },
   "outputs": [
    {
     "data": {
      "text/plain": [
       "qsolve (generic function with 3 methods)"
      ]
     },
     "execution_count": 3,
     "metadata": {},
     "output_type": "execute_result"
    }
   ],
   "source": [
    "qadd(board::Array{Vector{Int}},qrow::Vector{Int}) = \n",
    "    push!(copy(board), qrow)\n",
    "\n",
    "qhits(a::Array{Int}, b::Array{Int}) = \n",
    "    any(a .== b) || abs(a-b)[1] == abs(a-b)[2]\n",
    "\n",
    "qhit(qrow::Vector{Int}, board::Array{Vector{Int}}) = \n",
    "    any(x->qhits(qrow, x), board)\n",
    "\n",
    "function qsolve(m, n=m, board=Array(Vector{Int}, 0))\n",
    "  if n == 0\n",
    "    return board\n",
    "  end\n",
    "    \n",
    "  for px = 1:m\n",
    "    for py = 1:m\n",
    "      if !qhit([px, py], board)\n",
    "        s = qsolve(m, n-1, qadd(board, [px, py]))\n",
    "        s != nothing && return s\n",
    "      end\n",
    "    end\n",
    "  end\n",
    "    \n",
    "  return nothing\n",
    "    \n",
    "end"
   ]
  },
  {
   "cell_type": "code",
   "execution_count": 4,
   "metadata": {
    "collapsed": false
   },
   "outputs": [
    {
     "data": {
      "text/plain": [
       "8-element Array{Array{Int64,1},1}:\n",
       " [1,1]\n",
       " [2,5]\n",
       " [3,8]\n",
       " [4,6]\n",
       " [5,3]\n",
       " [6,7]\n",
       " [7,2]\n",
       " [8,4]"
      ]
     },
     "execution_count": 4,
     "metadata": {},
     "output_type": "execute_result"
    }
   ],
   "source": [
    "# в консоли задача решается (прим. за 50 сек.)\n",
    "\n",
    "qsolve(8) "
   ]
  }
 ],
 "metadata": {
  "kernelspec": {
   "display_name": "Julia 0.4.5",
   "language": "julia",
   "name": "julia-0.4"
  },
  "language_info": {
   "file_extension": ".jl",
   "mimetype": "application/julia",
   "name": "julia",
   "version": "0.4.5"
  }
 },
 "nbformat": 4,
 "nbformat_minor": 0
}
