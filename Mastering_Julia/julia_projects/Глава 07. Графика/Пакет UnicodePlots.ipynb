{
 "cells": [
  {
   "cell_type": "markdown",
   "metadata": {},
   "source": [
    "<div style=\"text-align: left;\"><img src=\"https://www.juliabox.org/assets/img/juliacloudlogo.png\" style=\"margin: 0px 0px 0px 0px; padding-right: 20px;width: 80px; float: left;\" title=\"\" alt=\"\" /></div>\n",
    "<img src=\"http://dmkpress.com/images/cms/thumbs/a5b0aeaa3fa7d6e58d75710c18673bd7ec6d5f6d/978-5-97060-370-3_270_369__100.jpg\" style=\"margin: 0px 0px 5px 20px; width: 100px; float: right;\" title=\"\" alt=\"\" />\n",
    "Всестороннее введение в новый язык программирования для научно-технических вычислений [Julia](http://julialang.org/) в книге Малколма Шеррингтона, Packt Publishing, июль 2015.\n",
    "\n",
    "<h1>Осваиваем язык Julia</h1><br />\n",
    "\n",
    "Совершенствование мастерства в области аналитики и программирования при помощи Julia в целях решения задач комплексной обработки данных\n",
    "<div style=\"text-align: left;font-size:8pt;padding-top:10px;\">Программный код Julia (v0.4.5) протестирован в Windows 8.1/10 и Linux/Lubuntu 16.4</div>\n",
    "<div style=\"text-align: left;\"><h1>Глава 7. Графика</h1></div>"
   ]
  },
  {
   "cell_type": "markdown",
   "metadata": {},
   "source": [
    "### Пакет UnicodePlots"
   ]
  },
  {
   "cell_type": "code",
   "execution_count": 70,
   "metadata": {
    "collapsed": true
   },
   "outputs": [],
   "source": [
    "using UnicodePlots\n",
    "\n",
    "# в записных книжках лучше использовать точесный (пропорциональный) стиль холста canvas=DotCanvas\n",
    "# в консоли лучше использовать стиль BrailleCanvas"
   ]
  },
  {
   "cell_type": "code",
   "execution_count": 91,
   "metadata": {
    "collapsed": false
   },
   "outputs": [
    {
     "data": {
      "text/plain": [
       "             ┌───────────────────────────────────────────────────────┐                        \n",
       "           1 │  ..                                                   │ (anonymous function)(x)\n",
       "             │ .':                                                   │                        \n",
       "             │ :  :                                                  │                        \n",
       "             │ :  :         ::                                       │                        \n",
       "             │:   :        :  :                                      │                        \n",
       "             │:    :       :  '.       .:':                          │                        \n",
       "             │:    :      :    :       :  '.       .:':.        ..   │                        \n",
       "   f(x)      │:    :      :    :      :    '.     .:   :      .:' ': │                        \n",
       "             │'''''':'''':'''''':''''':''''':''''':''''':''''::''''''│                        \n",
       "             │      :    :      :    :       :   :       :...'       │                        \n",
       "             │      :    :       :  .'       '..:         ''         │                        \n",
       "             │      '.  .'       :. :                                │                        \n",
       "             │       :  :         ''                                 │                        \n",
       "             │       : .'                                            │                        \n",
       "        -0.8 │        ''                                             │                        \n",
       "             └───────────────────────────────────────────────────────┘                        \n",
       "             0                                                     9.5\n",
       "                                        x\n"
      ]
     },
     "execution_count": 91,
     "metadata": {},
     "output_type": "execute_result"
    }
   ],
   "source": [
    "myPlot = lineplot(x->sin(3x)*exp(-0.2x),0,3pi, canvas=DotCanvas, width = 50)"
   ]
  },
  {
   "cell_type": "code",
   "execution_count": 113,
   "metadata": {
    "collapsed": false
   },
   "outputs": [
    {
     "data": {
      "text/plain": [
       "        ┌───────────────────────────────────────────────────────┐ \n",
       "    120 │   :..                                                 │ \n",
       "        │   ::::      .    .                                    │ \n",
       "        │  ::  :  ::..:   :::                                   │ \n",
       "        │  :   ::.: :::::.'''.                                  │ \n",
       "        │ :     ::' ::' ':   ::          .:.  ::                │ \n",
       "        │ :          :        : .   :    ::':::::               │ \n",
       "        │::..........:........:::...::.:.:..:::::.............. │ \n",
       "        │'                     :::.: ::::'   :' :.:       .::.  │ \n",
       "        │                       '':   ''         '':      : ::. │ \n",
       "        │                                          :    . : '': │ \n",
       "        │                                          ::: .:.'   : │ \n",
       "        │                                          '::::':    : │ \n",
       "        │                                             '  '    :.│ \n",
       "        │                                                      :│ \n",
       "   -140 │                                                      :│ \n",
       "        └───────────────────────────────────────────────────────┘ \n",
       "        0                                                       1\n"
      ]
     },
     "execution_count": 113,
     "metadata": {},
     "output_type": "execute_result"
    }
   ],
   "source": [
    "t = linspace(0,1,400);\n",
    "x = 0.3*sqrt(t) + 10*randn(400);\n",
    "lineplot(t, cumsum(x), canvas=DotCanvas, width = 55)"
   ]
  },
  {
   "cell_type": "code",
   "execution_count": 107,
   "metadata": {
    "collapsed": false
   },
   "outputs": [
    {
     "data": {
      "text/plain": [
       "                                 Население\n",
       "            ┌──────────────────────────────────────────────────┐ \n",
       "      Париж │▪▪▪▪▪▪▪▪ 2.244                                    │ \n",
       "   Нью Йорк │▪▪▪▪▪▪▪▪▪▪▪▪▪▪▪▪▪▪▪▪▪▪▪▪▪▪▪▪▪▪ 8.406              │ \n",
       "     Москва │▪▪▪▪▪▪▪▪▪▪▪▪▪▪▪▪▪▪▪▪▪▪▪▪▪▪▪▪▪▪▪▪▪▪▪▪▪▪▪▪▪▪▪ 11.92 │ \n",
       "     Мадрид │▪▪▪▪▪▪▪▪▪▪▪ 3.165                                 │ \n",
       "            └──────────────────────────────────────────────────┘ \n"
      ]
     },
     "execution_count": 107,
     "metadata": {},
     "output_type": "execute_result"
    }
   ],
   "source": [
    "barplot([\"Париж\", \"Нью Йорк\", \"Москва\", \"Мадрид\"],\n",
    "        [2.244, 8.406, 11.92, 3.165],\n",
    "        title = \"Население\", width = 50)"
   ]
  },
  {
   "cell_type": "code",
   "execution_count": 92,
   "metadata": {
    "collapsed": false
   },
   "outputs": [
    {
     "data": {
      "text/plain": [
       "           ┌───────────────────────────────────────────────────────┐       \n",
       "         1 │       .:'':':.   .:'''':.                         .:''│ cos(x)\n",
       "           │      :'   :  ':.:'      ':.                     .:'   │ sin(x)\n",
       "           │    .:     :   .:.         '.                   .'     │       \n",
       "           │   .'      :  .' ':         ':                 :'      │       \n",
       "           │  .'       : .'   ':         ':               :'       │       \n",
       "           │ .'        :.'     ':         ':             :'        │       \n",
       "           │.'         :'       ':         ':           :'         │       \n",
       "   f(x)    │:..........:.........:..........::..........:..........│       \n",
       "           │         .::          '.         '.       .'         .'│       \n",
       "           │        .: :           '.         :.     .'         .' │       \n",
       "           │       .:  :            '.         :.   .'         .'  │       \n",
       "           │      .:   :             '.         :. .'         .'   │       \n",
       "           │     .'    :              ':         ':'         :'    │       \n",
       "           │   .:'     :                :.      .:':.      .:      │       \n",
       "        -1 │..:'       :                 ':....:'   ':....:'       │       \n",
       "           └───────────────────────────────────────────────────────┘       \n",
       "           -1.6                                                  6.3\n",
       "                                      x\n"
      ]
     },
     "execution_count": 92,
     "metadata": {},
     "output_type": "execute_result"
    }
   ],
   "source": [
    "myPlot = lineplot([cos, sin], -π/2, 2π, canvas=DotCanvas, width = 50)"
   ]
  },
  {
   "cell_type": "code",
   "execution_count": 97,
   "metadata": {
    "collapsed": false
   },
   "outputs": [
    {
     "data": {
      "text/plain": [
       "           ┌───────────────────────────────────────────────────────┐       \n",
       "         1 │       .:'':':.   .:'''':.                         .:''│ cos(x)\n",
       "           │      :'   :  ':.:'      ':.                     .:'  .│ sin(x)\n",
       "           │    .:     :   .:.         '.                   .'..'''│       \n",
       "           │   .'      :  .' ':         ':               ..:''     │       \n",
       "           │  .'       : .'   ':         ':          ..'' :'       │       \n",
       "           │ .'        :.'     ':         ':    ..'''    :'        │       \n",
       "           │.'         :'       ':         ::.''        :'         │       \n",
       "   f(x)    │:..........:.........:.......::.::..........:..........│       \n",
       "           │         .::          :.'''      '.       .'         .'│       \n",
       "           │        .: :     ...'' '.         :.     .'         .' │       \n",
       "           │       .:  : ..''       '.         :.   .'         .'  │       \n",
       "           │      .:..':'            '.         :. .'         .'   │       \n",
       "           │    ..''   :              ':         ':'         :'    │       \n",
       "           │.''::'     :                :.      .:':.      .:      │       \n",
       "        -1 │..:'       :                 ':....:'   ':....:'       │       \n",
       "           └───────────────────────────────────────────────────────┘       \n",
       "           -1.6                                                  6.3\n",
       "                                      x\n"
      ]
     },
     "execution_count": 97,
     "metadata": {},
     "output_type": "execute_result"
    }
   ],
   "source": [
    "lineplot!(myPlot, -0.5, .2, canvas=DotCanvas, width = 50)"
   ]
  },
  {
   "cell_type": "code",
   "execution_count": 106,
   "metadata": {
    "collapsed": false
   },
   "outputs": [
    {
     "data": {
      "text/plain": [
       "                          Sparsity Pattern\n",
       "      ┌───────────────────────────────────────────────────────┐    \n",
       "    1 │     :''.  ' .   :  .': .   .. ':. .    ''   .. '   ' '│ > 0\n",
       "      │ . ''..  .  '. : :   . '.'   : '.' '     ..:'  :  :.'..│ < 0\n",
       "      │     :   .    '.' . : .'.. '  .  : :   ..  '           │    \n",
       "      │ ' . ..     '  '    .   '' '     :'   : :''  .' ''':   │    \n",
       "      │  .     . '..'.. '. ..  .. '.'  '  '.          ...' :. │    \n",
       "      │'             .'.' ..  : ''  ' '            '' '.    ' │    \n",
       "      │ '        '  . ' ' ' .'        '  ''     .  .'  .      │    \n",
       "      │   : .': ' '' .: '  '   :.:    .  '     :.  '.  '  .   │    \n",
       "      │ .      .':'.    . . '  .. ' :.'   .. '.   '': :'' '  .│    \n",
       "      │   ' .   ''.   . .'':  . '  ''   .'  '    '':' .       │    \n",
       "   50 │ ' ..'..: ' ' '' .           :   .   ' .  '  . .  ' '  │    \n",
       "      └───────────────────────────────────────────────────────┘    \n",
       "      1                                                     120\n",
       "                              nz = 309\n"
      ]
     },
     "execution_count": 106,
     "metadata": {},
     "output_type": "execute_result"
    }
   ],
   "source": [
    "UnicodePlots.spy(sprandn(50, 120, .05), canvas=DotCanvas, width = 55)"
   ]
  },
  {
   "cell_type": "code",
   "execution_count": 102,
   "metadata": {
    "collapsed": false
   },
   "outputs": [
    {
     "data": {
      "text/plain": [
       "                             My Scatterplot\n",
       "        ┌───────────────────────────────────────────────────────┐ \n",
       "    2.4 │                            .                   '      │ \n",
       "        │                            :                          │ \n",
       "        │                            :  .                       │ \n",
       "        │                            :                          │ \n",
       "        │                          . :        .                 │ \n",
       "        │          ..        '    .  :     .              '     │ \n",
       "        │                     '      : '                .       │ \n",
       "        │ .          '.             ':                          │ \n",
       "        │      '         '        '  :     .         '          │ \n",
       "        │''''''''''''':'''''''''''''':'''':'''''''''''''''''''''│ \n",
       "        │                         .  :                          │ \n",
       "        │ '                     . .  :  .'                 .    │ \n",
       "        │     '       .'      .      :                          │ \n",
       "        │                  .      .  :                  '  '    │ \n",
       "   -1.5 │           '          .     :.     .          .        │ \n",
       "        └───────────────────────────────────────────────────────┘ \n",
       "        -1.9                                                  1.8\n"
      ]
     },
     "execution_count": 102,
     "metadata": {},
     "output_type": "execute_result"
    }
   ],
   "source": [
    "scatterplot(randn(50), randn(50), title = \"My Scatterplot\", color = :red, canvas=DotCanvas, width = 55)"
   ]
  },
  {
   "cell_type": "code",
   "execution_count": 103,
   "metadata": {
    "collapsed": false
   },
   "outputs": [
    {
     "data": {
      "text/plain": [
       "                                    Histogram\n",
       "               ┌──────────────────────────────────────────────────┐ \n",
       "   (-3.5,-3.0] │ 1                                                │ \n",
       "   (-3.0,-2.5] │▇ 3                                               │ \n",
       "   (-2.5,-2.0] │▇▇▇▇ 18                                           │ \n",
       "   (-2.0,-1.5] │▇▇▇▇▇▇▇▇▇▇▇ 50                                    │ \n",
       "   (-1.5,-1.0] │▇▇▇▇▇▇▇▇▇▇▇▇▇▇▇▇▇▇▇ 87                            │ \n",
       "   (-1.0,-0.5] │▇▇▇▇▇▇▇▇▇▇▇▇▇▇▇▇▇▇▇▇▇▇▇▇▇▇▇▇▇▇▇▇▇▇▇▇▇ 169         │ \n",
       "    (-0.5,0.0] │▇▇▇▇▇▇▇▇▇▇▇▇▇▇▇▇▇▇▇▇▇▇▇▇▇▇▇▇▇▇▇▇▇▇▇▇▇▇▇▇▇▇▇▇▇ 207 │ \n",
       "     (0.0,0.5] │▇▇▇▇▇▇▇▇▇▇▇▇▇▇▇▇▇▇▇▇▇▇▇▇▇▇▇▇▇▇▇▇▇▇▇▇▇▇▇▇ 186      │ \n",
       "     (0.5,1.0] │▇▇▇▇▇▇▇▇▇▇▇▇▇▇▇▇▇▇▇▇▇▇▇▇▇▇▇▇▇ 134                 │ \n",
       "     (1.0,1.5] │▇▇▇▇▇▇▇▇▇▇▇▇▇▇▇▇▇ 76                              │ \n",
       "     (1.5,2.0] │▇▇▇▇▇▇▇▇▇ 43                                      │ \n",
       "     (2.0,2.5] │▇▇▇ 15                                            │ \n",
       "     (2.5,3.0] │▇▇ 9                                              │ \n",
       "     (3.0,3.5] │ 2                                                │ \n",
       "               └──────────────────────────────────────────────────┘ \n"
      ]
     },
     "execution_count": 103,
     "metadata": {},
     "output_type": "execute_result"
    }
   ],
   "source": [
    "histogram(randn(1000), bins = 15, title = \"Histogram\", width = 50)"
   ]
  },
  {
   "cell_type": "code",
   "execution_count": 104,
   "metadata": {
    "collapsed": false
   },
   "outputs": [
    {
     "data": {
      "text/plain": [
       "             ┌──────────────────────────────────────────────────┐                        \n",
       "           1 │  ▒                                               │ (anonymous function)(x)\n",
       "             │ ▒ ▒                                              │                        \n",
       "             │ ▒ ▒                                              │                        \n",
       "             │ ▒  ▒       ░▒▒                                   │                        \n",
       "             │▒   ▒       ▒ ▒                                   │                        \n",
       "             │▒   ▒      ░░  ▓       ▒▒▒                        │                        \n",
       "             │▒   ░░     ▒   ▒      ▒▒  ▒       ▒▒▒░        ▒░  │                        \n",
       "   f(x)      │▒    ▒     ▒    ▒     ▒   ▒▒     ▒░  ▒░     ▒▒ ▒▒ │                        \n",
       "             │▒░░░░▒░░░░▒▒░░░░▒░░░░▒▒░░░░█▒ ░░▒▒░░░░▒▒░░░▒▒░░░░░│                        \n",
       "             │     ▒    ▒     ░▒   ▒      ▒   ▒      ▒▒░▒░      │                        \n",
       "             │      ▒   ▒      ▒  ▒▒      ▓ ▒▒         ▒        │                        \n",
       "             │      ▒  ░░      ▒░ ▒                             │                        \n",
       "             │      ▓  ▒        ▒▒                              │                        \n",
       "             │       ▒░▒                                        │                        \n",
       "        -0.8 │       ▒▒                                         │                        \n",
       "             └──────────────────────────────────────────────────┘                        \n",
       "             0                                                9.5\n",
       "                                      x\n"
      ]
     },
     "execution_count": 104,
     "metadata": {},
     "output_type": "execute_result"
    }
   ],
   "source": [
    "myPlot = lineplot(x->sin(3x)*exp(-0.2x),0,3pi, canvas=DensityCanvas, width = 50)"
   ]
  },
  {
   "cell_type": "code",
   "execution_count": 105,
   "metadata": {
    "collapsed": false
   },
   "outputs": [
    {
     "data": {
      "text/plain": [
       "        ┌──────────────────────────────────────────────────┐ \n",
       "    3.2 │                           ░░ ░░ ░▓░ ░░░░░░▒    ░ │ \n",
       "        │                       ░    ░ ░▒░░▒▒▒▒░▓▒░░░░ ░░░░│ \n",
       "        │                   ░  ░░ ░ ░▒ ▒▒▒▒▒▒▒▒█▒░░░▓▒ ░░  │ \n",
       "        │                 ░ ░░   ░░▒░▓ ▒▓░▒▒▒▓▒▓▒▒░░░░░░ ░ │ \n",
       "        │              ░░ ░   ░░░ ░░░▒ ▒▒░▒░░▒ ░▒░░ ░░░░ ░░│ \n",
       "        │             ░░░░░▒░░░░░░░▒▓█ ▒▒░░░░░░░░░░░ ░░ ░ ░│ \n",
       "        │           ░  ░░ ▒░▒▒▒▒▒▓▒░░▓ ░░▒░░░░ ░  ░░       │ \n",
       "        │           ░░░ ░░░░░▒▓░▓▓░▓░▓ ░░░░░ ░░ ░  ░       │ \n",
       "        │           ░  ░░░▒░░░░▒░░▒▒░█ ░ ░░   ░     ░      │ \n",
       "        │           ░ ░░ ░░░▒░▒░░░░░▒▒ ░░░ ░ ░░░           │ \n",
       "        │             ░  ░░░  ░░░ ░░░   ░                  │ \n",
       "        │                   ░      ░ ░                     │ \n",
       "        │                                                  │ \n",
       "        │                                                  │ \n",
       "   -3.3 │                                                  │ \n",
       "        └──────────────────────────────────────────────────┘ \n",
       "        -3.3                                             3.7\n"
      ]
     },
     "execution_count": 105,
     "metadata": {},
     "output_type": "execute_result"
    }
   ],
   "source": [
    "myPlot = densityplot(randn(1000), randn(1000), color = :blue, width = 50)\n",
    "densityplot!(myPlot, randn(1000) + 2, randn(1000) + 2, color = :red, width = 50)"
   ]
  },
  {
   "cell_type": "code",
   "execution_count": null,
   "metadata": {
    "collapsed": true
   },
   "outputs": [],
   "source": []
  }
 ],
 "metadata": {
  "kernelspec": {
   "display_name": "Julia 0.4.5",
   "language": "julia",
   "name": "julia-0.4"
  },
  "language_info": {
   "file_extension": ".jl",
   "mimetype": "application/julia",
   "name": "julia",
   "version": "0.4.5"
  }
 },
 "nbformat": 4,
 "nbformat_minor": 0
}
