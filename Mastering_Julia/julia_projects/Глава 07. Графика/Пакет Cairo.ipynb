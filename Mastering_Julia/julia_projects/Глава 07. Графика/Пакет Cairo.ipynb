{
 "cells": [
  {
   "cell_type": "markdown",
   "metadata": {},
   "source": [
    "<div style=\"text-align: left;\"><img src=\"https://www.juliabox.org/assets/img/juliacloudlogo.png\" style=\"margin: 0px 0px 0px 0px; padding-right: 20px;width: 80px; float: left;\" title=\"\" alt=\"\" /></div>\n",
    "<img src=\"http://dmkpress.com/images/cms/thumbs/a5b0aeaa3fa7d6e58d75710c18673bd7ec6d5f6d/978-5-97060-370-3_270_369__100.jpg\" style=\"margin: 0px 0px 5px 20px; width: 100px; float: right;\" title=\"\" alt=\"\" />\n",
    "Всестороннее введение в новый язык программирования для научно-технических вычислений [Julia](http://julialang.org/) в книге Малколма Шеррингтона, Packt Publishing, июль 2015.\n",
    "\n",
    "<h1>Осваиваем язык Julia</h1><br />\n",
    "\n",
    "Совершенствование мастерства в области аналитики и программирования при помощи Julia в целях решения задач комплексной обработки данных\n",
    "<div style=\"text-align: left;font-size:8pt;padding-top:10px;\">Программный код Julia (v0.4.5) протестирован в Windows 8.1/10 и Linux/Lubuntu 16.4</div>\n",
    "<div style=\"text-align: left;\"><h1>Глава 7. Графика</h1></div>"
   ]
  },
  {
   "cell_type": "markdown",
   "metadata": {},
   "source": [
    "### Пакет Cairo"
   ]
  },
  {
   "cell_type": "code",
   "execution_count": null,
   "metadata": {
    "collapsed": true
   },
   "outputs": [],
   "source": [
    "#\n",
    "# cairo_stroke.jl\n",
    "#\n",
    "\n",
    "cd(joinpath(homedir(),\"julia_projects\",\"images\"))\n",
    "\n",
    "using Cairo\n",
    "\n",
    "c = CairoRGBSurface(512, 128);\n",
    "cr = CairoContext(c);\n",
    "save(cr);\n",
    "set_source_rgb(cr, 0.8, 0.8, 0.8);      # светло-серый\n",
    "rectangle(cr, 0.0, 0.0, 512.0, 128.0);  # фон\n",
    "fill(cr);\n",
    "restore(cr);\n",
    "save(cr);\n",
    "\n",
    "x0=51.2; y0=64.0;\n",
    "x1=204.8; y1=115.4;\n",
    "x2=307.2; y2=12.8;\n",
    "x3=460.8; y3=64.0;\n",
    "move_to (cr, x0, y0);\n",
    "curve_to (cr, x1, y1, x2, y2, x3, y3);\n",
    "set_line_width (cr, 10.0);\n",
    "stroke (cr);\n",
    "restore(cr);\n",
    "\n",
    "move_to(cr, 12.0, 12.0);\n",
    "set_source_rgb (cr, 0, 0, 0);\n",
    "\n",
    "show_text(cr,\"Figure 7-2\")\n",
    "write_to_png(c,\"figure_7_2_stroke.png\");\n",
    "\n",
    "print(\"Изображение успешно записано да диск.\")"
   ]
  },
  {
   "cell_type": "markdown",
   "metadata": {},
   "source": [
    "### Пакет Cairo (повторно)"
   ]
  },
  {
   "cell_type": "code",
   "execution_count": null,
   "metadata": {
    "collapsed": true
   },
   "outputs": [],
   "source": [
    "cd(joinpath(homedir(),\"julia_projects\",\"images\"))\n",
    "\n",
    "using Cairo\n",
    "\n",
    "c = CairoRGBSurface(256,256); # Холст размером 256x256\n",
    "cr = CairoContext(c);\n",
    "Cairo.save(cr);\n",
    "set_source_rgb(cr,0.8,0.8,0.8); # светло-серый\n",
    "Cairo.rectangle(cr,0.0,0.0,256.0,256.0); # фон\n",
    "fill(cr);\n",
    "restore(cr);\n",
    "Cairo.save(cr);\n",
    "\n",
    "arc(cr, 128.0, 128.0, 76.8, 0, 2*pi);\n",
    "Cairo.clip(cr);\n",
    "new_path(cr);\n",
    "\n",
    "image = read_from_png(\"towerbridge.png\");\n",
    "w = image.width;\n",
    "h = image.height;\n",
    "scale(cr, 256.0/w, 256.0/h);\n",
    "set_source_surface(cr, image, 0, 0);\n",
    "paint(cr);\n",
    "write_to_png(c,\"figure_7_9_towerbridge_cropped.png\");\n",
    "\n",
    "print(\"График успешно записан на диск.\")"
   ]
  }
 ],
 "metadata": {
  "kernelspec": {
   "display_name": "Julia 0.4.5",
   "language": "julia",
   "name": "julia-0.4"
  },
  "language_info": {
   "file_extension": ".jl",
   "mimetype": "application/julia",
   "name": "julia",
   "version": "0.4.5"
  }
 },
 "nbformat": 4,
 "nbformat_minor": 0
}
