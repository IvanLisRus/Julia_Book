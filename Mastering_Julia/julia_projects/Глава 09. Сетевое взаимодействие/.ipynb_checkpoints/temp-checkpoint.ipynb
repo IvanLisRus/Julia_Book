{
 "cells": [
  {
   "cell_type": "code",
   "execution_count": 56,
   "metadata": {
    "collapsed": false
   },
   "outputs": [
    {
     "ename": "LoadError",
     "evalue": "LoadError: syntax: missing last argument in \"2:\" range expression \nwhile loading In[56], in expression starting on line 5",
     "output_type": "error",
     "traceback": [
      "LoadError: syntax: missing last argument in \"2:\" range expression \nwhile loading In[56], in expression starting on line 5",
      ""
     ]
    }
   ],
   "source": [
    "function getParams(str)\n",
    "   queryString = str\n",
    "   keyValPairs = AbstractString[];\n",
    "   params      = Dict();\n",
    "   queryString = queryString[2:]\n",
    "\n",
    "   if length(queryString) > 0\n",
    "      keyValPairs = split(queryString,\"&\");\n",
    "      for pairNum in keyValPairs\n",
    "        #key = keyValPairs[pairNum].split('=')[0];\n",
    "        #if !length(key) continue end\n",
    "        #if typeof(params[key]) == 'nothing'\n",
    "        #  params[key] = [];\n",
    "        #end\n",
    "        #params[key].push(keyValPairs[pairNum].split('=')[1]);\n",
    "            pairNum\n",
    "      end\n",
    "   end\n",
    "   params\n",
    "end\n",
    "\n",
    "function getParameterByName(name) \n",
    "    match = RegExp('[?&]' + name + '=([^&]*)').exec(window.location.search);\n",
    "    match && replace(match[1], \"+\", ' ');\n",
    "end\n",
    "\n",
    "resource = \"id=777&name=qwerty&prop=134243::\"\n",
    "getParams(resource)"
   ]
  },
  {
   "cell_type": "code",
   "execution_count": null,
   "metadata": {
    "collapsed": true
   },
   "outputs": [],
   "source": [
    "function getParameterByName(name, url) {\n",
    "    if (!url) url = window.location.href;\n",
    "    name = name.replace(/[\\[\\]]/g, \"\\\\$&\");\n",
    "    var regex = new RegExp(\"[?&]\" + name + \"(=([^&#]*)|&|#|$)\"),\n",
    "        results = regex.exec(url);\n",
    "    if (!results) return null;\n",
    "    if (!results[2]) return '';\n",
    "    return decodeURIComponent(results[2].replace(/\\+/g, \" \"));\n",
    "}\n",
    "    \n",
    "    var urlParams;\n",
    "(window.onpopstate = function () {\n",
    "    var match,\n",
    "        pl     = /\\+/g,  // Regex for replacing addition symbol with a space\n",
    "        search = /([^&=]+)=?([^&]*)/g,\n",
    "        decode = function (s) { return decodeURIComponent(s.replace(pl, \" \")); },\n",
    "        query  = window.location.search.substring(1);\n",
    "\n",
    "    urlParams = {};\n",
    "    while (match = search.exec(query))\n",
    "       urlParams[decode(match[1])] = decode(match[2]);\n",
    "})();\n",
    "        \n",
    "var qs = (function(a) {\n",
    "    if (a == \"\") return {};\n",
    "    var b = {};\n",
    "    for (var i = 0; i < a.length; ++i)\n",
    "    {\n",
    "        var p=a[i].split('=', 2);\n",
    "        if (p.length == 1)\n",
    "            b[p[0]] = \"\";\n",
    "        else\n",
    "            b[p[0]] = decodeURIComponent(p[1].replace(/\\+/g, \" \"));\n",
    "    }\n",
    "    return b;\n",
    "})(window.location.search.substr(1).split('&'));\n",
    "            \n",
    "function (b) {\n",
    "    var c = typeof b === \"undefined\";\n",
    "    if (a !== h && c) return a;\n",
    "    for (var d = {}, b = b || k[B][vb], e = b[p](\"?\"), f = b[p](\"#\"), b = (f === -1 ? b[Ya](e + 1) : [b[Ya](e + 1, f - e - 1), \"&\", b[Ya](f + 1)][K](\"\"))[z](\"&\"), e = i.dd ? ia : unescape, f = 0, g = b[w]; f < g; ++f) {\n",
    "        var l = b[f][p](\"=\");\n",
    "        if (l !== -1) {\n",
    "            var q = b[f][I](0, l),\n",
    "                l = b[f][I](l + 1),\n",
    "                l = l[Ca](/\\+/g, \" \");\n",
    "            try {\n",
    "                d[q] = e(l)\n",
    "            } catch (A) {}\n",
    "        }\n",
    "    }\n",
    "    c && (a = d);\n",
    "    return d\n",
    "}\n",
    "                \n",
    "(function($) {\n",
    "    $.QueryString = (function(a) {\n",
    "        if (a == \"\") return {};\n",
    "        var b = {};\n",
    "        for (var i = 0; i < a.length; ++i)\n",
    "        {\n",
    "            var p=a[i].split('=');\n",
    "            if (p.length != 2) continue;\n",
    "            b[p[0]] = decodeURIComponent(p[1].replace(/\\+/g, \" \"));\n",
    "        }\n",
    "        return b;\n",
    "    })(window.location.search.substr(1).split('&'))\n",
    "})(jQuery);\n",
    "                    \n",
    "function getParameterByName(name) {\n",
    "    var match = RegExp('[?&]' + name + '=([^&]*)').exec(window.location.search);\n",
    "    return match && decodeURIComponent(match[1].replace(/\\+/g, ' '));\n",
    "}\n",
    "                        \n",
    "$.urlParam = function(name, url) {\n",
    "    if (!url) {\n",
    "     url = window.location.href;\n",
    "    }\n",
    "    var results = new RegExp('[\\\\?&]' + name + '=([^&#]*)').exec(url);\n",
    "    if (!results) { \n",
    "        return undefined;\n",
    "    }\n",
    "    return results[1] || undefined;\n",
    "}"
   ]
  },
  {
   "cell_type": "code",
   "execution_count": 6,
   "metadata": {
    "collapsed": false
   },
   "outputs": [
    {
     "name": "stdout",
     "output_type": "stream",
     "text": [
      "?????"
     ]
    }
   ],
   "source": [
    "# ^\\?([\\w-]+(=[\\w-]*)?(&[\\w-]+(=[\\w-]*)?)*)?$\n",
    "# ^\\?(\\w+(=[\\w-]*)?(&\\w+(=[\\w-]*)?)*)?$\n",
    "# ^\\?([^=]+=[^=]+&)+[^=]+(=[^=]+)?$\n",
    "# ^\\?([\\w-]+=[\\w-]*(&[\\w-]+=[\\w-]*))?$\n",
    "# (https?|ftp|file)\\://[a-zA-Z0-9\\.\\-]+(/[a-zA-Z0-9\\?\\&\\=;\\+!'\\(\\)\\*\\-\\._~%]*)*\n",
    "\n",
    "#re = r\"^(([^&]+)=([^&]+))*(&(([^&]+)=([^&]+))).*?\"\n",
    "#re = r\"^\\/([^=&]+)(=([^&]*))?\"      # \"([^?=&]+)(=([^&]*))?\"\n",
    "#re = r\"(([^?=&]+)(=([^=&]*))?)*\"\n",
    "\n",
    "re = r\"^(\\w+(\\-w+)*)=(\\w+(\\-w+)*)(&(\\w+(\\-w+)*)=(\\w+(\\-w+)*))*\"si\n",
    "\n",
    "#re = r\"^((\\w+)=(\\w+)(&(\\w+)=(\\w+)*)*)*\"\n",
    "\n",
    "#re = r\"(((\\w+)=(\\w+))*)*\"si\n",
    "\n",
    "re = r\"(?<name>name=(\\w+))\"s    # RegexMatch(\"name=qwerty\", name=\"name=qwerty\", 2=\"qwerty\")\n",
    "re = r\"(?<id>id=(\\w+))\"s        # RegexMatch(\"id=777\", id=\"id=777\", 2=\"777\")\n",
    "re = r\"(?<alphanum>([^?&]+))\"s        # RegexMatch(\"about\", about=\"about\", 2=\"about\")\n",
    "re = r\"(?<num>(\\d+))\"s  \n",
    "\n",
    "re = r\"(?<num>(\\d+))|(?<alphanum>([^?&]+))|(?<id>id=(\\w+))|(?<name>name=(\\w+))\"i\n",
    "\n",
    "re = r\"(?<prop>\\w+=\\w+)+|(?<num>\\d+$)|(?<alphanum>[^?&]+$)\"i\n",
    "\n",
    "resource = \"id=777&name=qwerty&prop=134243::\"\n",
    "#resource = \"777f\"\n",
    "\n",
    "m = match(re,resource)\n",
    "#if m == nothing println(404) end\n",
    "#m.captures\n",
    "#m[:prop]\n",
    "if m[:prop] != nothing \n",
    "    print(\"?????\") \n",
    "end\n",
    "\n"
   ]
  },
  {
   "cell_type": "code",
   "execution_count": 129,
   "metadata": {
    "collapsed": false
   },
   "outputs": [
    {
     "data": {
      "text/plain": [
       "RegexMatch(\"ad\", 1=\"a\", 2=nothing, 3=\"d\")"
      ]
     },
     "execution_count": 129,
     "metadata": {},
     "output_type": "execute_result"
    }
   ],
   "source": [
    "m = match(r\"(a|b)(c)?(d)\", \"ad\")"
   ]
  }
 ],
 "metadata": {
  "kernelspec": {
   "display_name": "Julia 0.4.5",
   "language": "julia",
   "name": "julia-0.4"
  },
  "language_info": {
   "file_extension": ".jl",
   "mimetype": "application/julia",
   "name": "julia",
   "version": "0.4.5"
  }
 },
 "nbformat": 4,
 "nbformat_minor": 0
}
