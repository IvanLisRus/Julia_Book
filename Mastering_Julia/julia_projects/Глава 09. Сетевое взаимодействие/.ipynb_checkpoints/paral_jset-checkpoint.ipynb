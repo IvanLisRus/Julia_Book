{
 "cells": [
  {
   "cell_type": "markdown",
   "metadata": {},
   "source": [
    "<div style=\"text-align: left;\"><img src=\"https://www.juliabox.org/assets/img/juliacloudlogo.png\" style=\"margin: 0px 0px 0px 0px; padding-right: 20px;width: 80px; float: left;\" title=\"\" alt=\"\" /></div>\n",
    "<img src=\"http://dmkpress.com/images/cms/thumbs/a5b0aeaa3fa7d6e58d75710c18673bd7ec6d5f6d/978-5-97060-370-3_270_369__100.jpg\" style=\"margin: 0px 0px 5px 20px; width: 100px; float: right;\" title=\"\" alt=\"\" />\n",
    "Всестороннее введение в новый язык программирования для научно-технических вычислений [Julia](http://julialang.org/) в книге Малколма Шеррингтона, Packt Publishing, июль 2015.\n",
    "\n",
    "<h1>Осваиваем язык Julia</h1><br />\n",
    "\n",
    "Совершенствование мастерства в области аналитики и программирования при помощи Julia в целях решения задач комплексной обработки данных\n",
    "<div style=\"text-align: left;font-size:8pt;padding-top:10px;\">Программный код Julia (v0.4.5) протестирован в Windows 8.1/10 и Linux/Lubuntu 16.4</div>\n",
    "<div style=\"text-align: left;\"><h1>Глава 9. Примеры</h1></div>"
   ]
  },
  {
   "cell_type": "markdown",
   "metadata": {},
   "source": [
    "### Платформа Google Cloud"
   ]
  },
  {
   "cell_type": "code",
   "execution_count": 3,
   "metadata": {
    "collapsed": false
   },
   "outputs": [
    {
     "name": "stdout",
     "output_type": "stream",
     "text": [
      "Изображение успешно записано на диск.\n"
     ]
    }
   ],
   "source": [
    "# \n",
    "# paral_jset.jl\n",
    "#\n",
    "\n",
    "function create_pgmfile(img, outf::AbstractString)\n",
    "  s = open(outf, \"w\")\n",
    "  write(s, \"P5\\n\")\n",
    "  n, m = size(img)\n",
    "  write(s, \"$m $n 255\\n\")\n",
    "  for i=1:n, j=1:m\n",
    "    p = img[i,j]\n",
    "    write(s, p % UInt8)\n",
    "  end\n",
    "  close(s)\n",
    "end\n",
    "\n",
    "function para_jset(img)  \n",
    "   yrange = img[1]  \n",
    "   xrange = img[2]  \n",
    "   array_slice = (size(yrange, 1), size(xrange, 1))  \n",
    "   jset = Array(Int64, array_slice)   #UInt8\n",
    "   x0 = xrange[1]  \n",
    "   y0 = yrange[1]  \n",
    "\n",
    "   for x = xrange, y = yrange  \n",
    "     pix = 256\n",
    "     z = complex( (x-width/2)/(height/2), (y-height/2)/(height/2)) \n",
    "     for n = 1:256\n",
    "       if abs(z) > 2\n",
    "         pix = n-1\n",
    "         break\n",
    "       end\n",
    "       z = z^2 + C\n",
    "     end\n",
    "     jset[y - y0 + 1, x - x0 + 1] = pix   # Int64 !!\n",
    "   end  \n",
    "   return jset  \n",
    "end\n",
    "\n",
    "cd(joinpath(homedir(),\"julia_projects\",\"images\"))\n",
    "\n",
    "@everywhere using DistributedArrays\n",
    "@everywhere width = 2000\n",
    "@everywhere height = 1500\n",
    "@everywhere C = -0.8 - 0.156im\n",
    "\n",
    "dist_jset = DArray(para_jset, (height, width));\n",
    "full_jset = convert(Array, dist_jset);\n",
    "\n",
    "create_pgmfile(full_jset, \"paral_jset.pgm\");\n",
    "println(\"Изображение успешно записано на диск.\")"
   ]
  },
  {
   "cell_type": "code",
   "execution_count": null,
   "metadata": {
    "collapsed": true
   },
   "outputs": [],
   "source": []
  }
 ],
 "metadata": {
  "kernelspec": {
   "display_name": "Julia 0.4.5",
   "language": "julia",
   "name": "julia-0.4"
  },
  "language_info": {
   "file_extension": ".jl",
   "mimetype": "application/julia",
   "name": "julia",
   "version": "0.4.5"
  }
 },
 "nbformat": 4,
 "nbformat_minor": 0
}
