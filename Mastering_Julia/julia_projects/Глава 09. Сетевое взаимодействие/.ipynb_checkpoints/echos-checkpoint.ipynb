{
 "cells": [
  {
   "cell_type": "markdown",
   "metadata": {},
   "source": [
    "<div style=\"text-align: left;\"><img src=\"https://www.juliabox.org/assets/img/juliacloudlogo.png\" style=\"margin: 0px 0px 0px 0px; padding-right: 20px;width: 80px; float: left;\" title=\"\" alt=\"\" /></div>\n",
    "<img src=\"http://dmkpress.com/images/cms/thumbs/a5b0aeaa3fa7d6e58d75710c18673bd7ec6d5f6d/978-5-97060-370-3_270_369__100.jpg\" style=\"margin: 0px 0px 5px 20px; width: 100px; float: right;\" title=\"\" alt=\"\" />\n",
    "Всестороннее введение в новый язык программирования для научно-технических вычислений [Julia](http://julialang.org/) в книге Малколма Шеррингтона, Packt Publishing, июль 2015.\n",
    "\n",
    "<h1>Осваиваем язык Julia</h1><br />\n",
    "\n",
    "Совершенствование мастерства в области аналитики и программирования при помощи Julia в целях решения задач комплексной обработки данных\n",
    "<div style=\"text-align: left;font-size:8pt;padding-top:10px;\">Программный код Julia (v0.4.5) протестирован в Windows 8.1/10 и Linux/Lubuntu 16.4</div>\n",
    "<div style=\"text-align: left;\"><h1>Глава 9. Примеры</h1></div>"
   ]
  },
  {
   "cell_type": "markdown",
   "metadata": {},
   "source": [
    "## Пример эхо-сервера"
   ]
  },
  {
   "cell_type": "code",
   "execution_count": null,
   "metadata": {
    "collapsed": true
   },
   "outputs": [],
   "source": [
    "#! /Users/malcolm/bin/julia -q\n",
    "#\n",
    "# echos.jl\n",
    "#\n",
    "\n",
    "using ArgParse\n",
    "\n",
    "const ECHO_PORT = 3000\n",
    "const ECHO_HOST = \"localhost\"\n",
    "\n",
    "function parse_commandline()\n",
    "  s = ArgParseSettings()\n",
    "  @add_arg_table s begin\n",
    "  \"--server\", \"-s\"\n",
    "    help = \"имя узла сети эхо-сервера\"\n",
    "    default = ECHO_HOST\n",
    "  \"--port\", \"-p\"\n",
    "    help = \"номер порта, на котором выполняется служба\"\n",
    "    arg_type = Int\n",
    "    default = ECHO_PORT\n",
    "  \"--quiet\", \"-q\"\n",
    "    help = \"тихое выполнение, то есть без вывода сервера\"\n",
    "    action = :store_true\n",
    "  end\n",
    "  return parse_args(s)\n",
    "end\n",
    "\n",
    "pa = parse_commandline()\n",
    "\n",
    "ehost = pa[\"server\"]\n",
    "eport = pa[\"port\"]\n",
    "vflag = !pa[\"quiet\"]\n",
    "\n",
    "pp =  (ehost == \"localhost\" ? \"\" : \"$ehost>\")\n",
    "\n",
    "if vflag println(\"Прослушивание на порту $eport\") end\n",
    "server = listen(eport)\n",
    "while true\n",
    "  conn = accept(server)\n",
    "  @async begin\n",
    "    try\n",
    "      while true\n",
    "        s0 = readline(conn)\n",
    "        s1 = chomp(s0) \n",
    "        if length(chomp(s1)) > 0 \n",
    "          s2 = reverse(s1)\n",
    "          if s2 == \".\" \n",
    "            println(\"Готово.\")\n",
    "            close(conn)\n",
    "            exit(0)\n",
    "          else\n",
    "            write(conn,string(pp,s2,\"\\r\\n\"))\n",
    "          end\n",
    "        end\n",
    "      end\n",
    "    catch err\n",
    "      println(\"Соединение утеряно:  $err\")\n",
    "      exit(1)\n",
    "    end\n",
    "  end\n",
    "end"
   ]
  }
 ],
 "metadata": {
  "kernelspec": {
   "display_name": "Julia 0.4.5",
   "language": "julia",
   "name": "julia-0.4"
  },
  "language_info": {
   "file_extension": ".jl",
   "mimetype": "application/julia",
   "name": "julia",
   "version": "0.4.5"
  }
 },
 "nbformat": 4,
 "nbformat_minor": 0
}
