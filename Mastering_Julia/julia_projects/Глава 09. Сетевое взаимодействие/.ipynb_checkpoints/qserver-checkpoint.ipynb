{
 "cells": [
  {
   "cell_type": "markdown",
   "metadata": {},
   "source": [
    "<div style=\"text-align: left;\"><img src=\"https://www.juliabox.org/assets/img/juliacloudlogo.png\" style=\"margin: 0px 0px 0px 0px; padding-right: 20px;width: 80px; float: left;\" title=\"\" alt=\"\" /></div>\n",
    "<img src=\"http://dmkpress.com/images/cms/thumbs/a5b0aeaa3fa7d6e58d75710c18673bd7ec6d5f6d/978-5-97060-370-3_270_369__100.jpg\" style=\"margin: 0px 0px 5px 20px; width: 100px; float: right;\" title=\"\" alt=\"\" />\n",
    "Всестороннее введение в новый язык программирования для научно-технических вычислений [Julia](http://julialang.org/) в книге Малколма Шеррингтона, Packt Publishing, июль 2015.\n",
    "\n",
    "<h1>Осваиваем язык Julia</h1><br />\n",
    "\n",
    "Совершенствование мастерства в области аналитики и программирования при помощи Julia в целях решения задач комплексной обработки данных\n",
    "<div style=\"text-align: left;font-size:8pt;padding-top:10px;\">Программный код Julia (v0.4.5) протестирован в Windows 8.1/10 и Linux/Lubuntu 16.4</div>\n",
    "<div style=\"text-align: left;\"><h1>Глава 9. Примеры</h1></div>"
   ]
  },
  {
   "cell_type": "markdown",
   "metadata": {},
   "source": [
    "### Веб-служба на основе TCP"
   ]
  },
  {
   "cell_type": "code",
   "execution_count": 1,
   "metadata": {
    "collapsed": false
   },
   "outputs": [
    {
     "data": {
      "text/plain": [
       "TCPSocket(open, 0 bytes waiting)"
      ]
     },
     "execution_count": 1,
     "metadata": {},
     "output_type": "execute_result"
    },
    {
     "name": "stdout",
     "output_type": "stream",
     "text": [
      "HTTP/1.1 200 OK\n",
      "Content-type: text/plain; charset=us-ascii\n",
      "Friction is a real drag.\n"
     ]
    }
   ],
   "source": [
    "function qserver(sock::Integer)\n",
    "  path = joinpath(homedir(),\"julia_projects\",\"data\",\"quotes.txt\");\n",
    "  fin = open(path);\n",
    "  header = \"\"\"HTTP/1.1 200 OK\n",
    "           Content-type: text/plain; charset=us-ascii\n",
    "           \"\"\" ;\n",
    "\n",
    "  qa = readlines(fin);\n",
    "  close(fin);\n",
    "  qn = length(qa);\n",
    "  @async begin\n",
    "    server = listen(sock)\n",
    "    while true\n",
    "      qi = rand(1:qn)\n",
    "      qs = chomp(qa[qi])\n",
    "      sock = accept(server)\n",
    "      println(header*qs)\n",
    "    end\n",
    "  end\n",
    "end\n",
    "\n",
    "qserver(8008); # Выполнять его на порту 8000, т.к. порт 80 может быть занят\n",
    "conn = connect(8008)"
   ]
  },
  {
   "cell_type": "code",
   "execution_count": null,
   "metadata": {
    "collapsed": true
   },
   "outputs": [],
   "source": []
  }
 ],
 "metadata": {
  "kernelspec": {
   "display_name": "Julia 0.4.5",
   "language": "julia",
   "name": "julia-0.4"
  },
  "language_info": {
   "file_extension": ".jl",
   "mimetype": "application/julia",
   "name": "julia",
   "version": "0.4.5"
  }
 },
 "nbformat": 4,
 "nbformat_minor": 0
}
