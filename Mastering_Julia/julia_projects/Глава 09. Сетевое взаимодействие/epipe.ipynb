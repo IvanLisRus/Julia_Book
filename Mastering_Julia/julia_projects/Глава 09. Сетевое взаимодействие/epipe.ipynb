{
 "cells": [
  {
   "cell_type": "markdown",
   "metadata": {},
   "source": [
    "<script src=\"https://use.fontawesome.com/2e576da815.js\"></script>"
   ]
  },
  {
   "cell_type": "markdown",
   "metadata": {},
   "source": [
    "<div style=\"text-align: left;\"><img src=\"https://www.juliabox.org/assets/img/juliacloudlogo.png\" style=\"margin: 0px 0px 0px 0px; padding-right: 20px;width: 80px; float: left;\" title=\"\" alt=\"\" /></div>\n",
    "<img src=\"http://dmkpress.com/images/cms/thumbs/a5b0aeaa3fa7d6e58d75710c18673bd7ec6d5f6d/978-5-97060-370-3_270_369__100.jpg\" style=\"margin: 0px 0px 5px 20px; width: 100px; float: right;\" title=\"\" alt=\"\" />\n",
    "Всестороннее введение в новый язык программирования для научно-технических вычислений [Julia](http://julialang.org/) в книге Малколма Шеррингтона, Packt Publishing, июль 2015.\n",
    "\n",
    "<h1>Осваиваем язык Julia</h1><br />\n",
    "\n",
    "Совершенствование мастерства в области аналитики и программирования при помощи Julia в целях решения задач комплексной обработки данных\n",
    "<div style=\"text-align: left;font-size:8pt;padding-top:10px;\">Программный код Julia (v0.4.5) протестирован в Windows 8.1/10 и Linux/Lubuntu 16.4</div>\n",
    "<div style=\"text-align: left;\"><h1>Глава 9. Примеры</h1></div>"
   ]
  },
  {
   "cell_type": "markdown",
   "metadata": {},
   "source": [
    "### Именованные каналы"
   ]
  },
  {
   "cell_type": "markdown",
   "metadata": {},
   "source": [
    "<i class=\"fa fa-linux\" aria-hidden=\"true\"></i>\n",
    "<i class=\"fa fa-apple\" aria-hidden=\"true\"></i>"
   ]
  },
  {
   "cell_type": "code",
   "execution_count": null,
   "metadata": {
    "collapsed": true
   },
   "outputs": [],
   "source": [
    "epipe = \"/tmp/epipe\"; # => Определить файл в качестве именованного канала\n",
    "server = listen(epipe)\n",
    "\n",
    "np = connect(\"/tmp/epipe\")\n",
    "\n",
    "@async while true\n",
    "  write(STDOUT,readline(np))\n",
    "end"
   ]
  },
  {
   "cell_type": "code",
   "execution_count": null,
   "metadata": {
    "collapsed": true
   },
   "outputs": [],
   "source": [
    "#! /Users/malcolm/bin/julia -q\n",
    "#\n",
    "# epipe.jl\n",
    "#\n",
    "# Выполняет обработку нескольких команд\n",
    "# использование: ./echo.jl [ -q ] [ -p <port> ]  [-h <host> ] \n",
    "# только для UNIX-подобных ОС (!)\n",
    "\n",
    "epipe = \"/tmp/epipe\" \n",
    "\n",
    "server = listen(epipe)\n",
    "while true\n",
    "  conn = accept(server)\n",
    "  @async begin\n",
    "    try\n",
    "      while true\n",
    "        s0 = readline(conn)\n",
    "        s1 = chomp(s0) \n",
    "        if length(chomp(s1)) > 0 \n",
    "          s2 = reverse(s1)\n",
    "          if s2 == \".\" \n",
    "            println(\"Готово.\")\n",
    "            close(conn)\n",
    "            exit(0)\n",
    "          else\n",
    "            write(conn,string(s2,\"\\r\\n\"))\n",
    "          end\n",
    "        end\n",
    "      end\n",
    "    catch err\n",
    "      println(\"Соединение утеряно:  $err\")\n",
    "      exit(1)\n",
    "    end\n",
    "  end\n",
    "end"
   ]
  }
 ],
 "metadata": {
  "kernelspec": {
   "display_name": "Julia 0.4.5",
   "language": "julia",
   "name": "julia-0.4"
  },
  "language_info": {
   "file_extension": ".jl",
   "mimetype": "application/julia",
   "name": "julia",
   "version": "0.4.5"
  }
 },
 "nbformat": 4,
 "nbformat_minor": 0
}
