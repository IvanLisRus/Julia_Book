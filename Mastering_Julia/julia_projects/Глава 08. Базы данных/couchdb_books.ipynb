{
 "cells": [
  {
   "cell_type": "markdown",
   "metadata": {},
   "source": [
    "<div style=\"text-align: left;\"><img src=\"https://www.juliabox.org/assets/img/juliacloudlogo.png\" style=\"margin: 0px 0px 0px 0px; padding-right: 20px;width: 80px; float: left;\" title=\"\" alt=\"\" /></div>\n",
    "<img src=\"http://dmkpress.com/images/cms/thumbs/a5b0aeaa3fa7d6e58d75710c18673bd7ec6d5f6d/978-5-97060-370-3_270_369__100.jpg\" style=\"margin: 0px 0px 5px 20px; width: 100px; float: right;\" title=\"\" alt=\"\" />\n",
    "Всестороннее введение в новый язык программирования для научно-технических вычислений [Julia](http://julialang.org/) в книге Малколма Шеррингтона, Packt Publishing, июль 2015.\n",
    "\n",
    "<h1>Осваиваем язык Julia</h1><br />\n",
    "\n",
    "Совершенствование мастерства в области аналитики и программирования при помощи Julia в целях решения задач комплексной обработки данных\n",
    "<div style=\"text-align: left;font-size:8pt;padding-top:10px;\">Программный код Julia (v0.4.5) протестирован в Windows 8.1/10 и Linux/Lubuntu 16.4</div>\n",
    "<div style=\"text-align: left;\"><h1>Глава 8. Базы данных</h1></div>"
   ]
  },
  {
   "cell_type": "markdown",
   "metadata": {},
   "source": [
    "## CouchDB"
   ]
  },
  {
   "cell_type": "code",
   "execution_count": 1,
   "metadata": {
    "collapsed": false
   },
   "outputs": [
    {
     "data": {
      "text/plain": [
       "Dict{AbstractString,Any} with 4 entries:\n",
       "  \"uuid\"    => \"07fb3f7ef7db5835f07828f2c233474b\"\n",
       "  \"couchdb\" => \"Welcome\"\n",
       "  \"version\" => \"1.6.1\"\n",
       "  \"vendor\"  => Dict{AbstractString,Any}(\"name\"=>\"The Apache Software Foundation…"
      ]
     },
     "execution_count": 1,
     "metadata": {},
     "output_type": "execute_result"
    }
   ],
   "source": [
    "using Requests, JSON\n",
    "\n",
    "url = \"http://localhost:5984\"\n",
    "uu = Requests.get(url);\n",
    "json = JSON.parse(bytestring(uu.data))"
   ]
  },
  {
   "cell_type": "code",
   "execution_count": 16,
   "metadata": {
    "collapsed": true
   },
   "outputs": [],
   "source": [
    "# Создать новую базу данных\n",
    "\n",
    "# run(`curl -X PUT http://localhost:5984/quotes_ru`)  \n",
    "\n",
    "url = \"http://localhost:5984/quotes\"\n",
    "Requests.put(url); "
   ]
  },
  {
   "cell_type": "code",
   "execution_count": 12,
   "metadata": {
    "collapsed": false
   },
   "outputs": [
    {
     "data": {
      "text/plain": [
       "3-element Array{Any,1}:\n",
       " \"_replicator\"\n",
       " \"_users\"     \n",
       " \"quotes\"     "
      ]
     },
     "execution_count": 12,
     "metadata": {},
     "output_type": "execute_result"
    }
   ],
   "source": [
    "#run(`curl http://localhost:5984/_all_dbs`)\n",
    "\n",
    "url = \"http://localhost:5984/_all_dbs\"\n",
    "uu = Requests.get(url);\n",
    "json = JSON.parse(bytestring(uu.data))   "
   ]
  },
  {
   "cell_type": "code",
   "execution_count": 3,
   "metadata": {
    "collapsed": false
   },
   "outputs": [
    {
     "data": {
      "text/plain": [
       "Response(201 Created, 11 headers, 95 bytes in body)"
      ]
     },
     "execution_count": 3,
     "metadata": {},
     "output_type": "execute_result"
    }
   ],
   "source": [
    "# curl -H 'Content-Type: application/json' -X POST http://127.0.0.1:5984/quotes -d '{category:\"...\",author:\"...\", \"quote\":\"...\"}'\n",
    "\n",
    "url = \"http://localhost:5984/quotes\"\n",
    "json = Dict(\"category\" => \"Computing\", \n",
    "            \"author\" => \"Scott's Law\", \n",
    "            \"quote\" => \"Adding manpower to a late software project makes it later\") \n",
    "uu = Requests.post(url, json = json)"
   ]
  },
  {
   "cell_type": "code",
   "execution_count": 13,
   "metadata": {
    "collapsed": false
   },
   "outputs": [
    {
     "name": "stdout",
     "output_type": "stream",
     "text": [
      "Данные успешно внесены.\n"
     ]
    }
   ],
   "source": [
    "cd(joinpath(homedir(),\"julia_projects\",\"data\"))\n",
    "include(\"quotes_arr.jl\")\n",
    " \n",
    "using Requests, JSON\n",
    "\n",
    "cdb = \"http://localhost:5984\";\n",
    "qc = cdb * \"/quotes\";\n",
    "\n",
    "for json in quotes_arr\n",
    "  Requests.post(\"$qc\", json=json)\n",
    "end\n",
    "\n",
    "println(\"Данные успешно внесены.\")"
   ]
  },
  {
   "cell_type": "code",
   "execution_count": 4,
   "metadata": {
    "collapsed": false
   },
   "outputs": [
    {
     "data": {
      "text/plain": [
       "Dict{AbstractString,Any} with 3 entries:\n",
       "  \"rows\"       => Any[Dict{AbstractString,Any}(\"key\"=>\"a1b231f6d4193e03702d181b…\n",
       "  \"offset\"     => 0\n",
       "  \"total_rows\" => 2"
      ]
     },
     "execution_count": 4,
     "metadata": {},
     "output_type": "execute_result"
    }
   ],
   "source": [
    "cdb = \"http://localhost:5984\"\n",
    "qc_all = cdb * \"/quotes/_all_docs\"\n",
    "\n",
    "res = bytestring(Requests.get(qc_all).data);\n",
    "json = JSON.parse(res) "
   ]
  },
  {
   "cell_type": "code",
   "execution_count": 5,
   "metadata": {
    "collapsed": false
   },
   "outputs": [
    {
     "data": {
      "text/plain": [
       "2"
      ]
     },
     "execution_count": 5,
     "metadata": {},
     "output_type": "execute_result"
    }
   ],
   "source": [
    "json[\"total_rows\"]   "
   ]
  },
  {
   "cell_type": "code",
   "execution_count": 6,
   "metadata": {
    "collapsed": false
   },
   "outputs": [
    {
     "data": {
      "text/plain": [
       "Dict{AbstractString,Any} with 3 entries:\n",
       "  \"key\"   => \"a1b231f6d4193e03702d181be90058d9\"\n",
       "  \"id\"    => \"a1b231f6d4193e03702d181be90058d9\"\n",
       "  \"value\" => Dict{AbstractString,Any}(\"rev\"=>\"1-c39a3f858486377c80483304e012ce4…"
      ]
     },
     "execution_count": 6,
     "metadata": {},
     "output_type": "execute_result"
    }
   ],
   "source": [
    "json[\"rows\"][2]      # Выделить конкретную запись"
   ]
  },
  {
   "cell_type": "code",
   "execution_count": 7,
   "metadata": {
    "collapsed": false
   },
   "outputs": [
    {
     "data": {
      "text/plain": [
       "Dict{AbstractString,Any} with 5 entries:\n",
       "  \"quote\"    => \"I can resist everything but temptation\"\n",
       "  \"_rev\"     => \"1-c39a3f858486377c80483304e012ce47\"\n",
       "  \"author\"   => \"Oscar Wilde\"\n",
       "  \"_id\"      => \"a1b231f6d4193e03702d181be90058d9\"\n",
       "  \"category\" => \"Books & Plays\""
      ]
     },
     "execution_count": 7,
     "metadata": {},
     "output_type": "execute_result"
    }
   ],
   "source": [
    "qc = cdb * \"/quotes\";\n",
    "\n",
    "key = json[\"rows\"][2][\"key\"];\n",
    "rev = json[\"rows\"][2][\"value\"][\"rev\"];\n",
    "\n",
    "JSON.parse(bytestring(Requests.get(\"$qc/$key\").data))"
   ]
  },
  {
   "cell_type": "code",
   "execution_count": null,
   "metadata": {
    "collapsed": true
   },
   "outputs": [],
   "source": [
    "Requests.delete(\"$qc/$key?rev=$rev\")"
   ]
  },
  {
   "cell_type": "code",
   "execution_count": null,
   "metadata": {
    "collapsed": true
   },
   "outputs": [],
   "source": [
    "json = Dict(\"category\" => \"Books & Plays\", \"author\" => \"Oscar Wilde\", \"quote\" => \"I can resist everything but temptation\")\n",
    "\n",
    "Requests.delete(\"$qc/$key?rev=$rev\")\n",
    "Requests.post(\"$qc\", json=json)"
   ]
  }
 ],
 "metadata": {
  "kernelspec": {
   "display_name": "Julia 0.4.5",
   "language": "julia",
   "name": "julia-0.4"
  },
  "language_info": {
   "file_extension": ".jl",
   "mimetype": "application/julia",
   "name": "julia",
   "version": "0.4.5"
  }
 },
 "nbformat": 4,
 "nbformat_minor": 0
}
