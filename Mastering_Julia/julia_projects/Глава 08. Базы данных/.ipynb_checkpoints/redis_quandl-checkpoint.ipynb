{
 "cells": [
  {
   "cell_type": "markdown",
   "metadata": {},
   "source": [
    "<div style=\"text-align: left;\"><img src=\"https://www.juliabox.org/assets/img/juliacloudlogo.png\" style=\"margin: 0px 0px 0px 0px; padding-right: 20px;width: 80px; float: left;\" title=\"\" alt=\"\" /></div>\n",
    "<img src=\"http://dmkpress.com/images/cms/thumbs/a5b0aeaa3fa7d6e58d75710c18673bd7ec6d5f6d/978-5-97060-370-3_270_369__100.jpg\" style=\"margin: 0px 0px 5px 20px; width: 100px; float: right;\" title=\"\" alt=\"\" />\n",
    "Всестороннее введение в новый язык программирования для научно-технических вычислений [Julia](http://julialang.org/) в книге Малколма Шеррингтона, Packt Publishing, июль 2015.\n",
    "\n",
    "<h1>Осваиваем язык Julia</h1><br />\n",
    "\n",
    "Совершенствование мастерства в области аналитики и программирования при помощи Julia в целях решения задач комплексной обработки данных\n",
    "<div style=\"text-align: left;font-size:8pt;padding-top:10px;\">Программный код Julia (v0.4.5) протестирован в Windows 8.1/10 и Linux/Lubuntu 16.4</div>\n",
    "<div style=\"text-align: left;\"><h1>Глава 8. Базы данных</h1></div>"
   ]
  },
  {
   "cell_type": "markdown",
   "metadata": {},
   "source": [
    "## Redis Quandl"
   ]
  },
  {
   "cell_type": "code",
   "execution_count": null,
   "metadata": {
    "collapsed": true
   },
   "outputs": [],
   "source": [
    "using Quandl, DataFrames, Redis, Winston\n",
    "\n",
    "qapi_key = \"aaaaaaaaaaaaaaaaaaaa\"\t# Your Quandl key\n",
    "set_auth_token(qapi_key)\n",
    "\n",
    "qdf1 = quandl(\"WIKI/AAPL\", format=\"DataFrame\", order=\"asc\");\n",
    "aapl = convert(Array, qdf1[:Close]);\n",
    "scf1 = 1.0/aapl[1];  aapl = scf1 .* aapl;\n",
    "\n",
    "qdf2 = quandl(\"WIKI/MSFT\", format=\"DataFrame\", order=\"asc\");\n",
    "msft = convert(Array, qdf2[:Close]);\n",
    "scf2 = 1.0/msft[1];  msft = scf2 .* msft;\n",
    "\n",
    "n = [1:length(aapl)];\n",
    "conn = RedisConnection()\n",
    "for i = 1:n\n",
    "  rpush(conn,'APPL~Close',aapl[i])\n",
    "  rpush(conn,'MSFT~Close',msft[i])\n",
    "end\n",
    "\n",
    "t = [1:n];\t\t# Just plot the data not the dates\n",
    "\n",
    "aapl-data = float32(lrange(conn,'AAPL~Close',0,-1);\n",
    "msft-data = float32(lrange(conn,'MSFT~Close',0,-1);\n",
    "plot(t, aapl-data,\"b--\", t, msft-data, \"r.\");\n"
   ]
  }
 ],
 "metadata": {
  "kernelspec": {
   "display_name": "Julia 0.4.5",
   "language": "julia",
   "name": "julia-0.4"
  },
  "language_info": {
   "file_extension": ".jl",
   "mimetype": "application/julia",
   "name": "julia",
   "version": "0.4.5"
  }
 },
 "nbformat": 4,
 "nbformat_minor": 0
}
