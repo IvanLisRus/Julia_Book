{
 "cells": [
  {
   "cell_type": "markdown",
   "metadata": {},
   "source": [
    "<script src=\"https://use.fontawesome.com/2e576da815.js\"></script>"
   ]
  },
  {
   "cell_type": "markdown",
   "metadata": {},
   "source": [
    "<div style=\"text-align: left;\"><img src=\"https://www.juliabox.org/assets/img/juliacloudlogo.png\" style=\"margin: 0px 0px 0px 0px; padding-right: 20px;width: 80px; float: left;\" title=\"\" alt=\"\" /></div>\n",
    "<img src=\"http://dmkpress.com/images/cms/thumbs/a5b0aeaa3fa7d6e58d75710c18673bd7ec6d5f6d/978-5-97060-370-3_270_369__100.jpg\" style=\"margin: 0px 0px 5px 20px; width: 100px; float: right;\" title=\"\" alt=\"\" />\n",
    "Всестороннее введение в новый язык программирования для научно-технических вычислений [Julia](http://julialang.org/) в книге Малколма Шеррингтона, Packt Publishing, июль 2015.\n",
    "\n",
    "<h1>Осваиваем язык Julia</h1><br />\n",
    "\n",
    "Совершенствование мастерства в области аналитики и программирования при помощи Julia в целях решения задач комплексной обработки данных\n",
    "<div style=\"text-align: left;font-size:8pt;padding-top:10px;\">Программный код Julia (v0.4.5) протестирован в Windows 8.1/10 и Linux/Lubuntu 16.4</div>\n",
    "<div style=\"text-align: left;\"><h1>Глава 8. Примеры</h1></div>"
   ]
  },
  {
   "cell_type": "markdown",
   "metadata": {},
   "source": [
    "####  Извлечение, преобразование, загрузка данных (англ. Extract, Transform, Load или ETL)"
   ]
  },
  {
   "cell_type": "markdown",
   "metadata": {},
   "source": [
    "<span style=\"font-family:Consolas, monospace; font-weight:bold\">julia<i class=\"fa fa-terminal\" aria-hidden=\"true\"></i></span>"
   ]
  },
  {
   "cell_type": "code",
   "execution_count": null,
   "metadata": {
    "collapsed": true
   },
   "outputs": [],
   "source": [
    "#! /Users/malcolm/bin/julia\n",
    "#\n",
    "# etl.jl\n",
    "#\n",
    "# Проверить число аргументов, вывести описание, если не 1 или 2..\n",
    "\n",
    "cd(joinpath(homedir(),\"julia_projects\",\"data\"))\n",
    "\n",
    "nargs = length(ARGS);\n",
    "\n",
    "if nargs == 0 || nargs > 2 \n",
    "    println(\"использование: etl.jl входной_файл [выходной_файл]\");\n",
    "    exit(); \n",
    "end\n",
    "\n",
    "# Первый аргумент - входной файл\n",
    "# Второй (необязательный) - выходной файл, иначе направить в STDOUT\n",
    "\n",
    "\n",
    "infile = ARGS[1];\n",
    "\n",
    "if nargs == 2 \n",
    "   outfile = ARGS[2];\n",
    "   try \n",
    "      outf = open(outfile,\"w\");\n",
    "   catch\n",
    "      error(\"Не могу создать выходной файл: \", outfile);\n",
    "   end\n",
    "else\n",
    "   outf = STDOUT;\n",
    "end\n",
    "\n",
    "# Функция-однострочник для удвоения одинарных кавычек\n",
    "escticks(s) = replace(s,\"'\",\"''\");\n",
    "\n",
    "# Считать весь файл в матрицу, первая размерность – это число строк\n",
    "qq = readdlm(infile,'\\t');\n",
    "n = size(qq)[1];\n",
    "\n",
    "# Будем хранить все категории в словаре\n",
    "j = 0;\n",
    "cats = Dict(String,Int64);\n",
    "\n",
    "# Основной цикл загрузки таблицы цитат\n",
    "for i = 1:n\n",
    "  cat = qq[i,1];\n",
    "  if haskey(cats,cat)\n",
    "    jd = cats[cat];\n",
    "  else\n",
    "    j = j + 1; jd = j;\n",
    "    cats[cat] = jd;\n",
    "  end\n",
    "  sql = \"insert into quotes values($i,$jd,\";  \n",
    "  if (length(qq[i,2]) > 0)\n",
    "    sql *= string(\"'\", escticks(qq[i,2]), \"',\");\n",
    "  else\n",
    "    sql *= string(\"null,\");  \n",
    "  end\n",
    "  sql *= string(\"'\", escticks(qq[i,3]), \"');\");\n",
    "  wrlte(outf,\"$sql\\n\");\n",
    "end\n",
    "\n",
    "# Теперь выдадим категории\n",
    "for cat = keys(cats)\n",
    "  jd = cats[cat];\n",
    "  write(outf,\"insert into categories($jd,'$cat');\\n\");  \n",
    "end\n",
    "\n",
    "close(outf);    # если outf = STDOUT, то не даст никаких результатов "
   ]
  }
 ],
 "metadata": {
  "kernelspec": {
   "display_name": "Julia 0.4.5",
   "language": "julia",
   "name": "julia-0.4"
  },
  "language_info": {
   "file_extension": ".jl",
   "mimetype": "application/julia",
   "name": "julia",
   "version": "0.4.5"
  }
 },
 "nbformat": 4,
 "nbformat_minor": 0
}
