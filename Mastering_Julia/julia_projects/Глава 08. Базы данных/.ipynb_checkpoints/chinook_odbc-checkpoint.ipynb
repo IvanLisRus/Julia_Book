{
 "cells": [
  {
   "cell_type": "markdown",
   "metadata": {},
   "source": [
    "<div style=\"text-align: left;\"><img src=\"https://www.juliabox.org/assets/img/juliacloudlogo.png\" style=\"margin: 0px 0px 0px 0px; padding-right: 20px;width: 80px; float: left;\" title=\"\" alt=\"\" /></div>\n",
    "<img src=\"http://dmkpress.com/images/cms/thumbs/a5b0aeaa3fa7d6e58d75710c18673bd7ec6d5f6d/978-5-97060-370-3_270_369__100.jpg\" style=\"margin: 0px 0px 5px 20px; width: 100px; float: right;\" title=\"\" alt=\"\" />\n",
    "Всестороннее введение в новый язык программирования для научно-технических вычислений [Julia](http://julialang.org/) в книге Малколма Шеррингтона, Packt Publishing, июль 2015.\n",
    "\n",
    "<h1>Осваиваем язык Julia</h1><br />\n",
    "\n",
    "Совершенствование мастерства в области аналитики и программирования при помощи Julia в целях решения задач комплексной обработки данных\n",
    "<div style=\"text-align: left;font-size:8pt;padding-top:10px;\">Программный код Julia (v0.4.5) протестирован в Windows 8.1/10 и Linux/Lubuntu 16.4</div>\n",
    "<div style=\"text-align: left;\"><h1>Глава 8. Базы данных</h1></div>"
   ]
  },
  {
   "cell_type": "markdown",
   "metadata": {},
   "source": [
    "## Chinook"
   ]
  },
  {
   "cell_type": "code",
   "execution_count": null,
   "metadata": {
    "collapsed": true
   },
   "outputs": [],
   "source": [
    "using ODBC\n",
    "\n",
    "conn = ODBC.connect(\"Chinook\",usr=\"malcolm\",pwd=\"mypasswd\")\n",
    "res = ODBC.query(\"select count(*) from Customers\", conn)\n",
    "println(\"Number of customers: $(res[:K][1])\")\n",
    "\n",
    "sql = \"select a.LastName, a.FirstName,\"; \n",
    "sql *= \" count(b.InvoiceId) as Invs, sum(b.Total) as Amt\";\n",
    "sql *= \" from Customer a\";\n",
    "sql *= \" join Invoice b on a.CustomerId = b.CustomerId\";\n",
    "sql *= \" group by a.LastName having Amt >= 45.00\";\n",
    "sql *= \" order by Amt desc;\";\n",
    "\n",
    "res = ODBC.query(sql);\n",
    "\n",
    "for i in 1:size(res)[1]\n",
    "  LastName  = res[:LastName][i]\n",
    "  FirstName = res[:FirstName][i]\n",
    "  Invs      = res[:Invs][i]\n",
    "  Amt       = res[:Amt][i]\n",
    "  @printf \"%10s %10s %4d %10.2f\\n\" LastName FirstName Invs Amt\n",
    "end\n",
    "\n",
    "sql = \"select a.LastName, a.FirstName, d.Name as TrackName\";\n",
    "sql *= \" from Customer a\";\n",
    "sql *= \" join Invoice b on a.CustomerId = b.CustomerId\";\n",
    "sql *= \" join InvoiceLine c on b.InvoiceId = c.InvoiceId\";\n",
    "sql *= \" join Track d on c.TrackId = d.TrackId\";\n",
    "sql *= \" where a.LastName = 'Cunningham' limit 5;\";\n",
    "\n",
    "res = ODBC.query(sql);\n",
    "\n",
    "for i in 1:size(res)[1]\n",
    "  LastName  = res[:LastName][i]\n",
    "  FirstName = res[:FirstName][i]\n",
    "  TrackName = res[:TrackName][i]\n",
    "  @printf \"%15s %15s %15s\\n\" LastName FirstName TrackName\n",
    "end\n"
   ]
  }
 ],
 "metadata": {
  "kernelspec": {
   "display_name": "Julia 0.4.5",
   "language": "julia",
   "name": "julia-0.4"
  },
  "language_info": {
   "file_extension": ".jl",
   "mimetype": "application/julia",
   "name": "julia",
   "version": "0.4.5"
  }
 },
 "nbformat": 4,
 "nbformat_minor": 0
}
