{
 "cells": [
  {
   "cell_type": "markdown",
   "metadata": {},
   "source": [
    "<div style=\"text-align: left;\"><img src=\"https://www.juliabox.org/assets/img/juliacloudlogo.png\" style=\"margin: 0px 0px 0px 0px; padding-right: 20px;width: 80px; float: left;\" title=\"\" alt=\"\" /></div>\n",
    "<img src=\"http://dmkpress.com/images/cms/thumbs/a5b0aeaa3fa7d6e58d75710c18673bd7ec6d5f6d/978-5-97060-370-3_270_369__100.jpg\" style=\"margin: 0px 0px 5px 20px; width: 100px; float: right;\" title=\"\" alt=\"\" />\n",
    "Всестороннее введение в новый язык программирования для научно-технических вычислений [Julia](http://julialang.org/) в книге Малколма Шеррингтона, Packt Publishing, июль 2015.\n",
    "\n",
    "<h1>Осваиваем язык Julia</h1><br />\n",
    "\n",
    "Совершенствование мастерства в области аналитики и программирования при помощи Julia в целях решения задач комплексной обработки данных\n",
    "<div style=\"text-align: left;font-size:8pt;padding-top:10px;\">Программный код Julia (v0.4.5) протестирован в Windows 8.1/10 и Linux/Lubuntu 16.4</div>\n",
    "<div style=\"text-align: left;\"><h1>Глава 10. Работа с Julia</h1></div>"
   ]
  },
  {
   "cell_type": "markdown",
   "metadata": {
    "collapsed": true
   },
   "source": [
    "## Внутреннее устройство\n",
    "### Язык Femtolisp"
   ]
  },
  {
   "cell_type": "raw",
   "metadata": {},
   "source": [
    "(define (fac n)\n",
    "  (if (<= n 0) 1\n",
    "              (* n (fac (- n 1)))))\n",
    "> (fac 10); # => 3628800\n",
    "> (fac 20); # => #int64(2432902008176640000)\n",
    "> (fac 30); # => #uint64(9682165104862298112)\n",
    "> (fac 40); # => -70609262346240000"
   ]
  },
  {
   "cell_type": "raw",
   "metadata": {},
   "source": [
    "(define (fib n)\n",
    "  (if (< n 2) n\n",
    "             (+ (fib (- n 1))\n",
    "                (fib (- n 2)))))\n",
    "> (fib 10); # => 55\n",
    "> (fib 20); # => 6765\n",
    "> (fib 30); # => 832040\n",
    "> (fib 40); # => 102334155 ( very slow ) "
   ]
  },
  {
   "cell_type": "markdown",
   "metadata": {},
   "source": [
    "### Программный интерфейс Julia"
   ]
  },
  {
   "cell_type": "code",
   "execution_count": 2,
   "metadata": {
    "collapsed": false
   },
   "outputs": [
    {
     "data": {
      "text/plain": [
       "0x000343c17b1449bf"
      ]
     },
     "execution_count": 2,
     "metadata": {},
     "output_type": "execute_result"
    }
   ],
   "source": [
    "time_ns() = ccall(:jl_hrtime, UInt64, ())\n",
    "time_ns()"
   ]
  },
  {
   "cell_type": "raw",
   "metadata": {},
   "source": [
    "#include <stdio.h>\n",
    "#include <math.h>\n",
    "#include <julia.h>\n",
    "#define LIBEXEC \"/usr/lib64/julia\"\n",
    "\n",
    "int main() {\n",
    "  jl_init(LIBEXEC);\n",
    "  JL_SET_STACK_BASE;\n",
    "  jl_function_t *func = jl_get_function(jl_base_module, \"^\");\n",
    "  jl_value_t *arg1 = jl_box_float64(M_PI);\n",
    "  jl_value_t *arg2 = jl_box_float64(2.0);\n",
    "  jl_value_t *ret = jl_call2(func, arg1, arg2);\n",
    "  if (jl_is_float64(ret)) {\n",
    "    double pi2 = jl_unbox_float64(ret);\n",
    "    printf(\"PI (squared) is %f\\n\", pi2);\n",
    "  }\n",
    "  return 0;\n",
    "} "
   ]
  },
  {
   "cell_type": "markdown",
   "metadata": {},
   "source": [
    "## Генерация машинных кодов"
   ]
  },
  {
   "cell_type": "code",
   "execution_count": 3,
   "metadata": {
    "collapsed": false
   },
   "outputs": [
    {
     "data": {
      "text/plain": [
       "inc (generic function with 1 method)"
      ]
     },
     "execution_count": 3,
     "metadata": {},
     "output_type": "execute_result"
    }
   ],
   "source": [
    "inc(x) = x + 1"
   ]
  },
  {
   "cell_type": "code",
   "execution_count": 4,
   "metadata": {
    "collapsed": false
   },
   "outputs": [
    {
     "data": {
      "text/plain": [
       "1-element Array{Any,1}:\n",
       " :($(Expr(:lambda, Any[:x], Any[Any[Any[:x,:Any,0]],Any[],0,Any[]], :(begin  # In[3], line 1:\n",
       "        return x + 1\n",
       "    end))))"
      ]
     },
     "execution_count": 4,
     "metadata": {},
     "output_type": "execute_result"
    }
   ],
   "source": [
    "code_lowered(inc,(Int64,))"
   ]
  },
  {
   "cell_type": "code",
   "execution_count": 5,
   "metadata": {
    "collapsed": false
   },
   "outputs": [
    {
     "data": {
      "text/plain": [
       "1-element Array{Any,1}:\n",
       " :($(Expr(:lambda, Any[:x], Any[Any[Any[:x,Int64,0]],Any[],Any[],Any[]], :(begin  # In[3], line 1:\n",
       "        return (Base.box)(Base.Int,(Base.add_int)(x::Int64,1))\n",
       "    end::Int64))))"
      ]
     },
     "execution_count": 5,
     "metadata": {},
     "output_type": "execute_result"
    }
   ],
   "source": [
    "code_typed(inc,(Int64,))"
   ]
  },
  {
   "cell_type": "code",
   "execution_count": 6,
   "metadata": {
    "collapsed": false
   },
   "outputs": [
    {
     "name": "stdout",
     "output_type": "stream",
     "text": [
      "\n",
      "define i64 @julia_inc_1874(i64) {\n",
      "top:\n",
      "  %1 = add i64 %0, 1\n",
      "  ret i64 %1\n",
      "}\n"
     ]
    }
   ],
   "source": [
    "code_llvm(inc,(Int64,))"
   ]
  },
  {
   "cell_type": "code",
   "execution_count": 7,
   "metadata": {
    "collapsed": false
   },
   "outputs": [
    {
     "name": "stdout",
     "output_type": "stream",
     "text": [
      "\t.text\n",
      "Filename: In[3]\n",
      "Source line: 1\n",
      "\tpushq\t%rbp\n",
      "\tmovq\t%rsp, %rbp\n",
      "Source line: 1\n",
      "\tleaq\t1(%rcx), %rax\n",
      "\tpopq\t%rbp\n",
      "\tret\n"
     ]
    }
   ],
   "source": [
    "code_native(inc,(Int64,))"
   ]
  },
  {
   "cell_type": "code",
   "execution_count": 8,
   "metadata": {
    "collapsed": false
   },
   "outputs": [
    {
     "name": "stdout",
     "output_type": "stream",
     "text": [
      "\n",
      "define double @julia_inc_1884(double) {\n",
      "top:\n",
      "  %1 = fadd double %0, 1.000000e+00\n",
      "  ret double %1\n",
      "}\n"
     ]
    }
   ],
   "source": [
    "code_llvm(inc,(Float64,))"
   ]
  },
  {
   "cell_type": "code",
   "execution_count": 9,
   "metadata": {
    "collapsed": false
   },
   "outputs": [
    {
     "name": "stdout",
     "output_type": "stream",
     "text": [
      "\t.text\n",
      "Filename: In[3]\n",
      "Source line: 1\n",
      "\tpushq\t%rbp\n",
      "\tmovq\t%rsp, %rbp\n",
      "\tmovabsq\t$267743936, %rax        # imm = 0xFF572C0\n",
      "Source line: 1\n",
      "\taddsd\t(%rax), %xmm0\n",
      "\tpopq\t%rbp\n",
      "\tret\n"
     ]
    }
   ],
   "source": [
    "code_native(inc,(Float64,))"
   ]
  },
  {
   "cell_type": "code",
   "execution_count": 10,
   "metadata": {
    "collapsed": false
   },
   "outputs": [
    {
     "data": {
      "text/plain": [
       "fib (generic function with 1 method)"
      ]
     },
     "execution_count": 10,
     "metadata": {},
     "output_type": "execute_result"
    }
   ],
   "source": [
    "function fib(n::Integer)\n",
    "  @assert n > 0\n",
    "  return (n < 3 ? 1 : fib(n-1) + fib(n-2))\n",
    "end "
   ]
  },
  {
   "cell_type": "code",
   "execution_count": 11,
   "metadata": {
    "collapsed": false
   },
   "outputs": [
    {
     "data": {
      "text/plain": [
       "1-element Array{Any,1}:\n",
       " :($(Expr(:lambda, Any[:n], Any[Any[Any[:n,:Any,0]],Any[],0,Any[]], :(begin  # In[10], line 2:\n",
       "        unless n > 0 goto 0\n",
       "        goto 1\n",
       "        0: \n",
       "        ((top(getfield))(Base,:throw))(((top(getfield))((top(getfield))((top(getfield))(Base,:Main),:Base),:AssertionError))(\"n > 0\"))\n",
       "        1:  # In[10], line 3:\n",
       "        unless n < 3 goto 2\n",
       "        return 1\n",
       "        2: \n",
       "        return (Main.fib)(n - 1) + (Main.fib)(n - 2)\n",
       "    end))))"
      ]
     },
     "execution_count": 11,
     "metadata": {},
     "output_type": "execute_result"
    }
   ],
   "source": [
    "code_lowered(fib,(Integer,))"
   ]
  },
  {
   "cell_type": "markdown",
   "metadata": {},
   "source": [
    "## Профилирование"
   ]
  },
  {
   "cell_type": "code",
   "execution_count": 13,
   "metadata": {
    "collapsed": false
   },
   "outputs": [],
   "source": [
    "#\n",
    "# asian_iprofile.jl\n",
    "#\n",
    "\n",
    "using IProfile\n",
    "\n",
    "@iprofile begin\n",
    "  function asianOpt(N=10000,T=100;\n",
    "    S0=100.0,K= 100.0,r=0.05,v=0.2,tma=0.25)\n",
    "    dt = tma/T;\n",
    "    S = zeros(Float64,T);\n",
    "    A = zeros(Float64,N);\n",
    "    for n = 1:N\n",
    "      S[1] = S0\n",
    "      dW = randn(T)*sqrt(dt);\n",
    "      for t = 2:T\n",
    "        z0 = (r - 0.5*v*v)*S[t-1]*dt;\n",
    "        z1 = v*S[t-1]*dW[t];\n",
    "        z2 = 0.5*v*v*S[t-1]*dW[t]*dW[t];\n",
    "        S[t] = S[t-1] + z0 + z1 + z2;\n",
    "      end\n",
    "      A[n] = mean(S);\n",
    "    end\n",
    "    P = zeros(Float64,N);\n",
    "    [ P[n] = max(A[n] - K, 0) for n = 1:N ];\n",
    "    price = exp(-r*tma)*mean(P);\n",
    "  end\n",
    "end"
   ]
  },
  {
   "cell_type": "code",
   "execution_count": 14,
   "metadata": {
    "collapsed": false
   },
   "outputs": [
    {
     "data": {
      "text/plain": [
       "2.592635596502289"
      ]
     },
     "execution_count": 14,
     "metadata": {},
     "output_type": "execute_result"
    }
   ],
   "source": [
    "using IProfile\n",
    "\n",
    "cd(joinpath(homedir(),\"julia_projects\",\"code\"))\n",
    "\n",
    "include(\"asian_iprofile.jl\")\n",
    "asianOpt(1);\n",
    "\n",
    "@iprofile clear\n",
    "\n",
    "asianOpt(100000) "
   ]
  },
  {
   "cell_type": "code",
   "execution_count": 15,
   "metadata": {
    "collapsed": false
   },
   "outputs": [
    {
     "name": "stdout",
     "output_type": "stream",
     "text": [
      "  count  time(%)   time(s) bytes(%) bytes(k)\n",
      "  count  time(%)   time(s) bytes(%) bytes(k)\n",
      "       1   0.00   0.000001   0.00         0  \t# C:\\Users\\labor\\julia_projects\\code\\asian_iprofile.jl, line 8, dt = tma / T\n",
      "       1   0.00   0.000021   0.00         1  \t# C:\\Users\\labor\\julia_projects\\code\\asian_iprofile.jl, line 9, S = zeros(Float64,T)\n",
      "       1   0.03   0.000324   0.44       800  \t# C:\\Users\\labor\\julia_projects\\code\\asian_iprofile.jl, line 10, A = zeros(Float64,N)\n",
      "  100000   0.22   0.002608   0.00         0  \t# C:\\Users\\labor\\julia_projects\\code\\asian_iprofile.jl, line 12, S[1] = S0\n",
      "  100000  14.70   0.171335  98.68    179200  \t# C:\\Users\\labor\\julia_projects\\code\\asian_iprofile.jl, line 13, dW = randn(T) * sqrt(dt)\n",
      " 9900000  21.11   0.245931   0.00         0  \t# C:\\Users\\labor\\julia_projects\\code\\asian_iprofile.jl, line 15, z0 = (r - 0.5 * v * v) * S[t - 1] * dt\n",
      " 9900000  20.78   0.242108   0.00         0  \t# C:\\Users\\labor\\julia_projects\\code\\asian_iprofile.jl, line 16, z1 = v * S[t - 1] * dW[t]\n",
      " 9900000  19.94   0.232374   0.00         0  \t# C:\\Users\\labor\\julia_projects\\code\\asian_iprofile.jl, line 17, z2 = 0.5 * v * v * S[t - 1] * dW[t] * dW[t]\n",
      " 9900000  21.92   0.255404   0.00         0  \t# C:\\Users\\labor\\julia_projects\\code\\asian_iprofile.jl, line 18, S[t] = S[t - 1] + z0 + z1 + z2\n",
      "  100000   1.12   0.013087   0.00         0  \t# C:\\Users\\labor\\julia_projects\\code\\asian_iprofile.jl, line 20, A[n] = mean(S)\n",
      "       1   0.02   0.000202   0.44       800  \t# C:\\Users\\labor\\julia_projects\\code\\asian_iprofile.jl, line 22, P = zeros(Float64,N)\n",
      "       1   0.15   0.001750   0.44       800  \t# C:\\Users\\labor\\julia_projects\\code\\asian_iprofile.jl, line 23, [P[n] = max(A[n] - K,0) for n = 1:N]\n",
      "       1   0.01   0.000078   0.00         0  \t# C:\\Users\\labor\\julia_projects\\code\\asian_iprofile.jl, line 24, price = exp(-r * tma) * mean(P)\n"
     ]
    }
   ],
   "source": [
    "@iprofile report"
   ]
  },
  {
   "cell_type": "markdown",
   "metadata": {},
   "source": [
    "### Профилирование встроенными средствами"
   ]
  },
  {
   "cell_type": "code",
   "execution_count": 16,
   "metadata": {
    "collapsed": false
   },
   "outputs": [
    {
     "data": {
      "text/plain": [
       "0.9999997403693976"
      ]
     },
     "execution_count": 16,
     "metadata": {},
     "output_type": "execute_result"
    }
   ],
   "source": [
    "function myfunc()\n",
    "    A = rand(100, 100, 200)\n",
    "    maximum(A)\n",
    "end\n",
    "\n",
    "myfunc()          # выполнить один раз, чтобы вызвать компиляцию\n",
    "\n",
    "@profile myfunc()"
   ]
  },
  {
   "cell_type": "code",
   "execution_count": 17,
   "metadata": {
    "collapsed": false
   },
   "outputs": [
    {
     "name": "stdout",
     "output_type": "stream",
     "text": [
      "8 task.jl; anonymous; line: 447\n",
      " 1 ...4\\IJulia\\src\\IJulia.jl; eventloop; line: 139\n",
      "  1 ...v0.4\\IJulia\\src\\msg.jl; recv_ipython; line: 65\n",
      "   1 ...a\\v0.4\\ZMQ\\src\\ZMQ.jl; recv; line: 525\n",
      "    1 poll.jl; wait; line: 299\n",
      "     1 task.jl; wait; line: 286\n",
      "      1 task.jl; wait; line: 360\n",
      "       1 stream.jl; process_events; line: 731\n",
      " 7 ...4\\IJulia\\src\\IJulia.jl; eventloop; line: 142\n",
      "  7 ...src\\execute_request.jl; execute_request_0x535c5df2; line: 182\n",
      "   7 loading.jl; include_string; line: 282\n",
      "    7 profile.jl; anonymous; line: 16\n",
      "     3 random.jl; rand!; line: 347\n",
      "      3 dSFMT.jl; dsfmt_fill_array_close_open!; line: 76\n",
      "     1 reduce.jl; _mapreduce; line: 153\n",
      "      1 reduce.jl; mapreduce_impl; line: 295\n"
     ]
    }
   ],
   "source": [
    "Profile.print()"
   ]
  },
  {
   "cell_type": "code",
   "execution_count": null,
   "metadata": {
    "collapsed": true
   },
   "outputs": [],
   "source": [
    "using ProfileView\n",
    "\n",
    "ProfileView.view()"
   ]
  },
  {
   "cell_type": "markdown",
   "metadata": {},
   "source": [
    "## Статический анализ кода \n",
    "### Пакет Lint"
   ]
  },
  {
   "cell_type": "code",
   "execution_count": 19,
   "metadata": {
    "collapsed": false
   },
   "outputs": [
    {
     "name": "stdout",
     "output_type": "stream",
     "text": [
      "etl.jl:58 W356 cat: local variable might cause confusion with a synonymous export from Base\n"
     ]
    }
   ],
   "source": [
    "using Lint\n",
    "\n",
    "lintfile(\"etl.jl\")"
   ]
  },
  {
   "cell_type": "code",
   "execution_count": 3,
   "metadata": {
    "collapsed": false
   },
   "outputs": [
    {
     "data": {
      "text/plain": [
       "asionOpt (generic function with 3 methods)"
      ]
     },
     "execution_count": 3,
     "metadata": {},
     "output_type": "execute_result"
    }
   ],
   "source": [
    "function asionOpt(N::Int=10000.0,T::Int=100; S0=100.0,K= 100.0,v=0.05,v=0.2,tma=0.25)  # 1: v=0.05 вместо r=0.05\n",
    "  dt = tma/T;\n",
    "  S = zeros(Float64,T);\n",
    "  A = zeros(Float64,N);\n",
    "  for n = 1:N\n",
    "    S[1] = S0 \n",
    "    dW = randn(T)*sqrt(dt);\n",
    "    for t = 2:T\n",
    "      z0 = (r - 0.5*v*v)*S[t-1]*dt;\n",
    "      z1 = v*S[t-1]*dW[t];\n",
    "      z2 = 0.5*v*v*S[t-1]*dW[t]*dW[t];\n",
    "            S[t] = S[t-1] + z0 + z1 + z2 + z3;               # 2: лишний терм z3\n",
    "    end\n",
    "    A[n] = mean(S);\n",
    "  end\n",
    "  P = zeros(Float64,N);\n",
    "    \n",
    "  @lintpragma(\"Print type P\")                                # 3\n",
    "    \n",
    "  [ P[n] = max(A[n] - K, 0) for n = 1:N ];\n",
    "  price = exp(-r*tma)*mean(P);\n",
    "end\n",
    "\n",
    "@lintpragma(\"Info me Я специально подправил этот фрагмент\")  # 4"
   ]
  },
  {
   "cell_type": "code",
   "execution_count": 4,
   "metadata": {
    "collapsed": false
   },
   "outputs": [
    {
     "data": {
      "text/plain": [
       "2.8323528289923416"
      ]
     },
     "execution_count": 4,
     "metadata": {},
     "output_type": "execute_result"
    }
   ],
   "source": [
    "asionOpt(100)"
   ]
  },
  {
   "cell_type": "code",
   "execution_count": null,
   "metadata": {
    "collapsed": true
   },
   "outputs": [],
   "source": [
    "cd(joinpath(homedir(),\"julia_projects\",\"code\"))\n",
    "\n",
    "using Lint\n",
    "\n",
    "lintfile(\"asian_lint.jl\")"
   ]
  },
  {
   "cell_type": "markdown",
   "metadata": {},
   "source": [
    "## Отладка"
   ]
  },
  {
   "cell_type": "code",
   "execution_count": null,
   "metadata": {
    "collapsed": true
   },
   "outputs": [],
   "source": [
    "#\n",
    "# asian_debug.jl\n",
    "#\n",
    "\n",
    "using Debug\n",
    "\n",
    "@debug function asianOpt(N=10000,T=100; S0=100.0,K= 100.0,r=0.05,v=0.2,tma=0.25) \n",
    "  dt = tma/T;\n",
    "  S = zeros(Float64,T);\n",
    "  A = zeros(Float64,N);\n",
    "  for n = 1:N\n",
    "    S[1] = S0 \n",
    "    dW = randn(T)*sqrt(dt);\n",
    "    for t = 2:T\n",
    "      z0 = (r - 0.5*v*v)*S[t-1]*dt;\n",
    "      z1 = v*S[t-1]*dW[t];\n",
    "      z2 = 0.5*v*v*S[t-1]*dW[t]*dW[t];\n",
    "      S[t] = S[t-1] + z0 + z1 + z2;\n",
    "    end\n",
    "    A[n] = mean(S);\n",
    "    @bp\n",
    "  end\n",
    "  P = zeros(Float64,N);\n",
    "  [ P[n] = max(A[n] - K, 0) for n = 1:N ];\n",
    "  @bp\n",
    "  price = exp(-r*tma)*mean(P);\n",
    "end"
   ]
  },
  {
   "cell_type": "code",
   "execution_count": null,
   "metadata": {
    "collapsed": false
   },
   "outputs": [
    {
     "name": "stdout",
     "output_type": "stream",
     "text": [
      "\n",
      "at C:\\Users\\labor\\julia_projects\\code\\asian_debug.jl:21\n",
      "\n",
      "      20       A[n] = mean(S);\n",
      " -->  21       @bp\n",
      "      22     end\n",
      "\n",
      "debug:21> "
     ]
    }
   ],
   "source": [
    "cd(joinpath(homedir(),\"julia_projects\",\"code\"))\n",
    "\n",
    "using Debug\n",
    "\n",
    "include(\"asian_debug.jl\")\n",
    "\n",
    "asianOpt(5)"
   ]
  },
  {
   "cell_type": "markdown",
   "metadata": {},
   "source": [
    "## Разработка пакета"
   ]
  },
  {
   "cell_type": "code",
   "execution_count": 2,
   "metadata": {
    "collapsed": false
   },
   "outputs": [
    {
     "data": {
      "text/plain": [
       "MyMod"
      ]
     },
     "execution_count": 2,
     "metadata": {},
     "output_type": "execute_result"
    }
   ],
   "source": [
    "#\n",
    "# MyMod.jl\n",
    "#\n",
    "\n",
    "module MyMod\n",
    "\n",
    "export hi, inc, fac, fib, pisq;\n",
    "\n",
    "hi() = \"Привет\"\n",
    "hi(who::AbstractString) = \"Привет, $who\"\n",
    "inc(x::Number) = x + 1\n",
    "\n",
    "function fac(n::Integer)\n",
    "  @assert n > 0\n",
    "  (n == 1) ? 1 : n*fac(n-1);\n",
    "end\n",
    "\n",
    "function fib_helper(a ::Integer, b::Integer, n::Integer)\n",
    "  (n > 0) ? fib_helper(b, a+b, n-1) : a\n",
    "end\n",
    "\n",
    "function fib(n::Integer)\n",
    "  @assert n > 0\n",
    "  fib_helper(0, 1, n)\n",
    "end\n",
    "\n",
    "function pisq(n::Integer)\n",
    "  (n <= 0) ? error(\"Нулевой или отрицательный аргумент\") : begin\n",
    "    s = 1.0\n",
    "    for k = 1:n\n",
    "      s += (-1.0)^k/(1.0 + k)^2\n",
    "    end\n",
    "    return 12*s\n",
    "  end\n",
    "end\n",
    "\n",
    "end"
   ]
  },
  {
   "cell_type": "code",
   "execution_count": 3,
   "metadata": {
    "collapsed": false
   },
   "outputs": [
    {
     "data": {
      "text/plain": [
       "\"Привет\""
      ]
     },
     "execution_count": 3,
     "metadata": {},
     "output_type": "execute_result"
    }
   ],
   "source": [
    "using MyMod\n",
    "\n",
    "hi()"
   ]
  },
  {
   "cell_type": "code",
   "execution_count": 4,
   "metadata": {
    "collapsed": false
   },
   "outputs": [
    {
     "data": {
      "text/plain": [
       "89"
      ]
     },
     "execution_count": 4,
     "metadata": {},
     "output_type": "execute_result"
    }
   ],
   "source": [
    "fib(11)"
   ]
  },
  {
   "cell_type": "code",
   "execution_count": 6,
   "metadata": {
    "collapsed": false
   },
   "outputs": [],
   "source": [
    "using MyMod\n",
    "using Base.Test\n",
    "\n",
    "@test hi(\"Голубоглазка\") == \"Привет, Голубоглазка\"\n",
    "@test inc(11//7)         == 18//7\n",
    "@test fac(7)             == 5040\n",
    "@test fib(10)            == 55\n",
    "@test_approx_eq inc(2.3) 3.3 "
   ]
  },
  {
   "cell_type": "code",
   "execution_count": 7,
   "metadata": {
    "collapsed": false
   },
   "outputs": [
    {
     "ename": "LoadError",
     "evalue": "LoadError: assertion failed: |pisq(100000) - pi * pi| <= 1.7763568394002505e-11\n  pisq(100000) = 9.869604401689116\n  pi * pi = 9.869604401089358\n  difference = 5.997584651140642e-10 > 1.7763568394002505e-11\nwhile loading In[7], in expression starting on line 1",
     "output_type": "error",
     "traceback": [
      "LoadError: assertion failed: |pisq(100000) - pi * pi| <= 1.7763568394002505e-11\n  pisq(100000) = 9.869604401689116\n  pi * pi = 9.869604401089358\n  difference = 5.997584651140642e-10 > 1.7763568394002505e-11\nwhile loading In[7], in expression starting on line 1",
      ""
     ]
    }
   ],
   "source": [
    "@test_approx_eq pisq(100000) pi*pi"
   ]
  },
  {
   "cell_type": "code",
   "execution_count": 8,
   "metadata": {
    "collapsed": true
   },
   "outputs": [],
   "source": [
    "# Проверка успешная\n",
    "\n",
    "@test_approx_eq_eps pisq(100000) pi*pi 1.0e-6; "
   ]
  },
  {
   "cell_type": "code",
   "execution_count": 9,
   "metadata": {
    "collapsed": false
   },
   "outputs": [
    {
     "name": "stdout",
     "output_type": "stream",
     "text": [
      "MyMod - проверка арифметики\n",
      "  Failure :: (line:-1) :: fact was false\n",
      "    Expression: fib(10) --> 54\n",
      "      Expected: 54\n",
      "      Occurred: 55\n",
      "  Failure :: (line:-1) :: fact was false\n",
      "    Expression: pisq(100000) --> pi * pi\n",
      "      Expected: 9.869604401089358\n",
      "      Occurred: 9.869604401689116\n",
      "Out of 4 total facts:\n",
      "  Verified: 2\n",
      "  Failed:   2\n"
     ]
    },
    {
     "data": {
      "text/plain": [
       "delayed_handler (generic function with 4 methods)"
      ]
     },
     "execution_count": 9,
     "metadata": {},
     "output_type": "execute_result"
    }
   ],
   "source": [
    "using FactCheck\n",
    "\n",
    "facts(\"MyMod - проверка арифметики\") do\n",
    "  @fact inc(2.3) --> 3.3         \n",
    "  @fact fac(5)   --> 120        \n",
    "  @fact fib(10)  --> 54         \n",
    "  @fact pisq(100000) --> pi*pi  # => грубо (pi*pi, 1.0E-6)\n",
    "end"
   ]
  },
  {
   "cell_type": "markdown",
   "metadata": {},
   "source": [
    "## Сообщества программистов\n",
    "### Группа разработчиков JuliaAstro\n",
    "#### Модели космологии"
   ]
  },
  {
   "cell_type": "markdown",
   "metadata": {
    "collapsed": true
   },
   "source": [
    "<pre>\n",
    "function cosmology(;\n",
    "  h = 0.69,         # Безразмерный параметр Хабла\n",
    "  Neff = 3.04,      # Эффективное число нейтринных частиц\n",
    "  OmegaK = 0,       # Плотность кривизны\n",
    "  OmegaM = 0.29,    # Плотность материи\n",
    "  OmegaR = nothing, # Плотность радиации\n",
    "  Tcmb = 2.7255,    # Температура реликтового излучения\n",
    "  w0 = -1,          # Уравнение состояния темной энергии…\n",
    "  wa = 0 )          # ... w0 + wa*(1 - a)\n",
    "</pre>"
   ]
  },
  {
   "cell_type": "code",
   "execution_count": 2,
   "metadata": {
    "collapsed": false
   },
   "outputs": [
    {
     "data": {
      "text/plain": [
       "Cosmology.FlatLCDM(0.69,0.7099122024007928,0.29,8.779759920715362e-5)"
      ]
     },
     "execution_count": 2,
     "metadata": {},
     "output_type": "execute_result"
    }
   ],
   "source": [
    "using Cosmology\n",
    "\n",
    "c = cosmology()"
   ]
  },
  {
   "cell_type": "code",
   "execution_count": 3,
   "metadata": {
    "collapsed": false
   },
   "outputs": [
    {
     "data": {
      "text/plain": [
       "1x4 Array{Symbol,2}:\n",
       " :h  :Ω_Λ  :Ω_m  :Ω_r"
      ]
     },
     "execution_count": 3,
     "metadata": {},
     "output_type": "execute_result"
    }
   ],
   "source": [
    "fieldnames(c)'"
   ]
  },
  {
   "cell_type": "code",
   "execution_count": 4,
   "metadata": {
    "collapsed": false
   },
   "outputs": [
    {
     "data": {
      "text/plain": [
       "0.9999999999999999"
      ]
     },
     "execution_count": 4,
     "metadata": {},
     "output_type": "execute_result"
    }
   ],
   "source": [
    "c.Ω_Λ + c.Ω_m + c.Ω_r; "
   ]
  },
  {
   "cell_type": "code",
   "execution_count": 5,
   "metadata": {
    "collapsed": false
   },
   "outputs": [
    {
     "data": {
      "text/plain": [
       "4344.818231884058"
      ]
     },
     "execution_count": 5,
     "metadata": {},
     "output_type": "execute_result"
    }
   ],
   "source": [
    "Cosmology.hubble_dist_mpc0(c)    # => расстояние Хаббла"
   ]
  },
  {
   "cell_type": "code",
   "execution_count": 6,
   "metadata": {
    "collapsed": false
   },
   "outputs": [
    {
     "data": {
      "text/plain": [
       "14.17121739130435"
      ]
     },
     "execution_count": 6,
     "metadata": {},
     "output_type": "execute_result"
    }
   ],
   "source": [
    "Cosmology.hubble_time_gyr0(c)    # => Хаббловский возраст Вселенной"
   ]
  },
  {
   "cell_type": "code",
   "execution_count": 7,
   "metadata": {
    "collapsed": false
   },
   "outputs": [
    {
     "data": {
      "text/plain": [
       "1.1096021745670541"
      ]
     },
     "execution_count": 7,
     "metadata": {},
     "output_type": "execute_result"
    }
   ],
   "source": [
    "z = 1.7; Cosmology.Z(c,z)"
   ]
  },
  {
   "cell_type": "code",
   "execution_count": 8,
   "metadata": {
    "collapsed": false
   },
   "outputs": [
    {
     "data": {
      "text/plain": [
       "1714.4094327823723"
      ]
     },
     "execution_count": 8,
     "metadata": {},
     "output_type": "execute_result"
    }
   ],
   "source": [
    "Cosmology.hubble_dist_mpc(c,z) "
   ]
  },
  {
   "cell_type": "code",
   "execution_count": 9,
   "metadata": {
    "collapsed": false
   },
   "outputs": [
    {
     "data": {
      "text/plain": [
       "5.591780247876224"
      ]
     },
     "execution_count": 9,
     "metadata": {},
     "output_type": "execute_result"
    }
   ],
   "source": [
    "Cosmology.hubble_time_gyr(c,z)"
   ]
  },
  {
   "cell_type": "code",
   "execution_count": 10,
   "metadata": {
    "collapsed": false
   },
   "outputs": [
    {
     "data": {
      "text/plain": [
       "4821.019758197134"
      ]
     },
     "execution_count": 10,
     "metadata": {},
     "output_type": "execute_result"
    }
   ],
   "source": [
    "comoving_transverse_dist_mpc(c, z)   # =>  Мпк (мегапарсек)"
   ]
  },
  {
   "cell_type": "code",
   "execution_count": 11,
   "metadata": {
    "collapsed": false
   },
   "outputs": [
    {
     "data": {
      "text/plain": [
       "1785.562873406346"
      ]
     },
     "execution_count": 11,
     "metadata": {},
     "output_type": "execute_result"
    }
   ],
   "source": [
    "angular_diameter_dist_mpc(c,z)       # =>  Мпк"
   ]
  },
  {
   "cell_type": "code",
   "execution_count": 12,
   "metadata": {
    "collapsed": false
   },
   "outputs": [
    {
     "data": {
      "text/plain": [
       "13016.753347132264"
      ]
     },
     "execution_count": 12,
     "metadata": {},
     "output_type": "execute_result"
    }
   ],
   "source": [
    "luminosity_dist_mpc(c,z)             # =>  Мпк"
   ]
  },
  {
   "cell_type": "code",
   "execution_count": 13,
   "metadata": {
    "collapsed": false
   },
   "outputs": [
    {
     "data": {
      "text/plain": [
       "469.3592091342582"
      ]
     },
     "execution_count": 13,
     "metadata": {},
     "output_type": "execute_result"
    }
   ],
   "source": [
    "comoving_volume_gpc3(c,z)            # =>  гигапарсек3 (Gpc3)"
   ]
  },
  {
   "cell_type": "code",
   "execution_count": 14,
   "metadata": {
    "collapsed": false
   },
   "outputs": [
    {
     "data": {
      "text/plain": [
       "3.872075267473227"
      ]
     },
     "execution_count": 14,
     "metadata": {},
     "output_type": "execute_result"
    }
   ],
   "source": [
    "age_gyr(c,z)                         # => триллион лет"
   ]
  },
  {
   "cell_type": "markdown",
   "metadata": {},
   "source": [
    "### Гибкая система передачи изображений\n",
    "#### Высокоуровневый API"
   ]
  },
  {
   "cell_type": "code",
   "execution_count": 16,
   "metadata": {
    "collapsed": false
   },
   "outputs": [
    {
     "data": {
      "text/plain": [
       "File: f001a066.fits\n",
       "Mode: \"r\" (read-only)\n",
       "HDUs: Num  Name  Type   \n",
       "      1          Image  \n"
      ]
     },
     "execution_count": 16,
     "metadata": {},
     "output_type": "execute_result"
    }
   ],
   "source": [
    "cd(joinpath(homedir(),\"julia_projects\",\"space\"))\n",
    "\n",
    "using FITSIO\n",
    "\n",
    "f001a = FITS(\"f001a066.fits\")"
   ]
  },
  {
   "cell_type": "code",
   "execution_count": 17,
   "metadata": {
    "collapsed": false
   },
   "outputs": [
    {
     "data": {
      "text/plain": [
       "1x4 Array{Symbol,2}:\n",
       " :fitsfile  :filename  :mode  :hdus"
      ]
     },
     "execution_count": 17,
     "metadata": {},
     "output_type": "execute_result"
    }
   ],
   "source": [
    "fieldnames(f001a)'"
   ]
  },
  {
   "cell_type": "code",
   "execution_count": 18,
   "metadata": {
    "collapsed": false
   },
   "outputs": [
    {
     "data": {
      "text/plain": [
       "File: f001a066.fits\n",
       "HDU: 1\n",
       "Type: Image\n",
       "Datatype: Int16\n",
       "Datasize: (7055,7055)\n"
      ]
     },
     "execution_count": 18,
     "metadata": {},
     "output_type": "execute_result"
    }
   ],
   "source": [
    "f001a[1]"
   ]
  },
  {
   "cell_type": "code",
   "execution_count": 19,
   "metadata": {
    "collapsed": false
   },
   "outputs": [
    {
     "data": {
      "text/plain": [
       "2"
      ]
     },
     "execution_count": 19,
     "metadata": {},
     "output_type": "execute_result"
    }
   ],
   "source": [
    "ndims(f001a[1])"
   ]
  },
  {
   "cell_type": "code",
   "execution_count": 20,
   "metadata": {
    "collapsed": false
   },
   "outputs": [
    {
     "data": {
      "text/plain": [
       "(7055,7055)"
      ]
     },
     "execution_count": 20,
     "metadata": {},
     "output_type": "execute_result"
    }
   ],
   "source": [
    "size(f001a[1]) "
   ]
  },
  {
   "cell_type": "code",
   "execution_count": 22,
   "metadata": {
    "collapsed": false
   },
   "outputs": [],
   "source": [
    "data = read(f001a[1]);\n",
    "header = read_header(f001a[1]);"
   ]
  },
  {
   "cell_type": "code",
   "execution_count": 23,
   "metadata": {
    "collapsed": false
   },
   "outputs": [
    {
     "data": {
      "text/plain": [
       "128"
      ]
     },
     "execution_count": 23,
     "metadata": {},
     "output_type": "execute_result"
    }
   ],
   "source": [
    "length(header)    "
   ]
  },
  {
   "cell_type": "code",
   "execution_count": 24,
   "metadata": {
    "collapsed": false
   },
   "outputs": [
    {
     "data": {
      "text/plain": [
       "16"
      ]
     },
     "execution_count": 24,
     "metadata": {},
     "output_type": "execute_result"
    }
   ],
   "source": [
    "header[\"BITPIX\"]"
   ]
  },
  {
   "cell_type": "code",
   "execution_count": 25,
   "metadata": {
    "collapsed": false
   },
   "outputs": [
    {
     "data": {
      "text/plain": [
       "\"XJ295_A066_01_00.PIM\""
      ]
     },
     "execution_count": 25,
     "metadata": {},
     "output_type": "execute_result"
    }
   ],
   "source": [
    "header[\"SCANIMG\"]"
   ]
  },
  {
   "cell_type": "code",
   "execution_count": 26,
   "metadata": {
    "collapsed": false
   },
   "outputs": [
    {
     "data": {
      "text/plain": [
       "\"Palomar 48-in Schm\""
      ]
     },
     "execution_count": 26,
     "metadata": {},
     "output_type": "execute_result"
    }
   ],
   "source": [
    "header[\"TELESCOP\"]"
   ]
  },
  {
   "cell_type": "code",
   "execution_count": 27,
   "metadata": {
    "collapsed": false
   },
   "outputs": [
    {
     "data": {
      "text/plain": [
       "\"Telescope where plate taken\""
      ]
     },
     "execution_count": 27,
     "metadata": {},
     "output_type": "execute_result"
    }
   ],
   "source": [
    "getcomment(header,\"TELESCOP\")"
   ]
  },
  {
   "cell_type": "code",
   "execution_count": 28,
   "metadata": {
    "collapsed": false
   },
   "outputs": [
    {
     "data": {
      "text/plain": [
       "\"+33:24:24.00\""
      ]
     },
     "execution_count": 28,
     "metadata": {},
     "output_type": "execute_result"
    }
   ],
   "source": [
    "header[\"SITELAT\"]"
   ]
  },
  {
   "cell_type": "code",
   "execution_count": 29,
   "metadata": {
    "collapsed": false
   },
   "outputs": [
    {
     "data": {
      "text/plain": [
       "\"-116:51:48.00\""
      ]
     },
     "execution_count": 29,
     "metadata": {},
     "output_type": "execute_result"
    }
   ],
   "source": [
    "header[\"SITELONG\"]"
   ]
  },
  {
   "cell_type": "code",
   "execution_count": null,
   "metadata": {
    "collapsed": true
   },
   "outputs": [],
   "source": [
    "f = FITS(\"newfile.fits\", \"w\")\n",
    "data = reshape([1:120000], 300, 400);\n",
    "write(f, data)                     # Записать новое расширение с визуальными данными\n",
    "write(f, data; header=header)   # а также заголовок\n",
    "close(f)"
   ]
  },
  {
   "cell_type": "markdown",
   "metadata": {},
   "source": [
    "#### Низкоуровневый API"
   ]
  },
  {
   "cell_type": "code",
   "execution_count": null,
   "metadata": {
    "collapsed": true
   },
   "outputs": [],
   "source": [
    "cd(joinpath(homedir(),\"julia_projects\",\"space\"))\n",
    "\n",
    "using FITSIO\n",
    "using FITSIO.Libcfitsio\n",
    "\n",
    "# Низкоуровневый API реализован в подмодуле Libcfitsio\n",
    "\n",
    "f001 = fits_open_file(\"f001a066.fits\")\n",
    "\n",
    "n = fits_get_hdrspace(f001)[1]; # => 128\n",
    "\n",
    "for i = 1:n\n",
    "   println(fits_read_keyn(f001,i))\n",
    "end"
   ]
  },
  {
   "cell_type": "markdown",
   "metadata": {
    "collapsed": true
   },
   "source": [
    "### Группа разработчиков JuliaGPU"
   ]
  },
  {
   "cell_type": "code",
   "execution_count": 5,
   "metadata": {
    "collapsed": false
   },
   "outputs": [
    {
     "data": {
      "text/plain": [
       "3-element Array{OpenCL.Device,1}:\n",
       " OpenCL.Device( Intel(R) Core(TM) i3-3217U CPU @ 1.80GHz on Intel(R) OpenCL @0x0000000000fe93e0)\n",
       " OpenCL.Device(Intel(R) HD Graphics 4000 on Intel(R) OpenCL @0x00000000111b1840)                \n",
       " OpenCL.Device(GeForce GT 710M on NVIDIA CUDA @0x0000000011733a60)                              "
      ]
     },
     "execution_count": 5,
     "metadata": {},
     "output_type": "execute_result"
    }
   ],
   "source": [
    "using OpenCL\n",
    "\n",
    "pf = OpenCL.devices()"
   ]
  },
  {
   "cell_type": "code",
   "execution_count": 18,
   "metadata": {
    "collapsed": false
   },
   "outputs": [
    {
     "data": {
      "text/plain": [
       "cl_platform (generic function with 1 method)"
      ]
     },
     "execution_count": 18,
     "metadata": {},
     "output_type": "execute_result"
    }
   ],
   "source": [
    "#\n",
    "# cl_platforms.jl\n",
    "#\n",
    "\n",
    "function cl_platform(pname)\n",
    "    \n",
    "  @printf \"\\n%s\\n\\n\" pf\n",
    "    \n",
    "  for pf in OpenCL.platforms()\n",
    "        \n",
    "    if contains(pf[:name],pname)\n",
    "            \n",
    "      @printf \"\\n\\n%s\\n\\n\" pf\n",
    "      @printf \"Название платформы:\\t\\t%s\\n\" pf[:name]\n",
    "            \n",
    "      if pf[:name] == \"Portable Computing Language\"\n",
    "        warn(\"PCL-платформа пока не поддерживается\")\n",
    "        continue\n",
    "      else\n",
    "        @printf \"Профиль платформы:\\t\\t%s\\n\" pf[:profile]\n",
    "        @printf \"Поставщик платформы:\\t\\t%s\\n\" pf[:vendor]\n",
    "        @printf \"Версия платформы:\\t\\t%s\\n\\n\" pf[:version]\n",
    "\n",
    "        for dv in OpenCL.available_devices(pf)\n",
    "          @printf \"Имя устройства:\\t\\t\\t%s\\n\"               dv[:name]\n",
    "          @printf \"Тип устройства:\\t\\t\\t%s\\n\"               dv[:device_type]\n",
    "          @printf \"Объем ОЗУ:\\t\\t\\t%i MB\\n\"                 (dv[:global_mem_size] / (1024*1024))\n",
    "          @printf \"Макс. размер выделяемой памяти:\\t%i MB\\n\" (dv[:max_mem_alloc_size] / (1024*1024))\n",
    "          @printf \"Макс. тактовая частота:\\t\\t%i MHZ\\n\"     (dv[:max_clock_frequency])\n",
    "          @printf \"Макс. число блоков вычислений:\\t%i\\n\"  (dv[:max_compute_units])\n",
    "          @printf \"Макс. размер рабочей группы:\\t%i\\n\"    (dv[:max_work_group_size])\n",
    "          @printf \"Макс. размер рабочего элемента:\\t%s\\n\\n\" (dv[:max_work_item_size])\n",
    "        end \n",
    "                \n",
    "      end\n",
    "    end\n",
    "  end\n",
    "end"
   ]
  },
  {
   "cell_type": "code",
   "execution_count": 19,
   "metadata": {
    "collapsed": false
   },
   "outputs": [
    {
     "name": "stdout",
     "output_type": "stream",
     "text": [
      "\n",
      "[OpenCL.Device( Intel(R) Core(TM) i3-3217U CPU @ 1.80GHz on Intel(R) OpenCL @0x0000000000fe93e0),OpenCL.Device(Intel(R) HD Graphics 4000 on Intel(R) OpenCL @0x00000000111b1840),OpenCL.Device(GeForce GT 710M on NVIDIA CUDA @0x0000000011733a60)]\n",
      "\n",
      "\n",
      "\n",
      "OpenCL.Platform('Intel(R) OpenCL' @0x00000000109f07c0)\n",
      "\n",
      "Название платформы:\t\tIntel(R) OpenCL\n",
      "Профиль платформы:\t\tFULL_PROFILE\n",
      "Поставщик платформы:\t\tIntel(R) Corporation\n",
      "Версия платформы:\t\tOpenCL 1.2 \n",
      "\n",
      "Имя устройства:\t\t\t Intel(R) Core(TM) i3-3217U CPU @ 1.80GHz\n",
      "Тип устройства:\t\t\tcpu\n",
      "Объем ОЗУ:\t\t\t6030 MB\n",
      "Макс. размер выделяемой памяти:\t1507 MB\n",
      "Макс. тактовая частота:\t\t1800 MHZ\n",
      "Макс. число блоков вычислений:\t4\n",
      "Макс. размер рабочей группы:\t1024\n",
      "Макс. размер рабочего элемента:\t(1024,1024,1024)\n",
      "\n",
      "Имя устройства:\t\t\tIntel(R) HD Graphics 4000\n",
      "Тип устройства:\t\t\tgpu\n",
      "Объем ОЗУ:\t\t\t1400 MB\n",
      "Макс. размер выделяемой памяти:\t350 MB\n",
      "Макс. тактовая частота:\t\t1050 MHZ\n",
      "Макс. число блоков вычислений:\t16\n",
      "Макс. размер рабочей группы:\t512\n",
      "Макс. размер рабочего элемента:\t(512,512,512)\n",
      "\n"
     ]
    }
   ],
   "source": [
    "using OpenCL\n",
    "\n",
    "cl_platform(\"Intel\")"
   ]
  },
  {
   "cell_type": "code",
   "execution_count": 21,
   "metadata": {
    "collapsed": false
   },
   "outputs": [
    {
     "name": "stdout",
     "output_type": "stream",
     "text": [
      "0.74296528 сек. за 2890.42262 мегафлопс\n"
     ]
    },
    {
     "name": "stderr",
     "output_type": "stream",
     "text": [
      "WARNING: redefining constant kernel_source\n"
     ]
    },
    {
     "name": "stdout",
     "output_type": "stream",
     "text": [
      "0.65634264 сек. за 3271.89416 мегафлопс\n",
      "0.65047216 сек. за 3301.42284 мегафлопс\n"
     ]
    }
   ],
   "source": [
    "#\n",
    "# cl_gpu_calc.jl\n",
    "#\n",
    "\n",
    "import OpenCL\n",
    "\n",
    "const cl = OpenCL\n",
    "const kernel_source = \"\"\"\n",
    "  __kernel void mmul(\n",
    "  const int Mdim, const int Ndim, const int Pdim,\n",
    "  __global float* A, __global float* B, __global float* C) {\n",
    "    int k;\n",
    "    int i = get_global_id(0);\n",
    "    int j = get_global_id(1);\n",
    "    float tmp;\n",
    "    if ((i < Ndim) && (j < Mdim)) {\n",
    "      tmp = 0.0f;\n",
    "      for (k = 0; k < Pdim; k++)\n",
    "        tmp += A[i*Ndim + k] * B[k*Pdim + j];\n",
    "        C[i*Ndim+j] = tmp;\n",
    "    }\n",
    "  }\n",
    "\"\"\"\n",
    "\n",
    "const ORDER = 1024; # Порядок квадратных матриц A, B и C\n",
    "const TOL = 0.001;  # Точность (tolerance) вычислений с плавающей тчк\n",
    "const COUNT = 3;    # Число прогонов\n",
    "\n",
    "Ndims = 1024\n",
    "sizeN = ORDER * ORDER;\n",
    "h_A = float32(randn(ORDER)); # Заполнить массив случайными числами\n",
    "h_B = float32(randn(ORDER)); # --- то же самое --\n",
    "h_C = Array(Float32, ORDER); # Массив результатов\n",
    "\n",
    "ctx = cl.Context(cl.devices()[2]);\n",
    "queue = cl.CmdQueue(ctx, :profile);\n",
    "\n",
    "d_a = cl.Buffer(Float32, ctx, (:r,:copy), hostbuf = h_A);\n",
    "d_b = cl.Buffer(Float32, ctx, (:r,:copy), hostbuf = h_B);\n",
    "d_c = cl.Buffer(Float32, ctx, :w, length(h_C));\n",
    "\n",
    "prg = cl.Program(ctx, source=kernel_source) |> cl.build!\n",
    "mmul = cl.Kernel(prg, \"mmul\");\n",
    "\n",
    "for i in 1:COUNT\n",
    "  fill!(h_C, 0.0);\n",
    "    \n",
    "  global_range = (ORDER, ORDER);\n",
    "  mmul_ocl = mmul[queue, global_range];\n",
    "  evt = mmul_ocl(Int32(ORDER), Int32(ORDER), Int32(ORDER), d_a, d_b, d_c);\n",
    "  run_time = evt[:profile_duration] / 1e9;\n",
    "  cl.copy!(queue, h_C, d_c);\n",
    "    \n",
    "  mflops = 2.0 * Ndims^3 / (1000000.0 * run_time);\n",
    "    \n",
    "  @printf \"%10.8f сек. за %9.5f мегафлопс\\n\" run_time mflops\n",
    "end"
   ]
  },
  {
   "cell_type": "code",
   "execution_count": 85,
   "metadata": {
    "collapsed": false
   },
   "outputs": [
    {
     "name": "stdout",
     "output_type": "stream",
     "text": [
      "Время выполнения: 0.459816\u0007 sec.\n"
     ]
    }
   ],
   "source": [
    "#\n",
    "# cl_mmul.jl\n",
    "#\n",
    "\n",
    "import OpenCL\n",
    "\n",
    "const cl = OpenCL\n",
    "const mult_kernel = \"\"\"\n",
    "   __kernel void mult(__global const float *a,\n",
    "                      __global const float *b,\n",
    "                      __global float *c)\n",
    "    {\n",
    "      int gid = get_global_id(0);\n",
    "      c[gid] = a[gid] * b[gid];\n",
    "    }\n",
    "\"\"\"\n",
    "\n",
    "const N = 100_000;\n",
    "\n",
    "a = rand(Float32, N);\n",
    "b = rand(Float32, N);\n",
    "\n",
    "device, ctx, queue = cl.create_compute_context();\n",
    "\n",
    "a_buff = cl.Buffer(Float32, ctx, (:r, :copy), hostbuf=a);\n",
    "b_buff = cl.Buffer(Float32, ctx, (:r, :copy), hostbuf=b);\n",
    "c_buff = cl.Buffer(Float32, ctx, :w, length(a));\n",
    "\n",
    "p = cl.Program(ctx, source=mult_kernel) |> cl.build!;\n",
    "k = cl.Kernel(p, \"mult\");\n",
    "\n",
    "tm = @elapsed cl.call(queue, k, size(a), nothing, a_buff, b_buff, c_buff);\n",
    "\n",
    "@printf \"Время выполнения: %f\\a sec.\\n\" tm"
   ]
  },
  {
   "cell_type": "code",
   "execution_count": null,
   "metadata": {
    "collapsed": true
   },
   "outputs": [],
   "source": []
  }
 ],
 "metadata": {
  "kernelspec": {
   "display_name": "Julia 0.4.5",
   "language": "julia",
   "name": "julia-0.4"
  },
  "language_info": {
   "file_extension": ".jl",
   "mimetype": "application/julia",
   "name": "julia",
   "version": "0.4.5"
  }
 },
 "nbformat": 4,
 "nbformat_minor": 0
}
