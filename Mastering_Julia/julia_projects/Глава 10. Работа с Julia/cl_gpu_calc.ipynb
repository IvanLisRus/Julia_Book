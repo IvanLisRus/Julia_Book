{
 "cells": [
  {
   "cell_type": "markdown",
   "metadata": {},
   "source": [
    "<div style=\"text-align: left;\"><img src=\"https://www.juliabox.org/assets/img/juliacloudlogo.png\" style=\"margin: 0px 0px 0px 0px; padding-right: 20px;width: 80px; float: left;\" title=\"\" alt=\"\" /></div>\n",
    "<img src=\"http://dmkpress.com/images/cms/thumbs/a5b0aeaa3fa7d6e58d75710c18673bd7ec6d5f6d/978-5-97060-370-3_270_369__100.jpg\" style=\"margin: 0px 0px 5px 20px; width: 100px; float: right;\" title=\"\" alt=\"\" />\n",
    "Всестороннее введение в новый язык программирования для научно-технических вычислений [Julia](http://julialang.org/) в книге Малколма Шеррингтона, Packt Publishing, июль 2015.\n",
    "\n",
    "<h1>Осваиваем язык Julia</h1><br />\n",
    "\n",
    "Совершенствование мастерства в области аналитики и программирования при помощи Julia в целях решения задач комплексной обработки данных\n",
    "<div style=\"text-align: left;font-size:8pt;padding-top:10px;\">Программный код Julia (v0.4.5) протестирован в Windows 8.1/10 и Linux/Lubuntu 16.4</div>\n",
    "<div style=\"text-align: left;\"><h1>Глава 10. Примеры</h1></div>"
   ]
  },
  {
   "cell_type": "markdown",
   "metadata": {},
   "source": [
    "### Использование GPU-вычислений"
   ]
  },
  {
   "cell_type": "code",
   "execution_count": 3,
   "metadata": {
    "collapsed": false
   },
   "outputs": [
    {
     "name": "stdout",
     "output_type": "stream",
     "text": [
      "0.71219280 сек. за 3015.31221 мегафлопс\n"
     ]
    },
    {
     "name": "stderr",
     "output_type": "stream",
     "text": [
      "WARNING: redefining constant kernel_source\n"
     ]
    },
    {
     "name": "stdout",
     "output_type": "stream",
     "text": [
      "0.65309968 сек. за 3288.14071 мегафлопс\n",
      "0.64079472 сек. за 3351.28175 мегафлопс\n"
     ]
    }
   ],
   "source": [
    "#\n",
    "# cl_gpu_calc.jl\n",
    "#\n",
    "\n",
    "import OpenCL\n",
    "\n",
    "const cl = OpenCL\n",
    "const kernel_source = \"\"\"\n",
    "  __kernel void mmul(\n",
    "  const int Mdim, const int Ndim, const int Pdim,\n",
    "  __global float* A, __global float* B, __global float* C) {\n",
    "    int k;\n",
    "    int i = get_global_id(0);\n",
    "    int j = get_global_id(1);\n",
    "    float tmp;\n",
    "    if ((i < Ndim) && (j < Mdim)) {\n",
    "      tmp = 0.0f;\n",
    "      for (k = 0; k < Pdim; k++)\n",
    "        tmp += A[i*Ndim + k] * B[k*Pdim + j];\n",
    "        C[i*Ndim+j] = tmp;\n",
    "    }\n",
    "  }\n",
    "\"\"\"\n",
    "\n",
    "const ORDER = 1024; # Порядок квадратных матриц A, B и C\n",
    "const TOL = 0.001;  # Точность (tolerance) вычислений с плавающей тчк\n",
    "const COUNT = 3;    # Число прогонов\n",
    "\n",
    "Ndims = 1024\n",
    "sizeN = ORDER * ORDER;\n",
    "h_A = float32(randn(ORDER)); # Заполнить массив случайными числами\n",
    "h_B = float32(randn(ORDER)); # --- то же самое --\n",
    "h_C = Array(Float32, ORDER); # Массив результатов\n",
    "\n",
    "ctx = cl.Context(cl.devices()[2]);\n",
    "queue = cl.CmdQueue(ctx, :profile);\n",
    "\n",
    "d_a = cl.Buffer(Float32, ctx, (:r,:copy), hostbuf = h_A);\n",
    "d_b = cl.Buffer(Float32, ctx, (:r,:copy), hostbuf = h_B);\n",
    "d_c = cl.Buffer(Float32, ctx, :w, length(h_C));\n",
    "\n",
    "prg = cl.Program(ctx, source=kernel_source) |> cl.build!\n",
    "mmul = cl.Kernel(prg, \"mmul\");\n",
    "\n",
    "for i in 1:COUNT\n",
    "  fill!(h_C, 0.0);\n",
    "    \n",
    "  global_range = (ORDER, ORDER);\n",
    "  mmul_ocl = mmul[queue, global_range];\n",
    "  evt = mmul_ocl(Int32(ORDER), Int32(ORDER), Int32(ORDER), d_a, d_b, d_c);\n",
    "  run_time = evt[:profile_duration] / 1e9;\n",
    "  cl.copy!(queue, h_C, d_c);\n",
    "    \n",
    "  mflops = 2.0 * Ndims^3 / (1000000.0 * run_time);\n",
    "    \n",
    "  @printf \"%10.8f сек. за %9.5f мегафлопс\\n\" run_time mflops\n",
    "end"
   ]
  },
  {
   "cell_type": "code",
   "execution_count": null,
   "metadata": {
    "collapsed": true
   },
   "outputs": [],
   "source": []
  }
 ],
 "metadata": {
  "kernelspec": {
   "display_name": "Julia 0.4.5",
   "language": "julia",
   "name": "julia-0.4"
  },
  "language_info": {
   "file_extension": ".jl",
   "mimetype": "application/julia",
   "name": "julia",
   "version": "0.4.5"
  }
 },
 "nbformat": 4,
 "nbformat_minor": 0
}
