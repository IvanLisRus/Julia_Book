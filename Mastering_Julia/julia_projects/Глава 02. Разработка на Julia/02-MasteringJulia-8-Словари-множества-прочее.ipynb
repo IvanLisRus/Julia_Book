{
 "cells": [
  {
   "cell_type": "markdown",
   "metadata": {
    "collapsed": true
   },
   "source": [
    "<div style=\"text-align: left;\"><img src=\"https://www.juliabox.org/assets/img/juliacloudlogo.png\" style=\"margin: 0px 0px 0px 0px; padding-right: 20px;width: 80px; float: left;\" title=\"\" alt=\"\" /></div>\n",
    "<img src=\"http://dmkpress.com/images/cms/thumbs/a5b0aeaa3fa7d6e58d75710c18673bd7ec6d5f6d/978-5-97060-370-3_270_369__100.jpg\" style=\"margin: 0px 0px 5px 20px; width: 100px; float: right;\" title=\"\" alt=\"\" />\n",
    "Всестороннее введение в новый язык программирования для научно-технических вычислений [Julia](http://julialang.org/) в книге Малколма Шеррингтона, Packt Publishing, июль 2015.\n",
    "\n",
    "<h1>Осваиваем язык Julia</h1><br />\n",
    "\n",
    "Совершенствование мастерства в области аналитики и программирования при помощи Julia в целях решения задач комплексной обработки данных\n",
    "<div style=\"text-align: left;font-size:8pt;padding-top:10px;\">Программный код Julia (v0.4.5) протестирован в Windows 8.1/10 и Linux/Lubuntu 16.4</div>\n",
    "<div style=\"text-align: left;\"><h1>Глава 2. Разработка на Julia</h1></div>"
   ]
  },
  {
   "cell_type": "markdown",
   "metadata": {
    "collapsed": true
   },
   "source": [
    "\n",
    "# Словари, множества и прочее\n"
   ]
  },
  {
   "cell_type": "code",
   "execution_count": 1,
   "metadata": {
    "collapsed": false
   },
   "outputs": [
    {
     "data": {
      "text/plain": [
       "Auth"
      ]
     },
     "execution_count": 1,
     "metadata": {},
     "output_type": "execute_result"
    }
   ],
   "source": [
    "module Auth\n",
    "type UserCreds\n",
    "  uid::Int\n",
    "  password::ASCIIString\n",
    "  fullname::UTF8String\n",
    "  email::ASCIIString\n",
    "  admin::Bool\n",
    "end\n",
    "\n",
    "function matchPwds(_mc::Dict{ASCIIString,UserCreds}, _name::ASCIIString, _pwd::ASCIIString)\n",
    "    return (_mc[_name].password == base64encode(_pwd) ? true : false)\n",
    "end\n",
    "\n",
    "isAdmin(_mc::Dict{ASCIIString,UserCreds}, _name::ASCIIString) = \n",
    "  _mc[_name].admin;\n",
    "\n",
    "function isAdmin2(_mc::Dict{ASCIIString,UserCreds}, _name::ASCIIString)\n",
    "    check_admin::Bool = false;\n",
    "    try\n",
    "        check_admin = _mc[_name].admin\n",
    "    catch\n",
    "        check_admin = false\n",
    "    finally\n",
    "        return check_admin\n",
    "    end\n",
    "end \n",
    "\n",
    "\n",
    "export UserCreds, matchPwds, isAdmin;\n",
    "\n",
    "end"
   ]
  },
  {
   "cell_type": "code",
   "execution_count": 2,
   "metadata": {
    "collapsed": false
   },
   "outputs": [
    {
     "data": {
      "text/plain": [
       "\"OK\""
      ]
     },
     "execution_count": 2,
     "metadata": {},
     "output_type": "execute_result"
    }
   ],
   "source": [
    "using Auth\n",
    "AA = Dict{ASCIIString,UserCreds}();\n",
    "AA[\"malcolm\"] = UserCreds(101,base64encode(\"Pa55word\"),\"Мальколм Шеррингтон\",\"malcolm@myemail.org\",true);\n",
    "\n",
    "matchPwds(AA, \"malcolm\", \"Pa55word\") ? \"OK\" : \"К сожалению, нет\""
   ]
  },
  {
   "cell_type": "code",
   "execution_count": 39,
   "metadata": {
    "collapsed": false
   },
   "outputs": [
    {
     "data": {
      "text/plain": [
       "2-element Array{ByteString,1}:\n",
       " \"C:\\\\Users\\\\Секретарь\\\\AppData\\\\Local\\\\Julia-0.4.5\\\\local\\\\share\\\\julia\\\\site\\\\v0.4\"\n",
       " \"C:\\\\Users\\\\Секретарь\\\\AppData\\\\Local\\\\Julia-0.4.5\\\\share\\\\julia\\\\site\\\\v0.4\"       "
      ]
     },
     "execution_count": 39,
     "metadata": {},
     "output_type": "execute_result"
    }
   ],
   "source": [
    "LOAD_PATH"
   ]
  },
  {
   "cell_type": "code",
   "execution_count": 38,
   "metadata": {
    "collapsed": false
   },
   "outputs": [
    {
     "data": {
      "text/plain": [
       "Auth.UserCreds(101,\"UGE1NXdvcmQ=\",\"Мальколм Шеррингтон\",\"malcolm@myemail.org\",true)"
      ]
     },
     "execution_count": 38,
     "metadata": {},
     "output_type": "execute_result"
    }
   ],
   "source": [
    "BB = [\"malcolm\" => UserCreds(101, base64encode(\"Pa55word\"), \"Мальколм Шеррингтон\", \"malcolm@myemail.org\", true)];\n",
    "me = BB[\"malcolm\"]"
   ]
  },
  {
   "cell_type": "code",
   "execution_count": 6,
   "metadata": {
    "collapsed": false
   },
   "outputs": [
    {
     "data": {
      "text/plain": [
       "\"Мальколм Шеррингтон\""
      ]
     },
     "execution_count": 6,
     "metadata": {},
     "output_type": "execute_result"
    }
   ],
   "source": [
    "me.fullname"
   ]
  },
  {
   "cell_type": "code",
   "execution_count": 7,
   "metadata": {
    "collapsed": false
   },
   "outputs": [
    {
     "name": "stdout",
     "output_type": "stream",
     "text": [
      "Мальколм Шеррингтон\n"
     ]
    }
   ],
   "source": [
    "for who in keys(BB) println( BB[who].fullname) end"
   ]
  },
  {
   "cell_type": "markdown",
   "metadata": {
    "collapsed": true
   },
   "source": [
    "## Множества"
   ]
  },
  {
   "cell_type": "code",
   "execution_count": 40,
   "metadata": {
    "collapsed": false
   },
   "outputs": [
    {
     "data": {
      "text/plain": [
       "Set{Any}()"
      ]
     },
     "execution_count": 40,
     "metadata": {},
     "output_type": "execute_result"
    }
   ],
   "source": [
    "S0 = Set() "
   ]
  },
  {
   "cell_type": "code",
   "execution_count": 41,
   "metadata": {
    "collapsed": false
   },
   "outputs": [
    {
     "data": {
      "text/plain": [
       "Set([4,2,1])"
      ]
     },
     "execution_count": 41,
     "metadata": {},
     "output_type": "execute_result"
    }
   ],
   "source": [
    "S1 = Set([1,2,4,2]) "
   ]
  },
  {
   "cell_type": "code",
   "execution_count": 42,
   "metadata": {
    "collapsed": false
   },
   "outputs": [
    {
     "data": {
      "text/plain": [
       "Set(Any[\"Малколм\",21])"
      ]
     },
     "execution_count": 42,
     "metadata": {},
     "output_type": "execute_result"
    }
   ],
   "source": [
    "push!(S0,\"Малколм\"); push!(S0,21) "
   ]
  },
  {
   "cell_type": "code",
   "execution_count": 36,
   "metadata": {
    "collapsed": false
   },
   "outputs": [
    {
     "ename": "LoadError",
     "evalue": "LoadError: MethodError: `convert` has no method matching convert(::Type{Int64}, ::UTF8String)\nThis may have arisen from a call to the constructor Int64(...),\nsince type constructors fall back to convert methods.\nClosest candidates are:\n  call{T}(::Type{T}, ::Any)\n  convert(::Type{Int64}, !Matched::Int8)\n  convert(::Type{Int64}, !Matched::UInt8)\n  ...\nwhile loading In[36], in expression starting on line 1",
     "output_type": "error",
     "traceback": [
      "LoadError: MethodError: `convert` has no method matching convert(::Type{Int64}, ::UTF8String)\nThis may have arisen from a call to the constructor Int64(...),\nsince type constructors fall back to convert methods.\nClosest candidates are:\n  call{T}(::Type{T}, ::Any)\n  convert(::Type{Int64}, !Matched::Int8)\n  convert(::Type{Int64}, !Matched::UInt8)\n  ...\nwhile loading In[36], in expression starting on line 1",
      "",
      " in setindex! at dict.jl:643",
      " in push! at set.jl:29"
     ]
    }
   ],
   "source": [
    "push!(S1,\"Малколм\"); # => вызовет ОШИБКУ, поскольку элементы множества должны иметь тип {Int64}"
   ]
  },
  {
   "cell_type": "code",
   "execution_count": 43,
   "metadata": {
    "collapsed": false
   },
   "outputs": [
    {
     "data": {
      "text/plain": [
       "true"
      ]
     },
     "execution_count": 43,
     "metadata": {},
     "output_type": "execute_result"
    }
   ],
   "source": [
    "S0 = Set([1.0,2.5,4.0]); S1 = Set([1.0]); issubset(S1,S0) "
   ]
  },
  {
   "cell_type": "code",
   "execution_count": 44,
   "metadata": {
    "collapsed": false
   },
   "outputs": [
    {
     "data": {
      "text/plain": [
       "false"
      ]
     },
     "execution_count": 44,
     "metadata": {},
     "output_type": "execute_result"
    }
   ],
   "source": [
    "S0 = Set([1.0,2.5,4.0]); S1 = Set([2]); issubset(S1,S0) "
   ]
  },
  {
   "cell_type": "code",
   "execution_count": 30,
   "metadata": {
    "collapsed": false
   },
   "outputs": [
    {
     "data": {
      "text/plain": [
       "IntSet([1, 2, 3, 5, 7, 11, 13])"
      ]
     },
     "execution_count": 30,
     "metadata": {},
     "output_type": "execute_result"
    }
   ],
   "source": [
    "K = IntSet([2,2,3,1,5,13,7,3,11]) "
   ]
  },
  {
   "cell_type": "code",
   "execution_count": 31,
   "metadata": {
    "collapsed": false
   },
   "outputs": [
    {
     "data": {
      "text/plain": [
       "Set([3,11,1])"
      ]
     },
     "execution_count": 31,
     "metadata": {},
     "output_type": "execute_result"
    }
   ],
   "source": [
    "L = Set([3,1,11])"
   ]
  },
  {
   "cell_type": "code",
   "execution_count": 32,
   "metadata": {
    "collapsed": false
   },
   "outputs": [
    {
     "data": {
      "text/plain": [
       "4-element Array{Int64,1}:\n",
       "  2\n",
       "  5\n",
       "  7\n",
       " 13"
      ]
     },
     "execution_count": 32,
     "metadata": {},
     "output_type": "execute_result"
    }
   ],
   "source": [
    "setdiff(K,L) "
   ]
  },
  {
   "cell_type": "markdown",
   "metadata": {
    "collapsed": true
   },
   "source": [
    "## Другие структуры данных"
   ]
  },
  {
   "cell_type": "code",
   "execution_count": 47,
   "metadata": {
    "collapsed": false
   },
   "outputs": [
    {
     "data": {
      "text/plain": [
       "DataStructures.Stack{Char}(Deque [Char[]])"
      ]
     },
     "execution_count": 47,
     "metadata": {},
     "output_type": "execute_result"
    }
   ],
   "source": [
    "using DataStructures\n",
    "S = Stack(Char,100)"
   ]
  },
  {
   "cell_type": "code",
   "execution_count": 48,
   "metadata": {
    "collapsed": false
   },
   "outputs": [
    {
     "data": {
      "text/plain": [
       "DataStructures.Queue{Char}(Deque [Char[]])"
      ]
     },
     "execution_count": 48,
     "metadata": {},
     "output_type": "execute_result"
    }
   ],
   "source": [
    "Q = Queue(Char,100)"
   ]
  },
  {
   "cell_type": "code",
   "execution_count": 49,
   "metadata": {
    "collapsed": false
   },
   "outputs": [],
   "source": [
    "greet = \"Here's looking at you kid!\";\n",
    "for i = 1:endof(greet)\n",
    "  push!(S,greet[i]) \n",
    "  enqueue!(Q,greet[i]) \n",
    "end"
   ]
  },
  {
   "cell_type": "code",
   "execution_count": 50,
   "metadata": {
    "collapsed": false
   },
   "outputs": [
    {
     "name": "stdout",
     "output_type": "stream",
     "text": [
      "!dik uoy ta gnikool s'ereH\n",
      "Here's looking at you kid!"
     ]
    }
   ],
   "source": [
    "for i = 1:endof(greet) print(pop!(S)) end\n",
    "println()\n",
    "for i = 1:endof(greet) print(dequeue!(Q)) end"
   ]
  }
 ],
 "metadata": {
  "kernelspec": {
   "display_name": "Julia 0.4.5",
   "language": "julia",
   "name": "julia-0.4"
  },
  "language_info": {
   "file_extension": ".jl",
   "mimetype": "application/julia",
   "name": "julia",
   "version": "0.4.5"
  }
 },
 "nbformat": 4,
 "nbformat_minor": 0
}
