{
 "cells": [
  {
   "cell_type": "markdown",
   "metadata": {},
   "source": [
    "<div style=\"text-align: left;\"><img src=\"https://www.juliabox.org/assets/img/juliacloudlogo.png\"style=\"margin: 0px 0px 0px 0px; width: 240px; float: left;\" title=\"\" alt=\"\" /></div>\n",
    "<img src=\"https://dz13w8afd47il.cloudfront.net/sites/default/files/imagecache/ppv4_reader_book_cover/B03587_MockupCover_Normal.jpg\" style=\"margin: 0px 0px 5px 20px; width: 100px; float: right;\" title=\"\" alt=\"\" />\n",
    "Всестороннее введение в новый язык программирования для научно-технических вычислений [Julia](http://julialang.org/) в книге Малколма Шеррингтона, Packt Publishing, июль 2015.\n",
    "\n",
    "<h1>Освоение языка Julia</h1><br />\n",
    "\n",
    "Совершенствование мастерства в области аналитики и программирования при помощи Julia в целях решения задач комплексной обработки данных \n",
    "<div style=\"text-align: left;\">Программный код Julia (v0.4.5) протестирован в Windows 8.1/10 и Linux/Lubuntu 16.4</div>\n",
    "<div style=\"text-align: left;\"><br /><h1>Глава 5. Работа с данными</h1></div>"
   ]
  },
  {
   "cell_type": "markdown",
   "metadata": {},
   "source": [
    "# Структурированные наборы данных\n",
    "## Файлы CSV и DLM"
   ]
  },
  {
   "cell_type": "code",
   "execution_count": 18,
   "metadata": {
    "collapsed": false
   },
   "outputs": [
    {
     "data": {
      "text/plain": [
       "(\n",
       "8336x13 Array{Any,2}:\n",
       " \"2013-12-31\"  554.17  561.28  554.0   …  550.723    557.701    7.9673e6 \n",
       " \"2013-12-30\"  557.46  560.09  552.32     549.053    551.24     9.0582e6 \n",
       " \"2013-12-27\"  563.82  564.41  559.5      556.19     556.777    8.0673e6 \n",
       " \"2013-12-26\"  568.1   569.5   563.38     560.047    560.564    7.286e6  \n",
       " \"2013-12-24\"  569.89  571.88  566.03     562.681    564.312    5.9841e6 \n",
       " \"2013-12-23\"  568.0   570.72  562.76  …  559.431    566.717    1.79038e7\n",
       " \"2013-12-20\"  545.43  551.61  544.82     541.597    545.772    1.55862e7\n",
       " \"2013-12-19\"  549.5   550.0   543.73     540.513    541.239    1.14396e7\n",
       " \"2013-12-18\"  549.7   551.45  538.8      535.613    547.512    2.02094e7\n",
       " \"2013-12-17\"  555.81  559.44  553.38     550.106    551.707    8.2108e6 \n",
       " \"2013-12-16\"  555.02  562.64  555.01  …  551.727    554.202    1.00926e7\n",
       " \"2013-12-13\"  562.85  562.88  553.67     550.395    551.15     1.18865e7\n",
       " \"2013-12-12\"  562.14  565.34  560.03     556.717    557.224    9.3675e6 \n",
       " ⋮                                     ⋱    ⋮                            \n",
       " \"1980-12-30\"   35.25   35.25   35.12       4.12472    4.12472  2.46e6   \n",
       " \"1980-12-29\"   36.0    36.12   36.0   …    4.22807    4.22807  3.3272e6 \n",
       " \"1980-12-26\"   35.5    35.62   35.5        4.16935    4.16935  1.9848e6 \n",
       " \"1980-12-24\"   32.5    32.62   32.5        3.81701    3.81701  1.7144e6 \n",
       " \"1980-12-23\"   30.88   31.0    30.88       3.62674    3.62674  1.6768e6 \n",
       " \"1980-12-22\"   29.62   29.75   29.62       3.47876    3.47876  1.3344e6 \n",
       " \"1980-12-19\"   28.25   28.38   28.25  …    3.31786    3.31786  1.7368e6 \n",
       " \"1980-12-18\"   26.62   26.75   26.62       3.12642    3.12642  2.6232e6 \n",
       " \"1980-12-17\"   25.88   26.0    25.88       3.03951    3.03951  3.0872e6 \n",
       " \"1980-12-16\"   25.38   25.38   25.25       2.96552    2.96552  3.776e6  \n",
       " \"1980-12-15\"   27.38   27.38   27.25       3.20041    3.20041  6.2816e6 \n",
       " \"1980-12-12\"   28.75   28.88   28.75  …    3.37658    3.37658  1.67512e7,\n",
       "\n",
       "1x13 Array{AbstractString,2}:\n",
       " \"Date\"  \"Open\"  \"High\"  \"Low\"  \"Close\"  …  \"Adj. Close\"  \"Adj. Volume\")"
      ]
     },
     "execution_count": 18,
     "metadata": {},
     "output_type": "execute_result"
    }
   ],
   "source": [
    "using DataFrames\n",
    "\n",
    "cd(joinpath(homedir(), \"projects\",\"mastering_julia\",\"data\")); \n",
    "\n",
    "(aapl,cols) = readcsv(\"AAPL.csv\"; header=true)"
   ]
  },
  {
   "cell_type": "code",
   "execution_count": 19,
   "metadata": {
    "collapsed": false
   },
   "outputs": [
    {
     "data": {
      "text/plain": [
       "1x13 Array{AbstractString,2}:\n",
       " \"Date\"  \"Open\"  \"High\"  \"Low\"  \"Close\"  …  \"Adj. Close\"  \"Adj. Volume\""
      ]
     },
     "execution_count": 19,
     "metadata": {},
     "output_type": "execute_result"
    }
   ],
   "source": [
    "cols  # => # 1x13 Array{String,2}:"
   ]
  },
  {
   "cell_type": "code",
   "execution_count": 20,
   "metadata": {
    "collapsed": false
   },
   "outputs": [
    {
     "data": {
      "text/plain": [
       "Array{Any,2}"
      ]
     },
     "execution_count": 20,
     "metadata": {},
     "output_type": "execute_result"
    }
   ],
   "source": [
    "typeof(aapl) # => Array{Any,2}"
   ]
  },
  {
   "cell_type": "code",
   "execution_count": 21,
   "metadata": {
    "collapsed": false
   },
   "outputs": [
    {
     "data": {
      "text/plain": [
       "8336x6 Array{Any,2}:\n",
       " \"2013-12-31\"  554.17  561.28  554.0   561.02       7.9673e6 \n",
       " \"2013-12-30\"  557.46  560.09  552.32  554.52       9.0582e6 \n",
       " \"2013-12-27\"  563.82  564.41  559.5   560.09       8.0673e6 \n",
       " \"2013-12-26\"  568.1   569.5   563.38  563.9        7.286e6  \n",
       " \"2013-12-24\"  569.89  571.88  566.03  567.67       5.9841e6 \n",
       " \"2013-12-23\"  568.0   570.72  562.76  570.09       1.79038e7\n",
       " \"2013-12-20\"  545.43  551.61  544.82  549.02       1.55862e7\n",
       " \"2013-12-19\"  549.5   550.0   543.73  544.46       1.14396e7\n",
       " \"2013-12-18\"  549.7   551.45  538.8   550.77       2.02094e7\n",
       " \"2013-12-17\"  555.81  559.44  553.38  554.99       8.2108e6 \n",
       " \"2013-12-16\"  555.02  562.64  555.01  557.5        1.00926e7\n",
       " \"2013-12-13\"  562.85  562.88  553.67  554.43       1.18865e7\n",
       " \"2013-12-12\"  562.14  565.34  560.03  560.54       9.3675e6 \n",
       " ⋮                                                  ⋮        \n",
       " \"1980-12-30\"   35.25   35.25   35.12   35.12  307500.0      \n",
       " \"1980-12-29\"   36.0    36.12   36.0    36.0   415900.0      \n",
       " \"1980-12-26\"   35.5    35.62   35.5    35.5   248100.0      \n",
       " \"1980-12-24\"   32.5    32.62   32.5    32.5   214300.0      \n",
       " \"1980-12-23\"   30.88   31.0    30.88   30.88  209600.0      \n",
       " \"1980-12-22\"   29.62   29.75   29.62   29.62  166800.0      \n",
       " \"1980-12-19\"   28.25   28.38   28.25   28.25  217100.0      \n",
       " \"1980-12-18\"   26.62   26.75   26.62   26.62  327900.0      \n",
       " \"1980-12-17\"   25.88   26.0    25.88   25.88  385900.0      \n",
       " \"1980-12-16\"   25.38   25.38   25.25   25.25  472000.0      \n",
       " \"1980-12-15\"   27.38   27.38   27.25   27.25  785200.0      \n",
       " \"1980-12-12\"   28.75   28.88   28.75   28.75       2.0939e6 "
      ]
     },
     "execution_count": 21,
     "metadata": {},
     "output_type": "execute_result"
    }
   ],
   "source": [
    "aapl[:, 1:6]"
   ]
  },
  {
   "cell_type": "code",
   "execution_count": 37,
   "metadata": {
    "collapsed": false
   },
   "outputs": [
    {
     "data": {
      "text/plain": [
       "752-element Array{Float64,1}:\n",
       " 111.94\n",
       " 102.5 \n",
       " 104.0 \n",
       "  95.0 \n",
       "  99.5 \n",
       "  97.75\n",
       "  92.75\n",
       "  87.19\n",
       "  96.75\n",
       " 100.44\n",
       " 103.94\n",
       " 106.56\n",
       " 113.5 \n",
       "   ⋮   \n",
       "  14.79\n",
       "  14.85\n",
       "  15.08\n",
       "  14.57\n",
       "  14.2 \n",
       "  14.14\n",
       "  14.49\n",
       "  14.36\n",
       "  14.4 \n",
       "  14.06\n",
       "  14.07\n",
       "  14.33"
      ]
     },
     "execution_count": 37,
     "metadata": {},
     "output_type": "execute_result"
    }
   ],
   "source": [
    "aa_close = map(Float64, reverse(aapl[:,5]))"
   ]
  },
  {
   "cell_type": "code",
   "execution_count": 40,
   "metadata": {
    "collapsed": false
   },
   "outputs": [
    {
     "data": {
      "text/plain": [
       "752-element Array{Int64,1}:\n",
       " 1095\n",
       " 1094\n",
       " 1091\n",
       " 1090\n",
       " 1088\n",
       " 1087\n",
       " 1084\n",
       " 1083\n",
       " 1082\n",
       " 1081\n",
       " 1080\n",
       " 1077\n",
       " 1076\n",
       "    ⋮\n",
       "   18\n",
       "   17\n",
       "   13\n",
       "   12\n",
       "   11\n",
       "   10\n",
       "    9\n",
       "    6\n",
       "    5\n",
       "    4\n",
       "    3\n",
       "    2"
      ]
     },
     "execution_count": 40,
     "metadata": {},
     "output_type": "execute_result"
    }
   ],
   "source": [
    "d0 = Date(\"2000-01-01\")\n",
    "\n",
    "n = size(aapl)[1]\n",
    "\n",
    "aa_date = zeros(n)\n",
    "\n",
    "[aa_date[1+n-i] = Int(Date(aapl[i,1]) - d0) for i = 1:n]"
   ]
  },
  {
   "cell_type": "code",
   "execution_count": 39,
   "metadata": {
    "collapsed": false
   },
   "outputs": [
    {
     "data": {
      "image/png": "[encoded data removed]",
      "text/plain": [
       "Winston.FramedPlot(...)"
      ]
     },
     "execution_count": 39,
     "metadata": {},
     "output_type": "execute_result"
    }
   ],
   "source": [
    "using Winston\n",
    "\n",
    "plot(aa_date, aa_close)"
   ]
  },
  {
   "cell_type": "code",
   "execution_count": 26,
   "metadata": {
    "collapsed": false
   },
   "outputs": [],
   "source": [
    "for i in 2:(size(aapl)[1] - 1)\n",
    "  if r\"^2000\" == aapl[i,1] && abs(aapl[i,5] - aapl[i-1,5]) > 20.0 \n",
    "    println(i+1, \" : \", aapl[i+1,1:8])\n",
    "    println(i, \" : \", aapl[i,1:8])\n",
    "    println(i-1, \" : \", aapl[i-1,1:8])\n",
    "  end\n",
    "end"
   ]
  },
  {
   "cell_type": "raw",
   "metadata": {},
   "source": [
    "635 : Any[\"2000-06-20\" 98.5 103.94 98.38 101.25 4.4767e6 0.0 1.0]\n",
    "634 : Any[\"2000-06-21\" 50.5 56.94 50.31 55.62 8.75e6 0.0 2.0]\n",
    "633 : Any[\"2000-06-22\" 55.75 57.62 53.56 53.75 8.352e6 0.0 1.0]\n",
    "566 : Any[\"2000-09-27\" 51.75 52.75 48.25 48.94 7.1832e6 0.0 1.0]\n",
    "565 : Any[\"2000-09-28\" 49.31 53.81 48.12 53.5 1.74926e7 0.0 1.0]\n",
    "564 : Any[\"2000-09-29\" 28.19 29.0 25.38 25.75 1.325293e8 0.0 1.0]"
   ]
  },
  {
   "cell_type": "code",
   "execution_count": 28,
   "metadata": {
    "collapsed": false
   },
   "outputs": [
    {
     "data": {
      "image/png": "[encoded data removed]",
      "text/plain": [
       "Winston.FramedPlot(...)"
      ]
     },
     "execution_count": 28,
     "metadata": {},
     "output_type": "execute_result"
    }
   ],
   "source": [
    "aa_diff = map(Float64, reverse(aapl[:,2] - aapl[:,5]));\n",
    "\n",
    "plot(aa_date, aa_diff) "
   ]
  },
  {
   "cell_type": "markdown",
   "metadata": {},
   "source": [
    "## Файлы HDF5"
   ]
  },
  {
   "cell_type": "raw",
   "metadata": {},
   "source": [
    "fid = h5open(имя_файла, режим)\n",
    "\n",
    "\"r\"  только для чтения\n",
    "\"r+\" чтение-запись, сохраняя любое существующее содержание\n",
    "\"w\"  чтение-запись, уничтожая любое существующее содержание"
   ]
  },
  {
   "cell_type": "code",
   "execution_count": 42,
   "metadata": {
    "collapsed": false
   },
   "outputs": [
    {
     "ename": "LoadError",
     "evalue": "LoadError: Error creating file aapl_jnb0.jld\nwhile loading In[42], in expression starting on line 5",
     "output_type": "error",
     "traceback": [
      "LoadError: Error creating file aapl_jnb0.jld\nwhile loading In[42], in expression starting on line 5",
      "",
      " in h5f_create at C:\\Users\\labor\\.julia\\v0.4\\HDF5\\src\\plain.jl:2090"
     ]
    }
   ],
   "source": [
    "using JLD\n",
    "\n",
    "cd(joinpath(homedir(), \"projects\",\"mastering_julia\",\"storage\")); \n",
    "\n",
    "file = jldopen(\"aapl_jnb0.jld\", \"w\") \n",
    "write(file, \"aa_date\", aa_date)\n",
    "write(file, \"aa_close\", aa_close)\n",
    "close(file)"
   ]
  },
  {
   "cell_type": "code",
   "execution_count": 35,
   "metadata": {
    "collapsed": true
   },
   "outputs": [],
   "source": [
    "jldopen(\"aapl_jnb1.jld\", \"w\") do file\n",
    "  write(file, \"aa_date\", aa_date)\n",
    "  write(file, \"aa_close\", aa_close)\n",
    "end"
   ]
  },
  {
   "cell_type": "code",
   "execution_count": 36,
   "metadata": {
    "collapsed": false
   },
   "outputs": [
    {
     "ename": "LoadError",
     "evalue": "LoadError: TypeError: getfield: expected Symbol, got ASCIIString\nwhile loading In[36], in expression starting on line 1",
     "output_type": "error",
     "traceback": [
      "LoadError: TypeError: getfield: expected Symbol, got ASCIIString\nwhile loading In[36], in expression starting on line 1",
      ""
     ]
    }
   ],
   "source": [
    "save(\"aapl_jnb2.jld\", \"aa_date\", aa_date. \"aa_close\", aa_close)"
   ]
  },
  {
   "cell_type": "code",
   "execution_count": 33,
   "metadata": {
    "collapsed": true
   },
   "outputs": [],
   "source": [
    "@save \"aapl_jnb3.jld\" aa_date aa_close"
   ]
  },
  {
   "cell_type": "code",
   "execution_count": null,
   "metadata": {
    "collapsed": true
   },
   "outputs": [],
   "source": [
    "typeof(ad); # => 752-element Array{Float64,1}:"
   ]
  },
  {
   "cell_type": "code",
   "execution_count": null,
   "metadata": {
    "collapsed": true
   },
   "outputs": [],
   "source": [
    "[assert(ad[i] == aa_date[i]) for i = 1:size(ad)[1]];"
   ]
  },
  {
   "cell_type": "code",
   "execution_count": null,
   "metadata": {
    "collapsed": true
   },
   "outputs": [],
   "source": [
    "dump(file)"
   ]
  },
  {
   "cell_type": "raw",
   "metadata": {},
   "source": [
    "JldFile\n",
    "  plain: HDF5File len 3\n",
    "    _require: HDF5Dataset () : UTF8String[]\n",
    "    aa_close: HDF5Dataset (752,) : [111.94,102.5,104.0,95.0,\n",
    "    aa_date: HDF5Dataset (752,) : [2.0,3.0,4.0,5.0,"
   ]
  },
  {
   "cell_type": "code",
   "execution_count": null,
   "metadata": {
    "collapsed": true
   },
   "outputs": [],
   "source": [
    "file = jldopen(\"mydata.jld\", \"w\")\n",
    "g = g_create(file, \"aapl\")\n",
    "g[\"aa_date\"] = aa_date\n",
    "g[\"aa_close\"] = aa_close "
   ]
  },
  {
   "cell_type": "code",
   "execution_count": null,
   "metadata": {
    "collapsed": true
   },
   "outputs": [],
   "source": [
    "dump(file)"
   ]
  },
  {
   "cell_type": "raw",
   "metadata": {},
   "source": [
    "JldFile\n",
    " plain: HDF5File len 2\n",
    "   _require: HDF5Dataset () : UTF8String[]\n",
    "   aapl: HDF5Group len 2\n",
    "     aa_close: HDF5Dataset (752,) : [111.94,102.5,104.0,95.0,\n",
    "     aa_date: HDF5Dataset (752,) : [2.0,3.0,4.0,5.0, "
   ]
  },
  {
   "cell_type": "code",
   "execution_count": null,
   "metadata": {
    "collapsed": true
   },
   "outputs": [],
   "source": [
    "groups = jldopen(\"mydata.jld\", \"r\") do file\n",
    "    read(file, \"aapl\")\n",
    "end\n",
    "ad = groups[\"aa_date\"]"
   ]
  },
  {
   "cell_type": "markdown",
   "metadata": {},
   "source": [
    "## Файлы XML"
   ]
  },
  {
   "cell_type": "raw",
   "metadata": {},
   "source": [
    "<?xml version=\"1.0\" encoding=\"UTF-8\" ?>\n",
    "<catalog>\n",
    "  <book id=\"bk101\">\n",
    "    <author>Gambardella, Matthew</author>\n",
    "    <title genre='Computing'>XML Developer's Guide</title>\n",
    "    <price currency='GBP'>44.95</price>\n",
    "    <publish_date>2000-10-01</publish_date>\n",
    "    <description>An in-depth look at creating applications \n",
    "    with XML.</description>\n",
    "  </book>\n",
    "</catalog>"
   ]
  },
  {
   "cell_type": "code",
   "execution_count": 43,
   "metadata": {
    "collapsed": false
   },
   "outputs": [
    {
     "name": "stdout",
     "output_type": "stream",
     "text": [
      "catalog\n"
     ]
    }
   ],
   "source": [
    "cd(joinpath(homedir(), \"projects\",\"mastering_julia\",\"data\")); \n",
    "\n",
    "using LightXML\n",
    "\n",
    "xdoc = parse_file(\"books.xml\");\n",
    "xtop = root(xdoc);\n",
    "println(name(xtop)); # => catalog"
   ]
  },
  {
   "cell_type": "code",
   "execution_count": 44,
   "metadata": {
    "collapsed": false
   },
   "outputs": [
    {
     "name": "stdout",
     "output_type": "stream",
     "text": [
      "XML Developer's Guide :Computing\n",
      "       Midnight Rain :Fantasy\n",
      "     Maeve Ascendant :Fantasy\n",
      "     Oberon's Legacy :Fantasy\n",
      "  The Sundered Grail :Fantasy\n",
      "         Lover Birds :Romance\n",
      "       Splish Splash :Romance\n",
      "     Creepy Crawlies :Horror\n",
      "        Paradox Lost :SciFi\n",
      "Microsoft .NET: The Programming Bible :Computing\n"
     ]
    }
   ],
   "source": [
    "for c in child_nodes(xtop)\n",
    "  if is_elementnode(c)\n",
    "    e = XMLElement(c)\n",
    "    t = find_element(e, \"title\")\n",
    "    title = content(t)\n",
    "    genre = attribute(t, \"genre\")\n",
    "    @printf \"%20s :%s\\n\" title genre\n",
    "  end\n",
    "end"
   ]
  },
  {
   "cell_type": "raw",
   "metadata": {},
   "source": [
    "XML Developer's Guide : Computing\n",
    "Midnight Rain : Fantasy\n",
    "Maeve Ascendant : Fantasy\n",
    "Oberon's Legacy : Fantasy\n",
    "The Sundered Grail : Fantasy\n",
    "Lover Birds : Romance\n",
    "Splish Splash : Romance\n",
    "Creepy Crawlies : Horror\n",
    "Paradox Lost : SciFi\n",
    ".NET Programming Bible : Computin"
   ]
  },
  {
   "cell_type": "code",
   "execution_count": 45,
   "metadata": {
    "collapsed": false
   },
   "outputs": [
    {
     "name": "stdout",
     "output_type": "stream",
     "text": [
      "Title:     XML Developer's Guide\n",
      "Author:    Gambardella, Matthew\n",
      "Date:      1 October 2000\n",
      "Price:     44.95 (GBP)\n",
      "An in-depth look at creating applications with XML.\n",
      "\n",
      "Title:     Microsoft .NET: The Programming Bible\n",
      "Author:    O'Brien, Tim\n",
      "Date:      9 December 2000\n",
      "Price:     36.95 (GBP)\n",
      "Microsoft's .NET initiative is explored in detail in this deep programmer's reference.\n",
      "\n"
     ]
    },
    {
     "name": "stderr",
     "output_type": "stream",
     "text": [
      "WARNING: requiring \"Dates\" in module \"Main\" did not define a corresponding module.\n"
     ]
    }
   ],
   "source": [
    "using Dates\n",
    "\n",
    "for c in child_nodes(xtop)\n",
    "    \n",
    "  if is_elementnode(c)\n",
    "    e = XMLElement(c)\n",
    "    t = find_element(e, \"title\")\n",
    "    genre = attribute(t, \"genre\")\n",
    "        \n",
    "    if genre == \"Computing\"\n",
    "      a = find_element(e,\"author\")\n",
    "      p = find_element(e,\"price\")\n",
    "      curr = attribute(p, \"currency\")\n",
    "      d = find_element(e,\"publish_date\")\n",
    "      dt = DateTime(content(d))\n",
    "      ds = string(day(dt),\" \",monthname(dt),\" \",year(dt))\n",
    "      desc = find_element(e,\"description\")\n",
    "            \n",
    "      println(\"Title:     \", content(t))\n",
    "      println(\"Author:    \" ,content(a))\n",
    "      println(\"Date:      \" ,ds)\n",
    "      println(\"Price:     \" ,content(p) ,\" (\", curr, \")\")\n",
    "      println(content(desc),\"\\n\");\n",
    "    end\n",
    "  end\n",
    "end"
   ]
  }
 ],
 "metadata": {
  "kernelspec": {
   "display_name": "Julia 0.4.5",
   "language": "julia",
   "name": "julia-0.4"
  },
  "language_info": {
   "file_extension": ".jl",
   "mimetype": "application/julia",
   "name": "julia",
   "version": "0.4.5"
  }
 },
 "nbformat": 4,
 "nbformat_minor": 0
}
