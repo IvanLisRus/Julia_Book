{
 "cells": [
  {
   "cell_type": "markdown",
   "metadata": {
    "collapsed": true
   },
   "source": [
    "<div style=\"text-align: left;\"><img src=\"https://www.juliabox.org/assets/img/juliacloudlogo.png\" style=\"margin: 0px 0px 0px 0px; padding-right: 20px;width: 80px; float: left;\" title=\"\" alt=\"\" /></div>\n",
    "<img src=\"http://dmkpress.com/images/cms/thumbs/a5b0aeaa3fa7d6e58d75710c18673bd7ec6d5f6d/978-5-97060-370-3_270_369__100.jpg\" style=\"margin: 0px 0px 5px 20px; width: 100px; float: right;\" title=\"\" alt=\"\" />\n",
    "Всестороннее введение в новый язык программирования для научно-технических вычислений [Julia](http://julialang.org/) в книге Малколма Шеррингтона, Packt Publishing, июль 2015.\n",
    "\n",
    "<h1>Осваиваем язык Julia</h1><br />\n",
    "\n",
    "Совершенствование мастерства в области аналитики и программирования при помощи Julia в целях решения задач комплексной обработки данных\n",
    "<div style=\"text-align: left;font-size:8pt;padding-top:10px;\">Программный код Julia (v0.4.5) протестирован в Windows 8.1/10 и Linux/Lubuntu 16.4</div>\n",
    "<div style=\"text-align: left;\"><h1>Примеры</h1></div>"
   ]
  },
  {
   "cell_type": "markdown",
   "metadata": {},
   "source": [
    "### Пакет GR"
   ]
  },
  {
   "cell_type": "markdown",
   "metadata": {
    "collapsed": true
   },
   "source": [
    "#### Линейный график"
   ]
  },
  {
   "cell_type": "code",
   "execution_count": 6,
   "metadata": {
    "collapsed": true
   },
   "outputs": [],
   "source": [
    "using GR\n",
    "\n",
    "x = [-3.3 + t*0.1 for t in 0:66]\n",
    "y = [(t^5 - 13*t^3 + 36*t)::Float64 for t in x]\n",
    "plot(x, y, bgcolor=163)   # вывод графика в окне GKS 5"
   ]
  },
  {
   "cell_type": "code",
   "execution_count": 3,
   "metadata": {
    "collapsed": false
   },
   "outputs": [
    {
     "name": "stderr",
     "output_type": "stream",
     "text": [
      "WARNING: base64 is deprecated, use base64encode instead.\n",
      " in depwarn at deprecated.jl:73\n",
      " in base64 at deprecated.jl:30\n",
      " in show at C:\\Users\\labor\\.julia\\v0.4\\GR\\src\\GR.jl:1309\n",
      " in include_string at loading.jl:282\n",
      " in execute_request_0x535c5df2 at C:\\Users\\labor\\.julia\\v0.4\\IJulia\\src\\execute_request.jl:182\n",
      " in eventloop at C:\\Users\\labor\\.julia\\v0.4\\IJulia\\src\\IJulia.jl:142\n",
      " in anonymous at task.jl:447\n",
      "while loading In[3], in expression starting on line 11\n"
     ]
    },
    {
     "data": {
      "text/html": [
       "<video autoplay controls><source type=\"video/mp4\" src=\"data:video/mp4;base64,\"></video>"
      ],
      "text/plain": [
       "GR.HTML(\"<video autoplay controls><source type=\\\"video/mp4\\\" src=\\\"data:video/mp4;base64,\\\"></video>\")"
      ]
     },
     "execution_count": 3,
     "metadata": {},
     "output_type": "execute_result"
    }
   ],
   "source": [
    "import GR\n",
    "\n",
    "GR.inline(\"mov\")\n",
    "\n",
    "x = collect(0:0.01:2*pi);\n",
    "\n",
    "for i = 1:200\n",
    "    GR.plot(x, sin(x + i / 10.0))\n",
    "end\n",
    "\n",
    "GR.show()\n"
   ]
  },
  {
   "cell_type": "code",
   "execution_count": null,
   "metadata": {
    "collapsed": true
   },
   "outputs": [],
   "source": []
  }
 ],
 "metadata": {
  "kernelspec": {
   "display_name": "Julia 0.4.5",
   "language": "julia",
   "name": "julia-0.4"
  },
  "language_info": {
   "file_extension": ".jl",
   "mimetype": "application/julia",
   "name": "julia",
   "version": "0.4.5"
  }
 },
 "nbformat": 4,
 "nbformat_minor": 0
}
