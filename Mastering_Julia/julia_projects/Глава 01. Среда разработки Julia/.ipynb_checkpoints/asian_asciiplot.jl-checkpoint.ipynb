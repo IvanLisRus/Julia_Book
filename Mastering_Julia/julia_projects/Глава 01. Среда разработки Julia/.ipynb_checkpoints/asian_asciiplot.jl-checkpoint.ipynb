{
 "cells": [
  {
   "cell_type": "markdown",
   "metadata": {
    "collapsed": true
   },
   "source": [
    "<div style=\"text-align: left;\"><img src=\"https://www.juliabox.org/assets/img/juliacloudlogo.png\"style=\"margin: 0px 0px 5px 0px; width: 200px; float: left;\" title=\"\" alt=\"\" /></div>\n",
    "\n",
    "<img src=\"https://dz13w8afd47il.cloudfront.net/sites/default/files/imagecache/ppv4_reader_book_cover/B03587_MockupCover_Normal.jpg\" style=\"margin: 0px 0px 5px 20px; width: 125px; float: right;\" title=\"\" alt=\"\" />\n",
    "<div style=\"text-align: left;float:right\"></div>\n",
    "\n",
    "Всестороннее введение в новый язык программирования для научно-технических вычислений [Julia](http://julialang.org/) в книге английского автора Малколма Шерридана, Packt Publishing, июль 2015.\n",
    "\n",
    "# Освоение языка Julia\n",
    "\n",
    "Совершенствование мастерства в области аналитики и программирования при помощи Julia в целях решения задач комплексной обработки данных "
   ]
  },
  {
   "cell_type": "code",
   "execution_count": 1,
   "metadata": {
    "collapsed": false
   },
   "outputs": [
    {
     "data": {
      "text/plain": [
       "\n",
       "\t-------------------------------------------------------------\n",
       "\t|                                   *                        | 117.78\n",
       "\t|                                  *                         |\n",
       "\t|                                 * *                        |\n",
       "\t|                                 *  *                       |\n",
       "\t|                             *          ***                 |\n",
       "\t|                             ** *     ** **               **|\n",
       "\t|                                     **                  *  |\n",
       "\t|                           **  **                       *   |\n",
       "\t|                         ** *              *            *   |\n",
       "\t|                       ***                  *   *           |\n",
       "\t|                      **                    *   **    **    |\n",
       "\t|           *   ***  *                        * *  *   *     |\n",
       "\t|          * * *   *****                       **  ****      |\n",
       "\t|         **      *                                 *        |\n",
       "\t|             **                                             |\n",
       "\t|        *    *                                              |\n",
       "\t|       **                                                   |\n",
       "\t|*   ****                                                    |\n",
       "\t| * **                                                       |\n",
       "\t|***                                                         | 99.23\n",
       "\t-------------------------------------------------------------\n",
       "\t1.00                                                    100.00\n"
      ]
     },
     "execution_count": 1,
     "metadata": {},
     "output_type": "execute_result"
    }
   ],
   "source": [
    "#\n",
    "# asian_asciiplot.jl\n",
    "#\n",
    "\n",
    "using ASCIIPlots;\n",
    "\n",
    "S0  = 100;      # Цена \"спот\"\n",
    "K   = 102;      # Цена \"страйк\"\n",
    "r   = 0.05;     # Безрисковая ставка \n",
    "q   = 0.0;      # Дивидендная доходность  \n",
    "v   = 0.2;      # Волатильность\n",
    "tma = 0.25;     # Срок до даты платежа \n",
    "T   = 100;      # Число временных интервалов \n",
    "dt  = tma/T;    # Приращение времени\n",
    "\n",
    "S = zeros(Float64,T);\n",
    "S[1] = S0;\n",
    "\n",
    "dW = randn(T)*sqrt(dt)\n",
    "\n",
    "[ S[t] = S[t-1] * (1 + (r - q - 0.5*v*v)*dt + v*dW[t] + 0.5*v*v*dW[t]*dW[t]) for t=2:T ]\n",
    "\n",
    "x = linspace(1,100,T);\n",
    "\n",
    "scatterplot(x,S,sym='*')"
   ]
  },
  {
   "cell_type": "code",
   "execution_count": null,
   "metadata": {
    "collapsed": true
   },
   "outputs": [],
   "source": []
  }
 ],
 "metadata": {
  "kernelspec": {
   "display_name": "Julia 0.4.5",
   "language": "julia",
   "name": "julia-0.4"
  },
  "language_info": {
   "file_extension": ".jl",
   "mimetype": "application/julia",
   "name": "julia",
   "version": "0.4.5"
  }
 },
 "nbformat": 4,
 "nbformat_minor": 0
}
