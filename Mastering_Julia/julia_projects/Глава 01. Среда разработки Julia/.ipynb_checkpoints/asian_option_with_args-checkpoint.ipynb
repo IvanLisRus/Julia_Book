{
 "cells": [
  {
   "cell_type": "markdown",
   "metadata": {
    "collapsed": true
   },
   "source": [
    "<div style=\"text-align: left;\"><img src=\"https://www.juliabox.org/assets/img/juliacloudlogo.png\" style=\"margin: 0px 0px 0px 0px; padding-right: 20px;width: 80px; float: left;\" title=\"\" alt=\"\" /></div>\n",
    "<img src=\"http://dmkpress.com/images/cms/thumbs/a5b0aeaa3fa7d6e58d75710c18673bd7ec6d5f6d/978-5-97060-370-3_270_369__100.jpg\" style=\"margin: 0px 0px 5px 20px; width: 100px; float: right;\" title=\"\" alt=\"\" />\n",
    "Всестороннее введение в новый язык программирования для научно-технических вычислений [Julia](http://julialang.org/) в книге Малколма Шеррингтона, Packt Publishing, июль 2015.\n",
    "\n",
    "<h1>Осваиваем язык Julia</h1><br />\n",
    "\n",
    "Совершенствование мастерства в области аналитики и программирования при помощи Julia в целях решения задач комплексной обработки данных\n",
    "<div style=\"text-align: left;font-size:8pt;padding-top:10px;\">Программный код Julia (v0.4.5) протестирован в Windows 8.1/10 и Linux/Lubuntu 16.4</div>\n",
    "<div style=\"text-align: left;\"><h1>Глава 1. Примеры</h1></div>"
   ]
  },
  {
   "cell_type": "code",
   "execution_count": 11,
   "metadata": {
    "collapsed": false
   },
   "outputs": [
    {
     "data": {
      "text/plain": [
       "run_asian (generic function with 3 methods)"
      ]
     },
     "execution_count": 11,
     "metadata": {},
     "output_type": "execute_result"
    }
   ],
   "source": [
    "#\n",
    "# asian_option_with_args.jl\n",
    "#\n",
    "\n",
    "function run_asian(N = 100000, PutCall = 'C';)\n",
    "    \n",
    "# Евро Азиатский опцион.\n",
    "# Использует геометрическое либо арифметическое усреднение.\n",
    "# Дискретизация по методу Эйлера и Мильштейна для формулы Блэка-Шоулса.\n",
    "# Характеристики опциона.\n",
    "    \n",
    "  println(\"Установка параметров опциона\"); \n",
    "    \n",
    "  S0  = 100;     # Цена \"спот\" или цена немедленной поставки\n",
    "  K   = 100;     # Цена \"страйк\" или цена исполнения\n",
    "  r   = 0.05;    # Безрисковая ставка\n",
    "  q   = 0.0;     # Дивидендная доходность  \n",
    "  v   = 0.2;     # Волатильность\n",
    "  tma = 0.25;    # Срок до даты платежа\n",
    "\n",
    "  Averaging = 'A';    # 'A' арифметическое или 'G' геометрическое \n",
    "    \n",
    "  OptType = (PutCall == 'C' ? \"CALL\" : \"PUT\");\n",
    "    \n",
    "  println(\"Тип опциона: $OptType\");\n",
    "\n",
    "# Настройки моделирования.\n",
    "    \n",
    "  println(\"Установка параметров моделирования\"); \n",
    "    \n",
    "  T  = 100;      # Число временных интервалов  \n",
    "  dt = tma/T;    # Приращение времени\n",
    "\n",
    "# Инициализировать матрицы терминальной фондовой цены\n",
    "# для схем дискретизации по методу Эйлера и Мильштейна. \n",
    "    \n",
    "  S = zeros(Float64,N,T);\n",
    "    for n=1:N \n",
    "      S[n,1] = S0;\n",
    "    end\n",
    "\n",
    "# Смоделировать фондовую цену в условиях схем Эйлера и Мильштейна.\n",
    "# Взять среднее терминальной фондовой цены. \n",
    "    \n",
    "  println(\"Повторяем $N раз.\");\n",
    "    \n",
    "  A = zeros(Float64,N); \n",
    "    for n=1:N\n",
    "      for t=2:T\n",
    "        dW = (randn(1)[1])*sqrt(dt);\n",
    "        z0 = (r - q - 0.5*v*v)*S[n,t-1]*dt; \n",
    "        z1 = v*S[n,t-1]*dW;\n",
    "        z2 = 0.5*v*v*S[n,t-1]*dW*dW; \n",
    "        S[n,t] = S[n,t-1] + z0 + z1 + z2;\n",
    "      end\n",
    "    if cmp(Averaging,'A') == 0 \n",
    "      A[n] = mean(S[n,:]);\n",
    "    elseif cmp(Averaging,'G') == 0 \n",
    "      A[n] = exp(mean(log(S[n,:])));\n",
    "    end \n",
    "  end\n",
    "\n",
    "# Рассчитать премию\n",
    "    \n",
    "  P = zeros(Float64,N);\n",
    "  if cmp(PutCall,'C') == 0 \n",
    "    for n = 1:N\n",
    "      P[n] = max(A[n] - K, 0);\n",
    "    end\n",
    "  elseif cmp(PutCall,'P') == 0 \n",
    "    for n = 1:N\n",
    "      P[n] = max(K - A[n], 0);\n",
    "    end \n",
    "  end\n",
    "\n",
    "  # Рассчитать цену Азиатского опциона \n",
    "    \n",
    "  AsianPrice = exp(-r*tma)*mean(P);\n",
    "    \n",
    "  @printf \"Цена опциона: %10.4f\\n\" AsianPrice; \n",
    "    \n",
    "end"
   ]
  },
  {
   "cell_type": "code",
   "execution_count": 27,
   "metadata": {
    "collapsed": false
   },
   "outputs": [
    {
     "name": "stdout",
     "output_type": "stream",
     "text": [
      "C:\\Users\\laborhm\\AppData\\Roaming\\jupyter\\runtime\\kernel-ed34b146-bfd7-4f78-adb9-9ed495ba659c.json\n"
     ]
    }
   ],
   "source": [
    "function func_with_args(N = 100000, PutCall = 'C';)\n",
    "    \n",
    "  # ARGS работает только в консоли\n",
    "  # в записной книжке ARGS - это файл JSON, который надо сперва обработать\n",
    "    \n",
    "  #= начало многострочного комментария \n",
    "  в записной книжке они пока не отображаются должным образом\n",
    "    \n",
    "  nArgs = length(ARGS) \n",
    "  if nArgs >= 2\n",
    "    run_asian(parse(Int,ARGS[1]), convert(UInt8,ARGS[2][1])) \n",
    "  elseif nArgs == 1\n",
    "    run_asian(parse(Int,ARGS[1]))\n",
    "  else\n",
    "    run_asian()\n",
    "  end    \n",
    "  конец многострочного комментария =#\n",
    "\n",
    "  println(ARGS[1])    \n",
    "    \n",
    "end    \n",
    "\n",
    "func_with_args(1000, 'P')"
   ]
  }
 ],
 "metadata": {
  "kernelspec": {
   "display_name": "Julia 0.4.5",
   "language": "julia",
   "name": "julia-0.4"
  },
  "language_info": {
   "file_extension": ".jl",
   "mimetype": "application/julia",
   "name": "julia",
   "version": "0.4.5"
  }
 },
 "nbformat": 4,
 "nbformat_minor": 0
}
