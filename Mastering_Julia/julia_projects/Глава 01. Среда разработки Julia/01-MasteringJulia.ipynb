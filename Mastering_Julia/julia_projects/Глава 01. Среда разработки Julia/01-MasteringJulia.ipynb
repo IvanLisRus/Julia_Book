{
 "cells": [
  {
   "cell_type": "markdown",
   "metadata": {},
   "source": [
    "<div style=\"text-align: left;\"><img src=\"https://www.juliabox.org/assets/img/juliacloudlogo.png\" style=\"margin: 0px 0px 0px 0px; padding-right: 20px;width: 80px; float: left;\" title=\"\" alt=\"\" /></div>\n",
    "<img src=\"http://dmkpress.com/images/cms/thumbs/a5b0aeaa3fa7d6e58d75710c18673bd7ec6d5f6d/978-5-97060-370-3_270_369__100.jpg\" style=\"margin: 0px 0px 5px 20px; width: 100px; float: right;\" title=\"\" alt=\"\" />\n",
    "Всестороннее введение в новый язык программирования для научно-технических вычислений [Julia](http://julialang.org/) в книге Малколма Шеррингтона, Packt Publishing, июль 2015.\n",
    "\n",
    "<h1>Осваиваем язык Julia</h1><br />\n",
    "\n",
    "Совершенствование мастерства в области аналитики и программирования при помощи Julia в целях решения задач комплексной обработки данных\n",
    "<div style=\"text-align: left;font-size:8pt;padding-top:10px;\">Программный код Julia (v0.4.5) протестирован в Windows 8.1/10 и Linux/Lubuntu 16.4</div>\n",
    "<div style=\"text-align: left;\"><h1>Глава 1. Среда разработки Julia</h1></div>"
   ]
  },
  {
   "cell_type": "markdown",
   "metadata": {},
   "source": [
    "\n",
    "# Начало работы\n"
   ]
  },
  {
   "cell_type": "markdown",
   "metadata": {
    "collapsed": true
   },
   "source": [
    "\n",
    "## Сборка из исходников\n"
   ]
  },
  {
   "cell_type": "code",
   "execution_count": 21,
   "metadata": {
    "collapsed": false
   },
   "outputs": [
    {
     "name": "stdout",
     "output_type": "stream",
     "text": [
      "Я установил среду разработки Julia\n"
     ]
    }
   ],
   "source": [
    "println(\"Я установил среду разработки Julia\")"
   ]
  },
  {
   "cell_type": "code",
   "execution_count": 22,
   "metadata": {
    "collapsed": false
   },
   "outputs": [
    {
     "ename": "Base.Meta.ParseError",
     "evalue": "ParseError:\n# Error @ c:\\Users\\Ivan - Auto\\Desktop\\Julia\\Mastering_Julia\\julia_projects\\Глава 01. Среда разработки Julia\\jl_notebook_cell_df34fa98e69747e1a8f8a730347b8e2f_W4sZmlsZQ==.jl:1:1\n?print\n╙ ── not a unary operator",
     "output_type": "error",
     "traceback": [
      "ParseError:\n",
      "# Error @ c:\\Users\\Ivan - Auto\\Desktop\\Julia\\Mastering_Julia\\julia_projects\\Глава 01. Среда разработки Julia\\jl_notebook_cell_df34fa98e69747e1a8f8a730347b8e2f_W4sZmlsZQ==.jl:1:1\n",
      "?print\n",
      "╙ ── not a unary operator\n",
      "\n",
      "Stacktrace:\n",
      " [1] top-level scope\n",
      "   @ c:\\Users\\Ivan - Auto\\Desktop\\Julia\\Mastering_Julia\\julia_projects\\Глава 01. Среда разработки Julia\\jl_notebook_cell_df34fa98e69747e1a8f8a730347b8e2f_W4sZmlsZQ==.jl:1"
     ]
    }
   ],
   "source": [
    "?print"
   ]
  },
  {
   "cell_type": "code",
   "execution_count": 23,
   "metadata": {
    "collapsed": false
   },
   "outputs": [
    {
     "ename": "LoadError",
     "evalue": "LoadError: UndefVarError: `@printf` not defined\nin expression starting at c:\\Users\\Ivan - Auto\\Desktop\\Julia\\Mastering_Julia\\julia_projects\\Глава 01. Среда разработки Julia\\jl_notebook_cell_df34fa98e69747e1a8f8a730347b8e2f_W5sZmlsZQ==.jl:12",
     "output_type": "error",
     "traceback": [
      "LoadError: UndefVarError: `@printf` not defined\n",
      "in expression starting at c:\\Users\\Ivan - Auto\\Desktop\\Julia\\Mastering_Julia\\julia_projects\\Глава 01. Среда разработки Julia\\jl_notebook_cell_df34fa98e69747e1a8f8a730347b8e2f_W5sZmlsZQ==.jl:12\n"
     ]
    }
   ],
   "source": [
    "sumsq(x,y) = x^2 + y^2; \n",
    "\n",
    "N = 1000000; \n",
    "\n",
    "x = 0;\n",
    "  for i = 1:N\n",
    "    if sumsq(rand(), rand()) < 1.0 \n",
    "      x += 1;\n",
    "    end \n",
    "  end\n",
    "\n",
    "@printf \"Расчет числа Pi: для %d испытаний =%8.5f\\n\" N 4.0*(x / N);"
   ]
  },
  {
   "cell_type": "markdown",
   "metadata": {
    "collapsed": true
   },
   "source": [
    "\n",
    "## Интерактивная среда IJulia\n"
   ]
  },
  {
   "cell_type": "code",
   "execution_count": 24,
   "metadata": {
    "collapsed": false
   },
   "outputs": [
    {
     "ename": "ArgumentError",
     "evalue": "ArgumentError: Package PyPlot not found in current path.\n- Run `import Pkg; Pkg.add(\"PyPlot\")` to install the PyPlot package.",
     "output_type": "error",
     "traceback": [
      "ArgumentError: Package PyPlot not found in current path.\n",
      "- Run `import Pkg; Pkg.add(\"PyPlot\")` to install the PyPlot package.\n",
      "\n",
      "Stacktrace:\n",
      "  [1] macro expansion\n",
      "    @ .\\loading.jl:1772 [inlined]\n",
      "  [2] macro expansion\n",
      "    @ .\\lock.jl:267 [inlined]\n",
      "  [3] __require(into::Module, mod::Symbol)\n",
      "    @ Base .\\loading.jl:1753\n",
      "  [4] #invoke_in_world#3\n",
      "    @ .\\essentials.jl:926 [inlined]\n",
      "  [5] invoke_in_world\n",
      "    @ .\\essentials.jl:923 [inlined]\n",
      "  [6] require(into::Module, mod::Symbol)\n",
      "    @ Base .\\loading.jl:1746\n",
      "  [7] eval\n",
      "    @ .\\boot.jl:385 [inlined]\n",
      "  [8] include_string(mapexpr::typeof(REPL.softscope), mod::Module, code::String, filename::String)\n",
      "    @ Base .\\loading.jl:2076\n",
      "  [9] #invokelatest#2\n",
      "    @ .\\essentials.jl:892 [inlined]\n",
      " [10] invokelatest\n",
      "    @ .\\essentials.jl:889 [inlined]\n",
      " [11] (::VSCodeServer.var\"#217#218\"{VSCodeServer.NotebookRunCellArguments, String})()\n",
      "    @ VSCodeServer c:\\Users\\Ivan - Auto\\.vscode\\extensions\\julialang.language-julia-1.105.2\\scripts\\packages\\VSCodeServer\\src\\serve_notebook.jl:24\n",
      " [12] withpath(f::VSCodeServer.var\"#217#218\"{VSCodeServer.NotebookRunCellArguments, String}, path::String)\n",
      "    @ VSCodeServer c:\\Users\\Ivan - Auto\\.vscode\\extensions\\julialang.language-julia-1.105.2\\scripts\\packages\\VSCodeServer\\src\\repl.jl:276\n",
      " [13] notebook_runcell_request(conn::VSCodeServer.JSONRPC.JSONRPCEndpoint{Base.PipeEndpoint, Base.PipeEndpoint}, params::VSCodeServer.NotebookRunCellArguments)\n",
      "    @ VSCodeServer c:\\Users\\Ivan - Auto\\.vscode\\extensions\\julialang.language-julia-1.105.2\\scripts\\packages\\VSCodeServer\\src\\serve_notebook.jl:13\n",
      " [14] dispatch_msg(x::VSCodeServer.JSONRPC.JSONRPCEndpoint{Base.PipeEndpoint, Base.PipeEndpoint}, dispatcher::VSCodeServer.JSONRPC.MsgDispatcher, msg::Dict{String, Any})\n",
      "    @ VSCodeServer.JSONRPC c:\\Users\\Ivan - Auto\\.vscode\\extensions\\julialang.language-julia-1.105.2\\scripts\\packages\\JSONRPC\\src\\typed.jl:67\n",
      " [15] serve_notebook(pipename::String, debugger_pipename::String, outputchannel_logger::Base.CoreLogging.SimpleLogger; error_handler::var\"#5#10\"{String})\n",
      "    @ VSCodeServer c:\\Users\\Ivan - Auto\\.vscode\\extensions\\julialang.language-julia-1.105.2\\scripts\\packages\\VSCodeServer\\src\\serve_notebook.jl:147\n",
      " [16] top-level scope\n",
      "    @ c:\\Users\\Ivan - Auto\\.vscode\\extensions\\julialang.language-julia-1.105.2\\scripts\\notebook\\notebook.jl:35"
     ]
    }
   ],
   "source": [
    "using PyPlot"
   ]
  },
  {
   "cell_type": "code",
   "execution_count": 25,
   "metadata": {
    "collapsed": false
   },
   "outputs": [
    {
     "ename": "UndefVarError",
     "evalue": "UndefVarError: `linspace` not defined",
     "output_type": "error",
     "traceback": [
      "UndefVarError: `linspace` not defined\n",
      "\n",
      "Stacktrace:\n",
      " [1] top-level scope\n",
      "   @ c:\\Users\\Ivan - Auto\\Desktop\\Julia\\Mastering_Julia\\julia_projects\\Глава 01. Среда разработки Julia\\jl_notebook_cell_df34fa98e69747e1a8f8a730347b8e2f_X11sZmlsZQ==.jl:1"
     ]
    }
   ],
   "source": [
    "x = linspace(0.0,11.75*pi,1000); y = zeros(1000);\n",
    "\n",
    "[y[i] = x[i]*cos(2.0*x[i])*exp(-0.1*x[i]) for i=1:1000]\n",
    "\n",
    "plot(x,y)"
   ]
  },
  {
   "cell_type": "markdown",
   "metadata": {
    "collapsed": true
   },
   "source": [
    "\n",
    "# Краткий обзор языка Julia\n"
   ]
  },
  {
   "cell_type": "markdown",
   "metadata": {
    "collapsed": true
   },
   "source": [
    "\n",
    "## Julia через консоль\n"
   ]
  },
  {
   "cell_type": "code",
   "execution_count": 26,
   "metadata": {
    "collapsed": false
   },
   "outputs": [
    {
     "ename": "LoadError",
     "evalue": "LoadError: UndefVarError: `@printf` not defined\nin expression starting at c:\\Users\\Ivan - Auto\\Desktop\\Julia\\Mastering_Julia\\julia_projects\\Глава 01. Среда разработки Julia\\jl_notebook_cell_df34fa98e69747e1a8f8a730347b8e2f_X14sZmlsZQ==.jl:76",
     "output_type": "error",
     "traceback": [
      "LoadError: UndefVarError: `@printf` not defined\n",
      "in expression starting at c:\\Users\\Ivan - Auto\\Desktop\\Julia\\Mastering_Julia\\julia_projects\\Глава 01. Среда разработки Julia\\jl_notebook_cell_df34fa98e69747e1a8f8a730347b8e2f_X14sZmlsZQ==.jl:76\n"
     ]
    }
   ],
   "source": [
    "function run_asian(N = 100000, PutCall = 'C';)\n",
    "    \n",
    "# Евроазиатский опцион.\n",
    "# Использует геометрическое либо арифметическое усреднение.\n",
    "# Дискретизация по методу Эйлера и Мильштейна для формулы Блэка-Шоулса.\n",
    "# Характеристики опциона.\n",
    "    \n",
    "  println(\"Установка параметров опциона\"); \n",
    "    \n",
    "  S0  = 100;     # Цена \"спот\" или цена немедленной поставки\n",
    "  K   = 100;     # Цена \"страйк\" или цена исполнения\n",
    "  r   = 0.05;    # Безрисковая ставка\n",
    "  q   = 0.0;     # Дивидендная доходность  \n",
    "  v   = 0.2;     # Волатильность\n",
    "  tma = 0.25;    # Срок до даты платежа\n",
    "\n",
    "  Averaging = 'A';    # 'A' арифметическое или 'G' геометрическое \n",
    "    \n",
    "  OptType = (PutCall == 'C' ? \"CALL\" : \"PUT\");\n",
    "    \n",
    "  println(\"Тип опциона: $OptType\");\n",
    "\n",
    "# Настройки моделирования.\n",
    "    \n",
    "  println(\"Установка параметров моделирования\"); \n",
    "    \n",
    "  T  = 100;      # Число временных интервалов  \n",
    "  dt = tma/T;    # Приращение времени\n",
    "\n",
    "# Инициализировать матрицы терминальной фондовой цены\n",
    "# для схем дискретизации по методу Эйлера и Мильштейна. \n",
    "    \n",
    "  S = zeros(Float64,N,T);\n",
    "    for n=1:N \n",
    "      S[n,1] = S0;\n",
    "    end\n",
    "\n",
    "# Смоделировать фондовую цену в условиях схем Эйлера и Мильштейна.\n",
    "# Взять среднее терминальной фондовой цены. \n",
    "    \n",
    "  println(\"Повторяем $N раз.\");\n",
    "    \n",
    "  A = zeros(Float64,N); \n",
    "    for n=1:N\n",
    "      for t=2:T\n",
    "        dW = (randn(1)[1])*sqrt(dt);\n",
    "        z0 = (r - q - 0.5*v*v)*S[n,t-1]*dt; \n",
    "        z1 = v*S[n,t-1]*dW;\n",
    "        z2 = 0.5*v*v*S[n,t-1]*dW*dW; \n",
    "        S[n,t] = S[n,t-1] + z0 + z1 + z2;\n",
    "      end\n",
    "    if cmp(Averaging,'A') == 0 \n",
    "      A[n] = mean(S[n,:]);\n",
    "    elseif cmp(Averaging,'G') == 0 \n",
    "      A[n] = exp(mean(log(S[n,:])));\n",
    "    end \n",
    "  end\n",
    "\n",
    "# Рассчитать премию\n",
    "    \n",
    "  P = zeros(Float64,N);\n",
    "  if cmp(PutCall,'C') == 0 \n",
    "    for n = 1:N\n",
    "      P[n] = max(A[n] - K, 0);\n",
    "    end\n",
    "  elseif cmp(PutCall,'P') == 0 \n",
    "    for n = 1:N\n",
    "      P[n] = max(K - A[n], 0);\n",
    "    end \n",
    "  end\n",
    "\n",
    "  # Рассчитать цену азиатского опциона \n",
    "    \n",
    "  AsianPrice = exp(-r*tma)*mean(P);\n",
    "    \n",
    "  @printf \"Цена опциона: %10.4f\\n\" AsianPrice; \n",
    "end\n",
    "\n",
    "run_asian()"
   ]
  },
  {
   "cell_type": "code",
   "execution_count": 27,
   "metadata": {
    "collapsed": false
   },
   "outputs": [
    {
     "ename": "UndefVarError",
     "evalue": "UndefVarError: `tic` not defined",
     "output_type": "error",
     "traceback": [
      "UndefVarError: `tic` not defined\n",
      "\n",
      "Stacktrace:\n",
      " [1] top-level scope\n",
      "   @ c:\\Users\\Ivan - Auto\\Desktop\\Julia\\Mastering_Julia\\julia_projects\\Глава 01. Среда разработки Julia\\jl_notebook_cell_df34fa98e69747e1a8f8a730347b8e2f_X15sZmlsZQ==.jl:1"
     ]
    }
   ],
   "source": [
    "tic(); run_asian(1000000, 'C'); toc();"
   ]
  },
  {
   "cell_type": "markdown",
   "metadata": {
    "collapsed": true
   },
   "source": [
    "\n",
    "## Установка некоторых пакетов\n"
   ]
  },
  {
   "cell_type": "code",
   "execution_count": 28,
   "metadata": {
    "collapsed": false
   },
   "outputs": [
    {
     "ename": "ArgumentError",
     "evalue": "ArgumentError: Package ASCIIPlots not found in current path.\n- Run `import Pkg; Pkg.add(\"ASCIIPlots\")` to install the ASCIIPlots package.",
     "output_type": "error",
     "traceback": [
      "ArgumentError: Package ASCIIPlots not found in current path.\n",
      "- Run `import Pkg; Pkg.add(\"ASCIIPlots\")` to install the ASCIIPlots package.\n",
      "\n",
      "Stacktrace:\n",
      "  [1] macro expansion\n",
      "    @ .\\loading.jl:1772 [inlined]\n",
      "  [2] macro expansion\n",
      "    @ .\\lock.jl:267 [inlined]\n",
      "  [3] __require(into::Module, mod::Symbol)\n",
      "    @ Base .\\loading.jl:1753\n",
      "  [4] #invoke_in_world#3\n",
      "    @ .\\essentials.jl:926 [inlined]\n",
      "  [5] invoke_in_world\n",
      "    @ .\\essentials.jl:923 [inlined]\n",
      "  [6] require(into::Module, mod::Symbol)\n",
      "    @ Base .\\loading.jl:1746\n",
      "  [7] eval\n",
      "    @ .\\boot.jl:385 [inlined]\n",
      "  [8] include_string(mapexpr::typeof(REPL.softscope), mod::Module, code::String, filename::String)\n",
      "    @ Base .\\loading.jl:2076\n",
      "  [9] #invokelatest#2\n",
      "    @ .\\essentials.jl:892 [inlined]\n",
      " [10] invokelatest\n",
      "    @ .\\essentials.jl:889 [inlined]\n",
      " [11] (::VSCodeServer.var\"#217#218\"{VSCodeServer.NotebookRunCellArguments, String})()\n",
      "    @ VSCodeServer c:\\Users\\Ivan - Auto\\.vscode\\extensions\\julialang.language-julia-1.105.2\\scripts\\packages\\VSCodeServer\\src\\serve_notebook.jl:24\n",
      " [12] withpath(f::VSCodeServer.var\"#217#218\"{VSCodeServer.NotebookRunCellArguments, String}, path::String)\n",
      "    @ VSCodeServer c:\\Users\\Ivan - Auto\\.vscode\\extensions\\julialang.language-julia-1.105.2\\scripts\\packages\\VSCodeServer\\src\\repl.jl:276\n",
      " [13] notebook_runcell_request(conn::VSCodeServer.JSONRPC.JSONRPCEndpoint{Base.PipeEndpoint, Base.PipeEndpoint}, params::VSCodeServer.NotebookRunCellArguments)\n",
      "    @ VSCodeServer c:\\Users\\Ivan - Auto\\.vscode\\extensions\\julialang.language-julia-1.105.2\\scripts\\packages\\VSCodeServer\\src\\serve_notebook.jl:13\n",
      " [14] dispatch_msg(x::VSCodeServer.JSONRPC.JSONRPCEndpoint{Base.PipeEndpoint, Base.PipeEndpoint}, dispatcher::VSCodeServer.JSONRPC.MsgDispatcher, msg::Dict{String, Any})\n",
      "    @ VSCodeServer.JSONRPC c:\\Users\\Ivan - Auto\\.vscode\\extensions\\julialang.language-julia-1.105.2\\scripts\\packages\\JSONRPC\\src\\typed.jl:67\n",
      " [15] serve_notebook(pipename::String, debugger_pipename::String, outputchannel_logger::Base.CoreLogging.SimpleLogger; error_handler::var\"#5#10\"{String})\n",
      "    @ VSCodeServer c:\\Users\\Ivan - Auto\\.vscode\\extensions\\julialang.language-julia-1.105.2\\scripts\\packages\\VSCodeServer\\src\\serve_notebook.jl:147\n",
      " [16] top-level scope\n",
      "    @ c:\\Users\\Ivan - Auto\\.vscode\\extensions\\julialang.language-julia-1.105.2\\scripts\\notebook\\notebook.jl:35"
     ]
    }
   ],
   "source": [
    "#\n",
    "# asian_asciiplot.jl\n",
    "#\n",
    "\n",
    "using ASCIIPlots;\n",
    "\n",
    "S0  = 100;      # Цена \"спот\"\n",
    "K   = 102;      # Цена \"страйк\"\n",
    "r   = 0.05;     # Безрисковая ставка \n",
    "q   = 0.0;      # Дивидендная доходность  \n",
    "v   = 0.2;      # Волатильность\n",
    "tma = 0.25;     # Срок до даты платежа \n",
    "T   = 100;      # Число временных интервалов  \n",
    "dt  = tma/T;    # Приращение времени\n",
    "\n",
    "S = zeros(Float64,T);\n",
    "S[1] = S0;\n",
    "dW = randn(T)*sqrt(dt)\n",
    "[ S[t] = S[t-1] * (1 + (r - q - 0.5*v*v)*dt + v*dW[t] + 0.5*v*v*dW[t]*dW[t]) for t=2:T ]\n",
    "x = linspace(1,100,T);\n",
    "\n",
    "scatterplot(x,S,sym='*')"
   ]
  },
  {
   "cell_type": "markdown",
   "metadata": {
    "collapsed": true
   },
   "source": [
    "\n",
    "### Более реалистичные графики с помощью Winston\n"
   ]
  },
  {
   "cell_type": "code",
   "execution_count": 29,
   "metadata": {
    "collapsed": false
   },
   "outputs": [
    {
     "ename": "ArgumentError",
     "evalue": "ArgumentError: Package Winston not found in current path.\n- Run `import Pkg; Pkg.add(\"Winston\")` to install the Winston package.",
     "output_type": "error",
     "traceback": [
      "ArgumentError: Package Winston not found in current path.\n",
      "- Run `import Pkg; Pkg.add(\"Winston\")` to install the Winston package.\n",
      "\n",
      "Stacktrace:\n",
      "  [1] macro expansion\n",
      "    @ .\\loading.jl:1772 [inlined]\n",
      "  [2] macro expansion\n",
      "    @ .\\lock.jl:267 [inlined]\n",
      "  [3] __require(into::Module, mod::Symbol)\n",
      "    @ Base .\\loading.jl:1753\n",
      "  [4] #invoke_in_world#3\n",
      "    @ .\\essentials.jl:926 [inlined]\n",
      "  [5] invoke_in_world\n",
      "    @ .\\essentials.jl:923 [inlined]\n",
      "  [6] require(into::Module, mod::Symbol)\n",
      "    @ Base .\\loading.jl:1746\n",
      "  [7] eval\n",
      "    @ .\\boot.jl:385 [inlined]\n",
      "  [8] include_string(mapexpr::typeof(REPL.softscope), mod::Module, code::String, filename::String)\n",
      "    @ Base .\\loading.jl:2076\n",
      "  [9] #invokelatest#2\n",
      "    @ .\\essentials.jl:892 [inlined]\n",
      " [10] invokelatest\n",
      "    @ .\\essentials.jl:889 [inlined]\n",
      " [11] (::VSCodeServer.var\"#217#218\"{VSCodeServer.NotebookRunCellArguments, String})()\n",
      "    @ VSCodeServer c:\\Users\\Ivan - Auto\\.vscode\\extensions\\julialang.language-julia-1.105.2\\scripts\\packages\\VSCodeServer\\src\\serve_notebook.jl:24\n",
      " [12] withpath(f::VSCodeServer.var\"#217#218\"{VSCodeServer.NotebookRunCellArguments, String}, path::String)\n",
      "    @ VSCodeServer c:\\Users\\Ivan - Auto\\.vscode\\extensions\\julialang.language-julia-1.105.2\\scripts\\packages\\VSCodeServer\\src\\repl.jl:276\n",
      " [13] notebook_runcell_request(conn::VSCodeServer.JSONRPC.JSONRPCEndpoint{Base.PipeEndpoint, Base.PipeEndpoint}, params::VSCodeServer.NotebookRunCellArguments)\n",
      "    @ VSCodeServer c:\\Users\\Ivan - Auto\\.vscode\\extensions\\julialang.language-julia-1.105.2\\scripts\\packages\\VSCodeServer\\src\\serve_notebook.jl:13\n",
      " [14] dispatch_msg(x::VSCodeServer.JSONRPC.JSONRPCEndpoint{Base.PipeEndpoint, Base.PipeEndpoint}, dispatcher::VSCodeServer.JSONRPC.MsgDispatcher, msg::Dict{String, Any})\n",
      "    @ VSCodeServer.JSONRPC c:\\Users\\Ivan - Auto\\.vscode\\extensions\\julialang.language-julia-1.105.2\\scripts\\packages\\JSONRPC\\src\\typed.jl:67\n",
      " [15] serve_notebook(pipename::String, debugger_pipename::String, outputchannel_logger::Base.CoreLogging.SimpleLogger; error_handler::var\"#5#10\"{String})\n",
      "    @ VSCodeServer c:\\Users\\Ivan - Auto\\.vscode\\extensions\\julialang.language-julia-1.105.2\\scripts\\packages\\VSCodeServer\\src\\serve_notebook.jl:147\n",
      " [16] top-level scope\n",
      "    @ c:\\Users\\Ivan - Auto\\.vscode\\extensions\\julialang.language-julia-1.105.2\\scripts\\notebook\\notebook.jl:35"
     ]
    }
   ],
   "source": [
    "using Winston;\n",
    "\n",
    "#import Winston;\n",
    "#wn = Winston;\n",
    "\n",
    "S0  = 100;      # Цена \"спот\"\n",
    "K   = 102;      # Цена \"страйк\"\n",
    "r   = 0.05;     # Безрисковая ставка \n",
    "q   = 0.0;      # Дивидендная доходность  \n",
    "v   = 0.2;      # Волатильность\n",
    "tma = 0.25;     # Срок до даты платежа \n",
    "T   = 100;      # Число временных интервалов  \n",
    "dt  = tma/T;    # Приращение времени\n",
    "\n",
    "S = zeros(Float64,T)\n",
    "S[1] = S0;\n",
    "dW = randn(T)*sqrt(dt);\n",
    "[ S[t] = S[t-1] * (1 + (r - q - 0.5*v*v)*dt + v*dW[t] + 0.5*v*v*dW[t]*dW[t]) for t=2:T ]\n",
    "x = linspace(1, T, T);\n",
    "\n",
    "p = FramedPlot(title=\"Случайное блуждание, дрифт 5%, волатильность 20%\")\n",
    "\n",
    "add(p, Curve(x,S,Color=\"red\"))\n",
    "\n",
    "#wn.plot(S)\n",
    "display(p)"
   ]
  },
  {
   "cell_type": "code",
   "execution_count": 30,
   "metadata": {
    "collapsed": true
   },
   "outputs": [],
   "source": []
  }
 ],
 "metadata": {
  "kernelspec": {
   "display_name": "Julia 1.10.4",
   "language": "julia",
   "name": "julia-1.10"
  },
  "language_info": {
   "file_extension": ".jl",
   "mimetype": "application/julia",
   "name": "julia",
   "version": "1.10.4"
  }
 },
 "nbformat": 4,
 "nbformat_minor": 0
}
