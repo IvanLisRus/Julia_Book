{
 "cells": [
  {
   "cell_type": "markdown",
   "metadata": {},
   "source": [
    "<div style=\"text-align: left;\"><img src=\"https://www.juliabox.org/assets/img/juliacloudlogo.png\" style=\"margin: 0px 0px 0px 0px; padding-right: 20px;width: 80px; float: left;\" title=\"\" alt=\"\" /></div>\n",
    "<img src=\"http://dmkpress.com/images/cms/thumbs/a5b0aeaa3fa7d6e58d75710c18673bd7ec6d5f6d/978-5-97060-370-3_270_369__100.jpg\" style=\"margin: 0px 0px 5px 20px; width: 100px; float: right;\" title=\"\" alt=\"\" />\n",
    "Всестороннее введение в новый язык программирования для научно-технических вычислений [Julia](http://julialang.org/) в книге Малколма Шеррингтона, Packt Publishing, июль 2015.\n",
    "\n",
    "<h1>Осваиваем язык Julia</h1><br />\n",
    "\n",
    "Совершенствование мастерства в области аналитики и программирования при помощи Julia в целях решения задач комплексной обработки данных\n",
    "<div style=\"text-align: left;font-size:8pt;padding-top:10px;\">Программный код Julia (v0.4.5) протестирован в Windows 8.1/10 и Linux/Lubuntu 16.4</div>\n",
    "<div style=\"text-align: left;\"><h1>Глава 4. Функциональная совместимость</h1></div>"
   ]
  },
  {
   "cell_type": "markdown",
   "metadata": {},
   "source": [
    "# 3. Многозадачность"
   ]
  },
  {
   "cell_type": "code",
   "execution_count": 88,
   "metadata": {
    "collapsed": false
   },
   "outputs": [
    {
     "data": {
      "text/plain": [
       "fibs (generic function with 2 methods)"
      ]
     },
     "execution_count": 88,
     "metadata": {},
     "output_type": "execute_result"
    }
   ],
   "source": [
    "function fibs(n = 10)\n",
    "  fib = round(Int64,zeros(n))\n",
    "\n",
    "  fib[1] = 1\n",
    "  produce(fib[1]) \n",
    "  fib[2] = 1\n",
    "  produce(fib[2])\n",
    "\n",
    "  for i = 3:n\n",
    "    fib[i] = fib[i-1] + fib[i-2]\n",
    "    produce(fib[i])\n",
    "  end\n",
    "  produce(-1)\n",
    "end"
   ]
  },
  {
   "cell_type": "code",
   "execution_count": 89,
   "metadata": {
    "collapsed": false
   },
   "outputs": [
    {
     "data": {
      "text/plain": [
       "Task (runnable) @0x00000000827b6150"
      ]
     },
     "execution_count": 89,
     "metadata": {},
     "output_type": "execute_result"
    }
   ],
   "source": [
    "p = Task(fibs)"
   ]
  },
  {
   "cell_type": "markdown",
   "metadata": {},
   "source": [
    "<pre>\n",
    "println(consume(p)); # => 1\n",
    "----------------------------\n",
    "----------------------------\n",
    "println(consume(p)); # => 55\n",
    "println(consume(p)); # => -1\n",
    "</pre>"
   ]
  },
  {
   "cell_type": "raw",
   "metadata": {
    "collapsed": false
   },
   "source": [
    "for x in p\n",
    "  if x < 0\n",
    "    break\n",
    "  else\n",
    "    @printf \"%d \" x\n",
    "  end\n",
    "end"
   ]
  },
  {
   "cell_type": "markdown",
   "metadata": {},
   "source": [
    "## Параллельные операции"
   ]
  },
  {
   "cell_type": "raw",
   "metadata": {},
   "source": [
    "julia -p 2 -L file1.jl -L file2.jl main.jl"
   ]
  },
  {
   "cell_type": "code",
   "execution_count": null,
   "metadata": {
    "collapsed": true
   },
   "outputs": [],
   "source": [
    "addprocs(3); # => эквивалентно запуску: julia –p 4, равно числя_ядер_процессора - 1"
   ]
  },
  {
   "cell_type": "code",
   "execution_count": null,
   "metadata": {
    "collapsed": true
   },
   "outputs": [],
   "source": [
    "nprocs();    # => 4 "
   ]
  },
  {
   "cell_type": "code",
   "execution_count": null,
   "metadata": {
    "collapsed": true
   },
   "outputs": [],
   "source": [
    "r = remotecall(2, randn, 5)\n",
    "\n",
    "fetch(r);   # => [0.094615,0.339905,0.422061,0.790972,0.552309 ]"
   ]
  },
  {
   "cell_type": "code",
   "execution_count": null,
   "metadata": {
    "collapsed": true
   },
   "outputs": [],
   "source": [
    "addprocs(3)\n",
    "\n",
    "@everywhere fib(n) = (n < 2) ? n : (fib(n-1) + fib(n-2))"
   ]
  },
  {
   "cell_type": "code",
   "execution_count": null,
   "metadata": {
    "collapsed": true
   },
   "outputs": [],
   "source": [
    "@elapsed fib(40);             # => 1.311472619"
   ]
  },
  {
   "cell_type": "code",
   "execution_count": null,
   "metadata": {
    "collapsed": true
   },
   "outputs": [],
   "source": [
    "r = @spawn @elapsed fib(40);  # => RemoteRef(4,1,17)"
   ]
  },
  {
   "cell_type": "code",
   "execution_count": null,
   "metadata": {
    "collapsed": true
   },
   "outputs": [],
   "source": [
    "fetch(r);                     # => 1.272693849"
   ]
  },
  {
   "cell_type": "markdown",
   "metadata": {},
   "source": [
    "## Распределенные массивы"
   ]
  },
  {
   "cell_type": "code",
   "execution_count": 10,
   "metadata": {
    "collapsed": false
   },
   "outputs": [
    {
     "name": "stderr",
     "output_type": "stream",
     "text": [
      "WARNING: replacing module DistributedArrays\n",
      "WARNING: replacing module DistributedArrays\n",
      "WARNING: replacing module DistributedArrays\n"
     ]
    },
    {
     "data": {
      "text/plain": [
       "DistributedArrays.DArray{Float64,1,Array{Float64,1}}"
      ]
     },
     "execution_count": 10,
     "metadata": {},
     "output_type": "execute_result"
    }
   ],
   "source": [
    "addprocs(3);\n",
    "\n",
    "@everywhere using DistributedArrays\n",
    "\n",
    "d = drand(100000);\n",
    "\n",
    "typeof(d)  # => DArray{Float64,1,Array{Float64.1}}"
   ]
  },
  {
   "cell_type": "code",
   "execution_count": 2,
   "metadata": {
    "collapsed": false
   },
   "outputs": [
    {
     "data": {
      "text/plain": [
       "6-element Array{Symbol,1}:\n",
       " :identity\n",
       " :dims    \n",
       " :pids    \n",
       " :indexes \n",
       " :cuts    \n",
       " :release "
      ]
     },
     "execution_count": 2,
     "metadata": {},
     "output_type": "execute_result"
    }
   ],
   "source": [
    "fieldnames(d)  "
   ]
  },
  {
   "cell_type": "code",
   "execution_count": 3,
   "metadata": {
    "collapsed": false
   },
   "outputs": [
    {
     "data": {
      "text/plain": [
       "1-element Array{Array{Int64,1},1}:\n",
       " [1,33334,66668,100001]"
      ]
     },
     "execution_count": 3,
     "metadata": {},
     "output_type": "execute_result"
    }
   ],
   "source": [
    "d.cuts "
   ]
  },
  {
   "cell_type": "code",
   "execution_count": 4,
   "metadata": {
    "collapsed": false
   },
   "outputs": [
    {
     "data": {
      "text/plain": [
       "3-element Array{Int64,1}:\n",
       " 2\n",
       " 3\n",
       " 4"
      ]
     },
     "execution_count": 4,
     "metadata": {},
     "output_type": "execute_result"
    }
   ],
   "source": [
    "d.pids"
   ]
  },
  {
   "cell_type": "raw",
   "metadata": {},
   "source": [
    "3-element Array{RemoteRef,1}:  \n",
    " RemoteRef(2,1,5)  \n",
    " RemoteRef(3,1,6)  \n",
    " RemoteRef(4,1,7)"
   ]
  },
  {
   "cell_type": "code",
   "execution_count": null,
   "metadata": {
    "collapsed": true
   },
   "outputs": [],
   "source": [
    "length(d.chunks); # => 3"
   ]
  },
  {
   "cell_type": "code",
   "execution_count": 5,
   "metadata": {
    "collapsed": false
   },
   "outputs": [
    {
     "data": {
      "text/plain": [
       "3-element Array{Tuple{UnitRange{Int64}},1}:\n",
       " (1:33333,)     \n",
       " (33334:66667,) \n",
       " (66668:100000,)"
      ]
     },
     "execution_count": 5,
     "metadata": {},
     "output_type": "execute_result"
    }
   ],
   "source": [
    "d.indexes  "
   ]
  },
  {
   "cell_type": "code",
   "execution_count": 10,
   "metadata": {
    "collapsed": false
   },
   "outputs": [
    {
     "data": {
      "text/plain": [
       "(100,200,300)"
      ]
     },
     "execution_count": 10,
     "metadata": {},
     "output_type": "execute_result"
    }
   ],
   "source": [
    "d0 = dzeros(100,200,300); d0.dims  # = > (100,200,300)"
   ]
  },
  {
   "cell_type": "code",
   "execution_count": 11,
   "metadata": {
    "collapsed": false
   },
   "outputs": [
    {
     "data": {
      "text/plain": [
       "(0.0:0.1:1.0,[10215,10011,9871,9952,9895,10103,10037,9960,10032,9924])"
      ]
     },
     "execution_count": 11,
     "metadata": {},
     "output_type": "execute_result"
    }
   ],
   "source": [
    "(r, fq) = hist(d,10) "
   ]
  },
  {
   "cell_type": "code",
   "execution_count": 12,
   "metadata": {
    "collapsed": false
   },
   "outputs": [
    {
     "data": {
      "text/plain": [
       "103.65219620335006"
      ]
     },
     "execution_count": 12,
     "metadata": {},
     "output_type": "execute_result"
    }
   ],
   "source": [
    "stdm(fq, mean(fq))  "
   ]
  },
  {
   "cell_type": "code",
   "execution_count": 13,
   "metadata": {
    "collapsed": false
   },
   "outputs": [
    {
     "name": "stdout",
     "output_type": "stream",
     "text": [
      "\tFrom worker 4:\tx ^ 2 = 64\n",
      "\tFrom worker 3:\tx ^ 2 = 16\n",
      "\tFrom worker 3:\tx ^ 2 = 25\n",
      "\tFrom worker 4:\tx ^ 2 = 81\n",
      "\tFrom worker 3:\tx ^ 2 = 36\n",
      "\tFrom worker 4:\tx ^ 2 = 100\n",
      "\tFrom worker 3:\tx ^ 2 = 49\n",
      "\tFrom worker 2:\tx ^ 2 = 1\n",
      "\tFrom worker 2:\tx ^ 2 = 4\n",
      "\tFrom worker 2:\tx ^ 2 = 9\n"
     ]
    },
    {
     "data": {
      "text/plain": [
       "10-element DistributedArrays.DArray{Int64,1,Array{Int64,1}}:\n",
       "   1\n",
       "   4\n",
       "   9\n",
       "  16\n",
       "  25\n",
       "  36\n",
       "  49\n",
       "  64\n",
       "  81\n",
       " 100"
      ]
     },
     "execution_count": 13,
     "metadata": {},
     "output_type": "execute_result"
    }
   ],
   "source": [
    "#addprocs(3);\n",
    "#@everywhere using DistributedArrays\n",
    "\n",
    "x = @DArray [@show x^2 for x = 1:10]"
   ]
  },
  {
   "cell_type": "code",
   "execution_count": 14,
   "metadata": {
    "collapsed": false
   },
   "outputs": [
    {
     "name": "stdout",
     "output_type": "stream",
     "text": [
      "\tFrom worker 3:\ti + j = 6\n",
      "\tFrom worker 2:\ti + j = 5\n",
      "\tFrom worker 3:\ti + j = 7\n",
      "\tFrom worker 2:\ti + j = 6\n",
      "\tFrom worker 2:\ti + j = 7\n",
      "\tFrom worker 3:\ti + j = 8\n",
      "\tFrom worker 4:\ti + j = 7\n",
      "\tFrom worker 4:\ti + j = 8\n",
      "\tFrom worker 4:\ti + j = 9\n"
     ]
    },
    {
     "data": {
      "text/plain": [
       "3x3 DistributedArrays.DArray{Int64,2,Array{Int64,2}}:\n",
       " 5  6  7\n",
       " 6  7  8\n",
       " 7  8  9"
      ]
     },
     "execution_count": 14,
     "metadata": {},
     "output_type": "execute_result"
    }
   ],
   "source": [
    "y = @DArray [@show i + j for i = 1:3, j = 4:6]"
   ]
  },
  {
   "cell_type": "markdown",
   "metadata": {
    "collapsed": true
   },
   "source": [
    "## Простая модель MapReduce"
   ]
  },
  {
   "cell_type": "code",
   "execution_count": null,
   "metadata": {
    "collapsed": true
   },
   "outputs": [],
   "source": [
    "addprocs(3);\n",
    "d = drand(300,300);\n",
    "nd = length(d.chunks)"
   ]
  },
  {
   "cell_type": "code",
   "execution_count": null,
   "metadata": {
    "collapsed": true
   },
   "outputs": [],
   "source": [
    "μ = reduce(+, map(fetch, Any[@spawnat p mean(localpart(d)) for p in procs(d) ]))/nd;  # => 0.001171701"
   ]
  },
  {
   "cell_type": "code",
   "execution_count": null,
   "metadata": {
    "collapsed": true
   },
   "outputs": [],
   "source": [
    "σ = reduce(+, map(fetch, Any[@spawnat p std(localpart(d)) for p in procs(d) ]))/nd;   # => 1.001011265"
   ]
  }
 ],
 "metadata": {
  "kernelspec": {
   "display_name": "Julia 0.4.5",
   "language": "julia",
   "name": "julia-0.4"
  },
  "language_info": {
   "file_extension": ".jl",
   "mimetype": "application/julia",
   "name": "julia",
   "version": "0.4.5"
  }
 },
 "nbformat": 4,
 "nbformat_minor": 0
}
