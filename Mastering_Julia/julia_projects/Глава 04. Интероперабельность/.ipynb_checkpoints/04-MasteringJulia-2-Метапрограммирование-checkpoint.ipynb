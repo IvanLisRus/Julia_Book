{
 "cells": [
  {
   "cell_type": "markdown",
   "metadata": {},
   "source": [
    "<script src=\"https://use.fontawesome.com/2e576da815.js\"></script>"
   ]
  },
  {
   "cell_type": "markdown",
   "metadata": {},
   "source": [
    "<div style=\"text-align: left;\"><img src=\"https://www.juliabox.org/assets/img/juliacloudlogo.png\" style=\"margin: 0px 0px 0px 0px; padding-right: 20px;width: 80px; float: left;\" title=\"\" alt=\"\" /></div>\n",
    "<img src=\"http://dmkpress.com/images/cms/thumbs/a5b0aeaa3fa7d6e58d75710c18673bd7ec6d5f6d/978-5-97060-370-3_270_369__100.jpg\" style=\"margin: 0px 0px 5px 20px; width: 100px; float: right;\" title=\"\" alt=\"\" />\n",
    "Всестороннее введение в новый язык программирования для научно-технических вычислений [Julia](http://julialang.org/) в книге Малколма Шеррингтона, Packt Publishing, июль 2015.\n",
    "\n",
    "<h1>Осваиваем язык Julia</h1><br />\n",
    "\n",
    "Совершенствование мастерства в области аналитики и программирования при помощи Julia в целях решения задач комплексной обработки данных\n",
    "<div style=\"text-align: left;font-size:8pt;padding-top:10px;\">Программный код Julia (v0.4.5) протестирован в Windows 8.1/10 и Linux/Lubuntu 16.4</div>\n",
    "<div style=\"text-align: left;\"><h1>Глава 4. Функциональная совместимость</h1></div>"
   ]
  },
  {
   "cell_type": "markdown",
   "metadata": {},
   "source": [
    "# 3. Метапрограммирование\n",
    "## Символьные имена"
   ]
  },
  {
   "cell_type": "code",
   "execution_count": 7,
   "metadata": {
    "collapsed": false
   },
   "outputs": [
    {
     "data": {
      "text/plain": [
       ":(a + b * c)"
      ]
     },
     "execution_count": 7,
     "metadata": {},
     "output_type": "execute_result"
    }
   ],
   "source": [
    "ex = :(a+b*c) "
   ]
  },
  {
   "cell_type": "code",
   "execution_count": 8,
   "metadata": {
    "collapsed": false
   },
   "outputs": [
    {
     "data": {
      "text/plain": [
       "Expr"
      ]
     },
     "execution_count": 8,
     "metadata": {},
     "output_type": "execute_result"
    }
   ],
   "source": [
    "typeof(ex)"
   ]
  },
  {
   "cell_type": "code",
   "execution_count": 9,
   "metadata": {
    "collapsed": false
   },
   "outputs": [
    {
     "data": {
      "text/plain": [
       "58.5 + 10.0im"
      ]
     },
     "execution_count": 9,
     "metadata": {},
     "output_type": "execute_result"
    }
   ],
   "source": [
    "a = 1.0; b = 2.5; c = 23 + 4im;\n",
    "eval(ex) "
   ]
  },
  {
   "cell_type": "code",
   "execution_count": 10,
   "metadata": {
    "collapsed": false
   },
   "outputs": [
    {
     "data": {
      "text/plain": [
       "3-element Array{Symbol,1}:\n",
       " :head\n",
       " :args\n",
       " :typ "
      ]
     },
     "execution_count": 10,
     "metadata": {},
     "output_type": "execute_result"
    }
   ],
   "source": [
    "fieldnames(Expr) "
   ]
  },
  {
   "cell_type": "code",
   "execution_count": 11,
   "metadata": {
    "collapsed": false
   },
   "outputs": [
    {
     "data": {
      "text/plain": [
       "3-element Array{Any,1}:\n",
       " :+      \n",
       " :a      \n",
       " :(b * c)"
      ]
     },
     "execution_count": 11,
     "metadata": {},
     "output_type": "execute_result"
    }
   ],
   "source": [
    "ex.args   "
   ]
  },
  {
   "cell_type": "code",
   "execution_count": 12,
   "metadata": {
    "collapsed": false
   },
   "outputs": [
    {
     "data": {
      "text/plain": [
       "3-element Array{Any,1}:\n",
       " :*\n",
       " :b\n",
       " :c"
      ]
     },
     "execution_count": 12,
     "metadata": {},
     "output_type": "execute_result"
    }
   ],
   "source": [
    "ex.args[3].args  "
   ]
  },
  {
   "cell_type": "code",
   "execution_count": 13,
   "metadata": {
    "collapsed": false
   },
   "outputs": [
    {
     "data": {
      "text/plain": [
       ":call"
      ]
     },
     "execution_count": 13,
     "metadata": {},
     "output_type": "execute_result"
    }
   ],
   "source": [
    "ex.head "
   ]
  },
  {
   "cell_type": "code",
   "execution_count": 14,
   "metadata": {
    "collapsed": false
   },
   "outputs": [
    {
     "data": {
      "text/plain": [
       "Any"
      ]
     },
     "execution_count": 14,
     "metadata": {},
     "output_type": "execute_result"
    }
   ],
   "source": [
    "ex.typ"
   ]
  },
  {
   "cell_type": "markdown",
   "metadata": {},
   "source": [
    "## Макрокоманды"
   ]
  },
  {
   "cell_type": "markdown",
   "metadata": {},
   "source": [
    "<i class=\"fa fa-linux\" aria-hidden=\"true\"></i>\n",
    "<i class=\"fa fa-apple\" aria-hidden=\"true\"></i>"
   ]
  },
  {
   "cell_type": "code",
   "execution_count": 34,
   "metadata": {
    "collapsed": true
   },
   "outputs": [],
   "source": [
    "systime() = ccall( (:time, \"libc\"), Int32, ());\n",
    "macro uxtime(ex)\n",
    "  quote\n",
    "    t0 = systime()\n",
    "    $(esc(ex))\n",
    "    t1 = systime()\n",
    "    println(\"Время обработки составило $(t1 - t0) сек.\")\n",
    "  end\n",
    "end "
   ]
  },
  {
   "cell_type": "code",
   "execution_count": null,
   "metadata": {
    "collapsed": true
   },
   "outputs": [],
   "source": [
    "include(homedir()*\"/julia_projects/queens.jl\")\n",
    "\n",
    "@uxtime qsolve(8)   # прим. 53 сек. "
   ]
  },
  {
   "cell_type": "markdown",
   "metadata": {},
   "source": [
    "<i class=\"fa fa-windows\" aria-hidden=\"true\"></i>\n",
    "<i class=\"fa fa-linux\" aria-hidden=\"true\"></i>\n",
    "<i class=\"fa fa-apple\" aria-hidden=\"true\"></i>"
   ]
  },
  {
   "cell_type": "code",
   "execution_count": 6,
   "metadata": {
    "collapsed": false
   },
   "outputs": [
    {
     "data": {
      "text/plain": [
       "hangabout (generic function with 1 method)"
      ]
     },
     "execution_count": 6,
     "metadata": {},
     "output_type": "execute_result"
    }
   ],
   "source": [
    "function hangabout(n)\n",
    "  s = 0.0\n",
    "  for i = 1:n\n",
    "    s += i/(i+1)^2\n",
    "  end\n",
    "  s\n",
    "end"
   ]
  },
  {
   "cell_type": "code",
   "execution_count": 7,
   "metadata": {
    "collapsed": false
   },
   "outputs": [
    {
     "data": {
      "text/plain": [
       "19.655547437502335"
      ]
     },
     "execution_count": 7,
     "metadata": {},
     "output_type": "execute_result"
    }
   ],
   "source": [
    "hangabout(1_000_000_000) "
   ]
  },
  {
   "cell_type": "code",
   "execution_count": 15,
   "metadata": {
    "collapsed": false
   },
   "outputs": [
    {
     "data": {
      "text/plain": [
       "7.164108306"
      ]
     },
     "execution_count": 15,
     "metadata": {},
     "output_type": "execute_result"
    }
   ],
   "source": [
    "@elapsed hangabout(1_000_000_000)"
   ]
  },
  {
   "cell_type": "code",
   "execution_count": 16,
   "metadata": {
    "collapsed": false
   },
   "outputs": [
    {
     "data": {
      "text/plain": [
       "quote  # In[16], line 1:\n",
       "    begin  # util.jl, line 178:\n",
       "        local #62#t0 = Base.time_ns() # util.jl, line 179:\n",
       "        local #63#val = hangabout(1000000000) # util.jl, line 180:\n",
       "        Base./(Base.-(Base.time_ns(),#62#t0),1.0e9)\n",
       "    end\n",
       "end"
      ]
     },
     "execution_count": 16,
     "metadata": {},
     "output_type": "execute_result"
    }
   ],
   "source": [
    "macroexpand(quote @elapsed hangabout(1_000_000_000) end)"
   ]
  },
  {
   "cell_type": "code",
   "execution_count": 17,
   "metadata": {
    "collapsed": true
   },
   "outputs": [],
   "source": [
    "macro benchmark(f)\n",
    "  quote\n",
    "    $(esc(f))\n",
    "    mean([@elapsed $(esc(f)) for i = 1:10])\n",
    "  end\n",
    "end"
   ]
  },
  {
   "cell_type": "code",
   "execution_count": 18,
   "metadata": {
    "collapsed": false
   },
   "outputs": [
    {
     "data": {
      "text/plain": [
       "quote  # In[18], line 1:\n",
       "    begin  # In[17], line 3:\n",
       "        hangabout(1000000000) # In[17], line 4:\n",
       "        mean([begin  # util.jl, line 178:\n",
       "                local #65#t0 = Base.time_ns() # util.jl, line 179:\n",
       "                local #66#val = hangabout(1000000000) # util.jl, line 180:\n",
       "                Base./(Base.-(Base.time_ns(),#65#t0),1.0e9)\n",
       "            end for #64#i = 1:10])\n",
       "    end\n",
       "end"
      ]
     },
     "execution_count": 18,
     "metadata": {},
     "output_type": "execute_result"
    }
   ],
   "source": [
    "macroexpand(quote @benchmark hangabout(1_000_000_000) end)"
   ]
  },
  {
   "cell_type": "markdown",
   "metadata": {},
   "source": [
    "## Тестирование"
   ]
  },
  {
   "cell_type": "code",
   "execution_count": 19,
   "metadata": {
    "collapsed": false
   },
   "outputs": [
    {
     "ename": "LoadError",
     "evalue": "LoadError: test failed: 1 == 2\n in expression: x == 2\nwhile loading In[19], in expression starting on line 5",
     "output_type": "error",
     "traceback": [
      "LoadError: test failed: 1 == 2\n in expression: x == 2\nwhile loading In[19], in expression starting on line 5",
      ""
     ]
    }
   ],
   "source": [
    "using Base.Test\n",
    "\n",
    "x = 1;\n",
    "@test x == 1\n",
    "@test x == 2  # => ErrorException(\"test failed: :((x==2))\")"
   ]
  },
  {
   "cell_type": "code",
   "execution_count": 21,
   "metadata": {
    "collapsed": false
   },
   "outputs": [
    {
     "ename": "LoadError",
     "evalue": "LoadError: test failed: BoundsError([0.3284644758041464,0.7137241560117829,0.4093934847398273,0.9864315978029479,0.8909286447186917,0.011079639569080424,0.7836313605916725,0.6389251344519136,0.9335210321123686,0.10798471482581484],(11,)) was thrown instead of DomainError\n in expression: a[11] = 0.1\nwhile loading In[21], in expression starting on line 4",
     "output_type": "error",
     "traceback": [
      "LoadError: test failed: BoundsError([0.3284644758041464,0.7137241560117829,0.4093934847398273,0.9864315978029479,0.8909286447186917,0.011079639569080424,0.7836313605916725,0.6389251344519136,0.9335210321123686,0.10798471482581484],(11,)) was thrown instead of DomainError\n in expression: a[11] = 0.1\nwhile loading In[21], in expression starting on line 4",
      ""
     ]
    }
   ],
   "source": [
    "a = rand(10);\n",
    "\n",
    "@test_throws BoundsError a[11] = 0.1\n",
    "@test_throws DomainError a[11] = 0.1"
   ]
  },
  {
   "cell_type": "code",
   "execution_count": 22,
   "metadata": {
    "collapsed": false
   },
   "outputs": [
    {
     "ename": "LoadError",
     "evalue": "LoadError: assertion failed: |0.0 - sin(pi)| <= 2.465190328815662e-28\n  0.0 = 0.0\n  sin(pi) = 1.2246467991473532e-16\n  difference = 1.2246467991473532e-16 > 2.465190328815662e-28\nwhile loading In[22], in expression starting on line 1",
     "output_type": "error",
     "traceback": [
      "LoadError: assertion failed: |0.0 - sin(pi)| <= 2.465190328815662e-28\n  0.0 = 0.0\n  sin(pi) = 1.2246467991473532e-16\n  difference = 1.2246467991473532e-16 > 2.465190328815662e-28\nwhile loading In[22], in expression starting on line 1",
      ""
     ]
    }
   ],
   "source": [
    "@test_approx_eq 0.0 sin(pi)"
   ]
  },
  {
   "cell_type": "code",
   "execution_count": 23,
   "metadata": {
    "collapsed": false
   },
   "outputs": [
    {
     "ename": "LoadError",
     "evalue": "LoadError: assertion failed: |0.0 - sin(pi)| <= 1.0e-20\n  0.0 = 0.0\n  sin(pi) = 1.2246467991473532e-16\n  difference = 1.2246467991473532e-16 > 1.0e-20\nwhile loading In[23], in expression starting on line 2",
     "output_type": "error",
     "traceback": [
      "LoadError: assertion failed: |0.0 - sin(pi)| <= 1.0e-20\n  0.0 = 0.0\n  sin(pi) = 1.2246467991473532e-16\n  difference = 1.2246467991473532e-16 > 1.0e-20\nwhile loading In[23], in expression starting on line 2",
      "",
      " in error at error.jl:22"
     ]
    }
   ],
   "source": [
    "@test_approx_eq_eps 0.0 sin(pi) 1.0e-10\n",
    "@test_approx_eq_eps 0.0 sin(pi) 1.0e-20"
   ]
  },
  {
   "cell_type": "markdown",
   "metadata": {},
   "source": [
    "### Обработка ошибок"
   ]
  },
  {
   "cell_type": "code",
   "execution_count": 24,
   "metadata": {
    "collapsed": false
   },
   "outputs": [
    {
     "data": {
      "text/plain": [
       "my (generic function with 1 method)"
      ]
     },
     "execution_count": 24,
     "metadata": {},
     "output_type": "execute_result"
    }
   ],
   "source": [
    "using Base.Test\n",
    "\n",
    "my_handler(r::Test.Success) = println(\"Согласен с $(r.expr)\");\n",
    "my_handler(r::Test.Failure) = error(\"Ошибка из моего обработчика: $(r.expr)\")\n",
    "my(r::Test.Error) = rethrow(r)"
   ]
  },
  {
   "cell_type": "code",
   "execution_count": 25,
   "metadata": {
    "collapsed": false
   },
   "outputs": [
    {
     "data": {
      "text/plain": [
       "3-element Array{Symbol,1}:\n",
       " :expr     \n",
       " :err      \n",
       " :backtrace"
      ]
     },
     "execution_count": 25,
     "metadata": {},
     "output_type": "execute_result"
    }
   ],
   "source": [
    "fieldnames(Test.Error) "
   ]
  },
  {
   "cell_type": "code",
   "execution_count": 26,
   "metadata": {
    "collapsed": true
   },
   "outputs": [],
   "source": [
    "my_handler(r::Test.Failure) = println(\"$(r.expr): да, как и задумано!\");\n",
    "my_handler(r::Test.Success) = println(\"$(r.expr): вполне устраивает\");\n",
    "my_handler(r::Test.Error) = rethrow(r);"
   ]
  },
  {
   "cell_type": "code",
   "execution_count": 28,
   "metadata": {
    "collapsed": false
   },
   "outputs": [
    {
     "name": "stdout",
     "output_type": "stream",
     "text": [
      "x == 1: вполне устраивает\n",
      "x == 2: да, как и задумано!\n"
     ]
    },
    {
     "ename": "LoadError",
     "evalue": "LoadError: test error in expression: x / 0\nTypeError: non-boolean (Float64) used in boolean context\n in do_test at test.jl:51\nwhile loading In[28], in expression starting on line 1",
     "output_type": "error",
     "traceback": [
      "LoadError: test error in expression: x / 0\nTypeError: non-boolean (Float64) used in boolean context\n in do_test at test.jl:51\nwhile loading In[28], in expression starting on line 1",
      "",
      " in do_test at test.jl:51"
     ]
    }
   ],
   "source": [
    "Test.with_handler(my_handler) do\n",
    "  x = 1;\n",
    "  @test x == 1\n",
    "  @test x == 2\n",
    "  @test x / 0\n",
    "end\n",
    "\n",
    "x == 1\n",
    "x == 2  \n",
    "x / 0"
   ]
  },
  {
   "cell_type": "markdown",
   "metadata": {},
   "source": [
    "## Макрокоманда enum"
   ]
  },
  {
   "cell_type": "code",
   "execution_count": 1,
   "metadata": {
    "collapsed": false
   },
   "outputs": [],
   "source": [
    "@enum STATUS INFO WARNING ERROR FATAL "
   ]
  },
  {
   "cell_type": "code",
   "execution_count": 2,
   "metadata": {
    "collapsed": false
   },
   "outputs": [
    {
     "data": {
      "text/plain": [
       "INFO::STATUS"
      ]
     },
     "execution_count": 2,
     "metadata": {},
     "output_type": "execute_result"
    }
   ],
   "source": [
    "INFO         "
   ]
  },
  {
   "cell_type": "code",
   "execution_count": 3,
   "metadata": {
    "collapsed": false
   },
   "outputs": [
    {
     "data": {
      "text/plain": [
       "INFO::STATUS"
      ]
     },
     "execution_count": 3,
     "metadata": {},
     "output_type": "execute_result"
    }
   ],
   "source": [
    "STATUS(0)   "
   ]
  },
  {
   "cell_type": "code",
   "execution_count": 4,
   "metadata": {
    "collapsed": false
   },
   "outputs": [
    {
     "data": {
      "text/plain": [
       "WARNING::STATUS"
      ]
     },
     "execution_count": 4,
     "metadata": {},
     "output_type": "execute_result"
    }
   ],
   "source": [
    "STATUS(1)    "
   ]
  },
  {
   "cell_type": "code",
   "execution_count": 5,
   "metadata": {
    "collapsed": false
   },
   "outputs": [
    {
     "data": {
      "text/plain": [
       "STATUS"
      ]
     },
     "execution_count": 5,
     "metadata": {},
     "output_type": "execute_result"
    }
   ],
   "source": [
    "typeof(INFO) "
   ]
  },
  {
   "cell_type": "markdown",
   "metadata": {},
   "source": [
    "Чтобы разобраться, как работает встроенная макрокоманда @enum, обратимся к ее определению."
   ]
  },
  {
   "cell_type": "code",
   "execution_count": 38,
   "metadata": {
    "collapsed": false
   },
   "outputs": [],
   "source": [
    "macro enum2(T,syms...)\n",
    "  blk = quote\n",
    "    immutable $(esc(T))\n",
    "      n::Int32\n",
    "      $(esc(T))(n::Integer) = new(n)\n",
    "    end\n",
    "  \n",
    "    Base.show(io::IO, x::$(esc(T))) = print(io, $syms[x.n+1])\n",
    "    Base.show(io::IO, x::Type{$(esc(T))}) = print(io, $(string(\"enum \", T, ' ', '(', join(syms, \", \"), ')')) )\n",
    "  end\n",
    "\n",
    "  for (i,sym) in enumerate(syms)\n",
    "    push!(blk.args, :(const $(esc(sym)) = $(esc(T))($(i-1))))\n",
    "  end\n",
    "\n",
    "  push!(blk.args, :nothing)\n",
    "  blk.head = :toplevel\n",
    "\n",
    "  return blk\n",
    "end"
   ]
  },
  {
   "cell_type": "code",
   "execution_count": 39,
   "metadata": {
    "collapsed": false
   },
   "outputs": [
    {
     "data": {
      "text/plain": [
       "MSGSTAT"
      ]
     },
     "execution_count": 39,
     "metadata": {},
     "output_type": "execute_result"
    }
   ],
   "source": [
    "# как вариант, можно включить тип, указав его расположение:\n",
    "# cd(joinpath(homedir(),\"julia_projects\",\"code\"))\n",
    "# include(\"enum2.jl\")\n",
    "\n",
    "@enum2 MSGSTAT INFO2 WARN2 ERROR2 FATAL2\n",
    "\n",
    "typealias MsgStatus typeof(INFO2)  "
   ]
  },
  {
   "cell_type": "code",
   "execution_count": 40,
   "metadata": {
    "collapsed": false
   },
   "outputs": [
    {
     "name": "stdout",
     "output_type": "stream",
     "text": [
      "2016-05-21T00:44:12: INFO2 >> Буду очень обрадован!"
     ]
    }
   ],
   "source": [
    "type LogMessage2\n",
    "  stamped::DateTime\n",
    "  msgstat::MsgStatus\n",
    "  message::AbstractString\n",
    "end\n",
    "\n",
    "import Base.show\n",
    "show(m::LogMessage2) = print(\"$(m.stamped): $(m.msgstat) >> $(m.message)\")\n",
    "msg = LogMessage2(now(), INFO2, \"Буду очень обрадован!\")\n",
    "\n",
    "show(msg)   "
   ]
  },
  {
   "cell_type": "code",
   "execution_count": 10,
   "metadata": {
    "collapsed": false
   },
   "outputs": [
    {
     "data": {
      "text/plain": [
       "\"Я фрукт со значением 1\""
      ]
     },
     "execution_count": 10,
     "metadata": {},
     "output_type": "execute_result"
    }
   ],
   "source": [
    "@enum ФРУКТ яблоко=1 апельсин=2 киви=3\n",
    "\n",
    "f(x::ФРУКТ) = \"Я фрукт со значением $(Int(x))\"\n",
    "\n",
    "f(яблоко)"
   ]
  }
 ],
 "metadata": {
  "kernelspec": {
   "display_name": "Julia 0.4.5",
   "language": "julia",
   "name": "julia-0.4"
  },
  "language_info": {
   "file_extension": ".jl",
   "mimetype": "application/julia",
   "name": "julia",
   "version": "0.4.5"
  }
 },
 "nbformat": 4,
 "nbformat_minor": 0
}
