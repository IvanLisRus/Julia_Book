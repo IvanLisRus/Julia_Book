{
 "cells": [
  {
   "cell_type": "markdown",
   "metadata": {},
   "source": [
    "<script src=\"https://use.fontawesome.com/2e576da815.js\"></script>"
   ]
  },
  {
   "cell_type": "markdown",
   "metadata": {},
   "source": [
    "<div style=\"text-align: left;\"><img src=\"https://www.juliabox.org/assets/img/juliacloudlogo.png\" style=\"margin: 0px 0px 0px 0px; padding-right: 20px;width: 80px; float: left;\" title=\"\" alt=\"\" /></div>\n",
    "<img src=\"http://dmkpress.com/images/cms/thumbs/a5b0aeaa3fa7d6e58d75710c18673bd7ec6d5f6d/978-5-97060-370-3_270_369__100.jpg\" style=\"margin: 0px 0px 5px 20px; width: 100px; float: right;\" title=\"\" alt=\"\" />\n",
    "Всестороннее введение в новый язык программирования для научно-технических вычислений [Julia](http://julialang.org/) в книге Малколма Шеррингтона, Packt Publishing, июль 2015.\n",
    "\n",
    "<h1>Осваиваем язык Julia</h1><br />\n",
    "\n",
    "Совершенствование мастерства в области аналитики и программирования при помощи Julia в целях решения задач комплексной обработки данных\n",
    "<div style=\"text-align: left;font-size:8pt;padding-top:10px;\">Программный код Julia (v0.4.5) протестирован в Windows 8.1/10 и Linux/Lubuntu 16.4</div>\n",
    "<div style=\"text-align: left;\"><h1>Глава 4. Функциональная совместимость</h1></div>"
   ]
  },
  {
   "cell_type": "markdown",
   "metadata": {},
   "source": [
    "# 4. Исполнение команд"
   ]
  },
  {
   "cell_type": "code",
   "execution_count": 2,
   "metadata": {
    "collapsed": false
   },
   "outputs": [
    {
     "data": {
      "text/plain": [
       "\"C:\\\\Users\\\\labor\\\\julia_projects\\\\Глава 04. Интероперабельность\""
      ]
     },
     "execution_count": 2,
     "metadata": {},
     "output_type": "execute_result"
    }
   ],
   "source": [
    "pwd() "
   ]
  },
  {
   "cell_type": "code",
   "execution_count": 5,
   "metadata": {
    "collapsed": false
   },
   "outputs": [],
   "source": [
    "cd(\"../../julia_projects\")"
   ]
  },
  {
   "cell_type": "code",
   "execution_count": 6,
   "metadata": {
    "collapsed": false
   },
   "outputs": [
    {
     "data": {
      "text/plain": [
       "\"C:\\\\Users\\\\labor\\\\julia_projects\""
      ]
     },
     "execution_count": 6,
     "metadata": {},
     "output_type": "execute_result"
    }
   ],
   "source": [
    "pwd()  "
   ]
  },
  {
   "cell_type": "markdown",
   "metadata": {},
   "source": [
    "<i class=\"fa fa-linux\" aria-hidden=\"true\"></i>\n",
    "<i class=\"fa fa-apple\" aria-hidden=\"true\"></i>"
   ]
  },
  {
   "cell_type": "code",
   "execution_count": null,
   "metadata": {
    "collapsed": true
   },
   "outputs": [],
   "source": [
    "function getenv(evar::String)\n",
    "  s = ccall( (:getenv,\"libc\"),Ptr{Uint8},(Ptr{Uint8},),evar)\n",
    "  bytestring(s)\n",
    "end"
   ]
  },
  {
   "cell_type": "code",
   "execution_count": null,
   "metadata": {
    "collapsed": true
   },
   "outputs": [],
   "source": [
    "home_dir = getenv(\"HOME\"));\n",
    "alice_dir = string(home_dir, \"/julia_projects/Alice\");\n",
    "cd(alice_dir)"
   ]
  },
  {
   "cell_type": "markdown",
   "metadata": {},
   "source": [
    "<i class=\"fa fa-windows\" aria-hidden=\"true\"></i>\n",
    "<i class=\"fa fa-linux\" aria-hidden=\"true\"></i>\n",
    "<i class=\"fa fa-apple\" aria-hidden=\"true\"></i>"
   ]
  },
  {
   "cell_type": "code",
   "execution_count": 7,
   "metadata": {
    "collapsed": false
   },
   "outputs": [],
   "source": [
    "alice_dir = joinpath(homedir(), \"julia_projects\",\"Alice\");\n",
    "cd(alice_dir)"
   ]
  },
  {
   "cell_type": "code",
   "execution_count": 8,
   "metadata": {
    "collapsed": false
   },
   "outputs": [
    {
     "data": {
      "text/plain": [
       "\"C:\\\\Users\\\\labor\\\\julia_projects\\\\Alice\""
      ]
     },
     "execution_count": 8,
     "metadata": {},
     "output_type": "execute_result"
    }
   ],
   "source": [
    "pwd()"
   ]
  },
  {
   "cell_type": "markdown",
   "metadata": {},
   "source": [
    "## Запуск команд на исполнение"
   ]
  },
  {
   "cell_type": "markdown",
   "metadata": {},
   "source": [
    "<i class=\"fa fa-linux\" aria-hidden=\"true\"></i>\n",
    "<i class=\"fa fa-apple\" aria-hidden=\"true\"></i>"
   ]
  },
  {
   "cell_type": "code",
   "execution_count": 15,
   "metadata": {
    "collapsed": false
   },
   "outputs": [
    {
     "data": {
      "text/plain": [
       "Cmd"
      ]
     },
     "execution_count": 15,
     "metadata": {},
     "output_type": "execute_result"
    }
   ],
   "source": [
    "# использование обратных кавычек\n",
    "\n",
    "osdate = `date`; \n",
    "typeof(osdate)  # => Cm"
   ]
  },
  {
   "cell_type": "code",
   "execution_count": null,
   "metadata": {
    "collapsed": true
   },
   "outputs": [],
   "source": [
    "run(osdate)  # => Sun 31 Aug 2015 09:26:02 BST"
   ]
  },
  {
   "cell_type": "markdown",
   "metadata": {},
   "source": [
    "<i class=\"fa fa-windows\" aria-hidden=\"true\"></i>"
   ]
  },
  {
   "cell_type": "code",
   "execution_count": 16,
   "metadata": {
    "collapsed": false
   },
   "outputs": [
    {
     "data": {
      "text/plain": [
       "Cmd"
      ]
     },
     "execution_count": 16,
     "metadata": {},
     "output_type": "execute_result"
    }
   ],
   "source": [
    "osdate = `powershell date`; \n",
    "typeof(osdate) # => Cmd"
   ]
  },
  {
   "cell_type": "code",
   "execution_count": 17,
   "metadata": {
    "collapsed": true
   },
   "outputs": [],
   "source": [
    "run(osdate)  "
   ]
  },
  {
   "cell_type": "markdown",
   "metadata": {},
   "source": [
    "<i class=\"fa fa-windows\" aria-hidden=\"true\"></i>\n",
    "<i class=\"fa fa-linux\" aria-hidden=\"true\"></i>\n",
    "<i class=\"fa fa-apple\" aria-hidden=\"true\"></i>"
   ]
  },
  {
   "cell_type": "code",
   "execution_count": 9,
   "metadata": {
    "collapsed": false
   },
   "outputs": [
    {
     "data": {
      "text/plain": [
       "\"C:\\\\Users\\\\labor\\\\julia_projects\\\\Alice\""
      ]
     },
     "execution_count": 9,
     "metadata": {},
     "output_type": "execute_result"
    }
   ],
   "source": [
    "cd(joinpath(homedir(), \"julia_projects\",\"Alice\"))\n",
    "pwd()"
   ]
  },
  {
   "cell_type": "markdown",
   "metadata": {},
   "source": [
    "<i class=\"fa fa-linux\" aria-hidden=\"true\"></i>\n",
    "<i class=\"fa fa-apple\" aria-hidden=\"true\"></i>"
   ]
  },
  {
   "cell_type": "code",
   "execution_count": null,
   "metadata": {
    "collapsed": true
   },
   "outputs": [],
   "source": [
    "ls = readall(`ls –lnoSr`)"
   ]
  },
  {
   "cell_type": "markdown",
   "metadata": {},
   "source": [
    "<i class=\"fa fa-windows\" aria-hidden=\"true\"></i>"
   ]
  },
  {
   "cell_type": "code",
   "execution_count": 20,
   "metadata": {
    "collapsed": false
   },
   "outputs": [
    {
     "data": {
      "text/plain": [
       "\"aged-aged-man.txt\\r\\nfather-william.txt\\r\\nhunting-the-snark.txt\\r\\njabber4.txt\\r\\njabberwocky.txt\\r\\nlobster-quadrille.txt\\r\\nmad-gardeners-song.txt\\r\\nREADME.1st\\r\\nvoice-of-the-lobster.txt\\r\\nwalrus-and-carpenter.txt\\r\\n\""
      ]
     },
     "execution_count": 20,
     "metadata": {},
     "output_type": "execute_result"
    }
   ],
   "source": [
    "ls = readall(`powershell get-childitem -path '.\\' -name '*' -file`)"
   ]
  },
  {
   "cell_type": "markdown",
   "metadata": {},
   "source": [
    "<i class=\"fa fa-windows\" aria-hidden=\"true\"></i>\n",
    "<i class=\"fa fa-linux\" aria-hidden=\"true\"></i>\n",
    "<i class=\"fa fa-apple\" aria-hidden=\"true\"></i>"
   ]
  },
  {
   "cell_type": "code",
   "execution_count": 22,
   "metadata": {
    "collapsed": false
   },
   "outputs": [
    {
     "data": {
      "text/plain": [
       "11-element Array{SubString{ASCIIString},1}:\n",
       " \"aged-aged-man.txt\\r\"       \n",
       " \"father-william.txt\\r\"      \n",
       " \"hunting-the-snark.txt\\r\"   \n",
       " \"jabber4.txt\\r\"             \n",
       " \"jabberwocky.txt\\r\"         \n",
       " \"lobster-quadrille.txt\\r\"   \n",
       " \"mad-gardeners-song.txt\\r\"  \n",
       " \"README.1st\\r\"              \n",
       " \"voice-of-the-lobster.txt\\r\"\n",
       " \"walrus-and-carpenter.txt\\r\"\n",
       " \"\"                          "
      ]
     },
     "execution_count": 22,
     "metadata": {},
     "output_type": "execute_result"
    }
   ],
   "source": [
    "split(ls,\"\\n\")  "
   ]
  },
  {
   "cell_type": "markdown",
   "metadata": {},
   "source": [
    "<i class=\"fa fa-linux\" aria-hidden=\"true\"></i>\n",
    "<i class=\"fa fa-apple\" aria-hidden=\"true\"></i>"
   ]
  },
  {
   "cell_type": "code",
   "execution_count": null,
   "metadata": {
    "collapsed": true
   },
   "outputs": [],
   "source": [
    "open(`cat jabberwocky.txt`,\"r\",STDOUT) do io\n",
    "  for i = 1:4\n",
    "    s = readline(io)\n",
    "    println(reverse(chomp(s)))\n",
    "  end\n",
    "end"
   ]
  },
  {
   "cell_type": "markdown",
   "metadata": {},
   "source": [
    "<i class=\"fa fa-windows\" aria-hidden=\"true\"></i>"
   ]
  },
  {
   "cell_type": "code",
   "execution_count": 23,
   "metadata": {
    "collapsed": false
   },
   "outputs": [
    {
     "name": "stdout",
     "output_type": "stream",
     "text": [
      "sevot yhtils eht dna ,gillirb sawT'\n",
      ":ebaw eht ni elbmig dna eryg diD\n",
      ",sevogorob eht erew ysmim llA\n",
      ".ebargtuo shtar emom eht dnA\n"
     ]
    }
   ],
   "source": [
    "open(`powershell cat jabberwocky.txt`,\"r\",STDOUT) do io\n",
    "  for i = 1:4\n",
    "    s = readline(io)\n",
    "    println(reverse(chomp(s)))\n",
    "  end\n",
    "end"
   ]
  },
  {
   "cell_type": "markdown",
   "metadata": {},
   "source": [
    "<i class=\"fa fa-windows\" aria-hidden=\"true\"></i>\n",
    "<i class=\"fa fa-linux\" aria-hidden=\"true\"></i>\n",
    "<i class=\"fa fa-apple\" aria-hidden=\"true\"></i>"
   ]
  },
  {
   "cell_type": "code",
   "execution_count": 1,
   "metadata": {
    "collapsed": false
   },
   "outputs": [
    {
     "name": "stderr",
     "output_type": "stream",
     "text": [
      "  % Total    % Received % Xferd  Average Speed   Time    Time     Time  Current\n",
      "                                 Dload  Upload   Total   Spent    Left  Speed\n",
      "  0     0    0     0    0     0      0      0 --:--:--  0:00:01 --:--:--     0base64 binary data: Y3VybDogKDYpIENvdWxkIG5vdCByZXNvbHZlIGhvc3Q6IJZMDQoNICAwICAgICAwICAgIDAgICAgIDAgICAgMCAgICAgMCAgICAgIDAgICAgICAwIC0tOi0tOi0tIC0tOi0tOi0tIC0tOi0tOi0tICAgICAw\n",
      "100   178  100   178    0     0    189      0 --:--:-- --:--:-- --:--:--   189\n"
     ]
    },
    {
     "name": "stdout",
     "output_type": "stream",
     "text": [
      "<html>\r\n",
      "\n",
      "<head><title>301 Moved Permanently</title></head>\r\n",
      "\n",
      "<body bgcolor=\"white\">\r\n",
      "\n",
      "<center><h1>301 Moved Permanently</h1></center>\r\n",
      "\n",
      "<hr><center>nginx</center>\r\n",
      "\n",
      "</body>\r\n",
      "\n",
      "</html>\r\n",
      "\n"
     ]
    },
    {
     "ename": "LoadError",
     "evalue": "LoadError: BoundsError: attempt to access 7-element Array{ByteString,1}:\n \"<html>\\r\\n\"                                           \n \"<head><title>301 Moved Permanently</title></head>\\r\\n\"\n \"<body bgcolor=\\\"white\\\">\\r\\n\"                         \n \"<center><h1>301 Moved Permanently</h1></center>\\r\\n\"  \n \"<hr><center>nginx</center>\\r\\n\"                       \n \"</body>\\r\\n\"                                          \n \"</html>\\r\\n\"                                          \n  at index [8]\nwhile loading In[1], in expression starting on line 2",
     "output_type": "error",
     "traceback": [
      "LoadError: BoundsError: attempt to access 7-element Array{ByteString,1}:\n \"<html>\\r\\n\"                                           \n \"<head><title>301 Moved Permanently</title></head>\\r\\n\"\n \"<body bgcolor=\\\"white\\\">\\r\\n\"                         \n \"<center><h1>301 Moved Permanently</h1></center>\\r\\n\"  \n \"<hr><center>nginx</center>\\r\\n\"                       \n \"</body>\\r\\n\"                                          \n \"</html>\\r\\n\"                                          \n  at index [8]\nwhile loading In[1], in expression starting on line 2",
      "",
      " in getindex at array.jl:282",
      " in anonymous at no file"
     ]
    }
   ],
   "source": [
    "jlo = readlines(`curl –L \"http://www.julialang.org\"`);\n",
    "[println(jlo[i]) for i = 1:8];"
   ]
  },
  {
   "cell_type": "markdown",
   "metadata": {},
   "source": [
    "## Работа с файловой системой"
   ]
  },
  {
   "cell_type": "markdown",
   "metadata": {},
   "source": [
    "<i class=\"fa fa-linux\" aria-hidden=\"true\"></i>\n",
    "<i class=\"fa fa-apple\" aria-hidden=\"true\"></i>"
   ]
  },
  {
   "cell_type": "code",
   "execution_count": null,
   "metadata": {
    "collapsed": true
   },
   "outputs": [],
   "source": [
    "run(`wc $(readdir())`)"
   ]
  },
  {
   "cell_type": "markdown",
   "metadata": {},
   "source": [
    "<i class=\"fa fa-windows\" aria-hidden=\"true\"></i>\n",
    "<i class=\"fa fa-linux\" aria-hidden=\"true\"></i>\n",
    "<i class=\"fa fa-apple\" aria-hidden=\"true\"></i>"
   ]
  },
  {
   "cell_type": "code",
   "execution_count": null,
   "metadata": {
    "collapsed": true
   },
   "outputs": [],
   "source": [
    "function filter_re(pat::Regex, dir=\".\")\n",
    "  a = []\n",
    "  for fl in readdir(dir)\n",
    "    ismatch(pat, fl) && push!(a, fl)\n",
    "  end\n",
    "  a\n",
    "end"
   ]
  },
  {
   "cell_type": "markdown",
   "metadata": {},
   "source": [
    "<i class=\"fa fa-linux\" aria-hidden=\"true\"></i>\n",
    "<i class=\"fa fa-apple\" aria-hidden=\"true\"></i>"
   ]
  },
  {
   "cell_type": "code",
   "execution_count": null,
   "metadata": {
    "collapsed": true
   },
   "outputs": [],
   "source": [
    "run(`wc $(filter(r\"the\"))`)"
   ]
  },
  {
   "cell_type": "code",
   "execution_count": null,
   "metadata": {
    "collapsed": true
   },
   "outputs": [],
   "source": [
    "aa = filter_re(r\"^h.*\\.log\"); length(aa) > 0 && run(`wc -l $(aa)`)"
   ]
  },
  {
   "cell_type": "code",
   "execution_count": null,
   "metadata": {
    "collapsed": true
   },
   "outputs": [],
   "source": [
    "aa = filter_re(r\"^h.*\\.txt\"); length(aa) > 0 && run(`wc -l $(aa)`)"
   ]
  },
  {
   "cell_type": "code",
   "execution_count": null,
   "metadata": {
    "collapsed": true
   },
   "outputs": [],
   "source": [
    "run(`find \"/home/Malcolm\" -name \\*.1st`)"
   ]
  },
  {
   "cell_type": "markdown",
   "metadata": {},
   "source": [
    "## Перенаправление ввода-вывода и конвейеры"
   ]
  },
  {
   "cell_type": "markdown",
   "metadata": {},
   "source": [
    "<i class=\"fa fa-linux\" aria-hidden=\"true\"></i>\n",
    "<i class=\"fa fa-apple\" aria-hidden=\"true\"></i>"
   ]
  },
  {
   "cell_type": "code",
   "execution_count": null,
   "metadata": {
    "collapsed": true
   },
   "outputs": [],
   "source": [
    "# устаревшый вариант с оператором |>\n",
    "# run(`echo \"Не паниковать!\"` |> `rev`)\n",
    "\n",
    "run(pipeline(`echo \"Не паниковать!\"`, `rev`))  # => !ьтавокинап еН"
   ]
  },
  {
   "cell_type": "code",
   "execution_count": null,
   "metadata": {
    "collapsed": true
   },
   "outputs": [],
   "source": [
    "pwd();  "
   ]
  },
  {
   "cell_type": "code",
   "execution_count": null,
   "metadata": {
    "collapsed": true
   },
   "outputs": [],
   "source": [
    "wc(f) = isfile(f) && run(`wc $f`);\n",
    "txtfile = \"hunting-the-snark.txt\";\n",
    "logfile = \"hunting-the-snark.log\";\n",
    "run(pipeline(`grep -i beaver $txtfile`, logfile));\n",
    "\n",
    "wc(logfile)"
   ]
  },
  {
   "cell_type": "code",
   "execution_count": null,
   "metadata": {
    "collapsed": true
   },
   "outputs": [],
   "source": [
    "run(`grep -i bellman $txtfile` >> logfile);\n",
    "wc(logfile)"
   ]
  },
  {
   "cell_type": "code",
   "execution_count": null,
   "metadata": {
    "collapsed": true
   },
   "outputs": [],
   "source": [
    "run(`grep -i bellman hunting-the-snark.log` |> `grep -i beaver`)"
   ]
  },
  {
   "cell_type": "markdown",
   "metadata": {},
   "source": [
    "### Однострочники Perl"
   ]
  },
  {
   "cell_type": "markdown",
   "metadata": {},
   "source": [
    "<i class=\"fa fa-linux\" aria-hidden=\"true\"></i>\n",
    "<i class=\"fa fa-apple\" aria-hidden=\"true\"></i>"
   ]
  },
  {
   "cell_type": "code",
   "execution_count": null,
   "metadata": {
    "collapsed": true
   },
   "outputs": [],
   "source": [
    "cp0 = `perl -e 'print reverse <>'`;\n",
    "run(pipeline(`cat jabberwocky.txt`, cp0, `tee jabberwocky.rev`, `head -4`))"
   ]
  },
  {
   "cell_type": "code",
   "execution_count": null,
   "metadata": {
    "collapsed": true
   },
   "outputs": [],
   "source": [
    "run(`find . -name \\*.rev`)  "
   ]
  },
  {
   "cell_type": "code",
   "execution_count": null,
   "metadata": {
    "collapsed": true
   },
   "outputs": [],
   "source": [
    "tfl = \"hunting-the-snark.txt\";\n",
    "cp1 = `perl -pne 'tr/[A-Z]/[a-z]/' $(tfl)`;\n",
    "cp2 = `perl -ne 'print join(\"\\n\", split(/ /,$_)); print(\"\\n\")'`;\n",
    "run(pipeline(cp1, cp2, `sort`, `uniq –c`, `sort –rn`, `head -8`))"
   ]
  },
  {
   "cell_type": "code",
   "execution_count": null,
   "metadata": {
    "collapsed": true
   },
   "outputs": [],
   "source": [
    "run(pipeline(cp1, cp2, `sort`, `uniq –c`, `sort –rn`. `grep bellman`))"
   ]
  },
  {
   "cell_type": "code",
   "execution_count": null,
   "metadata": {
    "collapsed": true
   },
   "outputs": [],
   "source": [
    "tfl = \"walrus-and-carpenter.txt\";\n",
    "ofl = \"walrus-and-carpenter.out\";\n",
    "run(pipeline(`wc $tfl`, `tee $ofl`))"
   ]
  },
  {
   "cell_type": "code",
   "execution_count": null,
   "metadata": {
    "collapsed": true
   },
   "outputs": [],
   "source": [
    "cp0 = `perl -pe 's/(\\d+)/ 1 + $1 /ge' $ofl`;\n",
    "run(cp0)"
   ]
  },
  {
   "cell_type": "code",
   "execution_count": null,
   "metadata": {
    "collapsed": true
   },
   "outputs": [],
   "source": [
    "cp1 = `perl -alne 'print \"@{[reverse @F]}\"'`;\n",
    "run(pipeline(`head -6 $tfl`, cp1))"
   ]
  }
 ],
 "metadata": {
  "kernelspec": {
   "display_name": "Julia 0.4.5",
   "language": "julia",
   "name": "julia-0.4"
  },
  "language_info": {
   "file_extension": ".jl",
   "mimetype": "application/julia",
   "name": "julia",
   "version": "0.4.5"
  }
 },
 "nbformat": 4,
 "nbformat_minor": 0
}
